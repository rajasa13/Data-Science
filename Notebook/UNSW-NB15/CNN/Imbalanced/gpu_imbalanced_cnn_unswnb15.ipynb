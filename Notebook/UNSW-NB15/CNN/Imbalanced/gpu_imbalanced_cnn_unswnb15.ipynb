{
 "cells": [
  {
   "cell_type": "markdown",
   "metadata": {},
   "source": [
    "# Data Preprocessing"
   ]
  },
  {
   "cell_type": "code",
   "execution_count": 1,
   "metadata": {},
   "outputs": [],
   "source": [
    "import tensorflow as tf\n",
    "from keras.models import Sequential\n",
    "from keras.layers import Conv1D, MaxPooling1D, Flatten, Dense, Dropout, BatchNormalization\n",
    "from keras.metrics import Recall"
   ]
  },
  {
   "cell_type": "code",
   "execution_count": 2,
   "metadata": {},
   "outputs": [
    {
     "name": "stdout",
     "output_type": "stream",
     "text": [
      "Num GPUs Available:  1\n"
     ]
    }
   ],
   "source": [
    "#Check GPU device available\n",
    "print('Num GPUs Available: ', len(tf.config.list_physical_devices('GPU')))"
   ]
  },
  {
   "cell_type": "code",
   "execution_count": 3,
   "metadata": {},
   "outputs": [],
   "source": [
    "import pandas as pd\n",
    "import matplotlib.pyplot as plt\n",
    "import seaborn as sns\n",
    "import numpy as np"
   ]
  },
  {
   "cell_type": "code",
   "execution_count": 4,
   "metadata": {},
   "outputs": [],
   "source": [
    "# Load dataset\n",
    "data_train = pd.read_csv('/Data/Visual Studio Code/Data Science/Dataset/UNSW-NB15/UNSW_NB15_training-set.csv')\n",
    "data_test = pd.read_csv('/Data/Visual Studio Code/Data Science/Dataset/UNSW-NB15/UNSW_NB15_testing-set.csv')"
   ]
  },
  {
   "cell_type": "code",
   "execution_count": 5,
   "metadata": {},
   "outputs": [],
   "source": [
    "# Handle missing value and duplicate if any\n",
    "data_train.dropna(inplace=True)\n",
    "data_train.drop_duplicates(inplace=True)\n",
    "\n",
    "data_test.dropna(inplace=True)\n",
    "data_test.drop_duplicates(inplace=True)"
   ]
  },
  {
   "cell_type": "code",
   "execution_count": 6,
   "metadata": {},
   "outputs": [],
   "source": [
    "#Split Attack and Normal from dataframe\n",
    "data_train_attack = data_train[data_train['label'] == 1]\n",
    "data_test_attack = data_test[data_test['label'] == 1]\n",
    "\n",
    "#Optional\n",
    "#data_train_normal = data_train[data_train['label'] == 0]\n",
    "#data_test_normal = data_test[data_test['label'] == 0]"
   ]
  },
  {
   "cell_type": "code",
   "execution_count": 7,
   "metadata": {},
   "outputs": [],
   "source": [
    "# Drop id and label from train and test data\n",
    "data_train_attack = data_train_attack.drop('id', axis=1)\n",
    "data_train_attack = data_train_attack.drop('label', axis=1)\n",
    "\n",
    "data_test_attack = data_test_attack.drop('id', axis=1)\n",
    "data_test_attack = data_test_attack.drop('label', axis=1)"
   ]
  },
  {
   "cell_type": "code",
   "execution_count": 8,
   "metadata": {},
   "outputs": [
    {
     "name": "stdout",
     "output_type": "stream",
     "text": [
      "6\n",
      "5\n"
     ]
    }
   ],
   "source": [
    "print(data_train_attack['state'].nunique())\n",
    "print(data_test_attack['state'].nunique())"
   ]
  },
  {
   "cell_type": "code",
   "execution_count": 9,
   "metadata": {},
   "outputs": [
    {
     "name": "stdout",
     "output_type": "stream",
     "text": [
      "['INT' 'FIN' 'ACC' 'CON' 'REQ' 'CLO']\n",
      "['INT' 'FIN' 'CON' 'REQ' 'RST']\n"
     ]
    }
   ],
   "source": [
    "print(data_train_attack['state'].unique())\n",
    "print(data_test_attack['state'].unique())"
   ]
  },
  {
   "cell_type": "code",
   "execution_count": 10,
   "metadata": {},
   "outputs": [],
   "source": [
    "#Drop ACC, CLO, and RST from data\n",
    "data_train_attack = data_train_attack[(data_train_attack['state'] != 'ACC') & (data_train_attack['state'] != 'CLO')]\n",
    "data_test_attack = data_test_attack[(data_test_attack['state'] != 'RST')]"
   ]
  },
  {
   "cell_type": "code",
   "execution_count": 11,
   "metadata": {},
   "outputs": [
    {
     "name": "stdout",
     "output_type": "stream",
     "text": [
      "['INT' 'FIN' 'CON' 'REQ']\n",
      "['INT' 'FIN' 'CON' 'REQ']\n"
     ]
    }
   ],
   "source": [
    "print(data_train_attack['state'].unique())\n",
    "print(data_test_attack['state'].unique())"
   ]
  },
  {
   "cell_type": "markdown",
   "metadata": {},
   "source": [
    "## Encode Train and Test Data"
   ]
  },
  {
   "cell_type": "code",
   "execution_count": 12,
   "metadata": {},
   "outputs": [
    {
     "data": {
      "text/plain": [
       "['proto', 'state', 'service']"
      ]
     },
     "execution_count": 12,
     "metadata": {},
     "output_type": "execute_result"
    }
   ],
   "source": [
    "#column to encode\n",
    "cols = ['proto','state','service']\n",
    "cols"
   ]
  },
  {
   "cell_type": "code",
   "execution_count": 13,
   "metadata": {},
   "outputs": [],
   "source": [
    "#One-hot Encoding\n",
    "# Encode train data\n",
    "data_train_attack = pd.get_dummies(data_train_attack, columns=cols)\n",
    "\n",
    "# Encode test data\n",
    "data_test_attack = pd.get_dummies(data_test_attack, columns=cols)"
   ]
  },
  {
   "cell_type": "code",
   "execution_count": 14,
   "metadata": {},
   "outputs": [],
   "source": [
    "train_attack_cat = data_train_attack.pop('attack_cat')\n",
    "test_attack_cat = data_test_attack.pop('attack_cat')"
   ]
  },
  {
   "cell_type": "markdown",
   "metadata": {},
   "source": [
    "## Normalization"
   ]
  },
  {
   "cell_type": "code",
   "execution_count": 15,
   "metadata": {},
   "outputs": [],
   "source": [
    "# Min-Max Normalization\n",
    "from sklearn.preprocessing import MinMaxScaler\n",
    "\n",
    "scaler = MinMaxScaler()\n",
    "cols_to_norm = ['dur', 'spkts', 'dpkts', 'sbytes', 'dbytes', 'rate', 'sttl', 'dttl', 'sload', \n",
    "                'dload', 'sloss', 'dloss', 'sinpkt', 'dinpkt', 'sjit', 'djit', 'swin', 'stcpb', 'dtcpb', 'dwin', 'tcprtt', 'synack', \n",
    "                'ackdat', 'smean', 'dmean', 'trans_depth', 'response_body_len', 'ct_srv_src', 'ct_state_ttl', 'ct_dst_ltm', \n",
    "                'ct_src_dport_ltm', 'ct_dst_sport_ltm', 'ct_dst_src_ltm', 'is_ftp_login', 'ct_ftp_cmd', 'ct_flw_http_mthd', 'ct_src_ltm', \n",
    "                'ct_srv_dst', 'is_sm_ips_ports']\n",
    "\n",
    "data_train_attack[cols_to_norm] = scaler.fit_transform(data_train_attack[cols_to_norm])\n",
    "data_test_attack[cols_to_norm] = scaler.fit_transform(data_test_attack[cols_to_norm])"
   ]
  },
  {
   "cell_type": "markdown",
   "metadata": {},
   "source": [
    "## Feature Selection"
   ]
  },
  {
   "cell_type": "code",
   "execution_count": 16,
   "metadata": {},
   "outputs": [
    {
     "data": {
      "text/plain": [
       "dur               float64\n",
       "spkts             float64\n",
       "dpkts             float64\n",
       "sbytes            float64\n",
       "dbytes            float64\n",
       "                   ...   \n",
       "service_radius       bool\n",
       "service_smtp         bool\n",
       "service_snmp         bool\n",
       "service_ssh          bool\n",
       "service_ssl          bool\n",
       "Length: 181, dtype: object"
      ]
     },
     "execution_count": 16,
     "metadata": {},
     "output_type": "execute_result"
    }
   ],
   "source": [
    "#Feature Selection\n",
    "feature = data_train_attack.drop(['dinpkt', 'ct_ftp_cmd', 'ct_src_dport_ltm', 'is_sm_ips_ports'], axis=1)\n",
    "feature.dtypes"
   ]
  },
  {
   "cell_type": "markdown",
   "metadata": {},
   "source": [
    "# Split Data"
   ]
  },
  {
   "cell_type": "code",
   "execution_count": 17,
   "metadata": {},
   "outputs": [
    {
     "data": {
      "text/plain": [
       "((45329, 181), (45329,), (119329, 181), (119329,))"
      ]
     },
     "execution_count": 17,
     "metadata": {},
     "output_type": "execute_result"
    }
   ],
   "source": [
    "#Splitting the dataset into dependent and independent feature\n",
    "X_train = feature\n",
    "y_train = train_attack_cat\n",
    "\n",
    "X_test = data_test_attack.drop(columns=['dinpkt', 'ct_ftp_cmd', 'ct_src_dport_ltm', 'is_sm_ips_ports'])\n",
    "y_test = test_attack_cat\n",
    "\n",
    "X_train.shape, y_train.shape, X_test.shape, y_test.shape"
   ]
  },
  {
   "cell_type": "markdown",
   "metadata": {},
   "source": [
    "# Model Architecture"
   ]
  },
  {
   "cell_type": "markdown",
   "metadata": {},
   "source": [
    "## 1D-CNN (2 layer) Model"
   ]
  },
  {
   "cell_type": "code",
   "execution_count": 18,
   "metadata": {},
   "outputs": [],
   "source": [
    "# Define the input shape\n",
    "input_shape = (181, 1)\n",
    "\n",
    "# Create the sequential model\n",
    "model = Sequential()\n",
    "\n",
    "# Convolutional layers\n",
    "model.add(Conv1D(filters=32, kernel_size=5, activation='sigmoid', input_shape=input_shape))\n",
    "model.add(Conv1D(filters=32, kernel_size=5, activation='sigmoid'))\n",
    "\n",
    "# MaxPooling1D layer\n",
    "model.add(MaxPooling1D(pool_size=2, strides=1))\n",
    "\n",
    "# Flatten layer\n",
    "model.add(Flatten())\n",
    "\n",
    "# Batch Normalization layer\n",
    "model.add(BatchNormalization(axis=-1))\n",
    "\n",
    "# Dropout layer with dropout 0.5\n",
    "model.add(Dropout(0.5))\n",
    "\n",
    "# Two Fully-connected layers\n",
    "model.add(Dense(32, activation='relu'))\n",
    "model.add(Dense(16, activation='relu'))\n",
    "\n",
    "# Output\n",
    "model.add(Dense(units=9, activation='softmax'))\n",
    "\n",
    "# Compile the model\n",
    "model.compile(optimizer='adam', loss='categorical_crossentropy', metrics=['accuracy', Recall()])"
   ]
  },
  {
   "cell_type": "code",
   "execution_count": 19,
   "metadata": {},
   "outputs": [
    {
     "name": "stdout",
     "output_type": "stream",
     "text": [
      "Model: \"sequential\"\n",
      "_________________________________________________________________\n",
      " Layer (type)                Output Shape              Param #   \n",
      "=================================================================\n",
      " conv1d (Conv1D)             (None, 177, 32)           192       \n",
      "                                                                 \n",
      " conv1d_1 (Conv1D)           (None, 173, 32)           5152      \n",
      "                                                                 \n",
      " max_pooling1d (MaxPooling1D  (None, 172, 32)          0         \n",
      " )                                                               \n",
      "                                                                 \n",
      " flatten (Flatten)           (None, 5504)              0         \n",
      "                                                                 \n",
      " batch_normalization (BatchN  (None, 5504)             22016     \n",
      " ormalization)                                                   \n",
      "                                                                 \n",
      " dropout (Dropout)           (None, 5504)              0         \n",
      "                                                                 \n",
      " dense (Dense)               (None, 32)                176160    \n",
      "                                                                 \n",
      " dense_1 (Dense)             (None, 16)                528       \n",
      "                                                                 \n",
      " dense_2 (Dense)             (None, 9)                 153       \n",
      "                                                                 \n",
      "=================================================================\n",
      "Total params: 204,201\n",
      "Trainable params: 193,193\n",
      "Non-trainable params: 11,008\n",
      "_________________________________________________________________\n"
     ]
    }
   ],
   "source": [
    "#Print the model summary\n",
    "model.summary()"
   ]
  },
  {
   "cell_type": "markdown",
   "metadata": {},
   "source": [
    "## Train the model"
   ]
  },
  {
   "cell_type": "code",
   "execution_count": 20,
   "metadata": {},
   "outputs": [],
   "source": [
    "from keras.utils import to_categorical\n",
    "from sklearn.preprocessing import LabelEncoder"
   ]
  },
  {
   "cell_type": "code",
   "execution_count": 21,
   "metadata": {},
   "outputs": [],
   "source": [
    "le = LabelEncoder()\n",
    "\n",
    "y_train = le.fit_transform(y_train)\n",
    "y_test = le.fit_transform(y_test)"
   ]
  },
  {
   "cell_type": "code",
   "execution_count": 22,
   "metadata": {},
   "outputs": [],
   "source": [
    "num_class = 9\n",
    "y_train = to_categorical(y_train, num_class)\n",
    "y_test = to_categorical(y_test, num_class)"
   ]
  },
  {
   "cell_type": "code",
   "execution_count": 23,
   "metadata": {},
   "outputs": [],
   "source": [
    "X_train = np.array(X_train, dtype=np.float32)\n",
    "X_test = np.array(X_test, dtype=np.float32)"
   ]
  },
  {
   "cell_type": "code",
   "execution_count": 24,
   "metadata": {},
   "outputs": [
    {
     "name": "stdout",
     "output_type": "stream",
     "text": [
      "Epoch 1/50\n",
      "1417/1417 [==============================] - 24s 15ms/step - loss: 0.7045 - accuracy: 0.7424 - recall: 0.6374 - val_loss: 1.1661 - val_accuracy: 0.6556 - val_recall: 0.5750\n",
      "Epoch 2/50\n",
      "1417/1417 [==============================] - 22s 15ms/step - loss: 0.6194 - accuracy: 0.7628 - recall: 0.6707 - val_loss: 0.8456 - val_accuracy: 0.7023 - val_recall: 0.5989\n",
      "Epoch 3/50\n",
      "1417/1417 [==============================] - 22s 16ms/step - loss: 0.6011 - accuracy: 0.7682 - recall: 0.6778 - val_loss: 1.7011 - val_accuracy: 0.5618 - val_recall: 0.5479\n",
      "Epoch 4/50\n",
      "1417/1417 [==============================] - 22s 16ms/step - loss: 0.5926 - accuracy: 0.7715 - recall: 0.6829 - val_loss: 2.4871 - val_accuracy: 0.2965 - val_recall: 0.2796\n",
      "Epoch 5/50\n",
      "1417/1417 [==============================] - 22s 16ms/step - loss: 0.5825 - accuracy: 0.7739 - recall: 0.6862 - val_loss: 1.9778 - val_accuracy: 0.3271 - val_recall: 0.2547\n",
      "Epoch 6/50\n",
      "1417/1417 [==============================] - 22s 16ms/step - loss: 0.5755 - accuracy: 0.7765 - recall: 0.6892 - val_loss: 0.9836 - val_accuracy: 0.6413 - val_recall: 0.5702\n",
      "Epoch 7/50\n",
      "1417/1417 [==============================] - 22s 15ms/step - loss: 0.5686 - accuracy: 0.7789 - recall: 0.6934 - val_loss: 1.8856 - val_accuracy: 0.5877 - val_recall: 0.5810\n",
      "Epoch 8/50\n",
      "1417/1417 [==============================] - 22s 15ms/step - loss: 0.5646 - accuracy: 0.7793 - recall: 0.6936 - val_loss: 12.8914 - val_accuracy: 0.4079 - val_recall: 0.4079\n",
      "Epoch 9/50\n",
      "1417/1417 [==============================] - 22s 15ms/step - loss: 0.5643 - accuracy: 0.7798 - recall: 0.6939 - val_loss: 4.0565 - val_accuracy: 0.4803 - val_recall: 0.4784\n",
      "Epoch 10/50\n",
      "1417/1417 [==============================] - 22s 16ms/step - loss: 0.5566 - accuracy: 0.7833 - recall: 0.6990 - val_loss: 1.6453 - val_accuracy: 0.6518 - val_recall: 0.6350\n",
      "Epoch 11/50\n",
      "1417/1417 [==============================] - 22s 16ms/step - loss: 0.5537 - accuracy: 0.7837 - recall: 0.6989 - val_loss: 5.3956 - val_accuracy: 0.4667 - val_recall: 0.4664\n",
      "Epoch 12/50\n",
      "1417/1417 [==============================] - 23s 16ms/step - loss: 0.5485 - accuracy: 0.7858 - recall: 0.7027 - val_loss: 0.9905 - val_accuracy: 0.6649 - val_recall: 0.5972\n",
      "Epoch 13/50\n",
      "1417/1417 [==============================] - 23s 16ms/step - loss: 0.5455 - accuracy: 0.7861 - recall: 0.7020 - val_loss: 0.8275 - val_accuracy: 0.7124 - val_recall: 0.5875\n",
      "Epoch 14/50\n",
      "1417/1417 [==============================] - 22s 16ms/step - loss: 0.5449 - accuracy: 0.7859 - recall: 0.7017 - val_loss: 12.1678 - val_accuracy: 0.1028 - val_recall: 0.1028\n",
      "Epoch 15/50\n",
      "1417/1417 [==============================] - 22s 16ms/step - loss: 0.5436 - accuracy: 0.7866 - recall: 0.7041 - val_loss: 3.8364 - val_accuracy: 0.3471 - val_recall: 0.3459\n",
      "Epoch 16/50\n",
      "1417/1417 [==============================] - 23s 16ms/step - loss: 0.5389 - accuracy: 0.7884 - recall: 0.7047 - val_loss: 5.7001 - val_accuracy: 0.1809 - val_recall: 0.1707\n",
      "Epoch 17/50\n",
      "1417/1417 [==============================] - 23s 16ms/step - loss: 0.5368 - accuracy: 0.7895 - recall: 0.7050 - val_loss: 4.8460 - val_accuracy: 0.4961 - val_recall: 0.4951\n",
      "Epoch 18/50\n",
      "1417/1417 [==============================] - 23s 16ms/step - loss: 0.5370 - accuracy: 0.7893 - recall: 0.7071 - val_loss: 1.6984 - val_accuracy: 0.5242 - val_recall: 0.5024\n",
      "Epoch 19/50\n",
      "1417/1417 [==============================] - 23s 16ms/step - loss: 0.5341 - accuracy: 0.7891 - recall: 0.7066 - val_loss: 0.8758 - val_accuracy: 0.6953 - val_recall: 0.6065\n",
      "Epoch 20/50\n",
      "1417/1417 [==============================] - 22s 16ms/step - loss: 0.5323 - accuracy: 0.7911 - recall: 0.7083 - val_loss: 2.9356 - val_accuracy: 0.4874 - val_recall: 0.4832\n",
      "Epoch 21/50\n",
      "1417/1417 [==============================] - 23s 16ms/step - loss: 0.5299 - accuracy: 0.7907 - recall: 0.7084 - val_loss: 1.8713 - val_accuracy: 0.6209 - val_recall: 0.5932\n",
      "Epoch 22/50\n",
      "1417/1417 [==============================] - 22s 16ms/step - loss: 0.5301 - accuracy: 0.7913 - recall: 0.7080 - val_loss: 1.3798 - val_accuracy: 0.6171 - val_recall: 0.5783\n",
      "Epoch 23/50\n",
      "1417/1417 [==============================] - 22s 16ms/step - loss: 0.5276 - accuracy: 0.7918 - recall: 0.7105 - val_loss: 1.2711 - val_accuracy: 0.6627 - val_recall: 0.5251\n",
      "Epoch 24/50\n",
      "1417/1417 [==============================] - 23s 16ms/step - loss: 0.5261 - accuracy: 0.7920 - recall: 0.7080 - val_loss: 4.7890 - val_accuracy: 0.4373 - val_recall: 0.4372\n",
      "Epoch 25/50\n",
      "1417/1417 [==============================] - 22s 16ms/step - loss: 0.5267 - accuracy: 0.7926 - recall: 0.7112 - val_loss: 0.8023 - val_accuracy: 0.7177 - val_recall: 0.6112\n",
      "Epoch 26/50\n",
      "1417/1417 [==============================] - 23s 16ms/step - loss: 0.5244 - accuracy: 0.7917 - recall: 0.7092 - val_loss: 1.2948 - val_accuracy: 0.6282 - val_recall: 0.5728\n",
      "Epoch 27/50\n",
      "1417/1417 [==============================] - 23s 16ms/step - loss: 0.5240 - accuracy: 0.7933 - recall: 0.7145 - val_loss: 3.6642 - val_accuracy: 0.5643 - val_recall: 0.5590\n",
      "Epoch 28/50\n",
      "1417/1417 [==============================] - 23s 16ms/step - loss: 0.5230 - accuracy: 0.7909 - recall: 0.7121 - val_loss: 2.3492 - val_accuracy: 0.5157 - val_recall: 0.5085\n",
      "Epoch 29/50\n",
      "1417/1417 [==============================] - 23s 16ms/step - loss: 0.5234 - accuracy: 0.7938 - recall: 0.7122 - val_loss: 1.1046 - val_accuracy: 0.6313 - val_recall: 0.5558\n",
      "Epoch 30/50\n",
      "1417/1417 [==============================] - 22s 16ms/step - loss: 0.5227 - accuracy: 0.7917 - recall: 0.7110 - val_loss: 1.4039 - val_accuracy: 0.5257 - val_recall: 0.4385\n",
      "Epoch 31/50\n",
      "1417/1417 [==============================] - 22s 16ms/step - loss: 0.5213 - accuracy: 0.7919 - recall: 0.7113 - val_loss: 0.8183 - val_accuracy: 0.7317 - val_recall: 0.6214\n",
      "Epoch 32/50\n",
      "1417/1417 [==============================] - 23s 16ms/step - loss: 0.5201 - accuracy: 0.7926 - recall: 0.7127 - val_loss: 2.2931 - val_accuracy: 0.5573 - val_recall: 0.5475\n",
      "Epoch 33/50\n",
      "1417/1417 [==============================] - 22s 15ms/step - loss: 0.5163 - accuracy: 0.7935 - recall: 0.7136 - val_loss: 1.0239 - val_accuracy: 0.6717 - val_recall: 0.5618\n",
      "Epoch 34/50\n",
      "1417/1417 [==============================] - 22s 16ms/step - loss: 0.5151 - accuracy: 0.7947 - recall: 0.7144 - val_loss: 1.0000 - val_accuracy: 0.6676 - val_recall: 0.6238\n",
      "Epoch 35/50\n",
      "1417/1417 [==============================] - 23s 16ms/step - loss: 0.5176 - accuracy: 0.7937 - recall: 0.7139 - val_loss: 12.4542 - val_accuracy: 0.1037 - val_recall: 0.1037\n",
      "Epoch 36/50\n",
      "1417/1417 [==============================] - 23s 16ms/step - loss: 0.5147 - accuracy: 0.7954 - recall: 0.7143 - val_loss: 0.9057 - val_accuracy: 0.6808 - val_recall: 0.6106\n",
      "Epoch 37/50\n",
      "1417/1417 [==============================] - 23s 16ms/step - loss: 0.5153 - accuracy: 0.7930 - recall: 0.7136 - val_loss: 2.6233 - val_accuracy: 0.5298 - val_recall: 0.5142\n",
      "Epoch 38/50\n",
      "1417/1417 [==============================] - 23s 16ms/step - loss: 0.5158 - accuracy: 0.7955 - recall: 0.7140 - val_loss: 1.3071 - val_accuracy: 0.6393 - val_recall: 0.5547\n",
      "Epoch 39/50\n",
      "1417/1417 [==============================] - 22s 15ms/step - loss: 0.5134 - accuracy: 0.7960 - recall: 0.7156 - val_loss: 1.7940 - val_accuracy: 0.5491 - val_recall: 0.5162\n",
      "Epoch 40/50\n",
      "1417/1417 [==============================] - 23s 16ms/step - loss: 0.5118 - accuracy: 0.7948 - recall: 0.7151 - val_loss: 1.7609 - val_accuracy: 0.5541 - val_recall: 0.4953\n",
      "Epoch 41/50\n",
      "1417/1417 [==============================] - 22s 16ms/step - loss: 0.5118 - accuracy: 0.7953 - recall: 0.7156 - val_loss: 2.5871 - val_accuracy: 0.3408 - val_recall: 0.3219\n",
      "Epoch 42/50\n",
      "1417/1417 [==============================] - 22s 16ms/step - loss: 0.5110 - accuracy: 0.7977 - recall: 0.7180 - val_loss: 0.7537 - val_accuracy: 0.7580 - val_recall: 0.6248\n",
      "Epoch 43/50\n",
      "1417/1417 [==============================] - 23s 16ms/step - loss: 0.5094 - accuracy: 0.7951 - recall: 0.7182 - val_loss: 0.7665 - val_accuracy: 0.7569 - val_recall: 0.6582\n",
      "Epoch 44/50\n",
      "1417/1417 [==============================] - 22s 16ms/step - loss: 0.5101 - accuracy: 0.7968 - recall: 0.7181 - val_loss: 2.8883 - val_accuracy: 0.5124 - val_recall: 0.5096\n",
      "Epoch 45/50\n",
      "1417/1417 [==============================] - 22s 16ms/step - loss: 0.5084 - accuracy: 0.7952 - recall: 0.7197 - val_loss: 0.8888 - val_accuracy: 0.7535 - val_recall: 0.6590\n",
      "Epoch 46/50\n",
      "1417/1417 [==============================] - 23s 16ms/step - loss: 0.5093 - accuracy: 0.7961 - recall: 0.7194 - val_loss: 2.6361 - val_accuracy: 0.4887 - val_recall: 0.4655\n",
      "Epoch 47/50\n",
      "1417/1417 [==============================] - 23s 16ms/step - loss: 0.5083 - accuracy: 0.7967 - recall: 0.7191 - val_loss: 2.5574 - val_accuracy: 0.4856 - val_recall: 0.4767\n",
      "Epoch 48/50\n",
      "1417/1417 [==============================] - 22s 16ms/step - loss: 0.5068 - accuracy: 0.7978 - recall: 0.7198 - val_loss: 2.0651 - val_accuracy: 0.4705 - val_recall: 0.3848\n",
      "Epoch 49/50\n",
      "1417/1417 [==============================] - 22s 16ms/step - loss: 0.5057 - accuracy: 0.7987 - recall: 0.7204 - val_loss: 0.9814 - val_accuracy: 0.6719 - val_recall: 0.5877\n",
      "Epoch 50/50\n",
      "1417/1417 [==============================] - 23s 16ms/step - loss: 0.5071 - accuracy: 0.7973 - recall: 0.7206 - val_loss: 3.2839 - val_accuracy: 0.3484 - val_recall: 0.3361\n"
     ]
    }
   ],
   "source": [
    "#Define epochs and batch size\n",
    "epochs = 50\n",
    "batch_size = 32\n",
    "\n",
    "#Train the model\n",
    "history = model.fit(X_train, y_train, epochs=epochs, batch_size=batch_size, validation_data=(X_test, y_test))"
   ]
  },
  {
   "cell_type": "markdown",
   "metadata": {},
   "source": [
    "## Evaluate The Model"
   ]
  },
  {
   "cell_type": "code",
   "execution_count": 25,
   "metadata": {},
   "outputs": [
    {
     "name": "stdout",
     "output_type": "stream",
     "text": [
      "3730/3730 [==============================] - 17s 4ms/step - loss: 3.2839 - accuracy: 0.3484 - recall: 0.3361\n",
      "Test Loss: 3.2838664054870605\n",
      "Test Accuracy: 0.34838974475860596\n",
      "Test Recall: 0.3361043930053711\n"
     ]
    }
   ],
   "source": [
    "#Evaluate the model on test data\n",
    "loss, accuracy, recall = model.evaluate(X_test, y_test)\n",
    "print('Test Loss:', loss)\n",
    "print('Test Accuracy:', accuracy)\n",
    "print('Test Recall:', recall)"
   ]
  },
  {
   "cell_type": "code",
   "execution_count": 26,
   "metadata": {},
   "outputs": [
    {
     "name": "stdout",
     "output_type": "stream",
     "text": [
      "3730/3730 [==============================] - 7s 2ms/step\n"
     ]
    }
   ],
   "source": [
    "# make a predictions\n",
    "predictions = model.predict(X_test)"
   ]
  },
  {
   "cell_type": "code",
   "execution_count": 27,
   "metadata": {},
   "outputs": [],
   "source": [
    "# convert one-hot encode predictions to class labels\n",
    "predicted_classes = np.argmax(predictions, axis=1)\n",
    "y_test_categorical = np.argmax(y_test, axis=1)"
   ]
  },
  {
   "cell_type": "markdown",
   "metadata": {},
   "source": [
    "### Confusion Matrix"
   ]
  },
  {
   "cell_type": "code",
   "execution_count": 28,
   "metadata": {},
   "outputs": [],
   "source": [
    "# function to calculate recall from confusion matrix\n",
    "def calculate_recall(confusion_matrix):\n",
    "    num_class = len(confusion_matrix)\n",
    "    recalls = []\n",
    "\n",
    "    for i in range(num_class):\n",
    "        true_positive = confusion_matrix[i][i]\n",
    "        false_negative = sum(confusion_matrix[i]) - true_positive\n",
    "\n",
    "        recall = true_positive / (true_positive + false_negative)\n",
    "        recalls.append(recall)\n",
    "    \n",
    "    return recalls"
   ]
  },
  {
   "cell_type": "code",
   "execution_count": 29,
   "metadata": {},
   "outputs": [],
   "source": [
    "# function to display the recall score\n",
    "def display_recall(recalls):\n",
    "    print('Recall Scores for each class:')\n",
    "    print('Analysis:', recalls[0])\n",
    "    print('Backdoor:', recalls[1])\n",
    "    print('DoS:', recalls[2])\n",
    "    print('Exploits:', recalls[3])\n",
    "    print('Fuzzers:', recalls[4])\n",
    "    print('Generic:', recalls[5])\n",
    "    print('Reconnaissance:', recalls[6])\n",
    "    print('Shellcode:', recalls[7])\n",
    "    print('Worms:', recalls[8])"
   ]
  },
  {
   "cell_type": "code",
   "execution_count": 30,
   "metadata": {},
   "outputs": [],
   "source": [
    "from sklearn.metrics import confusion_matrix"
   ]
  },
  {
   "cell_type": "code",
   "execution_count": 31,
   "metadata": {},
   "outputs": [],
   "source": [
    "matrix = confusion_matrix(y_test_categorical, predicted_classes)\n",
    "matrix_df = pd.DataFrame(matrix, \n",
    "                         index= ['Analysis', 'Backdoor', 'DoS', 'Exploits', 'Fuzzers', 'Generic', 'Reconnaissance', 'Shellcode', 'Worms'], \n",
    "                         columns= ['Analysis', 'Backdoor', 'DoS', 'Exploits', 'Fuzzers', 'Generic', 'Reconnaissance', 'Shellcode', 'Worms'])"
   ]
  },
  {
   "cell_type": "code",
   "execution_count": 32,
   "metadata": {},
   "outputs": [
    {
     "data": {
      "image/png": "[encoded data removed]",
      "text/plain": [
       "<Figure size 2000x2000 with 2 Axes>"
      ]
     },
     "metadata": {},
     "output_type": "display_data"
    }
   ],
   "source": [
    "# Plotting Confusion Matrix\n",
    "plt.figure(figsize = (20, 20))\n",
    "sns.heatmap(matrix_df, fmt='.0f', annot=True)\n",
    "plt.title('Confusion Matrix (1D CNN)')\n",
    "plt.ylabel('Actual Values')\n",
    "plt.xlabel('Predicted Values')\n",
    "plt.show()"
   ]
  },
  {
   "cell_type": "code",
   "execution_count": 33,
   "metadata": {},
   "outputs": [
    {
     "name": "stdout",
     "output_type": "stream",
     "text": [
      "Recall Scores for each class:\n",
      "Analysis: 0.006\n",
      "Backdoor: 0.0\n",
      "DoS: 0.0004077638231936063\n",
      "Exploits: 0.09240400167734979\n",
      "Fuzzers: 0.6906621205455346\n",
      "Generic: 0.647691192279807\n",
      "Reconnaissance: 0.0004766898655734579\n",
      "Shellcode: 0.0\n",
      "Worms: 0.0\n"
     ]
    }
   ],
   "source": [
    "recalls = calculate_recall(matrix)\n",
    "display_recall(recalls)"
   ]
  },
  {
   "cell_type": "markdown",
   "metadata": {},
   "source": [
    "## Save and load the model"
   ]
  },
  {
   "cell_type": "code",
   "execution_count": 34,
   "metadata": {},
   "outputs": [],
   "source": [
    "from keras.models import load_model"
   ]
  },
  {
   "cell_type": "code",
   "execution_count": 35,
   "metadata": {},
   "outputs": [],
   "source": [
    "# save the 1D CNN trained model using keras\n",
    "model.save('/Data/Visual Studio Code/Data Science/Notebook/UNSW-NB15/CNN/Imbalanced/GPU_Saved/CNN_0/cnn1d.keras')"
   ]
  },
  {
   "cell_type": "code",
   "execution_count": 36,
   "metadata": {},
   "outputs": [],
   "source": [
    "# load the 1D CNN trained model using keras\n",
    "model = load_model('/Data/Visual Studio Code/Data Science/Notebook/UNSW-NB15/CNN/Imbalanced/GPU_Saved/CNN_0/cnn1d.keras')"
   ]
  },
  {
   "cell_type": "markdown",
   "metadata": {},
   "source": [
    "## Save and load the predicted"
   ]
  },
  {
   "cell_type": "code",
   "execution_count": 37,
   "metadata": {},
   "outputs": [],
   "source": [
    "import pickle"
   ]
  },
  {
   "cell_type": "code",
   "execution_count": 38,
   "metadata": {},
   "outputs": [],
   "source": [
    "# save the decision tree trained model\n",
    "with open('/Data/Visual Studio Code/Data Science/Notebook/UNSW-NB15/CNN/Imbalanced/GPU_Saved/CNN_0/predicted_classes.pkl', 'wb') as model_file:\n",
    "    pickle.dump(predicted_classes, model_file)"
   ]
  },
  {
   "cell_type": "code",
   "execution_count": 39,
   "metadata": {},
   "outputs": [],
   "source": [
    "# load the decision tree trained model\n",
    "with open('/Data/Visual Studio Code/Data Science/Notebook/UNSW-NB15/CNN/Imbalanced/GPU_Saved/CNN_0/predicted_classes.pkl', 'rb') as model_file:\n",
    "    predicted_classes = pickle.load(model_file)"
   ]
  }
 ],
 "metadata": {
  "kernelspec": {
   "display_name": "myenv",
   "language": "python",
   "name": "python3"
  },
  "language_info": {
   "codemirror_mode": {
    "name": "ipython",
    "version": 3
   },
   "file_extension": ".py",
   "mimetype": "text/x-python",
   "name": "python",
   "nbconvert_exporter": "python",
   "pygments_lexer": "ipython3",
   "version": "3.10.13"
  },
  "orig_nbformat": 4
 },
 "nbformat": 4,
 "nbformat_minor": 2
}
