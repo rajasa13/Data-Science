{
 "cells": [
  {
   "cell_type": "markdown",
   "metadata": {},
   "source": [
    "# Data Preprocessing"
   ]
  },
  {
   "cell_type": "code",
   "execution_count": 1,
   "metadata": {},
   "outputs": [],
   "source": [
    "import tensorflow as tf\n",
    "from keras.models import Sequential\n",
    "from keras.layers import Conv1D, MaxPooling1D, Flatten, Dense, Dropout, BatchNormalization\n",
    "from keras.metrics import Recall"
   ]
  },
  {
   "cell_type": "code",
   "execution_count": 2,
   "metadata": {},
   "outputs": [
    {
     "name": "stdout",
     "output_type": "stream",
     "text": [
      "Num GPUs Available:  1\n"
     ]
    }
   ],
   "source": [
    "#Check GPU device available\n",
    "print('Num GPUs Available: ', len(tf.config.list_physical_devices('GPU')))"
   ]
  },
  {
   "cell_type": "code",
   "execution_count": 3,
   "metadata": {},
   "outputs": [],
   "source": [
    "import pandas as pd\n",
    "import matplotlib.pyplot as plt\n",
    "import seaborn as sns\n",
    "import numpy as np"
   ]
  },
  {
   "cell_type": "code",
   "execution_count": 4,
   "metadata": {},
   "outputs": [],
   "source": [
    "# Load dataset\n",
    "data_train = pd.read_csv('/Data/Visual Studio Code/Data Science/Dataset/UNSW-NB15/UNSW_NB15_training-set.csv')\n",
    "data_test = pd.read_csv('/Data/Visual Studio Code/Data Science/Dataset/UNSW-NB15/UNSW_NB15_testing-set.csv')"
   ]
  },
  {
   "cell_type": "code",
   "execution_count": 5,
   "metadata": {},
   "outputs": [],
   "source": [
    "# Handle missing value and duplicate if any\n",
    "data_train.dropna(inplace=True)\n",
    "data_train.drop_duplicates(inplace=True)\n",
    "\n",
    "data_test.dropna(inplace=True)\n",
    "data_test.drop_duplicates(inplace=True)"
   ]
  },
  {
   "cell_type": "code",
   "execution_count": 6,
   "metadata": {},
   "outputs": [],
   "source": [
    "#Split Attack and Normal from dataframe\n",
    "data_train_attack = data_train[data_train['label'] == 1]\n",
    "data_test_attack = data_test[data_test['label'] == 1]\n",
    "\n",
    "#Optional\n",
    "#data_train_normal = data_train[data_train['label'] == 0]\n",
    "#data_test_normal = data_test[data_test['label'] == 0]"
   ]
  },
  {
   "cell_type": "code",
   "execution_count": 7,
   "metadata": {},
   "outputs": [],
   "source": [
    "# Drop id and label from train and test data\n",
    "data_train_attack = data_train_attack.drop('id', axis=1)\n",
    "data_train_attack = data_train_attack.drop('label', axis=1)\n",
    "\n",
    "data_test_attack = data_test_attack.drop('id', axis=1)\n",
    "data_test_attack = data_test_attack.drop('label', axis=1)"
   ]
  },
  {
   "cell_type": "code",
   "execution_count": 8,
   "metadata": {},
   "outputs": [
    {
     "name": "stdout",
     "output_type": "stream",
     "text": [
      "6\n",
      "5\n"
     ]
    }
   ],
   "source": [
    "print(data_train_attack['state'].nunique())\n",
    "print(data_test_attack['state'].nunique())"
   ]
  },
  {
   "cell_type": "code",
   "execution_count": 9,
   "metadata": {},
   "outputs": [
    {
     "name": "stdout",
     "output_type": "stream",
     "text": [
      "['INT' 'FIN' 'ACC' 'CON' 'REQ' 'CLO']\n",
      "['INT' 'FIN' 'CON' 'REQ' 'RST']\n"
     ]
    }
   ],
   "source": [
    "print(data_train_attack['state'].unique())\n",
    "print(data_test_attack['state'].unique())"
   ]
  },
  {
   "cell_type": "code",
   "execution_count": 10,
   "metadata": {},
   "outputs": [],
   "source": [
    "#Drop ACC, CLO, and RST from data\n",
    "data_train_attack = data_train_attack[(data_train_attack['state'] != 'ACC') & (data_train_attack['state'] != 'CLO')]\n",
    "data_test_attack = data_test_attack[(data_test_attack['state'] != 'RST')]"
   ]
  },
  {
   "cell_type": "code",
   "execution_count": 11,
   "metadata": {},
   "outputs": [
    {
     "name": "stdout",
     "output_type": "stream",
     "text": [
      "['INT' 'FIN' 'CON' 'REQ']\n",
      "['INT' 'FIN' 'CON' 'REQ']\n"
     ]
    }
   ],
   "source": [
    "print(data_train_attack['state'].unique())\n",
    "print(data_test_attack['state'].unique())"
   ]
  },
  {
   "cell_type": "markdown",
   "metadata": {},
   "source": [
    "## Encode Train and Test Data"
   ]
  },
  {
   "cell_type": "code",
   "execution_count": 12,
   "metadata": {},
   "outputs": [
    {
     "data": {
      "text/plain": [
       "['proto', 'state', 'service']"
      ]
     },
     "execution_count": 12,
     "metadata": {},
     "output_type": "execute_result"
    }
   ],
   "source": [
    "#column to encode\n",
    "cols = ['proto','state','service']\n",
    "cols"
   ]
  },
  {
   "cell_type": "code",
   "execution_count": 13,
   "metadata": {},
   "outputs": [],
   "source": [
    "#One-hot Encoding\n",
    "# Encode train data\n",
    "data_train_attack = pd.get_dummies(data_train_attack, columns=cols)\n",
    "\n",
    "# Encode test data\n",
    "data_test_attack = pd.get_dummies(data_test_attack, columns=cols)"
   ]
  },
  {
   "cell_type": "code",
   "execution_count": 14,
   "metadata": {},
   "outputs": [],
   "source": [
    "train_attack_cat = data_train_attack.pop('attack_cat')\n",
    "test_attack_cat = data_test_attack.pop('attack_cat')"
   ]
  },
  {
   "cell_type": "markdown",
   "metadata": {},
   "source": [
    "## Normalization"
   ]
  },
  {
   "cell_type": "code",
   "execution_count": 15,
   "metadata": {},
   "outputs": [],
   "source": [
    "# Min-Max Normalization\n",
    "from sklearn.preprocessing import MinMaxScaler\n",
    "\n",
    "scaler = MinMaxScaler()\n",
    "cols_to_norm = ['dur', 'spkts', 'dpkts', 'sbytes', 'dbytes', 'rate', 'sttl', 'dttl', 'sload', \n",
    "                'dload', 'sloss', 'dloss', 'sinpkt', 'dinpkt', 'sjit', 'djit', 'swin', 'stcpb', 'dtcpb', 'dwin', 'tcprtt', 'synack', \n",
    "                'ackdat', 'smean', 'dmean', 'trans_depth', 'response_body_len', 'ct_srv_src', 'ct_state_ttl', 'ct_dst_ltm', \n",
    "                'ct_src_dport_ltm', 'ct_dst_sport_ltm', 'ct_dst_src_ltm', 'is_ftp_login', 'ct_ftp_cmd', 'ct_flw_http_mthd', 'ct_src_ltm', \n",
    "                'ct_srv_dst', 'is_sm_ips_ports']\n",
    "\n",
    "data_train_attack[cols_to_norm] = scaler.fit_transform(data_train_attack[cols_to_norm])\n",
    "data_test_attack[cols_to_norm] = scaler.fit_transform(data_test_attack[cols_to_norm])"
   ]
  },
  {
   "cell_type": "markdown",
   "metadata": {},
   "source": [
    "## Feature Selection"
   ]
  },
  {
   "cell_type": "code",
   "execution_count": 16,
   "metadata": {},
   "outputs": [
    {
     "data": {
      "text/plain": [
       "dur               float64\n",
       "spkts             float64\n",
       "dpkts             float64\n",
       "sbytes            float64\n",
       "dbytes            float64\n",
       "                   ...   \n",
       "service_radius       bool\n",
       "service_smtp         bool\n",
       "service_snmp         bool\n",
       "service_ssh          bool\n",
       "service_ssl          bool\n",
       "Length: 181, dtype: object"
      ]
     },
     "execution_count": 16,
     "metadata": {},
     "output_type": "execute_result"
    }
   ],
   "source": [
    "#Feature Selection\n",
    "feature = data_train_attack.drop(['dinpkt', 'ct_ftp_cmd', 'ct_src_dport_ltm', 'is_sm_ips_ports'], axis=1)\n",
    "feature.dtypes"
   ]
  },
  {
   "cell_type": "markdown",
   "metadata": {},
   "source": [
    "# Split Data"
   ]
  },
  {
   "cell_type": "code",
   "execution_count": 17,
   "metadata": {},
   "outputs": [
    {
     "data": {
      "text/plain": [
       "((45329, 181), (45329,), (119329, 181), (119329,))"
      ]
     },
     "execution_count": 17,
     "metadata": {},
     "output_type": "execute_result"
    }
   ],
   "source": [
    "#Splitting the dataset into dependent and independent feature\n",
    "X_train = feature\n",
    "y_train = train_attack_cat\n",
    "\n",
    "X_test = data_test_attack.drop(columns=['dinpkt', 'ct_ftp_cmd', 'ct_src_dport_ltm', 'is_sm_ips_ports'])\n",
    "y_test = test_attack_cat\n",
    "\n",
    "X_train.shape, y_train.shape, X_test.shape, y_test.shape"
   ]
  },
  {
   "cell_type": "markdown",
   "metadata": {},
   "source": [
    "# Model Architecture"
   ]
  },
  {
   "cell_type": "markdown",
   "metadata": {},
   "source": [
    "## 1D-CNN (2 layer) Model"
   ]
  },
  {
   "cell_type": "code",
   "execution_count": 18,
   "metadata": {},
   "outputs": [],
   "source": [
    "# Define the input shape\n",
    "input_shape = (181, 1)\n",
    "\n",
    "# Create the sequential model\n",
    "model = Sequential()\n",
    "\n",
    "# Convolutional layers\n",
    "model.add(Conv1D(filters=32, kernel_size=5, activation='sigmoid', input_shape=input_shape))\n",
    "model.add(Conv1D(filters=32, kernel_size=5, activation='sigmoid'))\n",
    "\n",
    "# MaxPooling1D layer\n",
    "model.add(MaxPooling1D(pool_size=2, strides=1))\n",
    "\n",
    "# Flatten layer\n",
    "model.add(Flatten())\n",
    "\n",
    "# Batch Normalization layer\n",
    "model.add(BatchNormalization(axis=-1))\n",
    "\n",
    "# Dropout layer with dropout 0.5\n",
    "model.add(Dropout(0.5))\n",
    "\n",
    "# Two Fully-connected layers\n",
    "model.add(Dense(32, activation='relu'))\n",
    "model.add(Dense(16, activation='relu'))\n",
    "\n",
    "# Output\n",
    "model.add(Dense(units=9, activation='softmax'))\n",
    "\n",
    "# Compile the model\n",
    "model.compile(optimizer='adam', loss='categorical_crossentropy', metrics=['accuracy', Recall()])"
   ]
  },
  {
   "cell_type": "code",
   "execution_count": 19,
   "metadata": {},
   "outputs": [
    {
     "name": "stdout",
     "output_type": "stream",
     "text": [
      "Model: \"sequential\"\n",
      "_________________________________________________________________\n",
      " Layer (type)                Output Shape              Param #   \n",
      "=================================================================\n",
      " conv1d (Conv1D)             (None, 177, 32)           192       \n",
      "                                                                 \n",
      " conv1d_1 (Conv1D)           (None, 173, 32)           5152      \n",
      "                                                                 \n",
      " max_pooling1d (MaxPooling1D  (None, 172, 32)          0         \n",
      " )                                                               \n",
      "                                                                 \n",
      " flatten (Flatten)           (None, 5504)              0         \n",
      "                                                                 \n",
      " batch_normalization (BatchN  (None, 5504)             22016     \n",
      " ormalization)                                                   \n",
      "                                                                 \n",
      " dropout (Dropout)           (None, 5504)              0         \n",
      "                                                                 \n",
      " dense (Dense)               (None, 32)                176160    \n",
      "                                                                 \n",
      " dense_1 (Dense)             (None, 16)                528       \n",
      "                                                                 \n",
      " dense_2 (Dense)             (None, 9)                 153       \n",
      "                                                                 \n",
      "=================================================================\n",
      "Total params: 204,201\n",
      "Trainable params: 193,193\n",
      "Non-trainable params: 11,008\n",
      "_________________________________________________________________\n"
     ]
    }
   ],
   "source": [
    "#Print the model summary\n",
    "model.summary()"
   ]
  },
  {
   "cell_type": "markdown",
   "metadata": {},
   "source": [
    "## Train the model"
   ]
  },
  {
   "cell_type": "code",
   "execution_count": 20,
   "metadata": {},
   "outputs": [],
   "source": [
    "from keras.utils import to_categorical\n",
    "from sklearn.preprocessing import LabelEncoder"
   ]
  },
  {
   "cell_type": "code",
   "execution_count": 21,
   "metadata": {},
   "outputs": [],
   "source": [
    "le = LabelEncoder()\n",
    "\n",
    "y_train = le.fit_transform(y_train)\n",
    "y_test = le.fit_transform(y_test)"
   ]
  },
  {
   "cell_type": "code",
   "execution_count": 22,
   "metadata": {},
   "outputs": [],
   "source": [
    "num_class = 9\n",
    "y_train = to_categorical(y_train, num_class)\n",
    "y_test = to_categorical(y_test, num_class)"
   ]
  },
  {
   "cell_type": "code",
   "execution_count": 23,
   "metadata": {},
   "outputs": [],
   "source": [
    "X_train = np.array(X_train, dtype=np.float32)\n",
    "X_test = np.array(X_test, dtype=np.float32)"
   ]
  },
  {
   "cell_type": "code",
   "execution_count": 24,
   "metadata": {},
   "outputs": [
    {
     "name": "stdout",
     "output_type": "stream",
     "text": [
      "Epoch 1/100\n",
      "1417/1417 [==============================] - 26s 15ms/step - loss: 0.7129 - accuracy: 0.7396 - recall: 0.6278 - val_loss: 0.8835 - val_accuracy: 0.6741 - val_recall: 0.5235\n",
      "Epoch 2/100\n",
      "1417/1417 [==============================] - 21s 15ms/step - loss: 0.6212 - accuracy: 0.7624 - recall: 0.6677 - val_loss: 1.0331 - val_accuracy: 0.6351 - val_recall: 0.6102\n",
      "Epoch 3/100\n",
      "1417/1417 [==============================] - 22s 16ms/step - loss: 0.6001 - accuracy: 0.7707 - recall: 0.6810 - val_loss: 0.9741 - val_accuracy: 0.6162 - val_recall: 0.5729\n",
      "Epoch 4/100\n",
      "1417/1417 [==============================] - 22s 15ms/step - loss: 0.5860 - accuracy: 0.7734 - recall: 0.6848 - val_loss: 1.8819 - val_accuracy: 0.4998 - val_recall: 0.4614\n",
      "Epoch 5/100\n",
      "1417/1417 [==============================] - 22s 16ms/step - loss: 0.5805 - accuracy: 0.7761 - recall: 0.6899 - val_loss: 1.5378 - val_accuracy: 0.5886 - val_recall: 0.5853\n",
      "Epoch 6/100\n",
      "1417/1417 [==============================] - 22s 15ms/step - loss: 0.5711 - accuracy: 0.7779 - recall: 0.6919 - val_loss: 1.1131 - val_accuracy: 0.7110 - val_recall: 0.6558\n",
      "Epoch 7/100\n",
      "1417/1417 [==============================] - 22s 15ms/step - loss: 0.5649 - accuracy: 0.7805 - recall: 0.6962 - val_loss: 1.9292 - val_accuracy: 0.5224 - val_recall: 0.5130\n",
      "Epoch 8/100\n",
      "1417/1417 [==============================] - 22s 15ms/step - loss: 0.5604 - accuracy: 0.7815 - recall: 0.7000 - val_loss: 0.8352 - val_accuracy: 0.7100 - val_recall: 0.6230\n",
      "Epoch 9/100\n",
      "1417/1417 [==============================] - 22s 15ms/step - loss: 0.5570 - accuracy: 0.7823 - recall: 0.6991 - val_loss: 0.9068 - val_accuracy: 0.6989 - val_recall: 0.6096\n",
      "Epoch 10/100\n",
      "1417/1417 [==============================] - 22s 15ms/step - loss: 0.5529 - accuracy: 0.7830 - recall: 0.7024 - val_loss: 2.5505 - val_accuracy: 0.4975 - val_recall: 0.4910\n",
      "Epoch 11/100\n",
      "1417/1417 [==============================] - 22s 15ms/step - loss: 0.5498 - accuracy: 0.7834 - recall: 0.7029 - val_loss: 0.9417 - val_accuracy: 0.7254 - val_recall: 0.6250\n",
      "Epoch 12/100\n",
      "1417/1417 [==============================] - 23s 16ms/step - loss: 0.5462 - accuracy: 0.7882 - recall: 0.7061 - val_loss: 2.7127 - val_accuracy: 0.6142 - val_recall: 0.6114\n",
      "Epoch 13/100\n",
      "1417/1417 [==============================] - 22s 16ms/step - loss: 0.5436 - accuracy: 0.7874 - recall: 0.7061 - val_loss: 1.9813 - val_accuracy: 0.5298 - val_recall: 0.5177\n",
      "Epoch 14/100\n",
      "1417/1417 [==============================] - 22s 15ms/step - loss: 0.5417 - accuracy: 0.7864 - recall: 0.7068 - val_loss: 2.2580 - val_accuracy: 0.4806 - val_recall: 0.4782\n",
      "Epoch 15/100\n",
      "1417/1417 [==============================] - 22s 15ms/step - loss: 0.5397 - accuracy: 0.7876 - recall: 0.7056 - val_loss: 0.9234 - val_accuracy: 0.6846 - val_recall: 0.6032\n",
      "Epoch 16/100\n",
      "1417/1417 [==============================] - 22s 15ms/step - loss: 0.5354 - accuracy: 0.7882 - recall: 0.7081 - val_loss: 2.9372 - val_accuracy: 0.5588 - val_recall: 0.5497\n",
      "Epoch 17/100\n",
      "1417/1417 [==============================] - 23s 16ms/step - loss: 0.5341 - accuracy: 0.7915 - recall: 0.7114 - val_loss: 1.0085 - val_accuracy: 0.6633 - val_recall: 0.5664\n",
      "Epoch 18/100\n",
      "1417/1417 [==============================] - 23s 16ms/step - loss: 0.5359 - accuracy: 0.7878 - recall: 0.7077 - val_loss: 1.4601 - val_accuracy: 0.6097 - val_recall: 0.5896\n",
      "Epoch 19/100\n",
      "1417/1417 [==============================] - 22s 15ms/step - loss: 0.5329 - accuracy: 0.7910 - recall: 0.7097 - val_loss: 2.5585 - val_accuracy: 0.3259 - val_recall: 0.3130\n",
      "Epoch 20/100\n",
      "1417/1417 [==============================] - 22s 15ms/step - loss: 0.5299 - accuracy: 0.7891 - recall: 0.7117 - val_loss: 2.7001 - val_accuracy: 0.3205 - val_recall: 0.2821\n",
      "Epoch 21/100\n",
      "1417/1417 [==============================] - 22s 15ms/step - loss: 0.5286 - accuracy: 0.7913 - recall: 0.7114 - val_loss: 0.9801 - val_accuracy: 0.7006 - val_recall: 0.5777\n",
      "Epoch 22/100\n",
      "1417/1417 [==============================] - 22s 15ms/step - loss: 0.5299 - accuracy: 0.7901 - recall: 0.7100 - val_loss: 1.3214 - val_accuracy: 0.6415 - val_recall: 0.6064\n",
      "Epoch 23/100\n",
      "1417/1417 [==============================] - 22s 15ms/step - loss: 0.5239 - accuracy: 0.7930 - recall: 0.7151 - val_loss: 1.2833 - val_accuracy: 0.6499 - val_recall: 0.5726\n",
      "Epoch 24/100\n",
      "1417/1417 [==============================] - 22s 15ms/step - loss: 0.5260 - accuracy: 0.7895 - recall: 0.7107 - val_loss: 2.6791 - val_accuracy: 0.2930 - val_recall: 0.2733\n",
      "Epoch 25/100\n",
      "1417/1417 [==============================] - 22s 15ms/step - loss: 0.5204 - accuracy: 0.7943 - recall: 0.7160 - val_loss: 2.5969 - val_accuracy: 0.5831 - val_recall: 0.5613\n",
      "Epoch 26/100\n",
      "1417/1417 [==============================] - 21s 15ms/step - loss: 0.5216 - accuracy: 0.7919 - recall: 0.7140 - val_loss: 1.4527 - val_accuracy: 0.6075 - val_recall: 0.5537\n",
      "Epoch 27/100\n",
      "1417/1417 [==============================] - 22s 15ms/step - loss: 0.5208 - accuracy: 0.7919 - recall: 0.7147 - val_loss: 2.2520 - val_accuracy: 0.5808 - val_recall: 0.5626\n",
      "Epoch 28/100\n",
      "1417/1417 [==============================] - 21s 15ms/step - loss: 0.5217 - accuracy: 0.7927 - recall: 0.7132 - val_loss: 1.4572 - val_accuracy: 0.6203 - val_recall: 0.6071\n",
      "Epoch 29/100\n",
      "1417/1417 [==============================] - 21s 15ms/step - loss: 0.5199 - accuracy: 0.7950 - recall: 0.7148 - val_loss: 1.8223 - val_accuracy: 0.6094 - val_recall: 0.5767\n",
      "Epoch 30/100\n",
      "1417/1417 [==============================] - 22s 15ms/step - loss: 0.5176 - accuracy: 0.7927 - recall: 0.7152 - val_loss: 12.7931 - val_accuracy: 0.1041 - val_recall: 0.1040\n",
      "Epoch 31/100\n",
      "1417/1417 [==============================] - 21s 15ms/step - loss: 0.5168 - accuracy: 0.7911 - recall: 0.7150 - val_loss: 1.3913 - val_accuracy: 0.6741 - val_recall: 0.6066\n",
      "Epoch 32/100\n",
      "1417/1417 [==============================] - 21s 15ms/step - loss: 0.5156 - accuracy: 0.7947 - recall: 0.7169 - val_loss: 12.8755 - val_accuracy: 0.1050 - val_recall: 0.1050\n",
      "Epoch 33/100\n",
      "1417/1417 [==============================] - 21s 15ms/step - loss: 0.5160 - accuracy: 0.7941 - recall: 0.7168 - val_loss: 1.0875 - val_accuracy: 0.6876 - val_recall: 0.6013\n",
      "Epoch 34/100\n",
      "1417/1417 [==============================] - 22s 15ms/step - loss: 0.5165 - accuracy: 0.7943 - recall: 0.7176 - val_loss: 8.1133 - val_accuracy: 0.1866 - val_recall: 0.1863\n",
      "Epoch 35/100\n",
      "1417/1417 [==============================] - 22s 15ms/step - loss: 0.5131 - accuracy: 0.7957 - recall: 0.7182 - val_loss: 1.2393 - val_accuracy: 0.6616 - val_recall: 0.6260\n",
      "Epoch 36/100\n",
      "1417/1417 [==============================] - 21s 15ms/step - loss: 0.5134 - accuracy: 0.7938 - recall: 0.7167 - val_loss: 1.1398 - val_accuracy: 0.6778 - val_recall: 0.5844\n",
      "Epoch 37/100\n",
      "1417/1417 [==============================] - 21s 15ms/step - loss: 0.5111 - accuracy: 0.7947 - recall: 0.7176 - val_loss: 1.8914 - val_accuracy: 0.5846 - val_recall: 0.5765\n",
      "Epoch 38/100\n",
      "1417/1417 [==============================] - 21s 15ms/step - loss: 0.5122 - accuracy: 0.7939 - recall: 0.7159 - val_loss: 1.5723 - val_accuracy: 0.5990 - val_recall: 0.5598\n",
      "Epoch 39/100\n",
      "1417/1417 [==============================] - 22s 15ms/step - loss: 0.5117 - accuracy: 0.7962 - recall: 0.7181 - val_loss: 12.0379 - val_accuracy: 0.1047 - val_recall: 0.1047\n",
      "Epoch 40/100\n",
      "1417/1417 [==============================] - 21s 15ms/step - loss: 0.5095 - accuracy: 0.7960 - recall: 0.7183 - val_loss: 1.1434 - val_accuracy: 0.7166 - val_recall: 0.6691\n",
      "Epoch 41/100\n",
      "1417/1417 [==============================] - 21s 15ms/step - loss: 0.5073 - accuracy: 0.7960 - recall: 0.7195 - val_loss: 0.8244 - val_accuracy: 0.7381 - val_recall: 0.6381\n",
      "Epoch 42/100\n",
      "1417/1417 [==============================] - 21s 15ms/step - loss: 0.5063 - accuracy: 0.7959 - recall: 0.7191 - val_loss: 1.6896 - val_accuracy: 0.5936 - val_recall: 0.5825\n",
      "Epoch 43/100\n",
      "1417/1417 [==============================] - 21s 15ms/step - loss: 0.5066 - accuracy: 0.7956 - recall: 0.7179 - val_loss: 0.7479 - val_accuracy: 0.7399 - val_recall: 0.6754\n",
      "Epoch 44/100\n",
      "1417/1417 [==============================] - 22s 15ms/step - loss: 0.5070 - accuracy: 0.7947 - recall: 0.7180 - val_loss: 11.2785 - val_accuracy: 0.1899 - val_recall: 0.1889\n",
      "Epoch 45/100\n",
      "1417/1417 [==============================] - 21s 15ms/step - loss: 0.5046 - accuracy: 0.7966 - recall: 0.7189 - val_loss: 1.3903 - val_accuracy: 0.6139 - val_recall: 0.5968\n",
      "Epoch 46/100\n",
      "1417/1417 [==============================] - 22s 15ms/step - loss: 0.5043 - accuracy: 0.7981 - recall: 0.7208 - val_loss: 3.7939 - val_accuracy: 0.4596 - val_recall: 0.4540\n",
      "Epoch 47/100\n",
      "1417/1417 [==============================] - 22s 15ms/step - loss: 0.5041 - accuracy: 0.7972 - recall: 0.7190 - val_loss: 0.8958 - val_accuracy: 0.7337 - val_recall: 0.6071\n",
      "Epoch 48/100\n",
      "1417/1417 [==============================] - 22s 15ms/step - loss: 0.5033 - accuracy: 0.7975 - recall: 0.7194 - val_loss: 0.8195 - val_accuracy: 0.7263 - val_recall: 0.6314\n",
      "Epoch 49/100\n",
      "1417/1417 [==============================] - 21s 15ms/step - loss: 0.5043 - accuracy: 0.7979 - recall: 0.7189 - val_loss: 5.3969 - val_accuracy: 0.2776 - val_recall: 0.2709\n",
      "Epoch 50/100\n",
      "1417/1417 [==============================] - 22s 15ms/step - loss: 0.5014 - accuracy: 0.7991 - recall: 0.7206 - val_loss: 1.2088 - val_accuracy: 0.6227 - val_recall: 0.5746\n",
      "Epoch 51/100\n",
      "1417/1417 [==============================] - 22s 15ms/step - loss: 0.5037 - accuracy: 0.7963 - recall: 0.7168 - val_loss: 1.6863 - val_accuracy: 0.5605 - val_recall: 0.5466\n",
      "Epoch 52/100\n",
      "1417/1417 [==============================] - 22s 15ms/step - loss: 0.5017 - accuracy: 0.7986 - recall: 0.7200 - val_loss: 1.0971 - val_accuracy: 0.6725 - val_recall: 0.6213\n",
      "Epoch 53/100\n",
      "1417/1417 [==============================] - 21s 15ms/step - loss: 0.4974 - accuracy: 0.7983 - recall: 0.7204 - val_loss: 13.6923 - val_accuracy: 0.1103 - val_recall: 0.1100\n",
      "Epoch 54/100\n",
      "1417/1417 [==============================] - 21s 15ms/step - loss: 0.4993 - accuracy: 0.7986 - recall: 0.7218 - val_loss: 0.7235 - val_accuracy: 0.7596 - val_recall: 0.6405\n",
      "Epoch 55/100\n",
      "1417/1417 [==============================] - 21s 15ms/step - loss: 0.5007 - accuracy: 0.7969 - recall: 0.7193 - val_loss: 1.0463 - val_accuracy: 0.7129 - val_recall: 0.6069\n",
      "Epoch 56/100\n",
      "1417/1417 [==============================] - 22s 15ms/step - loss: 0.4998 - accuracy: 0.7981 - recall: 0.7210 - val_loss: 1.7040 - val_accuracy: 0.6491 - val_recall: 0.6126\n",
      "Epoch 57/100\n",
      "1417/1417 [==============================] - 21s 15ms/step - loss: 0.4978 - accuracy: 0.7998 - recall: 0.7211 - val_loss: 1.0419 - val_accuracy: 0.6679 - val_recall: 0.6049\n",
      "Epoch 58/100\n",
      "1417/1417 [==============================] - 22s 15ms/step - loss: 0.4980 - accuracy: 0.7988 - recall: 0.7222 - val_loss: 1.3065 - val_accuracy: 0.5966 - val_recall: 0.5544\n",
      "Epoch 59/100\n",
      "1417/1417 [==============================] - 22s 15ms/step - loss: 0.4987 - accuracy: 0.7990 - recall: 0.7228 - val_loss: 1.0648 - val_accuracy: 0.6701 - val_recall: 0.6016\n",
      "Epoch 60/100\n",
      "1417/1417 [==============================] - 22s 15ms/step - loss: 0.4971 - accuracy: 0.7992 - recall: 0.7217 - val_loss: 0.8604 - val_accuracy: 0.7344 - val_recall: 0.6252\n",
      "Epoch 61/100\n",
      "1417/1417 [==============================] - 21s 15ms/step - loss: 0.4961 - accuracy: 0.8019 - recall: 0.7225 - val_loss: 1.1225 - val_accuracy: 0.7067 - val_recall: 0.6371\n",
      "Epoch 62/100\n",
      "1417/1417 [==============================] - 22s 15ms/step - loss: 0.4973 - accuracy: 0.7985 - recall: 0.7209 - val_loss: 2.3322 - val_accuracy: 0.5289 - val_recall: 0.5046\n",
      "Epoch 63/100\n",
      "1417/1417 [==============================] - 22s 15ms/step - loss: 0.4967 - accuracy: 0.7984 - recall: 0.7207 - val_loss: 0.7789 - val_accuracy: 0.7687 - val_recall: 0.6490\n",
      "Epoch 64/100\n",
      "1417/1417 [==============================] - 22s 15ms/step - loss: 0.4961 - accuracy: 0.8002 - recall: 0.7222 - val_loss: 10.4976 - val_accuracy: 0.1062 - val_recall: 0.1061\n",
      "Epoch 65/100\n",
      "1417/1417 [==============================] - 22s 15ms/step - loss: 0.4962 - accuracy: 0.7978 - recall: 0.7209 - val_loss: 2.5281 - val_accuracy: 0.5559 - val_recall: 0.5427\n",
      "Epoch 66/100\n",
      "1417/1417 [==============================] - 22s 15ms/step - loss: 0.4933 - accuracy: 0.8011 - recall: 0.7238 - val_loss: 2.5523 - val_accuracy: 0.5289 - val_recall: 0.5056\n",
      "Epoch 67/100\n",
      "1417/1417 [==============================] - 21s 15ms/step - loss: 0.4928 - accuracy: 0.8005 - recall: 0.7230 - val_loss: 3.9859 - val_accuracy: 0.2377 - val_recall: 0.2288\n",
      "Epoch 68/100\n",
      "1417/1417 [==============================] - 22s 15ms/step - loss: 0.4922 - accuracy: 0.7994 - recall: 0.7233 - val_loss: 1.3004 - val_accuracy: 0.6565 - val_recall: 0.5538\n",
      "Epoch 69/100\n",
      "1417/1417 [==============================] - 22s 15ms/step - loss: 0.4926 - accuracy: 0.8009 - recall: 0.7220 - val_loss: 0.7830 - val_accuracy: 0.7609 - val_recall: 0.6460\n",
      "Epoch 70/100\n",
      "1417/1417 [==============================] - 22s 15ms/step - loss: 0.4923 - accuracy: 0.8002 - recall: 0.7225 - val_loss: 11.0281 - val_accuracy: 0.1135 - val_recall: 0.1133\n",
      "Epoch 71/100\n",
      "1417/1417 [==============================] - 22s 15ms/step - loss: 0.4912 - accuracy: 0.8024 - recall: 0.7219 - val_loss: 1.6505 - val_accuracy: 0.6183 - val_recall: 0.5960\n",
      "Epoch 72/100\n",
      "1417/1417 [==============================] - 22s 15ms/step - loss: 0.4918 - accuracy: 0.8009 - recall: 0.7225 - val_loss: 1.4938 - val_accuracy: 0.5815 - val_recall: 0.5164\n",
      "Epoch 73/100\n",
      "1417/1417 [==============================] - 21s 15ms/step - loss: 0.4911 - accuracy: 0.8007 - recall: 0.7229 - val_loss: 1.9199 - val_accuracy: 0.6004 - val_recall: 0.5811\n",
      "Epoch 74/100\n",
      "1417/1417 [==============================] - 22s 15ms/step - loss: 0.4899 - accuracy: 0.8004 - recall: 0.7223 - val_loss: 1.0522 - val_accuracy: 0.6902 - val_recall: 0.6208\n",
      "Epoch 75/100\n",
      "1417/1417 [==============================] - 22s 15ms/step - loss: 0.4894 - accuracy: 0.8009 - recall: 0.7236 - val_loss: 1.6182 - val_accuracy: 0.6154 - val_recall: 0.5744\n",
      "Epoch 76/100\n",
      "1417/1417 [==============================] - 22s 15ms/step - loss: 0.4891 - accuracy: 0.8009 - recall: 0.7226 - val_loss: 1.1648 - val_accuracy: 0.6532 - val_recall: 0.5697\n",
      "Epoch 77/100\n",
      "1417/1417 [==============================] - 22s 15ms/step - loss: 0.4903 - accuracy: 0.8015 - recall: 0.7231 - val_loss: 1.0555 - val_accuracy: 0.6788 - val_recall: 0.5928\n",
      "Epoch 78/100\n",
      "1417/1417 [==============================] - 21s 15ms/step - loss: 0.4893 - accuracy: 0.8007 - recall: 0.7217 - val_loss: 1.7427 - val_accuracy: 0.5464 - val_recall: 0.4931\n",
      "Epoch 79/100\n",
      "1417/1417 [==============================] - 21s 15ms/step - loss: 0.4885 - accuracy: 0.8022 - recall: 0.7243 - val_loss: 1.0989 - val_accuracy: 0.7057 - val_recall: 0.6172\n",
      "Epoch 80/100\n",
      "1417/1417 [==============================] - 21s 15ms/step - loss: 0.4877 - accuracy: 0.8004 - recall: 0.7230 - val_loss: 1.3805 - val_accuracy: 0.6044 - val_recall: 0.5637\n",
      "Epoch 81/100\n",
      "1417/1417 [==============================] - 21s 15ms/step - loss: 0.4881 - accuracy: 0.7993 - recall: 0.7223 - val_loss: 1.2109 - val_accuracy: 0.6990 - val_recall: 0.5793\n",
      "Epoch 82/100\n",
      "1417/1417 [==============================] - 22s 15ms/step - loss: 0.4898 - accuracy: 0.8006 - recall: 0.7232 - val_loss: 2.0373 - val_accuracy: 0.6772 - val_recall: 0.6078\n",
      "Epoch 83/100\n",
      "1417/1417 [==============================] - 21s 15ms/step - loss: 0.4882 - accuracy: 0.8004 - recall: 0.7215 - val_loss: 0.8500 - val_accuracy: 0.7312 - val_recall: 0.6587\n",
      "Epoch 84/100\n",
      "1417/1417 [==============================] - 21s 15ms/step - loss: 0.4855 - accuracy: 0.8023 - recall: 0.7241 - val_loss: 0.8339 - val_accuracy: 0.7341 - val_recall: 0.6252\n",
      "Epoch 85/100\n",
      "1417/1417 [==============================] - 22s 15ms/step - loss: 0.4858 - accuracy: 0.8025 - recall: 0.7237 - val_loss: 1.0046 - val_accuracy: 0.6852 - val_recall: 0.5717\n",
      "Epoch 86/100\n",
      "1417/1417 [==============================] - 22s 15ms/step - loss: 0.4859 - accuracy: 0.8014 - recall: 0.7231 - val_loss: 1.0397 - val_accuracy: 0.6857 - val_recall: 0.6227\n",
      "Epoch 87/100\n",
      "1417/1417 [==============================] - 22s 15ms/step - loss: 0.4850 - accuracy: 0.8027 - recall: 0.7248 - val_loss: 2.1880 - val_accuracy: 0.5416 - val_recall: 0.4944\n",
      "Epoch 88/100\n",
      "1417/1417 [==============================] - 22s 15ms/step - loss: 0.4860 - accuracy: 0.8026 - recall: 0.7232 - val_loss: 1.2205 - val_accuracy: 0.6408 - val_recall: 0.5860\n",
      "Epoch 89/100\n",
      "1417/1417 [==============================] - 22s 15ms/step - loss: 0.4835 - accuracy: 0.8024 - recall: 0.7233 - val_loss: 7.3586 - val_accuracy: 0.1993 - val_recall: 0.1842\n",
      "Epoch 90/100\n",
      "1417/1417 [==============================] - 22s 15ms/step - loss: 0.4855 - accuracy: 0.8010 - recall: 0.7227 - val_loss: 6.9610 - val_accuracy: 0.1162 - val_recall: 0.1142\n",
      "Epoch 91/100\n",
      "1417/1417 [==============================] - 22s 15ms/step - loss: 0.4862 - accuracy: 0.8003 - recall: 0.7223 - val_loss: 1.4605 - val_accuracy: 0.6141 - val_recall: 0.5472\n",
      "Epoch 92/100\n",
      "1417/1417 [==============================] - 22s 15ms/step - loss: 0.4853 - accuracy: 0.8025 - recall: 0.7249 - val_loss: 1.3020 - val_accuracy: 0.7335 - val_recall: 0.6757\n",
      "Epoch 93/100\n",
      "1417/1417 [==============================] - 21s 15ms/step - loss: 0.4811 - accuracy: 0.8026 - recall: 0.7238 - val_loss: 2.3583 - val_accuracy: 0.4918 - val_recall: 0.4852\n",
      "Epoch 94/100\n",
      "1417/1417 [==============================] - 21s 15ms/step - loss: 0.4835 - accuracy: 0.8010 - recall: 0.7236 - val_loss: 1.0656 - val_accuracy: 0.6726 - val_recall: 0.5806\n",
      "Epoch 95/100\n",
      "1417/1417 [==============================] - 22s 15ms/step - loss: 0.4840 - accuracy: 0.8026 - recall: 0.7228 - val_loss: 0.9123 - val_accuracy: 0.7462 - val_recall: 0.6306\n",
      "Epoch 96/100\n",
      "1417/1417 [==============================] - 21s 15ms/step - loss: 0.4824 - accuracy: 0.8028 - recall: 0.7255 - val_loss: 1.4933 - val_accuracy: 0.6619 - val_recall: 0.5803\n",
      "Epoch 97/100\n",
      "1417/1417 [==============================] - 21s 15ms/step - loss: 0.4826 - accuracy: 0.8030 - recall: 0.7266 - val_loss: 1.2582 - val_accuracy: 0.6714 - val_recall: 0.5387\n",
      "Epoch 98/100\n",
      "1417/1417 [==============================] - 21s 15ms/step - loss: 0.4823 - accuracy: 0.8025 - recall: 0.7236 - val_loss: 1.0301 - val_accuracy: 0.6879 - val_recall: 0.6422\n",
      "Epoch 99/100\n",
      "1417/1417 [==============================] - 22s 15ms/step - loss: 0.4810 - accuracy: 0.8029 - recall: 0.7256 - val_loss: 1.1685 - val_accuracy: 0.6748 - val_recall: 0.5820\n",
      "Epoch 100/100\n",
      "1417/1417 [==============================] - 22s 15ms/step - loss: 0.4814 - accuracy: 0.8039 - recall: 0.7240 - val_loss: 0.9296 - val_accuracy: 0.7629 - val_recall: 0.6591\n"
     ]
    }
   ],
   "source": [
    "#Define epochs and batch size\n",
    "epochs = 100\n",
    "batch_size = 32\n",
    "\n",
    "#Train the model\n",
    "history = model.fit(X_train, y_train, epochs=epochs, batch_size=batch_size, validation_data=(X_test, y_test))"
   ]
  },
  {
   "cell_type": "markdown",
   "metadata": {},
   "source": [
    "## Evaluate The Model"
   ]
  },
  {
   "cell_type": "code",
   "execution_count": 25,
   "metadata": {},
   "outputs": [
    {
     "name": "stdout",
     "output_type": "stream",
     "text": [
      "3730/3730 [==============================] - 16s 4ms/step - loss: 0.9296 - accuracy: 0.7629 - recall: 0.6591\n",
      "Test Loss: 0.9295787811279297\n",
      "Test Accuracy: 0.7628908157348633\n",
      "Test Recall: 0.6590518355369568\n"
     ]
    }
   ],
   "source": [
    "#Evaluate the model on test data\n",
    "loss, accuracy, recall = model.evaluate(X_test, y_test)\n",
    "print('Test Loss:', loss)\n",
    "print('Test Accuracy:', accuracy)\n",
    "print('Test Recall:', recall)"
   ]
  },
  {
   "cell_type": "code",
   "execution_count": 26,
   "metadata": {},
   "outputs": [
    {
     "name": "stdout",
     "output_type": "stream",
     "text": [
      "3730/3730 [==============================] - 7s 2ms/step\n"
     ]
    }
   ],
   "source": [
    "# make a predictions\n",
    "predictions = model.predict(X_test)"
   ]
  },
  {
   "cell_type": "code",
   "execution_count": 27,
   "metadata": {},
   "outputs": [],
   "source": [
    "# convert one-hot encode predictions to class labels\n",
    "predicted_classes = np.argmax(predictions, axis=1)\n",
    "y_test_categorical = np.argmax(y_test, axis=1)"
   ]
  },
  {
   "cell_type": "markdown",
   "metadata": {},
   "source": [
    "### Confusion Matrix"
   ]
  },
  {
   "cell_type": "code",
   "execution_count": 28,
   "metadata": {},
   "outputs": [],
   "source": [
    "# function to calculate recall from confusion matrix\n",
    "def calculate_recall(confusion_matrix):\n",
    "    num_class = len(confusion_matrix)\n",
    "    recalls = []\n",
    "\n",
    "    for i in range(num_class):\n",
    "        true_positive = confusion_matrix[i][i]\n",
    "        false_negative = sum(confusion_matrix[i]) - true_positive\n",
    "\n",
    "        recall = true_positive / (true_positive + false_negative)\n",
    "        recalls.append(recall)\n",
    "    \n",
    "    return recalls"
   ]
  },
  {
   "cell_type": "code",
   "execution_count": 29,
   "metadata": {},
   "outputs": [],
   "source": [
    "# function to display the recall score\n",
    "def display_recall(recalls):\n",
    "    print('Recall Scores for each class:')\n",
    "    print('Analysis:', recalls[0])\n",
    "    print('Backdoor:', recalls[1])\n",
    "    print('DoS:', recalls[2])\n",
    "    print('Exploits:', recalls[3])\n",
    "    print('Fuzzers:', recalls[4])\n",
    "    print('Generic:', recalls[5])\n",
    "    print('Reconnaissance:', recalls[6])\n",
    "    print('Shellcode:', recalls[7])\n",
    "    print('Worms:', recalls[8])"
   ]
  },
  {
   "cell_type": "code",
   "execution_count": 30,
   "metadata": {},
   "outputs": [],
   "source": [
    "from sklearn.metrics import confusion_matrix"
   ]
  },
  {
   "cell_type": "code",
   "execution_count": 31,
   "metadata": {},
   "outputs": [],
   "source": [
    "matrix = confusion_matrix(y_test_categorical, predicted_classes)\n",
    "matrix_df = pd.DataFrame(matrix, \n",
    "                         index= ['Analysis', 'Backdoor', 'DoS', 'Exploits', 'Fuzzers', 'Generic', 'Reconnaissance', 'Shellcode', 'Worms'], \n",
    "                         columns= ['Analysis', 'Backdoor', 'DoS', 'Exploits', 'Fuzzers', 'Generic', 'Reconnaissance', 'Shellcode', 'Worms'])"
   ]
  },
  {
   "cell_type": "code",
   "execution_count": 32,
   "metadata": {},
   "outputs": [
    {
     "data": {
      "image/png": "[encoded data removed]",
      "text/plain": [
       "<Figure size 2000x2000 with 2 Axes>"
      ]
     },
     "metadata": {},
     "output_type": "display_data"
    }
   ],
   "source": [
    "# Plotting Confusion Matrix\n",
    "plt.figure(figsize = (20, 20))\n",
    "sns.heatmap(matrix_df, fmt='.0f', annot=True)\n",
    "plt.title('Confusion Matrix (1D CNN)')\n",
    "plt.ylabel('Actual Values')\n",
    "plt.xlabel('Predicted Values')\n",
    "plt.show()"
   ]
  },
  {
   "cell_type": "code",
   "execution_count": 33,
   "metadata": {},
   "outputs": [
    {
     "name": "stdout",
     "output_type": "stream",
     "text": [
      "Recall Scores for each class:\n",
      "Analysis: 0.0\n",
      "Backdoor: 0.0\n",
      "DoS: 0.13603001141738705\n",
      "Exploits: 0.8522135026657881\n",
      "Fuzzers: 0.7697426308842938\n",
      "Generic: 0.9797994949873747\n",
      "Reconnaissance: 0.7124606730860902\n",
      "Shellcode: 0.2118270079435128\n",
      "Worms: 0.1076923076923077\n"
     ]
    }
   ],
   "source": [
    "recalls = calculate_recall(matrix)\n",
    "display_recall(recalls)"
   ]
  },
  {
   "cell_type": "markdown",
   "metadata": {},
   "source": [
    "## Save and load the model"
   ]
  },
  {
   "cell_type": "code",
   "execution_count": 34,
   "metadata": {},
   "outputs": [],
   "source": [
    "from keras.models import load_model"
   ]
  },
  {
   "cell_type": "code",
   "execution_count": 35,
   "metadata": {},
   "outputs": [],
   "source": [
    "# save the 1D CNN trained model using keras\n",
    "model.save('/Data/Visual Studio Code/Data Science/Notebook/UNSW-NB15/CNN/Imbalanced/GPU_Saved/CNN_0/cnn1d.keras')"
   ]
  },
  {
   "cell_type": "code",
   "execution_count": 36,
   "metadata": {},
   "outputs": [],
   "source": [
    "# load the 1D CNN trained model using keras\n",
    "model = load_model('/Data/Visual Studio Code/Data Science/Notebook/UNSW-NB15/CNN/Imbalanced/GPU_Saved/CNN_0/cnn1d.keras')"
   ]
  },
  {
   "cell_type": "markdown",
   "metadata": {},
   "source": [
    "## Save and load the predicted"
   ]
  },
  {
   "cell_type": "code",
   "execution_count": 37,
   "metadata": {},
   "outputs": [],
   "source": [
    "import pickle"
   ]
  },
  {
   "cell_type": "code",
   "execution_count": 38,
   "metadata": {},
   "outputs": [],
   "source": [
    "# save the decision tree trained model\n",
    "with open('/Data/Visual Studio Code/Data Science/Notebook/UNSW-NB15/CNN/Imbalanced/GPU_Saved/CNN_0/predicted_classes.pkl', 'wb') as model_file:\n",
    "    pickle.dump(predicted_classes, model_file)"
   ]
  },
  {
   "cell_type": "code",
   "execution_count": 39,
   "metadata": {},
   "outputs": [],
   "source": [
    "# load the decision tree trained model\n",
    "with open('/Data/Visual Studio Code/Data Science/Notebook/UNSW-NB15/CNN/Imbalanced/GPU_Saved/CNN_0/predicted_classes.pkl', 'rb') as model_file:\n",
    "    predicted_classes = pickle.load(model_file)"
   ]
  }
 ],
 "metadata": {
  "kernelspec": {
   "display_name": "myenv",
   "language": "python",
   "name": "python3"
  },
  "language_info": {
   "codemirror_mode": {
    "name": "ipython",
    "version": 3
   },
   "file_extension": ".py",
   "mimetype": "text/x-python",
   "name": "python",
   "nbconvert_exporter": "python",
   "pygments_lexer": "ipython3",
   "version": "3.10.13"
  },
  "orig_nbformat": 4
 },
 "nbformat": 4,
 "nbformat_minor": 2
}
