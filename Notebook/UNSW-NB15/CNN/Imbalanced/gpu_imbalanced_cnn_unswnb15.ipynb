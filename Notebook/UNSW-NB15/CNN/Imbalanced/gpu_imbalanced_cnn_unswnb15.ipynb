{
 "cells": [
  {
   "cell_type": "markdown",
   "metadata": {},
   "source": [
    "# Data Preprocessing"
   ]
  },
  {
   "cell_type": "code",
   "execution_count": 1,
   "metadata": {},
   "outputs": [],
   "source": [
    "import tensorflow as tf\n",
    "from keras.models import Sequential\n",
    "from keras.layers import Conv1D, MaxPooling1D, Flatten, Dense, Dropout, BatchNormalization\n",
    "from keras.metrics import Recall"
   ]
  },
  {
   "cell_type": "code",
   "execution_count": 2,
   "metadata": {},
   "outputs": [
    {
     "name": "stdout",
     "output_type": "stream",
     "text": [
      "Num GPUs Available:  1\n"
     ]
    }
   ],
   "source": [
    "#Check GPU device available\n",
    "print('Num GPUs Available: ', len(tf.config.list_physical_devices('GPU')))"
   ]
  },
  {
   "cell_type": "code",
   "execution_count": 3,
   "metadata": {},
   "outputs": [],
   "source": [
    "import pandas as pd\n",
    "import matplotlib.pyplot as plt\n",
    "import seaborn as sns\n",
    "import numpy as np"
   ]
  },
  {
   "cell_type": "code",
   "execution_count": 4,
   "metadata": {},
   "outputs": [],
   "source": [
    "# Load dataset\n",
    "data_train = pd.read_csv('/Data/Visual Studio Code/Data-Science/Dataset/UNSW-NB15/UNSW_NB15_training-set.csv')\n",
    "data_test = pd.read_csv('/Data/Visual Studio Code/Data-Science/Dataset/UNSW-NB15/UNSW_NB15_testing-set.csv')"
   ]
  },
  {
   "cell_type": "code",
   "execution_count": 5,
   "metadata": {},
   "outputs": [],
   "source": [
    "# Handle missing value and duplicate if any\n",
    "data_train.dropna(inplace=True)\n",
    "data_train.drop_duplicates(inplace=True)\n",
    "\n",
    "data_test.dropna(inplace=True)\n",
    "data_test.drop_duplicates(inplace=True)"
   ]
  },
  {
   "cell_type": "code",
   "execution_count": 6,
   "metadata": {},
   "outputs": [],
   "source": [
    "#Split Attack and Normal from dataframe\n",
    "data_train_attack = data_train[data_train['label'] == 1]\n",
    "data_test_attack = data_test[data_test['label'] == 1]\n",
    "\n",
    "#Optional\n",
    "#data_train_normal = data_train[data_train['label'] == 0]\n",
    "#data_test_normal = data_test[data_test['label'] == 0]"
   ]
  },
  {
   "cell_type": "code",
   "execution_count": 7,
   "metadata": {},
   "outputs": [],
   "source": [
    "# Drop id and label from train and test data\n",
    "data_train_attack = data_train_attack.drop('id', axis=1)\n",
    "data_train_attack = data_train_attack.drop('label', axis=1)\n",
    "\n",
    "data_test_attack = data_test_attack.drop('id', axis=1)\n",
    "data_test_attack = data_test_attack.drop('label', axis=1)"
   ]
  },
  {
   "cell_type": "code",
   "execution_count": 8,
   "metadata": {},
   "outputs": [
    {
     "name": "stdout",
     "output_type": "stream",
     "text": [
      "5\n",
      "6\n"
     ]
    }
   ],
   "source": [
    "print(data_train_attack['state'].nunique())\n",
    "print(data_test_attack['state'].nunique())"
   ]
  },
  {
   "cell_type": "code",
   "execution_count": 9,
   "metadata": {},
   "outputs": [
    {
     "name": "stdout",
     "output_type": "stream",
     "text": [
      "['INT' 'FIN' 'CON' 'REQ' 'RST']\n",
      "['INT' 'FIN' 'ACC' 'CON' 'REQ' 'CLO']\n"
     ]
    }
   ],
   "source": [
    "print(data_train_attack['state'].unique())\n",
    "print(data_test_attack['state'].unique())"
   ]
  },
  {
   "cell_type": "code",
   "execution_count": 10,
   "metadata": {},
   "outputs": [],
   "source": [
    "#Drop ACC, CLO, and RST from data\n",
    "data_train_attack = data_train_attack[(data_train_attack['state'] != 'RST')]\n",
    "data_test_attack = data_test_attack[(data_test_attack['state'] != 'ACC') & (data_test_attack['state'] != 'CLO')]"
   ]
  },
  {
   "cell_type": "code",
   "execution_count": 11,
   "metadata": {},
   "outputs": [
    {
     "name": "stdout",
     "output_type": "stream",
     "text": [
      "['INT' 'FIN' 'CON' 'REQ']\n",
      "['INT' 'FIN' 'CON' 'REQ']\n"
     ]
    }
   ],
   "source": [
    "print(data_train_attack['state'].unique())\n",
    "print(data_test_attack['state'].unique())"
   ]
  },
  {
   "cell_type": "markdown",
   "metadata": {},
   "source": [
    "## Encode Train and Test Data"
   ]
  },
  {
   "cell_type": "code",
   "execution_count": 12,
   "metadata": {},
   "outputs": [
    {
     "data": {
      "text/plain": [
       "['proto', 'state', 'service']"
      ]
     },
     "execution_count": 12,
     "metadata": {},
     "output_type": "execute_result"
    }
   ],
   "source": [
    "#column to encode\n",
    "cols = ['proto','state','service']\n",
    "cols"
   ]
  },
  {
   "cell_type": "code",
   "execution_count": 13,
   "metadata": {},
   "outputs": [],
   "source": [
    "#One-hot Encoding\n",
    "# Encode train data\n",
    "data_train_attack = pd.get_dummies(data_train_attack, columns=cols)\n",
    "\n",
    "# Encode test data\n",
    "data_test_attack = pd.get_dummies(data_test_attack, columns=cols)"
   ]
  },
  {
   "cell_type": "code",
   "execution_count": 14,
   "metadata": {},
   "outputs": [],
   "source": [
    "train_attack_cat = data_train_attack.pop('attack_cat')\n",
    "test_attack_cat = data_test_attack.pop('attack_cat')"
   ]
  },
  {
   "cell_type": "markdown",
   "metadata": {},
   "source": [
    "## Normalization"
   ]
  },
  {
   "cell_type": "code",
   "execution_count": 15,
   "metadata": {},
   "outputs": [],
   "source": [
    "# Min-Max Normalization\n",
    "from sklearn.preprocessing import MinMaxScaler\n",
    "\n",
    "scaler = MinMaxScaler()\n",
    "cols_to_norm = ['dur', 'spkts', 'dpkts', 'sbytes', 'dbytes', 'rate', 'sttl', 'dttl', 'sload', \n",
    "                'dload', 'sloss', 'dloss', 'sinpkt', 'dinpkt', 'sjit', 'djit', 'swin', 'stcpb', 'dtcpb', 'dwin', 'tcprtt', 'synack', \n",
    "                'ackdat', 'smean', 'dmean', 'trans_depth', 'response_body_len', 'ct_srv_src', 'ct_state_ttl', 'ct_dst_ltm', \n",
    "                'ct_src_dport_ltm', 'ct_dst_sport_ltm', 'ct_dst_src_ltm', 'is_ftp_login', 'ct_ftp_cmd', 'ct_flw_http_mthd', 'ct_src_ltm', \n",
    "                'ct_srv_dst', 'is_sm_ips_ports']\n",
    "\n",
    "data_train_attack[cols_to_norm] = scaler.fit_transform(data_train_attack[cols_to_norm])\n",
    "data_test_attack[cols_to_norm] = scaler.fit_transform(data_test_attack[cols_to_norm])"
   ]
  },
  {
   "cell_type": "markdown",
   "metadata": {},
   "source": [
    "## Feature Selection"
   ]
  },
  {
   "cell_type": "code",
   "execution_count": 16,
   "metadata": {},
   "outputs": [
    {
     "data": {
      "text/plain": [
       "dur               float64\n",
       "spkts             float64\n",
       "dpkts             float64\n",
       "sbytes            float64\n",
       "dbytes            float64\n",
       "                   ...   \n",
       "service_radius       bool\n",
       "service_smtp         bool\n",
       "service_snmp         bool\n",
       "service_ssh          bool\n",
       "service_ssl          bool\n",
       "Length: 182, dtype: object"
      ]
     },
     "execution_count": 16,
     "metadata": {},
     "output_type": "execute_result"
    }
   ],
   "source": [
    "#Feature Selection\n",
    "feature = data_train_attack.drop(['dinpkt', 'ct_ftp_cmd', 'is_sm_ips_ports'], axis=1)\n",
    "feature.dtypes"
   ]
  },
  {
   "cell_type": "markdown",
   "metadata": {},
   "source": [
    "# Split Data"
   ]
  },
  {
   "cell_type": "code",
   "execution_count": 17,
   "metadata": {},
   "outputs": [
    {
     "data": {
      "text/plain": [
       "((119329, 182), (119329,), (45329, 182), (45329,))"
      ]
     },
     "execution_count": 17,
     "metadata": {},
     "output_type": "execute_result"
    }
   ],
   "source": [
    "#Splitting the dataset into dependent and independent feature\n",
    "X_train = feature\n",
    "y_train = train_attack_cat\n",
    "\n",
    "X_test = data_test_attack.drop(columns=['dinpkt', 'ct_ftp_cmd', 'is_sm_ips_ports'])\n",
    "y_test = test_attack_cat\n",
    "\n",
    "X_train.shape, y_train.shape, X_test.shape, y_test.shape"
   ]
  },
  {
   "cell_type": "markdown",
   "metadata": {},
   "source": [
    "# Model Architecture"
   ]
  },
  {
   "cell_type": "markdown",
   "metadata": {},
   "source": [
    "## 1D-CNN (2 layer) Model"
   ]
  },
  {
   "cell_type": "code",
   "execution_count": 18,
   "metadata": {},
   "outputs": [],
   "source": [
    "# Define the input shape\n",
    "input_shape = (182, 1)\n",
    "\n",
    "# Create the sequential model\n",
    "model = Sequential()\n",
    "\n",
    "# Convolutional layers\n",
    "model.add(Conv1D(filters=32, kernel_size=5, activation='sigmoid', input_shape=input_shape))\n",
    "model.add(Conv1D(filters=32, kernel_size=5, activation='sigmoid'))\n",
    "\n",
    "# MaxPooling1D layer\n",
    "model.add(MaxPooling1D(pool_size=2, strides=1))\n",
    "\n",
    "# Flatten layer\n",
    "model.add(Flatten())\n",
    "\n",
    "# Batch Normalization layer\n",
    "model.add(BatchNormalization(axis=-1))\n",
    "\n",
    "# Dropout layer with dropout 0.5\n",
    "model.add(Dropout(0.5))\n",
    "\n",
    "# Two Fully-connected layers\n",
    "model.add(Dense(32, activation='relu'))\n",
    "model.add(Dense(16, activation='relu'))\n",
    "\n",
    "# Output\n",
    "model.add(Dense(units=9, activation='softmax'))\n",
    "\n",
    "# Compile the model\n",
    "model.compile(optimizer='adam', loss='categorical_crossentropy', metrics=['accuracy', Recall()])"
   ]
  },
  {
   "cell_type": "code",
   "execution_count": 19,
   "metadata": {},
   "outputs": [
    {
     "name": "stdout",
     "output_type": "stream",
     "text": [
      "Model: \"sequential\"\n",
      "_________________________________________________________________\n",
      " Layer (type)                Output Shape              Param #   \n",
      "=================================================================\n",
      " conv1d (Conv1D)             (None, 178, 32)           192       \n",
      "                                                                 \n",
      " conv1d_1 (Conv1D)           (None, 174, 32)           5152      \n",
      "                                                                 \n",
      " max_pooling1d (MaxPooling1D  (None, 173, 32)          0         \n",
      " )                                                               \n",
      "                                                                 \n",
      " flatten (Flatten)           (None, 5536)              0         \n",
      "                                                                 \n",
      " batch_normalization (BatchN  (None, 5536)             22144     \n",
      " ormalization)                                                   \n",
      "                                                                 \n",
      " dropout (Dropout)           (None, 5536)              0         \n",
      "                                                                 \n",
      " dense (Dense)               (None, 32)                177184    \n",
      "                                                                 \n",
      " dense_1 (Dense)             (None, 16)                528       \n",
      "                                                                 \n",
      " dense_2 (Dense)             (None, 9)                 153       \n",
      "                                                                 \n",
      "=================================================================\n",
      "Total params: 205,353\n",
      "Trainable params: 194,281\n",
      "Non-trainable params: 11,072\n",
      "_________________________________________________________________\n"
     ]
    }
   ],
   "source": [
    "#Print the model summary\n",
    "model.summary()"
   ]
  },
  {
   "cell_type": "markdown",
   "metadata": {},
   "source": [
    "## Train the model"
   ]
  },
  {
   "cell_type": "code",
   "execution_count": 20,
   "metadata": {},
   "outputs": [],
   "source": [
    "from keras.utils import to_categorical\n",
    "from sklearn.preprocessing import LabelEncoder"
   ]
  },
  {
   "cell_type": "code",
   "execution_count": 21,
   "metadata": {},
   "outputs": [],
   "source": [
    "le = LabelEncoder()\n",
    "\n",
    "y_train = le.fit_transform(y_train)\n",
    "y_test = le.fit_transform(y_test)"
   ]
  },
  {
   "cell_type": "code",
   "execution_count": 22,
   "metadata": {},
   "outputs": [],
   "source": [
    "num_class = 9\n",
    "y_train = to_categorical(y_train, num_class)\n",
    "y_test = to_categorical(y_test, num_class)"
   ]
  },
  {
   "cell_type": "code",
   "execution_count": 23,
   "metadata": {},
   "outputs": [],
   "source": [
    "X_train = np.array(X_train, dtype=np.float32)\n",
    "X_test = np.array(X_test, dtype=np.float32)"
   ]
  },
  {
   "cell_type": "code",
   "execution_count": 24,
   "metadata": {},
   "outputs": [
    {
     "name": "stdout",
     "output_type": "stream",
     "text": [
      "Epoch 1/50\n",
      "3730/3730 [==============================] - 33s 8ms/step - loss: 0.7122 - accuracy: 0.7402 - recall: 0.6191 - val_loss: 0.9786 - val_accuracy: 0.6881 - val_recall: 0.6226\n",
      "Epoch 2/50\n",
      "3730/3730 [==============================] - 30s 8ms/step - loss: 0.6509 - accuracy: 0.7599 - recall: 0.6434 - val_loss: 1.9796 - val_accuracy: 0.6426 - val_recall: 0.6346\n",
      "Epoch 3/50\n",
      "3730/3730 [==============================] - 31s 8ms/step - loss: 0.6302 - accuracy: 0.7688 - recall: 0.6549 - val_loss: 1.5737 - val_accuracy: 0.5291 - val_recall: 0.4964\n",
      "Epoch 4/50\n",
      "3730/3730 [==============================] - 30s 8ms/step - loss: 0.6153 - accuracy: 0.7734 - recall: 0.6617 - val_loss: 0.9100 - val_accuracy: 0.7013 - val_recall: 0.5945\n",
      "Epoch 5/50\n",
      "3730/3730 [==============================] - 30s 8ms/step - loss: 0.6076 - accuracy: 0.7767 - recall: 0.6621 - val_loss: 0.7946 - val_accuracy: 0.7240 - val_recall: 0.6438\n",
      "Epoch 6/50\n",
      "3730/3730 [==============================] - 30s 8ms/step - loss: 0.6018 - accuracy: 0.7779 - recall: 0.6630 - val_loss: 1.2170 - val_accuracy: 0.6064 - val_recall: 0.5853\n",
      "Epoch 7/50\n",
      "3730/3730 [==============================] - 30s 8ms/step - loss: 0.5982 - accuracy: 0.7793 - recall: 0.6659 - val_loss: 2.1081 - val_accuracy: 0.4526 - val_recall: 0.4381\n",
      "Epoch 8/50\n",
      "3730/3730 [==============================] - 29s 8ms/step - loss: 0.5930 - accuracy: 0.7797 - recall: 0.6656 - val_loss: 1.4997 - val_accuracy: 0.5855 - val_recall: 0.5500\n",
      "Epoch 9/50\n",
      "3730/3730 [==============================] - 28s 8ms/step - loss: 0.5900 - accuracy: 0.7804 - recall: 0.6668 - val_loss: 0.9726 - val_accuracy: 0.6760 - val_recall: 0.6464\n",
      "Epoch 10/50\n",
      "3730/3730 [==============================] - 29s 8ms/step - loss: 0.5870 - accuracy: 0.7821 - recall: 0.6659 - val_loss: 1.1408 - val_accuracy: 0.6763 - val_recall: 0.6500\n",
      "Epoch 11/50\n",
      "3730/3730 [==============================] - 29s 8ms/step - loss: 0.5831 - accuracy: 0.7836 - recall: 0.6658 - val_loss: 2.0613 - val_accuracy: 0.5561 - val_recall: 0.5037\n",
      "Epoch 12/50\n",
      "3730/3730 [==============================] - 28s 8ms/step - loss: 0.5810 - accuracy: 0.7839 - recall: 0.6662 - val_loss: 1.1749 - val_accuracy: 0.6337 - val_recall: 0.5710\n",
      "Epoch 13/50\n",
      "3730/3730 [==============================] - 30s 8ms/step - loss: 0.5793 - accuracy: 0.7838 - recall: 0.6649 - val_loss: 0.8783 - val_accuracy: 0.6874 - val_recall: 0.5932\n",
      "Epoch 14/50\n",
      "3730/3730 [==============================] - 29s 8ms/step - loss: 0.5769 - accuracy: 0.7857 - recall: 0.6688 - val_loss: 0.6395 - val_accuracy: 0.7722 - val_recall: 0.6765\n",
      "Epoch 15/50\n",
      "3730/3730 [==============================] - 29s 8ms/step - loss: 0.5752 - accuracy: 0.7857 - recall: 0.6696 - val_loss: 7.5398 - val_accuracy: 0.2474 - val_recall: 0.2472\n",
      "Epoch 16/50\n",
      "3730/3730 [==============================] - 30s 8ms/step - loss: 0.5726 - accuracy: 0.7865 - recall: 0.6693 - val_loss: 0.8125 - val_accuracy: 0.7164 - val_recall: 0.6716\n",
      "Epoch 17/50\n",
      "3730/3730 [==============================] - 30s 8ms/step - loss: 0.5719 - accuracy: 0.7863 - recall: 0.6701 - val_loss: 0.8313 - val_accuracy: 0.7105 - val_recall: 0.6290\n",
      "Epoch 18/50\n",
      "3730/3730 [==============================] - 31s 8ms/step - loss: 0.5697 - accuracy: 0.7868 - recall: 0.6702 - val_loss: 2.4727 - val_accuracy: 0.5299 - val_recall: 0.5197\n",
      "Epoch 19/50\n",
      "3730/3730 [==============================] - 31s 8ms/step - loss: 0.5674 - accuracy: 0.7870 - recall: 0.6697 - val_loss: 0.6628 - val_accuracy: 0.7575 - val_recall: 0.6715\n",
      "Epoch 20/50\n",
      "3730/3730 [==============================] - 30s 8ms/step - loss: 0.5662 - accuracy: 0.7873 - recall: 0.6693 - val_loss: 1.1567 - val_accuracy: 0.6627 - val_recall: 0.6343\n",
      "Epoch 21/50\n",
      "3730/3730 [==============================] - 31s 8ms/step - loss: 0.5652 - accuracy: 0.7878 - recall: 0.6702 - val_loss: 0.8887 - val_accuracy: 0.7205 - val_recall: 0.6389\n",
      "Epoch 22/50\n",
      "3730/3730 [==============================] - 31s 8ms/step - loss: 0.5631 - accuracy: 0.7886 - recall: 0.6719 - val_loss: 3.5110 - val_accuracy: 0.4272 - val_recall: 0.4140\n",
      "Epoch 23/50\n",
      "3730/3730 [==============================] - 31s 8ms/step - loss: 0.5616 - accuracy: 0.7893 - recall: 0.6723 - val_loss: 1.5052 - val_accuracy: 0.5140 - val_recall: 0.4936\n",
      "Epoch 24/50\n",
      "3730/3730 [==============================] - 30s 8ms/step - loss: 0.5596 - accuracy: 0.7896 - recall: 0.6717 - val_loss: 1.4112 - val_accuracy: 0.5499 - val_recall: 0.5250\n",
      "Epoch 25/50\n",
      "3730/3730 [==============================] - 30s 8ms/step - loss: 0.5582 - accuracy: 0.7896 - recall: 0.6738 - val_loss: 0.7819 - val_accuracy: 0.6771 - val_recall: 0.6161\n",
      "Epoch 26/50\n",
      "3730/3730 [==============================] - 30s 8ms/step - loss: 0.5577 - accuracy: 0.7898 - recall: 0.6759 - val_loss: 1.6794 - val_accuracy: 0.5282 - val_recall: 0.5236\n",
      "Epoch 27/50\n",
      "3730/3730 [==============================] - 31s 8ms/step - loss: 0.5579 - accuracy: 0.7898 - recall: 0.6745 - val_loss: 1.1725 - val_accuracy: 0.6713 - val_recall: 0.6153\n",
      "Epoch 28/50\n",
      "3730/3730 [==============================] - 31s 8ms/step - loss: 0.5560 - accuracy: 0.7896 - recall: 0.6739 - val_loss: 0.6959 - val_accuracy: 0.7315 - val_recall: 0.6547\n",
      "Epoch 29/50\n",
      "3730/3730 [==============================] - 31s 8ms/step - loss: 0.5530 - accuracy: 0.7913 - recall: 0.6780 - val_loss: 0.8306 - val_accuracy: 0.7475 - val_recall: 0.6833\n",
      "Epoch 30/50\n",
      "3730/3730 [==============================] - 31s 8ms/step - loss: 0.5538 - accuracy: 0.7910 - recall: 0.6770 - val_loss: 1.1248 - val_accuracy: 0.6851 - val_recall: 0.6436\n",
      "Epoch 31/50\n",
      "3730/3730 [==============================] - 43s 12ms/step - loss: 0.5527 - accuracy: 0.7912 - recall: 0.6768 - val_loss: 0.7331 - val_accuracy: 0.7523 - val_recall: 0.6756\n",
      "Epoch 32/50\n",
      "3730/3730 [==============================] - 33s 9ms/step - loss: 0.5518 - accuracy: 0.7911 - recall: 0.6773 - val_loss: 0.6734 - val_accuracy: 0.7606 - val_recall: 0.6856\n",
      "Epoch 33/50\n",
      "3730/3730 [==============================] - 31s 8ms/step - loss: 0.5502 - accuracy: 0.7912 - recall: 0.6779 - val_loss: 0.9078 - val_accuracy: 0.7240 - val_recall: 0.6473\n",
      "Epoch 34/50\n",
      "3730/3730 [==============================] - 30s 8ms/step - loss: 0.5499 - accuracy: 0.7920 - recall: 0.6792 - val_loss: 1.0522 - val_accuracy: 0.6506 - val_recall: 0.5676\n",
      "Epoch 35/50\n",
      "3730/3730 [==============================] - 31s 8ms/step - loss: 0.5485 - accuracy: 0.7917 - recall: 0.6795 - val_loss: 0.9181 - val_accuracy: 0.7030 - val_recall: 0.6823\n",
      "Epoch 36/50\n",
      "3730/3730 [==============================] - 32s 9ms/step - loss: 0.5480 - accuracy: 0.7922 - recall: 0.6775 - val_loss: 1.8102 - val_accuracy: 0.6534 - val_recall: 0.6223\n",
      "Epoch 37/50\n",
      "3730/3730 [==============================] - 32s 9ms/step - loss: 0.5478 - accuracy: 0.7924 - recall: 0.6775 - val_loss: 0.7428 - val_accuracy: 0.7171 - val_recall: 0.6358\n",
      "Epoch 38/50\n",
      "3730/3730 [==============================] - 32s 9ms/step - loss: 0.5473 - accuracy: 0.7921 - recall: 0.6777 - val_loss: 0.8500 - val_accuracy: 0.7038 - val_recall: 0.6170\n",
      "Epoch 39/50\n",
      "3730/3730 [==============================] - 32s 9ms/step - loss: 0.5462 - accuracy: 0.7928 - recall: 0.6798 - val_loss: 0.7926 - val_accuracy: 0.7210 - val_recall: 0.6391\n",
      "Epoch 40/50\n",
      "3730/3730 [==============================] - 31s 8ms/step - loss: 0.5452 - accuracy: 0.7922 - recall: 0.6791 - val_loss: 0.7319 - val_accuracy: 0.7419 - val_recall: 0.6712\n",
      "Epoch 41/50\n",
      "3730/3730 [==============================] - 30s 8ms/step - loss: 0.5458 - accuracy: 0.7929 - recall: 0.6809 - val_loss: 1.1198 - val_accuracy: 0.6377 - val_recall: 0.5881\n",
      "Epoch 42/50\n",
      "3730/3730 [==============================] - 31s 8ms/step - loss: 0.5439 - accuracy: 0.7934 - recall: 0.6804 - val_loss: 1.1979 - val_accuracy: 0.6883 - val_recall: 0.6212\n",
      "Epoch 43/50\n",
      "3730/3730 [==============================] - 33s 9ms/step - loss: 0.5433 - accuracy: 0.7932 - recall: 0.6793 - val_loss: 1.3067 - val_accuracy: 0.6389 - val_recall: 0.6131\n",
      "Epoch 44/50\n",
      "3730/3730 [==============================] - 32s 9ms/step - loss: 0.5436 - accuracy: 0.7935 - recall: 0.6803 - val_loss: 0.7591 - val_accuracy: 0.7230 - val_recall: 0.6391\n",
      "Epoch 45/50\n",
      "3730/3730 [==============================] - 32s 9ms/step - loss: 0.5416 - accuracy: 0.7946 - recall: 0.6819 - val_loss: 0.7012 - val_accuracy: 0.7616 - val_recall: 0.6835\n",
      "Epoch 46/50\n",
      "3730/3730 [==============================] - 32s 9ms/step - loss: 0.5412 - accuracy: 0.7943 - recall: 0.6810 - val_loss: 0.8140 - val_accuracy: 0.7142 - val_recall: 0.6443\n",
      "Epoch 47/50\n",
      "3730/3730 [==============================] - 32s 9ms/step - loss: 0.5415 - accuracy: 0.7942 - recall: 0.6805 - val_loss: 0.9850 - val_accuracy: 0.7193 - val_recall: 0.6518\n",
      "Epoch 48/50\n",
      "3730/3730 [==============================] - 33s 9ms/step - loss: 0.5409 - accuracy: 0.7942 - recall: 0.6806 - val_loss: 0.8155 - val_accuracy: 0.7362 - val_recall: 0.6780\n",
      "Epoch 49/50\n",
      "3730/3730 [==============================] - 32s 9ms/step - loss: 0.5410 - accuracy: 0.7949 - recall: 0.6820 - val_loss: 0.6805 - val_accuracy: 0.7539 - val_recall: 0.6805\n",
      "Epoch 50/50\n",
      "3730/3730 [==============================] - 32s 9ms/step - loss: 0.5420 - accuracy: 0.7948 - recall: 0.6814 - val_loss: 0.7936 - val_accuracy: 0.7310 - val_recall: 0.6775\n"
     ]
    }
   ],
   "source": [
    "#Define epochs and batch size\n",
    "epochs = 50\n",
    "batch_size = 32\n",
    "\n",
    "#Train the model\n",
    "history = model.fit(X_train, y_train, epochs=epochs, batch_size=batch_size, validation_data=(X_test, y_test))"
   ]
  },
  {
   "cell_type": "markdown",
   "metadata": {},
   "source": [
    "## Evaluate The Model"
   ]
  },
  {
   "cell_type": "code",
   "execution_count": 25,
   "metadata": {},
   "outputs": [
    {
     "name": "stdout",
     "output_type": "stream",
     "text": [
      "1417/1417 [==============================] - 7s 5ms/step - loss: 0.7936 - accuracy: 0.7310 - recall: 0.6775\n",
      "Test Loss: 0.7935869097709656\n",
      "Test Accuracy: 0.7309889793395996\n",
      "Test Recall: 0.6774912476539612\n"
     ]
    }
   ],
   "source": [
    "#Evaluate the model on test data\n",
    "loss, accuracy, recall = model.evaluate(X_test, y_test)\n",
    "print('Test Loss:', loss)\n",
    "print('Test Accuracy:', accuracy)\n",
    "print('Test Recall:', recall)"
   ]
  },
  {
   "cell_type": "code",
   "execution_count": 26,
   "metadata": {},
   "outputs": [
    {
     "name": "stdout",
     "output_type": "stream",
     "text": [
      "1417/1417 [==============================] - 3s 2ms/step\n"
     ]
    }
   ],
   "source": [
    "# make a predictions\n",
    "predictions = model.predict(X_test)"
   ]
  },
  {
   "cell_type": "code",
   "execution_count": 27,
   "metadata": {},
   "outputs": [],
   "source": [
    "# convert one-hot encode predictions to class labels\n",
    "predicted_classes = np.argmax(predictions, axis=1)\n",
    "y_test_categorical = np.argmax(y_test, axis=1)"
   ]
  },
  {
   "cell_type": "markdown",
   "metadata": {},
   "source": [
    "### Confusion Matrix"
   ]
  },
  {
   "cell_type": "code",
   "execution_count": 28,
   "metadata": {},
   "outputs": [],
   "source": [
    "# function to calculate recall from confusion matrix\n",
    "def calculate_recall(confusion_matrix):\n",
    "    num_class = len(confusion_matrix)\n",
    "    recalls = []\n",
    "\n",
    "    for i in range(num_class):\n",
    "        true_positive = confusion_matrix[i][i]\n",
    "        false_negative = sum(confusion_matrix[i]) - true_positive\n",
    "\n",
    "        recall = true_positive / (true_positive + false_negative)\n",
    "        recalls.append(recall)\n",
    "    \n",
    "    return recalls"
   ]
  },
  {
   "cell_type": "code",
   "execution_count": 29,
   "metadata": {},
   "outputs": [],
   "source": [
    "# function to display the recall score\n",
    "def display_recall(recalls):\n",
    "    print('Recall Scores for each class:')\n",
    "    print('Analysis:', recalls[0])\n",
    "    print('Backdoor:', recalls[1])\n",
    "    print('DoS:', recalls[2])\n",
    "    print('Exploits:', recalls[3])\n",
    "    print('Fuzzers:', recalls[4])\n",
    "    print('Generic:', recalls[5])\n",
    "    print('Reconnaissance:', recalls[6])\n",
    "    print('Shellcode:', recalls[7])\n",
    "    print('Worms:', recalls[8])"
   ]
  },
  {
   "cell_type": "code",
   "execution_count": 30,
   "metadata": {},
   "outputs": [],
   "source": [
    "from sklearn.metrics import confusion_matrix"
   ]
  },
  {
   "cell_type": "code",
   "execution_count": 31,
   "metadata": {},
   "outputs": [],
   "source": [
    "matrix = confusion_matrix(y_test_categorical, predicted_classes)\n",
    "matrix_df = pd.DataFrame(matrix, \n",
    "                         index= ['Analysis', 'Backdoor', 'DoS', 'Exploits', 'Fuzzers', 'Generic', 'Reconnaissance', 'Shellcode', 'Worms'], \n",
    "                         columns= ['Analysis', 'Backdoor', 'DoS', 'Exploits', 'Fuzzers', 'Generic', 'Reconnaissance', 'Shellcode', 'Worms'])"
   ]
  },
  {
   "cell_type": "code",
   "execution_count": 32,
   "metadata": {},
   "outputs": [
    {
     "data": {
      "image/png": "[encoded data removed]",
      "text/plain": [
       "<Figure size 2000x2000 with 2 Axes>"
      ]
     },
     "metadata": {},
     "output_type": "display_data"
    }
   ],
   "source": [
    "# Plotting Confusion Matrix\n",
    "plt.figure(figsize = (20, 20))\n",
    "sns.heatmap(matrix_df, fmt='.0f', annot=True)\n",
    "plt.title('Confusion Matrix (1D CNN)')\n",
    "plt.ylabel('Actual Values')\n",
    "plt.xlabel('Predicted Values')\n",
    "plt.show()"
   ]
  },
  {
   "cell_type": "code",
   "execution_count": 33,
   "metadata": {},
   "outputs": [
    {
     "name": "stdout",
     "output_type": "stream",
     "text": [
      "Recall Scores for each class:\n",
      "Analysis: 0.005908419497784343\n",
      "Backdoor: 0.018867924528301886\n",
      "DoS: 0.03741746148202495\n",
      "Exploits: 0.8197825891653939\n",
      "Fuzzers: 0.4378815377000495\n",
      "Generic: 0.9516718774839701\n",
      "Reconnaissance: 0.863519313304721\n",
      "Shellcode: 0.5555555555555556\n",
      "Worms: 0.022727272727272728\n"
     ]
    }
   ],
   "source": [
    "recalls = calculate_recall(matrix)\n",
    "display_recall(recalls)"
   ]
  },
  {
   "cell_type": "markdown",
   "metadata": {},
   "source": [
    "## Save and load the model"
   ]
  },
  {
   "cell_type": "code",
   "execution_count": 34,
   "metadata": {},
   "outputs": [],
   "source": [
    "from keras.models import load_model"
   ]
  },
  {
   "cell_type": "code",
   "execution_count": 35,
   "metadata": {},
   "outputs": [],
   "source": [
    "# save the 1D CNN trained model using keras\n",
    "model.save('/Data/Visual Studio Code/Data-Science/Notebook/UNSW-NB15/CNN/Imbalanced/GPU_Saved/CNN_0/cnn1d.keras')"
   ]
  },
  {
   "cell_type": "code",
   "execution_count": 36,
   "metadata": {},
   "outputs": [],
   "source": [
    "# load the 1D CNN trained model using keras\n",
    "model = load_model('/Data/Visual Studio Code/Data-Science/Notebook/UNSW-NB15/CNN/Imbalanced/GPU_Saved/CNN_0/cnn1d.keras')"
   ]
  },
  {
   "cell_type": "markdown",
   "metadata": {},
   "source": [
    "## Save and load the predicted"
   ]
  },
  {
   "cell_type": "code",
   "execution_count": 37,
   "metadata": {},
   "outputs": [],
   "source": [
    "import joblib"
   ]
  },
  {
   "cell_type": "code",
   "execution_count": 38,
   "metadata": {},
   "outputs": [
    {
     "data": {
      "text/plain": [
       "['/Data/Visual Studio Code/Data-Science/Notebook/UNSW-NB15/CNN/Imbalanced/GPU_Saved/CNN_0/predicted_classes.joblib']"
      ]
     },
     "execution_count": 38,
     "metadata": {},
     "output_type": "execute_result"
    }
   ],
   "source": [
    "# save the predicted\n",
    "joblib.dump(predicted_classes, '/Data/Visual Studio Code/Data-Science/Notebook/UNSW-NB15/CNN/Imbalanced/GPU_Saved/CNN_0/predicted_classes.joblib', compress=('zlib', 3))"
   ]
  },
  {
   "cell_type": "code",
   "execution_count": 39,
   "metadata": {},
   "outputs": [],
   "source": [
    "# load the predicted\n",
    "predicted_classes = joblib.load('/Data/Visual Studio Code/Data-Science/Notebook/UNSW-NB15/CNN/Imbalanced/GPU_Saved/CNN_0/predicted_classes.joblib')"
   ]
  }
 ],
 "metadata": {
  "kernelspec": {
   "display_name": "myenv",
   "language": "python",
   "name": "python3"
  },
  "language_info": {
   "codemirror_mode": {
    "name": "ipython",
    "version": 3
   },
   "file_extension": ".py",
   "mimetype": "text/x-python",
   "name": "python",
   "nbconvert_exporter": "python",
   "pygments_lexer": "ipython3",
   "version": "3.10.13"
  },
  "orig_nbformat": 4
 },
 "nbformat": 4,
 "nbformat_minor": 2
}
