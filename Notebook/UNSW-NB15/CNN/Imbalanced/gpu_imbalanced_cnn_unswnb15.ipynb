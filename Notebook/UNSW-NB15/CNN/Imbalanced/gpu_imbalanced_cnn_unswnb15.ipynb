{
 "cells": [
  {
   "cell_type": "markdown",
   "metadata": {},
   "source": [
    "# Data Preprocessing"
   ]
  },
  {
   "cell_type": "code",
   "execution_count": 1,
   "metadata": {},
   "outputs": [],
   "source": [
    "import tensorflow as tf\n",
    "from keras.models import Sequential\n",
    "from keras.layers import Conv1D, MaxPooling1D, GlobalAveragePooling1D, Dense, Dropout\n",
    "from keras.metrics import Recall, Precision"
   ]
  },
  {
   "cell_type": "code",
   "execution_count": 2,
   "metadata": {},
   "outputs": [
    {
     "name": "stdout",
     "output_type": "stream",
     "text": [
      "Num GPUs Available:  1\n"
     ]
    }
   ],
   "source": [
    "#Check GPU device available\n",
    "print('Num GPUs Available: ', len(tf.config.list_physical_devices('GPU')))"
   ]
  },
  {
   "cell_type": "code",
   "execution_count": 3,
   "metadata": {},
   "outputs": [],
   "source": [
    "import pandas as pd\n",
    "import matplotlib.pyplot as plt\n",
    "import seaborn as sns\n",
    "import numpy as np"
   ]
  },
  {
   "cell_type": "code",
   "execution_count": 4,
   "metadata": {},
   "outputs": [],
   "source": [
    "# Load dataset\n",
    "data_train = pd.read_csv('/Data/Visual Studio Code/Data Science/Dataset/UNSW-NB15/UNSW_NB15_training-set.csv')\n",
    "data_test = pd.read_csv('/Data/Visual Studio Code/Data Science/Dataset/UNSW-NB15/UNSW_NB15_testing-set.csv')"
   ]
  },
  {
   "cell_type": "code",
   "execution_count": 5,
   "metadata": {},
   "outputs": [],
   "source": [
    "# Handle missing value and duplicate if any\n",
    "data_train.dropna(inplace=True)\n",
    "data_train.drop_duplicates(inplace=True)\n",
    "\n",
    "data_test.dropna(inplace=True)\n",
    "data_test.drop_duplicates(inplace=True)"
   ]
  },
  {
   "cell_type": "code",
   "execution_count": 6,
   "metadata": {},
   "outputs": [],
   "source": [
    "#Split Attack and Normal from dataframe\n",
    "data_train_attack = data_train[data_train['label'] == 1]\n",
    "data_test_attack = data_test[data_test['label'] == 1]\n",
    "\n",
    "#Optional\n",
    "#data_train_normal = data_train[data_train['label'] == 0]\n",
    "#data_test_normal = data_test[data_test['label'] == 0]"
   ]
  },
  {
   "cell_type": "code",
   "execution_count": 7,
   "metadata": {},
   "outputs": [],
   "source": [
    "# Drop id and label from train and test data\n",
    "data_train_attack = data_train_attack.drop('id', axis=1)\n",
    "data_train_attack = data_train_attack.drop('label', axis=1)\n",
    "\n",
    "data_test_attack = data_test_attack.drop('id', axis=1)\n",
    "data_test_attack = data_test_attack.drop('label', axis=1)"
   ]
  },
  {
   "cell_type": "code",
   "execution_count": 8,
   "metadata": {},
   "outputs": [
    {
     "name": "stdout",
     "output_type": "stream",
     "text": [
      "6\n",
      "5\n"
     ]
    }
   ],
   "source": [
    "print(data_train_attack['state'].nunique())\n",
    "print(data_test_attack['state'].nunique())"
   ]
  },
  {
   "cell_type": "code",
   "execution_count": 9,
   "metadata": {},
   "outputs": [
    {
     "name": "stdout",
     "output_type": "stream",
     "text": [
      "['INT' 'FIN' 'ACC' 'CON' 'REQ' 'CLO']\n",
      "['INT' 'FIN' 'CON' 'REQ' 'RST']\n"
     ]
    }
   ],
   "source": [
    "print(data_train_attack['state'].unique())\n",
    "print(data_test_attack['state'].unique())"
   ]
  },
  {
   "cell_type": "code",
   "execution_count": 10,
   "metadata": {},
   "outputs": [],
   "source": [
    "#Drop ACC, CLO, and RST from data\n",
    "data_train_attack = data_train_attack[(data_train_attack['state'] != 'ACC') & (data_train_attack['state'] != 'CLO')]\n",
    "data_test_attack = data_test_attack[(data_test_attack['state'] != 'RST')]"
   ]
  },
  {
   "cell_type": "code",
   "execution_count": 11,
   "metadata": {},
   "outputs": [
    {
     "name": "stdout",
     "output_type": "stream",
     "text": [
      "['INT' 'FIN' 'CON' 'REQ']\n",
      "['INT' 'FIN' 'CON' 'REQ']\n"
     ]
    }
   ],
   "source": [
    "print(data_train_attack['state'].unique())\n",
    "print(data_test_attack['state'].unique())"
   ]
  },
  {
   "cell_type": "markdown",
   "metadata": {},
   "source": [
    "## Encode Train and Test Data"
   ]
  },
  {
   "cell_type": "code",
   "execution_count": 12,
   "metadata": {},
   "outputs": [
    {
     "data": {
      "text/plain": [
       "['proto', 'state', 'service']"
      ]
     },
     "execution_count": 12,
     "metadata": {},
     "output_type": "execute_result"
    }
   ],
   "source": [
    "#column to encode\n",
    "cols = ['proto','state','service']\n",
    "cols"
   ]
  },
  {
   "cell_type": "code",
   "execution_count": 13,
   "metadata": {},
   "outputs": [],
   "source": [
    "#One-hot Encoding\n",
    "# Encode train data\n",
    "data_train_attack = pd.get_dummies(data_train_attack, columns=cols)\n",
    "\n",
    "# Encode test data\n",
    "data_test_attack = pd.get_dummies(data_test_attack, columns=cols)"
   ]
  },
  {
   "cell_type": "code",
   "execution_count": 14,
   "metadata": {},
   "outputs": [],
   "source": [
    "train_attack_cat = data_train_attack.pop('attack_cat')\n",
    "test_attack_cat = data_test_attack.pop('attack_cat')"
   ]
  },
  {
   "cell_type": "markdown",
   "metadata": {},
   "source": [
    "## Normalization"
   ]
  },
  {
   "cell_type": "code",
   "execution_count": 15,
   "metadata": {},
   "outputs": [],
   "source": [
    "# Min-Max Normalization\n",
    "from sklearn.preprocessing import MinMaxScaler\n",
    "\n",
    "scaler = MinMaxScaler()\n",
    "cols_to_norm = ['dur', 'spkts', 'dpkts', 'sbytes', 'dbytes', 'rate', 'sttl', 'dttl', 'sload', \n",
    "                'dload', 'sloss', 'dloss', 'sinpkt', 'dinpkt', 'sjit', 'djit', 'swin', 'stcpb', 'dtcpb', 'dwin', 'tcprtt', 'synack', \n",
    "                'ackdat', 'smean', 'dmean', 'trans_depth', 'response_body_len', 'ct_srv_src', 'ct_state_ttl', 'ct_dst_ltm', \n",
    "                'ct_src_dport_ltm', 'ct_dst_sport_ltm', 'ct_dst_src_ltm', 'is_ftp_login', 'ct_ftp_cmd', 'ct_flw_http_mthd', 'ct_src_ltm', \n",
    "                'ct_srv_dst', 'is_sm_ips_ports']\n",
    "\n",
    "data_train_attack[cols_to_norm] = scaler.fit_transform(data_train_attack[cols_to_norm])\n",
    "data_test_attack[cols_to_norm] = scaler.fit_transform(data_test_attack[cols_to_norm])"
   ]
  },
  {
   "cell_type": "markdown",
   "metadata": {},
   "source": [
    "## Feature Selection"
   ]
  },
  {
   "cell_type": "code",
   "execution_count": 16,
   "metadata": {},
   "outputs": [
    {
     "data": {
      "text/plain": [
       "dur               float64\n",
       "spkts             float64\n",
       "dpkts             float64\n",
       "sbytes            float64\n",
       "dbytes            float64\n",
       "                   ...   \n",
       "service_radius       bool\n",
       "service_smtp         bool\n",
       "service_snmp         bool\n",
       "service_ssh          bool\n",
       "service_ssl          bool\n",
       "Length: 181, dtype: object"
      ]
     },
     "execution_count": 16,
     "metadata": {},
     "output_type": "execute_result"
    }
   ],
   "source": [
    "#Feature Selection\n",
    "feature = data_train_attack.drop(['dinpkt', 'ct_ftp_cmd', 'ct_src_dport_ltm', 'is_sm_ips_ports'], axis=1)\n",
    "feature.dtypes"
   ]
  },
  {
   "cell_type": "markdown",
   "metadata": {},
   "source": [
    "# Split Data"
   ]
  },
  {
   "cell_type": "code",
   "execution_count": 17,
   "metadata": {},
   "outputs": [
    {
     "data": {
      "text/plain": [
       "((45329, 181), (45329,), (119329, 181), (119329,))"
      ]
     },
     "execution_count": 17,
     "metadata": {},
     "output_type": "execute_result"
    }
   ],
   "source": [
    "#Splitting the dataset into dependent and independent feature\n",
    "X_train = feature\n",
    "y_train = train_attack_cat\n",
    "\n",
    "X_test = data_test_attack.drop(columns=['dinpkt', 'ct_ftp_cmd', 'ct_src_dport_ltm', 'is_sm_ips_ports'])\n",
    "y_test = test_attack_cat\n",
    "\n",
    "X_train.shape, y_train.shape, X_test.shape, y_test.shape"
   ]
  },
  {
   "cell_type": "markdown",
   "metadata": {},
   "source": [
    "# Model Architecture"
   ]
  },
  {
   "cell_type": "markdown",
   "metadata": {},
   "source": [
    "## CNN Model"
   ]
  },
  {
   "cell_type": "code",
   "execution_count": 18,
   "metadata": {},
   "outputs": [],
   "source": [
    "# Define the input shape\n",
    "input_shape = (181, 1)\n",
    "\n",
    "#Create the sequential model\n",
    "model = Sequential()\n",
    "model.add(Conv1D(64, kernel_size=3, activation='relu', input_shape=input_shape))\n",
    "model.add(MaxPooling1D(pool_size=2)) # reduces the spatial dimensions of the output volume\n",
    "model.add(Conv1D(128, kernel_size=3, activation='relu'))\n",
    "model.add(GlobalAveragePooling1D()) # computes the average of all values across the spatial dimensions, effectively flattening the data\n",
    "model.add(Dropout(0.5)) # helps prevent overfitting by randomly setting a fraction of input units to 0 during training\n",
    "model.add(Dense(256, activation='relu'))\n",
    "model.add(Dense(9, activation='softmax'))\n",
    "\n",
    "#Compile the model\n",
    "model.compile(optimizer='adam', loss='categorical_crossentropy', metrics=['accuracy', Recall(), Precision()])"
   ]
  },
  {
   "cell_type": "code",
   "execution_count": 19,
   "metadata": {},
   "outputs": [
    {
     "name": "stdout",
     "output_type": "stream",
     "text": [
      "Model: \"sequential\"\n",
      "_________________________________________________________________\n",
      " Layer (type)                Output Shape              Param #   \n",
      "=================================================================\n",
      " conv1d (Conv1D)             (None, 179, 64)           256       \n",
      "                                                                 \n",
      " max_pooling1d (MaxPooling1D  (None, 89, 64)           0         \n",
      " )                                                               \n",
      "                                                                 \n",
      " conv1d_1 (Conv1D)           (None, 87, 128)           24704     \n",
      "                                                                 \n",
      " global_average_pooling1d (G  (None, 128)              0         \n",
      " lobalAveragePooling1D)                                          \n",
      "                                                                 \n",
      " dropout (Dropout)           (None, 128)               0         \n",
      "                                                                 \n",
      " dense (Dense)               (None, 256)               33024     \n",
      "                                                                 \n",
      " dense_1 (Dense)             (None, 9)                 2313      \n",
      "                                                                 \n",
      "=================================================================\n",
      "Total params: 60,297\n",
      "Trainable params: 60,297\n",
      "Non-trainable params: 0\n",
      "_________________________________________________________________\n"
     ]
    }
   ],
   "source": [
    "#Print the model summary\n",
    "model.summary()"
   ]
  },
  {
   "cell_type": "markdown",
   "metadata": {},
   "source": [
    "## Train the model"
   ]
  },
  {
   "cell_type": "code",
   "execution_count": 20,
   "metadata": {},
   "outputs": [],
   "source": [
    "from keras.utils import to_categorical\n",
    "from sklearn.preprocessing import LabelEncoder"
   ]
  },
  {
   "cell_type": "code",
   "execution_count": 21,
   "metadata": {},
   "outputs": [],
   "source": [
    "le = LabelEncoder()\n",
    "\n",
    "y_train = le.fit_transform(y_train)\n",
    "y_test = le.fit_transform(y_test)"
   ]
  },
  {
   "cell_type": "code",
   "execution_count": 22,
   "metadata": {},
   "outputs": [],
   "source": [
    "num_class = 9\n",
    "y_train = to_categorical(y_train, num_class)\n",
    "y_test = to_categorical(y_test, num_class)"
   ]
  },
  {
   "cell_type": "code",
   "execution_count": 23,
   "metadata": {},
   "outputs": [],
   "source": [
    "X_train = np.array(X_train, dtype=np.float32)\n",
    "X_test = np.array(X_test, dtype=np.float32)"
   ]
  },
  {
   "cell_type": "code",
   "execution_count": 24,
   "metadata": {},
   "outputs": [
    {
     "name": "stdout",
     "output_type": "stream",
     "text": [
      "Epoch 1/10\n",
      "1417/1417 [==============================] - 23s 14ms/step - loss: 1.0791 - accuracy: 0.6125 - recall: 0.4327 - precision: 0.8594 - val_loss: 0.9432 - val_accuracy: 0.6706 - val_recall: 0.4672 - val_precision: 0.8929\n",
      "Epoch 2/10\n",
      "1417/1417 [==============================] - 21s 15ms/step - loss: 0.8625 - accuracy: 0.6828 - recall: 0.5490 - precision: 0.8818 - val_loss: 0.9039 - val_accuracy: 0.6702 - val_recall: 0.4802 - val_precision: 0.8888\n",
      "Epoch 3/10\n",
      "1417/1417 [==============================] - 22s 15ms/step - loss: 0.8304 - accuracy: 0.6894 - recall: 0.5620 - precision: 0.8891 - val_loss: 0.8928 - val_accuracy: 0.6777 - val_recall: 0.4799 - val_precision: 0.8882\n",
      "Epoch 4/10\n",
      "1417/1417 [==============================] - 22s 15ms/step - loss: 0.8111 - accuracy: 0.6948 - recall: 0.5673 - precision: 0.8956 - val_loss: 0.8712 - val_accuracy: 0.6864 - val_recall: 0.4935 - val_precision: 0.9251\n",
      "Epoch 5/10\n",
      "1417/1417 [==============================] - 22s 16ms/step - loss: 0.7882 - accuracy: 0.7008 - recall: 0.5723 - precision: 0.8999 - val_loss: 0.8645 - val_accuracy: 0.6810 - val_recall: 0.5319 - val_precision: 0.8728\n",
      "Epoch 6/10\n",
      "1417/1417 [==============================] - 22s 15ms/step - loss: 0.7634 - accuracy: 0.7140 - recall: 0.5831 - precision: 0.9001 - val_loss: 0.8501 - val_accuracy: 0.6863 - val_recall: 0.4964 - val_precision: 0.9339\n",
      "Epoch 7/10\n",
      "1417/1417 [==============================] - 21s 15ms/step - loss: 0.7436 - accuracy: 0.7228 - recall: 0.5938 - precision: 0.9011 - val_loss: 0.8366 - val_accuracy: 0.6869 - val_recall: 0.5380 - val_precision: 0.8945\n",
      "Epoch 8/10\n",
      "1417/1417 [==============================] - 21s 15ms/step - loss: 0.7263 - accuracy: 0.7330 - recall: 0.6069 - precision: 0.9015 - val_loss: 0.8436 - val_accuracy: 0.6832 - val_recall: 0.5514 - val_precision: 0.8861\n",
      "Epoch 9/10\n",
      "1417/1417 [==============================] - 22s 16ms/step - loss: 0.7154 - accuracy: 0.7357 - recall: 0.6128 - precision: 0.9000 - val_loss: 0.8297 - val_accuracy: 0.6955 - val_recall: 0.5448 - val_precision: 0.9020\n",
      "Epoch 10/10\n",
      "1417/1417 [==============================] - 22s 16ms/step - loss: 0.7069 - accuracy: 0.7397 - recall: 0.6218 - precision: 0.8990 - val_loss: 0.8139 - val_accuracy: 0.7096 - val_recall: 0.5771 - val_precision: 0.8734\n"
     ]
    }
   ],
   "source": [
    "#Define epochs and batch size\n",
    "epochs = 10\n",
    "batch_size = 32\n",
    "\n",
    "#Train the model\n",
    "history = model.fit(X_train, y_train, epochs=epochs, batch_size=batch_size, validation_data=(X_test, y_test))"
   ]
  },
  {
   "cell_type": "code",
   "execution_count": 25,
   "metadata": {},
   "outputs": [
    {
     "name": "stdout",
     "output_type": "stream",
     "text": [
      "Epoch 1/20\n",
      "1417/1417 [==============================] - 23s 16ms/step - loss: 0.6989 - accuracy: 0.7412 - recall: 0.6273 - precision: 0.8958 - val_loss: 0.8438 - val_accuracy: 0.6967 - val_recall: 0.5714 - val_precision: 0.8652\n",
      "Epoch 2/20\n",
      "1417/1417 [==============================] - 23s 16ms/step - loss: 0.6907 - accuracy: 0.7443 - recall: 0.6324 - precision: 0.8973 - val_loss: 0.8082 - val_accuracy: 0.7006 - val_recall: 0.5821 - val_precision: 0.8801\n",
      "Epoch 3/20\n",
      "1417/1417 [==============================] - 23s 16ms/step - loss: 0.6847 - accuracy: 0.7486 - recall: 0.6396 - precision: 0.8956 - val_loss: 0.8100 - val_accuracy: 0.7054 - val_recall: 0.5749 - val_precision: 0.8830\n",
      "Epoch 4/20\n",
      "1417/1417 [==============================] - 24s 17ms/step - loss: 0.6781 - accuracy: 0.7514 - recall: 0.6442 - precision: 0.8937 - val_loss: 0.8075 - val_accuracy: 0.6861 - val_recall: 0.5882 - val_precision: 0.8649\n",
      "Epoch 5/20\n",
      "1417/1417 [==============================] - 23s 16ms/step - loss: 0.6719 - accuracy: 0.7531 - recall: 0.6488 - precision: 0.8916 - val_loss: 0.8081 - val_accuracy: 0.7081 - val_recall: 0.5905 - val_precision: 0.8651\n",
      "Epoch 6/20\n",
      "1417/1417 [==============================] - 22s 15ms/step - loss: 0.6656 - accuracy: 0.7545 - recall: 0.6504 - precision: 0.8920 - val_loss: 0.7976 - val_accuracy: 0.7104 - val_recall: 0.5992 - val_precision: 0.8580\n",
      "Epoch 7/20\n",
      "1417/1417 [==============================] - 22s 15ms/step - loss: 0.6590 - accuracy: 0.7569 - recall: 0.6549 - precision: 0.8925 - val_loss: 0.7819 - val_accuracy: 0.7187 - val_recall: 0.5950 - val_precision: 0.8753\n",
      "Epoch 8/20\n",
      "1417/1417 [==============================] - 24s 17ms/step - loss: 0.6527 - accuracy: 0.7590 - recall: 0.6584 - precision: 0.8910 - val_loss: 0.7939 - val_accuracy: 0.7149 - val_recall: 0.5867 - val_precision: 0.8776\n",
      "Epoch 9/20\n",
      "1417/1417 [==============================] - 22s 16ms/step - loss: 0.6465 - accuracy: 0.7606 - recall: 0.6617 - precision: 0.8932 - val_loss: 0.7850 - val_accuracy: 0.7214 - val_recall: 0.5987 - val_precision: 0.8672\n",
      "Epoch 10/20\n",
      "1417/1417 [==============================] - 21s 15ms/step - loss: 0.6428 - accuracy: 0.7611 - recall: 0.6627 - precision: 0.8902 - val_loss: 0.7935 - val_accuracy: 0.7069 - val_recall: 0.5900 - val_precision: 0.8723\n",
      "Epoch 11/20\n",
      "1417/1417 [==============================] - 22s 15ms/step - loss: 0.6364 - accuracy: 0.7637 - recall: 0.6676 - precision: 0.8897 - val_loss: 0.7945 - val_accuracy: 0.7069 - val_recall: 0.6011 - val_precision: 0.8604\n",
      "Epoch 12/20\n",
      "1417/1417 [==============================] - 21s 15ms/step - loss: 0.6310 - accuracy: 0.7665 - recall: 0.6701 - precision: 0.8909 - val_loss: 0.7876 - val_accuracy: 0.7149 - val_recall: 0.6120 - val_precision: 0.8509\n",
      "Epoch 13/20\n",
      "1417/1417 [==============================] - 22s 15ms/step - loss: 0.6287 - accuracy: 0.7660 - recall: 0.6714 - precision: 0.8906 - val_loss: 0.7592 - val_accuracy: 0.7225 - val_recall: 0.6005 - val_precision: 0.8849\n",
      "Epoch 14/20\n",
      "1417/1417 [==============================] - 22s 15ms/step - loss: 0.6229 - accuracy: 0.7675 - recall: 0.6723 - precision: 0.8913 - val_loss: 0.7614 - val_accuracy: 0.7226 - val_recall: 0.6056 - val_precision: 0.8707\n",
      "Epoch 15/20\n",
      "1417/1417 [==============================] - 22s 15ms/step - loss: 0.6174 - accuracy: 0.7689 - recall: 0.6765 - precision: 0.8895 - val_loss: 0.7653 - val_accuracy: 0.7286 - val_recall: 0.6060 - val_precision: 0.8763\n",
      "Epoch 16/20\n",
      "1417/1417 [==============================] - 21s 15ms/step - loss: 0.6137 - accuracy: 0.7684 - recall: 0.6784 - precision: 0.8917 - val_loss: 0.7621 - val_accuracy: 0.7293 - val_recall: 0.6012 - val_precision: 0.8799\n",
      "Epoch 17/20\n",
      "1417/1417 [==============================] - 21s 15ms/step - loss: 0.6110 - accuracy: 0.7686 - recall: 0.6793 - precision: 0.8900 - val_loss: 0.7503 - val_accuracy: 0.7287 - val_recall: 0.6089 - val_precision: 0.8789\n",
      "Epoch 18/20\n",
      "1417/1417 [==============================] - 21s 15ms/step - loss: 0.6062 - accuracy: 0.7699 - recall: 0.6812 - precision: 0.8900 - val_loss: 0.7400 - val_accuracy: 0.7346 - val_recall: 0.6169 - val_precision: 0.8710\n",
      "Epoch 19/20\n",
      "1417/1417 [==============================] - 21s 15ms/step - loss: 0.6026 - accuracy: 0.7725 - recall: 0.6847 - precision: 0.8903 - val_loss: 0.7634 - val_accuracy: 0.7172 - val_recall: 0.6032 - val_precision: 0.8805\n",
      "Epoch 20/20\n",
      "1417/1417 [==============================] - 22s 15ms/step - loss: 0.5987 - accuracy: 0.7744 - recall: 0.6853 - precision: 0.8916 - val_loss: 0.7420 - val_accuracy: 0.7254 - val_recall: 0.6204 - val_precision: 0.8745\n"
     ]
    }
   ],
   "source": [
    "#Define epochs and batch size\n",
    "epochs = 20\n",
    "batch_size = 32\n",
    "\n",
    "#Train the model\n",
    "history = model.fit(X_train, y_train, epochs=epochs, batch_size=batch_size, validation_data=(X_test, y_test))"
   ]
  },
  {
   "cell_type": "code",
   "execution_count": 26,
   "metadata": {},
   "outputs": [
    {
     "name": "stdout",
     "output_type": "stream",
     "text": [
      "Epoch 1/30\n",
      "1417/1417 [==============================] - 21s 15ms/step - loss: 0.5980 - accuracy: 0.7735 - recall: 0.6866 - precision: 0.8903 - val_loss: 0.7650 - val_accuracy: 0.7240 - val_recall: 0.6086 - val_precision: 0.8732\n",
      "Epoch 2/30\n",
      "1417/1417 [==============================] - 21s 15ms/step - loss: 0.5938 - accuracy: 0.7731 - recall: 0.6845 - precision: 0.8941 - val_loss: 0.7469 - val_accuracy: 0.7324 - val_recall: 0.6072 - val_precision: 0.8866\n",
      "Epoch 3/30\n",
      "1417/1417 [==============================] - 22s 15ms/step - loss: 0.5904 - accuracy: 0.7747 - recall: 0.6880 - precision: 0.8957 - val_loss: 0.7403 - val_accuracy: 0.7503 - val_recall: 0.6191 - val_precision: 0.8840\n",
      "Epoch 4/30\n",
      "1417/1417 [==============================] - 21s 15ms/step - loss: 0.5879 - accuracy: 0.7743 - recall: 0.6869 - precision: 0.8957 - val_loss: 0.7399 - val_accuracy: 0.7329 - val_recall: 0.6129 - val_precision: 0.8902\n",
      "Epoch 5/30\n",
      "1417/1417 [==============================] - 20s 14ms/step - loss: 0.5861 - accuracy: 0.7762 - recall: 0.6877 - precision: 0.8963 - val_loss: 0.7362 - val_accuracy: 0.7417 - val_recall: 0.6200 - val_precision: 0.8819\n",
      "Epoch 6/30\n",
      "1417/1417 [==============================] - 21s 15ms/step - loss: 0.5835 - accuracy: 0.7756 - recall: 0.6889 - precision: 0.8967 - val_loss: 0.7468 - val_accuracy: 0.7228 - val_recall: 0.6138 - val_precision: 0.8832\n",
      "Epoch 7/30\n",
      "1417/1417 [==============================] - 21s 15ms/step - loss: 0.5810 - accuracy: 0.7765 - recall: 0.6908 - precision: 0.8955 - val_loss: 0.7510 - val_accuracy: 0.7457 - val_recall: 0.6205 - val_precision: 0.8771\n",
      "Epoch 8/30\n",
      "1417/1417 [==============================] - 21s 15ms/step - loss: 0.5772 - accuracy: 0.7781 - recall: 0.6903 - precision: 0.8989 - val_loss: 0.7424 - val_accuracy: 0.7296 - val_recall: 0.6217 - val_precision: 0.8869\n",
      "Epoch 9/30\n",
      "1417/1417 [==============================] - 21s 15ms/step - loss: 0.5795 - accuracy: 0.7779 - recall: 0.6902 - precision: 0.8977 - val_loss: 0.7328 - val_accuracy: 0.7349 - val_recall: 0.6227 - val_precision: 0.8879\n",
      "Epoch 10/30\n",
      "1417/1417 [==============================] - 21s 15ms/step - loss: 0.5752 - accuracy: 0.7785 - recall: 0.6902 - precision: 0.8985 - val_loss: 0.7319 - val_accuracy: 0.7441 - val_recall: 0.6225 - val_precision: 0.8921\n",
      "Epoch 11/30\n",
      "1417/1417 [==============================] - 21s 15ms/step - loss: 0.5750 - accuracy: 0.7789 - recall: 0.6909 - precision: 0.8997 - val_loss: 0.7429 - val_accuracy: 0.7331 - val_recall: 0.6077 - val_precision: 0.8927\n",
      "Epoch 12/30\n",
      "1417/1417 [==============================] - 20s 14ms/step - loss: 0.5741 - accuracy: 0.7780 - recall: 0.6917 - precision: 0.8979 - val_loss: 0.7373 - val_accuracy: 0.7287 - val_recall: 0.6212 - val_precision: 0.8914\n",
      "Epoch 13/30\n",
      "1417/1417 [==============================] - 21s 15ms/step - loss: 0.5721 - accuracy: 0.7787 - recall: 0.6917 - precision: 0.8987 - val_loss: 0.7239 - val_accuracy: 0.7438 - val_recall: 0.6285 - val_precision: 0.8860\n",
      "Epoch 14/30\n",
      "1417/1417 [==============================] - 21s 15ms/step - loss: 0.5718 - accuracy: 0.7789 - recall: 0.6932 - precision: 0.8978 - val_loss: 0.7290 - val_accuracy: 0.7307 - val_recall: 0.6222 - val_precision: 0.8919\n",
      "Epoch 15/30\n",
      "1417/1417 [==============================] - 20s 14ms/step - loss: 0.5704 - accuracy: 0.7785 - recall: 0.6938 - precision: 0.8989 - val_loss: 0.7366 - val_accuracy: 0.7330 - val_recall: 0.6217 - val_precision: 0.8887\n",
      "Epoch 16/30\n",
      "1417/1417 [==============================] - 20s 14ms/step - loss: 0.5696 - accuracy: 0.7780 - recall: 0.6934 - precision: 0.8997 - val_loss: 0.7307 - val_accuracy: 0.7381 - val_recall: 0.6303 - val_precision: 0.8838\n",
      "Epoch 17/30\n",
      "1417/1417 [==============================] - 20s 14ms/step - loss: 0.5651 - accuracy: 0.7813 - recall: 0.6951 - precision: 0.9001 - val_loss: 0.7423 - val_accuracy: 0.7442 - val_recall: 0.6273 - val_precision: 0.8792\n",
      "Epoch 18/30\n",
      "1417/1417 [==============================] - 21s 15ms/step - loss: 0.5641 - accuracy: 0.7800 - recall: 0.6930 - precision: 0.9008 - val_loss: 0.7313 - val_accuracy: 0.7393 - val_recall: 0.6259 - val_precision: 0.8883\n",
      "Epoch 19/30\n",
      "1417/1417 [==============================] - 21s 15ms/step - loss: 0.5619 - accuracy: 0.7817 - recall: 0.6969 - precision: 0.9000 - val_loss: 0.7292 - val_accuracy: 0.7418 - val_recall: 0.6317 - val_precision: 0.8835\n",
      "Epoch 20/30\n",
      "1417/1417 [==============================] - 20s 14ms/step - loss: 0.5637 - accuracy: 0.7806 - recall: 0.6953 - precision: 0.9016 - val_loss: 0.7352 - val_accuracy: 0.7333 - val_recall: 0.6228 - val_precision: 0.8903\n",
      "Epoch 21/30\n",
      "1417/1417 [==============================] - 21s 15ms/step - loss: 0.5596 - accuracy: 0.7831 - recall: 0.6972 - precision: 0.9017 - val_loss: 0.7533 - val_accuracy: 0.7272 - val_recall: 0.6268 - val_precision: 0.8783\n",
      "Epoch 22/30\n",
      "1417/1417 [==============================] - 21s 15ms/step - loss: 0.5592 - accuracy: 0.7812 - recall: 0.6956 - precision: 0.9018 - val_loss: 0.7379 - val_accuracy: 0.7457 - val_recall: 0.6339 - val_precision: 0.8784\n",
      "Epoch 23/30\n",
      "1417/1417 [==============================] - 20s 14ms/step - loss: 0.5589 - accuracy: 0.7816 - recall: 0.6952 - precision: 0.9027 - val_loss: 0.7354 - val_accuracy: 0.7305 - val_recall: 0.6204 - val_precision: 0.8839\n",
      "Epoch 24/30\n",
      "1417/1417 [==============================] - 19s 14ms/step - loss: 0.5561 - accuracy: 0.7822 - recall: 0.6959 - precision: 0.9038 - val_loss: 0.7370 - val_accuracy: 0.7289 - val_recall: 0.6154 - val_precision: 0.8900\n",
      "Epoch 25/30\n",
      "1417/1417 [==============================] - 20s 14ms/step - loss: 0.5543 - accuracy: 0.7836 - recall: 0.6971 - precision: 0.9029 - val_loss: 0.7209 - val_accuracy: 0.7395 - val_recall: 0.6226 - val_precision: 0.8964\n",
      "Epoch 26/30\n",
      "1417/1417 [==============================] - 20s 14ms/step - loss: 0.5540 - accuracy: 0.7847 - recall: 0.6974 - precision: 0.9022 - val_loss: 0.7235 - val_accuracy: 0.7356 - val_recall: 0.6182 - val_precision: 0.8947\n",
      "Epoch 27/30\n",
      "1417/1417 [==============================] - 21s 15ms/step - loss: 0.5531 - accuracy: 0.7842 - recall: 0.6983 - precision: 0.9036 - val_loss: 0.7334 - val_accuracy: 0.7359 - val_recall: 0.6290 - val_precision: 0.8920\n",
      "Epoch 28/30\n",
      "1417/1417 [==============================] - 20s 14ms/step - loss: 0.5516 - accuracy: 0.7833 - recall: 0.6977 - precision: 0.9041 - val_loss: 0.7333 - val_accuracy: 0.7302 - val_recall: 0.6287 - val_precision: 0.8881\n",
      "Epoch 29/30\n",
      "1417/1417 [==============================] - 22s 15ms/step - loss: 0.5517 - accuracy: 0.7836 - recall: 0.6993 - precision: 0.9040 - val_loss: 0.7435 - val_accuracy: 0.7408 - val_recall: 0.6113 - val_precision: 0.8996\n",
      "Epoch 30/30\n",
      "1417/1417 [==============================] - 21s 15ms/step - loss: 0.5486 - accuracy: 0.7821 - recall: 0.6994 - precision: 0.9029 - val_loss: 0.7410 - val_accuracy: 0.7308 - val_recall: 0.6050 - val_precision: 0.8883\n"
     ]
    }
   ],
   "source": [
    "#Define epochs and batch size\n",
    "epochs = 30\n",
    "batch_size = 32\n",
    "\n",
    "#Train the model\n",
    "history = model.fit(X_train, y_train, epochs=epochs, batch_size=batch_size, validation_data=(X_test, y_test))"
   ]
  },
  {
   "cell_type": "code",
   "execution_count": 27,
   "metadata": {},
   "outputs": [
    {
     "name": "stdout",
     "output_type": "stream",
     "text": [
      "Epoch 1/40\n",
      "1417/1417 [==============================] - 22s 16ms/step - loss: 0.5472 - accuracy: 0.7844 - recall: 0.7004 - precision: 0.9021 - val_loss: 0.7610 - val_accuracy: 0.7087 - val_recall: 0.6014 - val_precision: 0.8677\n",
      "Epoch 2/40\n",
      "1417/1417 [==============================] - 21s 15ms/step - loss: 0.5471 - accuracy: 0.7857 - recall: 0.6994 - precision: 0.9042 - val_loss: 0.7311 - val_accuracy: 0.7405 - val_recall: 0.6263 - val_precision: 0.8867\n",
      "Epoch 3/40\n",
      "1417/1417 [==============================] - 21s 15ms/step - loss: 0.5473 - accuracy: 0.7848 - recall: 0.6994 - precision: 0.9047 - val_loss: 0.7191 - val_accuracy: 0.7349 - val_recall: 0.6271 - val_precision: 0.8895\n",
      "Epoch 4/40\n",
      "1417/1417 [==============================] - 21s 15ms/step - loss: 0.5446 - accuracy: 0.7860 - recall: 0.7005 - precision: 0.9035 - val_loss: 0.7357 - val_accuracy: 0.7469 - val_recall: 0.6122 - val_precision: 0.8767\n",
      "Epoch 5/40\n",
      "1417/1417 [==============================] - 20s 14ms/step - loss: 0.5446 - accuracy: 0.7852 - recall: 0.7015 - precision: 0.9039 - val_loss: 0.7326 - val_accuracy: 0.7480 - val_recall: 0.6194 - val_precision: 0.8820\n",
      "Epoch 6/40\n",
      "1417/1417 [==============================] - 20s 14ms/step - loss: 0.5431 - accuracy: 0.7866 - recall: 0.7006 - precision: 0.9061 - val_loss: 0.7489 - val_accuracy: 0.7339 - val_recall: 0.6152 - val_precision: 0.8810\n",
      "Epoch 7/40\n",
      "1417/1417 [==============================] - 21s 15ms/step - loss: 0.5405 - accuracy: 0.7869 - recall: 0.7020 - precision: 0.9059 - val_loss: 0.7330 - val_accuracy: 0.7423 - val_recall: 0.6118 - val_precision: 0.8866\n",
      "Epoch 8/40\n",
      "1417/1417 [==============================] - 24s 17ms/step - loss: 0.5406 - accuracy: 0.7855 - recall: 0.7024 - precision: 0.9052 - val_loss: 0.7296 - val_accuracy: 0.7360 - val_recall: 0.6152 - val_precision: 0.8871\n",
      "Epoch 9/40\n",
      "1417/1417 [==============================] - 25s 18ms/step - loss: 0.5399 - accuracy: 0.7882 - recall: 0.7026 - precision: 0.9058 - val_loss: 0.7535 - val_accuracy: 0.7290 - val_recall: 0.6316 - val_precision: 0.8769\n",
      "Epoch 10/40\n",
      "1417/1417 [==============================] - 22s 16ms/step - loss: 0.5384 - accuracy: 0.7890 - recall: 0.7036 - precision: 0.9041 - val_loss: 0.7454 - val_accuracy: 0.7299 - val_recall: 0.6047 - val_precision: 0.8888\n",
      "Epoch 11/40\n",
      "1417/1417 [==============================] - 22s 16ms/step - loss: 0.5411 - accuracy: 0.7861 - recall: 0.7009 - precision: 0.9058 - val_loss: 0.7448 - val_accuracy: 0.7288 - val_recall: 0.6023 - val_precision: 0.8830\n",
      "Epoch 12/40\n",
      "1417/1417 [==============================] - 22s 15ms/step - loss: 0.5381 - accuracy: 0.7885 - recall: 0.7033 - precision: 0.9060 - val_loss: 0.7420 - val_accuracy: 0.7307 - val_recall: 0.6070 - val_precision: 0.8868\n",
      "Epoch 13/40\n",
      "1417/1417 [==============================] - 22s 16ms/step - loss: 0.5377 - accuracy: 0.7885 - recall: 0.7020 - precision: 0.9074 - val_loss: 0.7465 - val_accuracy: 0.7309 - val_recall: 0.6038 - val_precision: 0.8782\n",
      "Epoch 14/40\n",
      "1417/1417 [==============================] - 22s 15ms/step - loss: 0.5345 - accuracy: 0.7894 - recall: 0.7040 - precision: 0.9058 - val_loss: 0.7283 - val_accuracy: 0.7394 - val_recall: 0.6355 - val_precision: 0.8825\n",
      "Epoch 15/40\n",
      "1417/1417 [==============================] - 22s 16ms/step - loss: 0.5350 - accuracy: 0.7882 - recall: 0.7033 - precision: 0.9053 - val_loss: 0.7647 - val_accuracy: 0.7075 - val_recall: 0.6005 - val_precision: 0.8841\n",
      "Epoch 16/40\n",
      "1417/1417 [==============================] - 22s 15ms/step - loss: 0.5349 - accuracy: 0.7887 - recall: 0.7052 - precision: 0.9061 - val_loss: 0.7320 - val_accuracy: 0.7364 - val_recall: 0.6203 - val_precision: 0.8980\n",
      "Epoch 17/40\n",
      "1417/1417 [==============================] - 22s 15ms/step - loss: 0.5338 - accuracy: 0.7873 - recall: 0.7039 - precision: 0.9081 - val_loss: 0.7307 - val_accuracy: 0.7385 - val_recall: 0.6142 - val_precision: 0.8930\n",
      "Epoch 18/40\n",
      "1417/1417 [==============================] - 22s 15ms/step - loss: 0.5324 - accuracy: 0.7904 - recall: 0.7053 - precision: 0.9079 - val_loss: 0.7390 - val_accuracy: 0.7342 - val_recall: 0.6166 - val_precision: 0.8863\n",
      "Epoch 19/40\n",
      "1417/1417 [==============================] - 21s 15ms/step - loss: 0.5329 - accuracy: 0.7902 - recall: 0.7061 - precision: 0.9068 - val_loss: 0.7239 - val_accuracy: 0.7377 - val_recall: 0.6237 - val_precision: 0.8975\n",
      "Epoch 20/40\n",
      "1417/1417 [==============================] - 22s 16ms/step - loss: 0.5317 - accuracy: 0.7898 - recall: 0.7054 - precision: 0.9072 - val_loss: 0.7471 - val_accuracy: 0.7177 - val_recall: 0.6028 - val_precision: 0.8884\n",
      "Epoch 21/40\n",
      "1417/1417 [==============================] - 22s 15ms/step - loss: 0.5300 - accuracy: 0.7892 - recall: 0.7060 - precision: 0.9092 - val_loss: 0.7329 - val_accuracy: 0.7426 - val_recall: 0.6253 - val_precision: 0.8784\n",
      "Epoch 22/40\n",
      "1417/1417 [==============================] - 22s 15ms/step - loss: 0.5311 - accuracy: 0.7890 - recall: 0.7055 - precision: 0.9054 - val_loss: 0.7369 - val_accuracy: 0.7331 - val_recall: 0.6081 - val_precision: 0.8757\n",
      "Epoch 23/40\n",
      "1417/1417 [==============================] - 22s 16ms/step - loss: 0.5283 - accuracy: 0.7896 - recall: 0.7057 - precision: 0.9081 - val_loss: 0.7381 - val_accuracy: 0.7430 - val_recall: 0.6291 - val_precision: 0.8813\n",
      "Epoch 24/40\n",
      "1417/1417 [==============================] - 22s 15ms/step - loss: 0.5303 - accuracy: 0.7900 - recall: 0.7048 - precision: 0.9080 - val_loss: 0.7355 - val_accuracy: 0.7304 - val_recall: 0.6256 - val_precision: 0.8891\n",
      "Epoch 25/40\n",
      "1417/1417 [==============================] - 22s 16ms/step - loss: 0.5285 - accuracy: 0.7896 - recall: 0.7070 - precision: 0.9064 - val_loss: 0.7415 - val_accuracy: 0.7211 - val_recall: 0.6175 - val_precision: 0.8817\n",
      "Epoch 26/40\n",
      "1417/1417 [==============================] - 22s 15ms/step - loss: 0.5272 - accuracy: 0.7906 - recall: 0.7069 - precision: 0.9083 - val_loss: 0.7392 - val_accuracy: 0.7281 - val_recall: 0.6058 - val_precision: 0.8880\n",
      "Epoch 27/40\n",
      "1417/1417 [==============================] - 22s 15ms/step - loss: 0.5262 - accuracy: 0.7906 - recall: 0.7081 - precision: 0.9065 - val_loss: 0.7477 - val_accuracy: 0.7262 - val_recall: 0.6143 - val_precision: 0.8851\n",
      "Epoch 28/40\n",
      "1417/1417 [==============================] - 22s 15ms/step - loss: 0.5251 - accuracy: 0.7907 - recall: 0.7080 - precision: 0.9090 - val_loss: 0.7464 - val_accuracy: 0.7174 - val_recall: 0.6090 - val_precision: 0.8745\n",
      "Epoch 29/40\n",
      "1417/1417 [==============================] - 22s 15ms/step - loss: 0.5269 - accuracy: 0.7915 - recall: 0.7078 - precision: 0.9076 - val_loss: 0.7269 - val_accuracy: 0.7425 - val_recall: 0.6155 - val_precision: 0.8896\n",
      "Epoch 30/40\n",
      "1417/1417 [==============================] - 22s 15ms/step - loss: 0.5240 - accuracy: 0.7909 - recall: 0.7080 - precision: 0.9094 - val_loss: 0.7383 - val_accuracy: 0.7302 - val_recall: 0.6154 - val_precision: 0.8835\n",
      "Epoch 31/40\n",
      "1417/1417 [==============================] - 22s 16ms/step - loss: 0.5249 - accuracy: 0.7919 - recall: 0.7075 - precision: 0.9104 - val_loss: 0.7458 - val_accuracy: 0.7133 - val_recall: 0.6134 - val_precision: 0.8845\n",
      "Epoch 32/40\n",
      "1417/1417 [==============================] - 22s 15ms/step - loss: 0.5205 - accuracy: 0.7923 - recall: 0.7095 - precision: 0.9074 - val_loss: 0.7400 - val_accuracy: 0.7294 - val_recall: 0.6184 - val_precision: 0.8852\n",
      "Epoch 33/40\n",
      "1417/1417 [==============================] - 22s 15ms/step - loss: 0.5237 - accuracy: 0.7919 - recall: 0.7097 - precision: 0.9068 - val_loss: 0.7507 - val_accuracy: 0.7150 - val_recall: 0.6003 - val_precision: 0.8947\n",
      "Epoch 34/40\n",
      "1417/1417 [==============================] - 22s 15ms/step - loss: 0.5229 - accuracy: 0.7896 - recall: 0.7085 - precision: 0.9100 - val_loss: 0.7252 - val_accuracy: 0.7387 - val_recall: 0.6124 - val_precision: 0.8910\n",
      "Epoch 35/40\n",
      "1417/1417 [==============================] - 22s 15ms/step - loss: 0.5207 - accuracy: 0.7917 - recall: 0.7097 - precision: 0.9100 - val_loss: 0.7315 - val_accuracy: 0.7312 - val_recall: 0.6150 - val_precision: 0.8895\n",
      "Epoch 36/40\n",
      "1417/1417 [==============================] - 22s 16ms/step - loss: 0.5209 - accuracy: 0.7918 - recall: 0.7088 - precision: 0.9106 - val_loss: 0.7600 - val_accuracy: 0.7169 - val_recall: 0.6381 - val_precision: 0.8153\n",
      "Epoch 37/40\n",
      "1417/1417 [==============================] - 22s 15ms/step - loss: 0.5208 - accuracy: 0.7925 - recall: 0.7097 - precision: 0.9088 - val_loss: 0.7560 - val_accuracy: 0.7167 - val_recall: 0.6089 - val_precision: 0.8752\n",
      "Epoch 38/40\n",
      "1417/1417 [==============================] - 22s 15ms/step - loss: 0.5185 - accuracy: 0.7955 - recall: 0.7098 - precision: 0.9096 - val_loss: 0.7407 - val_accuracy: 0.7234 - val_recall: 0.6107 - val_precision: 0.8894\n",
      "Epoch 39/40\n",
      "1417/1417 [==============================] - 21s 15ms/step - loss: 0.5189 - accuracy: 0.7924 - recall: 0.7110 - precision: 0.9101 - val_loss: 0.7397 - val_accuracy: 0.7249 - val_recall: 0.6160 - val_precision: 0.8812\n",
      "Epoch 40/40\n",
      "1417/1417 [==============================] - 22s 15ms/step - loss: 0.5176 - accuracy: 0.7924 - recall: 0.7105 - precision: 0.9089 - val_loss: 0.7455 - val_accuracy: 0.7310 - val_recall: 0.6175 - val_precision: 0.8827\n"
     ]
    }
   ],
   "source": [
    "#Define epochs and batch size\n",
    "epochs = 40\n",
    "batch_size = 32\n",
    "\n",
    "#Train the model\n",
    "history = model.fit(X_train, y_train, epochs=epochs, batch_size=batch_size, validation_data=(X_test, y_test))"
   ]
  },
  {
   "cell_type": "code",
   "execution_count": 28,
   "metadata": {},
   "outputs": [
    {
     "name": "stdout",
     "output_type": "stream",
     "text": [
      "Epoch 1/50\n",
      "1417/1417 [==============================] - 22s 15ms/step - loss: 0.5184 - accuracy: 0.7929 - recall: 0.7106 - precision: 0.9076 - val_loss: 0.7358 - val_accuracy: 0.7285 - val_recall: 0.6184 - val_precision: 0.8847\n",
      "Epoch 2/50\n",
      "1417/1417 [==============================] - 21s 15ms/step - loss: 0.5161 - accuracy: 0.7943 - recall: 0.7112 - precision: 0.9106 - val_loss: 0.7492 - val_accuracy: 0.7218 - val_recall: 0.6087 - val_precision: 0.8907\n",
      "Epoch 3/50\n",
      "1417/1417 [==============================] - 21s 15ms/step - loss: 0.5186 - accuracy: 0.7928 - recall: 0.7084 - precision: 0.9100 - val_loss: 0.7250 - val_accuracy: 0.7334 - val_recall: 0.6213 - val_precision: 0.8893\n",
      "Epoch 4/50\n",
      "1417/1417 [==============================] - 21s 15ms/step - loss: 0.5155 - accuracy: 0.7947 - recall: 0.7123 - precision: 0.9094 - val_loss: 0.7264 - val_accuracy: 0.7401 - val_recall: 0.6385 - val_precision: 0.8858\n",
      "Epoch 5/50\n",
      "1417/1417 [==============================] - 21s 15ms/step - loss: 0.5146 - accuracy: 0.7948 - recall: 0.7136 - precision: 0.9087 - val_loss: 0.7433 - val_accuracy: 0.7173 - val_recall: 0.6107 - val_precision: 0.8876\n",
      "Epoch 6/50\n",
      "1417/1417 [==============================] - 21s 15ms/step - loss: 0.5162 - accuracy: 0.7946 - recall: 0.7111 - precision: 0.9106 - val_loss: 0.7378 - val_accuracy: 0.7250 - val_recall: 0.6182 - val_precision: 0.8853\n",
      "Epoch 7/50\n",
      "1417/1417 [==============================] - 21s 15ms/step - loss: 0.5156 - accuracy: 0.7942 - recall: 0.7115 - precision: 0.9104 - val_loss: 0.7435 - val_accuracy: 0.7203 - val_recall: 0.6142 - val_precision: 0.8906\n",
      "Epoch 8/50\n",
      "1417/1417 [==============================] - 21s 15ms/step - loss: 0.5149 - accuracy: 0.7953 - recall: 0.7113 - precision: 0.9109 - val_loss: 0.7570 - val_accuracy: 0.7074 - val_recall: 0.6133 - val_precision: 0.8742\n",
      "Epoch 9/50\n",
      "1417/1417 [==============================] - 21s 15ms/step - loss: 0.5154 - accuracy: 0.7945 - recall: 0.7113 - precision: 0.9098 - val_loss: 0.7671 - val_accuracy: 0.7095 - val_recall: 0.6135 - val_precision: 0.8846\n",
      "Epoch 10/50\n",
      "1417/1417 [==============================] - 21s 15ms/step - loss: 0.5192 - accuracy: 0.7949 - recall: 0.7106 - precision: 0.9097 - val_loss: 0.7407 - val_accuracy: 0.7270 - val_recall: 0.6217 - val_precision: 0.8896\n",
      "Epoch 11/50\n",
      "1417/1417 [==============================] - 21s 15ms/step - loss: 0.5126 - accuracy: 0.7939 - recall: 0.7119 - precision: 0.9099 - val_loss: 0.7613 - val_accuracy: 0.7167 - val_recall: 0.6201 - val_precision: 0.8795\n",
      "Epoch 12/50\n",
      "1417/1417 [==============================] - 21s 15ms/step - loss: 0.5125 - accuracy: 0.7932 - recall: 0.7113 - precision: 0.9120 - val_loss: 0.7537 - val_accuracy: 0.7145 - val_recall: 0.6172 - val_precision: 0.8867\n",
      "Epoch 13/50\n",
      "1417/1417 [==============================] - 21s 15ms/step - loss: 0.5132 - accuracy: 0.7943 - recall: 0.7124 - precision: 0.9106 - val_loss: 0.7164 - val_accuracy: 0.7373 - val_recall: 0.6266 - val_precision: 0.8910\n",
      "Epoch 14/50\n",
      "1417/1417 [==============================] - 21s 15ms/step - loss: 0.5110 - accuracy: 0.7954 - recall: 0.7129 - precision: 0.9094 - val_loss: 0.7439 - val_accuracy: 0.7333 - val_recall: 0.6201 - val_precision: 0.8836\n",
      "Epoch 15/50\n",
      "1417/1417 [==============================] - 21s 15ms/step - loss: 0.5100 - accuracy: 0.7952 - recall: 0.7132 - precision: 0.9092 - val_loss: 0.7593 - val_accuracy: 0.7300 - val_recall: 0.6135 - val_precision: 0.8859\n",
      "Epoch 16/50\n",
      "1417/1417 [==============================] - 21s 15ms/step - loss: 0.5116 - accuracy: 0.7945 - recall: 0.7138 - precision: 0.9095 - val_loss: 0.7454 - val_accuracy: 0.7172 - val_recall: 0.6149 - val_precision: 0.8913\n",
      "Epoch 17/50\n",
      "1417/1417 [==============================] - 21s 15ms/step - loss: 0.5127 - accuracy: 0.7937 - recall: 0.7127 - precision: 0.9093 - val_loss: 0.7402 - val_accuracy: 0.7303 - val_recall: 0.6224 - val_precision: 0.8790\n",
      "Epoch 18/50\n",
      "1417/1417 [==============================] - 21s 15ms/step - loss: 0.5085 - accuracy: 0.7960 - recall: 0.7161 - precision: 0.9098 - val_loss: 0.7446 - val_accuracy: 0.7155 - val_recall: 0.6103 - val_precision: 0.8676\n",
      "Epoch 19/50\n",
      "1417/1417 [==============================] - 21s 15ms/step - loss: 0.5091 - accuracy: 0.7971 - recall: 0.7157 - precision: 0.9103 - val_loss: 0.7402 - val_accuracy: 0.7160 - val_recall: 0.6322 - val_precision: 0.8548\n",
      "Epoch 20/50\n",
      "1417/1417 [==============================] - 21s 15ms/step - loss: 0.5096 - accuracy: 0.7959 - recall: 0.7129 - precision: 0.9111 - val_loss: 0.7494 - val_accuracy: 0.7229 - val_recall: 0.6214 - val_precision: 0.8694\n",
      "Epoch 21/50\n",
      "1417/1417 [==============================] - 21s 15ms/step - loss: 0.5077 - accuracy: 0.7966 - recall: 0.7146 - precision: 0.9099 - val_loss: 0.7410 - val_accuracy: 0.7192 - val_recall: 0.6126 - val_precision: 0.8898\n",
      "Epoch 22/50\n",
      "1417/1417 [==============================] - 21s 15ms/step - loss: 0.5065 - accuracy: 0.7976 - recall: 0.7145 - precision: 0.9116 - val_loss: 0.7417 - val_accuracy: 0.7155 - val_recall: 0.6192 - val_precision: 0.8847\n",
      "Epoch 23/50\n",
      "1417/1417 [==============================] - 21s 15ms/step - loss: 0.5086 - accuracy: 0.7973 - recall: 0.7168 - precision: 0.9121 - val_loss: 0.7398 - val_accuracy: 0.7394 - val_recall: 0.6210 - val_precision: 0.8881\n",
      "Epoch 24/50\n",
      "1417/1417 [==============================] - 21s 15ms/step - loss: 0.5074 - accuracy: 0.7966 - recall: 0.7145 - precision: 0.9121 - val_loss: 0.7361 - val_accuracy: 0.7238 - val_recall: 0.6205 - val_precision: 0.8718\n",
      "Epoch 25/50\n",
      "1417/1417 [==============================] - 21s 15ms/step - loss: 0.5083 - accuracy: 0.7959 - recall: 0.7135 - precision: 0.9111 - val_loss: 0.7456 - val_accuracy: 0.7177 - val_recall: 0.6153 - val_precision: 0.8848\n",
      "Epoch 26/50\n",
      "1417/1417 [==============================] - 21s 15ms/step - loss: 0.5086 - accuracy: 0.7964 - recall: 0.7137 - precision: 0.9111 - val_loss: 0.7245 - val_accuracy: 0.7212 - val_recall: 0.6174 - val_precision: 0.8940\n",
      "Epoch 27/50\n",
      "1417/1417 [==============================] - 21s 15ms/step - loss: 0.5059 - accuracy: 0.7966 - recall: 0.7159 - precision: 0.9091 - val_loss: 0.7496 - val_accuracy: 0.7097 - val_recall: 0.6149 - val_precision: 0.8681\n",
      "Epoch 28/50\n",
      "1417/1417 [==============================] - 21s 15ms/step - loss: 0.5051 - accuracy: 0.7953 - recall: 0.7152 - precision: 0.9101 - val_loss: 0.7565 - val_accuracy: 0.7190 - val_recall: 0.6132 - val_precision: 0.8816\n",
      "Epoch 29/50\n",
      "1417/1417 [==============================] - 21s 15ms/step - loss: 0.5047 - accuracy: 0.7970 - recall: 0.7184 - precision: 0.9110 - val_loss: 0.7402 - val_accuracy: 0.7156 - val_recall: 0.6123 - val_precision: 0.8793\n",
      "Epoch 30/50\n",
      "1417/1417 [==============================] - 21s 15ms/step - loss: 0.5051 - accuracy: 0.7986 - recall: 0.7157 - precision: 0.9131 - val_loss: 0.7365 - val_accuracy: 0.7150 - val_recall: 0.6083 - val_precision: 0.8879\n",
      "Epoch 31/50\n",
      "1417/1417 [==============================] - 21s 15ms/step - loss: 0.5063 - accuracy: 0.7974 - recall: 0.7151 - precision: 0.9107 - val_loss: 0.7493 - val_accuracy: 0.7228 - val_recall: 0.6183 - val_precision: 0.8860\n",
      "Epoch 32/50\n",
      "1417/1417 [==============================] - 20s 14ms/step - loss: 0.5029 - accuracy: 0.7983 - recall: 0.7168 - precision: 0.9136 - val_loss: 0.7509 - val_accuracy: 0.7213 - val_recall: 0.6148 - val_precision: 0.8785\n",
      "Epoch 33/50\n",
      "1417/1417 [==============================] - 21s 15ms/step - loss: 0.5064 - accuracy: 0.7967 - recall: 0.7144 - precision: 0.9120 - val_loss: 0.7429 - val_accuracy: 0.7243 - val_recall: 0.6226 - val_precision: 0.8837\n",
      "Epoch 34/50\n",
      "1417/1417 [==============================] - 21s 15ms/step - loss: 0.5044 - accuracy: 0.7970 - recall: 0.7164 - precision: 0.9116 - val_loss: 0.7360 - val_accuracy: 0.7305 - val_recall: 0.6148 - val_precision: 0.8695\n",
      "Epoch 35/50\n",
      "1417/1417 [==============================] - 21s 15ms/step - loss: 0.5074 - accuracy: 0.7969 - recall: 0.7155 - precision: 0.9109 - val_loss: 0.7440 - val_accuracy: 0.7112 - val_recall: 0.6120 - val_precision: 0.8800\n",
      "Epoch 36/50\n",
      "1417/1417 [==============================] - 20s 14ms/step - loss: 0.5042 - accuracy: 0.7972 - recall: 0.7148 - precision: 0.9124 - val_loss: 0.7648 - val_accuracy: 0.7179 - val_recall: 0.6422 - val_precision: 0.8150\n",
      "Epoch 37/50\n",
      "1417/1417 [==============================] - 21s 15ms/step - loss: 0.5017 - accuracy: 0.7995 - recall: 0.7186 - precision: 0.9115 - val_loss: 0.7320 - val_accuracy: 0.7303 - val_recall: 0.6179 - val_precision: 0.8706\n",
      "Epoch 38/50\n",
      "1417/1417 [==============================] - 21s 15ms/step - loss: 0.5009 - accuracy: 0.7992 - recall: 0.7157 - precision: 0.9138 - val_loss: 0.7458 - val_accuracy: 0.7211 - val_recall: 0.6207 - val_precision: 0.8639\n",
      "Epoch 39/50\n",
      "1417/1417 [==============================] - 21s 15ms/step - loss: 0.5030 - accuracy: 0.7984 - recall: 0.7180 - precision: 0.9121 - val_loss: 0.7042 - val_accuracy: 0.7567 - val_recall: 0.6317 - val_precision: 0.8955\n",
      "Epoch 40/50\n",
      "1417/1417 [==============================] - 21s 15ms/step - loss: 0.5021 - accuracy: 0.7981 - recall: 0.7158 - precision: 0.9158 - val_loss: 0.7396 - val_accuracy: 0.7360 - val_recall: 0.6291 - val_precision: 0.8806\n",
      "Epoch 41/50\n",
      "1417/1417 [==============================] - 21s 15ms/step - loss: 0.4996 - accuracy: 0.7992 - recall: 0.7183 - precision: 0.9123 - val_loss: 0.7368 - val_accuracy: 0.7253 - val_recall: 0.6204 - val_precision: 0.8907\n",
      "Epoch 42/50\n",
      "1417/1417 [==============================] - 20s 14ms/step - loss: 0.5034 - accuracy: 0.7965 - recall: 0.7142 - precision: 0.9126 - val_loss: 0.7395 - val_accuracy: 0.7186 - val_recall: 0.6145 - val_precision: 0.8857\n",
      "Epoch 43/50\n",
      "1417/1417 [==============================] - 21s 15ms/step - loss: 0.5039 - accuracy: 0.7986 - recall: 0.7160 - precision: 0.9149 - val_loss: 0.7508 - val_accuracy: 0.7196 - val_recall: 0.6195 - val_precision: 0.8816\n",
      "Epoch 44/50\n",
      "1417/1417 [==============================] - 21s 15ms/step - loss: 0.5032 - accuracy: 0.7973 - recall: 0.7156 - precision: 0.9109 - val_loss: 0.7334 - val_accuracy: 0.7235 - val_recall: 0.6212 - val_precision: 0.8943\n",
      "Epoch 45/50\n",
      "1417/1417 [==============================] - 20s 14ms/step - loss: 0.5008 - accuracy: 0.7977 - recall: 0.7152 - precision: 0.9142 - val_loss: 0.7446 - val_accuracy: 0.7152 - val_recall: 0.6129 - val_precision: 0.8762\n",
      "Epoch 46/50\n",
      "1417/1417 [==============================] - 20s 14ms/step - loss: 0.5008 - accuracy: 0.7989 - recall: 0.7163 - precision: 0.9162 - val_loss: 0.7456 - val_accuracy: 0.7231 - val_recall: 0.6142 - val_precision: 0.8936\n",
      "Epoch 47/50\n",
      "1417/1417 [==============================] - 22s 15ms/step - loss: 0.4979 - accuracy: 0.7994 - recall: 0.7165 - precision: 0.9148 - val_loss: 0.7564 - val_accuracy: 0.7208 - val_recall: 0.6239 - val_precision: 0.8806\n",
      "Epoch 48/50\n",
      "1417/1417 [==============================] - 21s 15ms/step - loss: 0.4980 - accuracy: 0.7990 - recall: 0.7166 - precision: 0.9153 - val_loss: 0.7479 - val_accuracy: 0.7241 - val_recall: 0.6192 - val_precision: 0.8681\n",
      "Epoch 49/50\n",
      "1417/1417 [==============================] - 20s 14ms/step - loss: 0.4990 - accuracy: 0.7997 - recall: 0.7176 - precision: 0.9148 - val_loss: 0.7414 - val_accuracy: 0.7152 - val_recall: 0.6191 - val_precision: 0.8665\n",
      "Epoch 50/50\n",
      "1417/1417 [==============================] - 21s 15ms/step - loss: 0.4968 - accuracy: 0.7990 - recall: 0.7190 - precision: 0.9138 - val_loss: 0.7574 - val_accuracy: 0.7173 - val_recall: 0.6161 - val_precision: 0.8593\n"
     ]
    }
   ],
   "source": [
    "#Define epochs and batch size\n",
    "epochs = 50\n",
    "batch_size = 32\n",
    "\n",
    "#Train the model\n",
    "history = model.fit(X_train, y_train, epochs=epochs, batch_size=batch_size, validation_data=(X_test, y_test))"
   ]
  },
  {
   "cell_type": "markdown",
   "metadata": {},
   "source": [
    "## Evaluate The Model"
   ]
  },
  {
   "cell_type": "code",
   "execution_count": 29,
   "metadata": {},
   "outputs": [
    {
     "name": "stdout",
     "output_type": "stream",
     "text": [
      "3730/3730 [==============================] - 19s 5ms/step - loss: 0.7574 - accuracy: 0.7173 - recall: 0.6161 - precision: 0.8593\n",
      "Test Loss: 0.7573957443237305\n",
      "Test Accuracy: 0.7173025608062744\n",
      "Test Recall: 0.6160698533058167\n",
      "Test Precision: 0.8593320846557617\n"
     ]
    }
   ],
   "source": [
    "#Evaluate the model on test data\n",
    "loss, accuracy, recall, precision = model.evaluate(X_test, y_test)\n",
    "print('Test Loss:', loss)\n",
    "print('Test Accuracy:', accuracy)\n",
    "print('Test Recall:', recall)\n",
    "print('Test Precision:', precision)"
   ]
  },
  {
   "cell_type": "code",
   "execution_count": 30,
   "metadata": {},
   "outputs": [
    {
     "name": "stdout",
     "output_type": "stream",
     "text": [
      "3730/3730 [==============================] - 6s 2ms/step\n"
     ]
    }
   ],
   "source": [
    "# make a predictions\n",
    "predictions = model.predict(X_test)"
   ]
  },
  {
   "cell_type": "code",
   "execution_count": 31,
   "metadata": {},
   "outputs": [],
   "source": [
    "# convert one-hot encode predictions to class labels\n",
    "predicted_classes = np.argmax(predictions, axis=1)\n",
    "y_test_categorical = np.argmax(y_test, axis=1)"
   ]
  },
  {
   "cell_type": "markdown",
   "metadata": {},
   "source": [
    "### Confusion Matrix"
   ]
  },
  {
   "cell_type": "code",
   "execution_count": 32,
   "metadata": {},
   "outputs": [],
   "source": [
    "# function to calculate recall from confusion matrix\n",
    "def calculate_recall(confusion_matrix):\n",
    "    num_class = len(confusion_matrix)\n",
    "    recalls = []\n",
    "\n",
    "    for i in range(num_class):\n",
    "        true_positive = confusion_matrix[i][i]\n",
    "        false_negative = sum(confusion_matrix[i]) - true_positive\n",
    "\n",
    "        recall = true_positive / (true_positive + false_negative)\n",
    "        recalls.append(recall)\n",
    "    \n",
    "    return recalls"
   ]
  },
  {
   "cell_type": "code",
   "execution_count": 33,
   "metadata": {},
   "outputs": [],
   "source": [
    "# function to display the recall score\n",
    "def display_recall(recalls):\n",
    "    print('Recall Scores for each class:')\n",
    "    print('Analysis:', recalls[0])\n",
    "    print('Backdoor:', recalls[1])\n",
    "    print('DoS:', recalls[2])\n",
    "    print('Exploits:', recalls[3])\n",
    "    print('Fuzzers:', recalls[4])\n",
    "    print('Generic:', recalls[5])\n",
    "    print('Reconnaissance:', recalls[6])\n",
    "    print('Shellcode:', recalls[7])\n",
    "    print('Worms:', recalls[8])"
   ]
  },
  {
   "cell_type": "code",
   "execution_count": 34,
   "metadata": {},
   "outputs": [],
   "source": [
    "from sklearn.metrics import confusion_matrix"
   ]
  },
  {
   "cell_type": "code",
   "execution_count": 35,
   "metadata": {},
   "outputs": [],
   "source": [
    "matrix = confusion_matrix(y_test_categorical, predicted_classes)\n",
    "matrix_df = pd.DataFrame(matrix, \n",
    "                         index= ['Analysis', 'Backdoor', 'DoS', 'Exploits', 'Fuzzers', 'Generic', 'Reconnaissance', 'Shellcode', 'Worms'], \n",
    "                         columns= ['Analysis', 'Backdoor', 'DoS', 'Exploits', 'Fuzzers', 'Generic', 'Reconnaissance', 'Shellcode', 'Worms'])"
   ]
  },
  {
   "cell_type": "code",
   "execution_count": 36,
   "metadata": {},
   "outputs": [
    {
     "data": {
      "image/png": "[encoded data removed]",
      "text/plain": [
       "<Figure size 2000x2000 with 2 Axes>"
      ]
     },
     "metadata": {},
     "output_type": "display_data"
    }
   ],
   "source": [
    "# Plotting Confusion Matrix\n",
    "plt.figure(figsize = (20, 20))\n",
    "sns.heatmap(matrix_df, fmt='.0f', annot=True)\n",
    "plt.title('Confusion Matrix (1D CNN)')\n",
    "plt.ylabel('Actual Values')\n",
    "plt.xlabel('Predicted Values')\n",
    "plt.show()"
   ]
  },
  {
   "cell_type": "code",
   "execution_count": 37,
   "metadata": {},
   "outputs": [
    {
     "name": "stdout",
     "output_type": "stream",
     "text": [
      "Recall Scores for each class:\n",
      "Analysis: 0.0\n",
      "Backdoor: 0.0\n",
      "DoS: 0.5172891861034089\n",
      "Exploits: 0.6367040076678847\n",
      "Fuzzers: 0.7641333040035195\n",
      "Generic: 0.9798494962374059\n",
      "Reconnaissance: 0.4334064257793879\n",
      "Shellcode: 0.3027360988526037\n",
      "Worms: 0.13846153846153847\n"
     ]
    }
   ],
   "source": [
    "recalls = calculate_recall(matrix)\n",
    "display_recall(recalls)"
   ]
  },
  {
   "cell_type": "markdown",
   "metadata": {},
   "source": [
    "## Save and load the model"
   ]
  },
  {
   "cell_type": "code",
   "execution_count": 38,
   "metadata": {},
   "outputs": [],
   "source": [
    "from keras.models import load_model"
   ]
  },
  {
   "cell_type": "code",
   "execution_count": 39,
   "metadata": {},
   "outputs": [],
   "source": [
    "# save the 1D CNN trained model using keras\n",
    "model.save('/Data/Visual Studio Code/Data Science/Notebook/UNSW-NB15/CNN/Imbalanced/Saved/cnn1d.keras')"
   ]
  },
  {
   "cell_type": "code",
   "execution_count": 40,
   "metadata": {},
   "outputs": [],
   "source": [
    "# load the 1D CNN trained model using keras\n",
    "model = load_model('/Data/Visual Studio Code/Data Science/Notebook/UNSW-NB15/CNN/Imbalanced/Saved/cnn1d.keras')"
   ]
  },
  {
   "cell_type": "markdown",
   "metadata": {},
   "source": [
    "## Save and load the predicted"
   ]
  },
  {
   "cell_type": "code",
   "execution_count": 41,
   "metadata": {},
   "outputs": [],
   "source": [
    "import pickle"
   ]
  },
  {
   "cell_type": "code",
   "execution_count": 42,
   "metadata": {},
   "outputs": [],
   "source": [
    "# save the decision tree trained model\n",
    "with open('/Data/Visual Studio Code/Data Science/Notebook/UNSW-NB15/CNN/Imbalanced/Saved/predicted_classes.pkl', 'wb') as model_file:\n",
    "    pickle.dump(predicted_classes, model_file)"
   ]
  },
  {
   "cell_type": "code",
   "execution_count": 43,
   "metadata": {},
   "outputs": [],
   "source": [
    "# load the decision tree trained model\n",
    "with open('/Data/Visual Studio Code/Data Science/Notebook/UNSW-NB15/CNN/Imbalanced/Saved/predicted_classes.pkl', 'rb') as model_file:\n",
    "    predicted_classes = pickle.load(model_file)"
   ]
  }
 ],
 "metadata": {
  "kernelspec": {
   "display_name": "myenv",
   "language": "python",
   "name": "python3"
  },
  "language_info": {
   "codemirror_mode": {
    "name": "ipython",
    "version": 3
   },
   "file_extension": ".py",
   "mimetype": "text/x-python",
   "name": "python",
   "nbconvert_exporter": "python",
   "pygments_lexer": "ipython3",
   "version": "3.10.13"
  },
  "orig_nbformat": 4
 },
 "nbformat": 4,
 "nbformat_minor": 2
}
