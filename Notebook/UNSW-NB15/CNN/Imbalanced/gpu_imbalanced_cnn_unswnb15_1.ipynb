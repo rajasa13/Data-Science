{
 "cells": [
  {
   "cell_type": "markdown",
   "metadata": {},
   "source": [
    "# Data Preprocessing"
   ]
  },
  {
   "cell_type": "code",
   "execution_count": 1,
   "metadata": {},
   "outputs": [],
   "source": [
    "import tensorflow as tf\n",
    "from keras.models import Sequential\n",
    "from keras.layers import Conv1D, MaxPooling1D, Flatten, Dense, Dropout, BatchNormalization\n",
    "from keras.metrics import Recall"
   ]
  },
  {
   "cell_type": "code",
   "execution_count": 2,
   "metadata": {},
   "outputs": [
    {
     "name": "stdout",
     "output_type": "stream",
     "text": [
      "Num GPUs Available:  1\n"
     ]
    }
   ],
   "source": [
    "#Check GPU device available\n",
    "print('Num GPUs Available: ', len(tf.config.list_physical_devices('GPU')))"
   ]
  },
  {
   "cell_type": "code",
   "execution_count": 3,
   "metadata": {},
   "outputs": [],
   "source": [
    "import pandas as pd\n",
    "import matplotlib.pyplot as plt\n",
    "import seaborn as sns\n",
    "import numpy as np"
   ]
  },
  {
   "cell_type": "code",
   "execution_count": 4,
   "metadata": {},
   "outputs": [],
   "source": [
    "# Load dataset\n",
    "data_train = pd.read_csv('/Data/Visual Studio Code/Data Science/Dataset/UNSW-NB15/UNSW_NB15_training-set.csv')\n",
    "data_test = pd.read_csv('/Data/Visual Studio Code/Data Science/Dataset/UNSW-NB15/UNSW_NB15_testing-set.csv')"
   ]
  },
  {
   "cell_type": "code",
   "execution_count": 5,
   "metadata": {},
   "outputs": [],
   "source": [
    "# Handle missing value and duplicate if any\n",
    "data_train.dropna(inplace=True)\n",
    "data_train.drop_duplicates(inplace=True)\n",
    "\n",
    "data_test.dropna(inplace=True)\n",
    "data_test.drop_duplicates(inplace=True)"
   ]
  },
  {
   "cell_type": "code",
   "execution_count": 6,
   "metadata": {},
   "outputs": [],
   "source": [
    "#Split Attack and Normal from dataframe\n",
    "data_train_attack = data_train[data_train['label'] == 1]\n",
    "data_test_attack = data_test[data_test['label'] == 1]\n",
    "\n",
    "#Optional\n",
    "#data_train_normal = data_train[data_train['label'] == 0]\n",
    "#data_test_normal = data_test[data_test['label'] == 0]"
   ]
  },
  {
   "cell_type": "code",
   "execution_count": 7,
   "metadata": {},
   "outputs": [],
   "source": [
    "# Drop id and label from train and test data\n",
    "data_train_attack = data_train_attack.drop('id', axis=1)\n",
    "data_train_attack = data_train_attack.drop('label', axis=1)\n",
    "\n",
    "data_test_attack = data_test_attack.drop('id', axis=1)\n",
    "data_test_attack = data_test_attack.drop('label', axis=1)"
   ]
  },
  {
   "cell_type": "code",
   "execution_count": 8,
   "metadata": {},
   "outputs": [
    {
     "name": "stdout",
     "output_type": "stream",
     "text": [
      "6\n",
      "5\n"
     ]
    }
   ],
   "source": [
    "print(data_train_attack['state'].nunique())\n",
    "print(data_test_attack['state'].nunique())"
   ]
  },
  {
   "cell_type": "code",
   "execution_count": 9,
   "metadata": {},
   "outputs": [
    {
     "name": "stdout",
     "output_type": "stream",
     "text": [
      "['INT' 'FIN' 'ACC' 'CON' 'REQ' 'CLO']\n",
      "['INT' 'FIN' 'CON' 'REQ' 'RST']\n"
     ]
    }
   ],
   "source": [
    "print(data_train_attack['state'].unique())\n",
    "print(data_test_attack['state'].unique())"
   ]
  },
  {
   "cell_type": "code",
   "execution_count": 10,
   "metadata": {},
   "outputs": [],
   "source": [
    "#Drop ACC, CLO, and RST from data\n",
    "data_train_attack = data_train_attack[(data_train_attack['state'] != 'ACC') & (data_train_attack['state'] != 'CLO')]\n",
    "data_test_attack = data_test_attack[(data_test_attack['state'] != 'RST')]"
   ]
  },
  {
   "cell_type": "code",
   "execution_count": 11,
   "metadata": {},
   "outputs": [
    {
     "name": "stdout",
     "output_type": "stream",
     "text": [
      "['INT' 'FIN' 'CON' 'REQ']\n",
      "['INT' 'FIN' 'CON' 'REQ']\n"
     ]
    }
   ],
   "source": [
    "print(data_train_attack['state'].unique())\n",
    "print(data_test_attack['state'].unique())"
   ]
  },
  {
   "cell_type": "markdown",
   "metadata": {},
   "source": [
    "## Encode Train and Test Data"
   ]
  },
  {
   "cell_type": "code",
   "execution_count": 12,
   "metadata": {},
   "outputs": [
    {
     "data": {
      "text/plain": [
       "['proto', 'state', 'service']"
      ]
     },
     "execution_count": 12,
     "metadata": {},
     "output_type": "execute_result"
    }
   ],
   "source": [
    "#column to encode\n",
    "cols = ['proto','state','service']\n",
    "cols"
   ]
  },
  {
   "cell_type": "code",
   "execution_count": 13,
   "metadata": {},
   "outputs": [],
   "source": [
    "#One-hot Encoding\n",
    "# Encode train data\n",
    "data_train_attack = pd.get_dummies(data_train_attack, columns=cols)\n",
    "\n",
    "# Encode test data\n",
    "data_test_attack = pd.get_dummies(data_test_attack, columns=cols)"
   ]
  },
  {
   "cell_type": "code",
   "execution_count": 14,
   "metadata": {},
   "outputs": [],
   "source": [
    "train_attack_cat = data_train_attack.pop('attack_cat')\n",
    "test_attack_cat = data_test_attack.pop('attack_cat')"
   ]
  },
  {
   "cell_type": "markdown",
   "metadata": {},
   "source": [
    "## Normalization"
   ]
  },
  {
   "cell_type": "code",
   "execution_count": 15,
   "metadata": {},
   "outputs": [],
   "source": [
    "# Min-Max Normalization\n",
    "from sklearn.preprocessing import MinMaxScaler\n",
    "\n",
    "scaler = MinMaxScaler()\n",
    "cols_to_norm = ['dur', 'spkts', 'dpkts', 'sbytes', 'dbytes', 'rate', 'sttl', 'dttl', 'sload', \n",
    "                'dload', 'sloss', 'dloss', 'sinpkt', 'dinpkt', 'sjit', 'djit', 'swin', 'stcpb', 'dtcpb', 'dwin', 'tcprtt', 'synack', \n",
    "                'ackdat', 'smean', 'dmean', 'trans_depth', 'response_body_len', 'ct_srv_src', 'ct_state_ttl', 'ct_dst_ltm', \n",
    "                'ct_src_dport_ltm', 'ct_dst_sport_ltm', 'ct_dst_src_ltm', 'is_ftp_login', 'ct_ftp_cmd', 'ct_flw_http_mthd', 'ct_src_ltm', \n",
    "                'ct_srv_dst', 'is_sm_ips_ports']\n",
    "\n",
    "data_train_attack[cols_to_norm] = scaler.fit_transform(data_train_attack[cols_to_norm])\n",
    "data_test_attack[cols_to_norm] = scaler.fit_transform(data_test_attack[cols_to_norm])"
   ]
  },
  {
   "cell_type": "markdown",
   "metadata": {},
   "source": [
    "## Feature Selection"
   ]
  },
  {
   "cell_type": "code",
   "execution_count": 16,
   "metadata": {},
   "outputs": [
    {
     "data": {
      "text/plain": [
       "dur               float64\n",
       "spkts             float64\n",
       "dpkts             float64\n",
       "sbytes            float64\n",
       "dbytes            float64\n",
       "                   ...   \n",
       "service_radius       bool\n",
       "service_smtp         bool\n",
       "service_snmp         bool\n",
       "service_ssh          bool\n",
       "service_ssl          bool\n",
       "Length: 181, dtype: object"
      ]
     },
     "execution_count": 16,
     "metadata": {},
     "output_type": "execute_result"
    }
   ],
   "source": [
    "#Feature Selection\n",
    "feature = data_train_attack.drop(['dinpkt', 'ct_ftp_cmd', 'ct_src_dport_ltm', 'is_sm_ips_ports'], axis=1)\n",
    "feature.dtypes"
   ]
  },
  {
   "cell_type": "markdown",
   "metadata": {},
   "source": [
    "# Split Data"
   ]
  },
  {
   "cell_type": "code",
   "execution_count": 17,
   "metadata": {},
   "outputs": [
    {
     "data": {
      "text/plain": [
       "((45329, 181), (45329,), (119329, 181), (119329,))"
      ]
     },
     "execution_count": 17,
     "metadata": {},
     "output_type": "execute_result"
    }
   ],
   "source": [
    "#Splitting the dataset into dependent and independent feature\n",
    "X_train = feature\n",
    "y_train = train_attack_cat\n",
    "\n",
    "X_test = data_test_attack.drop(columns=['dinpkt', 'ct_ftp_cmd', 'ct_src_dport_ltm', 'is_sm_ips_ports'])\n",
    "y_test = test_attack_cat\n",
    "\n",
    "X_train.shape, y_train.shape, X_test.shape, y_test.shape"
   ]
  },
  {
   "cell_type": "markdown",
   "metadata": {},
   "source": [
    "# Model Architecture"
   ]
  },
  {
   "cell_type": "markdown",
   "metadata": {},
   "source": [
    "## 1D-CNN (3 layer) Model"
   ]
  },
  {
   "cell_type": "code",
   "execution_count": 18,
   "metadata": {},
   "outputs": [],
   "source": [
    "# Define the input shape\n",
    "input_shape = (181, 1)\n",
    "\n",
    "#Create the sequential model\n",
    "model = Sequential()\n",
    "\n",
    "# Convolutional layers\n",
    "model.add(Conv1D(filters=32, kernel_size=5, activation='sigmoid', input_shape=input_shape))\n",
    "model.add(Conv1D(filters=32, kernel_size=5, activation='sigmoid'))\n",
    "\n",
    "\n",
    "# MaxPooling1D layer\n",
    "model.add(MaxPooling1D(pool_size=2, strides=1))\n",
    "\n",
    "# Convolutional layers\n",
    "model.add(Conv1D(filters=32, kernel_size=5, activation='sigmoid'))\n",
    "\n",
    "# Flatten tensor\n",
    "model.add(Flatten())\n",
    "\n",
    "# Batch Norm\n",
    "model.add(BatchNormalization(axis=-1))\n",
    "\n",
    "# Dropout\n",
    "model.add(Dropout(0.5))\n",
    "\n",
    "# Two Fully-connected layers\n",
    "model.add(Dense(32, activation='relu'))\n",
    "model.add(Dense(16, activation='relu'))\n",
    "\n",
    "# Output\n",
    "model.add(Dense(units=9, activation='softmax'))\n",
    "\n",
    "# Compile the model\n",
    "model.compile(optimizer='adam', loss='categorical_crossentropy', metrics=['accuracy', Recall()])"
   ]
  },
  {
   "cell_type": "code",
   "execution_count": 19,
   "metadata": {},
   "outputs": [
    {
     "name": "stdout",
     "output_type": "stream",
     "text": [
      "Model: \"sequential\"\n",
      "_________________________________________________________________\n",
      " Layer (type)                Output Shape              Param #   \n",
      "=================================================================\n",
      " conv1d (Conv1D)             (None, 177, 32)           192       \n",
      "                                                                 \n",
      " conv1d_1 (Conv1D)           (None, 173, 32)           5152      \n",
      "                                                                 \n",
      " max_pooling1d (MaxPooling1D  (None, 172, 32)          0         \n",
      " )                                                               \n",
      "                                                                 \n",
      " conv1d_2 (Conv1D)           (None, 168, 32)           5152      \n",
      "                                                                 \n",
      " flatten (Flatten)           (None, 5376)              0         \n",
      "                                                                 \n",
      " batch_normalization (BatchN  (None, 5376)             21504     \n",
      " ormalization)                                                   \n",
      "                                                                 \n",
      " dropout (Dropout)           (None, 5376)              0         \n",
      "                                                                 \n",
      " dense (Dense)               (None, 32)                172064    \n",
      "                                                                 \n",
      " dense_1 (Dense)             (None, 16)                528       \n",
      "                                                                 \n",
      " dense_2 (Dense)             (None, 9)                 153       \n",
      "                                                                 \n",
      "=================================================================\n",
      "Total params: 204,745\n",
      "Trainable params: 193,993\n",
      "Non-trainable params: 10,752\n",
      "_________________________________________________________________\n"
     ]
    }
   ],
   "source": [
    "#Print the model summary\n",
    "model.summary()"
   ]
  },
  {
   "cell_type": "markdown",
   "metadata": {},
   "source": [
    "## Train the model"
   ]
  },
  {
   "cell_type": "code",
   "execution_count": 20,
   "metadata": {},
   "outputs": [],
   "source": [
    "from keras.utils import to_categorical\n",
    "from sklearn.preprocessing import LabelEncoder"
   ]
  },
  {
   "cell_type": "code",
   "execution_count": 21,
   "metadata": {},
   "outputs": [],
   "source": [
    "le = LabelEncoder()\n",
    "\n",
    "y_train = le.fit_transform(y_train)\n",
    "y_test = le.fit_transform(y_test)"
   ]
  },
  {
   "cell_type": "code",
   "execution_count": 22,
   "metadata": {},
   "outputs": [],
   "source": [
    "num_class = 9\n",
    "y_train = to_categorical(y_train, num_class)\n",
    "y_test = to_categorical(y_test, num_class)"
   ]
  },
  {
   "cell_type": "code",
   "execution_count": 23,
   "metadata": {},
   "outputs": [],
   "source": [
    "X_train = np.array(X_train, dtype=np.float32)\n",
    "X_test = np.array(X_test, dtype=np.float32)"
   ]
  },
  {
   "cell_type": "code",
   "execution_count": 24,
   "metadata": {},
   "outputs": [
    {
     "name": "stdout",
     "output_type": "stream",
     "text": [
      "Epoch 1/100\n",
      "1417/1417 [==============================] - 27s 17ms/step - loss: 0.7140 - accuracy: 0.7411 - recall: 0.6346 - val_loss: 2.2074 - val_accuracy: 0.3110 - val_recall: 0.2643\n",
      "Epoch 2/100\n",
      "1417/1417 [==============================] - 23s 16ms/step - loss: 0.6218 - accuracy: 0.7620 - recall: 0.6713 - val_loss: 0.9377 - val_accuracy: 0.7239 - val_recall: 0.6968\n",
      "Epoch 3/100\n",
      "1417/1417 [==============================] - 26s 18ms/step - loss: 0.5995 - accuracy: 0.7708 - recall: 0.6822 - val_loss: 5.8275 - val_accuracy: 0.1589 - val_recall: 0.1523\n",
      "Epoch 4/100\n",
      "1417/1417 [==============================] - 24s 17ms/step - loss: 0.5870 - accuracy: 0.7759 - recall: 0.6861 - val_loss: 2.0544 - val_accuracy: 0.4683 - val_recall: 0.4274\n",
      "Epoch 5/100\n",
      "1417/1417 [==============================] - 24s 17ms/step - loss: 0.5771 - accuracy: 0.7774 - recall: 0.6918 - val_loss: 2.8897 - val_accuracy: 0.5003 - val_recall: 0.4918\n",
      "Epoch 6/100\n",
      "1417/1417 [==============================] - 24s 17ms/step - loss: 0.5716 - accuracy: 0.7793 - recall: 0.6940 - val_loss: 3.5583 - val_accuracy: 0.4640 - val_recall: 0.4609\n",
      "Epoch 7/100\n",
      "1417/1417 [==============================] - 24s 17ms/step - loss: 0.5648 - accuracy: 0.7816 - recall: 0.6966 - val_loss: 3.5834 - val_accuracy: 0.4666 - val_recall: 0.4665\n",
      "Epoch 8/100\n",
      "1417/1417 [==============================] - 24s 17ms/step - loss: 0.5593 - accuracy: 0.7829 - recall: 0.6989 - val_loss: 1.4268 - val_accuracy: 0.5196 - val_recall: 0.4810\n",
      "Epoch 9/100\n",
      "1417/1417 [==============================] - 24s 17ms/step - loss: 0.5544 - accuracy: 0.7844 - recall: 0.7025 - val_loss: 6.5828 - val_accuracy: 0.1843 - val_recall: 0.1833\n",
      "Epoch 10/100\n",
      "1417/1417 [==============================] - 24s 17ms/step - loss: 0.5498 - accuracy: 0.7852 - recall: 0.7036 - val_loss: 9.4830 - val_accuracy: 0.1546 - val_recall: 0.1542\n",
      "Epoch 11/100\n",
      "1417/1417 [==============================] - 24s 17ms/step - loss: 0.5473 - accuracy: 0.7872 - recall: 0.7046 - val_loss: 2.0527 - val_accuracy: 0.5462 - val_recall: 0.5337\n",
      "Epoch 12/100\n",
      "1417/1417 [==============================] - 24s 17ms/step - loss: 0.5442 - accuracy: 0.7867 - recall: 0.7069 - val_loss: 1.8040 - val_accuracy: 0.5408 - val_recall: 0.5242\n",
      "Epoch 13/100\n",
      "1417/1417 [==============================] - 24s 17ms/step - loss: 0.5382 - accuracy: 0.7900 - recall: 0.7101 - val_loss: 2.0290 - val_accuracy: 0.6170 - val_recall: 0.5847\n",
      "Epoch 14/100\n",
      "1417/1417 [==============================] - 24s 17ms/step - loss: 0.5362 - accuracy: 0.7911 - recall: 0.7119 - val_loss: 1.1340 - val_accuracy: 0.6281 - val_recall: 0.5958\n",
      "Epoch 15/100\n",
      "1417/1417 [==============================] - 25s 17ms/step - loss: 0.5331 - accuracy: 0.7915 - recall: 0.7125 - val_loss: 1.6896 - val_accuracy: 0.5272 - val_recall: 0.5100\n",
      "Epoch 16/100\n",
      "1417/1417 [==============================] - 23s 16ms/step - loss: 0.5345 - accuracy: 0.7913 - recall: 0.7119 - val_loss: 3.5037 - val_accuracy: 0.4670 - val_recall: 0.4555\n",
      "Epoch 17/100\n",
      "1417/1417 [==============================] - 22s 16ms/step - loss: 0.5299 - accuracy: 0.7925 - recall: 0.7139 - val_loss: 6.4128 - val_accuracy: 0.4277 - val_recall: 0.4058\n",
      "Epoch 18/100\n",
      "1417/1417 [==============================] - 22s 16ms/step - loss: 0.5306 - accuracy: 0.7916 - recall: 0.7109 - val_loss: 7.0211 - val_accuracy: 0.3490 - val_recall: 0.3472\n",
      "Epoch 19/100\n",
      "1417/1417 [==============================] - 23s 16ms/step - loss: 0.5286 - accuracy: 0.7913 - recall: 0.7129 - val_loss: 7.9387 - val_accuracy: 0.3873 - val_recall: 0.3873\n",
      "Epoch 20/100\n",
      "1417/1417 [==============================] - 23s 16ms/step - loss: 0.5269 - accuracy: 0.7936 - recall: 0.7136 - val_loss: 1.4675 - val_accuracy: 0.6066 - val_recall: 0.5819\n",
      "Epoch 21/100\n",
      "1417/1417 [==============================] - 24s 17ms/step - loss: 0.5265 - accuracy: 0.7911 - recall: 0.7109 - val_loss: 4.7996 - val_accuracy: 0.4627 - val_recall: 0.4624\n",
      "Epoch 22/100\n",
      "1417/1417 [==============================] - 24s 17ms/step - loss: 0.5244 - accuracy: 0.7929 - recall: 0.7130 - val_loss: 4.0286 - val_accuracy: 0.4726 - val_recall: 0.4684\n",
      "Epoch 23/100\n",
      "1417/1417 [==============================] - 24s 17ms/step - loss: 0.5235 - accuracy: 0.7926 - recall: 0.7162 - val_loss: 3.3505 - val_accuracy: 0.4154 - val_recall: 0.4038\n",
      "Epoch 24/100\n",
      "1417/1417 [==============================] - 24s 17ms/step - loss: 0.5226 - accuracy: 0.7936 - recall: 0.7141 - val_loss: 1.7562 - val_accuracy: 0.4628 - val_recall: 0.4320\n",
      "Epoch 25/100\n",
      "1417/1417 [==============================] - 24s 17ms/step - loss: 0.5208 - accuracy: 0.7943 - recall: 0.7165 - val_loss: 7.0821 - val_accuracy: 0.5935 - val_recall: 0.5931\n",
      "Epoch 26/100\n",
      "1417/1417 [==============================] - 24s 17ms/step - loss: 0.5202 - accuracy: 0.7933 - recall: 0.7166 - val_loss: 1.4196 - val_accuracy: 0.6677 - val_recall: 0.6280\n",
      "Epoch 27/100\n",
      "1417/1417 [==============================] - 23s 16ms/step - loss: 0.5187 - accuracy: 0.7949 - recall: 0.7145 - val_loss: 9.2465 - val_accuracy: 0.4247 - val_recall: 0.4244\n",
      "Epoch 28/100\n",
      "1417/1417 [==============================] - 23s 16ms/step - loss: 0.5183 - accuracy: 0.7950 - recall: 0.7153 - val_loss: 3.4064 - val_accuracy: 0.3742 - val_recall: 0.3596\n",
      "Epoch 29/100\n",
      "1417/1417 [==============================] - 24s 17ms/step - loss: 0.5199 - accuracy: 0.7946 - recall: 0.7158 - val_loss: 14.2619 - val_accuracy: 0.1579 - val_recall: 0.1579\n",
      "Epoch 30/100\n",
      "1417/1417 [==============================] - 23s 16ms/step - loss: 0.5159 - accuracy: 0.7948 - recall: 0.7159 - val_loss: 22.1520 - val_accuracy: 0.1524 - val_recall: 0.1524\n",
      "Epoch 31/100\n",
      "1417/1417 [==============================] - 23s 17ms/step - loss: 0.5145 - accuracy: 0.7948 - recall: 0.7183 - val_loss: 1.3790 - val_accuracy: 0.5057 - val_recall: 0.4343\n",
      "Epoch 32/100\n",
      "1417/1417 [==============================] - 23s 16ms/step - loss: 0.5144 - accuracy: 0.7944 - recall: 0.7184 - val_loss: 3.2914 - val_accuracy: 0.3907 - val_recall: 0.3711\n",
      "Epoch 33/100\n",
      "1417/1417 [==============================] - 24s 17ms/step - loss: 0.5127 - accuracy: 0.7955 - recall: 0.7180 - val_loss: 16.0362 - val_accuracy: 0.1115 - val_recall: 0.1115\n",
      "Epoch 34/100\n",
      "1417/1417 [==============================] - 23s 16ms/step - loss: 0.5135 - accuracy: 0.7929 - recall: 0.7174 - val_loss: 17.7466 - val_accuracy: 0.1524 - val_recall: 0.1524\n",
      "Epoch 35/100\n",
      "1417/1417 [==============================] - 23s 16ms/step - loss: 0.5150 - accuracy: 0.7938 - recall: 0.7174 - val_loss: 4.7904 - val_accuracy: 0.5140 - val_recall: 0.5134\n",
      "Epoch 36/100\n",
      "1417/1417 [==============================] - 23s 17ms/step - loss: 0.5105 - accuracy: 0.7958 - recall: 0.7187 - val_loss: 3.3730 - val_accuracy: 0.4479 - val_recall: 0.4461\n",
      "Epoch 37/100\n",
      "1417/1417 [==============================] - 24s 17ms/step - loss: 0.5122 - accuracy: 0.7964 - recall: 0.7202 - val_loss: 5.7236 - val_accuracy: 0.4304 - val_recall: 0.4304\n",
      "Epoch 38/100\n",
      "1417/1417 [==============================] - 23s 16ms/step - loss: 0.5100 - accuracy: 0.7956 - recall: 0.7203 - val_loss: 10.7223 - val_accuracy: 0.1094 - val_recall: 0.1093\n",
      "Epoch 39/100\n",
      "1417/1417 [==============================] - 23s 16ms/step - loss: 0.5112 - accuracy: 0.7971 - recall: 0.7184 - val_loss: 5.3645 - val_accuracy: 0.4478 - val_recall: 0.4463\n",
      "Epoch 40/100\n",
      "1417/1417 [==============================] - 22s 16ms/step - loss: 0.5107 - accuracy: 0.7961 - recall: 0.7200 - val_loss: 1.7235 - val_accuracy: 0.6106 - val_recall: 0.5980\n",
      "Epoch 41/100\n",
      "1417/1417 [==============================] - 23s 17ms/step - loss: 0.5076 - accuracy: 0.7968 - recall: 0.7197 - val_loss: 11.7749 - val_accuracy: 0.1631 - val_recall: 0.1629\n",
      "Epoch 42/100\n",
      "1417/1417 [==============================] - 24s 17ms/step - loss: 0.5099 - accuracy: 0.7984 - recall: 0.7215 - val_loss: 1.6999 - val_accuracy: 0.5540 - val_recall: 0.4967\n",
      "Epoch 43/100\n",
      "1417/1417 [==============================] - 23s 17ms/step - loss: 0.5102 - accuracy: 0.7965 - recall: 0.7183 - val_loss: 10.6555 - val_accuracy: 0.1911 - val_recall: 0.1910\n",
      "Epoch 44/100\n",
      "1417/1417 [==============================] - 23s 17ms/step - loss: 0.5083 - accuracy: 0.7965 - recall: 0.7200 - val_loss: 3.2889 - val_accuracy: 0.3403 - val_recall: 0.3050\n",
      "Epoch 45/100\n",
      "1417/1417 [==============================] - 23s 16ms/step - loss: 0.5068 - accuracy: 0.7989 - recall: 0.7216 - val_loss: 2.8760 - val_accuracy: 0.5562 - val_recall: 0.5490\n",
      "Epoch 46/100\n",
      "1417/1417 [==============================] - 23s 17ms/step - loss: 0.5081 - accuracy: 0.7956 - recall: 0.7220 - val_loss: 3.8956 - val_accuracy: 0.5554 - val_recall: 0.5412\n",
      "Epoch 47/100\n",
      "1417/1417 [==============================] - 23s 17ms/step - loss: 0.5052 - accuracy: 0.7980 - recall: 0.7221 - val_loss: 9.2156 - val_accuracy: 0.4979 - val_recall: 0.4823\n",
      "Epoch 48/100\n",
      "1417/1417 [==============================] - 23s 17ms/step - loss: 0.5034 - accuracy: 0.7983 - recall: 0.7229 - val_loss: 2.1556 - val_accuracy: 0.5086 - val_recall: 0.4644\n",
      "Epoch 49/100\n",
      "1417/1417 [==============================] - 24s 17ms/step - loss: 0.5059 - accuracy: 0.7974 - recall: 0.7189 - val_loss: 14.6189 - val_accuracy: 0.1536 - val_recall: 0.1535\n",
      "Epoch 50/100\n",
      "1417/1417 [==============================] - 23s 16ms/step - loss: 0.5059 - accuracy: 0.7987 - recall: 0.7228 - val_loss: 1.8780 - val_accuracy: 0.5268 - val_recall: 0.4840\n",
      "Epoch 51/100\n",
      "1417/1417 [==============================] - 24s 17ms/step - loss: 0.5062 - accuracy: 0.7962 - recall: 0.7208 - val_loss: 2.8750 - val_accuracy: 0.5152 - val_recall: 0.4819\n",
      "Epoch 52/100\n",
      "1417/1417 [==============================] - 23s 16ms/step - loss: 0.5064 - accuracy: 0.7958 - recall: 0.7187 - val_loss: 8.5715 - val_accuracy: 0.3697 - val_recall: 0.3634\n",
      "Epoch 53/100\n",
      "1417/1417 [==============================] - 23s 16ms/step - loss: 0.5062 - accuracy: 0.7975 - recall: 0.7221 - val_loss: 38.1083 - val_accuracy: 0.3365 - val_recall: 0.3365\n",
      "Epoch 54/100\n",
      "1417/1417 [==============================] - 23s 16ms/step - loss: 0.5034 - accuracy: 0.7983 - recall: 0.7219 - val_loss: 5.6975 - val_accuracy: 0.2685 - val_recall: 0.2248\n",
      "Epoch 55/100\n",
      "1417/1417 [==============================] - 23s 17ms/step - loss: 0.5037 - accuracy: 0.7977 - recall: 0.7212 - val_loss: 17.3156 - val_accuracy: 0.1719 - val_recall: 0.1711\n",
      "Epoch 56/100\n",
      "1417/1417 [==============================] - 23s 16ms/step - loss: 0.5029 - accuracy: 0.7988 - recall: 0.7213 - val_loss: 1.2901 - val_accuracy: 0.6552 - val_recall: 0.5677\n",
      "Epoch 57/100\n",
      "1417/1417 [==============================] - 24s 17ms/step - loss: 0.5044 - accuracy: 0.7962 - recall: 0.7223 - val_loss: 1.3873 - val_accuracy: 0.6873 - val_recall: 0.6453\n",
      "Epoch 58/100\n",
      "1417/1417 [==============================] - 23s 16ms/step - loss: 0.5018 - accuracy: 0.8004 - recall: 0.7226 - val_loss: 43.5496 - val_accuracy: 0.3477 - val_recall: 0.3477\n",
      "Epoch 59/100\n",
      "1417/1417 [==============================] - 24s 17ms/step - loss: 0.5017 - accuracy: 0.7973 - recall: 0.7211 - val_loss: 3.1420 - val_accuracy: 0.3256 - val_recall: 0.2823\n",
      "Epoch 60/100\n",
      "1417/1417 [==============================] - 23s 16ms/step - loss: 0.5010 - accuracy: 0.7986 - recall: 0.7244 - val_loss: 20.5101 - val_accuracy: 0.3390 - val_recall: 0.3389\n",
      "Epoch 61/100\n",
      "1417/1417 [==============================] - 24s 17ms/step - loss: 0.5005 - accuracy: 0.7980 - recall: 0.7225 - val_loss: 35.1130 - val_accuracy: 0.3362 - val_recall: 0.3362\n",
      "Epoch 62/100\n",
      "1417/1417 [==============================] - 24s 17ms/step - loss: 0.4994 - accuracy: 0.7989 - recall: 0.7223 - val_loss: 4.3881 - val_accuracy: 0.2768 - val_recall: 0.2524\n",
      "Epoch 63/100\n",
      "1417/1417 [==============================] - 23s 16ms/step - loss: 0.5010 - accuracy: 0.7981 - recall: 0.7210 - val_loss: 31.2722 - val_accuracy: 0.3459 - val_recall: 0.3458\n",
      "Epoch 64/100\n",
      "1417/1417 [==============================] - 23s 16ms/step - loss: 0.5020 - accuracy: 0.7996 - recall: 0.7240 - val_loss: 5.9864 - val_accuracy: 0.3175 - val_recall: 0.3006\n",
      "Epoch 65/100\n",
      "1417/1417 [==============================] - 23s 16ms/step - loss: 0.5015 - accuracy: 0.7995 - recall: 0.7224 - val_loss: 12.7419 - val_accuracy: 0.3740 - val_recall: 0.3739\n",
      "Epoch 66/100\n",
      "1417/1417 [==============================] - 23s 16ms/step - loss: 0.4977 - accuracy: 0.8000 - recall: 0.7247 - val_loss: 1.5198 - val_accuracy: 0.5469 - val_recall: 0.4615\n",
      "Epoch 67/100\n",
      "1417/1417 [==============================] - 23s 16ms/step - loss: 0.5003 - accuracy: 0.7989 - recall: 0.7245 - val_loss: 1.8193 - val_accuracy: 0.6077 - val_recall: 0.5054\n",
      "Epoch 68/100\n",
      "1417/1417 [==============================] - 23s 17ms/step - loss: 0.4994 - accuracy: 0.7987 - recall: 0.7223 - val_loss: 5.0964 - val_accuracy: 0.2438 - val_recall: 0.2138\n",
      "Epoch 69/100\n",
      "1417/1417 [==============================] - 23s 16ms/step - loss: 0.4992 - accuracy: 0.8002 - recall: 0.7226 - val_loss: 4.9512 - val_accuracy: 0.1979 - val_recall: 0.1599\n",
      "Epoch 70/100\n",
      "1417/1417 [==============================] - 23s 16ms/step - loss: 0.4958 - accuracy: 0.7997 - recall: 0.7233 - val_loss: 1.9449 - val_accuracy: 0.5141 - val_recall: 0.4339\n",
      "Epoch 71/100\n",
      "1417/1417 [==============================] - 23s 17ms/step - loss: 0.4985 - accuracy: 0.8000 - recall: 0.7252 - val_loss: 5.3332 - val_accuracy: 0.5779 - val_recall: 0.5734\n",
      "Epoch 72/100\n",
      "1417/1417 [==============================] - 23s 16ms/step - loss: 0.4977 - accuracy: 0.7992 - recall: 0.7245 - val_loss: 1.5583 - val_accuracy: 0.5193 - val_recall: 0.4519\n",
      "Epoch 73/100\n",
      "1417/1417 [==============================] - 23s 16ms/step - loss: 0.4962 - accuracy: 0.8006 - recall: 0.7251 - val_loss: 4.5073 - val_accuracy: 0.1555 - val_recall: 0.1409\n",
      "Epoch 74/100\n",
      "1417/1417 [==============================] - 23s 16ms/step - loss: 0.4974 - accuracy: 0.8002 - recall: 0.7242 - val_loss: 45.1345 - val_accuracy: 0.3363 - val_recall: 0.3363\n",
      "Epoch 75/100\n",
      "1417/1417 [==============================] - 23s 16ms/step - loss: 0.4976 - accuracy: 0.7990 - recall: 0.7258 - val_loss: 4.4729 - val_accuracy: 0.4677 - val_recall: 0.4627\n",
      "Epoch 76/100\n",
      "1417/1417 [==============================] - 23s 16ms/step - loss: 0.4963 - accuracy: 0.7997 - recall: 0.7239 - val_loss: 33.8666 - val_accuracy: 0.3473 - val_recall: 0.3473\n",
      "Epoch 77/100\n",
      "1417/1417 [==============================] - 23s 16ms/step - loss: 0.4942 - accuracy: 0.8007 - recall: 0.7251 - val_loss: 2.8143 - val_accuracy: 0.2538 - val_recall: 0.1398\n",
      "Epoch 78/100\n",
      "1417/1417 [==============================] - 23s 16ms/step - loss: 0.4987 - accuracy: 0.7985 - recall: 0.7240 - val_loss: 11.7146 - val_accuracy: 0.4243 - val_recall: 0.4243\n",
      "Epoch 79/100\n",
      "1417/1417 [==============================] - 24s 17ms/step - loss: 0.4939 - accuracy: 0.7987 - recall: 0.7244 - val_loss: 20.0289 - val_accuracy: 0.4069 - val_recall: 0.4068\n",
      "Epoch 80/100\n",
      "1417/1417 [==============================] - 23s 16ms/step - loss: 0.4965 - accuracy: 0.7975 - recall: 0.7223 - val_loss: 1.8653 - val_accuracy: 0.5907 - val_recall: 0.5541\n",
      "Epoch 81/100\n",
      "1417/1417 [==============================] - 24s 17ms/step - loss: 0.4958 - accuracy: 0.8005 - recall: 0.7249 - val_loss: 3.7260 - val_accuracy: 0.5408 - val_recall: 0.5159\n",
      "Epoch 82/100\n",
      "1417/1417 [==============================] - 23s 16ms/step - loss: 0.4950 - accuracy: 0.8005 - recall: 0.7258 - val_loss: 20.7051 - val_accuracy: 0.5029 - val_recall: 0.5028\n",
      "Epoch 83/100\n",
      "1417/1417 [==============================] - 23s 16ms/step - loss: 0.4963 - accuracy: 0.8009 - recall: 0.7248 - val_loss: 3.7962 - val_accuracy: 0.5493 - val_recall: 0.5368\n",
      "Epoch 84/100\n",
      "1417/1417 [==============================] - 23s 17ms/step - loss: 0.4935 - accuracy: 0.7993 - recall: 0.7232 - val_loss: 10.9252 - val_accuracy: 0.4314 - val_recall: 0.4314\n",
      "Epoch 85/100\n",
      "1417/1417 [==============================] - 24s 17ms/step - loss: 0.4930 - accuracy: 0.8022 - recall: 0.7264 - val_loss: 4.2829 - val_accuracy: 0.1664 - val_recall: 0.1415\n",
      "Epoch 86/100\n",
      "1417/1417 [==============================] - 23s 16ms/step - loss: 0.4930 - accuracy: 0.8015 - recall: 0.7271 - val_loss: 2.5207 - val_accuracy: 0.4790 - val_recall: 0.4609\n",
      "Epoch 87/100\n",
      "1417/1417 [==============================] - 23s 16ms/step - loss: 0.4933 - accuracy: 0.7996 - recall: 0.7239 - val_loss: 1.2464 - val_accuracy: 0.7231 - val_recall: 0.6695\n",
      "Epoch 88/100\n",
      "1417/1417 [==============================] - 23s 16ms/step - loss: 0.4936 - accuracy: 0.8015 - recall: 0.7250 - val_loss: 1.2528 - val_accuracy: 0.6848 - val_recall: 0.6005\n",
      "Epoch 89/100\n",
      "1417/1417 [==============================] - 23s 17ms/step - loss: 0.4921 - accuracy: 0.8034 - recall: 0.7274 - val_loss: 8.4362 - val_accuracy: 0.5023 - val_recall: 0.4952\n",
      "Epoch 90/100\n",
      "1417/1417 [==============================] - 23s 17ms/step - loss: 0.4935 - accuracy: 0.7998 - recall: 0.7262 - val_loss: 2.4939 - val_accuracy: 0.5324 - val_recall: 0.4984\n",
      "Epoch 91/100\n",
      "1417/1417 [==============================] - 23s 17ms/step - loss: 0.4925 - accuracy: 0.8013 - recall: 0.7260 - val_loss: 9.6729 - val_accuracy: 0.4361 - val_recall: 0.4347\n",
      "Epoch 92/100\n",
      "1417/1417 [==============================] - 23s 16ms/step - loss: 0.4934 - accuracy: 0.8006 - recall: 0.7251 - val_loss: 3.4273 - val_accuracy: 0.4160 - val_recall: 0.3949\n",
      "Epoch 93/100\n",
      "1417/1417 [==============================] - 23s 17ms/step - loss: 0.4917 - accuracy: 0.8012 - recall: 0.7243 - val_loss: 4.9717 - val_accuracy: 0.2209 - val_recall: 0.1604\n",
      "Epoch 94/100\n",
      "1417/1417 [==============================] - 24s 17ms/step - loss: 0.4901 - accuracy: 0.8015 - recall: 0.7262 - val_loss: 14.3380 - val_accuracy: 0.3543 - val_recall: 0.3540\n",
      "Epoch 95/100\n",
      "1417/1417 [==============================] - 23s 17ms/step - loss: 0.4911 - accuracy: 0.8021 - recall: 0.7232 - val_loss: 2.0585 - val_accuracy: 0.5178 - val_recall: 0.3860\n",
      "Epoch 96/100\n",
      "1417/1417 [==============================] - 23s 16ms/step - loss: 0.4902 - accuracy: 0.8018 - recall: 0.7268 - val_loss: 12.7977 - val_accuracy: 0.3357 - val_recall: 0.3357\n",
      "Epoch 97/100\n",
      "1417/1417 [==============================] - 22s 16ms/step - loss: 0.4906 - accuracy: 0.8007 - recall: 0.7267 - val_loss: 1.9886 - val_accuracy: 0.5701 - val_recall: 0.5311\n",
      "Epoch 98/100\n",
      "1417/1417 [==============================] - 23s 16ms/step - loss: 0.4878 - accuracy: 0.8043 - recall: 0.7252 - val_loss: 2.0010 - val_accuracy: 0.4995 - val_recall: 0.4291\n",
      "Epoch 99/100\n",
      "1417/1417 [==============================] - 23s 17ms/step - loss: 0.4913 - accuracy: 0.8024 - recall: 0.7234 - val_loss: 30.9086 - val_accuracy: 0.4252 - val_recall: 0.4252\n",
      "Epoch 100/100\n",
      "1417/1417 [==============================] - 24s 17ms/step - loss: 0.4902 - accuracy: 0.8006 - recall: 0.7249 - val_loss: 4.1251 - val_accuracy: 0.3895 - val_recall: 0.3850\n"
     ]
    }
   ],
   "source": [
    "#Define epochs and batch size\n",
    "epochs = 100\n",
    "batch_size = 32\n",
    "\n",
    "#Train the model\n",
    "history = model.fit(X_train, y_train, epochs=epochs, batch_size=batch_size, validation_data=(X_test, y_test))"
   ]
  },
  {
   "cell_type": "markdown",
   "metadata": {},
   "source": [
    "## Evaluate The Model"
   ]
  },
  {
   "cell_type": "code",
   "execution_count": 25,
   "metadata": {},
   "outputs": [
    {
     "name": "stdout",
     "output_type": "stream",
     "text": [
      "3730/3730 [==============================] - 18s 5ms/step - loss: 4.1251 - accuracy: 0.3895 - recall: 0.3850\n",
      "Test Loss: 4.125123023986816\n",
      "Test Accuracy: 0.3894694447517395\n",
      "Test Recall: 0.38503631949424744\n"
     ]
    }
   ],
   "source": [
    "#Evaluate the model on test data\n",
    "loss, accuracy, recall = model.evaluate(X_test, y_test)\n",
    "print('Test Loss:', loss)\n",
    "print('Test Accuracy:', accuracy)\n",
    "print('Test Recall:', recall)"
   ]
  },
  {
   "cell_type": "code",
   "execution_count": 26,
   "metadata": {},
   "outputs": [
    {
     "name": "stdout",
     "output_type": "stream",
     "text": [
      "3730/3730 [==============================] - 8s 2ms/step\n"
     ]
    }
   ],
   "source": [
    "# make a predictions\n",
    "predictions = model.predict(X_test)"
   ]
  },
  {
   "cell_type": "code",
   "execution_count": 27,
   "metadata": {},
   "outputs": [],
   "source": [
    "# convert one-hot encode predictions to class labels\n",
    "predicted_classes = np.argmax(predictions, axis=1)\n",
    "y_test_categorical = np.argmax(y_test, axis=1)"
   ]
  },
  {
   "cell_type": "markdown",
   "metadata": {},
   "source": [
    "### Confusion Matrix"
   ]
  },
  {
   "cell_type": "code",
   "execution_count": 28,
   "metadata": {},
   "outputs": [],
   "source": [
    "# function to calculate recall from confusion matrix\n",
    "def calculate_recall(confusion_matrix):\n",
    "    num_class = len(confusion_matrix)\n",
    "    recalls = []\n",
    "\n",
    "    for i in range(num_class):\n",
    "        true_positive = confusion_matrix[i][i]\n",
    "        false_negative = sum(confusion_matrix[i]) - true_positive\n",
    "\n",
    "        recall = true_positive / (true_positive + false_negative)\n",
    "        recalls.append(recall)\n",
    "    \n",
    "    return recalls"
   ]
  },
  {
   "cell_type": "code",
   "execution_count": 29,
   "metadata": {},
   "outputs": [],
   "source": [
    "# function to display the recall score\n",
    "def display_recall(recalls):\n",
    "    print('Recall Scores for each class:')\n",
    "    print('Analysis:', recalls[0])\n",
    "    print('Backdoor:', recalls[1])\n",
    "    print('DoS:', recalls[2])\n",
    "    print('Exploits:', recalls[3])\n",
    "    print('Fuzzers:', recalls[4])\n",
    "    print('Generic:', recalls[5])\n",
    "    print('Reconnaissance:', recalls[6])\n",
    "    print('Shellcode:', recalls[7])\n",
    "    print('Worms:', recalls[8])"
   ]
  },
  {
   "cell_type": "code",
   "execution_count": 30,
   "metadata": {},
   "outputs": [],
   "source": [
    "from sklearn.metrics import confusion_matrix"
   ]
  },
  {
   "cell_type": "code",
   "execution_count": 31,
   "metadata": {},
   "outputs": [],
   "source": [
    "matrix = confusion_matrix(y_test_categorical, predicted_classes)\n",
    "matrix_df = pd.DataFrame(matrix, \n",
    "                         index= ['Analysis', 'Backdoor', 'DoS', 'Exploits', 'Fuzzers', 'Generic', 'Reconnaissance', 'Shellcode', 'Worms'], \n",
    "                         columns= ['Analysis', 'Backdoor', 'DoS', 'Exploits', 'Fuzzers', 'Generic', 'Reconnaissance', 'Shellcode', 'Worms'])"
   ]
  },
  {
   "cell_type": "code",
   "execution_count": 32,
   "metadata": {},
   "outputs": [
    {
     "data": {
      "image/png": "[encoded data removed]",
      "text/plain": [
       "<Figure size 2000x2000 with 2 Axes>"
      ]
     },
     "metadata": {},
     "output_type": "display_data"
    }
   ],
   "source": [
    "# Plotting Confusion Matrix\n",
    "plt.figure(figsize = (20, 20))\n",
    "sns.heatmap(matrix_df, fmt='.0f', annot=True)\n",
    "plt.title('Confusion Matrix (1D CNN)')\n",
    "plt.ylabel('Actual Values')\n",
    "plt.xlabel('Predicted Values')\n",
    "plt.show()"
   ]
  },
  {
   "cell_type": "code",
   "execution_count": 33,
   "metadata": {},
   "outputs": [
    {
     "name": "stdout",
     "output_type": "stream",
     "text": [
      "Recall Scores for each class:\n",
      "Analysis: 0.0\n",
      "Backdoor: 0.0\n",
      "DoS: 0.0011417387049420975\n",
      "Exploits: 0.2777811058527527\n",
      "Fuzzers: 0.0\n",
      "Generic: 0.9294732368309208\n",
      "Reconnaissance: 0.0\n",
      "Shellcode: 0.00794351279788173\n",
      "Worms: 0.0\n"
     ]
    }
   ],
   "source": [
    "recalls = calculate_recall(matrix)\n",
    "display_recall(recalls)"
   ]
  },
  {
   "cell_type": "markdown",
   "metadata": {},
   "source": [
    "## Save and load the model"
   ]
  },
  {
   "cell_type": "code",
   "execution_count": 34,
   "metadata": {},
   "outputs": [],
   "source": [
    "from keras.models import load_model"
   ]
  },
  {
   "cell_type": "code",
   "execution_count": 35,
   "metadata": {},
   "outputs": [],
   "source": [
    "# save the 1D CNN trained model using keras\n",
    "model.save('/Data/Visual Studio Code/Data Science/Notebook/UNSW-NB15/CNN/Imbalanced/GPU_Saved/CNN_1/cnn1d.keras')"
   ]
  },
  {
   "cell_type": "code",
   "execution_count": 36,
   "metadata": {},
   "outputs": [],
   "source": [
    "# load the 1D CNN trained model using keras\n",
    "model = load_model('/Data/Visual Studio Code/Data Science/Notebook/UNSW-NB15/CNN/Imbalanced/GPU_Saved/CNN_1/cnn1d.keras')"
   ]
  },
  {
   "cell_type": "markdown",
   "metadata": {},
   "source": [
    "## Save and load the predicted"
   ]
  },
  {
   "cell_type": "code",
   "execution_count": 37,
   "metadata": {},
   "outputs": [],
   "source": [
    "import pickle"
   ]
  },
  {
   "cell_type": "code",
   "execution_count": 38,
   "metadata": {},
   "outputs": [],
   "source": [
    "# save the decision tree trained model\n",
    "with open('/Data/Visual Studio Code/Data Science/Notebook/UNSW-NB15/CNN/Imbalanced/GPU_Saved/CNN_1/predicted_classes.pkl', 'wb') as model_file:\n",
    "    pickle.dump(predicted_classes, model_file)"
   ]
  },
  {
   "cell_type": "code",
   "execution_count": 39,
   "metadata": {},
   "outputs": [],
   "source": [
    "# load the decision tree trained model\n",
    "with open('/Data/Visual Studio Code/Data Science/Notebook/UNSW-NB15/CNN/Imbalanced/GPU_Saved/CNN_1/predicted_classes.pkl', 'rb') as model_file:\n",
    "    predicted_classes = pickle.load(model_file)"
   ]
  }
 ],
 "metadata": {
  "kernelspec": {
   "display_name": "myenv",
   "language": "python",
   "name": "python3"
  },
  "language_info": {
   "codemirror_mode": {
    "name": "ipython",
    "version": 3
   },
   "file_extension": ".py",
   "mimetype": "text/x-python",
   "name": "python",
   "nbconvert_exporter": "python",
   "pygments_lexer": "ipython3",
   "version": "3.10.13"
  },
  "orig_nbformat": 4
 },
 "nbformat": 4,
 "nbformat_minor": 2
}
