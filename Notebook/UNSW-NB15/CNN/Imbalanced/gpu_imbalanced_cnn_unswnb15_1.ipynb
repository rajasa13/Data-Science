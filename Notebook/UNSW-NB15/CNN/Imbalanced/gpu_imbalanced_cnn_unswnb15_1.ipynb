{
 "cells": [
  {
   "cell_type": "markdown",
   "metadata": {},
   "source": [
    "# Data Preprocessing"
   ]
  },
  {
   "cell_type": "code",
   "execution_count": 1,
   "metadata": {},
   "outputs": [],
   "source": [
    "import tensorflow as tf\n",
    "from keras.models import Sequential\n",
    "from keras.layers import Conv1D, MaxPooling1D, Flatten, Dense, Dropout, BatchNormalization\n",
    "from keras.metrics import Recall"
   ]
  },
  {
   "cell_type": "code",
   "execution_count": 2,
   "metadata": {},
   "outputs": [
    {
     "name": "stdout",
     "output_type": "stream",
     "text": [
      "Num GPUs Available:  1\n"
     ]
    }
   ],
   "source": [
    "#Check GPU device available\n",
    "print('Num GPUs Available: ', len(tf.config.list_physical_devices('GPU')))"
   ]
  },
  {
   "cell_type": "code",
   "execution_count": 3,
   "metadata": {},
   "outputs": [],
   "source": [
    "import pandas as pd\n",
    "import matplotlib.pyplot as plt\n",
    "import seaborn as sns\n",
    "import numpy as np"
   ]
  },
  {
   "cell_type": "code",
   "execution_count": 4,
   "metadata": {},
   "outputs": [],
   "source": [
    "# Load dataset\n",
    "data_train = pd.read_csv('/Data/Visual Studio Code/Data-Science/Dataset/UNSW-NB15/UNSW_NB15_training-set.csv')\n",
    "data_test = pd.read_csv('/Data/Visual Studio Code/Data-Science/Dataset/UNSW-NB15/UNSW_NB15_testing-set.csv')"
   ]
  },
  {
   "cell_type": "code",
   "execution_count": 5,
   "metadata": {},
   "outputs": [],
   "source": [
    "# Handle missing value and duplicate if any\n",
    "data_train.dropna(inplace=True)\n",
    "data_train.drop_duplicates(inplace=True)\n",
    "\n",
    "data_test.dropna(inplace=True)\n",
    "data_test.drop_duplicates(inplace=True)"
   ]
  },
  {
   "cell_type": "code",
   "execution_count": 6,
   "metadata": {},
   "outputs": [],
   "source": [
    "#Split Attack and Normal from dataframe\n",
    "data_train_attack = data_train[data_train['label'] == 1]\n",
    "data_test_attack = data_test[data_test['label'] == 1]\n",
    "\n",
    "#Optional\n",
    "#data_train_normal = data_train[data_train['label'] == 0]\n",
    "#data_test_normal = data_test[data_test['label'] == 0]"
   ]
  },
  {
   "cell_type": "code",
   "execution_count": 7,
   "metadata": {},
   "outputs": [],
   "source": [
    "# Drop id and label from train and test data\n",
    "data_train_attack = data_train_attack.drop('id', axis=1)\n",
    "data_train_attack = data_train_attack.drop('label', axis=1)\n",
    "\n",
    "data_test_attack = data_test_attack.drop('id', axis=1)\n",
    "data_test_attack = data_test_attack.drop('label', axis=1)"
   ]
  },
  {
   "cell_type": "code",
   "execution_count": 8,
   "metadata": {},
   "outputs": [
    {
     "name": "stdout",
     "output_type": "stream",
     "text": [
      "5\n",
      "6\n"
     ]
    }
   ],
   "source": [
    "print(data_train_attack['state'].nunique())\n",
    "print(data_test_attack['state'].nunique())"
   ]
  },
  {
   "cell_type": "code",
   "execution_count": 9,
   "metadata": {},
   "outputs": [
    {
     "name": "stdout",
     "output_type": "stream",
     "text": [
      "['INT' 'FIN' 'CON' 'REQ' 'RST']\n",
      "['INT' 'FIN' 'ACC' 'CON' 'REQ' 'CLO']\n"
     ]
    }
   ],
   "source": [
    "print(data_train_attack['state'].unique())\n",
    "print(data_test_attack['state'].unique())"
   ]
  },
  {
   "cell_type": "code",
   "execution_count": 10,
   "metadata": {},
   "outputs": [],
   "source": [
    "#Drop ACC, CLO, and RST from data\n",
    "data_train_attack = data_train_attack[(data_train_attack['state'] != 'RST')]\n",
    "data_test_attack = data_test_attack[(data_test_attack['state'] != 'ACC') & (data_test_attack['state'] != 'CLO')]"
   ]
  },
  {
   "cell_type": "code",
   "execution_count": 11,
   "metadata": {},
   "outputs": [
    {
     "name": "stdout",
     "output_type": "stream",
     "text": [
      "['INT' 'FIN' 'CON' 'REQ']\n",
      "['INT' 'FIN' 'CON' 'REQ']\n"
     ]
    }
   ],
   "source": [
    "print(data_train_attack['state'].unique())\n",
    "print(data_test_attack['state'].unique())"
   ]
  },
  {
   "cell_type": "markdown",
   "metadata": {},
   "source": [
    "## Encode Train and Test Data"
   ]
  },
  {
   "cell_type": "code",
   "execution_count": 12,
   "metadata": {},
   "outputs": [
    {
     "data": {
      "text/plain": [
       "['proto', 'state', 'service']"
      ]
     },
     "execution_count": 12,
     "metadata": {},
     "output_type": "execute_result"
    }
   ],
   "source": [
    "#column to encode\n",
    "cols = ['proto','state','service']\n",
    "cols"
   ]
  },
  {
   "cell_type": "code",
   "execution_count": 13,
   "metadata": {},
   "outputs": [],
   "source": [
    "#One-hot Encoding\n",
    "# Encode train data\n",
    "data_train_attack = pd.get_dummies(data_train_attack, columns=cols)\n",
    "\n",
    "# Encode test data\n",
    "data_test_attack = pd.get_dummies(data_test_attack, columns=cols)"
   ]
  },
  {
   "cell_type": "code",
   "execution_count": 14,
   "metadata": {},
   "outputs": [],
   "source": [
    "train_attack_cat = data_train_attack.pop('attack_cat')\n",
    "test_attack_cat = data_test_attack.pop('attack_cat')"
   ]
  },
  {
   "cell_type": "markdown",
   "metadata": {},
   "source": [
    "## Normalization"
   ]
  },
  {
   "cell_type": "code",
   "execution_count": 15,
   "metadata": {},
   "outputs": [],
   "source": [
    "# Min-Max Normalization\n",
    "from sklearn.preprocessing import MinMaxScaler\n",
    "\n",
    "scaler = MinMaxScaler()\n",
    "cols_to_norm = ['dur', 'spkts', 'dpkts', 'sbytes', 'dbytes', 'rate', 'sttl', 'dttl', 'sload', \n",
    "                'dload', 'sloss', 'dloss', 'sinpkt', 'dinpkt', 'sjit', 'djit', 'swin', 'stcpb', 'dtcpb', 'dwin', 'tcprtt', 'synack', \n",
    "                'ackdat', 'smean', 'dmean', 'trans_depth', 'response_body_len', 'ct_srv_src', 'ct_state_ttl', 'ct_dst_ltm', \n",
    "                'ct_src_dport_ltm', 'ct_dst_sport_ltm', 'ct_dst_src_ltm', 'is_ftp_login', 'ct_ftp_cmd', 'ct_flw_http_mthd', 'ct_src_ltm', \n",
    "                'ct_srv_dst', 'is_sm_ips_ports']\n",
    "\n",
    "data_train_attack[cols_to_norm] = scaler.fit_transform(data_train_attack[cols_to_norm])\n",
    "data_test_attack[cols_to_norm] = scaler.fit_transform(data_test_attack[cols_to_norm])"
   ]
  },
  {
   "cell_type": "markdown",
   "metadata": {},
   "source": [
    "## Feature Selection"
   ]
  },
  {
   "cell_type": "code",
   "execution_count": 16,
   "metadata": {},
   "outputs": [
    {
     "data": {
      "text/plain": [
       "dur               float64\n",
       "spkts             float64\n",
       "dpkts             float64\n",
       "sbytes            float64\n",
       "dbytes            float64\n",
       "                   ...   \n",
       "service_radius       bool\n",
       "service_smtp         bool\n",
       "service_snmp         bool\n",
       "service_ssh          bool\n",
       "service_ssl          bool\n",
       "Length: 182, dtype: object"
      ]
     },
     "execution_count": 16,
     "metadata": {},
     "output_type": "execute_result"
    }
   ],
   "source": [
    "#Feature Selection\n",
    "feature = data_train_attack.drop(['dinpkt', 'ct_ftp_cmd', 'is_sm_ips_ports'], axis=1)\n",
    "feature.dtypes"
   ]
  },
  {
   "cell_type": "markdown",
   "metadata": {},
   "source": [
    "# Split Data"
   ]
  },
  {
   "cell_type": "code",
   "execution_count": 17,
   "metadata": {},
   "outputs": [
    {
     "data": {
      "text/plain": [
       "((119329, 182), (119329,), (45329, 182), (45329,))"
      ]
     },
     "execution_count": 17,
     "metadata": {},
     "output_type": "execute_result"
    }
   ],
   "source": [
    "#Splitting the dataset into dependent and independent feature\n",
    "X_train = feature\n",
    "y_train = train_attack_cat\n",
    "\n",
    "X_test = data_test_attack.drop(columns=['dinpkt', 'ct_ftp_cmd', 'is_sm_ips_ports'])\n",
    "y_test = test_attack_cat\n",
    "\n",
    "X_train.shape, y_train.shape, X_test.shape, y_test.shape"
   ]
  },
  {
   "cell_type": "markdown",
   "metadata": {},
   "source": [
    "# Model Architecture"
   ]
  },
  {
   "cell_type": "markdown",
   "metadata": {},
   "source": [
    "## 1D-CNN (3 layer) Model"
   ]
  },
  {
   "cell_type": "code",
   "execution_count": 18,
   "metadata": {},
   "outputs": [],
   "source": [
    "# Define the input shape\n",
    "input_shape = (182, 1)\n",
    "\n",
    "#Create the sequential model\n",
    "model = Sequential()\n",
    "\n",
    "# Convolutional layers\n",
    "model.add(Conv1D(filters=32, kernel_size=5, activation='sigmoid', input_shape=input_shape))\n",
    "model.add(Conv1D(filters=32, kernel_size=5, activation='sigmoid'))\n",
    "\n",
    "\n",
    "# MaxPooling1D layer\n",
    "model.add(MaxPooling1D(pool_size=2, strides=1))\n",
    "\n",
    "# Convolutional layers\n",
    "model.add(Conv1D(filters=32, kernel_size=5, activation='sigmoid'))\n",
    "\n",
    "# Flatten tensor\n",
    "model.add(Flatten())\n",
    "\n",
    "# Batch Norm\n",
    "model.add(BatchNormalization(axis=-1))\n",
    "\n",
    "# Dropout\n",
    "model.add(Dropout(0.5))\n",
    "\n",
    "# Two Fully-connected layers\n",
    "model.add(Dense(32, activation='relu'))\n",
    "model.add(Dense(16, activation='relu'))\n",
    "\n",
    "# Output\n",
    "model.add(Dense(units=9, activation='softmax'))\n",
    "\n",
    "# Compile the model\n",
    "model.compile(optimizer='adam', loss='categorical_crossentropy', metrics=['accuracy', Recall()])"
   ]
  },
  {
   "cell_type": "code",
   "execution_count": 19,
   "metadata": {},
   "outputs": [
    {
     "name": "stdout",
     "output_type": "stream",
     "text": [
      "Model: \"sequential\"\n",
      "_________________________________________________________________\n",
      " Layer (type)                Output Shape              Param #   \n",
      "=================================================================\n",
      " conv1d (Conv1D)             (None, 178, 32)           192       \n",
      "                                                                 \n",
      " conv1d_1 (Conv1D)           (None, 174, 32)           5152      \n",
      "                                                                 \n",
      " max_pooling1d (MaxPooling1D  (None, 173, 32)          0         \n",
      " )                                                               \n",
      "                                                                 \n",
      " conv1d_2 (Conv1D)           (None, 169, 32)           5152      \n",
      "                                                                 \n",
      " flatten (Flatten)           (None, 5408)              0         \n",
      "                                                                 \n",
      " batch_normalization (BatchN  (None, 5408)             21632     \n",
      " ormalization)                                                   \n",
      "                                                                 \n",
      " dropout (Dropout)           (None, 5408)              0         \n",
      "                                                                 \n",
      " dense (Dense)               (None, 32)                173088    \n",
      "                                                                 \n",
      " dense_1 (Dense)             (None, 16)                528       \n",
      "                                                                 \n",
      " dense_2 (Dense)             (None, 9)                 153       \n",
      "                                                                 \n",
      "=================================================================\n",
      "Total params: 205,897\n",
      "Trainable params: 195,081\n",
      "Non-trainable params: 10,816\n",
      "_________________________________________________________________\n"
     ]
    }
   ],
   "source": [
    "#Print the model summary\n",
    "model.summary()"
   ]
  },
  {
   "cell_type": "markdown",
   "metadata": {},
   "source": [
    "## Train the model"
   ]
  },
  {
   "cell_type": "code",
   "execution_count": 20,
   "metadata": {},
   "outputs": [],
   "source": [
    "from keras.utils import to_categorical\n",
    "from sklearn.preprocessing import LabelEncoder"
   ]
  },
  {
   "cell_type": "code",
   "execution_count": 21,
   "metadata": {},
   "outputs": [],
   "source": [
    "le = LabelEncoder()\n",
    "\n",
    "y_train = le.fit_transform(y_train)\n",
    "y_test = le.fit_transform(y_test)"
   ]
  },
  {
   "cell_type": "code",
   "execution_count": 22,
   "metadata": {},
   "outputs": [],
   "source": [
    "num_class = 9\n",
    "y_train = to_categorical(y_train, num_class)\n",
    "y_test = to_categorical(y_test, num_class)"
   ]
  },
  {
   "cell_type": "code",
   "execution_count": 23,
   "metadata": {},
   "outputs": [],
   "source": [
    "X_train = np.array(X_train, dtype=np.float32)\n",
    "X_test = np.array(X_test, dtype=np.float32)"
   ]
  },
  {
   "cell_type": "code",
   "execution_count": 24,
   "metadata": {},
   "outputs": [
    {
     "name": "stdout",
     "output_type": "stream",
     "text": [
      "Epoch 1/50\n",
      "3730/3730 [==============================] - 38s 9ms/step - loss: 0.7131 - accuracy: 0.7426 - recall: 0.6192 - val_loss: 2.6486 - val_accuracy: 0.5000 - val_recall: 0.4886\n",
      "Epoch 2/50\n",
      "3730/3730 [==============================] - 34s 9ms/step - loss: 0.6424 - accuracy: 0.7651 - recall: 0.6485 - val_loss: 1.9355 - val_accuracy: 0.6626 - val_recall: 0.6360\n",
      "Epoch 3/50\n",
      "3730/3730 [==============================] - 34s 9ms/step - loss: 0.6254 - accuracy: 0.7693 - recall: 0.6564 - val_loss: 4.5598 - val_accuracy: 0.6162 - val_recall: 0.6159\n",
      "Epoch 4/50\n",
      "3730/3730 [==============================] - 34s 9ms/step - loss: 0.6170 - accuracy: 0.7717 - recall: 0.6564 - val_loss: 21.9111 - val_accuracy: 0.4174 - val_recall: 0.4174\n",
      "Epoch 5/50\n",
      "3730/3730 [==============================] - 34s 9ms/step - loss: 0.6094 - accuracy: 0.7746 - recall: 0.6580 - val_loss: 17.5114 - val_accuracy: 0.0819 - val_recall: 0.0818\n",
      "Epoch 6/50\n",
      "3730/3730 [==============================] - 34s 9ms/step - loss: 0.6030 - accuracy: 0.7770 - recall: 0.6608 - val_loss: 1.6720 - val_accuracy: 0.5366 - val_recall: 0.5237\n",
      "Epoch 7/50\n",
      "3730/3730 [==============================] - 34s 9ms/step - loss: 0.5951 - accuracy: 0.7790 - recall: 0.6629 - val_loss: 7.6841 - val_accuracy: 0.1876 - val_recall: 0.1873\n",
      "Epoch 8/50\n",
      "3730/3730 [==============================] - 34s 9ms/step - loss: 0.5909 - accuracy: 0.7794 - recall: 0.6646 - val_loss: 1.5693 - val_accuracy: 0.5939 - val_recall: 0.5322\n",
      "Epoch 9/50\n",
      "3730/3730 [==============================] - 35s 9ms/step - loss: 0.5866 - accuracy: 0.7818 - recall: 0.6673 - val_loss: 2.5024 - val_accuracy: 0.3454 - val_recall: 0.3139\n",
      "Epoch 10/50\n",
      "3730/3730 [==============================] - 35s 9ms/step - loss: 0.5851 - accuracy: 0.7821 - recall: 0.6669 - val_loss: 7.6423 - val_accuracy: 0.2119 - val_recall: 0.1732\n",
      "Epoch 11/50\n",
      "3730/3730 [==============================] - 35s 9ms/step - loss: 0.5818 - accuracy: 0.7838 - recall: 0.6676 - val_loss: 5.5729 - val_accuracy: 0.2586 - val_recall: 0.2499\n",
      "Epoch 12/50\n",
      "3730/3730 [==============================] - 35s 9ms/step - loss: 0.5800 - accuracy: 0.7836 - recall: 0.6694 - val_loss: 2.6624 - val_accuracy: 0.2748 - val_recall: 0.1549\n",
      "Epoch 13/50\n",
      "3730/3730 [==============================] - 35s 9ms/step - loss: 0.5778 - accuracy: 0.7852 - recall: 0.6699 - val_loss: 4.2450 - val_accuracy: 0.2249 - val_recall: 0.2138\n",
      "Epoch 14/50\n",
      "3730/3730 [==============================] - 36s 10ms/step - loss: 0.5769 - accuracy: 0.7842 - recall: 0.6709 - val_loss: 2.8544 - val_accuracy: 0.2693 - val_recall: 0.1919\n",
      "Epoch 15/50\n",
      "3730/3730 [==============================] - 35s 9ms/step - loss: 0.5748 - accuracy: 0.7846 - recall: 0.6712 - val_loss: 10.3161 - val_accuracy: 0.1587 - val_recall: 0.1571\n",
      "Epoch 16/50\n",
      "3730/3730 [==============================] - 35s 9ms/step - loss: 0.5729 - accuracy: 0.7860 - recall: 0.6728 - val_loss: 6.5426 - val_accuracy: 0.3229 - val_recall: 0.3176\n",
      "Epoch 17/50\n",
      "3730/3730 [==============================] - 35s 9ms/step - loss: 0.5709 - accuracy: 0.7856 - recall: 0.6707 - val_loss: 3.3739 - val_accuracy: 0.3928 - val_recall: 0.3691\n",
      "Epoch 18/50\n",
      "3730/3730 [==============================] - 35s 9ms/step - loss: 0.5690 - accuracy: 0.7872 - recall: 0.6726 - val_loss: 0.9149 - val_accuracy: 0.7079 - val_recall: 0.6317\n",
      "Epoch 19/50\n",
      "3730/3730 [==============================] - 35s 9ms/step - loss: 0.5676 - accuracy: 0.7872 - recall: 0.6733 - val_loss: 1.4282 - val_accuracy: 0.5625 - val_recall: 0.4426\n",
      "Epoch 20/50\n",
      "3730/3730 [==============================] - 35s 9ms/step - loss: 0.5660 - accuracy: 0.7874 - recall: 0.6737 - val_loss: 2.4170 - val_accuracy: 0.2161 - val_recall: 0.0979\n",
      "Epoch 21/50\n",
      "3730/3730 [==============================] - 35s 9ms/step - loss: 0.5654 - accuracy: 0.7882 - recall: 0.6750 - val_loss: 1.9689 - val_accuracy: 0.6774 - val_recall: 0.6760\n",
      "Epoch 22/50\n",
      "3730/3730 [==============================] - 34s 9ms/step - loss: 0.5626 - accuracy: 0.7891 - recall: 0.6764 - val_loss: 3.2591 - val_accuracy: 0.2279 - val_recall: 0.2226\n",
      "Epoch 23/50\n",
      "3730/3730 [==============================] - 35s 9ms/step - loss: 0.5630 - accuracy: 0.7895 - recall: 0.6768 - val_loss: 8.2511 - val_accuracy: 0.2008 - val_recall: 0.1726\n",
      "Epoch 24/50\n",
      "3730/3730 [==============================] - 35s 10ms/step - loss: 0.5612 - accuracy: 0.7895 - recall: 0.6781 - val_loss: 3.4070 - val_accuracy: 0.4398 - val_recall: 0.4262\n",
      "Epoch 25/50\n",
      "3730/3730 [==============================] - 35s 9ms/step - loss: 0.5603 - accuracy: 0.7903 - recall: 0.6778 - val_loss: 2.3339 - val_accuracy: 0.4151 - val_recall: 0.3778\n",
      "Epoch 26/50\n",
      "3730/3730 [==============================] - 36s 10ms/step - loss: 0.5593 - accuracy: 0.7905 - recall: 0.6782 - val_loss: 3.7782 - val_accuracy: 0.2585 - val_recall: 0.2578\n",
      "Epoch 27/50\n",
      "3730/3730 [==============================] - 35s 9ms/step - loss: 0.5572 - accuracy: 0.7907 - recall: 0.6791 - val_loss: 2.6852 - val_accuracy: 0.4952 - val_recall: 0.4751\n",
      "Epoch 28/50\n",
      "3730/3730 [==============================] - 36s 10ms/step - loss: 0.5572 - accuracy: 0.7915 - recall: 0.6803 - val_loss: 11.6411 - val_accuracy: 0.2002 - val_recall: 0.2002\n",
      "Epoch 29/50\n",
      "3730/3730 [==============================] - 36s 10ms/step - loss: 0.5570 - accuracy: 0.7916 - recall: 0.6785 - val_loss: 3.7179 - val_accuracy: 0.5735 - val_recall: 0.5696\n",
      "Epoch 30/50\n",
      "3730/3730 [==============================] - 34s 9ms/step - loss: 0.5562 - accuracy: 0.7916 - recall: 0.6797 - val_loss: 1.6985 - val_accuracy: 0.5418 - val_recall: 0.4722\n",
      "Epoch 31/50\n",
      "3730/3730 [==============================] - 36s 10ms/step - loss: 0.5540 - accuracy: 0.7924 - recall: 0.6813 - val_loss: 11.8868 - val_accuracy: 0.2368 - val_recall: 0.2205\n",
      "Epoch 32/50\n",
      "3730/3730 [==============================] - 35s 9ms/step - loss: 0.5543 - accuracy: 0.7916 - recall: 0.6791 - val_loss: 2.1007 - val_accuracy: 0.5525 - val_recall: 0.5374\n",
      "Epoch 33/50\n",
      "3730/3730 [==============================] - 35s 9ms/step - loss: 0.5549 - accuracy: 0.7915 - recall: 0.6782 - val_loss: 1.8426 - val_accuracy: 0.6703 - val_recall: 0.6319\n",
      "Epoch 34/50\n",
      "3730/3730 [==============================] - 35s 9ms/step - loss: 0.5518 - accuracy: 0.7924 - recall: 0.6806 - val_loss: 2.3808 - val_accuracy: 0.6555 - val_recall: 0.6511\n",
      "Epoch 35/50\n",
      "3730/3730 [==============================] - 36s 10ms/step - loss: 0.5517 - accuracy: 0.7923 - recall: 0.6813 - val_loss: 2.7677 - val_accuracy: 0.5742 - val_recall: 0.5558\n",
      "Epoch 36/50\n",
      "3730/3730 [==============================] - 36s 10ms/step - loss: 0.5510 - accuracy: 0.7929 - recall: 0.6795 - val_loss: 5.4348 - val_accuracy: 0.1993 - val_recall: 0.1707\n",
      "Epoch 37/50\n",
      "3730/3730 [==============================] - 36s 10ms/step - loss: 0.5505 - accuracy: 0.7921 - recall: 0.6802 - val_loss: 6.5696 - val_accuracy: 0.1997 - val_recall: 0.1704\n",
      "Epoch 38/50\n",
      "3730/3730 [==============================] - 35s 9ms/step - loss: 0.5497 - accuracy: 0.7936 - recall: 0.6813 - val_loss: 7.8130 - val_accuracy: 0.4517 - val_recall: 0.4460\n",
      "Epoch 39/50\n",
      "3730/3730 [==============================] - 35s 9ms/step - loss: 0.5513 - accuracy: 0.7926 - recall: 0.6792 - val_loss: 4.8942 - val_accuracy: 0.1211 - val_recall: 0.0996\n",
      "Epoch 40/50\n",
      "3730/3730 [==============================] - 35s 9ms/step - loss: 0.5481 - accuracy: 0.7934 - recall: 0.6820 - val_loss: 3.2129 - val_accuracy: 0.5704 - val_recall: 0.5665\n",
      "Epoch 41/50\n",
      "3730/3730 [==============================] - 36s 10ms/step - loss: 0.5479 - accuracy: 0.7942 - recall: 0.6822 - val_loss: 2.0889 - val_accuracy: 0.5486 - val_recall: 0.4762\n",
      "Epoch 42/50\n",
      "3730/3730 [==============================] - 34s 9ms/step - loss: 0.5477 - accuracy: 0.7936 - recall: 0.6812 - val_loss: 13.9155 - val_accuracy: 0.2526 - val_recall: 0.2483\n",
      "Epoch 43/50\n",
      "3730/3730 [==============================] - 35s 10ms/step - loss: 0.5468 - accuracy: 0.7939 - recall: 0.6816 - val_loss: 3.1485 - val_accuracy: 0.5114 - val_recall: 0.4433\n",
      "Epoch 44/50\n",
      "3730/3730 [==============================] - 35s 9ms/step - loss: 0.5469 - accuracy: 0.7943 - recall: 0.6826 - val_loss: 5.0530 - val_accuracy: 0.4419 - val_recall: 0.4294\n",
      "Epoch 45/50\n",
      "3730/3730 [==============================] - 35s 9ms/step - loss: 0.5440 - accuracy: 0.7952 - recall: 0.6830 - val_loss: 6.3675 - val_accuracy: 0.2869 - val_recall: 0.2423\n",
      "Epoch 46/50\n",
      "3730/3730 [==============================] - 35s 10ms/step - loss: 0.5438 - accuracy: 0.7946 - recall: 0.6820 - val_loss: 1.2458 - val_accuracy: 0.6825 - val_recall: 0.6338\n",
      "Epoch 47/50\n",
      "3730/3730 [==============================] - 36s 10ms/step - loss: 0.5433 - accuracy: 0.7947 - recall: 0.6848 - val_loss: 2.9831 - val_accuracy: 0.5017 - val_recall: 0.4628\n",
      "Epoch 48/50\n",
      "3730/3730 [==============================] - 35s 10ms/step - loss: 0.5435 - accuracy: 0.7942 - recall: 0.6828 - val_loss: 8.6168 - val_accuracy: 0.1722 - val_recall: 0.1452\n",
      "Epoch 49/50\n",
      "3730/3730 [==============================] - 35s 9ms/step - loss: 0.5422 - accuracy: 0.7950 - recall: 0.6823 - val_loss: 2.4481 - val_accuracy: 0.5717 - val_recall: 0.5017\n",
      "Epoch 50/50\n",
      "3730/3730 [==============================] - 35s 9ms/step - loss: 0.5419 - accuracy: 0.7946 - recall: 0.6830 - val_loss: 4.2118 - val_accuracy: 0.5833 - val_recall: 0.5734\n"
     ]
    }
   ],
   "source": [
    "#Define epochs and batch size\n",
    "epochs = 50\n",
    "batch_size = 32\n",
    "\n",
    "#Train the model\n",
    "history = model.fit(X_train, y_train, epochs=epochs, batch_size=batch_size, validation_data=(X_test, y_test))"
   ]
  },
  {
   "cell_type": "markdown",
   "metadata": {},
   "source": [
    "## Evaluate The Model"
   ]
  },
  {
   "cell_type": "code",
   "execution_count": 25,
   "metadata": {},
   "outputs": [
    {
     "name": "stdout",
     "output_type": "stream",
     "text": [
      "1417/1417 [==============================] - 8s 5ms/step - loss: 4.2118 - accuracy: 0.5833 - recall: 0.5734\n",
      "Test Loss: 4.211849212646484\n",
      "Test Accuracy: 0.5832690000534058\n",
      "Test Recall: 0.573407769203186\n"
     ]
    }
   ],
   "source": [
    "#Evaluate the model on test data\n",
    "loss, accuracy, recall = model.evaluate(X_test, y_test)\n",
    "print('Test Loss:', loss)\n",
    "print('Test Accuracy:', accuracy)\n",
    "print('Test Recall:', recall)"
   ]
  },
  {
   "cell_type": "code",
   "execution_count": 26,
   "metadata": {},
   "outputs": [
    {
     "name": "stdout",
     "output_type": "stream",
     "text": [
      "1417/1417 [==============================] - 3s 2ms/step\n"
     ]
    }
   ],
   "source": [
    "# make a predictions\n",
    "predictions = model.predict(X_test)"
   ]
  },
  {
   "cell_type": "code",
   "execution_count": 27,
   "metadata": {},
   "outputs": [],
   "source": [
    "# convert one-hot encode predictions to class labels\n",
    "predicted_classes = np.argmax(predictions, axis=1)\n",
    "y_test_categorical = np.argmax(y_test, axis=1)"
   ]
  },
  {
   "cell_type": "markdown",
   "metadata": {},
   "source": [
    "### Confusion Matrix"
   ]
  },
  {
   "cell_type": "code",
   "execution_count": 28,
   "metadata": {},
   "outputs": [],
   "source": [
    "# function to calculate recall from confusion matrix\n",
    "def calculate_recall(confusion_matrix):\n",
    "    num_class = len(confusion_matrix)\n",
    "    recalls = []\n",
    "\n",
    "    for i in range(num_class):\n",
    "        true_positive = confusion_matrix[i][i]\n",
    "        false_negative = sum(confusion_matrix[i]) - true_positive\n",
    "\n",
    "        recall = true_positive / (true_positive + false_negative)\n",
    "        recalls.append(recall)\n",
    "    \n",
    "    return recalls"
   ]
  },
  {
   "cell_type": "code",
   "execution_count": 29,
   "metadata": {},
   "outputs": [],
   "source": [
    "# function to display the recall score\n",
    "def display_recall(recalls):\n",
    "    print('Recall Scores for each class:')\n",
    "    print('Analysis:', recalls[0])\n",
    "    print('Backdoor:', recalls[1])\n",
    "    print('DoS:', recalls[2])\n",
    "    print('Exploits:', recalls[3])\n",
    "    print('Fuzzers:', recalls[4])\n",
    "    print('Generic:', recalls[5])\n",
    "    print('Reconnaissance:', recalls[6])\n",
    "    print('Shellcode:', recalls[7])\n",
    "    print('Worms:', recalls[8])"
   ]
  },
  {
   "cell_type": "code",
   "execution_count": 30,
   "metadata": {},
   "outputs": [],
   "source": [
    "from sklearn.metrics import confusion_matrix"
   ]
  },
  {
   "cell_type": "code",
   "execution_count": 31,
   "metadata": {},
   "outputs": [],
   "source": [
    "matrix = confusion_matrix(y_test_categorical, predicted_classes)\n",
    "matrix_df = pd.DataFrame(matrix, \n",
    "                         index= ['Analysis', 'Backdoor', 'DoS', 'Exploits', 'Fuzzers', 'Generic', 'Reconnaissance', 'Shellcode', 'Worms'], \n",
    "                         columns= ['Analysis', 'Backdoor', 'DoS', 'Exploits', 'Fuzzers', 'Generic', 'Reconnaissance', 'Shellcode', 'Worms'])"
   ]
  },
  {
   "cell_type": "code",
   "execution_count": 32,
   "metadata": {},
   "outputs": [
    {
     "data": {
      "image/png": "[encoded data removed]",
      "text/plain": [
       "<Figure size 2000x2000 with 2 Axes>"
      ]
     },
     "metadata": {},
     "output_type": "display_data"
    }
   ],
   "source": [
    "# Plotting Confusion Matrix\n",
    "plt.figure(figsize = (20, 20))\n",
    "sns.heatmap(matrix_df, fmt='.0f', annot=True)\n",
    "plt.title('Confusion Matrix (1D CNN)')\n",
    "plt.ylabel('Actual Values')\n",
    "plt.xlabel('Predicted Values')\n",
    "plt.show()"
   ]
  },
  {
   "cell_type": "code",
   "execution_count": 33,
   "metadata": {},
   "outputs": [
    {
     "name": "stdout",
     "output_type": "stream",
     "text": [
      "Recall Scores for each class:\n",
      "Analysis: 0.0\n",
      "Backdoor: 0.03945111492281304\n",
      "DoS: 0.8124235754463194\n",
      "Exploits: 0.40652232503818164\n",
      "Fuzzers: 0.06269592476489028\n",
      "Generic: 0.9601504954692385\n",
      "Reconnaissance: 0.0034334763948497852\n",
      "Shellcode: 0.14814814814814814\n",
      "Worms: 0.045454545454545456\n"
     ]
    }
   ],
   "source": [
    "recalls = calculate_recall(matrix)\n",
    "display_recall(recalls)"
   ]
  },
  {
   "cell_type": "markdown",
   "metadata": {},
   "source": [
    "## Save and load the model"
   ]
  },
  {
   "cell_type": "code",
   "execution_count": 34,
   "metadata": {},
   "outputs": [],
   "source": [
    "from keras.models import load_model"
   ]
  },
  {
   "cell_type": "code",
   "execution_count": 35,
   "metadata": {},
   "outputs": [],
   "source": [
    "# save the 1D CNN trained model using keras\n",
    "model.save('/Data/Visual Studio Code/Data-Science/Notebook/UNSW-NB15/CNN/Imbalanced/GPU_Saved/CNN_1/cnn1d.keras')"
   ]
  },
  {
   "cell_type": "code",
   "execution_count": 36,
   "metadata": {},
   "outputs": [],
   "source": [
    "# load the 1D CNN trained model using keras\n",
    "model = load_model('/Data/Visual Studio Code/Data-Science/Notebook/UNSW-NB15/CNN/Imbalanced/GPU_Saved/CNN_1/cnn1d.keras')"
   ]
  },
  {
   "cell_type": "markdown",
   "metadata": {},
   "source": [
    "## Save and load the predicted"
   ]
  },
  {
   "cell_type": "code",
   "execution_count": 37,
   "metadata": {},
   "outputs": [],
   "source": [
    "import joblib"
   ]
  },
  {
   "cell_type": "code",
   "execution_count": 38,
   "metadata": {},
   "outputs": [
    {
     "data": {
      "text/plain": [
       "['/Data/Visual Studio Code/Data-Science/Notebook/UNSW-NB15/CNN/Imbalanced/GPU_Saved/CNN_1/predicted_classes.joblib']"
      ]
     },
     "execution_count": 38,
     "metadata": {},
     "output_type": "execute_result"
    }
   ],
   "source": [
    "# save the decision tree, random forest, gradient boosting, xgboost trained model\n",
    "joblib.dump(predicted_classes, '/Data/Visual Studio Code/Data-Science/Notebook/UNSW-NB15/CNN/Imbalanced/GPU_Saved/CNN_1/predicted_classes.joblib', compress=('zlib', 3))"
   ]
  },
  {
   "cell_type": "code",
   "execution_count": 39,
   "metadata": {},
   "outputs": [],
   "source": [
    "# load the decision tree, random forest, gradient boosting, xgboost trained model\n",
    "predicted_classes = joblib.load('/Data/Visual Studio Code/Data-Science/Notebook/UNSW-NB15/CNN/Imbalanced/GPU_Saved/CNN_1/predicted_classes.joblib')"
   ]
  }
 ],
 "metadata": {
  "kernelspec": {
   "display_name": "myenv",
   "language": "python",
   "name": "python3"
  },
  "language_info": {
   "codemirror_mode": {
    "name": "ipython",
    "version": 3
   },
   "file_extension": ".py",
   "mimetype": "text/x-python",
   "name": "python",
   "nbconvert_exporter": "python",
   "pygments_lexer": "ipython3",
   "version": "3.10.13"
  },
  "orig_nbformat": 4
 },
 "nbformat": 4,
 "nbformat_minor": 2
}
