{
 "cells": [
  {
   "cell_type": "markdown",
   "metadata": {},
   "source": [
    "# Data Preprocessing"
   ]
  },
  {
   "cell_type": "code",
   "execution_count": 1,
   "metadata": {},
   "outputs": [],
   "source": [
    "import tensorflow as tf\n",
    "from keras.models import Sequential\n",
    "from keras.layers import Conv1D, MaxPooling1D, Flatten, Dense, Dropout, BatchNormalization\n",
    "from keras.metrics import Recall"
   ]
  },
  {
   "cell_type": "code",
   "execution_count": 2,
   "metadata": {},
   "outputs": [
    {
     "name": "stdout",
     "output_type": "stream",
     "text": [
      "Num GPUs Available:  1\n"
     ]
    }
   ],
   "source": [
    "#Check GPU device available\n",
    "print('Num GPUs Available: ', len(tf.config.list_physical_devices('GPU')))"
   ]
  },
  {
   "cell_type": "code",
   "execution_count": 3,
   "metadata": {},
   "outputs": [],
   "source": [
    "import pandas as pd\n",
    "import matplotlib.pyplot as plt\n",
    "import seaborn as sns\n",
    "import numpy as np"
   ]
  },
  {
   "cell_type": "code",
   "execution_count": 4,
   "metadata": {},
   "outputs": [],
   "source": [
    "# Load dataset\n",
    "data_train = pd.read_csv('/Data/Visual Studio Code/Data Science/Dataset/UNSW-NB15/UNSW_NB15_training-set.csv')\n",
    "data_test = pd.read_csv('/Data/Visual Studio Code/Data Science/Dataset/UNSW-NB15/UNSW_NB15_testing-set.csv')"
   ]
  },
  {
   "cell_type": "code",
   "execution_count": 5,
   "metadata": {},
   "outputs": [],
   "source": [
    "# Handle missing value and duplicate if any\n",
    "data_train.dropna(inplace=True)\n",
    "data_train.drop_duplicates(inplace=True)\n",
    "\n",
    "data_test.dropna(inplace=True)\n",
    "data_test.drop_duplicates(inplace=True)"
   ]
  },
  {
   "cell_type": "code",
   "execution_count": 6,
   "metadata": {},
   "outputs": [],
   "source": [
    "#Split Attack and Normal from dataframe\n",
    "data_train_attack = data_train[data_train['label'] == 1]\n",
    "data_test_attack = data_test[data_test['label'] == 1]\n",
    "\n",
    "#Optional\n",
    "#data_train_normal = data_train[data_train['label'] == 0]\n",
    "#data_test_normal = data_test[data_test['label'] == 0]"
   ]
  },
  {
   "cell_type": "code",
   "execution_count": 7,
   "metadata": {},
   "outputs": [],
   "source": [
    "# Drop id and label from train and test data\n",
    "data_train_attack = data_train_attack.drop('id', axis=1)\n",
    "data_train_attack = data_train_attack.drop('label', axis=1)\n",
    "\n",
    "data_test_attack = data_test_attack.drop('id', axis=1)\n",
    "data_test_attack = data_test_attack.drop('label', axis=1)"
   ]
  },
  {
   "cell_type": "code",
   "execution_count": 8,
   "metadata": {},
   "outputs": [
    {
     "name": "stdout",
     "output_type": "stream",
     "text": [
      "6\n",
      "5\n"
     ]
    }
   ],
   "source": [
    "print(data_train_attack['state'].nunique())\n",
    "print(data_test_attack['state'].nunique())"
   ]
  },
  {
   "cell_type": "code",
   "execution_count": 9,
   "metadata": {},
   "outputs": [
    {
     "name": "stdout",
     "output_type": "stream",
     "text": [
      "['INT' 'FIN' 'ACC' 'CON' 'REQ' 'CLO']\n",
      "['INT' 'FIN' 'CON' 'REQ' 'RST']\n"
     ]
    }
   ],
   "source": [
    "print(data_train_attack['state'].unique())\n",
    "print(data_test_attack['state'].unique())"
   ]
  },
  {
   "cell_type": "code",
   "execution_count": 10,
   "metadata": {},
   "outputs": [],
   "source": [
    "#Drop ACC, CLO, and RST from data\n",
    "data_train_attack = data_train_attack[(data_train_attack['state'] != 'ACC') & (data_train_attack['state'] != 'CLO')]\n",
    "data_test_attack = data_test_attack[(data_test_attack['state'] != 'RST')]"
   ]
  },
  {
   "cell_type": "code",
   "execution_count": 11,
   "metadata": {},
   "outputs": [
    {
     "name": "stdout",
     "output_type": "stream",
     "text": [
      "['INT' 'FIN' 'CON' 'REQ']\n",
      "['INT' 'FIN' 'CON' 'REQ']\n"
     ]
    }
   ],
   "source": [
    "print(data_train_attack['state'].unique())\n",
    "print(data_test_attack['state'].unique())"
   ]
  },
  {
   "cell_type": "markdown",
   "metadata": {},
   "source": [
    "## Encode Train and Test Data"
   ]
  },
  {
   "cell_type": "code",
   "execution_count": 12,
   "metadata": {},
   "outputs": [
    {
     "data": {
      "text/plain": [
       "['proto', 'state', 'service']"
      ]
     },
     "execution_count": 12,
     "metadata": {},
     "output_type": "execute_result"
    }
   ],
   "source": [
    "#column to encode\n",
    "cols = ['proto','state','service']\n",
    "cols"
   ]
  },
  {
   "cell_type": "code",
   "execution_count": 13,
   "metadata": {},
   "outputs": [],
   "source": [
    "#One-hot Encoding\n",
    "# Encode train data\n",
    "data_train_attack = pd.get_dummies(data_train_attack, columns=cols)\n",
    "\n",
    "# Encode test data\n",
    "data_test_attack = pd.get_dummies(data_test_attack, columns=cols)"
   ]
  },
  {
   "cell_type": "code",
   "execution_count": 14,
   "metadata": {},
   "outputs": [],
   "source": [
    "train_attack_cat = data_train_attack.pop('attack_cat')\n",
    "test_attack_cat = data_test_attack.pop('attack_cat')"
   ]
  },
  {
   "cell_type": "markdown",
   "metadata": {},
   "source": [
    "## Normalization"
   ]
  },
  {
   "cell_type": "code",
   "execution_count": 15,
   "metadata": {},
   "outputs": [],
   "source": [
    "# Min-Max Normalization\n",
    "from sklearn.preprocessing import MinMaxScaler\n",
    "\n",
    "scaler = MinMaxScaler()\n",
    "cols_to_norm = ['dur', 'spkts', 'dpkts', 'sbytes', 'dbytes', 'rate', 'sttl', 'dttl', 'sload', \n",
    "                'dload', 'sloss', 'dloss', 'sinpkt', 'dinpkt', 'sjit', 'djit', 'swin', 'stcpb', 'dtcpb', 'dwin', 'tcprtt', 'synack', \n",
    "                'ackdat', 'smean', 'dmean', 'trans_depth', 'response_body_len', 'ct_srv_src', 'ct_state_ttl', 'ct_dst_ltm', \n",
    "                'ct_src_dport_ltm', 'ct_dst_sport_ltm', 'ct_dst_src_ltm', 'is_ftp_login', 'ct_ftp_cmd', 'ct_flw_http_mthd', 'ct_src_ltm', \n",
    "                'ct_srv_dst', 'is_sm_ips_ports']\n",
    "\n",
    "data_train_attack[cols_to_norm] = scaler.fit_transform(data_train_attack[cols_to_norm])\n",
    "data_test_attack[cols_to_norm] = scaler.fit_transform(data_test_attack[cols_to_norm])"
   ]
  },
  {
   "cell_type": "markdown",
   "metadata": {},
   "source": [
    "## Feature Selection"
   ]
  },
  {
   "cell_type": "code",
   "execution_count": 16,
   "metadata": {},
   "outputs": [
    {
     "data": {
      "text/plain": [
       "dur               float64\n",
       "spkts             float64\n",
       "dpkts             float64\n",
       "sbytes            float64\n",
       "dbytes            float64\n",
       "                   ...   \n",
       "service_radius       bool\n",
       "service_smtp         bool\n",
       "service_snmp         bool\n",
       "service_ssh          bool\n",
       "service_ssl          bool\n",
       "Length: 181, dtype: object"
      ]
     },
     "execution_count": 16,
     "metadata": {},
     "output_type": "execute_result"
    }
   ],
   "source": [
    "#Feature Selection\n",
    "feature = data_train_attack.drop(['dinpkt', 'ct_ftp_cmd', 'ct_src_dport_ltm', 'is_sm_ips_ports'], axis=1)\n",
    "feature.dtypes"
   ]
  },
  {
   "cell_type": "markdown",
   "metadata": {},
   "source": [
    "# Split Data"
   ]
  },
  {
   "cell_type": "code",
   "execution_count": 17,
   "metadata": {},
   "outputs": [
    {
     "data": {
      "text/plain": [
       "((45329, 181), (45329,), (119329, 181), (119329,))"
      ]
     },
     "execution_count": 17,
     "metadata": {},
     "output_type": "execute_result"
    }
   ],
   "source": [
    "#Splitting the dataset into dependent and independent feature\n",
    "X_train = feature\n",
    "y_train = train_attack_cat\n",
    "\n",
    "X_test = data_test_attack.drop(columns=['dinpkt', 'ct_ftp_cmd', 'ct_src_dport_ltm', 'is_sm_ips_ports'])\n",
    "y_test = test_attack_cat\n",
    "\n",
    "X_train.shape, y_train.shape, X_test.shape, y_test.shape"
   ]
  },
  {
   "cell_type": "markdown",
   "metadata": {},
   "source": [
    "# Model Architecture"
   ]
  },
  {
   "cell_type": "markdown",
   "metadata": {},
   "source": [
    "## 1D-CNN (3 layer) Model"
   ]
  },
  {
   "cell_type": "code",
   "execution_count": 18,
   "metadata": {},
   "outputs": [],
   "source": [
    "# Define the input shape\n",
    "input_shape = (181, 1)\n",
    "\n",
    "#Create the sequential model\n",
    "model = Sequential()\n",
    "\n",
    "# Convolutional layers\n",
    "model.add(Conv1D(filters=32, kernel_size=5, activation='sigmoid', input_shape=input_shape))\n",
    "model.add(Conv1D(filters=32, kernel_size=5, activation='sigmoid'))\n",
    "\n",
    "\n",
    "# MaxPooling1D layer\n",
    "model.add(MaxPooling1D(pool_size=2, strides=1))\n",
    "\n",
    "# Convolutional layers\n",
    "model.add(Conv1D(filters=32, kernel_size=5, activation='sigmoid'))\n",
    "\n",
    "# Flatten tensor\n",
    "model.add(Flatten())\n",
    "\n",
    "# Batch Norm\n",
    "model.add(BatchNormalization(axis=-1))\n",
    "\n",
    "# Dropout\n",
    "model.add(Dropout(0.5))\n",
    "\n",
    "# Two Fully-connected layers\n",
    "model.add(Dense(32, activation='relu'))\n",
    "model.add(Dense(16, activation='relu'))\n",
    "\n",
    "# Output\n",
    "model.add(Dense(units=9, activation='softmax'))\n",
    "\n",
    "# Compile the model\n",
    "model.compile(optimizer='adam', loss='categorical_crossentropy', metrics=['accuracy', Recall()])"
   ]
  },
  {
   "cell_type": "code",
   "execution_count": 19,
   "metadata": {},
   "outputs": [
    {
     "name": "stdout",
     "output_type": "stream",
     "text": [
      "Model: \"sequential\"\n",
      "_________________________________________________________________\n",
      " Layer (type)                Output Shape              Param #   \n",
      "=================================================================\n",
      " conv1d (Conv1D)             (None, 177, 32)           192       \n",
      "                                                                 \n",
      " conv1d_1 (Conv1D)           (None, 173, 32)           5152      \n",
      "                                                                 \n",
      " max_pooling1d (MaxPooling1D  (None, 172, 32)          0         \n",
      " )                                                               \n",
      "                                                                 \n",
      " conv1d_2 (Conv1D)           (None, 168, 32)           5152      \n",
      "                                                                 \n",
      " flatten (Flatten)           (None, 5376)              0         \n",
      "                                                                 \n",
      " batch_normalization (BatchN  (None, 5376)             21504     \n",
      " ormalization)                                                   \n",
      "                                                                 \n",
      " dropout (Dropout)           (None, 5376)              0         \n",
      "                                                                 \n",
      " dense (Dense)               (None, 32)                172064    \n",
      "                                                                 \n",
      " dense_1 (Dense)             (None, 16)                528       \n",
      "                                                                 \n",
      " dense_2 (Dense)             (None, 9)                 153       \n",
      "                                                                 \n",
      "=================================================================\n",
      "Total params: 204,745\n",
      "Trainable params: 193,993\n",
      "Non-trainable params: 10,752\n",
      "_________________________________________________________________\n"
     ]
    }
   ],
   "source": [
    "#Print the model summary\n",
    "model.summary()"
   ]
  },
  {
   "cell_type": "markdown",
   "metadata": {},
   "source": [
    "## Train the model"
   ]
  },
  {
   "cell_type": "code",
   "execution_count": 20,
   "metadata": {},
   "outputs": [],
   "source": [
    "from keras.utils import to_categorical\n",
    "from sklearn.preprocessing import LabelEncoder"
   ]
  },
  {
   "cell_type": "code",
   "execution_count": 21,
   "metadata": {},
   "outputs": [],
   "source": [
    "le = LabelEncoder()\n",
    "\n",
    "y_train = le.fit_transform(y_train)\n",
    "y_test = le.fit_transform(y_test)"
   ]
  },
  {
   "cell_type": "code",
   "execution_count": 22,
   "metadata": {},
   "outputs": [],
   "source": [
    "num_class = 9\n",
    "y_train = to_categorical(y_train, num_class)\n",
    "y_test = to_categorical(y_test, num_class)"
   ]
  },
  {
   "cell_type": "code",
   "execution_count": 23,
   "metadata": {},
   "outputs": [],
   "source": [
    "X_train = np.array(X_train, dtype=np.float32)\n",
    "X_test = np.array(X_test, dtype=np.float32)"
   ]
  },
  {
   "cell_type": "code",
   "execution_count": 24,
   "metadata": {},
   "outputs": [
    {
     "name": "stdout",
     "output_type": "stream",
     "text": [
      "Epoch 1/50\n",
      "1417/1417 [==============================] - 26s 16ms/step - loss: 0.7170 - accuracy: 0.7325 - recall: 0.6270 - val_loss: 1.1621 - val_accuracy: 0.5993 - val_recall: 0.5324\n",
      "Epoch 2/50\n",
      "1417/1417 [==============================] - 23s 16ms/step - loss: 0.6246 - accuracy: 0.7616 - recall: 0.6704 - val_loss: 1.4852 - val_accuracy: 0.5630 - val_recall: 0.5271\n",
      "Epoch 3/50\n",
      "1417/1417 [==============================] - 23s 16ms/step - loss: 0.6009 - accuracy: 0.7685 - recall: 0.6777 - val_loss: 1.5601 - val_accuracy: 0.5942 - val_recall: 0.5447\n",
      "Epoch 4/50\n",
      "1417/1417 [==============================] - 23s 17ms/step - loss: 0.5852 - accuracy: 0.7750 - recall: 0.6840 - val_loss: 2.2633 - val_accuracy: 0.5885 - val_recall: 0.5670\n",
      "Epoch 5/50\n",
      "1417/1417 [==============================] - 23s 17ms/step - loss: 0.5776 - accuracy: 0.7769 - recall: 0.6883 - val_loss: 5.2956 - val_accuracy: 0.2750 - val_recall: 0.2691\n",
      "Epoch 6/50\n",
      "1417/1417 [==============================] - 24s 17ms/step - loss: 0.5686 - accuracy: 0.7790 - recall: 0.6923 - val_loss: 2.0009 - val_accuracy: 0.5076 - val_recall: 0.5040\n",
      "Epoch 7/50\n",
      "1417/1417 [==============================] - 23s 16ms/step - loss: 0.5617 - accuracy: 0.7796 - recall: 0.6959 - val_loss: 2.5310 - val_accuracy: 0.3602 - val_recall: 0.3507\n",
      "Epoch 8/50\n",
      "1417/1417 [==============================] - 24s 17ms/step - loss: 0.5577 - accuracy: 0.7830 - recall: 0.6987 - val_loss: 0.9501 - val_accuracy: 0.6704 - val_recall: 0.5585\n",
      "Epoch 9/50\n",
      "1417/1417 [==============================] - 24s 17ms/step - loss: 0.5539 - accuracy: 0.7841 - recall: 0.6977 - val_loss: 0.9578 - val_accuracy: 0.6529 - val_recall: 0.5807\n",
      "Epoch 10/50\n",
      "1417/1417 [==============================] - 24s 17ms/step - loss: 0.5500 - accuracy: 0.7846 - recall: 0.7020 - val_loss: 1.6177 - val_accuracy: 0.6195 - val_recall: 0.5704\n",
      "Epoch 11/50\n",
      "1417/1417 [==============================] - 24s 17ms/step - loss: 0.5461 - accuracy: 0.7878 - recall: 0.7043 - val_loss: 1.1593 - val_accuracy: 0.6531 - val_recall: 0.5696\n",
      "Epoch 12/50\n",
      "1417/1417 [==============================] - 24s 17ms/step - loss: 0.5449 - accuracy: 0.7860 - recall: 0.7026 - val_loss: 1.0420 - val_accuracy: 0.6398 - val_recall: 0.5982\n",
      "Epoch 13/50\n",
      "1417/1417 [==============================] - 24s 17ms/step - loss: 0.5433 - accuracy: 0.7871 - recall: 0.7044 - val_loss: 1.4125 - val_accuracy: 0.6064 - val_recall: 0.5373\n",
      "Epoch 14/50\n",
      "1417/1417 [==============================] - 24s 17ms/step - loss: 0.5401 - accuracy: 0.7885 - recall: 0.7060 - val_loss: 14.7633 - val_accuracy: 0.2336 - val_recall: 0.2336\n",
      "Epoch 15/50\n",
      "1417/1417 [==============================] - 24s 17ms/step - loss: 0.5375 - accuracy: 0.7868 - recall: 0.7048 - val_loss: 3.0104 - val_accuracy: 0.4040 - val_recall: 0.3748\n",
      "Epoch 16/50\n",
      "1417/1417 [==============================] - 24s 17ms/step - loss: 0.5346 - accuracy: 0.7886 - recall: 0.7050 - val_loss: 3.6330 - val_accuracy: 0.4607 - val_recall: 0.4605\n",
      "Epoch 17/50\n",
      "1417/1417 [==============================] - 23s 16ms/step - loss: 0.5331 - accuracy: 0.7892 - recall: 0.7062 - val_loss: 5.1181 - val_accuracy: 0.1649 - val_recall: 0.1454\n",
      "Epoch 18/50\n",
      "1417/1417 [==============================] - 24s 17ms/step - loss: 0.5314 - accuracy: 0.7890 - recall: 0.7077 - val_loss: 9.7537 - val_accuracy: 0.1142 - val_recall: 0.1137\n",
      "Epoch 19/50\n",
      "1417/1417 [==============================] - 24s 17ms/step - loss: 0.5304 - accuracy: 0.7905 - recall: 0.7067 - val_loss: 3.2884 - val_accuracy: 0.4400 - val_recall: 0.4391\n",
      "Epoch 20/50\n",
      "1417/1417 [==============================] - 24s 17ms/step - loss: 0.5281 - accuracy: 0.7915 - recall: 0.7099 - val_loss: 8.4679 - val_accuracy: 0.2703 - val_recall: 0.2700\n",
      "Epoch 21/50\n",
      "1417/1417 [==============================] - 24s 17ms/step - loss: 0.5249 - accuracy: 0.7918 - recall: 0.7103 - val_loss: 4.9508 - val_accuracy: 0.5207 - val_recall: 0.5117\n",
      "Epoch 22/50\n",
      "1417/1417 [==============================] - 25s 17ms/step - loss: 0.5237 - accuracy: 0.7920 - recall: 0.7097 - val_loss: 2.4678 - val_accuracy: 0.3400 - val_recall: 0.3028\n",
      "Epoch 23/50\n",
      "1417/1417 [==============================] - 25s 17ms/step - loss: 0.5236 - accuracy: 0.7921 - recall: 0.7100 - val_loss: 5.7184 - val_accuracy: 0.2432 - val_recall: 0.2333\n",
      "Epoch 24/50\n",
      "1417/1417 [==============================] - 24s 17ms/step - loss: 0.5229 - accuracy: 0.7927 - recall: 0.7121 - val_loss: 1.6742 - val_accuracy: 0.5535 - val_recall: 0.5335\n",
      "Epoch 25/50\n",
      "1417/1417 [==============================] - 24s 17ms/step - loss: 0.5211 - accuracy: 0.7937 - recall: 0.7128 - val_loss: 2.3804 - val_accuracy: 0.6241 - val_recall: 0.5612\n",
      "Epoch 26/50\n",
      "1417/1417 [==============================] - 23s 16ms/step - loss: 0.5192 - accuracy: 0.7940 - recall: 0.7107 - val_loss: 2.9211 - val_accuracy: 0.4841 - val_recall: 0.4756\n",
      "Epoch 27/50\n",
      "1417/1417 [==============================] - 24s 17ms/step - loss: 0.5178 - accuracy: 0.7930 - recall: 0.7128 - val_loss: 0.9832 - val_accuracy: 0.6968 - val_recall: 0.6085\n",
      "Epoch 28/50\n",
      "1417/1417 [==============================] - 24s 17ms/step - loss: 0.5170 - accuracy: 0.7926 - recall: 0.7111 - val_loss: 3.7055 - val_accuracy: 0.5127 - val_recall: 0.5096\n",
      "Epoch 29/50\n",
      "1417/1417 [==============================] - 23s 16ms/step - loss: 0.5177 - accuracy: 0.7950 - recall: 0.7119 - val_loss: 1.7453 - val_accuracy: 0.6639 - val_recall: 0.5922\n",
      "Epoch 30/50\n",
      "1417/1417 [==============================] - 23s 17ms/step - loss: 0.5146 - accuracy: 0.7939 - recall: 0.7113 - val_loss: 2.5989 - val_accuracy: 0.6454 - val_recall: 0.6378\n",
      "Epoch 31/50\n",
      "1417/1417 [==============================] - 23s 16ms/step - loss: 0.5135 - accuracy: 0.7951 - recall: 0.7137 - val_loss: 0.8794 - val_accuracy: 0.6918 - val_recall: 0.6022\n",
      "Epoch 32/50\n",
      "1417/1417 [==============================] - 24s 17ms/step - loss: 0.5121 - accuracy: 0.7949 - recall: 0.7134 - val_loss: 1.0787 - val_accuracy: 0.6699 - val_recall: 0.5656\n",
      "Epoch 33/50\n",
      "1417/1417 [==============================] - 24s 17ms/step - loss: 0.5147 - accuracy: 0.7976 - recall: 0.7138 - val_loss: 7.8370 - val_accuracy: 0.4637 - val_recall: 0.4601\n",
      "Epoch 34/50\n",
      "1417/1417 [==============================] - 24s 17ms/step - loss: 0.5143 - accuracy: 0.7953 - recall: 0.7112 - val_loss: 0.7679 - val_accuracy: 0.7134 - val_recall: 0.6062\n",
      "Epoch 35/50\n",
      "1417/1417 [==============================] - 24s 17ms/step - loss: 0.5126 - accuracy: 0.7941 - recall: 0.7132 - val_loss: 2.2343 - val_accuracy: 0.4351 - val_recall: 0.3847\n",
      "Epoch 36/50\n",
      "1417/1417 [==============================] - 24s 17ms/step - loss: 0.5102 - accuracy: 0.7982 - recall: 0.7138 - val_loss: 1.5885 - val_accuracy: 0.6128 - val_recall: 0.6030\n",
      "Epoch 37/50\n",
      "1417/1417 [==============================] - 24s 17ms/step - loss: 0.5087 - accuracy: 0.7959 - recall: 0.7163 - val_loss: 9.2960 - val_accuracy: 0.2368 - val_recall: 0.2365\n",
      "Epoch 38/50\n",
      "1417/1417 [==============================] - 24s 17ms/step - loss: 0.5093 - accuracy: 0.7942 - recall: 0.7140 - val_loss: 1.6221 - val_accuracy: 0.5736 - val_recall: 0.5674\n",
      "Epoch 39/50\n",
      "1417/1417 [==============================] - 24s 17ms/step - loss: 0.5074 - accuracy: 0.7974 - recall: 0.7139 - val_loss: 4.3082 - val_accuracy: 0.6469 - val_recall: 0.6406\n",
      "Epoch 40/50\n",
      "1417/1417 [==============================] - 24s 17ms/step - loss: 0.5071 - accuracy: 0.7975 - recall: 0.7163 - val_loss: 13.8361 - val_accuracy: 0.2296 - val_recall: 0.2285\n",
      "Epoch 41/50\n",
      "1417/1417 [==============================] - 24s 17ms/step - loss: 0.5064 - accuracy: 0.7958 - recall: 0.7151 - val_loss: 0.9412 - val_accuracy: 0.6890 - val_recall: 0.5805\n",
      "Epoch 42/50\n",
      "1417/1417 [==============================] - 24s 17ms/step - loss: 0.5058 - accuracy: 0.7954 - recall: 0.7140 - val_loss: 2.4168 - val_accuracy: 0.4545 - val_recall: 0.4152\n",
      "Epoch 43/50\n",
      "1417/1417 [==============================] - 23s 17ms/step - loss: 0.5052 - accuracy: 0.7981 - recall: 0.7167 - val_loss: 4.2939 - val_accuracy: 0.5316 - val_recall: 0.5315\n",
      "Epoch 44/50\n",
      "1417/1417 [==============================] - 24s 17ms/step - loss: 0.5046 - accuracy: 0.7960 - recall: 0.7142 - val_loss: 1.5499 - val_accuracy: 0.6382 - val_recall: 0.5933\n",
      "Epoch 45/50\n",
      "1417/1417 [==============================] - 25s 17ms/step - loss: 0.5032 - accuracy: 0.7969 - recall: 0.7150 - val_loss: 2.0827 - val_accuracy: 0.3532 - val_recall: 0.3276\n",
      "Epoch 46/50\n",
      "1417/1417 [==============================] - 24s 17ms/step - loss: 0.5041 - accuracy: 0.7966 - recall: 0.7152 - val_loss: 12.7033 - val_accuracy: 0.2824 - val_recall: 0.2822\n",
      "Epoch 47/50\n",
      "1417/1417 [==============================] - 24s 17ms/step - loss: 0.5027 - accuracy: 0.7959 - recall: 0.7140 - val_loss: 2.4091 - val_accuracy: 0.5714 - val_recall: 0.5666\n",
      "Epoch 48/50\n",
      "1417/1417 [==============================] - 24s 17ms/step - loss: 0.5025 - accuracy: 0.7979 - recall: 0.7185 - val_loss: 0.9373 - val_accuracy: 0.7191 - val_recall: 0.6011\n",
      "Epoch 49/50\n",
      "1417/1417 [==============================] - 24s 17ms/step - loss: 0.5031 - accuracy: 0.7966 - recall: 0.7146 - val_loss: 0.8534 - val_accuracy: 0.7129 - val_recall: 0.5944\n",
      "Epoch 50/50\n",
      "1417/1417 [==============================] - 24s 17ms/step - loss: 0.5014 - accuracy: 0.7988 - recall: 0.7177 - val_loss: 1.3057 - val_accuracy: 0.6688 - val_recall: 0.6264\n"
     ]
    }
   ],
   "source": [
    "#Define epochs and batch size\n",
    "epochs = 50\n",
    "batch_size = 32\n",
    "\n",
    "#Train the model\n",
    "history = model.fit(X_train, y_train, epochs=epochs, batch_size=batch_size, validation_data=(X_test, y_test))"
   ]
  },
  {
   "cell_type": "markdown",
   "metadata": {},
   "source": [
    "## Evaluate The Model"
   ]
  },
  {
   "cell_type": "code",
   "execution_count": 25,
   "metadata": {},
   "outputs": [
    {
     "name": "stdout",
     "output_type": "stream",
     "text": [
      "3730/3730 [==============================] - 19s 5ms/step - loss: 1.3057 - accuracy: 0.6688 - recall: 0.6264\n",
      "Test Loss: 1.3056644201278687\n",
      "Test Accuracy: 0.6687645316123962\n",
      "Test Recall: 0.6264110207557678\n"
     ]
    }
   ],
   "source": [
    "#Evaluate the model on test data\n",
    "loss, accuracy, recall = model.evaluate(X_test, y_test)\n",
    "print('Test Loss:', loss)\n",
    "print('Test Accuracy:', accuracy)\n",
    "print('Test Recall:', recall)"
   ]
  },
  {
   "cell_type": "code",
   "execution_count": 26,
   "metadata": {},
   "outputs": [
    {
     "name": "stdout",
     "output_type": "stream",
     "text": [
      "3730/3730 [==============================] - 8s 2ms/step\n"
     ]
    }
   ],
   "source": [
    "# make a predictions\n",
    "predictions = model.predict(X_test)"
   ]
  },
  {
   "cell_type": "code",
   "execution_count": 27,
   "metadata": {},
   "outputs": [],
   "source": [
    "# convert one-hot encode predictions to class labels\n",
    "predicted_classes = np.argmax(predictions, axis=1)\n",
    "y_test_categorical = np.argmax(y_test, axis=1)"
   ]
  },
  {
   "cell_type": "markdown",
   "metadata": {},
   "source": [
    "### Confusion Matrix"
   ]
  },
  {
   "cell_type": "code",
   "execution_count": 28,
   "metadata": {},
   "outputs": [],
   "source": [
    "# function to calculate recall from confusion matrix\n",
    "def calculate_recall(confusion_matrix):\n",
    "    num_class = len(confusion_matrix)\n",
    "    recalls = []\n",
    "\n",
    "    for i in range(num_class):\n",
    "        true_positive = confusion_matrix[i][i]\n",
    "        false_negative = sum(confusion_matrix[i]) - true_positive\n",
    "\n",
    "        recall = true_positive / (true_positive + false_negative)\n",
    "        recalls.append(recall)\n",
    "    \n",
    "    return recalls"
   ]
  },
  {
   "cell_type": "code",
   "execution_count": 29,
   "metadata": {},
   "outputs": [],
   "source": [
    "# function to display the recall score\n",
    "def display_recall(recalls):\n",
    "    print('Recall Scores for each class:')\n",
    "    print('Analysis:', recalls[0])\n",
    "    print('Backdoor:', recalls[1])\n",
    "    print('DoS:', recalls[2])\n",
    "    print('Exploits:', recalls[3])\n",
    "    print('Fuzzers:', recalls[4])\n",
    "    print('Generic:', recalls[5])\n",
    "    print('Reconnaissance:', recalls[6])\n",
    "    print('Shellcode:', recalls[7])\n",
    "    print('Worms:', recalls[8])"
   ]
  },
  {
   "cell_type": "code",
   "execution_count": 30,
   "metadata": {},
   "outputs": [],
   "source": [
    "from sklearn.metrics import confusion_matrix"
   ]
  },
  {
   "cell_type": "code",
   "execution_count": 31,
   "metadata": {},
   "outputs": [],
   "source": [
    "matrix = confusion_matrix(y_test_categorical, predicted_classes)\n",
    "matrix_df = pd.DataFrame(matrix, \n",
    "                         index= ['Analysis', 'Backdoor', 'DoS', 'Exploits', 'Fuzzers', 'Generic', 'Reconnaissance', 'Shellcode', 'Worms'], \n",
    "                         columns= ['Analysis', 'Backdoor', 'DoS', 'Exploits', 'Fuzzers', 'Generic', 'Reconnaissance', 'Shellcode', 'Worms'])"
   ]
  },
  {
   "cell_type": "code",
   "execution_count": 32,
   "metadata": {},
   "outputs": [
    {
     "data": {
      "image/png": "[encoded data removed]",
      "text/plain": [
       "<Figure size 2000x2000 with 2 Axes>"
      ]
     },
     "metadata": {},
     "output_type": "display_data"
    }
   ],
   "source": [
    "# Plotting Confusion Matrix\n",
    "plt.figure(figsize = (20, 20))\n",
    "sns.heatmap(matrix_df, fmt='.0f', annot=True)\n",
    "plt.title('Confusion Matrix (1D CNN)')\n",
    "plt.ylabel('Actual Values')\n",
    "plt.xlabel('Predicted Values')\n",
    "plt.show()"
   ]
  },
  {
   "cell_type": "code",
   "execution_count": 33,
   "metadata": {},
   "outputs": [
    {
     "name": "stdout",
     "output_type": "stream",
     "text": [
      "Recall Scores for each class:\n",
      "Analysis: 0.0005\n",
      "Backdoor: 0.0\n",
      "DoS: 0.614663187082042\n",
      "Exploits: 0.6468879170909962\n",
      "Fuzzers: 0.4238891333040035\n",
      "Generic: 0.9783994599864997\n",
      "Reconnaissance: 0.3616169320240252\n",
      "Shellcode: 0.02824360105913504\n",
      "Worms: 0.0\n"
     ]
    }
   ],
   "source": [
    "recalls = calculate_recall(matrix)\n",
    "display_recall(recalls)"
   ]
  },
  {
   "cell_type": "markdown",
   "metadata": {},
   "source": [
    "## Save and load the model"
   ]
  },
  {
   "cell_type": "code",
   "execution_count": 34,
   "metadata": {},
   "outputs": [],
   "source": [
    "from keras.models import load_model"
   ]
  },
  {
   "cell_type": "code",
   "execution_count": 35,
   "metadata": {},
   "outputs": [],
   "source": [
    "# save the 1D CNN trained model using keras\n",
    "model.save('/Data/Visual Studio Code/Data Science/Notebook/UNSW-NB15/CNN/Imbalanced/GPU_Saved/CNN_1/cnn1d.keras')"
   ]
  },
  {
   "cell_type": "code",
   "execution_count": 36,
   "metadata": {},
   "outputs": [],
   "source": [
    "# load the 1D CNN trained model using keras\n",
    "model = load_model('/Data/Visual Studio Code/Data Science/Notebook/UNSW-NB15/CNN/Imbalanced/GPU_Saved/CNN_1/cnn1d.keras')"
   ]
  },
  {
   "cell_type": "markdown",
   "metadata": {},
   "source": [
    "## Save and load the predicted"
   ]
  },
  {
   "cell_type": "code",
   "execution_count": 37,
   "metadata": {},
   "outputs": [],
   "source": [
    "import pickle"
   ]
  },
  {
   "cell_type": "code",
   "execution_count": 38,
   "metadata": {},
   "outputs": [],
   "source": [
    "# save the decision tree trained model\n",
    "with open('/Data/Visual Studio Code/Data Science/Notebook/UNSW-NB15/CNN/Imbalanced/GPU_Saved/CNN_1/predicted_classes.pkl', 'wb') as model_file:\n",
    "    pickle.dump(predicted_classes, model_file)"
   ]
  },
  {
   "cell_type": "code",
   "execution_count": 39,
   "metadata": {},
   "outputs": [],
   "source": [
    "# load the decision tree trained model\n",
    "with open('/Data/Visual Studio Code/Data Science/Notebook/UNSW-NB15/CNN/Imbalanced/GPU_Saved/CNN_1/predicted_classes.pkl', 'rb') as model_file:\n",
    "    predicted_classes = pickle.load(model_file)"
   ]
  }
 ],
 "metadata": {
  "kernelspec": {
   "display_name": "myenv",
   "language": "python",
   "name": "python3"
  },
  "language_info": {
   "codemirror_mode": {
    "name": "ipython",
    "version": 3
   },
   "file_extension": ".py",
   "mimetype": "text/x-python",
   "name": "python",
   "nbconvert_exporter": "python",
   "pygments_lexer": "ipython3",
   "version": "3.10.13"
  },
  "orig_nbformat": 4
 },
 "nbformat": 4,
 "nbformat_minor": 2
}
