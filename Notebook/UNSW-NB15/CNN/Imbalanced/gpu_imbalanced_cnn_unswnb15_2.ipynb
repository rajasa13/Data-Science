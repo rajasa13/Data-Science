{
 "cells": [
  {
   "cell_type": "markdown",
   "metadata": {},
   "source": [
    "# Data Preprocessing"
   ]
  },
  {
   "cell_type": "code",
   "execution_count": 1,
   "metadata": {},
   "outputs": [],
   "source": [
    "import tensorflow as tf\n",
    "from keras.models import Sequential\n",
    "from keras.layers import Conv1D, MaxPooling1D, Flatten, Dense, Dropout, BatchNormalization\n",
    "from keras.metrics import Recall, Precision"
   ]
  },
  {
   "cell_type": "code",
   "execution_count": 2,
   "metadata": {},
   "outputs": [
    {
     "name": "stdout",
     "output_type": "stream",
     "text": [
      "Num GPUs Available:  1\n"
     ]
    }
   ],
   "source": [
    "#Check GPU device available\n",
    "print('Num GPUs Available: ', len(tf.config.list_physical_devices('GPU')))"
   ]
  },
  {
   "cell_type": "code",
   "execution_count": 3,
   "metadata": {},
   "outputs": [],
   "source": [
    "import pandas as pd\n",
    "import matplotlib.pyplot as plt\n",
    "import seaborn as sns\n",
    "import numpy as np"
   ]
  },
  {
   "cell_type": "code",
   "execution_count": 4,
   "metadata": {},
   "outputs": [],
   "source": [
    "# Load dataset\n",
    "data_train = pd.read_csv('/Data/Visual Studio Code/Data Science/Dataset/UNSW-NB15/UNSW_NB15_training-set.csv')\n",
    "data_test = pd.read_csv('/Data/Visual Studio Code/Data Science/Dataset/UNSW-NB15/UNSW_NB15_testing-set.csv')"
   ]
  },
  {
   "cell_type": "code",
   "execution_count": 5,
   "metadata": {},
   "outputs": [],
   "source": [
    "# Handle missing value and duplicate if any\n",
    "data_train.dropna(inplace=True)\n",
    "data_train.drop_duplicates(inplace=True)\n",
    "\n",
    "data_test.dropna(inplace=True)\n",
    "data_test.drop_duplicates(inplace=True)"
   ]
  },
  {
   "cell_type": "code",
   "execution_count": 6,
   "metadata": {},
   "outputs": [],
   "source": [
    "#Split Attack and Normal from dataframe\n",
    "data_train_attack = data_train[data_train['label'] == 1]\n",
    "data_test_attack = data_test[data_test['label'] == 1]\n",
    "\n",
    "#Optional\n",
    "#data_train_normal = data_train[data_train['label'] == 0]\n",
    "#data_test_normal = data_test[data_test['label'] == 0]"
   ]
  },
  {
   "cell_type": "code",
   "execution_count": 7,
   "metadata": {},
   "outputs": [],
   "source": [
    "# Drop id and label from train and test data\n",
    "data_train_attack = data_train_attack.drop('id', axis=1)\n",
    "data_train_attack = data_train_attack.drop('label', axis=1)\n",
    "\n",
    "data_test_attack = data_test_attack.drop('id', axis=1)\n",
    "data_test_attack = data_test_attack.drop('label', axis=1)"
   ]
  },
  {
   "cell_type": "code",
   "execution_count": 8,
   "metadata": {},
   "outputs": [
    {
     "name": "stdout",
     "output_type": "stream",
     "text": [
      "6\n",
      "5\n"
     ]
    }
   ],
   "source": [
    "print(data_train_attack['state'].nunique())\n",
    "print(data_test_attack['state'].nunique())"
   ]
  },
  {
   "cell_type": "code",
   "execution_count": 9,
   "metadata": {},
   "outputs": [
    {
     "name": "stdout",
     "output_type": "stream",
     "text": [
      "['INT' 'FIN' 'ACC' 'CON' 'REQ' 'CLO']\n",
      "['INT' 'FIN' 'CON' 'REQ' 'RST']\n"
     ]
    }
   ],
   "source": [
    "print(data_train_attack['state'].unique())\n",
    "print(data_test_attack['state'].unique())"
   ]
  },
  {
   "cell_type": "code",
   "execution_count": 10,
   "metadata": {},
   "outputs": [],
   "source": [
    "#Drop ACC, CLO, and RST from data\n",
    "data_train_attack = data_train_attack[(data_train_attack['state'] != 'ACC') & (data_train_attack['state'] != 'CLO')]\n",
    "data_test_attack = data_test_attack[(data_test_attack['state'] != 'RST')]"
   ]
  },
  {
   "cell_type": "code",
   "execution_count": 11,
   "metadata": {},
   "outputs": [
    {
     "name": "stdout",
     "output_type": "stream",
     "text": [
      "['INT' 'FIN' 'CON' 'REQ']\n",
      "['INT' 'FIN' 'CON' 'REQ']\n"
     ]
    }
   ],
   "source": [
    "print(data_train_attack['state'].unique())\n",
    "print(data_test_attack['state'].unique())"
   ]
  },
  {
   "cell_type": "markdown",
   "metadata": {},
   "source": [
    "## Encode Train and Test Data"
   ]
  },
  {
   "cell_type": "code",
   "execution_count": 12,
   "metadata": {},
   "outputs": [
    {
     "data": {
      "text/plain": [
       "['proto', 'state', 'service']"
      ]
     },
     "execution_count": 12,
     "metadata": {},
     "output_type": "execute_result"
    }
   ],
   "source": [
    "#column to encode\n",
    "cols = ['proto','state','service']\n",
    "cols"
   ]
  },
  {
   "cell_type": "code",
   "execution_count": 13,
   "metadata": {},
   "outputs": [],
   "source": [
    "#One-hot Encoding\n",
    "# Encode train data\n",
    "data_train_attack = pd.get_dummies(data_train_attack, columns=cols)\n",
    "\n",
    "# Encode test data\n",
    "data_test_attack = pd.get_dummies(data_test_attack, columns=cols)"
   ]
  },
  {
   "cell_type": "code",
   "execution_count": 14,
   "metadata": {},
   "outputs": [],
   "source": [
    "train_attack_cat = data_train_attack.pop('attack_cat')\n",
    "test_attack_cat = data_test_attack.pop('attack_cat')"
   ]
  },
  {
   "cell_type": "markdown",
   "metadata": {},
   "source": [
    "## Normalization"
   ]
  },
  {
   "cell_type": "code",
   "execution_count": 15,
   "metadata": {},
   "outputs": [],
   "source": [
    "# Min-Max Normalization\n",
    "from sklearn.preprocessing import MinMaxScaler\n",
    "\n",
    "scaler = MinMaxScaler()\n",
    "cols_to_norm = ['dur', 'spkts', 'dpkts', 'sbytes', 'dbytes', 'rate', 'sttl', 'dttl', 'sload', \n",
    "                'dload', 'sloss', 'dloss', 'sinpkt', 'dinpkt', 'sjit', 'djit', 'swin', 'stcpb', 'dtcpb', 'dwin', 'tcprtt', 'synack', \n",
    "                'ackdat', 'smean', 'dmean', 'trans_depth', 'response_body_len', 'ct_srv_src', 'ct_state_ttl', 'ct_dst_ltm', \n",
    "                'ct_src_dport_ltm', 'ct_dst_sport_ltm', 'ct_dst_src_ltm', 'is_ftp_login', 'ct_ftp_cmd', 'ct_flw_http_mthd', 'ct_src_ltm', \n",
    "                'ct_srv_dst', 'is_sm_ips_ports']\n",
    "\n",
    "data_train_attack[cols_to_norm] = scaler.fit_transform(data_train_attack[cols_to_norm])\n",
    "data_test_attack[cols_to_norm] = scaler.fit_transform(data_test_attack[cols_to_norm])"
   ]
  },
  {
   "cell_type": "markdown",
   "metadata": {},
   "source": [
    "## Feature Selection"
   ]
  },
  {
   "cell_type": "code",
   "execution_count": 16,
   "metadata": {},
   "outputs": [
    {
     "data": {
      "text/plain": [
       "dur               float64\n",
       "spkts             float64\n",
       "dpkts             float64\n",
       "sbytes            float64\n",
       "dbytes            float64\n",
       "                   ...   \n",
       "service_radius       bool\n",
       "service_smtp         bool\n",
       "service_snmp         bool\n",
       "service_ssh          bool\n",
       "service_ssl          bool\n",
       "Length: 181, dtype: object"
      ]
     },
     "execution_count": 16,
     "metadata": {},
     "output_type": "execute_result"
    }
   ],
   "source": [
    "#Feature Selection\n",
    "feature = data_train_attack.drop(['dinpkt', 'ct_ftp_cmd', 'ct_src_dport_ltm', 'is_sm_ips_ports'], axis=1)\n",
    "feature.dtypes"
   ]
  },
  {
   "cell_type": "markdown",
   "metadata": {},
   "source": [
    "# Split Data"
   ]
  },
  {
   "cell_type": "code",
   "execution_count": 17,
   "metadata": {},
   "outputs": [
    {
     "data": {
      "text/plain": [
       "((45329, 181), (45329,), (119329, 181), (119329,))"
      ]
     },
     "execution_count": 17,
     "metadata": {},
     "output_type": "execute_result"
    }
   ],
   "source": [
    "#Splitting the dataset into dependent and independent feature\n",
    "X_train = feature\n",
    "y_train = train_attack_cat\n",
    "\n",
    "X_test = data_test_attack.drop(columns=['dinpkt', 'ct_ftp_cmd', 'ct_src_dport_ltm', 'is_sm_ips_ports'])\n",
    "y_test = test_attack_cat\n",
    "\n",
    "X_train.shape, y_train.shape, X_test.shape, y_test.shape"
   ]
  },
  {
   "cell_type": "markdown",
   "metadata": {},
   "source": [
    "# Model Architecture"
   ]
  },
  {
   "cell_type": "markdown",
   "metadata": {},
   "source": [
    "## 1D-CNN (1 layer) Model"
   ]
  },
  {
   "cell_type": "code",
   "execution_count": 18,
   "metadata": {},
   "outputs": [],
   "source": [
    "# Define the input shape\n",
    "input_shape = (181, 1)\n",
    "\n",
    "# Create the sequential model\n",
    "model = Sequential()\n",
    "\n",
    "# Convolutional layers\n",
    "model.add(Conv1D(filters=32, kernel_size=5, activation='sigmoid', input_shape=input_shape))\n",
    "\n",
    "# MaxPooling1D layer\n",
    "model.add(MaxPooling1D(pool_size=2, strides=1))\n",
    "\n",
    "# Flatten layer\n",
    "model.add(Flatten())\n",
    "\n",
    "# Batch Normalization layer\n",
    "model.add(BatchNormalization(axis=-1))\n",
    "\n",
    "# Dropout layer with dropout 0.5\n",
    "model.add(Dropout(0.5))\n",
    "\n",
    "# Two Fully-connected layers\n",
    "model.add(Dense(32, activation='relu'))\n",
    "model.add(Dense(16, activation='relu'))\n",
    "\n",
    "# Output\n",
    "model.add(Dense(units=9, activation='softmax'))\n",
    "\n",
    "# Compile the model\n",
    "model.compile(optimizer='adam', loss='categorical_crossentropy', metrics=['accuracy', Recall()])"
   ]
  },
  {
   "cell_type": "code",
   "execution_count": 19,
   "metadata": {},
   "outputs": [
    {
     "name": "stdout",
     "output_type": "stream",
     "text": [
      "Model: \"sequential\"\n",
      "_________________________________________________________________\n",
      " Layer (type)                Output Shape              Param #   \n",
      "=================================================================\n",
      " conv1d (Conv1D)             (None, 177, 32)           192       \n",
      "                                                                 \n",
      " max_pooling1d (MaxPooling1D  (None, 176, 32)          0         \n",
      " )                                                               \n",
      "                                                                 \n",
      " flatten (Flatten)           (None, 5632)              0         \n",
      "                                                                 \n",
      " batch_normalization (BatchN  (None, 5632)             22528     \n",
      " ormalization)                                                   \n",
      "                                                                 \n",
      " dropout (Dropout)           (None, 5632)              0         \n",
      "                                                                 \n",
      " dense (Dense)               (None, 32)                180256    \n",
      "                                                                 \n",
      " dense_1 (Dense)             (None, 16)                528       \n",
      "                                                                 \n",
      " dense_2 (Dense)             (None, 9)                 153       \n",
      "                                                                 \n",
      "=================================================================\n",
      "Total params: 203,657\n",
      "Trainable params: 192,393\n",
      "Non-trainable params: 11,264\n",
      "_________________________________________________________________\n"
     ]
    }
   ],
   "source": [
    "#Print the model summary\n",
    "model.summary()"
   ]
  },
  {
   "cell_type": "markdown",
   "metadata": {},
   "source": [
    "## Train the model"
   ]
  },
  {
   "cell_type": "code",
   "execution_count": 20,
   "metadata": {},
   "outputs": [],
   "source": [
    "from keras.utils import to_categorical\n",
    "from sklearn.preprocessing import LabelEncoder"
   ]
  },
  {
   "cell_type": "code",
   "execution_count": 21,
   "metadata": {},
   "outputs": [],
   "source": [
    "le = LabelEncoder()\n",
    "\n",
    "y_train = le.fit_transform(y_train)\n",
    "y_test = le.fit_transform(y_test)"
   ]
  },
  {
   "cell_type": "code",
   "execution_count": 22,
   "metadata": {},
   "outputs": [],
   "source": [
    "num_class = 9\n",
    "y_train = to_categorical(y_train, num_class)\n",
    "y_test = to_categorical(y_test, num_class)"
   ]
  },
  {
   "cell_type": "code",
   "execution_count": 23,
   "metadata": {},
   "outputs": [],
   "source": [
    "X_train = np.array(X_train, dtype=np.float32)\n",
    "X_test = np.array(X_test, dtype=np.float32)"
   ]
  },
  {
   "cell_type": "code",
   "execution_count": 24,
   "metadata": {},
   "outputs": [
    {
     "name": "stdout",
     "output_type": "stream",
     "text": [
      "Epoch 1/100\n",
      "1417/1417 [==============================] - 50s 15ms/step - loss: 0.6996 - accuracy: 0.7426 - recall: 0.6408 - val_loss: 0.7574 - val_accuracy: 0.7429 - val_recall: 0.5963\n",
      "Epoch 2/100\n",
      "1417/1417 [==============================] - 21s 15ms/step - loss: 0.6222 - accuracy: 0.7635 - recall: 0.6721 - val_loss: 0.7444 - val_accuracy: 0.7356 - val_recall: 0.6079\n",
      "Epoch 3/100\n",
      "1417/1417 [==============================] - 21s 15ms/step - loss: 0.6045 - accuracy: 0.7681 - recall: 0.6767 - val_loss: 0.7151 - val_accuracy: 0.7343 - val_recall: 0.6144\n",
      "Epoch 4/100\n",
      "1417/1417 [==============================] - 20s 14ms/step - loss: 0.5935 - accuracy: 0.7710 - recall: 0.6834 - val_loss: 0.7649 - val_accuracy: 0.7155 - val_recall: 0.6499\n",
      "Epoch 5/100\n",
      "1417/1417 [==============================] - 21s 15ms/step - loss: 0.5834 - accuracy: 0.7742 - recall: 0.6865 - val_loss: 0.7427 - val_accuracy: 0.7325 - val_recall: 0.6313\n",
      "Epoch 6/100\n",
      "1417/1417 [==============================] - 21s 15ms/step - loss: 0.5779 - accuracy: 0.7767 - recall: 0.6888 - val_loss: 0.7323 - val_accuracy: 0.7307 - val_recall: 0.6277\n",
      "Epoch 7/100\n",
      "1417/1417 [==============================] - 21s 15ms/step - loss: 0.5696 - accuracy: 0.7777 - recall: 0.6921 - val_loss: 0.7588 - val_accuracy: 0.7328 - val_recall: 0.6491\n",
      "Epoch 8/100\n",
      "1417/1417 [==============================] - 21s 15ms/step - loss: 0.5649 - accuracy: 0.7801 - recall: 0.6959 - val_loss: 0.7272 - val_accuracy: 0.7504 - val_recall: 0.6433\n",
      "Epoch 9/100\n",
      "1417/1417 [==============================] - 21s 15ms/step - loss: 0.5617 - accuracy: 0.7809 - recall: 0.6966 - val_loss: 0.7365 - val_accuracy: 0.7418 - val_recall: 0.6298\n",
      "Epoch 10/100\n",
      "1417/1417 [==============================] - 21s 15ms/step - loss: 0.5593 - accuracy: 0.7817 - recall: 0.6966 - val_loss: 0.7784 - val_accuracy: 0.7236 - val_recall: 0.6488\n",
      "Epoch 11/100\n",
      "1417/1417 [==============================] - 21s 15ms/step - loss: 0.5560 - accuracy: 0.7819 - recall: 0.6986 - val_loss: 0.7508 - val_accuracy: 0.7346 - val_recall: 0.6406\n",
      "Epoch 12/100\n",
      "1417/1417 [==============================] - 21s 15ms/step - loss: 0.5520 - accuracy: 0.7833 - recall: 0.7003 - val_loss: 0.7455 - val_accuracy: 0.7521 - val_recall: 0.6372\n",
      "Epoch 13/100\n",
      "1417/1417 [==============================] - 21s 15ms/step - loss: 0.5509 - accuracy: 0.7824 - recall: 0.6993 - val_loss: 0.7338 - val_accuracy: 0.7432 - val_recall: 0.6366\n",
      "Epoch 14/100\n",
      "1417/1417 [==============================] - 21s 15ms/step - loss: 0.5481 - accuracy: 0.7854 - recall: 0.7024 - val_loss: 0.7791 - val_accuracy: 0.7393 - val_recall: 0.6360\n",
      "Epoch 15/100\n",
      "1417/1417 [==============================] - 21s 15ms/step - loss: 0.5458 - accuracy: 0.7860 - recall: 0.7035 - val_loss: 0.8014 - val_accuracy: 0.7307 - val_recall: 0.6417\n",
      "Epoch 16/100\n",
      "1417/1417 [==============================] - 21s 15ms/step - loss: 0.5438 - accuracy: 0.7853 - recall: 0.7036 - val_loss: 0.7579 - val_accuracy: 0.7365 - val_recall: 0.6618\n",
      "Epoch 17/100\n",
      "1417/1417 [==============================] - 21s 15ms/step - loss: 0.5427 - accuracy: 0.7855 - recall: 0.7050 - val_loss: 0.7816 - val_accuracy: 0.7440 - val_recall: 0.6614\n",
      "Epoch 18/100\n",
      "1417/1417 [==============================] - 21s 15ms/step - loss: 0.5429 - accuracy: 0.7851 - recall: 0.7033 - val_loss: 0.7865 - val_accuracy: 0.7364 - val_recall: 0.6612\n",
      "Epoch 19/100\n",
      "1417/1417 [==============================] - 21s 15ms/step - loss: 0.5399 - accuracy: 0.7859 - recall: 0.7067 - val_loss: 0.7593 - val_accuracy: 0.7471 - val_recall: 0.6348\n",
      "Epoch 20/100\n",
      "1417/1417 [==============================] - 21s 15ms/step - loss: 0.5380 - accuracy: 0.7883 - recall: 0.7064 - val_loss: 0.7295 - val_accuracy: 0.7409 - val_recall: 0.6426\n",
      "Epoch 21/100\n",
      "1417/1417 [==============================] - 21s 15ms/step - loss: 0.5359 - accuracy: 0.7877 - recall: 0.7069 - val_loss: 0.7773 - val_accuracy: 0.7467 - val_recall: 0.6440\n",
      "Epoch 22/100\n",
      "1417/1417 [==============================] - 21s 15ms/step - loss: 0.5318 - accuracy: 0.7882 - recall: 0.7085 - val_loss: 0.7865 - val_accuracy: 0.7583 - val_recall: 0.6425\n",
      "Epoch 23/100\n",
      "1417/1417 [==============================] - 21s 15ms/step - loss: 0.5330 - accuracy: 0.7883 - recall: 0.7084 - val_loss: 0.7689 - val_accuracy: 0.7479 - val_recall: 0.6444\n",
      "Epoch 24/100\n",
      "1417/1417 [==============================] - 21s 15ms/step - loss: 0.5312 - accuracy: 0.7894 - recall: 0.7091 - val_loss: 0.8451 - val_accuracy: 0.7325 - val_recall: 0.6287\n",
      "Epoch 25/100\n",
      "1417/1417 [==============================] - 21s 15ms/step - loss: 0.5289 - accuracy: 0.7891 - recall: 0.7089 - val_loss: 0.7990 - val_accuracy: 0.7301 - val_recall: 0.6311\n",
      "Epoch 26/100\n",
      "1417/1417 [==============================] - 21s 15ms/step - loss: 0.5297 - accuracy: 0.7895 - recall: 0.7090 - val_loss: 0.7943 - val_accuracy: 0.7398 - val_recall: 0.6409\n",
      "Epoch 27/100\n",
      "1417/1417 [==============================] - 21s 15ms/step - loss: 0.5282 - accuracy: 0.7908 - recall: 0.7105 - val_loss: 0.7896 - val_accuracy: 0.7502 - val_recall: 0.6497\n",
      "Epoch 28/100\n",
      "1417/1417 [==============================] - 21s 15ms/step - loss: 0.5267 - accuracy: 0.7895 - recall: 0.7102 - val_loss: 0.7771 - val_accuracy: 0.7531 - val_recall: 0.6479\n",
      "Epoch 29/100\n",
      "1417/1417 [==============================] - 21s 15ms/step - loss: 0.5253 - accuracy: 0.7892 - recall: 0.7102 - val_loss: 0.7870 - val_accuracy: 0.7527 - val_recall: 0.6386\n",
      "Epoch 30/100\n",
      "1417/1417 [==============================] - 21s 15ms/step - loss: 0.5228 - accuracy: 0.7899 - recall: 0.7080 - val_loss: 0.7982 - val_accuracy: 0.7379 - val_recall: 0.6692\n",
      "Epoch 31/100\n",
      "1417/1417 [==============================] - 21s 15ms/step - loss: 0.5227 - accuracy: 0.7916 - recall: 0.7110 - val_loss: 0.8469 - val_accuracy: 0.7347 - val_recall: 0.6341\n",
      "Epoch 32/100\n",
      "1417/1417 [==============================] - 21s 15ms/step - loss: 0.5235 - accuracy: 0.7903 - recall: 0.7099 - val_loss: 0.7981 - val_accuracy: 0.7534 - val_recall: 0.6581\n",
      "Epoch 33/100\n",
      "1417/1417 [==============================] - 21s 15ms/step - loss: 0.5189 - accuracy: 0.7933 - recall: 0.7119 - val_loss: 0.8171 - val_accuracy: 0.7448 - val_recall: 0.6327\n",
      "Epoch 34/100\n",
      "1417/1417 [==============================] - 21s 15ms/step - loss: 0.5201 - accuracy: 0.7939 - recall: 0.7122 - val_loss: 0.7967 - val_accuracy: 0.7498 - val_recall: 0.6494\n",
      "Epoch 35/100\n",
      "1417/1417 [==============================] - 21s 15ms/step - loss: 0.5214 - accuracy: 0.7909 - recall: 0.7121 - val_loss: 0.8029 - val_accuracy: 0.7422 - val_recall: 0.6474\n",
      "Epoch 36/100\n",
      "1417/1417 [==============================] - 21s 15ms/step - loss: 0.5191 - accuracy: 0.7928 - recall: 0.7136 - val_loss: 0.8101 - val_accuracy: 0.7405 - val_recall: 0.6683\n",
      "Epoch 37/100\n",
      "1417/1417 [==============================] - 21s 15ms/step - loss: 0.5196 - accuracy: 0.7917 - recall: 0.7110 - val_loss: 0.8539 - val_accuracy: 0.7237 - val_recall: 0.6370\n",
      "Epoch 38/100\n",
      "1417/1417 [==============================] - 21s 15ms/step - loss: 0.5183 - accuracy: 0.7930 - recall: 0.7123 - val_loss: 0.8203 - val_accuracy: 0.7312 - val_recall: 0.6416\n",
      "Epoch 39/100\n",
      "1417/1417 [==============================] - 21s 15ms/step - loss: 0.5160 - accuracy: 0.7945 - recall: 0.7121 - val_loss: 0.8260 - val_accuracy: 0.7325 - val_recall: 0.6422\n",
      "Epoch 40/100\n",
      "1417/1417 [==============================] - 21s 15ms/step - loss: 0.5161 - accuracy: 0.7942 - recall: 0.7143 - val_loss: 0.8070 - val_accuracy: 0.7465 - val_recall: 0.6449\n",
      "Epoch 41/100\n",
      "1417/1417 [==============================] - 21s 15ms/step - loss: 0.5179 - accuracy: 0.7926 - recall: 0.7107 - val_loss: 0.8213 - val_accuracy: 0.7571 - val_recall: 0.6641\n",
      "Epoch 42/100\n",
      "1417/1417 [==============================] - 21s 15ms/step - loss: 0.5139 - accuracy: 0.7965 - recall: 0.7148 - val_loss: 0.8025 - val_accuracy: 0.7414 - val_recall: 0.6532\n",
      "Epoch 43/100\n",
      "1417/1417 [==============================] - 21s 15ms/step - loss: 0.5155 - accuracy: 0.7927 - recall: 0.7136 - val_loss: 0.8687 - val_accuracy: 0.7252 - val_recall: 0.6383\n",
      "Epoch 44/100\n",
      "1417/1417 [==============================] - 21s 15ms/step - loss: 0.5139 - accuracy: 0.7942 - recall: 0.7137 - val_loss: 0.8697 - val_accuracy: 0.7332 - val_recall: 0.6503\n",
      "Epoch 45/100\n",
      "1417/1417 [==============================] - 21s 15ms/step - loss: 0.5111 - accuracy: 0.7937 - recall: 0.7138 - val_loss: 0.8553 - val_accuracy: 0.7569 - val_recall: 0.6561\n",
      "Epoch 46/100\n",
      "1417/1417 [==============================] - 21s 15ms/step - loss: 0.5133 - accuracy: 0.7943 - recall: 0.7154 - val_loss: 0.8156 - val_accuracy: 0.7398 - val_recall: 0.6428\n",
      "Epoch 47/100\n",
      "1417/1417 [==============================] - 21s 15ms/step - loss: 0.5110 - accuracy: 0.7964 - recall: 0.7144 - val_loss: 0.8376 - val_accuracy: 0.7441 - val_recall: 0.6399\n",
      "Epoch 48/100\n",
      "1417/1417 [==============================] - 21s 15ms/step - loss: 0.5123 - accuracy: 0.7947 - recall: 0.7133 - val_loss: 0.8005 - val_accuracy: 0.7445 - val_recall: 0.6671\n",
      "Epoch 49/100\n",
      "1417/1417 [==============================] - 21s 15ms/step - loss: 0.5110 - accuracy: 0.7943 - recall: 0.7159 - val_loss: 0.8481 - val_accuracy: 0.7552 - val_recall: 0.6515\n",
      "Epoch 50/100\n",
      "1417/1417 [==============================] - 21s 15ms/step - loss: 0.5136 - accuracy: 0.7944 - recall: 0.7136 - val_loss: 0.8126 - val_accuracy: 0.7453 - val_recall: 0.6451\n",
      "Epoch 51/100\n",
      "1417/1417 [==============================] - 21s 15ms/step - loss: 0.5112 - accuracy: 0.7940 - recall: 0.7127 - val_loss: 0.9187 - val_accuracy: 0.6961 - val_recall: 0.6196\n",
      "Epoch 52/100\n",
      "1417/1417 [==============================] - 21s 15ms/step - loss: 0.5095 - accuracy: 0.7948 - recall: 0.7153 - val_loss: 0.8129 - val_accuracy: 0.7413 - val_recall: 0.6669\n",
      "Epoch 53/100\n",
      "1417/1417 [==============================] - 21s 15ms/step - loss: 0.5120 - accuracy: 0.7950 - recall: 0.7142 - val_loss: 0.8750 - val_accuracy: 0.7402 - val_recall: 0.6754\n",
      "Epoch 54/100\n",
      "1417/1417 [==============================] - 21s 15ms/step - loss: 0.5101 - accuracy: 0.7959 - recall: 0.7172 - val_loss: 0.8933 - val_accuracy: 0.7322 - val_recall: 0.6413\n",
      "Epoch 55/100\n",
      "1417/1417 [==============================] - 21s 15ms/step - loss: 0.5083 - accuracy: 0.7962 - recall: 0.7173 - val_loss: 0.8206 - val_accuracy: 0.7585 - val_recall: 0.6484\n",
      "Epoch 56/100\n",
      "1417/1417 [==============================] - 21s 15ms/step - loss: 0.5104 - accuracy: 0.7958 - recall: 0.7150 - val_loss: 0.8336 - val_accuracy: 0.7569 - val_recall: 0.6586\n",
      "Epoch 57/100\n",
      "1417/1417 [==============================] - 21s 15ms/step - loss: 0.5080 - accuracy: 0.7968 - recall: 0.7160 - val_loss: 0.8357 - val_accuracy: 0.7382 - val_recall: 0.6512\n",
      "Epoch 58/100\n",
      "1417/1417 [==============================] - 21s 15ms/step - loss: 0.5083 - accuracy: 0.7964 - recall: 0.7153 - val_loss: 0.8492 - val_accuracy: 0.7354 - val_recall: 0.6431\n",
      "Epoch 59/100\n",
      "1417/1417 [==============================] - 21s 15ms/step - loss: 0.5080 - accuracy: 0.7964 - recall: 0.7158 - val_loss: 0.8326 - val_accuracy: 0.7488 - val_recall: 0.6433\n",
      "Epoch 60/100\n",
      "1417/1417 [==============================] - 21s 15ms/step - loss: 0.5093 - accuracy: 0.7961 - recall: 0.7138 - val_loss: 0.8075 - val_accuracy: 0.7465 - val_recall: 0.6540\n",
      "Epoch 61/100\n",
      "1417/1417 [==============================] - 21s 15ms/step - loss: 0.5081 - accuracy: 0.7973 - recall: 0.7168 - val_loss: 0.8319 - val_accuracy: 0.7441 - val_recall: 0.6553\n",
      "Epoch 62/100\n",
      "1417/1417 [==============================] - 21s 15ms/step - loss: 0.5067 - accuracy: 0.7946 - recall: 0.7159 - val_loss: 0.7883 - val_accuracy: 0.7593 - val_recall: 0.6571\n",
      "Epoch 63/100\n",
      "1417/1417 [==============================] - 21s 15ms/step - loss: 0.5045 - accuracy: 0.7970 - recall: 0.7173 - val_loss: 0.8174 - val_accuracy: 0.7513 - val_recall: 0.6475\n",
      "Epoch 64/100\n",
      "1417/1417 [==============================] - 21s 15ms/step - loss: 0.5078 - accuracy: 0.7956 - recall: 0.7168 - val_loss: 0.8372 - val_accuracy: 0.7546 - val_recall: 0.6424\n",
      "Epoch 65/100\n",
      "1417/1417 [==============================] - 21s 15ms/step - loss: 0.5075 - accuracy: 0.7974 - recall: 0.7170 - val_loss: 0.8074 - val_accuracy: 0.7485 - val_recall: 0.6421\n",
      "Epoch 66/100\n",
      "1417/1417 [==============================] - 21s 15ms/step - loss: 0.5051 - accuracy: 0.7968 - recall: 0.7177 - val_loss: 0.8777 - val_accuracy: 0.7426 - val_recall: 0.6288\n",
      "Epoch 67/100\n",
      "1417/1417 [==============================] - 21s 15ms/step - loss: 0.5053 - accuracy: 0.7954 - recall: 0.7153 - val_loss: 0.8109 - val_accuracy: 0.7507 - val_recall: 0.6544\n",
      "Epoch 68/100\n",
      "1417/1417 [==============================] - 21s 15ms/step - loss: 0.5036 - accuracy: 0.7966 - recall: 0.7176 - val_loss: 0.8268 - val_accuracy: 0.7596 - val_recall: 0.6453\n",
      "Epoch 69/100\n",
      "1417/1417 [==============================] - 21s 15ms/step - loss: 0.5036 - accuracy: 0.7958 - recall: 0.7169 - val_loss: 0.8037 - val_accuracy: 0.7581 - val_recall: 0.6520\n",
      "Epoch 70/100\n",
      "1417/1417 [==============================] - 21s 15ms/step - loss: 0.5034 - accuracy: 0.7968 - recall: 0.7170 - val_loss: 0.8763 - val_accuracy: 0.7346 - val_recall: 0.6464\n",
      "Epoch 71/100\n",
      "1417/1417 [==============================] - 21s 15ms/step - loss: 0.5061 - accuracy: 0.7963 - recall: 0.7181 - val_loss: 0.7945 - val_accuracy: 0.7506 - val_recall: 0.6497\n",
      "Epoch 72/100\n",
      "1417/1417 [==============================] - 21s 15ms/step - loss: 0.5030 - accuracy: 0.7968 - recall: 0.7153 - val_loss: 0.8347 - val_accuracy: 0.7511 - val_recall: 0.6517\n",
      "Epoch 73/100\n",
      "1417/1417 [==============================] - 21s 15ms/step - loss: 0.5024 - accuracy: 0.7982 - recall: 0.7168 - val_loss: 0.8292 - val_accuracy: 0.7546 - val_recall: 0.6537\n",
      "Epoch 74/100\n",
      "1417/1417 [==============================] - 21s 15ms/step - loss: 0.5022 - accuracy: 0.7954 - recall: 0.7165 - val_loss: 0.8113 - val_accuracy: 0.7511 - val_recall: 0.6565\n",
      "Epoch 75/100\n",
      "1417/1417 [==============================] - 21s 15ms/step - loss: 0.5027 - accuracy: 0.7971 - recall: 0.7189 - val_loss: 0.8179 - val_accuracy: 0.7445 - val_recall: 0.6555\n",
      "Epoch 76/100\n",
      "1417/1417 [==============================] - 21s 15ms/step - loss: 0.5009 - accuracy: 0.7964 - recall: 0.7188 - val_loss: 0.7899 - val_accuracy: 0.7486 - val_recall: 0.6485\n",
      "Epoch 77/100\n",
      "1417/1417 [==============================] - 21s 15ms/step - loss: 0.5013 - accuracy: 0.7971 - recall: 0.7167 - val_loss: 0.8335 - val_accuracy: 0.7422 - val_recall: 0.6446\n",
      "Epoch 78/100\n",
      "1417/1417 [==============================] - 21s 15ms/step - loss: 0.5018 - accuracy: 0.7973 - recall: 0.7172 - val_loss: 0.8644 - val_accuracy: 0.7368 - val_recall: 0.6421\n",
      "Epoch 79/100\n",
      "1417/1417 [==============================] - 21s 15ms/step - loss: 0.5002 - accuracy: 0.7978 - recall: 0.7185 - val_loss: 0.8367 - val_accuracy: 0.7616 - val_recall: 0.6537\n",
      "Epoch 80/100\n",
      "1417/1417 [==============================] - 21s 15ms/step - loss: 0.5005 - accuracy: 0.7974 - recall: 0.7164 - val_loss: 0.8136 - val_accuracy: 0.7479 - val_recall: 0.6578\n",
      "Epoch 81/100\n",
      "1417/1417 [==============================] - 22s 15ms/step - loss: 0.5018 - accuracy: 0.7978 - recall: 0.7178 - val_loss: 0.8140 - val_accuracy: 0.7682 - val_recall: 0.6594\n",
      "Epoch 82/100\n",
      "1417/1417 [==============================] - 22s 15ms/step - loss: 0.4995 - accuracy: 0.7979 - recall: 0.7189 - val_loss: 0.8069 - val_accuracy: 0.7488 - val_recall: 0.6562\n",
      "Epoch 83/100\n",
      "1417/1417 [==============================] - 22s 15ms/step - loss: 0.4988 - accuracy: 0.7985 - recall: 0.7197 - val_loss: 0.8094 - val_accuracy: 0.7512 - val_recall: 0.6628\n",
      "Epoch 84/100\n",
      "1417/1417 [==============================] - 21s 15ms/step - loss: 0.5018 - accuracy: 0.7955 - recall: 0.7160 - val_loss: 0.8279 - val_accuracy: 0.7611 - val_recall: 0.6557\n",
      "Epoch 85/100\n",
      "1417/1417 [==============================] - 21s 15ms/step - loss: 0.5005 - accuracy: 0.7976 - recall: 0.7184 - val_loss: 0.8832 - val_accuracy: 0.7259 - val_recall: 0.6381\n",
      "Epoch 86/100\n",
      "1417/1417 [==============================] - 22s 15ms/step - loss: 0.4966 - accuracy: 0.7982 - recall: 0.7186 - val_loss: 0.8422 - val_accuracy: 0.7687 - val_recall: 0.6497\n",
      "Epoch 87/100\n",
      "1417/1417 [==============================] - 21s 15ms/step - loss: 0.4968 - accuracy: 0.7997 - recall: 0.7189 - val_loss: 0.8617 - val_accuracy: 0.7424 - val_recall: 0.6637\n",
      "Epoch 88/100\n",
      "1417/1417 [==============================] - 21s 15ms/step - loss: 0.4983 - accuracy: 0.7985 - recall: 0.7190 - val_loss: 0.8605 - val_accuracy: 0.7320 - val_recall: 0.6388\n",
      "Epoch 89/100\n",
      "1417/1417 [==============================] - 22s 15ms/step - loss: 0.4990 - accuracy: 0.7969 - recall: 0.7178 - val_loss: 0.8270 - val_accuracy: 0.7392 - val_recall: 0.6366\n",
      "Epoch 90/100\n",
      "1417/1417 [==============================] - 21s 15ms/step - loss: 0.4993 - accuracy: 0.7979 - recall: 0.7172 - val_loss: 0.8288 - val_accuracy: 0.7483 - val_recall: 0.6523\n",
      "Epoch 91/100\n",
      "1417/1417 [==============================] - 21s 15ms/step - loss: 0.4993 - accuracy: 0.7990 - recall: 0.7189 - val_loss: 0.8389 - val_accuracy: 0.7636 - val_recall: 0.6583\n",
      "Epoch 92/100\n",
      "1417/1417 [==============================] - 21s 15ms/step - loss: 0.4976 - accuracy: 0.7983 - recall: 0.7197 - val_loss: 0.7968 - val_accuracy: 0.7522 - val_recall: 0.6416\n",
      "Epoch 93/100\n",
      "1417/1417 [==============================] - 21s 15ms/step - loss: 0.4972 - accuracy: 0.7973 - recall: 0.7194 - val_loss: 0.8595 - val_accuracy: 0.7416 - val_recall: 0.6367\n",
      "Epoch 94/100\n",
      "1417/1417 [==============================] - 21s 15ms/step - loss: 0.4963 - accuracy: 0.7995 - recall: 0.7195 - val_loss: 0.8521 - val_accuracy: 0.7515 - val_recall: 0.6458\n",
      "Epoch 95/100\n",
      "1417/1417 [==============================] - 21s 15ms/step - loss: 0.4961 - accuracy: 0.7969 - recall: 0.7191 - val_loss: 0.8647 - val_accuracy: 0.7457 - val_recall: 0.6649\n",
      "Epoch 96/100\n",
      "1417/1417 [==============================] - 21s 15ms/step - loss: 0.4967 - accuracy: 0.7996 - recall: 0.7194 - val_loss: 0.8353 - val_accuracy: 0.7471 - val_recall: 0.6528\n",
      "Epoch 97/100\n",
      "1417/1417 [==============================] - 21s 15ms/step - loss: 0.4960 - accuracy: 0.7981 - recall: 0.7202 - val_loss: 0.8799 - val_accuracy: 0.7541 - val_recall: 0.6503\n",
      "Epoch 98/100\n",
      "1417/1417 [==============================] - 22s 15ms/step - loss: 0.4967 - accuracy: 0.7993 - recall: 0.7206 - val_loss: 0.8589 - val_accuracy: 0.7330 - val_recall: 0.6230\n",
      "Epoch 99/100\n",
      "1417/1417 [==============================] - 22s 15ms/step - loss: 0.4956 - accuracy: 0.7992 - recall: 0.7191 - val_loss: 0.9010 - val_accuracy: 0.7421 - val_recall: 0.6262\n",
      "Epoch 100/100\n",
      "1417/1417 [==============================] - 22s 15ms/step - loss: 0.4963 - accuracy: 0.7988 - recall: 0.7190 - val_loss: 0.8703 - val_accuracy: 0.7505 - val_recall: 0.6521\n"
     ]
    }
   ],
   "source": [
    "#Define epochs and batch size\n",
    "epochs = 100\n",
    "batch_size = 32\n",
    "\n",
    "#Train the model\n",
    "history = model.fit(X_train, y_train, epochs=epochs, batch_size=batch_size, validation_data=(X_test, y_test))"
   ]
  },
  {
   "cell_type": "markdown",
   "metadata": {},
   "source": [
    "## Evaluate The Model"
   ]
  },
  {
   "cell_type": "code",
   "execution_count": 26,
   "metadata": {},
   "outputs": [
    {
     "name": "stdout",
     "output_type": "stream",
     "text": [
      "3730/3730 [==============================] - 17s 5ms/step - loss: 0.8703 - accuracy: 0.7505 - recall: 0.6521\n",
      "Test Loss: 0.8703491687774658\n",
      "Test Accuracy: 0.7504630088806152\n",
      "Test Recall: 0.652087926864624\n"
     ]
    }
   ],
   "source": [
    "#Evaluate the model on test data\n",
    "loss, accuracy, recall = model.evaluate(X_test, y_test)\n",
    "print('Test Loss:', loss)\n",
    "print('Test Accuracy:', accuracy)\n",
    "print('Test Recall:', recall)"
   ]
  },
  {
   "cell_type": "code",
   "execution_count": 27,
   "metadata": {},
   "outputs": [
    {
     "name": "stdout",
     "output_type": "stream",
     "text": [
      "3730/3730 [==============================] - 8s 2ms/step\n"
     ]
    }
   ],
   "source": [
    "# make a predictions\n",
    "predictions = model.predict(X_test)"
   ]
  },
  {
   "cell_type": "code",
   "execution_count": 28,
   "metadata": {},
   "outputs": [],
   "source": [
    "# convert one-hot encode predictions to class labels\n",
    "predicted_classes = np.argmax(predictions, axis=1)\n",
    "y_test_categorical = np.argmax(y_test, axis=1)"
   ]
  },
  {
   "cell_type": "markdown",
   "metadata": {},
   "source": [
    "### Confusion Matrix"
   ]
  },
  {
   "cell_type": "code",
   "execution_count": 29,
   "metadata": {},
   "outputs": [],
   "source": [
    "# function to calculate recall from confusion matrix\n",
    "def calculate_recall(confusion_matrix):\n",
    "    num_class = len(confusion_matrix)\n",
    "    recalls = []\n",
    "\n",
    "    for i in range(num_class):\n",
    "        true_positive = confusion_matrix[i][i]\n",
    "        false_negative = sum(confusion_matrix[i]) - true_positive\n",
    "\n",
    "        recall = true_positive / (true_positive + false_negative)\n",
    "        recalls.append(recall)\n",
    "    \n",
    "    return recalls"
   ]
  },
  {
   "cell_type": "code",
   "execution_count": 30,
   "metadata": {},
   "outputs": [],
   "source": [
    "# function to display the recall score\n",
    "def display_recall(recalls):\n",
    "    print('Recall Scores for each class:')\n",
    "    print('Analysis:', recalls[0])\n",
    "    print('Backdoor:', recalls[1])\n",
    "    print('DoS:', recalls[2])\n",
    "    print('Exploits:', recalls[3])\n",
    "    print('Fuzzers:', recalls[4])\n",
    "    print('Generic:', recalls[5])\n",
    "    print('Reconnaissance:', recalls[6])\n",
    "    print('Shellcode:', recalls[7])\n",
    "    print('Worms:', recalls[8])"
   ]
  },
  {
   "cell_type": "code",
   "execution_count": 31,
   "metadata": {},
   "outputs": [],
   "source": [
    "from sklearn.metrics import confusion_matrix"
   ]
  },
  {
   "cell_type": "code",
   "execution_count": 32,
   "metadata": {},
   "outputs": [],
   "source": [
    "matrix = confusion_matrix(y_test_categorical, predicted_classes)\n",
    "matrix_df = pd.DataFrame(matrix, \n",
    "                         index= ['Analysis', 'Backdoor', 'DoS', 'Exploits', 'Fuzzers', 'Generic', 'Reconnaissance', 'Shellcode', 'Worms'], \n",
    "                         columns= ['Analysis', 'Backdoor', 'DoS', 'Exploits', 'Fuzzers', 'Generic', 'Reconnaissance', 'Shellcode', 'Worms'])"
   ]
  },
  {
   "cell_type": "code",
   "execution_count": 33,
   "metadata": {},
   "outputs": [
    {
     "data": {
      "image/png": "[encoded data removed]",
      "text/plain": [
       "<Figure size 2000x2000 with 2 Axes>"
      ]
     },
     "metadata": {},
     "output_type": "display_data"
    }
   ],
   "source": [
    "# Plotting Confusion Matrix\n",
    "plt.figure(figsize = (20, 20))\n",
    "sns.heatmap(matrix_df, fmt='.0f', annot=True)\n",
    "plt.title('Confusion Matrix (1D CNN)')\n",
    "plt.ylabel('Actual Values')\n",
    "plt.xlabel('Predicted Values')\n",
    "plt.show()"
   ]
  },
  {
   "cell_type": "code",
   "execution_count": 34,
   "metadata": {},
   "outputs": [
    {
     "name": "stdout",
     "output_type": "stream",
     "text": [
      "Recall Scores for each class:\n",
      "Analysis: 0.002\n",
      "Backdoor: 0.0\n",
      "DoS: 0.624041755015495\n",
      "Exploits: 0.6624932606481759\n",
      "Fuzzers: 0.7831610206775187\n",
      "Generic: 0.9809745243631091\n",
      "Reconnaissance: 0.5832777195156831\n",
      "Shellcode: 0.14298323036187113\n",
      "Worms: 0.14615384615384616\n"
     ]
    }
   ],
   "source": [
    "recalls = calculate_recall(matrix)\n",
    "display_recall(recalls)"
   ]
  },
  {
   "cell_type": "markdown",
   "metadata": {},
   "source": [
    "## Save and load the model"
   ]
  },
  {
   "cell_type": "code",
   "execution_count": 35,
   "metadata": {},
   "outputs": [],
   "source": [
    "from keras.models import load_model"
   ]
  },
  {
   "cell_type": "code",
   "execution_count": 36,
   "metadata": {},
   "outputs": [],
   "source": [
    "# save the 1D CNN trained model using keras\n",
    "model.save('/Data/Visual Studio Code/Data Science/Notebook/UNSW-NB15/CNN/Imbalanced/GPU_Saved/CNN_2/cnn1d.keras')"
   ]
  },
  {
   "cell_type": "code",
   "execution_count": 37,
   "metadata": {},
   "outputs": [],
   "source": [
    "# load the 1D CNN trained model using keras\n",
    "model = load_model('/Data/Visual Studio Code/Data Science/Notebook/UNSW-NB15/CNN/Imbalanced/GPU_Saved/CNN_2/cnn1d.keras')"
   ]
  },
  {
   "cell_type": "markdown",
   "metadata": {},
   "source": [
    "## Save and load the predicted"
   ]
  },
  {
   "cell_type": "code",
   "execution_count": 38,
   "metadata": {},
   "outputs": [],
   "source": [
    "import pickle"
   ]
  },
  {
   "cell_type": "code",
   "execution_count": 39,
   "metadata": {},
   "outputs": [],
   "source": [
    "# save the decision tree trained model\n",
    "with open('/Data/Visual Studio Code/Data Science/Notebook/UNSW-NB15/CNN/Imbalanced/GPU_Saved/CNN_2/predicted_classes.pkl', 'wb') as model_file:\n",
    "    pickle.dump(predicted_classes, model_file)"
   ]
  },
  {
   "cell_type": "code",
   "execution_count": 40,
   "metadata": {},
   "outputs": [],
   "source": [
    "# load the decision tree trained model\n",
    "with open('/Data/Visual Studio Code/Data Science/Notebook/UNSW-NB15/CNN/Imbalanced/GPU_Saved/CNN_2/predicted_classes.pkl', 'rb') as model_file:\n",
    "    predicted_classes = pickle.load(model_file)"
   ]
  }
 ],
 "metadata": {
  "kernelspec": {
   "display_name": "myenv",
   "language": "python",
   "name": "python3"
  },
  "language_info": {
   "codemirror_mode": {
    "name": "ipython",
    "version": 3
   },
   "file_extension": ".py",
   "mimetype": "text/x-python",
   "name": "python",
   "nbconvert_exporter": "python",
   "pygments_lexer": "ipython3",
   "version": "3.10.13"
  },
  "orig_nbformat": 4
 },
 "nbformat": 4,
 "nbformat_minor": 2
}
