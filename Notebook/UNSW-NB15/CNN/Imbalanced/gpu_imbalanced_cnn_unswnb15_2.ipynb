{
 "cells": [
  {
   "cell_type": "markdown",
   "metadata": {},
   "source": [
    "# Data Preprocessing"
   ]
  },
  {
   "cell_type": "code",
   "execution_count": 1,
   "metadata": {},
   "outputs": [],
   "source": [
    "import tensorflow as tf\n",
    "from keras.models import Sequential\n",
    "from keras.layers import Conv1D, MaxPooling1D, Flatten, Dense, Dropout, BatchNormalization\n",
    "from keras.metrics import Recall, Precision"
   ]
  },
  {
   "cell_type": "code",
   "execution_count": 2,
   "metadata": {},
   "outputs": [
    {
     "name": "stdout",
     "output_type": "stream",
     "text": [
      "Num GPUs Available:  1\n"
     ]
    }
   ],
   "source": [
    "#Check GPU device available\n",
    "print('Num GPUs Available: ', len(tf.config.list_physical_devices('GPU')))"
   ]
  },
  {
   "cell_type": "code",
   "execution_count": 3,
   "metadata": {},
   "outputs": [
    {
     "data": {
      "text/plain": [
       "True"
      ]
     },
     "execution_count": 3,
     "metadata": {},
     "output_type": "execute_result"
    }
   ],
   "source": [
    "tf.test.is_built_with_cuda()"
   ]
  },
  {
   "cell_type": "code",
   "execution_count": 4,
   "metadata": {},
   "outputs": [],
   "source": [
    "import pandas as pd\n",
    "import matplotlib.pyplot as plt\n",
    "import seaborn as sns\n",
    "import numpy as np"
   ]
  },
  {
   "cell_type": "code",
   "execution_count": 5,
   "metadata": {},
   "outputs": [],
   "source": [
    "# Load dataset\n",
    "data_train = pd.read_csv('/Data/Visual Studio Code/Data-Science/Dataset/UNSW-NB15/UNSW_NB15_training-set.csv')\n",
    "data_test = pd.read_csv('/Data/Visual Studio Code/Data-Science/Dataset/UNSW-NB15/UNSW_NB15_testing-set.csv')"
   ]
  },
  {
   "cell_type": "code",
   "execution_count": 6,
   "metadata": {},
   "outputs": [],
   "source": [
    "# Handle missing value and duplicate if any\n",
    "data_train.dropna(inplace=True)\n",
    "data_train.drop_duplicates(inplace=True)\n",
    "\n",
    "data_test.dropna(inplace=True)\n",
    "data_test.drop_duplicates(inplace=True)"
   ]
  },
  {
   "cell_type": "code",
   "execution_count": 7,
   "metadata": {},
   "outputs": [],
   "source": [
    "#Split Attack and Normal from dataframe\n",
    "data_train_attack = data_train[data_train['label'] == 1]\n",
    "data_test_attack = data_test[data_test['label'] == 1]\n",
    "\n",
    "#Optional\n",
    "#data_train_normal = data_train[data_train['label'] == 0]\n",
    "#data_test_normal = data_test[data_test['label'] == 0]"
   ]
  },
  {
   "cell_type": "code",
   "execution_count": 8,
   "metadata": {},
   "outputs": [],
   "source": [
    "# Drop id and label from train and test data\n",
    "data_train_attack = data_train_attack.drop('id', axis=1)\n",
    "data_train_attack = data_train_attack.drop('label', axis=1)\n",
    "\n",
    "data_test_attack = data_test_attack.drop('id', axis=1)\n",
    "data_test_attack = data_test_attack.drop('label', axis=1)"
   ]
  },
  {
   "cell_type": "code",
   "execution_count": 9,
   "metadata": {},
   "outputs": [
    {
     "name": "stdout",
     "output_type": "stream",
     "text": [
      "5\n",
      "6\n"
     ]
    }
   ],
   "source": [
    "print(data_train_attack['state'].nunique())\n",
    "print(data_test_attack['state'].nunique())"
   ]
  },
  {
   "cell_type": "code",
   "execution_count": 10,
   "metadata": {},
   "outputs": [
    {
     "name": "stdout",
     "output_type": "stream",
     "text": [
      "['INT' 'FIN' 'CON' 'REQ' 'RST']\n",
      "['INT' 'FIN' 'ACC' 'CON' 'REQ' 'CLO']\n"
     ]
    }
   ],
   "source": [
    "print(data_train_attack['state'].unique())\n",
    "print(data_test_attack['state'].unique())"
   ]
  },
  {
   "cell_type": "code",
   "execution_count": 11,
   "metadata": {},
   "outputs": [],
   "source": [
    "#Drop ACC, CLO, and RST from data\n",
    "data_train_attack = data_train_attack[(data_train_attack['state'] != 'RST')]\n",
    "data_test_attack = data_test_attack[(data_test_attack['state'] != 'ACC') & (data_test_attack['state'] != 'CLO')]"
   ]
  },
  {
   "cell_type": "code",
   "execution_count": 12,
   "metadata": {},
   "outputs": [
    {
     "name": "stdout",
     "output_type": "stream",
     "text": [
      "['INT' 'FIN' 'CON' 'REQ']\n",
      "['INT' 'FIN' 'CON' 'REQ']\n"
     ]
    }
   ],
   "source": [
    "print(data_train_attack['state'].unique())\n",
    "print(data_test_attack['state'].unique())"
   ]
  },
  {
   "cell_type": "markdown",
   "metadata": {},
   "source": [
    "## Encode Train and Test Data"
   ]
  },
  {
   "cell_type": "code",
   "execution_count": 13,
   "metadata": {},
   "outputs": [
    {
     "data": {
      "text/plain": [
       "['proto', 'state', 'service']"
      ]
     },
     "execution_count": 13,
     "metadata": {},
     "output_type": "execute_result"
    }
   ],
   "source": [
    "#column to encode\n",
    "cols = ['proto','state','service']\n",
    "cols"
   ]
  },
  {
   "cell_type": "code",
   "execution_count": 14,
   "metadata": {},
   "outputs": [],
   "source": [
    "#One-hot Encoding\n",
    "# Encode train data\n",
    "data_train_attack = pd.get_dummies(data_train_attack, columns=cols)\n",
    "\n",
    "# Encode test data\n",
    "data_test_attack = pd.get_dummies(data_test_attack, columns=cols)"
   ]
  },
  {
   "cell_type": "code",
   "execution_count": 15,
   "metadata": {},
   "outputs": [],
   "source": [
    "train_attack_cat = data_train_attack.pop('attack_cat')\n",
    "test_attack_cat = data_test_attack.pop('attack_cat')"
   ]
  },
  {
   "cell_type": "markdown",
   "metadata": {},
   "source": [
    "## Normalization"
   ]
  },
  {
   "cell_type": "code",
   "execution_count": 16,
   "metadata": {},
   "outputs": [],
   "source": [
    "# Min-Max Normalization\n",
    "from sklearn.preprocessing import MinMaxScaler\n",
    "\n",
    "scaler = MinMaxScaler()\n",
    "cols_to_norm = ['dur', 'spkts', 'dpkts', 'sbytes', 'dbytes', 'rate', 'sttl', 'dttl', 'sload', \n",
    "                'dload', 'sloss', 'dloss', 'sinpkt', 'dinpkt', 'sjit', 'djit', 'swin', 'stcpb', 'dtcpb', 'dwin', 'tcprtt', 'synack', \n",
    "                'ackdat', 'smean', 'dmean', 'trans_depth', 'response_body_len', 'ct_srv_src', 'ct_state_ttl', 'ct_dst_ltm', \n",
    "                'ct_src_dport_ltm', 'ct_dst_sport_ltm', 'ct_dst_src_ltm', 'is_ftp_login', 'ct_ftp_cmd', 'ct_flw_http_mthd', 'ct_src_ltm', \n",
    "                'ct_srv_dst', 'is_sm_ips_ports']\n",
    "\n",
    "data_train_attack[cols_to_norm] = scaler.fit_transform(data_train_attack[cols_to_norm])\n",
    "data_test_attack[cols_to_norm] = scaler.fit_transform(data_test_attack[cols_to_norm])"
   ]
  },
  {
   "cell_type": "markdown",
   "metadata": {},
   "source": [
    "## Feature Selection"
   ]
  },
  {
   "cell_type": "code",
   "execution_count": 17,
   "metadata": {},
   "outputs": [
    {
     "data": {
      "text/plain": [
       "dur               float64\n",
       "spkts             float64\n",
       "dpkts             float64\n",
       "sbytes            float64\n",
       "dbytes            float64\n",
       "                   ...   \n",
       "service_radius       bool\n",
       "service_smtp         bool\n",
       "service_snmp         bool\n",
       "service_ssh          bool\n",
       "service_ssl          bool\n",
       "Length: 182, dtype: object"
      ]
     },
     "execution_count": 17,
     "metadata": {},
     "output_type": "execute_result"
    }
   ],
   "source": [
    "#Feature Selection\n",
    "feature = data_train_attack.drop(['dinpkt', 'ct_ftp_cmd', 'is_sm_ips_ports'], axis=1)\n",
    "feature.dtypes"
   ]
  },
  {
   "cell_type": "markdown",
   "metadata": {},
   "source": [
    "# Initialize Train Data and Test Data"
   ]
  },
  {
   "cell_type": "code",
   "execution_count": 18,
   "metadata": {},
   "outputs": [
    {
     "data": {
      "text/plain": [
       "((119329, 182), (119329,), (45329, 182), (45329,))"
      ]
     },
     "execution_count": 18,
     "metadata": {},
     "output_type": "execute_result"
    }
   ],
   "source": [
    "#Splitting the dataset into dependent and independent feature\n",
    "X_train = feature\n",
    "y_train = train_attack_cat\n",
    "\n",
    "X_test = data_test_attack.drop(columns=['dinpkt', 'ct_ftp_cmd', 'is_sm_ips_ports'])\n",
    "y_test = test_attack_cat\n",
    "\n",
    "X_train.shape, y_train.shape, X_test.shape, y_test.shape"
   ]
  },
  {
   "cell_type": "markdown",
   "metadata": {},
   "source": [
    "# Model Architecture"
   ]
  },
  {
   "cell_type": "code",
   "execution_count": 19,
   "metadata": {},
   "outputs": [
    {
     "name": "stderr",
     "output_type": "stream",
     "text": [
      "c:\\Users\\Acer\\miniconda3\\envs\\tf_gpu\\lib\\site-packages\\tensorflow_addons\\utils\\tfa_eol_msg.py:23: UserWarning: \n",
      "\n",
      "TensorFlow Addons (TFA) has ended development and introduction of new features.\n",
      "TFA has entered a minimal maintenance and release mode until a planned end of life in May 2024.\n",
      "Please modify downstream libraries to take dependencies from other repositories in our TensorFlow community (e.g. Keras, Keras-CV, and Keras-NLP). \n",
      "\n",
      "For more information see: https://github.com/tensorflow/addons/issues/2807 \n",
      "\n",
      "  warnings.warn(\n",
      "c:\\Users\\Acer\\miniconda3\\envs\\tf_gpu\\lib\\site-packages\\tensorflow_addons\\utils\\ensure_tf_install.py:53: UserWarning: Tensorflow Addons supports using Python ops for all Tensorflow versions above or equal to 2.12.0 and strictly below 2.15.0 (nightly versions are not supported). \n",
      " The versions of TensorFlow you are currently using is 2.10.0 and is not supported. \n",
      "Some things might work, some things might not.\n",
      "If you were to encounter a bug, do not file an issue.\n",
      "If you want to make sure you're using a tested and supported configuration, either change the TensorFlow version or the TensorFlow Addons's version. \n",
      "You can find the compatibility matrix in TensorFlow Addon's readme:\n",
      "https://github.com/tensorflow/addons\n",
      "  warnings.warn(\n"
     ]
    }
   ],
   "source": [
    "# from keras import backend as K\n",
    "import tensorflow_addons as tfa"
   ]
  },
  {
   "cell_type": "code",
   "execution_count": 20,
   "metadata": {},
   "outputs": [],
   "source": [
    "# def recall_m(y_true, y_pred):\n",
    "#     true_positives = K.sum(K.round(K.clip(y_true * y_pred, 0, 1)))\n",
    "#     possible_positives = K.sum(K.round(K.clip(y_true, 0, 1)))\n",
    "#     recall = true_positives / (possible_positives + K.epsilon())\n",
    "#     return recall\n",
    "\n",
    "# def precision_m(y_true, y_pred):\n",
    "#     true_positives = K.sum(K.round(K.clip(y_true * y_pred, 0, 1)))\n",
    "#     predicted_positives = K.sum(K.round(K.clip(y_pred, 0, 1)))\n",
    "#     precision = true_positives / (predicted_positives + K.epsilon())\n",
    "#     return precision\n",
    "\n",
    "# def f1_m(y_true, y_pred):\n",
    "#     precision = precision_m(y_true, y_pred)\n",
    "#     recall = recall_m(y_true, y_pred)\n",
    "#     return 2*((precision*recall)/(precision+recall+K.epsilon()))"
   ]
  },
  {
   "cell_type": "markdown",
   "metadata": {},
   "source": [
    "## 1D-CNN (1 layer) Model"
   ]
  },
  {
   "cell_type": "code",
   "execution_count": 21,
   "metadata": {},
   "outputs": [],
   "source": [
    "# Define the input shape\n",
    "input_shape = (182, 1)\n",
    "\n",
    "# Create the sequential model\n",
    "model = Sequential()\n",
    "\n",
    "# Convolutional layers\n",
    "model.add(Conv1D(filters=32, kernel_size=5, activation='sigmoid', input_shape=input_shape))\n",
    "\n",
    "# MaxPooling1D layer\n",
    "model.add(MaxPooling1D(pool_size=2, strides=1))\n",
    "\n",
    "# Flatten layer\n",
    "model.add(Flatten())\n",
    "\n",
    "# Batch Normalization layer\n",
    "model.add(BatchNormalization(axis=-1))\n",
    "\n",
    "# Dropout layer with dropout 0.5\n",
    "model.add(Dropout(0.5))\n",
    "\n",
    "# Two Fully-connected layers\n",
    "model.add(Dense(32, activation='relu'))\n",
    "model.add(Dense(16, activation='relu'))\n",
    "\n",
    "# Output\n",
    "model.add(Dense(units=9, activation='softmax'))\n",
    "\n",
    "# Compile the model\n",
    "model.compile(optimizer='adam', loss='categorical_crossentropy', metrics=['accuracy', Recall(), Precision(), tfa.metrics.F1Score(num_classes=9, \n",
    "                                                                                                                                 average='macro')])"
   ]
  },
  {
   "cell_type": "code",
   "execution_count": 22,
   "metadata": {},
   "outputs": [
    {
     "name": "stdout",
     "output_type": "stream",
     "text": [
      "Model: \"sequential\"\n",
      "_________________________________________________________________\n",
      " Layer (type)                Output Shape              Param #   \n",
      "=================================================================\n",
      " conv1d (Conv1D)             (None, 178, 32)           192       \n",
      "                                                                 \n",
      " max_pooling1d (MaxPooling1D  (None, 177, 32)          0         \n",
      " )                                                               \n",
      "                                                                 \n",
      " flatten (Flatten)           (None, 5664)              0         \n",
      "                                                                 \n",
      " batch_normalization (BatchN  (None, 5664)             22656     \n",
      " ormalization)                                                   \n",
      "                                                                 \n",
      " dropout (Dropout)           (None, 5664)              0         \n",
      "                                                                 \n",
      " dense (Dense)               (None, 32)                181280    \n",
      "                                                                 \n",
      " dense_1 (Dense)             (None, 16)                528       \n",
      "                                                                 \n",
      " dense_2 (Dense)             (None, 9)                 153       \n",
      "                                                                 \n",
      "=================================================================\n",
      "Total params: 204,809\n",
      "Trainable params: 193,481\n",
      "Non-trainable params: 11,328\n",
      "_________________________________________________________________\n"
     ]
    }
   ],
   "source": [
    "#Print the model summary\n",
    "model.summary()"
   ]
  },
  {
   "cell_type": "markdown",
   "metadata": {},
   "source": [
    "## Train the model"
   ]
  },
  {
   "cell_type": "code",
   "execution_count": 23,
   "metadata": {},
   "outputs": [],
   "source": [
    "from keras.utils import to_categorical\n",
    "from sklearn.preprocessing import LabelEncoder"
   ]
  },
  {
   "cell_type": "code",
   "execution_count": 24,
   "metadata": {},
   "outputs": [],
   "source": [
    "le = LabelEncoder()\n",
    "\n",
    "y_train = le.fit_transform(y_train)\n",
    "y_test = le.fit_transform(y_test)"
   ]
  },
  {
   "cell_type": "code",
   "execution_count": 25,
   "metadata": {},
   "outputs": [],
   "source": [
    "num_class = 9\n",
    "y_train = to_categorical(y_train, num_class)\n",
    "y_test = to_categorical(y_test, num_class)"
   ]
  },
  {
   "cell_type": "code",
   "execution_count": 26,
   "metadata": {},
   "outputs": [],
   "source": [
    "X_train = np.array(X_train, dtype=np.float32)\n",
    "X_test = np.array(X_test, dtype=np.float32)"
   ]
  },
  {
   "cell_type": "code",
   "execution_count": 27,
   "metadata": {},
   "outputs": [
    {
     "name": "stdout",
     "output_type": "stream",
     "text": [
      "Epoch 1/50\n",
      "3730/3730 [==============================] - 72s 17ms/step - loss: 0.7128 - accuracy: 0.7393 - recall: 0.6192 - precision: 0.8602 - f1_score: 0.3642 - val_loss: 0.7074 - val_accuracy: 0.7541 - val_recall: 0.6795 - val_precision: 0.8792 - val_f1_score: 0.3225\n",
      "Epoch 2/50\n",
      "3730/3730 [==============================] - 62s 16ms/step - loss: 0.6484 - accuracy: 0.7622 - recall: 0.6433 - precision: 0.8779 - f1_score: 0.4046 - val_loss: 0.6564 - val_accuracy: 0.7709 - val_recall: 0.7321 - val_precision: 0.8169 - val_f1_score: 0.3546\n",
      "Epoch 3/50\n",
      "3730/3730 [==============================] - 63s 17ms/step - loss: 0.6299 - accuracy: 0.7694 - recall: 0.6528 - precision: 0.8841 - f1_score: 0.4051 - val_loss: 0.6373 - val_accuracy: 0.7665 - val_recall: 0.6934 - val_precision: 0.8876 - val_f1_score: 0.3891\n",
      "Epoch 4/50\n",
      "3730/3730 [==============================] - 62s 17ms/step - loss: 0.6178 - accuracy: 0.7722 - recall: 0.6572 - precision: 0.8875 - f1_score: 0.4152 - val_loss: 0.6297 - val_accuracy: 0.7745 - val_recall: 0.6951 - val_precision: 0.8848 - val_f1_score: 0.3667\n",
      "Epoch 5/50\n",
      "3730/3730 [==============================] - 63s 17ms/step - loss: 0.6103 - accuracy: 0.7743 - recall: 0.6584 - precision: 0.8917 - f1_score: 0.4234 - val_loss: 0.6323 - val_accuracy: 0.7725 - val_recall: 0.6898 - val_precision: 0.8924 - val_f1_score: 0.3846\n",
      "Epoch 6/50\n",
      "3730/3730 [==============================] - 62s 17ms/step - loss: 0.6030 - accuracy: 0.7765 - recall: 0.6616 - precision: 0.8952 - f1_score: 0.4250 - val_loss: 0.6325 - val_accuracy: 0.7698 - val_recall: 0.6921 - val_precision: 0.8787 - val_f1_score: 0.3735\n",
      "Epoch 7/50\n",
      "3730/3730 [==============================] - 63s 17ms/step - loss: 0.5983 - accuracy: 0.7789 - recall: 0.6639 - precision: 0.8978 - f1_score: 0.4306 - val_loss: 0.6462 - val_accuracy: 0.7701 - val_recall: 0.6894 - val_precision: 0.8884 - val_f1_score: 0.3836\n",
      "Epoch 8/50\n",
      "3730/3730 [==============================] - 62s 17ms/step - loss: 0.5954 - accuracy: 0.7794 - recall: 0.6655 - precision: 0.8962 - f1_score: 0.4326 - val_loss: 0.6599 - val_accuracy: 0.7608 - val_recall: 0.6669 - val_precision: 0.8934 - val_f1_score: 0.4084\n",
      "Epoch 9/50\n",
      "3730/3730 [==============================] - 61s 16ms/step - loss: 0.5914 - accuracy: 0.7809 - recall: 0.6655 - precision: 0.9002 - f1_score: 0.4371 - val_loss: 0.6476 - val_accuracy: 0.7581 - val_recall: 0.6761 - val_precision: 0.8842 - val_f1_score: 0.3558\n",
      "Epoch 10/50\n",
      "3730/3730 [==============================] - 60s 16ms/step - loss: 0.5885 - accuracy: 0.7818 - recall: 0.6658 - precision: 0.9016 - f1_score: 0.4372 - val_loss: 0.6426 - val_accuracy: 0.7705 - val_recall: 0.6836 - val_precision: 0.8884 - val_f1_score: 0.3893\n",
      "Epoch 11/50\n",
      "3730/3730 [==============================] - 61s 16ms/step - loss: 0.5860 - accuracy: 0.7829 - recall: 0.6695 - precision: 0.8996 - f1_score: 0.4430 - val_loss: 0.6735 - val_accuracy: 0.7619 - val_recall: 0.6865 - val_precision: 0.8653 - val_f1_score: 0.3867\n",
      "Epoch 12/50\n",
      "3730/3730 [==============================] - 61s 16ms/step - loss: 0.5837 - accuracy: 0.7829 - recall: 0.6699 - precision: 0.8998 - f1_score: 0.4478 - val_loss: 0.6439 - val_accuracy: 0.7678 - val_recall: 0.6844 - val_precision: 0.8850 - val_f1_score: 0.3772\n",
      "Epoch 13/50\n",
      "3730/3730 [==============================] - 60s 16ms/step - loss: 0.5829 - accuracy: 0.7833 - recall: 0.6698 - precision: 0.9011 - f1_score: 0.4470 - val_loss: 0.6280 - val_accuracy: 0.7731 - val_recall: 0.6836 - val_precision: 0.8943 - val_f1_score: 0.3915\n",
      "Epoch 14/50\n",
      "3730/3730 [==============================] - 61s 16ms/step - loss: 0.5817 - accuracy: 0.7835 - recall: 0.6700 - precision: 0.9024 - f1_score: 0.4498 - val_loss: 0.6517 - val_accuracy: 0.7679 - val_recall: 0.6754 - val_precision: 0.8900 - val_f1_score: 0.3908\n",
      "Epoch 15/50\n",
      "3730/3730 [==============================] - 60s 16ms/step - loss: 0.5802 - accuracy: 0.7839 - recall: 0.6716 - precision: 0.8998 - f1_score: 0.4536 - val_loss: 0.6704 - val_accuracy: 0.7601 - val_recall: 0.6746 - val_precision: 0.8832 - val_f1_score: 0.3702\n",
      "Epoch 16/50\n",
      "3730/3730 [==============================] - 61s 16ms/step - loss: 0.5801 - accuracy: 0.7847 - recall: 0.6718 - precision: 0.9008 - f1_score: 0.4533 - val_loss: 0.6519 - val_accuracy: 0.7682 - val_recall: 0.6863 - val_precision: 0.8873 - val_f1_score: 0.3966\n",
      "Epoch 17/50\n",
      "3730/3730 [==============================] - 61s 16ms/step - loss: 0.5779 - accuracy: 0.7851 - recall: 0.6711 - precision: 0.9040 - f1_score: 0.4494 - val_loss: 0.6412 - val_accuracy: 0.7780 - val_recall: 0.6941 - val_precision: 0.8945 - val_f1_score: 0.3926\n",
      "Epoch 18/50\n",
      "3730/3730 [==============================] - 66s 18ms/step - loss: 0.5764 - accuracy: 0.7849 - recall: 0.6721 - precision: 0.9019 - f1_score: 0.4573 - val_loss: 0.6343 - val_accuracy: 0.7720 - val_recall: 0.6900 - val_precision: 0.8886 - val_f1_score: 0.3903\n",
      "Epoch 19/50\n",
      "3730/3730 [==============================] - 64s 17ms/step - loss: 0.5747 - accuracy: 0.7859 - recall: 0.6709 - precision: 0.9065 - f1_score: 0.4548 - val_loss: 0.7073 - val_accuracy: 0.7526 - val_recall: 0.6704 - val_precision: 0.8851 - val_f1_score: 0.3469\n",
      "Epoch 20/50\n",
      "3730/3730 [==============================] - 63s 17ms/step - loss: 0.5739 - accuracy: 0.7856 - recall: 0.6720 - precision: 0.9051 - f1_score: 0.4557 - val_loss: 0.7423 - val_accuracy: 0.7455 - val_recall: 0.6722 - val_precision: 0.8756 - val_f1_score: 0.3598\n",
      "Epoch 21/50\n",
      "3730/3730 [==============================] - 63s 17ms/step - loss: 0.5736 - accuracy: 0.7859 - recall: 0.6742 - precision: 0.9032 - f1_score: 0.4617 - val_loss: 0.6610 - val_accuracy: 0.7645 - val_recall: 0.6855 - val_precision: 0.8775 - val_f1_score: 0.3980\n",
      "Epoch 22/50\n",
      "3730/3730 [==============================] - 62s 17ms/step - loss: 0.5723 - accuracy: 0.7858 - recall: 0.6750 - precision: 0.9027 - f1_score: 0.4575 - val_loss: 0.7217 - val_accuracy: 0.7253 - val_recall: 0.6498 - val_precision: 0.8400 - val_f1_score: 0.3282\n",
      "Epoch 23/50\n",
      "3730/3730 [==============================] - 64s 17ms/step - loss: 0.5726 - accuracy: 0.7866 - recall: 0.6755 - precision: 0.9028 - f1_score: 0.4625 - val_loss: 0.6855 - val_accuracy: 0.7449 - val_recall: 0.6661 - val_precision: 0.8629 - val_f1_score: 0.3317\n",
      "Epoch 24/50\n",
      "3730/3730 [==============================] - 62s 17ms/step - loss: 0.5711 - accuracy: 0.7866 - recall: 0.6750 - precision: 0.9030 - f1_score: 0.4608 - val_loss: 0.6621 - val_accuracy: 0.7681 - val_recall: 0.6894 - val_precision: 0.8904 - val_f1_score: 0.3869\n",
      "Epoch 25/50\n",
      "3730/3730 [==============================] - 63s 17ms/step - loss: 0.5705 - accuracy: 0.7863 - recall: 0.6749 - precision: 0.9037 - f1_score: 0.4682 - val_loss: 0.7087 - val_accuracy: 0.7343 - val_recall: 0.6482 - val_precision: 0.8584 - val_f1_score: 0.3338\n",
      "Epoch 26/50\n",
      "3730/3730 [==============================] - 63s 17ms/step - loss: 0.5684 - accuracy: 0.7873 - recall: 0.6739 - precision: 0.9050 - f1_score: 0.4679 - val_loss: 0.6473 - val_accuracy: 0.7678 - val_recall: 0.6889 - val_precision: 0.8794 - val_f1_score: 0.4054\n",
      "Epoch 27/50\n",
      "3730/3730 [==============================] - 64s 17ms/step - loss: 0.5691 - accuracy: 0.7874 - recall: 0.6752 - precision: 0.9042 - f1_score: 0.4672 - val_loss: 0.6728 - val_accuracy: 0.7583 - val_recall: 0.6699 - val_precision: 0.8764 - val_f1_score: 0.4043\n",
      "Epoch 28/50\n",
      "3730/3730 [==============================] - 63s 17ms/step - loss: 0.5688 - accuracy: 0.7866 - recall: 0.6724 - precision: 0.9064 - f1_score: 0.4674 - val_loss: 0.6751 - val_accuracy: 0.7555 - val_recall: 0.6729 - val_precision: 0.8758 - val_f1_score: 0.4004\n",
      "Epoch 29/50\n",
      "3730/3730 [==============================] - 64s 17ms/step - loss: 0.5657 - accuracy: 0.7879 - recall: 0.6762 - precision: 0.9058 - f1_score: 0.4752 - val_loss: 0.8231 - val_accuracy: 0.7534 - val_recall: 0.6751 - val_precision: 0.8780 - val_f1_score: 0.3585\n",
      "Epoch 30/50\n",
      "3730/3730 [==============================] - 63s 17ms/step - loss: 0.5664 - accuracy: 0.7880 - recall: 0.6743 - precision: 0.9070 - f1_score: 0.4736 - val_loss: 0.6648 - val_accuracy: 0.7567 - val_recall: 0.6761 - val_precision: 0.8867 - val_f1_score: 0.3822\n",
      "Epoch 31/50\n",
      "3730/3730 [==============================] - 64s 17ms/step - loss: 0.5663 - accuracy: 0.7877 - recall: 0.6756 - precision: 0.9053 - f1_score: 0.4783 - val_loss: 0.7307 - val_accuracy: 0.7492 - val_recall: 0.6650 - val_precision: 0.8791 - val_f1_score: 0.3751\n",
      "Epoch 32/50\n",
      "3730/3730 [==============================] - 63s 17ms/step - loss: 0.5646 - accuracy: 0.7881 - recall: 0.6751 - precision: 0.9070 - f1_score: 0.4752 - val_loss: 0.7047 - val_accuracy: 0.7382 - val_recall: 0.6585 - val_precision: 0.8753 - val_f1_score: 0.3529\n",
      "Epoch 33/50\n",
      "3730/3730 [==============================] - 64s 17ms/step - loss: 0.5649 - accuracy: 0.7880 - recall: 0.6733 - precision: 0.9098 - f1_score: 0.4667 - val_loss: 0.7720 - val_accuracy: 0.7390 - val_recall: 0.6550 - val_precision: 0.8744 - val_f1_score: 0.3843\n",
      "Epoch 34/50\n",
      "3730/3730 [==============================] - 62s 17ms/step - loss: 0.5630 - accuracy: 0.7885 - recall: 0.6755 - precision: 0.9077 - f1_score: 0.4765 - val_loss: 0.6819 - val_accuracy: 0.7558 - val_recall: 0.6727 - val_precision: 0.8846 - val_f1_score: 0.3897\n",
      "Epoch 35/50\n",
      "3730/3730 [==============================] - 63s 17ms/step - loss: 0.5629 - accuracy: 0.7884 - recall: 0.6731 - precision: 0.9108 - f1_score: 0.4781 - val_loss: 0.6608 - val_accuracy: 0.7697 - val_recall: 0.6832 - val_precision: 0.8953 - val_f1_score: 0.4143\n",
      "Epoch 36/50\n",
      "3730/3730 [==============================] - 63s 17ms/step - loss: 0.5631 - accuracy: 0.7892 - recall: 0.6768 - precision: 0.9091 - f1_score: 0.4785 - val_loss: 0.7085 - val_accuracy: 0.7503 - val_recall: 0.6683 - val_precision: 0.8876 - val_f1_score: 0.4093\n",
      "Epoch 37/50\n",
      "3730/3730 [==============================] - 64s 17ms/step - loss: 0.5607 - accuracy: 0.7898 - recall: 0.6754 - precision: 0.9110 - f1_score: 0.4821 - val_loss: 0.7159 - val_accuracy: 0.7520 - val_recall: 0.6761 - val_precision: 0.8731 - val_f1_score: 0.3802\n",
      "Epoch 38/50\n",
      "3730/3730 [==============================] - 63s 17ms/step - loss: 0.5618 - accuracy: 0.7885 - recall: 0.6732 - precision: 0.9107 - f1_score: 0.4780 - val_loss: 0.8722 - val_accuracy: 0.7239 - val_recall: 0.6393 - val_precision: 0.8522 - val_f1_score: 0.3642\n",
      "Epoch 39/50\n",
      "3730/3730 [==============================] - 63s 17ms/step - loss: 0.5616 - accuracy: 0.7885 - recall: 0.6764 - precision: 0.9091 - f1_score: 0.4730 - val_loss: 0.7038 - val_accuracy: 0.7523 - val_recall: 0.6722 - val_precision: 0.8795 - val_f1_score: 0.3969\n",
      "Epoch 40/50\n",
      "3730/3730 [==============================] - 63s 17ms/step - loss: 0.5610 - accuracy: 0.7890 - recall: 0.6744 - precision: 0.9111 - f1_score: 0.4797 - val_loss: 0.6393 - val_accuracy: 0.7759 - val_recall: 0.6961 - val_precision: 0.8912 - val_f1_score: 0.4233\n",
      "Epoch 41/50\n",
      "3730/3730 [==============================] - 63s 17ms/step - loss: 0.5605 - accuracy: 0.7894 - recall: 0.6731 - precision: 0.9121 - f1_score: 0.4763 - val_loss: 0.6867 - val_accuracy: 0.7557 - val_recall: 0.6719 - val_precision: 0.8855 - val_f1_score: 0.3715\n",
      "Epoch 42/50\n",
      "3730/3730 [==============================] - 63s 17ms/step - loss: 0.5596 - accuracy: 0.7899 - recall: 0.6749 - precision: 0.9123 - f1_score: 0.4756 - val_loss: 0.7152 - val_accuracy: 0.7547 - val_recall: 0.6670 - val_precision: 0.8886 - val_f1_score: 0.3810\n",
      "Epoch 43/50\n",
      "3730/3730 [==============================] - 63s 17ms/step - loss: 0.5587 - accuracy: 0.7898 - recall: 0.6741 - precision: 0.9116 - f1_score: 0.4831 - val_loss: 0.6884 - val_accuracy: 0.7651 - val_recall: 0.6881 - val_precision: 0.8789 - val_f1_score: 0.4047\n",
      "Epoch 44/50\n",
      "3730/3730 [==============================] - 63s 17ms/step - loss: 0.5584 - accuracy: 0.7898 - recall: 0.6763 - precision: 0.9109 - f1_score: 0.4794 - val_loss: 0.6714 - val_accuracy: 0.7677 - val_recall: 0.6955 - val_precision: 0.8785 - val_f1_score: 0.4138\n",
      "Epoch 45/50\n",
      "3730/3730 [==============================] - 62s 17ms/step - loss: 0.5569 - accuracy: 0.7902 - recall: 0.6758 - precision: 0.9121 - f1_score: 0.4841 - val_loss: 0.6773 - val_accuracy: 0.7628 - val_recall: 0.6812 - val_precision: 0.8800 - val_f1_score: 0.4049\n",
      "Epoch 46/50\n",
      "3730/3730 [==============================] - 64s 17ms/step - loss: 0.5570 - accuracy: 0.7906 - recall: 0.6735 - precision: 0.9142 - f1_score: 0.4863 - val_loss: 0.7216 - val_accuracy: 0.7449 - val_recall: 0.6657 - val_precision: 0.8782 - val_f1_score: 0.3929\n",
      "Epoch 47/50\n",
      "3730/3730 [==============================] - 63s 17ms/step - loss: 0.5579 - accuracy: 0.7907 - recall: 0.6756 - precision: 0.9119 - f1_score: 0.4824 - val_loss: 0.7297 - val_accuracy: 0.7556 - val_recall: 0.6808 - val_precision: 0.8669 - val_f1_score: 0.3714\n",
      "Epoch 48/50\n",
      "3730/3730 [==============================] - 64s 17ms/step - loss: 0.5571 - accuracy: 0.7909 - recall: 0.6769 - precision: 0.9113 - f1_score: 0.4818 - val_loss: 0.7924 - val_accuracy: 0.7395 - val_recall: 0.6585 - val_precision: 0.8709 - val_f1_score: 0.3631\n",
      "Epoch 49/50\n",
      "3730/3730 [==============================] - 63s 17ms/step - loss: 0.5559 - accuracy: 0.7906 - recall: 0.6767 - precision: 0.9115 - f1_score: 0.4859 - val_loss: 0.7477 - val_accuracy: 0.7500 - val_recall: 0.6673 - val_precision: 0.8772 - val_f1_score: 0.3911\n",
      "Epoch 50/50\n",
      "3730/3730 [==============================] - 66s 18ms/step - loss: 0.5555 - accuracy: 0.7908 - recall: 0.6748 - precision: 0.9143 - f1_score: 0.4806 - val_loss: 0.8482 - val_accuracy: 0.7514 - val_recall: 0.6757 - val_precision: 0.8677 - val_f1_score: 0.3682\n"
     ]
    }
   ],
   "source": [
    "#Define epochs and batch size\n",
    "epochs = 50\n",
    "batch_size = 32\n",
    "\n",
    "#Train the model\n",
    "history = model.fit(X_train, y_train, epochs=epochs, batch_size=batch_size, validation_data=(X_test, y_test))"
   ]
  },
  {
   "cell_type": "markdown",
   "metadata": {},
   "source": [
    "## Evaluate The Model"
   ]
  },
  {
   "cell_type": "code",
   "execution_count": 28,
   "metadata": {},
   "outputs": [
    {
     "name": "stdout",
     "output_type": "stream",
     "text": [
      "1417/1417 [==============================] - 15s 10ms/step - loss: 0.8482 - accuracy: 0.7514 - recall: 0.6757 - precision: 0.8677 - f1_score: 0.3682\n",
      "Test Loss: 0.8482145071029663\n",
      "Test Accuracy: 0.751373291015625\n",
      "Test Recall: 0.6757263541221619\n",
      "Test Precision: 0.8677299618721008\n",
      "Test F1-Score: 0.7597856802583803\n"
     ]
    }
   ],
   "source": [
    "#Evaluate the model on test data\n",
    "loss, accuracy, recall, precision, f1_score = model.evaluate(X_test, y_test)\n",
    "f1_score = 2 * (precision * recall) / (precision + recall)\n",
    "\n",
    "print('Test Loss:', loss)\n",
    "print('Test Accuracy:', accuracy)\n",
    "print('Test Recall:', recall)\n",
    "print('Test Precision:', precision)\n",
    "print('Test F1-Score:', f1_score)"
   ]
  },
  {
   "cell_type": "code",
   "execution_count": 29,
   "metadata": {},
   "outputs": [
    {
     "name": "stdout",
     "output_type": "stream",
     "text": [
      "1417/1417 [==============================] - 5s 3ms/step\n"
     ]
    }
   ],
   "source": [
    "# make a predictions\n",
    "predictions = model.predict(X_test)"
   ]
  },
  {
   "cell_type": "code",
   "execution_count": 30,
   "metadata": {},
   "outputs": [],
   "source": [
    "# convert one-hot encode predictions to class labels\n",
    "predicted_classes = np.argmax(predictions, axis=1)\n",
    "y_test_categorical = np.argmax(y_test, axis=1)"
   ]
  },
  {
   "cell_type": "markdown",
   "metadata": {},
   "source": [
    "### Confusion Matrix"
   ]
  },
  {
   "cell_type": "code",
   "execution_count": 31,
   "metadata": {},
   "outputs": [],
   "source": [
    "# function to calculate recall from confusion matrix\n",
    "def calculate_recall(confusion_matrix):\n",
    "    num_class = len(confusion_matrix)\n",
    "    recalls = []\n",
    "\n",
    "    for i in range(num_class):\n",
    "        true_positive = confusion_matrix[i][i]\n",
    "        false_negative = sum(confusion_matrix[i]) - true_positive\n",
    "\n",
    "        recall = true_positive / (true_positive + false_negative)\n",
    "        recalls.append(recall)\n",
    "    \n",
    "    return recalls"
   ]
  },
  {
   "cell_type": "code",
   "execution_count": 32,
   "metadata": {},
   "outputs": [],
   "source": [
    "# function to display the recall score\n",
    "def display_recall(recalls):\n",
    "    print('Recall Scores for each class:')\n",
    "    print('Analysis:', recalls[0])\n",
    "    print('Backdoor:', recalls[1])\n",
    "    print('DoS:', recalls[2])\n",
    "    print('Exploits:', recalls[3])\n",
    "    print('Fuzzers:', recalls[4])\n",
    "    print('Generic:', recalls[5])\n",
    "    print('Reconnaissance:', recalls[6])\n",
    "    print('Shellcode:', recalls[7])\n",
    "    print('Worms:', recalls[8])"
   ]
  },
  {
   "cell_type": "code",
   "execution_count": 33,
   "metadata": {},
   "outputs": [],
   "source": [
    "from sklearn.metrics import confusion_matrix"
   ]
  },
  {
   "cell_type": "code",
   "execution_count": 34,
   "metadata": {},
   "outputs": [],
   "source": [
    "matrix = confusion_matrix(y_test_categorical, predicted_classes)\n",
    "matrix_df = pd.DataFrame(matrix, \n",
    "                         index= ['Analysis', 'Backdoor', 'DoS', 'Exploits', 'Fuzzers', 'Generic', 'Reconnaissance', 'Shellcode', 'Worms'], \n",
    "                         columns= ['Analysis', 'Backdoor', 'DoS', 'Exploits', 'Fuzzers', 'Generic', 'Reconnaissance', 'Shellcode', 'Worms'])"
   ]
  },
  {
   "cell_type": "code",
   "execution_count": 35,
   "metadata": {},
   "outputs": [
    {
     "data": {
      "image/png": "[encoded data removed]",
      "text/plain": [
       "<Figure size 2000x2000 with 2 Axes>"
      ]
     },
     "metadata": {},
     "output_type": "display_data"
    }
   ],
   "source": [
    "# Plotting Confusion Matrix\n",
    "plt.figure(figsize = (20, 20))\n",
    "sns.heatmap(matrix_df, fmt='.0f', annot=True)\n",
    "plt.title('Confusion Matrix (1D CNN)')\n",
    "plt.ylabel('Actual Values')\n",
    "plt.xlabel('Predicted Values')\n",
    "plt.show()"
   ]
  },
  {
   "cell_type": "code",
   "execution_count": 36,
   "metadata": {},
   "outputs": [
    {
     "name": "stdout",
     "output_type": "stream",
     "text": [
      "Recall Scores for each class:\n",
      "Analysis: 0.0\n",
      "Backdoor: 0.0\n",
      "DoS: 0.031303497187576426\n",
      "Exploits: 0.9549905668852754\n",
      "Fuzzers: 0.6177198482098664\n",
      "Generic: 0.9622171586031477\n",
      "Reconnaissance: 0.3562231759656652\n",
      "Shellcode: 0.3941798941798942\n",
      "Worms: 0.11363636363636363\n"
     ]
    }
   ],
   "source": [
    "recalls = calculate_recall(matrix)\n",
    "display_recall(recalls)"
   ]
  },
  {
   "cell_type": "markdown",
   "metadata": {},
   "source": [
    "## Save and load the model"
   ]
  },
  {
   "cell_type": "code",
   "execution_count": 37,
   "metadata": {},
   "outputs": [],
   "source": [
    "from keras.models import load_model"
   ]
  },
  {
   "cell_type": "code",
   "execution_count": 38,
   "metadata": {},
   "outputs": [],
   "source": [
    "# save the 1D CNN trained model using keras\n",
    "model.save('/Data/Visual Studio Code/Data-Science/Notebook/UNSW-NB15/CNN/Imbalanced/GPU_Saved/CNN_2/cnn1d.keras')"
   ]
  },
  {
   "cell_type": "code",
   "execution_count": 39,
   "metadata": {},
   "outputs": [],
   "source": [
    "# load the 1D CNN trained model using keras\n",
    "model = load_model('/Data/Visual Studio Code/Data-Science/Notebook/UNSW-NB15/CNN/Imbalanced/GPU_Saved/CNN_2/cnn1d.keras')"
   ]
  },
  {
   "cell_type": "markdown",
   "metadata": {},
   "source": [
    "## Save and load the predicted"
   ]
  },
  {
   "cell_type": "code",
   "execution_count": 41,
   "metadata": {},
   "outputs": [],
   "source": [
    "import joblib"
   ]
  },
  {
   "cell_type": "code",
   "execution_count": 42,
   "metadata": {},
   "outputs": [
    {
     "data": {
      "text/plain": [
       "['/Data/Visual Studio Code/Data-Science/Notebook/UNSW-NB15/CNN/Imbalanced/GPU_Saved/CNN_2/predicted_classes.joblib']"
      ]
     },
     "execution_count": 42,
     "metadata": {},
     "output_type": "execute_result"
    }
   ],
   "source": [
    "# save the decision tree, random forest, gradient boosting, xgboost trained model\n",
    "joblib.dump(predicted_classes, '/Data/Visual Studio Code/Data-Science/Notebook/UNSW-NB15/CNN/Imbalanced/GPU_Saved/CNN_2/predicted_classes.joblib', compress=('zlib', 3))"
   ]
  },
  {
   "cell_type": "code",
   "execution_count": 43,
   "metadata": {},
   "outputs": [],
   "source": [
    "# load the decision tree, random forest, gradient boosting, xgboost trained model\n",
    "predicted_classes = joblib.load('/Data/Visual Studio Code/Data-Science/Notebook/UNSW-NB15/CNN/Imbalanced/GPU_Saved/CNN_2/predicted_classes.joblib')"
   ]
  }
 ],
 "metadata": {
  "kernelspec": {
   "display_name": "myenv",
   "language": "python",
   "name": "python3"
  },
  "language_info": {
   "codemirror_mode": {
    "name": "ipython",
    "version": 3
   },
   "file_extension": ".py",
   "mimetype": "text/x-python",
   "name": "python",
   "nbconvert_exporter": "python",
   "pygments_lexer": "ipython3",
   "version": "3.10.13"
  },
  "orig_nbformat": 4
 },
 "nbformat": 4,
 "nbformat_minor": 2
}
