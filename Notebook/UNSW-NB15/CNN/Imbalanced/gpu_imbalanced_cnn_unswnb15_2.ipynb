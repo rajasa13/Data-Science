{
 "cells": [
  {
   "cell_type": "markdown",
   "metadata": {},
   "source": [
    "# Data Preprocessing"
   ]
  },
  {
   "cell_type": "code",
   "execution_count": 1,
   "metadata": {},
   "outputs": [],
   "source": [
    "import tensorflow as tf\n",
    "from keras.models import Sequential\n",
    "from keras.layers import Conv1D, MaxPooling1D, Flatten, Dense, Dropout, BatchNormalization\n",
    "from keras.metrics import Recall, Precision"
   ]
  },
  {
   "cell_type": "code",
   "execution_count": 2,
   "metadata": {},
   "outputs": [
    {
     "name": "stdout",
     "output_type": "stream",
     "text": [
      "Num GPUs Available:  1\n"
     ]
    }
   ],
   "source": [
    "#Check GPU device available\n",
    "print('Num GPUs Available: ', len(tf.config.list_physical_devices('GPU')))"
   ]
  },
  {
   "cell_type": "code",
   "execution_count": 3,
   "metadata": {},
   "outputs": [
    {
     "data": {
      "text/plain": [
       "True"
      ]
     },
     "execution_count": 3,
     "metadata": {},
     "output_type": "execute_result"
    }
   ],
   "source": [
    "tf.test.is_built_with_cuda()"
   ]
  },
  {
   "cell_type": "code",
   "execution_count": 4,
   "metadata": {},
   "outputs": [],
   "source": [
    "import pandas as pd\n",
    "import matplotlib.pyplot as plt\n",
    "import seaborn as sns\n",
    "import numpy as np"
   ]
  },
  {
   "cell_type": "code",
   "execution_count": 5,
   "metadata": {},
   "outputs": [],
   "source": [
    "# Load dataset\n",
    "data_train = pd.read_csv('/Data/Visual Studio Code/Data Science/Dataset/UNSW-NB15/UNSW_NB15_training-set.csv')\n",
    "data_test = pd.read_csv('/Data/Visual Studio Code/Data Science/Dataset/UNSW-NB15/UNSW_NB15_testing-set.csv')"
   ]
  },
  {
   "cell_type": "code",
   "execution_count": 6,
   "metadata": {},
   "outputs": [],
   "source": [
    "# Handle missing value and duplicate if any\n",
    "data_train.dropna(inplace=True)\n",
    "data_train.drop_duplicates(inplace=True)\n",
    "\n",
    "data_test.dropna(inplace=True)\n",
    "data_test.drop_duplicates(inplace=True)"
   ]
  },
  {
   "cell_type": "code",
   "execution_count": 7,
   "metadata": {},
   "outputs": [],
   "source": [
    "#Split Attack and Normal from dataframe\n",
    "data_train_attack = data_train[data_train['label'] == 1]\n",
    "data_test_attack = data_test[data_test['label'] == 1]\n",
    "\n",
    "#Optional\n",
    "#data_train_normal = data_train[data_train['label'] == 0]\n",
    "#data_test_normal = data_test[data_test['label'] == 0]"
   ]
  },
  {
   "cell_type": "code",
   "execution_count": 8,
   "metadata": {},
   "outputs": [],
   "source": [
    "# Drop id and label from train and test data\n",
    "data_train_attack = data_train_attack.drop('id', axis=1)\n",
    "data_train_attack = data_train_attack.drop('label', axis=1)\n",
    "\n",
    "data_test_attack = data_test_attack.drop('id', axis=1)\n",
    "data_test_attack = data_test_attack.drop('label', axis=1)"
   ]
  },
  {
   "cell_type": "code",
   "execution_count": 9,
   "metadata": {},
   "outputs": [
    {
     "name": "stdout",
     "output_type": "stream",
     "text": [
      "6\n",
      "5\n"
     ]
    }
   ],
   "source": [
    "print(data_train_attack['state'].nunique())\n",
    "print(data_test_attack['state'].nunique())"
   ]
  },
  {
   "cell_type": "code",
   "execution_count": 10,
   "metadata": {},
   "outputs": [
    {
     "name": "stdout",
     "output_type": "stream",
     "text": [
      "['INT' 'FIN' 'ACC' 'CON' 'REQ' 'CLO']\n",
      "['INT' 'FIN' 'CON' 'REQ' 'RST']\n"
     ]
    }
   ],
   "source": [
    "print(data_train_attack['state'].unique())\n",
    "print(data_test_attack['state'].unique())"
   ]
  },
  {
   "cell_type": "code",
   "execution_count": 11,
   "metadata": {},
   "outputs": [],
   "source": [
    "#Drop ACC, CLO, and RST from data\n",
    "data_train_attack = data_train_attack[(data_train_attack['state'] != 'ACC') & (data_train_attack['state'] != 'CLO')]\n",
    "data_test_attack = data_test_attack[(data_test_attack['state'] != 'RST')]"
   ]
  },
  {
   "cell_type": "code",
   "execution_count": 12,
   "metadata": {},
   "outputs": [
    {
     "name": "stdout",
     "output_type": "stream",
     "text": [
      "['INT' 'FIN' 'CON' 'REQ']\n",
      "['INT' 'FIN' 'CON' 'REQ']\n"
     ]
    }
   ],
   "source": [
    "print(data_train_attack['state'].unique())\n",
    "print(data_test_attack['state'].unique())"
   ]
  },
  {
   "cell_type": "markdown",
   "metadata": {},
   "source": [
    "## Encode Train and Test Data"
   ]
  },
  {
   "cell_type": "code",
   "execution_count": 13,
   "metadata": {},
   "outputs": [
    {
     "data": {
      "text/plain": [
       "['proto', 'state', 'service']"
      ]
     },
     "execution_count": 13,
     "metadata": {},
     "output_type": "execute_result"
    }
   ],
   "source": [
    "#column to encode\n",
    "cols = ['proto','state','service']\n",
    "cols"
   ]
  },
  {
   "cell_type": "code",
   "execution_count": 14,
   "metadata": {},
   "outputs": [],
   "source": [
    "#One-hot Encoding\n",
    "# Encode train data\n",
    "data_train_attack = pd.get_dummies(data_train_attack, columns=cols)\n",
    "\n",
    "# Encode test data\n",
    "data_test_attack = pd.get_dummies(data_test_attack, columns=cols)"
   ]
  },
  {
   "cell_type": "code",
   "execution_count": 15,
   "metadata": {},
   "outputs": [],
   "source": [
    "train_attack_cat = data_train_attack.pop('attack_cat')\n",
    "test_attack_cat = data_test_attack.pop('attack_cat')"
   ]
  },
  {
   "cell_type": "markdown",
   "metadata": {},
   "source": [
    "## Normalization"
   ]
  },
  {
   "cell_type": "code",
   "execution_count": 16,
   "metadata": {},
   "outputs": [],
   "source": [
    "# Min-Max Normalization\n",
    "from sklearn.preprocessing import MinMaxScaler\n",
    "\n",
    "scaler = MinMaxScaler()\n",
    "cols_to_norm = ['dur', 'spkts', 'dpkts', 'sbytes', 'dbytes', 'rate', 'sttl', 'dttl', 'sload', \n",
    "                'dload', 'sloss', 'dloss', 'sinpkt', 'dinpkt', 'sjit', 'djit', 'swin', 'stcpb', 'dtcpb', 'dwin', 'tcprtt', 'synack', \n",
    "                'ackdat', 'smean', 'dmean', 'trans_depth', 'response_body_len', 'ct_srv_src', 'ct_state_ttl', 'ct_dst_ltm', \n",
    "                'ct_src_dport_ltm', 'ct_dst_sport_ltm', 'ct_dst_src_ltm', 'is_ftp_login', 'ct_ftp_cmd', 'ct_flw_http_mthd', 'ct_src_ltm', \n",
    "                'ct_srv_dst', 'is_sm_ips_ports']\n",
    "\n",
    "data_train_attack[cols_to_norm] = scaler.fit_transform(data_train_attack[cols_to_norm])\n",
    "data_test_attack[cols_to_norm] = scaler.fit_transform(data_test_attack[cols_to_norm])"
   ]
  },
  {
   "cell_type": "markdown",
   "metadata": {},
   "source": [
    "## Feature Selection"
   ]
  },
  {
   "cell_type": "code",
   "execution_count": 17,
   "metadata": {},
   "outputs": [
    {
     "data": {
      "text/plain": [
       "dur               float64\n",
       "spkts             float64\n",
       "dpkts             float64\n",
       "sbytes            float64\n",
       "dbytes            float64\n",
       "                   ...   \n",
       "service_radius       bool\n",
       "service_smtp         bool\n",
       "service_snmp         bool\n",
       "service_ssh          bool\n",
       "service_ssl          bool\n",
       "Length: 181, dtype: object"
      ]
     },
     "execution_count": 17,
     "metadata": {},
     "output_type": "execute_result"
    }
   ],
   "source": [
    "#Feature Selection\n",
    "feature = data_train_attack.drop(['dinpkt', 'ct_ftp_cmd', 'ct_src_dport_ltm', 'is_sm_ips_ports'], axis=1)\n",
    "feature.dtypes"
   ]
  },
  {
   "cell_type": "markdown",
   "metadata": {},
   "source": [
    "# Initialize Train Data and Test Data"
   ]
  },
  {
   "cell_type": "code",
   "execution_count": 18,
   "metadata": {},
   "outputs": [
    {
     "data": {
      "text/plain": [
       "((45329, 181), (45329,), (119329, 181), (119329,))"
      ]
     },
     "execution_count": 18,
     "metadata": {},
     "output_type": "execute_result"
    }
   ],
   "source": [
    "#Splitting the dataset into dependent and independent feature\n",
    "X_train = feature\n",
    "y_train = train_attack_cat\n",
    "\n",
    "X_test = data_test_attack.drop(columns=['dinpkt', 'ct_ftp_cmd', 'ct_src_dport_ltm', 'is_sm_ips_ports'])\n",
    "y_test = test_attack_cat\n",
    "\n",
    "X_train.shape, y_train.shape, X_test.shape, y_test.shape"
   ]
  },
  {
   "cell_type": "markdown",
   "metadata": {},
   "source": [
    "# Model Architecture"
   ]
  },
  {
   "cell_type": "code",
   "execution_count": 1,
   "metadata": {},
   "outputs": [
    {
     "name": "stderr",
     "output_type": "stream",
     "text": [
      "c:\\Users\\Acer\\miniconda3\\envs\\tf_gpu\\lib\\site-packages\\tensorflow_addons\\utils\\tfa_eol_msg.py:23: UserWarning: \n",
      "\n",
      "TensorFlow Addons (TFA) has ended development and introduction of new features.\n",
      "TFA has entered a minimal maintenance and release mode until a planned end of life in May 2024.\n",
      "Please modify downstream libraries to take dependencies from other repositories in our TensorFlow community (e.g. Keras, Keras-CV, and Keras-NLP). \n",
      "\n",
      "For more information see: https://github.com/tensorflow/addons/issues/2807 \n",
      "\n",
      "  warnings.warn(\n",
      "c:\\Users\\Acer\\miniconda3\\envs\\tf_gpu\\lib\\site-packages\\tensorflow_addons\\utils\\ensure_tf_install.py:53: UserWarning: Tensorflow Addons supports using Python ops for all Tensorflow versions above or equal to 2.12.0 and strictly below 2.15.0 (nightly versions are not supported). \n",
      " The versions of TensorFlow you are currently using is 2.10.0 and is not supported. \n",
      "Some things might work, some things might not.\n",
      "If you were to encounter a bug, do not file an issue.\n",
      "If you want to make sure you're using a tested and supported configuration, either change the TensorFlow version or the TensorFlow Addons's version. \n",
      "You can find the compatibility matrix in TensorFlow Addon's readme:\n",
      "https://github.com/tensorflow/addons\n",
      "  warnings.warn(\n"
     ]
    }
   ],
   "source": [
    "# from keras import backend as K\n",
    "import tensorflow_addons as tfa"
   ]
  },
  {
   "cell_type": "code",
   "execution_count": 19,
   "metadata": {},
   "outputs": [],
   "source": [
    "# def recall_m(y_true, y_pred):\n",
    "#     true_positives = K.sum(K.round(K.clip(y_true * y_pred, 0, 1)))\n",
    "#     possible_positives = K.sum(K.round(K.clip(y_true, 0, 1)))\n",
    "#     recall = true_positives / (possible_positives + K.epsilon())\n",
    "#     return recall\n",
    "\n",
    "# def precision_m(y_true, y_pred):\n",
    "#     true_positives = K.sum(K.round(K.clip(y_true * y_pred, 0, 1)))\n",
    "#     predicted_positives = K.sum(K.round(K.clip(y_pred, 0, 1)))\n",
    "#     precision = true_positives / (predicted_positives + K.epsilon())\n",
    "#     return precision\n",
    "\n",
    "# def f1_m(y_true, y_pred):\n",
    "#     precision = precision_m(y_true, y_pred)\n",
    "#     recall = recall_m(y_true, y_pred)\n",
    "#     return 2*((precision*recall)/(precision+recall+K.epsilon()))"
   ]
  },
  {
   "cell_type": "markdown",
   "metadata": {},
   "source": [
    "## 1D-CNN (1 layer) Model"
   ]
  },
  {
   "cell_type": "code",
   "execution_count": 20,
   "metadata": {},
   "outputs": [],
   "source": [
    "# Define the input shape\n",
    "input_shape = (181, 1)\n",
    "\n",
    "# Create the sequential model\n",
    "model = Sequential()\n",
    "\n",
    "# Convolutional layers\n",
    "model.add(Conv1D(filters=32, kernel_size=5, activation='sigmoid', input_shape=input_shape))\n",
    "\n",
    "# MaxPooling1D layer\n",
    "model.add(MaxPooling1D(pool_size=2, strides=1))\n",
    "\n",
    "# Flatten layer\n",
    "model.add(Flatten())\n",
    "\n",
    "# Batch Normalization layer\n",
    "model.add(BatchNormalization(axis=-1))\n",
    "\n",
    "# Dropout layer with dropout 0.5\n",
    "model.add(Dropout(0.5))\n",
    "\n",
    "# Two Fully-connected layers\n",
    "model.add(Dense(32, activation='relu'))\n",
    "model.add(Dense(16, activation='relu'))\n",
    "\n",
    "# Output\n",
    "model.add(Dense(units=9, activation='softmax'))\n",
    "\n",
    "# Compile the model\n",
    "model.compile(optimizer='adam', loss='categorical_crossentropy', metrics=['accuracy', Recall(), Precision(), tfa.metrics.F1Score(num_classes=9, \n",
    "                                                                                                                                 average='macro')])"
   ]
  },
  {
   "cell_type": "code",
   "execution_count": 21,
   "metadata": {},
   "outputs": [
    {
     "name": "stdout",
     "output_type": "stream",
     "text": [
      "Model: \"sequential\"\n",
      "_________________________________________________________________\n",
      " Layer (type)                Output Shape              Param #   \n",
      "=================================================================\n",
      " conv1d (Conv1D)             (None, 177, 32)           192       \n",
      "                                                                 \n",
      " max_pooling1d (MaxPooling1D  (None, 176, 32)          0         \n",
      " )                                                               \n",
      "                                                                 \n",
      " flatten (Flatten)           (None, 5632)              0         \n",
      "                                                                 \n",
      " batch_normalization (BatchN  (None, 5632)             22528     \n",
      " ormalization)                                                   \n",
      "                                                                 \n",
      " dropout (Dropout)           (None, 5632)              0         \n",
      "                                                                 \n",
      " dense (Dense)               (None, 32)                180256    \n",
      "                                                                 \n",
      " dense_1 (Dense)             (None, 16)                528       \n",
      "                                                                 \n",
      " dense_2 (Dense)             (None, 9)                 153       \n",
      "                                                                 \n",
      "=================================================================\n",
      "Total params: 203,657\n",
      "Trainable params: 192,393\n",
      "Non-trainable params: 11,264\n",
      "_________________________________________________________________\n"
     ]
    }
   ],
   "source": [
    "#Print the model summary\n",
    "model.summary()"
   ]
  },
  {
   "cell_type": "markdown",
   "metadata": {},
   "source": [
    "## Train the model"
   ]
  },
  {
   "cell_type": "code",
   "execution_count": 20,
   "metadata": {},
   "outputs": [],
   "source": [
    "from keras.utils import to_categorical\n",
    "from sklearn.preprocessing import LabelEncoder"
   ]
  },
  {
   "cell_type": "code",
   "execution_count": 21,
   "metadata": {},
   "outputs": [],
   "source": [
    "le = LabelEncoder()\n",
    "\n",
    "y_train = le.fit_transform(y_train)\n",
    "y_test = le.fit_transform(y_test)"
   ]
  },
  {
   "cell_type": "code",
   "execution_count": 22,
   "metadata": {},
   "outputs": [],
   "source": [
    "num_class = 9\n",
    "y_train = to_categorical(y_train, num_class)\n",
    "y_test = to_categorical(y_test, num_class)"
   ]
  },
  {
   "cell_type": "code",
   "execution_count": 23,
   "metadata": {},
   "outputs": [],
   "source": [
    "X_train = np.array(X_train, dtype=np.float32)\n",
    "X_test = np.array(X_test, dtype=np.float32)"
   ]
  },
  {
   "cell_type": "code",
   "execution_count": 26,
   "metadata": {},
   "outputs": [
    {
     "name": "stdout",
     "output_type": "stream",
     "text": [
      "Epoch 1/50\n",
      "1417/1417 [==============================] - 29s 18ms/step - loss: 0.7141 - accuracy: 0.7391 - recall: 0.6328 - precision: 0.8889 - f1_score: 0.3465 - val_loss: 0.7343 - val_accuracy: 0.7380 - val_recall: 0.6120 - val_precision: 0.8810 - val_f1_score: 0.3655\n",
      "Epoch 2/50\n",
      "1417/1417 [==============================] - 27s 19ms/step - loss: 0.6195 - accuracy: 0.7648 - recall: 0.6688 - precision: 0.8913 - f1_score: 0.3735 - val_loss: 0.7430 - val_accuracy: 0.7207 - val_recall: 0.6167 - val_precision: 0.8636 - val_f1_score: 0.3693\n",
      "Epoch 3/50\n",
      "1417/1417 [==============================] - 27s 19ms/step - loss: 0.6021 - accuracy: 0.7694 - recall: 0.6765 - precision: 0.8927 - f1_score: 0.3799 - val_loss: 0.7475 - val_accuracy: 0.7364 - val_recall: 0.6117 - val_precision: 0.8733 - val_f1_score: 0.3543\n",
      "Epoch 4/50\n",
      "1417/1417 [==============================] - 27s 19ms/step - loss: 0.5939 - accuracy: 0.7692 - recall: 0.6785 - precision: 0.8950 - f1_score: 0.3834 - val_loss: 0.7628 - val_accuracy: 0.7164 - val_recall: 0.6084 - val_precision: 0.8571 - val_f1_score: 0.3683\n",
      "Epoch 5/50\n",
      "1417/1417 [==============================] - 28s 19ms/step - loss: 0.5838 - accuracy: 0.7741 - recall: 0.6834 - precision: 0.8971 - f1_score: 0.3950 - val_loss: 0.7678 - val_accuracy: 0.7137 - val_recall: 0.6084 - val_precision: 0.8393 - val_f1_score: 0.3744\n",
      "Epoch 6/50\n",
      "1417/1417 [==============================] - 31s 22ms/step - loss: 0.5790 - accuracy: 0.7762 - recall: 0.6852 - precision: 0.8980 - f1_score: 0.3986 - val_loss: 0.7181 - val_accuracy: 0.7414 - val_recall: 0.6246 - val_precision: 0.8781 - val_f1_score: 0.3913\n",
      "Epoch 7/50\n",
      "1417/1417 [==============================] - 30s 21ms/step - loss: 0.5727 - accuracy: 0.7782 - recall: 0.6867 - precision: 0.8997 - f1_score: 0.4061 - val_loss: 0.7381 - val_accuracy: 0.7420 - val_recall: 0.6259 - val_precision: 0.8561 - val_f1_score: 0.3581\n",
      "Epoch 8/50\n",
      "1417/1417 [==============================] - 28s 20ms/step - loss: 0.5677 - accuracy: 0.7796 - recall: 0.6918 - precision: 0.8994 - f1_score: 0.4084 - val_loss: 0.7054 - val_accuracy: 0.7371 - val_recall: 0.6394 - val_precision: 0.8688 - val_f1_score: 0.4060\n",
      "Epoch 9/50\n",
      "1417/1417 [==============================] - 27s 19ms/step - loss: 0.5614 - accuracy: 0.7795 - recall: 0.6919 - precision: 0.9000 - f1_score: 0.4144 - val_loss: 0.7378 - val_accuracy: 0.7292 - val_recall: 0.6249 - val_precision: 0.8651 - val_f1_score: 0.4088\n",
      "Epoch 10/50\n",
      "1417/1417 [==============================] - 27s 19ms/step - loss: 0.5578 - accuracy: 0.7815 - recall: 0.6935 - precision: 0.9004 - f1_score: 0.4151 - val_loss: 0.6923 - val_accuracy: 0.7405 - val_recall: 0.6339 - val_precision: 0.8893 - val_f1_score: 0.4112\n",
      "Epoch 11/50\n",
      "1417/1417 [==============================] - 27s 19ms/step - loss: 0.5555 - accuracy: 0.7824 - recall: 0.6946 - precision: 0.9022 - f1_score: 0.4231 - val_loss: 0.7295 - val_accuracy: 0.7336 - val_recall: 0.6378 - val_precision: 0.8575 - val_f1_score: 0.4075\n",
      "Epoch 12/50\n",
      "1417/1417 [==============================] - 27s 19ms/step - loss: 0.5500 - accuracy: 0.7853 - recall: 0.6976 - precision: 0.9015 - f1_score: 0.4265 - val_loss: 0.6965 - val_accuracy: 0.7607 - val_recall: 0.6435 - val_precision: 0.8781 - val_f1_score: 0.3822\n",
      "Epoch 13/50\n",
      "1417/1417 [==============================] - 30s 21ms/step - loss: 0.5512 - accuracy: 0.7834 - recall: 0.6964 - precision: 0.9015 - f1_score: 0.4254 - val_loss: 0.7532 - val_accuracy: 0.7251 - val_recall: 0.6300 - val_precision: 0.8476 - val_f1_score: 0.3856\n",
      "Epoch 14/50\n",
      "1417/1417 [==============================] - 33s 23ms/step - loss: 0.5479 - accuracy: 0.7846 - recall: 0.6981 - precision: 0.9013 - f1_score: 0.4235 - val_loss: 0.7055 - val_accuracy: 0.7414 - val_recall: 0.6241 - val_precision: 0.8948 - val_f1_score: 0.4325\n",
      "Epoch 15/50\n",
      "1417/1417 [==============================] - 26s 19ms/step - loss: 0.5424 - accuracy: 0.7866 - recall: 0.6990 - precision: 0.9025 - f1_score: 0.4478 - val_loss: 0.7279 - val_accuracy: 0.7383 - val_recall: 0.6371 - val_precision: 0.8692 - val_f1_score: 0.4223\n",
      "Epoch 16/50\n",
      "1417/1417 [==============================] - 26s 18ms/step - loss: 0.5396 - accuracy: 0.7884 - recall: 0.7037 - precision: 0.9037 - f1_score: 0.4550 - val_loss: 0.7359 - val_accuracy: 0.7304 - val_recall: 0.6378 - val_precision: 0.8507 - val_f1_score: 0.4122\n",
      "Epoch 17/50\n",
      "1417/1417 [==============================] - 27s 19ms/step - loss: 0.5390 - accuracy: 0.7878 - recall: 0.7023 - precision: 0.9027 - f1_score: 0.4430 - val_loss: 0.6912 - val_accuracy: 0.7465 - val_recall: 0.6389 - val_precision: 0.8865 - val_f1_score: 0.4364\n",
      "Epoch 18/50\n",
      "1417/1417 [==============================] - 27s 19ms/step - loss: 0.5379 - accuracy: 0.7870 - recall: 0.7049 - precision: 0.9017 - f1_score: 0.4387 - val_loss: 0.7175 - val_accuracy: 0.7321 - val_recall: 0.6234 - val_precision: 0.8775 - val_f1_score: 0.4397\n",
      "Epoch 19/50\n",
      "1417/1417 [==============================] - 30s 21ms/step - loss: 0.5371 - accuracy: 0.7871 - recall: 0.7034 - precision: 0.9042 - f1_score: 0.4375 - val_loss: 0.7098 - val_accuracy: 0.7609 - val_recall: 0.6509 - val_precision: 0.8728 - val_f1_score: 0.4047\n",
      "Epoch 20/50\n",
      "1417/1417 [==============================] - 28s 19ms/step - loss: 0.5343 - accuracy: 0.7892 - recall: 0.7058 - precision: 0.9031 - f1_score: 0.4484 - val_loss: 0.7458 - val_accuracy: 0.7408 - val_recall: 0.6320 - val_precision: 0.8676 - val_f1_score: 0.4021\n",
      "Epoch 21/50\n",
      "1417/1417 [==============================] - 28s 20ms/step - loss: 0.5322 - accuracy: 0.7890 - recall: 0.7054 - precision: 0.9046 - f1_score: 0.4439 - val_loss: 0.7268 - val_accuracy: 0.7363 - val_recall: 0.6334 - val_precision: 0.8715 - val_f1_score: 0.4390\n",
      "Epoch 22/50\n",
      "1417/1417 [==============================] - 28s 19ms/step - loss: 0.5346 - accuracy: 0.7882 - recall: 0.7060 - precision: 0.9014 - f1_score: 0.4413 - val_loss: 0.7393 - val_accuracy: 0.7321 - val_recall: 0.6297 - val_precision: 0.8618 - val_f1_score: 0.4207\n",
      "Epoch 23/50\n",
      "1417/1417 [==============================] - 30s 21ms/step - loss: 0.5294 - accuracy: 0.7897 - recall: 0.7059 - precision: 0.9057 - f1_score: 0.4460 - val_loss: 0.7275 - val_accuracy: 0.7567 - val_recall: 0.6445 - val_precision: 0.8735 - val_f1_score: 0.3947\n",
      "Epoch 24/50\n",
      "1417/1417 [==============================] - 28s 20ms/step - loss: 0.5275 - accuracy: 0.7901 - recall: 0.7046 - precision: 0.9058 - f1_score: 0.4527 - val_loss: 0.7133 - val_accuracy: 0.7570 - val_recall: 0.6305 - val_precision: 0.8871 - val_f1_score: 0.3922\n",
      "Epoch 25/50\n",
      "1417/1417 [==============================] - 28s 20ms/step - loss: 0.5297 - accuracy: 0.7922 - recall: 0.7067 - precision: 0.9052 - f1_score: 0.4436 - val_loss: 0.7040 - val_accuracy: 0.7445 - val_recall: 0.6431 - val_precision: 0.8880 - val_f1_score: 0.4256\n",
      "Epoch 26/50\n",
      "1417/1417 [==============================] - 28s 20ms/step - loss: 0.5261 - accuracy: 0.7909 - recall: 0.7080 - precision: 0.9057 - f1_score: 0.4550 - val_loss: 0.7007 - val_accuracy: 0.7496 - val_recall: 0.6526 - val_precision: 0.8714 - val_f1_score: 0.4157\n",
      "Epoch 27/50\n",
      "1417/1417 [==============================] - 26s 18ms/step - loss: 0.5251 - accuracy: 0.7913 - recall: 0.7091 - precision: 0.9045 - f1_score: 0.4442 - val_loss: 0.7201 - val_accuracy: 0.7428 - val_recall: 0.6430 - val_precision: 0.8768 - val_f1_score: 0.4458\n",
      "Epoch 28/50\n",
      "1417/1417 [==============================] - 28s 20ms/step - loss: 0.5249 - accuracy: 0.7912 - recall: 0.7093 - precision: 0.9046 - f1_score: 0.4466 - val_loss: 0.6960 - val_accuracy: 0.7641 - val_recall: 0.6529 - val_precision: 0.8825 - val_f1_score: 0.3953\n",
      "Epoch 29/50\n",
      "1417/1417 [==============================] - 28s 19ms/step - loss: 0.5248 - accuracy: 0.7908 - recall: 0.7091 - precision: 0.9051 - f1_score: 0.4418 - val_loss: 0.7218 - val_accuracy: 0.7496 - val_recall: 0.6424 - val_precision: 0.8845 - val_f1_score: 0.4547\n",
      "Epoch 30/50\n",
      "1417/1417 [==============================] - 27s 19ms/step - loss: 0.5217 - accuracy: 0.7918 - recall: 0.7112 - precision: 0.9044 - f1_score: 0.4613 - val_loss: 0.7235 - val_accuracy: 0.7439 - val_recall: 0.6443 - val_precision: 0.8817 - val_f1_score: 0.4398\n",
      "Epoch 31/50\n",
      "1417/1417 [==============================] - 28s 20ms/step - loss: 0.5216 - accuracy: 0.7927 - recall: 0.7091 - precision: 0.9058 - f1_score: 0.4670 - val_loss: 0.7075 - val_accuracy: 0.7519 - val_recall: 0.6470 - val_precision: 0.8911 - val_f1_score: 0.4321\n",
      "Epoch 32/50\n",
      "1417/1417 [==============================] - 28s 19ms/step - loss: 0.5206 - accuracy: 0.7910 - recall: 0.7101 - precision: 0.9048 - f1_score: 0.4544 - val_loss: 0.7413 - val_accuracy: 0.7318 - val_recall: 0.6506 - val_precision: 0.8432 - val_f1_score: 0.4286\n",
      "Epoch 33/50\n",
      "1417/1417 [==============================] - 28s 20ms/step - loss: 0.5206 - accuracy: 0.7919 - recall: 0.7095 - precision: 0.9068 - f1_score: 0.4567 - val_loss: 0.7427 - val_accuracy: 0.7574 - val_recall: 0.6446 - val_precision: 0.8807 - val_f1_score: 0.4104\n",
      "Epoch 34/50\n",
      "1417/1417 [==============================] - 27s 19ms/step - loss: 0.5205 - accuracy: 0.7936 - recall: 0.7104 - precision: 0.9070 - f1_score: 0.4593 - val_loss: 0.7193 - val_accuracy: 0.7633 - val_recall: 0.6421 - val_precision: 0.8945 - val_f1_score: 0.4039\n",
      "Epoch 35/50\n",
      "1417/1417 [==============================] - 28s 20ms/step - loss: 0.5216 - accuracy: 0.7907 - recall: 0.7098 - precision: 0.9057 - f1_score: 0.4517 - val_loss: 0.7468 - val_accuracy: 0.7424 - val_recall: 0.6503 - val_precision: 0.8626 - val_f1_score: 0.4531\n",
      "Epoch 36/50\n",
      "1417/1417 [==============================] - 28s 20ms/step - loss: 0.5213 - accuracy: 0.7938 - recall: 0.7121 - precision: 0.9051 - f1_score: 0.4562 - val_loss: 0.7291 - val_accuracy: 0.7630 - val_recall: 0.6425 - val_precision: 0.8888 - val_f1_score: 0.4142\n",
      "Epoch 37/50\n",
      "1417/1417 [==============================] - 28s 20ms/step - loss: 0.5209 - accuracy: 0.7935 - recall: 0.7102 - precision: 0.9064 - f1_score: 0.4552 - val_loss: 0.7140 - val_accuracy: 0.7643 - val_recall: 0.6463 - val_precision: 0.8867 - val_f1_score: 0.3974\n",
      "Epoch 38/50\n",
      "1417/1417 [==============================] - 28s 19ms/step - loss: 0.5183 - accuracy: 0.7923 - recall: 0.7113 - precision: 0.9076 - f1_score: 0.4581 - val_loss: 0.7279 - val_accuracy: 0.7432 - val_recall: 0.6375 - val_precision: 0.8924 - val_f1_score: 0.4369\n",
      "Epoch 39/50\n",
      "1417/1417 [==============================] - 28s 19ms/step - loss: 0.5207 - accuracy: 0.7928 - recall: 0.7109 - precision: 0.9053 - f1_score: 0.4576 - val_loss: 0.7493 - val_accuracy: 0.7421 - val_recall: 0.6452 - val_precision: 0.8661 - val_f1_score: 0.4260\n",
      "Epoch 40/50\n",
      "1417/1417 [==============================] - 28s 19ms/step - loss: 0.5168 - accuracy: 0.7935 - recall: 0.7122 - precision: 0.9068 - f1_score: 0.4504 - val_loss: 0.7328 - val_accuracy: 0.7452 - val_recall: 0.6710 - val_precision: 0.8422 - val_f1_score: 0.4340\n",
      "Epoch 41/50\n",
      "1417/1417 [==============================] - 28s 20ms/step - loss: 0.5181 - accuracy: 0.7951 - recall: 0.7135 - precision: 0.9058 - f1_score: 0.4514 - val_loss: 0.7407 - val_accuracy: 0.7427 - val_recall: 0.6437 - val_precision: 0.8782 - val_f1_score: 0.4339\n",
      "Epoch 42/50\n",
      "1417/1417 [==============================] - 28s 19ms/step - loss: 0.5141 - accuracy: 0.7955 - recall: 0.7127 - precision: 0.9068 - f1_score: 0.4560 - val_loss: 0.7581 - val_accuracy: 0.7411 - val_recall: 0.6505 - val_precision: 0.8611 - val_f1_score: 0.4399\n",
      "Epoch 43/50\n",
      "1417/1417 [==============================] - 27s 19ms/step - loss: 0.5158 - accuracy: 0.7938 - recall: 0.7133 - precision: 0.9079 - f1_score: 0.4622 - val_loss: 0.7213 - val_accuracy: 0.7688 - val_recall: 0.6474 - val_precision: 0.8948 - val_f1_score: 0.4058\n",
      "Epoch 44/50\n",
      "1417/1417 [==============================] - 27s 19ms/step - loss: 0.5181 - accuracy: 0.7921 - recall: 0.7105 - precision: 0.9075 - f1_score: 0.4521 - val_loss: 0.7133 - val_accuracy: 0.7507 - val_recall: 0.6396 - val_precision: 0.8918 - val_f1_score: 0.4551\n",
      "Epoch 45/50\n",
      "1417/1417 [==============================] - 27s 19ms/step - loss: 0.5137 - accuracy: 0.7959 - recall: 0.7117 - precision: 0.9087 - f1_score: 0.4620 - val_loss: 0.7542 - val_accuracy: 0.7381 - val_recall: 0.6545 - val_precision: 0.8486 - val_f1_score: 0.4299\n",
      "Epoch 46/50\n",
      "1417/1417 [==============================] - 26s 19ms/step - loss: 0.5147 - accuracy: 0.7956 - recall: 0.7139 - precision: 0.9078 - f1_score: 0.4577 - val_loss: 0.7100 - val_accuracy: 0.7469 - val_recall: 0.6446 - val_precision: 0.8866 - val_f1_score: 0.4333\n",
      "Epoch 47/50\n",
      "1417/1417 [==============================] - 27s 19ms/step - loss: 0.5147 - accuracy: 0.7928 - recall: 0.7106 - precision: 0.9071 - f1_score: 0.4612 - val_loss: 0.7260 - val_accuracy: 0.7538 - val_recall: 0.6497 - val_precision: 0.8851 - val_f1_score: 0.4265\n",
      "Epoch 48/50\n",
      "1417/1417 [==============================] - 27s 19ms/step - loss: 0.5126 - accuracy: 0.7953 - recall: 0.7137 - precision: 0.9073 - f1_score: 0.4572 - val_loss: 0.7505 - val_accuracy: 0.7648 - val_recall: 0.6516 - val_precision: 0.8843 - val_f1_score: 0.4073\n",
      "Epoch 49/50\n",
      "1417/1417 [==============================] - 27s 19ms/step - loss: 0.5147 - accuracy: 0.7942 - recall: 0.7120 - precision: 0.9087 - f1_score: 0.4561 - val_loss: 0.7136 - val_accuracy: 0.7507 - val_recall: 0.6564 - val_precision: 0.8842 - val_f1_score: 0.4395\n",
      "Epoch 50/50\n",
      "1417/1417 [==============================] - 27s 19ms/step - loss: 0.5143 - accuracy: 0.7928 - recall: 0.7114 - precision: 0.9096 - f1_score: 0.4559 - val_loss: 0.7297 - val_accuracy: 0.7630 - val_recall: 0.6464 - val_precision: 0.8928 - val_f1_score: 0.4493\n"
     ]
    }
   ],
   "source": [
    "#Define epochs and batch size\n",
    "epochs = 50\n",
    "batch_size = 32\n",
    "\n",
    "#Train the model\n",
    "history = model.fit(X_train, y_train, epochs=epochs, batch_size=batch_size, validation_data=(X_test, y_test))"
   ]
  },
  {
   "cell_type": "markdown",
   "metadata": {},
   "source": [
    "## Evaluate The Model"
   ]
  },
  {
   "cell_type": "code",
   "execution_count": 25,
   "metadata": {},
   "outputs": [
    {
     "name": "stdout",
     "output_type": "stream",
     "text": [
      "3730/3730 [==============================] - 21s 6ms/step - loss: 0.7297 - accuracy: 0.7630 - recall: 0.6464 - precision: 0.8928 - f1_score: 0.4493\n",
      "Test Loss: 0.7297492027282715\n",
      "Test Accuracy: 0.7629997730255127\n",
      "Test Recall: 0.6464145183563232\n",
      "Test Precision: 0.8928087949752808\n",
      "Test F1-Score: 0.7498906262523612\n"
     ]
    }
   ],
   "source": [
    "#Evaluate the model on test data\n",
    "loss, accuracy, recall, precision, f1_score = model.evaluate(X_test, y_test)\n",
    "f1_score = 2 * (precision * recall) / (precision + recall)\n",
    "\n",
    "print('Test Loss:', loss)\n",
    "print('Test Accuracy:', accuracy)\n",
    "print('Test Recall:', recall)\n",
    "print('Test Precision:', precision)\n",
    "print('Test F1-Score:', f1_score)"
   ]
  },
  {
   "cell_type": "code",
   "execution_count": 28,
   "metadata": {},
   "outputs": [
    {
     "name": "stdout",
     "output_type": "stream",
     "text": [
      "3730/3730 [==============================] - 6s 2ms/step\n"
     ]
    }
   ],
   "source": [
    "# make a predictions\n",
    "predictions = model.predict(X_test)"
   ]
  },
  {
   "cell_type": "code",
   "execution_count": 29,
   "metadata": {},
   "outputs": [],
   "source": [
    "# convert one-hot encode predictions to class labels\n",
    "predicted_classes = np.argmax(predictions, axis=1)\n",
    "y_test_categorical = np.argmax(y_test, axis=1)"
   ]
  },
  {
   "cell_type": "markdown",
   "metadata": {},
   "source": [
    "### Confusion Matrix"
   ]
  },
  {
   "cell_type": "code",
   "execution_count": 30,
   "metadata": {},
   "outputs": [],
   "source": [
    "# function to calculate recall from confusion matrix\n",
    "def calculate_recall(confusion_matrix):\n",
    "    num_class = len(confusion_matrix)\n",
    "    recalls = []\n",
    "\n",
    "    for i in range(num_class):\n",
    "        true_positive = confusion_matrix[i][i]\n",
    "        false_negative = sum(confusion_matrix[i]) - true_positive\n",
    "\n",
    "        recall = true_positive / (true_positive + false_negative)\n",
    "        recalls.append(recall)\n",
    "    \n",
    "    return recalls"
   ]
  },
  {
   "cell_type": "code",
   "execution_count": 31,
   "metadata": {},
   "outputs": [],
   "source": [
    "# function to display the recall score\n",
    "def display_recall(recalls):\n",
    "    print('Recall Scores for each class:')\n",
    "    print('Analysis:', recalls[0])\n",
    "    print('Backdoor:', recalls[1])\n",
    "    print('DoS:', recalls[2])\n",
    "    print('Exploits:', recalls[3])\n",
    "    print('Fuzzers:', recalls[4])\n",
    "    print('Generic:', recalls[5])\n",
    "    print('Reconnaissance:', recalls[6])\n",
    "    print('Shellcode:', recalls[7])\n",
    "    print('Worms:', recalls[8])"
   ]
  },
  {
   "cell_type": "code",
   "execution_count": 32,
   "metadata": {},
   "outputs": [],
   "source": [
    "from sklearn.metrics import confusion_matrix"
   ]
  },
  {
   "cell_type": "code",
   "execution_count": 33,
   "metadata": {},
   "outputs": [],
   "source": [
    "matrix = confusion_matrix(y_test_categorical, predicted_classes)\n",
    "matrix_df = pd.DataFrame(matrix, \n",
    "                         index= ['Analysis', 'Backdoor', 'DoS', 'Exploits', 'Fuzzers', 'Generic', 'Reconnaissance', 'Shellcode', 'Worms'], \n",
    "                         columns= ['Analysis', 'Backdoor', 'DoS', 'Exploits', 'Fuzzers', 'Generic', 'Reconnaissance', 'Shellcode', 'Worms'])"
   ]
  },
  {
   "cell_type": "code",
   "execution_count": 34,
   "metadata": {},
   "outputs": [
    {
     "data": {
      "image/png": "[encoded data removed]",
      "text/plain": [
       "<Figure size 2000x2000 with 2 Axes>"
      ]
     },
     "metadata": {},
     "output_type": "display_data"
    }
   ],
   "source": [
    "# Plotting Confusion Matrix\n",
    "plt.figure(figsize = (20, 20))\n",
    "sns.heatmap(matrix_df, fmt='.0f', annot=True)\n",
    "plt.title('Confusion Matrix (1D CNN)')\n",
    "plt.ylabel('Actual Values')\n",
    "plt.xlabel('Predicted Values')\n",
    "plt.show()"
   ]
  },
  {
   "cell_type": "code",
   "execution_count": 35,
   "metadata": {},
   "outputs": [
    {
     "name": "stdout",
     "output_type": "stream",
     "text": [
      "Recall Scores for each class:\n",
      "Analysis: 0.0\n",
      "Backdoor: 0.000572737686139748\n",
      "DoS: 0.2382156255097048\n",
      "Exploits: 0.834810998622177\n",
      "Fuzzers: 0.7595138583369996\n",
      "Generic: 0.9804245106127654\n",
      "Reconnaissance: 0.6606921536848127\n",
      "Shellcode: 0.24536628420123566\n",
      "Worms: 0.15384615384615385\n"
     ]
    }
   ],
   "source": [
    "recalls = calculate_recall(matrix)\n",
    "display_recall(recalls)"
   ]
  },
  {
   "cell_type": "markdown",
   "metadata": {},
   "source": [
    "## Save and load the model"
   ]
  },
  {
   "cell_type": "code",
   "execution_count": 2,
   "metadata": {},
   "outputs": [],
   "source": [
    "from keras.models import load_model"
   ]
  },
  {
   "cell_type": "code",
   "execution_count": 37,
   "metadata": {},
   "outputs": [],
   "source": [
    "# save the 1D CNN trained model using keras\n",
    "model.save('/Data/Visual Studio Code/Data Science/Notebook/UNSW-NB15/CNN/Imbalanced/GPU_Saved/CNN_2/cnn1d.keras')"
   ]
  },
  {
   "cell_type": "code",
   "execution_count": 3,
   "metadata": {},
   "outputs": [],
   "source": [
    "# load the 1D CNN trained model using keras\n",
    "model = load_model('/Data/Visual Studio Code/Data Science/Notebook/UNSW-NB15/CNN/Imbalanced/GPU_Saved/CNN_2/cnn1d.keras')"
   ]
  },
  {
   "cell_type": "markdown",
   "metadata": {},
   "source": [
    "## Save and load the predicted"
   ]
  },
  {
   "cell_type": "code",
   "execution_count": 39,
   "metadata": {},
   "outputs": [],
   "source": [
    "import pickle"
   ]
  },
  {
   "cell_type": "code",
   "execution_count": 40,
   "metadata": {},
   "outputs": [],
   "source": [
    "# save the decision tree trained model\n",
    "with open('/Data/Visual Studio Code/Data Science/Notebook/UNSW-NB15/CNN/Imbalanced/GPU_Saved/CNN_2/predicted_classes.pkl', 'wb') as model_file:\n",
    "    pickle.dump(predicted_classes, model_file)"
   ]
  },
  {
   "cell_type": "code",
   "execution_count": 41,
   "metadata": {},
   "outputs": [],
   "source": [
    "# load the decision tree trained model\n",
    "with open('/Data/Visual Studio Code/Data Science/Notebook/UNSW-NB15/CNN/Imbalanced/GPU_Saved/CNN_2/predicted_classes.pkl', 'rb') as model_file:\n",
    "    predicted_classes = pickle.load(model_file)"
   ]
  }
 ],
 "metadata": {
  "kernelspec": {
   "display_name": "myenv",
   "language": "python",
   "name": "python3"
  },
  "language_info": {
   "codemirror_mode": {
    "name": "ipython",
    "version": 3
   },
   "file_extension": ".py",
   "mimetype": "text/x-python",
   "name": "python",
   "nbconvert_exporter": "python",
   "pygments_lexer": "ipython3",
   "version": "3.10.13"
  },
  "orig_nbformat": 4
 },
 "nbformat": 4,
 "nbformat_minor": 2
}
