{
 "cells": [
  {
   "cell_type": "markdown",
   "metadata": {},
   "source": [
    "# Data Preprocessing"
   ]
  },
  {
   "cell_type": "code",
   "execution_count": 1,
   "metadata": {},
   "outputs": [],
   "source": [
    "import tensorflow as tf\n",
    "from keras.models import Sequential\n",
    "from keras.layers import Conv1D, MaxPooling1D, Flatten, Dense, Dropout, BatchNormalization\n",
    "from keras.metrics import Recall, Precision"
   ]
  },
  {
   "cell_type": "code",
   "execution_count": 2,
   "metadata": {},
   "outputs": [
    {
     "name": "stdout",
     "output_type": "stream",
     "text": [
      "Num GPUs Available:  1\n"
     ]
    }
   ],
   "source": [
    "#Check GPU device available\n",
    "print('Num GPUs Available: ', len(tf.config.list_physical_devices('GPU')))"
   ]
  },
  {
   "cell_type": "code",
   "execution_count": 3,
   "metadata": {},
   "outputs": [],
   "source": [
    "import pandas as pd\n",
    "import matplotlib.pyplot as plt\n",
    "import seaborn as sns\n",
    "import numpy as np"
   ]
  },
  {
   "cell_type": "code",
   "execution_count": 4,
   "metadata": {},
   "outputs": [],
   "source": [
    "# Load dataset\n",
    "data_train = pd.read_csv('/Data/Visual Studio Code/Data Science/Dataset/UNSW-NB15/UNSW_NB15_training-set.csv')\n",
    "data_test = pd.read_csv('/Data/Visual Studio Code/Data Science/Dataset/UNSW-NB15/UNSW_NB15_testing-set.csv')"
   ]
  },
  {
   "cell_type": "code",
   "execution_count": 5,
   "metadata": {},
   "outputs": [],
   "source": [
    "# Handle missing value and duplicate if any\n",
    "data_train.dropna(inplace=True)\n",
    "data_train.drop_duplicates(inplace=True)\n",
    "\n",
    "data_test.dropna(inplace=True)\n",
    "data_test.drop_duplicates(inplace=True)"
   ]
  },
  {
   "cell_type": "code",
   "execution_count": 6,
   "metadata": {},
   "outputs": [],
   "source": [
    "#Split Attack and Normal from dataframe\n",
    "data_train_attack = data_train[data_train['label'] == 1]\n",
    "data_test_attack = data_test[data_test['label'] == 1]\n",
    "\n",
    "#Optional\n",
    "#data_train_normal = data_train[data_train['label'] == 0]\n",
    "#data_test_normal = data_test[data_test['label'] == 0]"
   ]
  },
  {
   "cell_type": "code",
   "execution_count": 7,
   "metadata": {},
   "outputs": [],
   "source": [
    "# Drop id and label from train and test data\n",
    "data_train_attack = data_train_attack.drop('id', axis=1)\n",
    "data_train_attack = data_train_attack.drop('label', axis=1)\n",
    "\n",
    "data_test_attack = data_test_attack.drop('id', axis=1)\n",
    "data_test_attack = data_test_attack.drop('label', axis=1)"
   ]
  },
  {
   "cell_type": "code",
   "execution_count": 8,
   "metadata": {},
   "outputs": [
    {
     "name": "stdout",
     "output_type": "stream",
     "text": [
      "6\n",
      "5\n"
     ]
    }
   ],
   "source": [
    "print(data_train_attack['state'].nunique())\n",
    "print(data_test_attack['state'].nunique())"
   ]
  },
  {
   "cell_type": "code",
   "execution_count": 9,
   "metadata": {},
   "outputs": [
    {
     "name": "stdout",
     "output_type": "stream",
     "text": [
      "['INT' 'FIN' 'ACC' 'CON' 'REQ' 'CLO']\n",
      "['INT' 'FIN' 'CON' 'REQ' 'RST']\n"
     ]
    }
   ],
   "source": [
    "print(data_train_attack['state'].unique())\n",
    "print(data_test_attack['state'].unique())"
   ]
  },
  {
   "cell_type": "code",
   "execution_count": 10,
   "metadata": {},
   "outputs": [],
   "source": [
    "#Drop ACC, CLO, and RST from data\n",
    "data_train_attack = data_train_attack[(data_train_attack['state'] != 'ACC') & (data_train_attack['state'] != 'CLO')]\n",
    "data_test_attack = data_test_attack[(data_test_attack['state'] != 'RST')]"
   ]
  },
  {
   "cell_type": "code",
   "execution_count": 11,
   "metadata": {},
   "outputs": [
    {
     "name": "stdout",
     "output_type": "stream",
     "text": [
      "['INT' 'FIN' 'CON' 'REQ']\n",
      "['INT' 'FIN' 'CON' 'REQ']\n"
     ]
    }
   ],
   "source": [
    "print(data_train_attack['state'].unique())\n",
    "print(data_test_attack['state'].unique())"
   ]
  },
  {
   "cell_type": "markdown",
   "metadata": {},
   "source": [
    "## Encode Train and Test Data"
   ]
  },
  {
   "cell_type": "code",
   "execution_count": 12,
   "metadata": {},
   "outputs": [
    {
     "data": {
      "text/plain": [
       "['proto', 'state', 'service']"
      ]
     },
     "execution_count": 12,
     "metadata": {},
     "output_type": "execute_result"
    }
   ],
   "source": [
    "#column to encode\n",
    "cols = ['proto','state','service']\n",
    "cols"
   ]
  },
  {
   "cell_type": "code",
   "execution_count": 13,
   "metadata": {},
   "outputs": [],
   "source": [
    "#One-hot Encoding\n",
    "# Encode train data\n",
    "data_train_attack = pd.get_dummies(data_train_attack, columns=cols)\n",
    "\n",
    "# Encode test data\n",
    "data_test_attack = pd.get_dummies(data_test_attack, columns=cols)"
   ]
  },
  {
   "cell_type": "code",
   "execution_count": 14,
   "metadata": {},
   "outputs": [],
   "source": [
    "train_attack_cat = data_train_attack.pop('attack_cat')\n",
    "test_attack_cat = data_test_attack.pop('attack_cat')"
   ]
  },
  {
   "cell_type": "markdown",
   "metadata": {},
   "source": [
    "## Normalization"
   ]
  },
  {
   "cell_type": "code",
   "execution_count": 15,
   "metadata": {},
   "outputs": [],
   "source": [
    "# Min-Max Normalization\n",
    "from sklearn.preprocessing import MinMaxScaler\n",
    "\n",
    "scaler = MinMaxScaler()\n",
    "cols_to_norm = ['dur', 'spkts', 'dpkts', 'sbytes', 'dbytes', 'rate', 'sttl', 'dttl', 'sload', \n",
    "                'dload', 'sloss', 'dloss', 'sinpkt', 'dinpkt', 'sjit', 'djit', 'swin', 'stcpb', 'dtcpb', 'dwin', 'tcprtt', 'synack', \n",
    "                'ackdat', 'smean', 'dmean', 'trans_depth', 'response_body_len', 'ct_srv_src', 'ct_state_ttl', 'ct_dst_ltm', \n",
    "                'ct_src_dport_ltm', 'ct_dst_sport_ltm', 'ct_dst_src_ltm', 'is_ftp_login', 'ct_ftp_cmd', 'ct_flw_http_mthd', 'ct_src_ltm', \n",
    "                'ct_srv_dst', 'is_sm_ips_ports']\n",
    "\n",
    "data_train_attack[cols_to_norm] = scaler.fit_transform(data_train_attack[cols_to_norm])\n",
    "data_test_attack[cols_to_norm] = scaler.fit_transform(data_test_attack[cols_to_norm])"
   ]
  },
  {
   "cell_type": "markdown",
   "metadata": {},
   "source": [
    "## Feature Selection"
   ]
  },
  {
   "cell_type": "code",
   "execution_count": 16,
   "metadata": {},
   "outputs": [
    {
     "data": {
      "text/plain": [
       "dur               float64\n",
       "spkts             float64\n",
       "dpkts             float64\n",
       "sbytes            float64\n",
       "dbytes            float64\n",
       "                   ...   \n",
       "service_radius       bool\n",
       "service_smtp         bool\n",
       "service_snmp         bool\n",
       "service_ssh          bool\n",
       "service_ssl          bool\n",
       "Length: 181, dtype: object"
      ]
     },
     "execution_count": 16,
     "metadata": {},
     "output_type": "execute_result"
    }
   ],
   "source": [
    "#Feature Selection\n",
    "feature = data_train_attack.drop(['dinpkt', 'ct_ftp_cmd', 'ct_src_dport_ltm', 'is_sm_ips_ports'], axis=1)\n",
    "feature.dtypes"
   ]
  },
  {
   "cell_type": "markdown",
   "metadata": {},
   "source": [
    "# Split Data"
   ]
  },
  {
   "cell_type": "code",
   "execution_count": 17,
   "metadata": {},
   "outputs": [
    {
     "data": {
      "text/plain": [
       "((45329, 181), (45329,), (119329, 181), (119329,))"
      ]
     },
     "execution_count": 17,
     "metadata": {},
     "output_type": "execute_result"
    }
   ],
   "source": [
    "#Splitting the dataset into dependent and independent feature\n",
    "X_train = feature\n",
    "y_train = train_attack_cat\n",
    "\n",
    "X_test = data_test_attack.drop(columns=['dinpkt', 'ct_ftp_cmd', 'ct_src_dport_ltm', 'is_sm_ips_ports'])\n",
    "y_test = test_attack_cat\n",
    "\n",
    "X_train.shape, y_train.shape, X_test.shape, y_test.shape"
   ]
  },
  {
   "cell_type": "markdown",
   "metadata": {},
   "source": [
    "# Model Architecture"
   ]
  },
  {
   "cell_type": "markdown",
   "metadata": {},
   "source": [
    "## 1D-CNN (1 layer) Model"
   ]
  },
  {
   "cell_type": "code",
   "execution_count": 18,
   "metadata": {},
   "outputs": [],
   "source": [
    "# Define the input shape\n",
    "input_shape = (181, 1)\n",
    "\n",
    "# Create the sequential model\n",
    "model = Sequential()\n",
    "\n",
    "# Convolutional layers\n",
    "model.add(Conv1D(filters=32, kernel_size=5, activation='sigmoid', input_shape=input_shape))\n",
    "\n",
    "# MaxPooling1D layer\n",
    "model.add(MaxPooling1D(pool_size=2, strides=1))\n",
    "\n",
    "# Flatten layer\n",
    "model.add(Flatten())\n",
    "\n",
    "# Batch Normalization layer\n",
    "model.add(BatchNormalization(axis=-1))\n",
    "\n",
    "# Dropout layer with dropout 0.5\n",
    "model.add(Dropout(0.5))\n",
    "\n",
    "# Two Fully-connected layers\n",
    "model.add(Dense(32, activation='relu'))\n",
    "model.add(Dense(16, activation='relu'))\n",
    "\n",
    "# Output\n",
    "model.add(Dense(units=9, activation='softmax'))\n",
    "\n",
    "# Compile the model\n",
    "model.compile(optimizer='adam', loss='categorical_crossentropy', metrics=['accuracy', Recall()])"
   ]
  },
  {
   "cell_type": "code",
   "execution_count": 19,
   "metadata": {},
   "outputs": [
    {
     "name": "stdout",
     "output_type": "stream",
     "text": [
      "Model: \"sequential\"\n",
      "_________________________________________________________________\n",
      " Layer (type)                Output Shape              Param #   \n",
      "=================================================================\n",
      " conv1d (Conv1D)             (None, 177, 32)           192       \n",
      "                                                                 \n",
      " max_pooling1d (MaxPooling1D  (None, 176, 32)          0         \n",
      " )                                                               \n",
      "                                                                 \n",
      " flatten (Flatten)           (None, 5632)              0         \n",
      "                                                                 \n",
      " batch_normalization (BatchN  (None, 5632)             22528     \n",
      " ormalization)                                                   \n",
      "                                                                 \n",
      " dropout (Dropout)           (None, 5632)              0         \n",
      "                                                                 \n",
      " dense (Dense)               (None, 32)                180256    \n",
      "                                                                 \n",
      " dense_1 (Dense)             (None, 16)                528       \n",
      "                                                                 \n",
      " dense_2 (Dense)             (None, 9)                 153       \n",
      "                                                                 \n",
      "=================================================================\n",
      "Total params: 203,657\n",
      "Trainable params: 192,393\n",
      "Non-trainable params: 11,264\n",
      "_________________________________________________________________\n"
     ]
    }
   ],
   "source": [
    "#Print the model summary\n",
    "model.summary()"
   ]
  },
  {
   "cell_type": "markdown",
   "metadata": {},
   "source": [
    "## Train the model"
   ]
  },
  {
   "cell_type": "code",
   "execution_count": 20,
   "metadata": {},
   "outputs": [],
   "source": [
    "from keras.utils import to_categorical\n",
    "from sklearn.preprocessing import LabelEncoder"
   ]
  },
  {
   "cell_type": "code",
   "execution_count": 21,
   "metadata": {},
   "outputs": [],
   "source": [
    "le = LabelEncoder()\n",
    "\n",
    "y_train = le.fit_transform(y_train)\n",
    "y_test = le.fit_transform(y_test)"
   ]
  },
  {
   "cell_type": "code",
   "execution_count": 22,
   "metadata": {},
   "outputs": [],
   "source": [
    "num_class = 9\n",
    "y_train = to_categorical(y_train, num_class)\n",
    "y_test = to_categorical(y_test, num_class)"
   ]
  },
  {
   "cell_type": "code",
   "execution_count": 23,
   "metadata": {},
   "outputs": [],
   "source": [
    "X_train = np.array(X_train, dtype=np.float32)\n",
    "X_test = np.array(X_test, dtype=np.float32)"
   ]
  },
  {
   "cell_type": "code",
   "execution_count": 24,
   "metadata": {},
   "outputs": [
    {
     "name": "stdout",
     "output_type": "stream",
     "text": [
      "Epoch 1/50\n",
      "1417/1417 [==============================] - 26s 14ms/step - loss: 0.6968 - accuracy: 0.7420 - recall: 0.6425 - val_loss: 0.7191 - val_accuracy: 0.7445 - val_recall: 0.6147\n",
      "Epoch 2/50\n",
      "1417/1417 [==============================] - 19s 14ms/step - loss: 0.6203 - accuracy: 0.7628 - recall: 0.6709 - val_loss: 0.7456 - val_accuracy: 0.7315 - val_recall: 0.6202\n",
      "Epoch 3/50\n",
      "1417/1417 [==============================] - 20s 14ms/step - loss: 0.5992 - accuracy: 0.7692 - recall: 0.6801 - val_loss: 0.7299 - val_accuracy: 0.7135 - val_recall: 0.6072\n",
      "Epoch 4/50\n",
      "1417/1417 [==============================] - 19s 14ms/step - loss: 0.5882 - accuracy: 0.7729 - recall: 0.6848 - val_loss: 0.7391 - val_accuracy: 0.7188 - val_recall: 0.6289\n",
      "Epoch 5/50\n",
      "1417/1417 [==============================] - 19s 13ms/step - loss: 0.5812 - accuracy: 0.7731 - recall: 0.6865 - val_loss: 0.7071 - val_accuracy: 0.7444 - val_recall: 0.6351\n",
      "Epoch 6/50\n",
      "1417/1417 [==============================] - 19s 14ms/step - loss: 0.5737 - accuracy: 0.7762 - recall: 0.6892 - val_loss: 0.7431 - val_accuracy: 0.7386 - val_recall: 0.6324\n",
      "Epoch 7/50\n",
      "1417/1417 [==============================] - 19s 13ms/step - loss: 0.5687 - accuracy: 0.7788 - recall: 0.6931 - val_loss: 0.8326 - val_accuracy: 0.6903 - val_recall: 0.6158\n",
      "Epoch 8/50\n",
      "1417/1417 [==============================] - 19s 13ms/step - loss: 0.5662 - accuracy: 0.7781 - recall: 0.6938 - val_loss: 0.7480 - val_accuracy: 0.7203 - val_recall: 0.6096\n",
      "Epoch 9/50\n",
      "1417/1417 [==============================] - 19s 13ms/step - loss: 0.5612 - accuracy: 0.7783 - recall: 0.6946 - val_loss: 0.7231 - val_accuracy: 0.7267 - val_recall: 0.6481\n",
      "Epoch 10/50\n",
      "1417/1417 [==============================] - 19s 13ms/step - loss: 0.5572 - accuracy: 0.7805 - recall: 0.6973 - val_loss: 0.7829 - val_accuracy: 0.7148 - val_recall: 0.6157\n",
      "Epoch 11/50\n",
      "1417/1417 [==============================] - 19s 14ms/step - loss: 0.5538 - accuracy: 0.7841 - recall: 0.7003 - val_loss: 0.7198 - val_accuracy: 0.7486 - val_recall: 0.6233\n",
      "Epoch 12/50\n",
      "1417/1417 [==============================] - 19s 13ms/step - loss: 0.5517 - accuracy: 0.7816 - recall: 0.7005 - val_loss: 0.7024 - val_accuracy: 0.7565 - val_recall: 0.6392\n",
      "Epoch 13/50\n",
      "1417/1417 [==============================] - 19s 14ms/step - loss: 0.5486 - accuracy: 0.7829 - recall: 0.6992 - val_loss: 0.7146 - val_accuracy: 0.7301 - val_recall: 0.6363\n",
      "Epoch 14/50\n",
      "1417/1417 [==============================] - 19s 14ms/step - loss: 0.5454 - accuracy: 0.7854 - recall: 0.7041 - val_loss: 0.6975 - val_accuracy: 0.7423 - val_recall: 0.6388\n",
      "Epoch 15/50\n",
      "1417/1417 [==============================] - 20s 14ms/step - loss: 0.5435 - accuracy: 0.7843 - recall: 0.7029 - val_loss: 0.7502 - val_accuracy: 0.7197 - val_recall: 0.6314\n",
      "Epoch 16/50\n",
      "1417/1417 [==============================] - 20s 14ms/step - loss: 0.5418 - accuracy: 0.7840 - recall: 0.7045 - val_loss: 0.7194 - val_accuracy: 0.7366 - val_recall: 0.6379\n",
      "Epoch 17/50\n",
      "1417/1417 [==============================] - 19s 14ms/step - loss: 0.5391 - accuracy: 0.7869 - recall: 0.7045 - val_loss: 0.8017 - val_accuracy: 0.7066 - val_recall: 0.6137\n",
      "Epoch 18/50\n",
      "1417/1417 [==============================] - 19s 14ms/step - loss: 0.5376 - accuracy: 0.7876 - recall: 0.7078 - val_loss: 0.7131 - val_accuracy: 0.7542 - val_recall: 0.6395\n",
      "Epoch 19/50\n",
      "1417/1417 [==============================] - 20s 14ms/step - loss: 0.5357 - accuracy: 0.7886 - recall: 0.7057 - val_loss: 0.7110 - val_accuracy: 0.7410 - val_recall: 0.6524\n",
      "Epoch 20/50\n",
      "1417/1417 [==============================] - 20s 14ms/step - loss: 0.5342 - accuracy: 0.7878 - recall: 0.7089 - val_loss: 0.7087 - val_accuracy: 0.7402 - val_recall: 0.6426\n",
      "Epoch 21/50\n",
      "1417/1417 [==============================] - 19s 14ms/step - loss: 0.5343 - accuracy: 0.7865 - recall: 0.7071 - val_loss: 0.7007 - val_accuracy: 0.7452 - val_recall: 0.6449\n",
      "Epoch 22/50\n",
      "1417/1417 [==============================] - 19s 14ms/step - loss: 0.5309 - accuracy: 0.7901 - recall: 0.7097 - val_loss: 0.7252 - val_accuracy: 0.7338 - val_recall: 0.6438\n",
      "Epoch 23/50\n",
      "1417/1417 [==============================] - 19s 14ms/step - loss: 0.5285 - accuracy: 0.7906 - recall: 0.7120 - val_loss: 0.7247 - val_accuracy: 0.7366 - val_recall: 0.6380\n",
      "Epoch 24/50\n",
      "1417/1417 [==============================] - 19s 14ms/step - loss: 0.5273 - accuracy: 0.7897 - recall: 0.7115 - val_loss: 0.7168 - val_accuracy: 0.7475 - val_recall: 0.6365\n",
      "Epoch 25/50\n",
      "1417/1417 [==============================] - 19s 14ms/step - loss: 0.5280 - accuracy: 0.7885 - recall: 0.7098 - val_loss: 0.7437 - val_accuracy: 0.7313 - val_recall: 0.6304\n",
      "Epoch 26/50\n",
      "1417/1417 [==============================] - 19s 14ms/step - loss: 0.5251 - accuracy: 0.7913 - recall: 0.7126 - val_loss: 0.7263 - val_accuracy: 0.7420 - val_recall: 0.6342\n",
      "Epoch 27/50\n",
      "1417/1417 [==============================] - 19s 14ms/step - loss: 0.5246 - accuracy: 0.7904 - recall: 0.7118 - val_loss: 0.7039 - val_accuracy: 0.7553 - val_recall: 0.6430\n",
      "Epoch 28/50\n",
      "1417/1417 [==============================] - 19s 14ms/step - loss: 0.5227 - accuracy: 0.7899 - recall: 0.7110 - val_loss: 0.7233 - val_accuracy: 0.7368 - val_recall: 0.6402\n",
      "Epoch 29/50\n",
      "1417/1417 [==============================] - 20s 14ms/step - loss: 0.5211 - accuracy: 0.7924 - recall: 0.7117 - val_loss: 0.7373 - val_accuracy: 0.7335 - val_recall: 0.6736\n",
      "Epoch 30/50\n",
      "1417/1417 [==============================] - 19s 14ms/step - loss: 0.5225 - accuracy: 0.7923 - recall: 0.7131 - val_loss: 0.7186 - val_accuracy: 0.7418 - val_recall: 0.6352\n",
      "Epoch 31/50\n",
      "1417/1417 [==============================] - 19s 14ms/step - loss: 0.5208 - accuracy: 0.7921 - recall: 0.7136 - val_loss: 0.7266 - val_accuracy: 0.7418 - val_recall: 0.6405\n",
      "Epoch 32/50\n",
      "1417/1417 [==============================] - 19s 14ms/step - loss: 0.5182 - accuracy: 0.7935 - recall: 0.7141 - val_loss: 0.6998 - val_accuracy: 0.7498 - val_recall: 0.6423\n",
      "Epoch 33/50\n",
      "1417/1417 [==============================] - 19s 14ms/step - loss: 0.5193 - accuracy: 0.7917 - recall: 0.7110 - val_loss: 0.7033 - val_accuracy: 0.7563 - val_recall: 0.6463\n",
      "Epoch 34/50\n",
      "1417/1417 [==============================] - 19s 14ms/step - loss: 0.5190 - accuracy: 0.7934 - recall: 0.7124 - val_loss: 0.7137 - val_accuracy: 0.7518 - val_recall: 0.6415\n",
      "Epoch 35/50\n",
      "1417/1417 [==============================] - 19s 14ms/step - loss: 0.5181 - accuracy: 0.7927 - recall: 0.7115 - val_loss: 0.7065 - val_accuracy: 0.7577 - val_recall: 0.6490\n",
      "Epoch 36/50\n",
      "1417/1417 [==============================] - 19s 14ms/step - loss: 0.5147 - accuracy: 0.7953 - recall: 0.7145 - val_loss: 0.7211 - val_accuracy: 0.7555 - val_recall: 0.6586\n",
      "Epoch 37/50\n",
      "1417/1417 [==============================] - 20s 14ms/step - loss: 0.5154 - accuracy: 0.7955 - recall: 0.7153 - val_loss: 0.7239 - val_accuracy: 0.7342 - val_recall: 0.6537\n",
      "Epoch 38/50\n",
      "1417/1417 [==============================] - 19s 14ms/step - loss: 0.5156 - accuracy: 0.7946 - recall: 0.7139 - val_loss: 0.7234 - val_accuracy: 0.7402 - val_recall: 0.6617\n",
      "Epoch 39/50\n",
      "1417/1417 [==============================] - 19s 14ms/step - loss: 0.5151 - accuracy: 0.7914 - recall: 0.7139 - val_loss: 0.7092 - val_accuracy: 0.7459 - val_recall: 0.6708\n",
      "Epoch 40/50\n",
      "1417/1417 [==============================] - 19s 14ms/step - loss: 0.5140 - accuracy: 0.7944 - recall: 0.7161 - val_loss: 0.7095 - val_accuracy: 0.7624 - val_recall: 0.6431\n",
      "Epoch 41/50\n",
      "1417/1417 [==============================] - 20s 14ms/step - loss: 0.5128 - accuracy: 0.7941 - recall: 0.7144 - val_loss: 0.7240 - val_accuracy: 0.7652 - val_recall: 0.6530\n",
      "Epoch 42/50\n",
      "1417/1417 [==============================] - 20s 14ms/step - loss: 0.5121 - accuracy: 0.7956 - recall: 0.7166 - val_loss: 0.7137 - val_accuracy: 0.7475 - val_recall: 0.6509\n",
      "Epoch 43/50\n",
      "1417/1417 [==============================] - 20s 14ms/step - loss: 0.5123 - accuracy: 0.7941 - recall: 0.7148 - val_loss: 0.7217 - val_accuracy: 0.7503 - val_recall: 0.6536\n",
      "Epoch 44/50\n",
      "1417/1417 [==============================] - 19s 14ms/step - loss: 0.5108 - accuracy: 0.7978 - recall: 0.7182 - val_loss: 0.7319 - val_accuracy: 0.7391 - val_recall: 0.6421\n",
      "Epoch 45/50\n",
      "1417/1417 [==============================] - 20s 14ms/step - loss: 0.5098 - accuracy: 0.7968 - recall: 0.7169 - val_loss: 0.7385 - val_accuracy: 0.7614 - val_recall: 0.6442\n",
      "Epoch 46/50\n",
      "1417/1417 [==============================] - 20s 14ms/step - loss: 0.5099 - accuracy: 0.7970 - recall: 0.7151 - val_loss: 0.7272 - val_accuracy: 0.7447 - val_recall: 0.6511\n",
      "Epoch 47/50\n",
      "1417/1417 [==============================] - 19s 14ms/step - loss: 0.5103 - accuracy: 0.7943 - recall: 0.7148 - val_loss: 0.7265 - val_accuracy: 0.7468 - val_recall: 0.6515\n",
      "Epoch 48/50\n",
      "1417/1417 [==============================] - 20s 14ms/step - loss: 0.5086 - accuracy: 0.7948 - recall: 0.7166 - val_loss: 0.7311 - val_accuracy: 0.7378 - val_recall: 0.6485\n",
      "Epoch 49/50\n",
      "1417/1417 [==============================] - 19s 14ms/step - loss: 0.5093 - accuracy: 0.7953 - recall: 0.7155 - val_loss: 0.7217 - val_accuracy: 0.7480 - val_recall: 0.6462\n",
      "Epoch 50/50\n",
      "1417/1417 [==============================] - 19s 14ms/step - loss: 0.5070 - accuracy: 0.7953 - recall: 0.7143 - val_loss: 0.7428 - val_accuracy: 0.7440 - val_recall: 0.6380\n"
     ]
    }
   ],
   "source": [
    "#Define epochs and batch size\n",
    "epochs = 50\n",
    "batch_size = 32\n",
    "\n",
    "#Train the model\n",
    "history = model.fit(X_train, y_train, epochs=epochs, batch_size=batch_size, validation_data=(X_test, y_test))"
   ]
  },
  {
   "cell_type": "markdown",
   "metadata": {},
   "source": [
    "## Evaluate The Model"
   ]
  },
  {
   "cell_type": "code",
   "execution_count": 25,
   "metadata": {},
   "outputs": [
    {
     "name": "stdout",
     "output_type": "stream",
     "text": [
      "3730/3730 [==============================] - 12s 3ms/step - loss: 0.7428 - accuracy: 0.7440 - recall: 0.6380\n",
      "Test Loss: 0.7427932024002075\n",
      "Test Accuracy: 0.7439767122268677\n",
      "Test Recall: 0.6379505395889282\n"
     ]
    }
   ],
   "source": [
    "#Evaluate the model on test data\n",
    "loss, accuracy, recall = model.evaluate(X_test, y_test)\n",
    "print('Test Loss:', loss)\n",
    "print('Test Accuracy:', accuracy)\n",
    "print('Test Recall:', recall)"
   ]
  },
  {
   "cell_type": "code",
   "execution_count": 26,
   "metadata": {},
   "outputs": [
    {
     "name": "stdout",
     "output_type": "stream",
     "text": [
      "3730/3730 [==============================] - 6s 1ms/step\n"
     ]
    }
   ],
   "source": [
    "# make a predictions\n",
    "predictions = model.predict(X_test)"
   ]
  },
  {
   "cell_type": "code",
   "execution_count": 27,
   "metadata": {},
   "outputs": [],
   "source": [
    "# convert one-hot encode predictions to class labels\n",
    "predicted_classes = np.argmax(predictions, axis=1)\n",
    "y_test_categorical = np.argmax(y_test, axis=1)"
   ]
  },
  {
   "cell_type": "markdown",
   "metadata": {},
   "source": [
    "### Confusion Matrix"
   ]
  },
  {
   "cell_type": "code",
   "execution_count": 28,
   "metadata": {},
   "outputs": [],
   "source": [
    "# function to calculate recall from confusion matrix\n",
    "def calculate_recall(confusion_matrix):\n",
    "    num_class = len(confusion_matrix)\n",
    "    recalls = []\n",
    "\n",
    "    for i in range(num_class):\n",
    "        true_positive = confusion_matrix[i][i]\n",
    "        false_negative = sum(confusion_matrix[i]) - true_positive\n",
    "\n",
    "        recall = true_positive / (true_positive + false_negative)\n",
    "        recalls.append(recall)\n",
    "    \n",
    "    return recalls"
   ]
  },
  {
   "cell_type": "code",
   "execution_count": 29,
   "metadata": {},
   "outputs": [],
   "source": [
    "# function to display the recall score\n",
    "def display_recall(recalls):\n",
    "    print('Recall Scores for each class:')\n",
    "    print('Analysis:', recalls[0])\n",
    "    print('Backdoor:', recalls[1])\n",
    "    print('DoS:', recalls[2])\n",
    "    print('Exploits:', recalls[3])\n",
    "    print('Fuzzers:', recalls[4])\n",
    "    print('Generic:', recalls[5])\n",
    "    print('Reconnaissance:', recalls[6])\n",
    "    print('Shellcode:', recalls[7])\n",
    "    print('Worms:', recalls[8])"
   ]
  },
  {
   "cell_type": "code",
   "execution_count": 30,
   "metadata": {},
   "outputs": [],
   "source": [
    "from sklearn.metrics import confusion_matrix"
   ]
  },
  {
   "cell_type": "code",
   "execution_count": 31,
   "metadata": {},
   "outputs": [],
   "source": [
    "matrix = confusion_matrix(y_test_categorical, predicted_classes)\n",
    "matrix_df = pd.DataFrame(matrix, \n",
    "                         index= ['Analysis', 'Backdoor', 'DoS', 'Exploits', 'Fuzzers', 'Generic', 'Reconnaissance', 'Shellcode', 'Worms'], \n",
    "                         columns= ['Analysis', 'Backdoor', 'DoS', 'Exploits', 'Fuzzers', 'Generic', 'Reconnaissance', 'Shellcode', 'Worms'])"
   ]
  },
  {
   "cell_type": "code",
   "execution_count": 32,
   "metadata": {},
   "outputs": [
    {
     "data": {
      "image/png": "[encoded data removed]",
      "text/plain": [
       "<Figure size 2000x2000 with 2 Axes>"
      ]
     },
     "metadata": {},
     "output_type": "display_data"
    }
   ],
   "source": [
    "# Plotting Confusion Matrix\n",
    "plt.figure(figsize = (20, 20))\n",
    "sns.heatmap(matrix_df, fmt='.0f', annot=True)\n",
    "plt.title('Confusion Matrix (1D CNN)')\n",
    "plt.ylabel('Actual Values')\n",
    "plt.xlabel('Predicted Values')\n",
    "plt.show()"
   ]
  },
  {
   "cell_type": "code",
   "execution_count": 33,
   "metadata": {},
   "outputs": [
    {
     "name": "stdout",
     "output_type": "stream",
     "text": [
      "Recall Scores for each class:\n",
      "Analysis: 0.0\n",
      "Backdoor: 0.0\n",
      "DoS: 0.5881585385744577\n",
      "Exploits: 0.6439825076379321\n",
      "Fuzzers: 0.7324571051473823\n",
      "Generic: 0.9798994974874372\n",
      "Reconnaissance: 0.6934884164362666\n",
      "Shellcode: 0.22859664607237423\n",
      "Worms: 0.14615384615384616\n"
     ]
    }
   ],
   "source": [
    "recalls = calculate_recall(matrix)\n",
    "display_recall(recalls)"
   ]
  },
  {
   "cell_type": "markdown",
   "metadata": {},
   "source": [
    "## Save and load the model"
   ]
  },
  {
   "cell_type": "code",
   "execution_count": 34,
   "metadata": {},
   "outputs": [],
   "source": [
    "from keras.models import load_model"
   ]
  },
  {
   "cell_type": "code",
   "execution_count": 35,
   "metadata": {},
   "outputs": [],
   "source": [
    "# save the 1D CNN trained model using keras\n",
    "model.save('/Data/Visual Studio Code/Data Science/Notebook/UNSW-NB15/CNN/Imbalanced/GPU_Saved/CNN_2/cnn1d.keras')"
   ]
  },
  {
   "cell_type": "code",
   "execution_count": 36,
   "metadata": {},
   "outputs": [],
   "source": [
    "# load the 1D CNN trained model using keras\n",
    "model = load_model('/Data/Visual Studio Code/Data Science/Notebook/UNSW-NB15/CNN/Imbalanced/GPU_Saved/CNN_2/cnn1d.keras')"
   ]
  },
  {
   "cell_type": "markdown",
   "metadata": {},
   "source": [
    "## Save and load the predicted"
   ]
  },
  {
   "cell_type": "code",
   "execution_count": 37,
   "metadata": {},
   "outputs": [],
   "source": [
    "import pickle"
   ]
  },
  {
   "cell_type": "code",
   "execution_count": 38,
   "metadata": {},
   "outputs": [],
   "source": [
    "# save the decision tree trained model\n",
    "with open('/Data/Visual Studio Code/Data Science/Notebook/UNSW-NB15/CNN/Imbalanced/GPU_Saved/CNN_2/predicted_classes.pkl', 'wb') as model_file:\n",
    "    pickle.dump(predicted_classes, model_file)"
   ]
  },
  {
   "cell_type": "code",
   "execution_count": 39,
   "metadata": {},
   "outputs": [],
   "source": [
    "# load the decision tree trained model\n",
    "with open('/Data/Visual Studio Code/Data Science/Notebook/UNSW-NB15/CNN/Imbalanced/GPU_Saved/CNN_2/predicted_classes.pkl', 'rb') as model_file:\n",
    "    predicted_classes = pickle.load(model_file)"
   ]
  }
 ],
 "metadata": {
  "kernelspec": {
   "display_name": "myenv",
   "language": "python",
   "name": "python3"
  },
  "language_info": {
   "codemirror_mode": {
    "name": "ipython",
    "version": 3
   },
   "file_extension": ".py",
   "mimetype": "text/x-python",
   "name": "python",
   "nbconvert_exporter": "python",
   "pygments_lexer": "ipython3",
   "version": "3.10.13"
  },
  "orig_nbformat": 4
 },
 "nbformat": 4,
 "nbformat_minor": 2
}
