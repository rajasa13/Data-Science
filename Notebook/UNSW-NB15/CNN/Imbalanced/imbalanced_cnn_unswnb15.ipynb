{
 "cells": [
  {
   "cell_type": "markdown",
   "metadata": {},
   "source": [
    "# Data Preprocessing"
   ]
  },
  {
   "cell_type": "code",
   "execution_count": 1,
   "metadata": {},
   "outputs": [],
   "source": [
    "import tensorflow as tf"
   ]
  },
  {
   "cell_type": "code",
   "execution_count": 2,
   "metadata": {},
   "outputs": [
    {
     "name": "stdout",
     "output_type": "stream",
     "text": [
      "Num GPUs Available:  0\n"
     ]
    }
   ],
   "source": [
    "#Check GPU device available\n",
    "print('Num GPUs Available: ', len(tf.config.list_physical_devices('GPU')))"
   ]
  },
  {
   "cell_type": "code",
   "execution_count": 3,
   "metadata": {},
   "outputs": [
    {
     "data": {
      "text/plain": [
       "False"
      ]
     },
     "execution_count": 3,
     "metadata": {},
     "output_type": "execute_result"
    }
   ],
   "source": [
    "tf.test.is_built_with_cuda()"
   ]
  },
  {
   "cell_type": "code",
   "execution_count": 1,
   "metadata": {},
   "outputs": [],
   "source": [
    "import pandas as pd\n",
    "import matplotlib.pyplot as plt\n",
    "import seaborn as sns\n",
    "import numpy as np"
   ]
  },
  {
   "cell_type": "code",
   "execution_count": 2,
   "metadata": {},
   "outputs": [],
   "source": [
    "# Load dataset\n",
    "data_train = pd.read_csv('/Data/Visual Studio Code/Data Science/Dataset/UNSW-NB15/UNSW_NB15_training-set.csv')\n",
    "data_test = pd.read_csv('/Data/Visual Studio Code/Data Science/Dataset/UNSW-NB15/UNSW_NB15_testing-set.csv')"
   ]
  },
  {
   "cell_type": "code",
   "execution_count": 3,
   "metadata": {},
   "outputs": [],
   "source": [
    "# Handle missing value and duplicate if any\n",
    "data_train.dropna(inplace=True)\n",
    "data_train.drop_duplicates(inplace=True)\n",
    "\n",
    "data_test.dropna(inplace=True)\n",
    "data_test.drop_duplicates(inplace=True)"
   ]
  },
  {
   "cell_type": "code",
   "execution_count": 4,
   "metadata": {},
   "outputs": [],
   "source": [
    "#Split Attack and Normal from dataframe\n",
    "data_train_attack = data_train[data_train['label'] == 1]\n",
    "data_test_attack = data_test[data_test['label'] == 1]\n",
    "\n",
    "#Optional\n",
    "#data_train_normal = data_train[data_train['label'] == 0]\n",
    "#data_test_normal = data_test[data_test['label'] == 0]"
   ]
  },
  {
   "cell_type": "code",
   "execution_count": 5,
   "metadata": {},
   "outputs": [],
   "source": [
    "# Drop id and label from train and test data\n",
    "data_train_attack = data_train_attack.drop('id', axis=1)\n",
    "data_train_attack = data_train_attack.drop('label', axis=1)\n",
    "\n",
    "data_test_attack = data_test_attack.drop('id', axis=1)\n",
    "data_test_attack = data_test_attack.drop('label', axis=1)"
   ]
  },
  {
   "cell_type": "code",
   "execution_count": 6,
   "metadata": {},
   "outputs": [
    {
     "name": "stdout",
     "output_type": "stream",
     "text": [
      "6\n",
      "5\n"
     ]
    }
   ],
   "source": [
    "print(data_train_attack['state'].nunique())\n",
    "print(data_test_attack['state'].nunique())"
   ]
  },
  {
   "cell_type": "code",
   "execution_count": 7,
   "metadata": {},
   "outputs": [
    {
     "name": "stdout",
     "output_type": "stream",
     "text": [
      "['INT' 'FIN' 'ACC' 'CON' 'REQ' 'CLO']\n",
      "['INT' 'FIN' 'CON' 'REQ' 'RST']\n"
     ]
    }
   ],
   "source": [
    "print(data_train_attack['state'].unique())\n",
    "print(data_test_attack['state'].unique())"
   ]
  },
  {
   "cell_type": "code",
   "execution_count": 8,
   "metadata": {},
   "outputs": [],
   "source": [
    "#Drop ACC, CLO, and RST from data\n",
    "data_train_attack = data_train_attack[(data_train_attack['state'] != 'ACC') & (data_train_attack['state'] != 'CLO')]\n",
    "data_test_attack = data_test_attack[(data_test_attack['state'] != 'RST')]"
   ]
  },
  {
   "cell_type": "code",
   "execution_count": 9,
   "metadata": {},
   "outputs": [
    {
     "name": "stdout",
     "output_type": "stream",
     "text": [
      "['INT' 'FIN' 'CON' 'REQ']\n",
      "['INT' 'FIN' 'CON' 'REQ']\n"
     ]
    }
   ],
   "source": [
    "print(data_train_attack['state'].unique())\n",
    "print(data_test_attack['state'].unique())"
   ]
  },
  {
   "cell_type": "markdown",
   "metadata": {},
   "source": [
    "## Encode Train and Test Data"
   ]
  },
  {
   "cell_type": "code",
   "execution_count": 10,
   "metadata": {},
   "outputs": [
    {
     "data": {
      "text/plain": [
       "['proto', 'state', 'service']"
      ]
     },
     "execution_count": 10,
     "metadata": {},
     "output_type": "execute_result"
    }
   ],
   "source": [
    "#column to encode\n",
    "cols = ['proto','state','service']\n",
    "cols"
   ]
  },
  {
   "cell_type": "code",
   "execution_count": 11,
   "metadata": {},
   "outputs": [],
   "source": [
    "#One-hot Encoding\n",
    "# Encode train data\n",
    "data_train_attack = pd.get_dummies(data_train_attack, columns=cols)\n",
    "\n",
    "# Encode test data\n",
    "data_test_attack = pd.get_dummies(data_test_attack, columns=cols)"
   ]
  },
  {
   "cell_type": "code",
   "execution_count": 12,
   "metadata": {},
   "outputs": [],
   "source": [
    "train_attack_cat = data_train_attack.pop('attack_cat')\n",
    "test_attack_cat = data_test_attack.pop('attack_cat')"
   ]
  },
  {
   "cell_type": "markdown",
   "metadata": {},
   "source": [
    "## Normalization"
   ]
  },
  {
   "cell_type": "code",
   "execution_count": 13,
   "metadata": {},
   "outputs": [],
   "source": [
    "# Min-Max Normalization\n",
    "from sklearn.preprocessing import MinMaxScaler\n",
    "\n",
    "scaler = MinMaxScaler()\n",
    "cols_to_norm = ['dur', 'spkts', 'dpkts', 'sbytes', 'dbytes', 'rate', 'sttl', 'dttl', 'sload', \n",
    "                'dload', 'sloss', 'dloss', 'sinpkt', 'dinpkt', 'sjit', 'djit', 'swin', 'stcpb', 'dtcpb', 'dwin', 'tcprtt', 'synack', \n",
    "                'ackdat', 'smean', 'dmean', 'trans_depth', 'response_body_len', 'ct_srv_src', 'ct_state_ttl', 'ct_dst_ltm', \n",
    "                'ct_src_dport_ltm', 'ct_dst_sport_ltm', 'ct_dst_src_ltm', 'is_ftp_login', 'ct_ftp_cmd', 'ct_flw_http_mthd', 'ct_src_ltm', \n",
    "                'ct_srv_dst', 'is_sm_ips_ports']\n",
    "\n",
    "data_train_attack[cols_to_norm] = scaler.fit_transform(data_train_attack[cols_to_norm])\n",
    "data_test_attack[cols_to_norm] = scaler.fit_transform(data_test_attack[cols_to_norm])"
   ]
  },
  {
   "cell_type": "markdown",
   "metadata": {},
   "source": [
    "## Feature Selection"
   ]
  },
  {
   "cell_type": "code",
   "execution_count": 14,
   "metadata": {},
   "outputs": [
    {
     "data": {
      "text/plain": [
       "dur               float64\n",
       "spkts             float64\n",
       "dpkts             float64\n",
       "sbytes            float64\n",
       "dbytes            float64\n",
       "                   ...   \n",
       "service_radius       bool\n",
       "service_smtp         bool\n",
       "service_snmp         bool\n",
       "service_ssh          bool\n",
       "service_ssl          bool\n",
       "Length: 181, dtype: object"
      ]
     },
     "execution_count": 14,
     "metadata": {},
     "output_type": "execute_result"
    }
   ],
   "source": [
    "#Feature Selection\n",
    "feature = data_train_attack.drop(['dinpkt', 'ct_ftp_cmd', 'ct_src_dport_ltm', 'is_sm_ips_ports'], axis=1)\n",
    "feature.dtypes"
   ]
  },
  {
   "cell_type": "markdown",
   "metadata": {},
   "source": [
    "# Split Data"
   ]
  },
  {
   "cell_type": "code",
   "execution_count": 15,
   "metadata": {},
   "outputs": [
    {
     "data": {
      "text/plain": [
       "((45329, 181), (45329,), (119329, 181), (119329,))"
      ]
     },
     "execution_count": 15,
     "metadata": {},
     "output_type": "execute_result"
    }
   ],
   "source": [
    "#Splitting the dataset into dependent and independent feature\n",
    "X_train = feature\n",
    "y_train = train_attack_cat\n",
    "\n",
    "X_test = data_test_attack.drop(columns=['dinpkt', 'ct_ftp_cmd', 'ct_src_dport_ltm', 'is_sm_ips_ports'])\n",
    "y_test = test_attack_cat\n",
    "\n",
    "X_train.shape, y_train.shape, X_test.shape, y_test.shape"
   ]
  },
  {
   "cell_type": "markdown",
   "metadata": {},
   "source": [
    "# Model Architecture"
   ]
  },
  {
   "cell_type": "code",
   "execution_count": 16,
   "metadata": {},
   "outputs": [],
   "source": [
    "# import tensorflow as tf\n",
    "from keras.models import Sequential\n",
    "from keras.layers import Conv1D, MaxPooling1D, GlobalAveragePooling1D, Dense, Dropout\n",
    "from keras.metrics import Recall, Precision"
   ]
  },
  {
   "cell_type": "markdown",
   "metadata": {},
   "source": [
    "## CNN Model"
   ]
  },
  {
   "cell_type": "code",
   "execution_count": 17,
   "metadata": {},
   "outputs": [],
   "source": [
    "# Define the input shape\n",
    "input_shape = (181, 1)\n",
    "\n",
    "#Create the sequential model\n",
    "model = Sequential()\n",
    "model.add(Conv1D(64, kernel_size=3, activation='relu', input_shape=input_shape))\n",
    "model.add(MaxPooling1D(pool_size=2)) # reduces the spatial dimensions of the output volume\n",
    "model.add(Conv1D(128, kernel_size=3, activation='relu'))\n",
    "model.add(GlobalAveragePooling1D()) # computes the average of all values across the spatial dimensions, effectively flattening the data\n",
    "model.add(Dropout(0.5)) # helps prevent overfitting by randomly setting a fraction of input units to 0 during training\n",
    "model.add(Dense(256, activation='relu'))\n",
    "model.add(Dense(9, activation='softmax'))\n",
    "\n",
    "#Compile the model\n",
    "model.compile(optimizer='adam', loss='categorical_crossentropy', metrics=['accuracy', Recall(), Precision()])"
   ]
  },
  {
   "cell_type": "code",
   "execution_count": 18,
   "metadata": {},
   "outputs": [
    {
     "name": "stdout",
     "output_type": "stream",
     "text": [
      "Model: \"sequential\"\n",
      "_________________________________________________________________\n",
      " Layer (type)                Output Shape              Param #   \n",
      "=================================================================\n",
      " conv1d (Conv1D)             (None, 179, 64)           256       \n",
      "                                                                 \n",
      " max_pooling1d (MaxPooling1  (None, 89, 64)            0         \n",
      " D)                                                              \n",
      "                                                                 \n",
      " conv1d_1 (Conv1D)           (None, 87, 128)           24704     \n",
      "                                                                 \n",
      " global_average_pooling1d (  (None, 128)               0         \n",
      " GlobalAveragePooling1D)                                         \n",
      "                                                                 \n",
      " dropout (Dropout)           (None, 128)               0         \n",
      "                                                                 \n",
      " dense (Dense)               (None, 256)               33024     \n",
      "                                                                 \n",
      " dense_1 (Dense)             (None, 9)                 2313      \n",
      "                                                                 \n",
      "=================================================================\n",
      "Total params: 60297 (235.54 KB)\n",
      "Trainable params: 60297 (235.54 KB)\n",
      "Non-trainable params: 0 (0.00 Byte)\n",
      "_________________________________________________________________\n"
     ]
    }
   ],
   "source": [
    "#Print the model summary\n",
    "model.summary()"
   ]
  },
  {
   "cell_type": "markdown",
   "metadata": {},
   "source": [
    "## Train the model"
   ]
  },
  {
   "cell_type": "code",
   "execution_count": 19,
   "metadata": {},
   "outputs": [],
   "source": [
    "from keras.utils import to_categorical\n",
    "from sklearn.preprocessing import LabelEncoder"
   ]
  },
  {
   "cell_type": "code",
   "execution_count": 20,
   "metadata": {},
   "outputs": [],
   "source": [
    "le = LabelEncoder()\n",
    "\n",
    "y_train = le.fit_transform(y_train)\n",
    "y_test = le.fit_transform(y_test)"
   ]
  },
  {
   "cell_type": "code",
   "execution_count": 21,
   "metadata": {},
   "outputs": [],
   "source": [
    "num_class = 9\n",
    "y_train = to_categorical(y_train, num_class)\n",
    "y_test = to_categorical(y_test, num_class)"
   ]
  },
  {
   "cell_type": "code",
   "execution_count": 22,
   "metadata": {},
   "outputs": [],
   "source": [
    "X_train = np.array(X_train, dtype=np.float32)\n",
    "X_test = np.array(X_test, dtype=np.float32)"
   ]
  },
  {
   "cell_type": "code",
   "execution_count": 23,
   "metadata": {},
   "outputs": [
    {
     "name": "stdout",
     "output_type": "stream",
     "text": [
      "Epoch 1/10\n",
      "1417/1417 [==============================] - 56s 38ms/step - loss: 1.1019 - accuracy: 0.6073 - recall: 0.4162 - precision: 0.8552 - val_loss: 0.9550 - val_accuracy: 0.6700 - val_recall: 0.4465 - val_precision: 0.9045\n",
      "Epoch 2/10\n",
      "1417/1417 [==============================] - 42s 30ms/step - loss: 0.8709 - accuracy: 0.6837 - recall: 0.5513 - precision: 0.8783 - val_loss: 0.9084 - val_accuracy: 0.6715 - val_recall: 0.5388 - val_precision: 0.8488\n",
      "Epoch 3/10\n",
      "1417/1417 [==============================] - 50s 35ms/step - loss: 0.8362 - accuracy: 0.6899 - recall: 0.5663 - precision: 0.8847 - val_loss: 0.8957 - val_accuracy: 0.6785 - val_recall: 0.5355 - val_precision: 0.8555\n",
      "Epoch 4/10\n",
      "1417/1417 [==============================] - 48s 34ms/step - loss: 0.8114 - accuracy: 0.6956 - recall: 0.5757 - precision: 0.8898 - val_loss: 0.8960 - val_accuracy: 0.6821 - val_recall: 0.4898 - val_precision: 0.8941\n",
      "Epoch 5/10\n",
      "1417/1417 [==============================] - 48s 34ms/step - loss: 0.7854 - accuracy: 0.7082 - recall: 0.5819 - precision: 0.8947 - val_loss: 0.8733 - val_accuracy: 0.6755 - val_recall: 0.4986 - val_precision: 0.8882\n",
      "Epoch 6/10\n",
      "1417/1417 [==============================] - 61s 43ms/step - loss: 0.7623 - accuracy: 0.7157 - recall: 0.5876 - precision: 0.8981 - val_loss: 0.8530 - val_accuracy: 0.6967 - val_recall: 0.5273 - val_precision: 0.8779\n",
      "Epoch 7/10\n",
      "1417/1417 [==============================] - 75s 53ms/step - loss: 0.7450 - accuracy: 0.7243 - recall: 0.5948 - precision: 0.9000 - val_loss: 0.8471 - val_accuracy: 0.6824 - val_recall: 0.5092 - val_precision: 0.9294\n",
      "Epoch 8/10\n",
      "1417/1417 [==============================] - 75s 53ms/step - loss: 0.7326 - accuracy: 0.7284 - recall: 0.6032 - precision: 0.9038 - val_loss: 0.8423 - val_accuracy: 0.6842 - val_recall: 0.5125 - val_precision: 0.9290\n",
      "Epoch 9/10\n",
      "1417/1417 [==============================] - 73s 51ms/step - loss: 0.7209 - accuracy: 0.7327 - recall: 0.6123 - precision: 0.9038 - val_loss: 0.8434 - val_accuracy: 0.6933 - val_recall: 0.5697 - val_precision: 0.8709\n",
      "Epoch 10/10\n",
      "1417/1417 [==============================] - 73s 51ms/step - loss: 0.7170 - accuracy: 0.7357 - recall: 0.6144 - precision: 0.9032 - val_loss: 0.8380 - val_accuracy: 0.6826 - val_recall: 0.5480 - val_precision: 0.8926\n"
     ]
    }
   ],
   "source": [
    "#Define epochs and batch size\n",
    "epochs = 10\n",
    "batch_size = 32\n",
    "\n",
    "#Train the model\n",
    "history = model.fit(X_train, y_train, epochs=epochs, batch_size=batch_size, validation_data=(X_test, y_test))"
   ]
  },
  {
   "cell_type": "code",
   "execution_count": 24,
   "metadata": {},
   "outputs": [
    {
     "name": "stdout",
     "output_type": "stream",
     "text": [
      "Epoch 1/20\n",
      "1417/1417 [==============================] - 71s 50ms/step - loss: 0.7064 - accuracy: 0.7389 - recall: 0.6210 - precision: 0.9016 - val_loss: 0.8190 - val_accuracy: 0.7120 - val_recall: 0.5664 - val_precision: 0.8903\n",
      "Epoch 2/20\n",
      "1417/1417 [==============================] - 75s 53ms/step - loss: 0.6985 - accuracy: 0.7428 - recall: 0.6277 - precision: 0.9004 - val_loss: 0.8121 - val_accuracy: 0.7126 - val_recall: 0.5651 - val_precision: 0.8916\n",
      "Epoch 3/20\n",
      "1417/1417 [==============================] - 87s 61ms/step - loss: 0.6910 - accuracy: 0.7444 - recall: 0.6346 - precision: 0.9002 - val_loss: 0.7992 - val_accuracy: 0.7040 - val_recall: 0.5647 - val_precision: 0.8969\n",
      "Epoch 4/20\n",
      "1417/1417 [==============================] - 78s 55ms/step - loss: 0.6855 - accuracy: 0.7451 - recall: 0.6364 - precision: 0.8990 - val_loss: 0.8020 - val_accuracy: 0.7040 - val_recall: 0.5931 - val_precision: 0.8708\n",
      "Epoch 5/20\n",
      "1417/1417 [==============================] - 78s 55ms/step - loss: 0.6776 - accuracy: 0.7479 - recall: 0.6420 - precision: 0.8965 - val_loss: 0.7952 - val_accuracy: 0.7083 - val_recall: 0.5796 - val_precision: 0.8848\n",
      "Epoch 6/20\n",
      "1417/1417 [==============================] - 79s 56ms/step - loss: 0.6729 - accuracy: 0.7505 - recall: 0.6451 - precision: 0.8970 - val_loss: 0.8232 - val_accuracy: 0.6991 - val_recall: 0.5796 - val_precision: 0.8613\n",
      "Epoch 7/20\n",
      "1417/1417 [==============================] - 67s 47ms/step - loss: 0.6685 - accuracy: 0.7520 - recall: 0.6472 - precision: 0.8951 - val_loss: 0.7854 - val_accuracy: 0.7187 - val_recall: 0.5919 - val_precision: 0.8811\n",
      "Epoch 8/20\n",
      "1417/1417 [==============================] - 81s 57ms/step - loss: 0.6644 - accuracy: 0.7523 - recall: 0.6490 - precision: 0.8958 - val_loss: 0.7920 - val_accuracy: 0.7086 - val_recall: 0.5894 - val_precision: 0.8830\n",
      "Epoch 9/20\n",
      "1417/1417 [==============================] - 77s 54ms/step - loss: 0.6601 - accuracy: 0.7541 - recall: 0.6511 - precision: 0.8959 - val_loss: 0.7864 - val_accuracy: 0.7191 - val_recall: 0.5917 - val_precision: 0.8823\n",
      "Epoch 10/20\n",
      "1417/1417 [==============================] - 81s 57ms/step - loss: 0.6550 - accuracy: 0.7549 - recall: 0.6515 - precision: 0.8962 - val_loss: 0.7866 - val_accuracy: 0.7149 - val_recall: 0.5962 - val_precision: 0.8707\n",
      "Epoch 11/20\n",
      "1417/1417 [==============================] - 81s 57ms/step - loss: 0.6518 - accuracy: 0.7559 - recall: 0.6523 - precision: 0.8953 - val_loss: 0.8144 - val_accuracy: 0.7162 - val_recall: 0.5865 - val_precision: 0.8653\n",
      "Epoch 12/20\n",
      "1417/1417 [==============================] - 72s 51ms/step - loss: 0.6455 - accuracy: 0.7583 - recall: 0.6558 - precision: 0.8951 - val_loss: 0.7777 - val_accuracy: 0.7125 - val_recall: 0.5994 - val_precision: 0.8785\n",
      "Epoch 13/20\n",
      "1417/1417 [==============================] - 73s 51ms/step - loss: 0.6441 - accuracy: 0.7587 - recall: 0.6566 - precision: 0.8958 - val_loss: 0.7969 - val_accuracy: 0.7082 - val_recall: 0.5821 - val_precision: 0.8738\n",
      "Epoch 14/20\n",
      "1417/1417 [==============================] - 59s 42ms/step - loss: 0.6429 - accuracy: 0.7594 - recall: 0.6574 - precision: 0.8945 - val_loss: 0.7674 - val_accuracy: 0.7153 - val_recall: 0.5978 - val_precision: 0.8825\n",
      "Epoch 15/20\n",
      "1417/1417 [==============================] - 69s 49ms/step - loss: 0.6365 - accuracy: 0.7624 - recall: 0.6608 - precision: 0.8953 - val_loss: 0.7847 - val_accuracy: 0.7219 - val_recall: 0.6067 - val_precision: 0.8614\n",
      "Epoch 16/20\n",
      "1417/1417 [==============================] - 71s 50ms/step - loss: 0.6322 - accuracy: 0.7631 - recall: 0.6631 - precision: 0.8963 - val_loss: 0.7795 - val_accuracy: 0.7132 - val_recall: 0.5971 - val_precision: 0.8737\n",
      "Epoch 17/20\n",
      "1417/1417 [==============================] - 66s 46ms/step - loss: 0.6299 - accuracy: 0.7631 - recall: 0.6624 - precision: 0.8972 - val_loss: 0.7529 - val_accuracy: 0.7303 - val_recall: 0.6091 - val_precision: 0.8787\n",
      "Epoch 18/20\n",
      "1417/1417 [==============================] - 70s 49ms/step - loss: 0.6258 - accuracy: 0.7651 - recall: 0.6659 - precision: 0.8955 - val_loss: 0.7589 - val_accuracy: 0.7325 - val_recall: 0.6122 - val_precision: 0.8710\n",
      "Epoch 19/20\n",
      "1417/1417 [==============================] - 57s 40ms/step - loss: 0.6219 - accuracy: 0.7671 - recall: 0.6674 - precision: 0.8963 - val_loss: 0.7615 - val_accuracy: 0.7266 - val_recall: 0.6100 - val_precision: 0.8772\n",
      "Epoch 20/20\n",
      "1417/1417 [==============================] - 46s 32ms/step - loss: 0.6162 - accuracy: 0.7671 - recall: 0.6701 - precision: 0.8966 - val_loss: 0.7427 - val_accuracy: 0.7306 - val_recall: 0.6124 - val_precision: 0.8812\n"
     ]
    }
   ],
   "source": [
    "#Define epochs and batch size\n",
    "epochs = 20\n",
    "batch_size = 32\n",
    "\n",
    "#Train the model\n",
    "history = model.fit(X_train, y_train, epochs=epochs, batch_size=batch_size, validation_data=(X_test, y_test))"
   ]
  },
  {
   "cell_type": "code",
   "execution_count": 25,
   "metadata": {},
   "outputs": [
    {
     "name": "stdout",
     "output_type": "stream",
     "text": [
      "Epoch 1/30\n",
      "1417/1417 [==============================] - 57s 40ms/step - loss: 0.6143 - accuracy: 0.7683 - recall: 0.6725 - precision: 0.8951 - val_loss: 0.7523 - val_accuracy: 0.7344 - val_recall: 0.5996 - val_precision: 0.8821\n",
      "Epoch 2/30\n",
      "1417/1417 [==============================] - 49s 34ms/step - loss: 0.6108 - accuracy: 0.7683 - recall: 0.6731 - precision: 0.8951 - val_loss: 0.7381 - val_accuracy: 0.7370 - val_recall: 0.6012 - val_precision: 0.8924\n",
      "Epoch 3/30\n",
      "1417/1417 [==============================] - 60s 43ms/step - loss: 0.6061 - accuracy: 0.7718 - recall: 0.6765 - precision: 0.8939 - val_loss: 0.7437 - val_accuracy: 0.7338 - val_recall: 0.6138 - val_precision: 0.8818\n",
      "Epoch 4/30\n",
      "1417/1417 [==============================] - 57s 40ms/step - loss: 0.6038 - accuracy: 0.7704 - recall: 0.6775 - precision: 0.8949 - val_loss: 0.7324 - val_accuracy: 0.7418 - val_recall: 0.6101 - val_precision: 0.8874\n",
      "Epoch 5/30\n",
      "1417/1417 [==============================] - 59s 42ms/step - loss: 0.6006 - accuracy: 0.7707 - recall: 0.6787 - precision: 0.8931 - val_loss: 0.7357 - val_accuracy: 0.7301 - val_recall: 0.6200 - val_precision: 0.8829\n",
      "Epoch 6/30\n",
      "1417/1417 [==============================] - 59s 41ms/step - loss: 0.5969 - accuracy: 0.7730 - recall: 0.6819 - precision: 0.8940 - val_loss: 0.7446 - val_accuracy: 0.7354 - val_recall: 0.6204 - val_precision: 0.8796\n",
      "Epoch 7/30\n",
      "1417/1417 [==============================] - 58s 41ms/step - loss: 0.5943 - accuracy: 0.7752 - recall: 0.6853 - precision: 0.8928 - val_loss: 0.7438 - val_accuracy: 0.7361 - val_recall: 0.6215 - val_precision: 0.8774\n",
      "Epoch 8/30\n",
      "1417/1417 [==============================] - 48s 34ms/step - loss: 0.5917 - accuracy: 0.7740 - recall: 0.6857 - precision: 0.8942 - val_loss: 0.7581 - val_accuracy: 0.7226 - val_recall: 0.6108 - val_precision: 0.8582\n",
      "Epoch 9/30\n",
      "1417/1417 [==============================] - 47s 33ms/step - loss: 0.5895 - accuracy: 0.7748 - recall: 0.6853 - precision: 0.8946 - val_loss: 0.7312 - val_accuracy: 0.7457 - val_recall: 0.6269 - val_precision: 0.8797\n",
      "Epoch 10/30\n",
      "1417/1417 [==============================] - 46s 33ms/step - loss: 0.5865 - accuracy: 0.7757 - recall: 0.6867 - precision: 0.8954 - val_loss: 0.7585 - val_accuracy: 0.7324 - val_recall: 0.6107 - val_precision: 0.8711\n",
      "Epoch 11/30\n",
      "1417/1417 [==============================] - 49s 35ms/step - loss: 0.5824 - accuracy: 0.7768 - recall: 0.6883 - precision: 0.8965 - val_loss: 0.7471 - val_accuracy: 0.7333 - val_recall: 0.6061 - val_precision: 0.8872\n",
      "Epoch 12/30\n",
      "1417/1417 [==============================] - 33s 23ms/step - loss: 0.5800 - accuracy: 0.7782 - recall: 0.6900 - precision: 0.8963 - val_loss: 0.7407 - val_accuracy: 0.7455 - val_recall: 0.6290 - val_precision: 0.8673\n",
      "Epoch 13/30\n",
      "1417/1417 [==============================] - 45s 32ms/step - loss: 0.5803 - accuracy: 0.7780 - recall: 0.6903 - precision: 0.8959 - val_loss: 0.7302 - val_accuracy: 0.7384 - val_recall: 0.6170 - val_precision: 0.8915\n",
      "Epoch 14/30\n",
      "1417/1417 [==============================] - 45s 32ms/step - loss: 0.5797 - accuracy: 0.7778 - recall: 0.6894 - precision: 0.8979 - val_loss: 0.7390 - val_accuracy: 0.7355 - val_recall: 0.6181 - val_precision: 0.8815\n",
      "Epoch 15/30\n",
      "1417/1417 [==============================] - 43s 30ms/step - loss: 0.5739 - accuracy: 0.7787 - recall: 0.6932 - precision: 0.8978 - val_loss: 0.7395 - val_accuracy: 0.7317 - val_recall: 0.6110 - val_precision: 0.8881\n",
      "Epoch 16/30\n",
      "1417/1417 [==============================] - 50s 36ms/step - loss: 0.5723 - accuracy: 0.7775 - recall: 0.6922 - precision: 0.8971 - val_loss: 0.7352 - val_accuracy: 0.7334 - val_recall: 0.6223 - val_precision: 0.8735\n",
      "Epoch 17/30\n",
      "1417/1417 [==============================] - 46s 33ms/step - loss: 0.5729 - accuracy: 0.7789 - recall: 0.6929 - precision: 0.9001 - val_loss: 0.7368 - val_accuracy: 0.7448 - val_recall: 0.6301 - val_precision: 0.8803\n",
      "Epoch 18/30\n",
      "1417/1417 [==============================] - 48s 34ms/step - loss: 0.5694 - accuracy: 0.7804 - recall: 0.6946 - precision: 0.8990 - val_loss: 0.7309 - val_accuracy: 0.7444 - val_recall: 0.6187 - val_precision: 0.8951\n",
      "Epoch 19/30\n",
      "1417/1417 [==============================] - 49s 35ms/step - loss: 0.5685 - accuracy: 0.7800 - recall: 0.6932 - precision: 0.9002 - val_loss: 0.7186 - val_accuracy: 0.7434 - val_recall: 0.6399 - val_precision: 0.8812\n",
      "Epoch 20/30\n",
      "1417/1417 [==============================] - 51s 36ms/step - loss: 0.5666 - accuracy: 0.7819 - recall: 0.6953 - precision: 0.9002 - val_loss: 0.7300 - val_accuracy: 0.7385 - val_recall: 0.6334 - val_precision: 0.8835\n",
      "Epoch 21/30\n",
      "1417/1417 [==============================] - 50s 35ms/step - loss: 0.5648 - accuracy: 0.7818 - recall: 0.6965 - precision: 0.9013 - val_loss: 0.7343 - val_accuracy: 0.7491 - val_recall: 0.6302 - val_precision: 0.8770\n",
      "Epoch 22/30\n",
      "1417/1417 [==============================] - 42s 30ms/step - loss: 0.5643 - accuracy: 0.7827 - recall: 0.6954 - precision: 0.9019 - val_loss: 0.7279 - val_accuracy: 0.7355 - val_recall: 0.6247 - val_precision: 0.8900\n",
      "Epoch 23/30\n",
      "1417/1417 [==============================] - 49s 35ms/step - loss: 0.5609 - accuracy: 0.7830 - recall: 0.6979 - precision: 0.9007 - val_loss: 0.7309 - val_accuracy: 0.7365 - val_recall: 0.6237 - val_precision: 0.8974\n",
      "Epoch 24/30\n",
      "1417/1417 [==============================] - 42s 29ms/step - loss: 0.5618 - accuracy: 0.7818 - recall: 0.6958 - precision: 0.9011 - val_loss: 0.7484 - val_accuracy: 0.7356 - val_recall: 0.6251 - val_precision: 0.8802\n",
      "Epoch 25/30\n",
      "1417/1417 [==============================] - 51s 36ms/step - loss: 0.5585 - accuracy: 0.7830 - recall: 0.6973 - precision: 0.9025 - val_loss: 0.7205 - val_accuracy: 0.7435 - val_recall: 0.6272 - val_precision: 0.8878\n",
      "Epoch 26/30\n",
      "1417/1417 [==============================] - 52s 37ms/step - loss: 0.5585 - accuracy: 0.7836 - recall: 0.6992 - precision: 0.9005 - val_loss: 0.7282 - val_accuracy: 0.7390 - val_recall: 0.6332 - val_precision: 0.8804\n",
      "Epoch 27/30\n",
      "1417/1417 [==============================] - 42s 30ms/step - loss: 0.5563 - accuracy: 0.7827 - recall: 0.6983 - precision: 0.9023 - val_loss: 0.7219 - val_accuracy: 0.7355 - val_recall: 0.6319 - val_precision: 0.8854\n",
      "Epoch 28/30\n",
      "1417/1417 [==============================] - 72s 51ms/step - loss: 0.5545 - accuracy: 0.7841 - recall: 0.6994 - precision: 0.9029 - val_loss: 0.7365 - val_accuracy: 0.7306 - val_recall: 0.6316 - val_precision: 0.8769\n",
      "Epoch 29/30\n",
      "1417/1417 [==============================] - 79s 56ms/step - loss: 0.5542 - accuracy: 0.7834 - recall: 0.7003 - precision: 0.9017 - val_loss: 0.7217 - val_accuracy: 0.7485 - val_recall: 0.6316 - val_precision: 0.8935\n",
      "Epoch 30/30\n",
      "1417/1417 [==============================] - 72s 51ms/step - loss: 0.5531 - accuracy: 0.7855 - recall: 0.7001 - precision: 0.9035 - val_loss: 0.7209 - val_accuracy: 0.7515 - val_recall: 0.6300 - val_precision: 0.8919\n"
     ]
    }
   ],
   "source": [
    "#Define epochs and batch size\n",
    "epochs = 30\n",
    "batch_size = 32\n",
    "\n",
    "#Train the model\n",
    "history = model.fit(X_train, y_train, epochs=epochs, batch_size=batch_size, validation_data=(X_test, y_test))"
   ]
  },
  {
   "cell_type": "code",
   "execution_count": 26,
   "metadata": {},
   "outputs": [
    {
     "name": "stdout",
     "output_type": "stream",
     "text": [
      "Epoch 1/40\n",
      "1417/1417 [==============================] - 57s 40ms/step - loss: 0.5514 - accuracy: 0.7853 - recall: 0.7011 - precision: 0.9025 - val_loss: 0.7223 - val_accuracy: 0.7389 - val_recall: 0.6266 - val_precision: 0.8933\n",
      "Epoch 2/40\n",
      "1417/1417 [==============================] - 63s 44ms/step - loss: 0.5502 - accuracy: 0.7858 - recall: 0.7018 - precision: 0.9042 - val_loss: 0.7187 - val_accuracy: 0.7412 - val_recall: 0.6331 - val_precision: 0.8868\n",
      "Epoch 3/40\n",
      "1417/1417 [==============================] - 64s 45ms/step - loss: 0.5469 - accuracy: 0.7857 - recall: 0.7037 - precision: 0.9033 - val_loss: 0.7230 - val_accuracy: 0.7435 - val_recall: 0.6257 - val_precision: 0.8897\n",
      "Epoch 4/40\n",
      "1417/1417 [==============================] - 61s 43ms/step - loss: 0.5503 - accuracy: 0.7851 - recall: 0.7027 - precision: 0.9014 - val_loss: 0.7248 - val_accuracy: 0.7375 - val_recall: 0.6355 - val_precision: 0.8858\n",
      "Epoch 5/40\n",
      "1417/1417 [==============================] - 64s 45ms/step - loss: 0.5485 - accuracy: 0.7864 - recall: 0.7024 - precision: 0.9018 - val_loss: 0.7279 - val_accuracy: 0.7366 - val_recall: 0.6250 - val_precision: 0.8940\n",
      "Epoch 6/40\n",
      "1417/1417 [==============================] - 66s 47ms/step - loss: 0.5460 - accuracy: 0.7869 - recall: 0.7034 - precision: 0.9042 - val_loss: 0.7364 - val_accuracy: 0.7365 - val_recall: 0.6351 - val_precision: 0.8804\n",
      "Epoch 7/40\n",
      "1417/1417 [==============================] - 64s 45ms/step - loss: 0.5462 - accuracy: 0.7860 - recall: 0.7043 - precision: 0.9043 - val_loss: 0.7202 - val_accuracy: 0.7368 - val_recall: 0.6290 - val_precision: 0.8911\n",
      "Epoch 8/40\n",
      "1417/1417 [==============================] - 64s 45ms/step - loss: 0.5446 - accuracy: 0.7875 - recall: 0.7037 - precision: 0.9046 - val_loss: 0.7105 - val_accuracy: 0.7523 - val_recall: 0.6286 - val_precision: 0.8929\n",
      "Epoch 9/40\n",
      "1417/1417 [==============================] - 62s 44ms/step - loss: 0.5438 - accuracy: 0.7885 - recall: 0.7049 - precision: 0.9030 - val_loss: 0.6993 - val_accuracy: 0.7479 - val_recall: 0.6312 - val_precision: 0.8970\n",
      "Epoch 10/40\n",
      "1417/1417 [==============================] - 64s 45ms/step - loss: 0.5436 - accuracy: 0.7881 - recall: 0.7038 - precision: 0.9044 - val_loss: 0.7132 - val_accuracy: 0.7412 - val_recall: 0.6258 - val_precision: 0.8982\n",
      "Epoch 11/40\n",
      "1417/1417 [==============================] - 53s 37ms/step - loss: 0.5426 - accuracy: 0.7874 - recall: 0.7067 - precision: 0.9038 - val_loss: 0.7169 - val_accuracy: 0.7512 - val_recall: 0.6330 - val_precision: 0.8926\n",
      "Epoch 12/40\n",
      "1417/1417 [==============================] - 53s 37ms/step - loss: 0.5408 - accuracy: 0.7880 - recall: 0.7073 - precision: 0.9051 - val_loss: 0.7171 - val_accuracy: 0.7462 - val_recall: 0.6351 - val_precision: 0.8892\n",
      "Epoch 13/40\n",
      "1417/1417 [==============================] - 39s 27ms/step - loss: 0.5402 - accuracy: 0.7887 - recall: 0.7065 - precision: 0.9034 - val_loss: 0.7051 - val_accuracy: 0.7527 - val_recall: 0.6358 - val_precision: 0.8862\n",
      "Epoch 14/40\n",
      "1417/1417 [==============================] - 52s 37ms/step - loss: 0.5398 - accuracy: 0.7884 - recall: 0.7062 - precision: 0.9041 - val_loss: 0.7221 - val_accuracy: 0.7374 - val_recall: 0.6266 - val_precision: 0.8930\n",
      "Epoch 15/40\n",
      "1417/1417 [==============================] - 27s 19ms/step - loss: 0.5373 - accuracy: 0.7892 - recall: 0.7063 - precision: 0.9060 - val_loss: 0.7082 - val_accuracy: 0.7450 - val_recall: 0.6423 - val_precision: 0.8836\n",
      "Epoch 16/40\n",
      "1417/1417 [==============================] - 53s 37ms/step - loss: 0.5367 - accuracy: 0.7908 - recall: 0.7089 - precision: 0.9046 - val_loss: 0.7488 - val_accuracy: 0.7314 - val_recall: 0.6297 - val_precision: 0.8777\n",
      "Epoch 17/40\n",
      "1417/1417 [==============================] - 42s 30ms/step - loss: 0.5378 - accuracy: 0.7900 - recall: 0.7081 - precision: 0.9046 - val_loss: 0.7249 - val_accuracy: 0.7537 - val_recall: 0.6442 - val_precision: 0.8680\n",
      "Epoch 18/40\n",
      "1417/1417 [==============================] - 48s 34ms/step - loss: 0.5348 - accuracy: 0.7902 - recall: 0.7084 - precision: 0.9058 - val_loss: 0.7050 - val_accuracy: 0.7501 - val_recall: 0.6330 - val_precision: 0.8930\n",
      "Epoch 19/40\n",
      "1417/1417 [==============================] - 50s 35ms/step - loss: 0.5335 - accuracy: 0.7924 - recall: 0.7103 - precision: 0.9046 - val_loss: 0.7315 - val_accuracy: 0.7368 - val_recall: 0.6334 - val_precision: 0.8744\n",
      "Epoch 20/40\n",
      "1417/1417 [==============================] - 50s 35ms/step - loss: 0.5341 - accuracy: 0.7904 - recall: 0.7083 - precision: 0.9037 - val_loss: 0.7354 - val_accuracy: 0.7432 - val_recall: 0.6342 - val_precision: 0.8858\n",
      "Epoch 21/40\n",
      "1417/1417 [==============================] - 47s 33ms/step - loss: 0.5337 - accuracy: 0.7896 - recall: 0.7068 - precision: 0.9069 - val_loss: 0.7279 - val_accuracy: 0.7406 - val_recall: 0.6266 - val_precision: 0.8849\n",
      "Epoch 22/40\n",
      "1417/1417 [==============================] - 50s 35ms/step - loss: 0.5324 - accuracy: 0.7900 - recall: 0.7092 - precision: 0.9050 - val_loss: 0.7186 - val_accuracy: 0.7404 - val_recall: 0.6403 - val_precision: 0.8772\n",
      "Epoch 23/40\n",
      "1417/1417 [==============================] - 50s 36ms/step - loss: 0.5319 - accuracy: 0.7916 - recall: 0.7105 - precision: 0.9066 - val_loss: 0.7140 - val_accuracy: 0.7374 - val_recall: 0.6477 - val_precision: 0.8655\n",
      "Epoch 24/40\n",
      "1417/1417 [==============================] - 51s 36ms/step - loss: 0.5305 - accuracy: 0.7904 - recall: 0.7098 - precision: 0.9050 - val_loss: 0.7123 - val_accuracy: 0.7497 - val_recall: 0.6387 - val_precision: 0.8907\n",
      "Epoch 25/40\n",
      "1417/1417 [==============================] - 50s 36ms/step - loss: 0.5309 - accuracy: 0.7913 - recall: 0.7102 - precision: 0.9045 - val_loss: 0.7049 - val_accuracy: 0.7338 - val_recall: 0.6413 - val_precision: 0.8654\n",
      "Epoch 26/40\n",
      "1417/1417 [==============================] - 51s 36ms/step - loss: 0.5302 - accuracy: 0.7919 - recall: 0.7097 - precision: 0.9064 - val_loss: 0.7234 - val_accuracy: 0.7410 - val_recall: 0.6397 - val_precision: 0.8860\n",
      "Epoch 27/40\n",
      "1417/1417 [==============================] - 52s 37ms/step - loss: 0.5267 - accuracy: 0.7923 - recall: 0.7110 - precision: 0.9066 - val_loss: 0.7402 - val_accuracy: 0.7346 - val_recall: 0.6272 - val_precision: 0.8616\n",
      "Epoch 28/40\n",
      "1417/1417 [==============================] - 54s 38ms/step - loss: 0.5279 - accuracy: 0.7950 - recall: 0.7136 - precision: 0.9058 - val_loss: 0.7222 - val_accuracy: 0.7531 - val_recall: 0.6246 - val_precision: 0.8794\n",
      "Epoch 29/40\n",
      "1417/1417 [==============================] - 50s 35ms/step - loss: 0.5276 - accuracy: 0.7921 - recall: 0.7106 - precision: 0.9057 - val_loss: 0.7413 - val_accuracy: 0.7360 - val_recall: 0.6455 - val_precision: 0.8513\n",
      "Epoch 30/40\n",
      "1417/1417 [==============================] - 51s 36ms/step - loss: 0.5281 - accuracy: 0.7927 - recall: 0.7101 - precision: 0.9069 - val_loss: 0.7219 - val_accuracy: 0.7455 - val_recall: 0.6219 - val_precision: 0.8898\n",
      "Epoch 31/40\n",
      "1417/1417 [==============================] - 50s 35ms/step - loss: 0.5262 - accuracy: 0.7919 - recall: 0.7112 - precision: 0.9074 - val_loss: 0.7190 - val_accuracy: 0.7459 - val_recall: 0.6361 - val_precision: 0.8854\n",
      "Epoch 32/40\n",
      "1417/1417 [==============================] - 44s 31ms/step - loss: 0.5262 - accuracy: 0.7938 - recall: 0.7096 - precision: 0.9091 - val_loss: 0.7115 - val_accuracy: 0.7501 - val_recall: 0.6442 - val_precision: 0.8834\n",
      "Epoch 33/40\n",
      "1417/1417 [==============================] - 50s 35ms/step - loss: 0.5242 - accuracy: 0.7923 - recall: 0.7135 - precision: 0.9074 - val_loss: 0.7410 - val_accuracy: 0.7510 - val_recall: 0.6251 - val_precision: 0.8874\n",
      "Epoch 34/40\n",
      "1417/1417 [==============================] - 47s 33ms/step - loss: 0.5239 - accuracy: 0.7934 - recall: 0.7123 - precision: 0.9076 - val_loss: 0.7094 - val_accuracy: 0.7501 - val_recall: 0.6404 - val_precision: 0.8910\n",
      "Epoch 35/40\n",
      "1417/1417 [==============================] - 56s 40ms/step - loss: 0.5221 - accuracy: 0.7907 - recall: 0.7109 - precision: 0.9075 - val_loss: 0.7385 - val_accuracy: 0.7362 - val_recall: 0.6288 - val_precision: 0.8803\n",
      "Epoch 36/40\n",
      "1417/1417 [==============================] - 52s 37ms/step - loss: 0.5213 - accuracy: 0.7945 - recall: 0.7125 - precision: 0.9059 - val_loss: 0.7155 - val_accuracy: 0.7554 - val_recall: 0.6448 - val_precision: 0.8815\n",
      "Epoch 37/40\n",
      "1417/1417 [==============================] - 56s 39ms/step - loss: 0.5233 - accuracy: 0.7940 - recall: 0.7132 - precision: 0.9077 - val_loss: 0.7338 - val_accuracy: 0.7367 - val_recall: 0.6322 - val_precision: 0.8706\n",
      "Epoch 38/40\n",
      "1417/1417 [==============================] - 57s 40ms/step - loss: 0.5227 - accuracy: 0.7934 - recall: 0.7123 - precision: 0.9077 - val_loss: 0.7220 - val_accuracy: 0.7441 - val_recall: 0.6289 - val_precision: 0.8838\n",
      "Epoch 39/40\n",
      "1417/1417 [==============================] - 51s 36ms/step - loss: 0.5230 - accuracy: 0.7934 - recall: 0.7127 - precision: 0.9052 - val_loss: 0.7086 - val_accuracy: 0.7459 - val_recall: 0.6426 - val_precision: 0.8894\n",
      "Epoch 40/40\n",
      "1417/1417 [==============================] - 55s 39ms/step - loss: 0.5190 - accuracy: 0.7952 - recall: 0.7143 - precision: 0.9064 - val_loss: 0.7176 - val_accuracy: 0.7436 - val_recall: 0.6390 - val_precision: 0.8863\n"
     ]
    }
   ],
   "source": [
    "#Define epochs and batch size\n",
    "epochs = 40\n",
    "batch_size = 32\n",
    "\n",
    "#Train the model\n",
    "history = model.fit(X_train, y_train, epochs=epochs, batch_size=batch_size, validation_data=(X_test, y_test))"
   ]
  },
  {
   "cell_type": "code",
   "execution_count": 27,
   "metadata": {},
   "outputs": [
    {
     "name": "stdout",
     "output_type": "stream",
     "text": [
      "Epoch 1/50\n",
      "1417/1417 [==============================] - 36s 26ms/step - loss: 0.5208 - accuracy: 0.7941 - recall: 0.7148 - precision: 0.9063 - val_loss: 0.7476 - val_accuracy: 0.7308 - val_recall: 0.6207 - val_precision: 0.8881\n",
      "Epoch 2/50\n",
      "1417/1417 [==============================] - 63s 44ms/step - loss: 0.5179 - accuracy: 0.7971 - recall: 0.7155 - precision: 0.9085 - val_loss: 0.7316 - val_accuracy: 0.7411 - val_recall: 0.6291 - val_precision: 0.8794\n",
      "Epoch 3/50\n",
      "1417/1417 [==============================] - 57s 40ms/step - loss: 0.5189 - accuracy: 0.7949 - recall: 0.7146 - precision: 0.9063 - val_loss: 0.7100 - val_accuracy: 0.7502 - val_recall: 0.6454 - val_precision: 0.8856\n",
      "Epoch 4/50\n",
      "1417/1417 [==============================] - 62s 44ms/step - loss: 0.5191 - accuracy: 0.7940 - recall: 0.7148 - precision: 0.9070 - val_loss: 0.7325 - val_accuracy: 0.7538 - val_recall: 0.6292 - val_precision: 0.8785\n",
      "Epoch 5/50\n",
      "1417/1417 [==============================] - 62s 44ms/step - loss: 0.5162 - accuracy: 0.7939 - recall: 0.7127 - precision: 0.9091 - val_loss: 0.7298 - val_accuracy: 0.7479 - val_recall: 0.6385 - val_precision: 0.8939\n",
      "Epoch 6/50\n",
      "1417/1417 [==============================] - 59s 42ms/step - loss: 0.5189 - accuracy: 0.7933 - recall: 0.7134 - precision: 0.9072 - val_loss: 0.7314 - val_accuracy: 0.7437 - val_recall: 0.6278 - val_precision: 0.8870\n",
      "Epoch 7/50\n",
      "1417/1417 [==============================] - 52s 37ms/step - loss: 0.5165 - accuracy: 0.7953 - recall: 0.7155 - precision: 0.9074 - val_loss: 0.7283 - val_accuracy: 0.7414 - val_recall: 0.6484 - val_precision: 0.8694\n",
      "Epoch 8/50\n",
      "1417/1417 [==============================] - 52s 37ms/step - loss: 0.5144 - accuracy: 0.7960 - recall: 0.7153 - precision: 0.9101 - val_loss: 0.7072 - val_accuracy: 0.7463 - val_recall: 0.6457 - val_precision: 0.8880\n",
      "Epoch 9/50\n",
      "1417/1417 [==============================] - 42s 29ms/step - loss: 0.5164 - accuracy: 0.7946 - recall: 0.7151 - precision: 0.9072 - val_loss: 0.7476 - val_accuracy: 0.7256 - val_recall: 0.6248 - val_precision: 0.8796\n",
      "Epoch 10/50\n",
      "1417/1417 [==============================] - 40s 29ms/step - loss: 0.5143 - accuracy: 0.7960 - recall: 0.7154 - precision: 0.9074 - val_loss: 0.7348 - val_accuracy: 0.7376 - val_recall: 0.6303 - val_precision: 0.8808\n",
      "Epoch 11/50\n",
      "1417/1417 [==============================] - 39s 27ms/step - loss: 0.5141 - accuracy: 0.7961 - recall: 0.7161 - precision: 0.9087 - val_loss: 0.7132 - val_accuracy: 0.7477 - val_recall: 0.6294 - val_precision: 0.8838\n",
      "Epoch 12/50\n",
      "1417/1417 [==============================] - 31s 22ms/step - loss: 0.5139 - accuracy: 0.7960 - recall: 0.7147 - precision: 0.9099 - val_loss: 0.7382 - val_accuracy: 0.7280 - val_recall: 0.6281 - val_precision: 0.8820\n",
      "Epoch 13/50\n",
      "1417/1417 [==============================] - 51s 36ms/step - loss: 0.5158 - accuracy: 0.7963 - recall: 0.7174 - precision: 0.9049 - val_loss: 0.7360 - val_accuracy: 0.7403 - val_recall: 0.6219 - val_precision: 0.8874\n",
      "Epoch 14/50\n",
      "1417/1417 [==============================] - 52s 37ms/step - loss: 0.5143 - accuracy: 0.7940 - recall: 0.7151 - precision: 0.9071 - val_loss: 0.7374 - val_accuracy: 0.7405 - val_recall: 0.6248 - val_precision: 0.8846\n",
      "Epoch 15/50\n",
      "1417/1417 [==============================] - 44s 31ms/step - loss: 0.5133 - accuracy: 0.7955 - recall: 0.7155 - precision: 0.9105 - val_loss: 0.7452 - val_accuracy: 0.7315 - val_recall: 0.6280 - val_precision: 0.8730\n",
      "Epoch 16/50\n",
      "1417/1417 [==============================] - 52s 36ms/step - loss: 0.5147 - accuracy: 0.7947 - recall: 0.7159 - precision: 0.9079 - val_loss: 0.7525 - val_accuracy: 0.7255 - val_recall: 0.6203 - val_precision: 0.8819\n",
      "Epoch 17/50\n",
      "1417/1417 [==============================] - 52s 36ms/step - loss: 0.5123 - accuracy: 0.7960 - recall: 0.7166 - precision: 0.9090 - val_loss: 0.7429 - val_accuracy: 0.7405 - val_recall: 0.6254 - val_precision: 0.8788\n",
      "Epoch 18/50\n",
      "1417/1417 [==============================] - 54s 38ms/step - loss: 0.5135 - accuracy: 0.7959 - recall: 0.7156 - precision: 0.9080 - val_loss: 0.7190 - val_accuracy: 0.7439 - val_recall: 0.6372 - val_precision: 0.8835\n",
      "Epoch 19/50\n",
      "1417/1417 [==============================] - 43s 30ms/step - loss: 0.5117 - accuracy: 0.7955 - recall: 0.7155 - precision: 0.9090 - val_loss: 0.7464 - val_accuracy: 0.7229 - val_recall: 0.6243 - val_precision: 0.8796\n",
      "Epoch 20/50\n",
      "1417/1417 [==============================] - 20s 14ms/step - loss: 0.5119 - accuracy: 0.7964 - recall: 0.7172 - precision: 0.9092 - val_loss: 0.7273 - val_accuracy: 0.7389 - val_recall: 0.6285 - val_precision: 0.8862\n",
      "Epoch 21/50\n",
      "1417/1417 [==============================] - 19s 13ms/step - loss: 0.5121 - accuracy: 0.7960 - recall: 0.7159 - precision: 0.9084 - val_loss: 0.7470 - val_accuracy: 0.7192 - val_recall: 0.6183 - val_precision: 0.8880\n",
      "Epoch 22/50\n",
      "1417/1417 [==============================] - 19s 14ms/step - loss: 0.5097 - accuracy: 0.7972 - recall: 0.7164 - precision: 0.9115 - val_loss: 0.7388 - val_accuracy: 0.7234 - val_recall: 0.6201 - val_precision: 0.8828\n",
      "Epoch 23/50\n",
      "1417/1417 [==============================] - 20s 14ms/step - loss: 0.5077 - accuracy: 0.7980 - recall: 0.7178 - precision: 0.9123 - val_loss: 0.7255 - val_accuracy: 0.7424 - val_recall: 0.6337 - val_precision: 0.8772\n",
      "Epoch 24/50\n",
      "1417/1417 [==============================] - 20s 14ms/step - loss: 0.5101 - accuracy: 0.7962 - recall: 0.7169 - precision: 0.9091 - val_loss: 0.7389 - val_accuracy: 0.7263 - val_recall: 0.6311 - val_precision: 0.8747\n",
      "Epoch 25/50\n",
      "1417/1417 [==============================] - 20s 14ms/step - loss: 0.5077 - accuracy: 0.7979 - recall: 0.7188 - precision: 0.9086 - val_loss: 0.7326 - val_accuracy: 0.7316 - val_recall: 0.6315 - val_precision: 0.8843\n",
      "Epoch 26/50\n",
      "1417/1417 [==============================] - 20s 14ms/step - loss: 0.5113 - accuracy: 0.7970 - recall: 0.7158 - precision: 0.9107 - val_loss: 0.7285 - val_accuracy: 0.7359 - val_recall: 0.6353 - val_precision: 0.8758\n",
      "Epoch 27/50\n",
      "1417/1417 [==============================] - 20s 14ms/step - loss: 0.5084 - accuracy: 0.7978 - recall: 0.7179 - precision: 0.9084 - val_loss: 0.7528 - val_accuracy: 0.7248 - val_recall: 0.6237 - val_precision: 0.8752\n",
      "Epoch 28/50\n",
      "1417/1417 [==============================] - 20s 14ms/step - loss: 0.5057 - accuracy: 0.7985 - recall: 0.7176 - precision: 0.9127 - val_loss: 0.7581 - val_accuracy: 0.7240 - val_recall: 0.6254 - val_precision: 0.8688\n",
      "Epoch 29/50\n",
      "1417/1417 [==============================] - 20s 14ms/step - loss: 0.5055 - accuracy: 0.7978 - recall: 0.7176 - precision: 0.9112 - val_loss: 0.7436 - val_accuracy: 0.7300 - val_recall: 0.6241 - val_precision: 0.8872\n",
      "Epoch 30/50\n",
      "1417/1417 [==============================] - 20s 14ms/step - loss: 0.5074 - accuracy: 0.7972 - recall: 0.7184 - precision: 0.9084 - val_loss: 0.7353 - val_accuracy: 0.7284 - val_recall: 0.6208 - val_precision: 0.8844\n",
      "Epoch 31/50\n",
      "1417/1417 [==============================] - 20s 14ms/step - loss: 0.5079 - accuracy: 0.7971 - recall: 0.7174 - precision: 0.9110 - val_loss: 0.7271 - val_accuracy: 0.7253 - val_recall: 0.6307 - val_precision: 0.8756\n",
      "Epoch 32/50\n",
      "1417/1417 [==============================] - 20s 14ms/step - loss: 0.5035 - accuracy: 0.7985 - recall: 0.7204 - precision: 0.9087 - val_loss: 0.7464 - val_accuracy: 0.7370 - val_recall: 0.6234 - val_precision: 0.8789\n",
      "Epoch 33/50\n",
      "1417/1417 [==============================] - 20s 14ms/step - loss: 0.5051 - accuracy: 0.7985 - recall: 0.7193 - precision: 0.9114 - val_loss: 0.7383 - val_accuracy: 0.7173 - val_recall: 0.6195 - val_precision: 0.8810\n",
      "Epoch 34/50\n",
      "1417/1417 [==============================] - 20s 14ms/step - loss: 0.5062 - accuracy: 0.7986 - recall: 0.7181 - precision: 0.9109 - val_loss: 0.7476 - val_accuracy: 0.7242 - val_recall: 0.6260 - val_precision: 0.8718\n",
      "Epoch 35/50\n",
      "1417/1417 [==============================] - 20s 14ms/step - loss: 0.5015 - accuracy: 0.7992 - recall: 0.7205 - precision: 0.9116 - val_loss: 0.7426 - val_accuracy: 0.7324 - val_recall: 0.6305 - val_precision: 0.8746\n",
      "Epoch 36/50\n",
      "1417/1417 [==============================] - 20s 14ms/step - loss: 0.5066 - accuracy: 0.7974 - recall: 0.7182 - precision: 0.9120 - val_loss: 0.7395 - val_accuracy: 0.7234 - val_recall: 0.6370 - val_precision: 0.8679\n",
      "Epoch 37/50\n",
      "1417/1417 [==============================] - 20s 14ms/step - loss: 0.5052 - accuracy: 0.7981 - recall: 0.7201 - precision: 0.9084 - val_loss: 0.7607 - val_accuracy: 0.7177 - val_recall: 0.6198 - val_precision: 0.8713\n",
      "Epoch 38/50\n",
      "1417/1417 [==============================] - 20s 14ms/step - loss: 0.5044 - accuracy: 0.7991 - recall: 0.7184 - precision: 0.9105 - val_loss: 0.7119 - val_accuracy: 0.7503 - val_recall: 0.6488 - val_precision: 0.8864\n",
      "Epoch 39/50\n",
      "1417/1417 [==============================] - 20s 14ms/step - loss: 0.5043 - accuracy: 0.7988 - recall: 0.7182 - precision: 0.9106 - val_loss: 0.7367 - val_accuracy: 0.7249 - val_recall: 0.6278 - val_precision: 0.8798\n",
      "Epoch 40/50\n",
      "1417/1417 [==============================] - 20s 14ms/step - loss: 0.5037 - accuracy: 0.7983 - recall: 0.7196 - precision: 0.9122 - val_loss: 0.7579 - val_accuracy: 0.7208 - val_recall: 0.6190 - val_precision: 0.8758\n",
      "Epoch 41/50\n",
      "1417/1417 [==============================] - 20s 14ms/step - loss: 0.5020 - accuracy: 0.7971 - recall: 0.7179 - precision: 0.9140 - val_loss: 0.7174 - val_accuracy: 0.7439 - val_recall: 0.6233 - val_precision: 0.8985\n",
      "Epoch 42/50\n",
      "1417/1417 [==============================] - 20s 14ms/step - loss: 0.5047 - accuracy: 0.7987 - recall: 0.7205 - precision: 0.9103 - val_loss: 0.7392 - val_accuracy: 0.7184 - val_recall: 0.6280 - val_precision: 0.8763\n",
      "Epoch 43/50\n",
      "1417/1417 [==============================] - 20s 14ms/step - loss: 0.5035 - accuracy: 0.7986 - recall: 0.7193 - precision: 0.9101 - val_loss: 0.7345 - val_accuracy: 0.7329 - val_recall: 0.6266 - val_precision: 0.8907\n",
      "Epoch 44/50\n",
      "1417/1417 [==============================] - 20s 14ms/step - loss: 0.5013 - accuracy: 0.7983 - recall: 0.7186 - precision: 0.9124 - val_loss: 0.7357 - val_accuracy: 0.7273 - val_recall: 0.6318 - val_precision: 0.8783\n",
      "Epoch 45/50\n",
      "1417/1417 [==============================] - 20s 14ms/step - loss: 0.5003 - accuracy: 0.7994 - recall: 0.7198 - precision: 0.9112 - val_loss: 0.7118 - val_accuracy: 0.7456 - val_recall: 0.6444 - val_precision: 0.8858\n",
      "Epoch 46/50\n",
      "1417/1417 [==============================] - 20s 14ms/step - loss: 0.5005 - accuracy: 0.7988 - recall: 0.7191 - precision: 0.9133 - val_loss: 0.7190 - val_accuracy: 0.7471 - val_recall: 0.6448 - val_precision: 0.8778\n",
      "Epoch 47/50\n",
      "1417/1417 [==============================] - 20s 14ms/step - loss: 0.5009 - accuracy: 0.8001 - recall: 0.7206 - precision: 0.9118 - val_loss: 0.7386 - val_accuracy: 0.7252 - val_recall: 0.6242 - val_precision: 0.8800\n",
      "Epoch 48/50\n",
      "1417/1417 [==============================] - 20s 14ms/step - loss: 0.4996 - accuracy: 0.8009 - recall: 0.7192 - precision: 0.9129 - val_loss: 0.7509 - val_accuracy: 0.7225 - val_recall: 0.6254 - val_precision: 0.8778\n",
      "Epoch 49/50\n",
      "1417/1417 [==============================] - 20s 14ms/step - loss: 0.4994 - accuracy: 0.8004 - recall: 0.7206 - precision: 0.9132 - val_loss: 0.7482 - val_accuracy: 0.7205 - val_recall: 0.6240 - val_precision: 0.8781\n",
      "Epoch 50/50\n",
      "1417/1417 [==============================] - 20s 14ms/step - loss: 0.5001 - accuracy: 0.7982 - recall: 0.7194 - precision: 0.9125 - val_loss: 0.7505 - val_accuracy: 0.7225 - val_recall: 0.6230 - val_precision: 0.8695\n"
     ]
    }
   ],
   "source": [
    "#Define epochs and batch size\n",
    "epochs = 50\n",
    "batch_size = 32\n",
    "\n",
    "#Train the model\n",
    "history = model.fit(X_train, y_train, epochs=epochs, batch_size=batch_size, validation_data=(X_test, y_test))"
   ]
  },
  {
   "cell_type": "markdown",
   "metadata": {},
   "source": [
    "## Evaluate The Model"
   ]
  },
  {
   "cell_type": "code",
   "execution_count": 28,
   "metadata": {},
   "outputs": [
    {
     "name": "stdout",
     "output_type": "stream",
     "text": [
      "3730/3730 [==============================] - 11s 3ms/step - loss: 0.7505 - accuracy: 0.7225 - recall: 0.6230 - precision: 0.8695\n",
      "Test Loss: 0.7504501938819885\n",
      "Test Accuracy: 0.7224647998809814\n",
      "Test Recall: 0.6229835152626038\n",
      "Test Precision: 0.8695143461227417\n"
     ]
    }
   ],
   "source": [
    "#Evaluate the model on test data\n",
    "loss, accuracy, recall, precision = model.evaluate(X_test, y_test)\n",
    "print('Test Loss:', loss)\n",
    "print('Test Accuracy:', accuracy)\n",
    "print('Test Recall:', recall)\n",
    "print('Test Precision:', precision)"
   ]
  },
  {
   "cell_type": "code",
   "execution_count": 29,
   "metadata": {},
   "outputs": [
    {
     "name": "stdout",
     "output_type": "stream",
     "text": [
      "3730/3730 [==============================] - 10s 3ms/step\n"
     ]
    }
   ],
   "source": [
    "# make a predictions\n",
    "predictions = model.predict(X_test)"
   ]
  },
  {
   "cell_type": "code",
   "execution_count": 30,
   "metadata": {},
   "outputs": [],
   "source": [
    "# convert one-hot encode predictions to class labels\n",
    "predicted_classes = np.argmax(predictions, axis=1)\n",
    "y_test_categorical = np.argmax(y_test, axis=1)"
   ]
  },
  {
   "cell_type": "markdown",
   "metadata": {},
   "source": [
    "### Confusion Matrix"
   ]
  },
  {
   "cell_type": "code",
   "execution_count": 31,
   "metadata": {},
   "outputs": [],
   "source": [
    "# function to calculate recall from confusion matrix\n",
    "def calculate_recall(confusion_matrix):\n",
    "    num_class = len(confusion_matrix)\n",
    "    recalls = []\n",
    "\n",
    "    for i in range(num_class):\n",
    "        true_positive = confusion_matrix[i][i]\n",
    "        false_negative = sum(confusion_matrix[i]) - true_positive\n",
    "\n",
    "        recall = true_positive / (true_positive + false_negative)\n",
    "        recalls.append(recall)\n",
    "    \n",
    "    return recalls"
   ]
  },
  {
   "cell_type": "code",
   "execution_count": 32,
   "metadata": {},
   "outputs": [],
   "source": [
    "# function to display the recall score\n",
    "def display_recall(recalls):\n",
    "    print('Recall Scores for each class:')\n",
    "    print('Analysis:', recalls[0])\n",
    "    print('Backdoor:', recalls[1])\n",
    "    print('DoS:', recalls[2])\n",
    "    print('Exploits:', recalls[3])\n",
    "    print('Fuzzers:', recalls[4])\n",
    "    print('Generic:', recalls[5])\n",
    "    print('Reconnaissance:', recalls[6])\n",
    "    print('Shellcode:', recalls[7])\n",
    "    print('Worms:', recalls[8])"
   ]
  },
  {
   "cell_type": "code",
   "execution_count": 33,
   "metadata": {},
   "outputs": [],
   "source": [
    "from sklearn.metrics import confusion_matrix"
   ]
  },
  {
   "cell_type": "code",
   "execution_count": 34,
   "metadata": {},
   "outputs": [],
   "source": [
    "matrix = confusion_matrix(y_test_categorical, predicted_classes)\n",
    "matrix_df = pd.DataFrame(matrix, \n",
    "                         index= ['Analysis', 'Backdoor', 'DoS', 'Exploits', 'Fuzzers', 'Generic', 'Reconnaissance', 'Shellcode', 'Worms'], \n",
    "                         columns= ['Analysis', 'Backdoor', 'DoS', 'Exploits', 'Fuzzers', 'Generic', 'Reconnaissance', 'Shellcode', 'Worms'])"
   ]
  },
  {
   "cell_type": "code",
   "execution_count": 35,
   "metadata": {},
   "outputs": [
    {
     "data": {
      "image/png": "[encoded data removed]",
      "text/plain": [
       "<Figure size 2000x2000 with 2 Axes>"
      ]
     },
     "metadata": {},
     "output_type": "display_data"
    }
   ],
   "source": [
    "# Plotting Confusion Matrix\n",
    "plt.figure(figsize = (20, 20))\n",
    "sns.heatmap(matrix_df, fmt='.0f', annot=True)\n",
    "plt.title('Confusion Matrix (1D CNN)')\n",
    "plt.ylabel('Actual Values')\n",
    "plt.xlabel('Predicted Values')\n",
    "plt.show()"
   ]
  },
  {
   "cell_type": "code",
   "execution_count": 36,
   "metadata": {},
   "outputs": [
    {
     "name": "stdout",
     "output_type": "stream",
     "text": [
      "Recall Scores for each class:\n",
      "Analysis: 0.0\n",
      "Backdoor: 0.0\n",
      "DoS: 0.30484423421954004\n",
      "Exploits: 0.7215898879769963\n",
      "Fuzzers: 0.7637483501979763\n",
      "Generic: 0.9791744793619841\n",
      "Reconnaissance: 0.4752597959767375\n",
      "Shellcode: 0.28949691085613416\n",
      "Worms: 0.11538461538461539\n"
     ]
    }
   ],
   "source": [
    "recalls = calculate_recall(matrix)\n",
    "display_recall(recalls)"
   ]
  },
  {
   "cell_type": "markdown",
   "metadata": {},
   "source": [
    "## Save and load the model"
   ]
  },
  {
   "cell_type": "code",
   "execution_count": 37,
   "metadata": {},
   "outputs": [],
   "source": [
    "from keras.models import load_model"
   ]
  },
  {
   "cell_type": "code",
   "execution_count": 38,
   "metadata": {},
   "outputs": [],
   "source": [
    "# save the 1D CNN trained model using keras\n",
    "model.save('/Data/Visual Studio Code/Data Science/Notebook/UNSW-NB15/CNN/Imbalanced/Saved/cnn1d.keras')"
   ]
  },
  {
   "cell_type": "code",
   "execution_count": 39,
   "metadata": {},
   "outputs": [],
   "source": [
    "# load the 1D CNN trained model using keras\n",
    "model = load_model('/Data/Visual Studio Code/Data Science/Notebook/UNSW-NB15/CNN/Imbalanced/Saved/cnn1d.keras')"
   ]
  },
  {
   "cell_type": "markdown",
   "metadata": {},
   "source": [
    "## Save and load the predicted"
   ]
  },
  {
   "cell_type": "code",
   "execution_count": 40,
   "metadata": {},
   "outputs": [],
   "source": [
    "import pickle"
   ]
  },
  {
   "cell_type": "code",
   "execution_count": 41,
   "metadata": {},
   "outputs": [],
   "source": [
    "# save the decision tree trained model\n",
    "with open('/Data/Visual Studio Code/Data Science/Notebook/UNSW-NB15/CNN/Imbalanced/Saved/predicted_classes.pkl', 'wb') as model_file:\n",
    "    pickle.dump(predicted_classes, model_file)"
   ]
  },
  {
   "cell_type": "code",
   "execution_count": 42,
   "metadata": {},
   "outputs": [],
   "source": [
    "# load the decision tree trained model\n",
    "with open('/Data/Visual Studio Code/Data Science/Notebook/UNSW-NB15/CNN/Imbalanced/Saved/predicted_classes.pkl', 'rb') as model_file:\n",
    "    predicted_classes = pickle.load(model_file)"
   ]
  }
 ],
 "metadata": {
  "kernelspec": {
   "display_name": "myenv",
   "language": "python",
   "name": "python3"
  },
  "language_info": {
   "codemirror_mode": {
    "name": "ipython",
    "version": 3
   },
   "file_extension": ".py",
   "mimetype": "text/x-python",
   "name": "python",
   "nbconvert_exporter": "python",
   "pygments_lexer": "ipython3",
   "version": "3.10.11"
  },
  "orig_nbformat": 4
 },
 "nbformat": 4,
 "nbformat_minor": 2
}
