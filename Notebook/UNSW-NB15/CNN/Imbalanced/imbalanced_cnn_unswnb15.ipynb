{
 "cells": [
  {
   "cell_type": "markdown",
   "metadata": {},
   "source": [
    "# Data Preprocessing"
   ]
  },
  {
   "cell_type": "code",
   "execution_count": 1,
   "metadata": {},
   "outputs": [],
   "source": [
    "import pandas as pd\n",
    "import matplotlib.pyplot as plt\n",
    "import seaborn as sns\n",
    "import numpy as np"
   ]
  },
  {
   "cell_type": "code",
   "execution_count": 2,
   "metadata": {},
   "outputs": [],
   "source": [
    "# Load dataset\n",
    "data_train = pd.read_csv('/Data/Visual Studio Code/Data Science/Dataset/UNSW-NB15/UNSW_NB15_training-set.csv')\n",
    "data_test = pd.read_csv('/Data/Visual Studio Code/Data Science/Dataset/UNSW-NB15/UNSW_NB15_testing-set.csv')"
   ]
  },
  {
   "cell_type": "code",
   "execution_count": 3,
   "metadata": {},
   "outputs": [],
   "source": [
    "# Handle missing value and duplicate if any\n",
    "data_train.dropna(inplace=True)\n",
    "data_train.drop_duplicates(inplace=True)\n",
    "\n",
    "data_test.dropna(inplace=True)\n",
    "data_test.drop_duplicates(inplace=True)"
   ]
  },
  {
   "cell_type": "code",
   "execution_count": 4,
   "metadata": {},
   "outputs": [],
   "source": [
    "#Split Attack and Normal from dataframe\n",
    "data_train_attack = data_train[data_train['label'] == 1]\n",
    "data_test_attack = data_test[data_test['label'] == 1]\n",
    "\n",
    "#Optional\n",
    "#data_train_normal = data_train[data_train['label'] == 0]\n",
    "#data_test_normal = data_test[data_test['label'] == 0]"
   ]
  },
  {
   "cell_type": "code",
   "execution_count": 5,
   "metadata": {},
   "outputs": [],
   "source": [
    "# Drop id and label from train and test data\n",
    "data_train_attack = data_train_attack.drop('id', axis=1)\n",
    "data_train_attack = data_train_attack.drop('label', axis=1)\n",
    "\n",
    "data_test_attack = data_test_attack.drop('id', axis=1)\n",
    "data_test_attack = data_test_attack.drop('label', axis=1)"
   ]
  },
  {
   "cell_type": "code",
   "execution_count": 6,
   "metadata": {},
   "outputs": [
    {
     "name": "stdout",
     "output_type": "stream",
     "text": [
      "6\n",
      "5\n"
     ]
    }
   ],
   "source": [
    "print(data_train_attack['state'].nunique())\n",
    "print(data_test_attack['state'].nunique())"
   ]
  },
  {
   "cell_type": "code",
   "execution_count": 7,
   "metadata": {},
   "outputs": [
    {
     "name": "stdout",
     "output_type": "stream",
     "text": [
      "['INT' 'FIN' 'ACC' 'CON' 'REQ' 'CLO']\n",
      "['INT' 'FIN' 'CON' 'REQ' 'RST']\n"
     ]
    }
   ],
   "source": [
    "print(data_train_attack['state'].unique())\n",
    "print(data_test_attack['state'].unique())"
   ]
  },
  {
   "cell_type": "code",
   "execution_count": 8,
   "metadata": {},
   "outputs": [],
   "source": [
    "#Drop ACC, CLO, and RST from data\n",
    "data_train_attack = data_train_attack[(data_train_attack['state'] != 'ACC') & (data_train_attack['state'] != 'CLO')]\n",
    "data_test_attack = data_test_attack[(data_test_attack['state'] != 'RST')]"
   ]
  },
  {
   "cell_type": "code",
   "execution_count": 9,
   "metadata": {},
   "outputs": [
    {
     "name": "stdout",
     "output_type": "stream",
     "text": [
      "['INT' 'FIN' 'CON' 'REQ']\n",
      "['INT' 'FIN' 'CON' 'REQ']\n"
     ]
    }
   ],
   "source": [
    "print(data_train_attack['state'].unique())\n",
    "print(data_test_attack['state'].unique())"
   ]
  },
  {
   "cell_type": "markdown",
   "metadata": {},
   "source": [
    "## Encode Train and Test Data"
   ]
  },
  {
   "cell_type": "code",
   "execution_count": 10,
   "metadata": {},
   "outputs": [
    {
     "data": {
      "text/plain": [
       "['proto', 'state', 'service']"
      ]
     },
     "execution_count": 10,
     "metadata": {},
     "output_type": "execute_result"
    }
   ],
   "source": [
    "#column to encode\n",
    "cols = ['proto','state','service']\n",
    "cols"
   ]
  },
  {
   "cell_type": "code",
   "execution_count": 11,
   "metadata": {},
   "outputs": [],
   "source": [
    "#One-hot Encoding\n",
    "# Encode train data\n",
    "data_train_attack = pd.get_dummies(data_train_attack, columns=cols)\n",
    "\n",
    "# Encode test data\n",
    "data_test_attack = pd.get_dummies(data_test_attack, columns=cols)"
   ]
  },
  {
   "cell_type": "code",
   "execution_count": 12,
   "metadata": {},
   "outputs": [],
   "source": [
    "train_attack_cat = data_train_attack.pop('attack_cat')\n",
    "test_attack_cat = data_test_attack.pop('attack_cat')"
   ]
  },
  {
   "cell_type": "markdown",
   "metadata": {},
   "source": [
    "## Normalization"
   ]
  },
  {
   "cell_type": "code",
   "execution_count": 13,
   "metadata": {},
   "outputs": [],
   "source": [
    "# Min-Max Normalization\n",
    "from sklearn.preprocessing import MinMaxScaler\n",
    "\n",
    "scaler = MinMaxScaler()\n",
    "cols_to_norm = ['dur', 'spkts', 'dpkts', 'sbytes', 'dbytes', 'rate', 'sttl', 'dttl', 'sload', \n",
    "                'dload', 'sloss', 'dloss', 'sinpkt', 'dinpkt', 'sjit', 'djit', 'swin', 'stcpb', 'dtcpb', 'dwin', 'tcprtt', 'synack', \n",
    "                'ackdat', 'smean', 'dmean', 'trans_depth', 'response_body_len', 'ct_srv_src', 'ct_state_ttl', 'ct_dst_ltm', \n",
    "                'ct_src_dport_ltm', 'ct_dst_sport_ltm', 'ct_dst_src_ltm', 'is_ftp_login', 'ct_ftp_cmd', 'ct_flw_http_mthd', 'ct_src_ltm', \n",
    "                'ct_srv_dst', 'is_sm_ips_ports']\n",
    "\n",
    "data_train_attack[cols_to_norm] = scaler.fit_transform(data_train_attack[cols_to_norm])\n",
    "data_test_attack[cols_to_norm] = scaler.fit_transform(data_test_attack[cols_to_norm])"
   ]
  },
  {
   "cell_type": "markdown",
   "metadata": {},
   "source": [
    "## Feature Selection"
   ]
  },
  {
   "cell_type": "code",
   "execution_count": 14,
   "metadata": {},
   "outputs": [
    {
     "data": {
      "text/plain": [
       "dur               float64\n",
       "spkts             float64\n",
       "dpkts             float64\n",
       "sbytes            float64\n",
       "dbytes            float64\n",
       "                   ...   \n",
       "service_radius       bool\n",
       "service_smtp         bool\n",
       "service_snmp         bool\n",
       "service_ssh          bool\n",
       "service_ssl          bool\n",
       "Length: 181, dtype: object"
      ]
     },
     "execution_count": 14,
     "metadata": {},
     "output_type": "execute_result"
    }
   ],
   "source": [
    "#Feature Selection\n",
    "feature = data_train_attack.drop(['dinpkt', 'ct_ftp_cmd', 'ct_src_dport_ltm', 'is_sm_ips_ports'], axis=1)\n",
    "feature.dtypes"
   ]
  },
  {
   "cell_type": "markdown",
   "metadata": {},
   "source": [
    "# Balancing Data"
   ]
  },
  {
   "cell_type": "code",
   "execution_count": 15,
   "metadata": {},
   "outputs": [
    {
     "data": {
      "text/plain": [
       "((45329, 181), (45329,), (119329, 181), (119329,))"
      ]
     },
     "execution_count": 15,
     "metadata": {},
     "output_type": "execute_result"
    }
   ],
   "source": [
    "#Splitting the dataset into dependent and independent feature\n",
    "X_train = feature\n",
    "y_train = train_attack_cat\n",
    "\n",
    "X_test = data_test_attack.drop(columns=['dinpkt', 'ct_ftp_cmd', 'ct_src_dport_ltm', 'is_sm_ips_ports'])\n",
    "y_test = test_attack_cat\n",
    "\n",
    "X_train.shape, y_train.shape, X_test.shape, y_test.shape"
   ]
  },
  {
   "cell_type": "markdown",
   "metadata": {},
   "source": [
    "# Model Architecture"
   ]
  },
  {
   "cell_type": "code",
   "execution_count": 16,
   "metadata": {},
   "outputs": [],
   "source": [
    "# import tensorflow as tf\n",
    "from keras.models import Sequential\n",
    "from keras.layers import Conv1D, MaxPooling1D, GlobalAveragePooling1D, Dense, Dropout\n",
    "from keras.metrics import Recall, Precision"
   ]
  },
  {
   "cell_type": "markdown",
   "metadata": {},
   "source": [
    "## CNN Model"
   ]
  },
  {
   "cell_type": "code",
   "execution_count": 17,
   "metadata": {},
   "outputs": [],
   "source": [
    "# Define the input shape\n",
    "input_shape = (181, 1)\n",
    "\n",
    "#Create the sequential model\n",
    "model = Sequential()\n",
    "model.add(Conv1D(64, kernel_size=3, activation='relu', input_shape=input_shape))\n",
    "model.add(MaxPooling1D(pool_size=2)) # reduces the spatial dimensions of the output volume\n",
    "model.add(Conv1D(128, kernel_size=3, activation='relu'))\n",
    "model.add(GlobalAveragePooling1D()) # computes the average of all values across the spatial dimensions, effectively flattening the data\n",
    "model.add(Dropout(0.5)) # helps prevent overfitting by randomly setting a fraction of input units to 0 during training\n",
    "model.add(Dense(256, activation='relu'))\n",
    "model.add(Dense(9, activation='softmax'))\n",
    "\n",
    "#Compile the model\n",
    "model.compile(optimizer='adam', loss='categorical_crossentropy', metrics=['accuracy', Recall(), Precision()])"
   ]
  },
  {
   "cell_type": "code",
   "execution_count": 18,
   "metadata": {},
   "outputs": [
    {
     "name": "stdout",
     "output_type": "stream",
     "text": [
      "Model: \"sequential\"\n",
      "_________________________________________________________________\n",
      " Layer (type)                Output Shape              Param #   \n",
      "=================================================================\n",
      " conv1d (Conv1D)             (None, 179, 64)           256       \n",
      "                                                                 \n",
      " max_pooling1d (MaxPooling1  (None, 89, 64)            0         \n",
      " D)                                                              \n",
      "                                                                 \n",
      " conv1d_1 (Conv1D)           (None, 87, 128)           24704     \n",
      "                                                                 \n",
      " global_average_pooling1d (  (None, 128)               0         \n",
      " GlobalAveragePooling1D)                                         \n",
      "                                                                 \n",
      " dropout (Dropout)           (None, 128)               0         \n",
      "                                                                 \n",
      " dense (Dense)               (None, 256)               33024     \n",
      "                                                                 \n",
      " dense_1 (Dense)             (None, 9)                 2313      \n",
      "                                                                 \n",
      "=================================================================\n",
      "Total params: 60297 (235.54 KB)\n",
      "Trainable params: 60297 (235.54 KB)\n",
      "Non-trainable params: 0 (0.00 Byte)\n",
      "_________________________________________________________________\n"
     ]
    }
   ],
   "source": [
    "#Print the model summary\n",
    "model.summary()"
   ]
  },
  {
   "cell_type": "markdown",
   "metadata": {},
   "source": [
    "## Train the model"
   ]
  },
  {
   "cell_type": "code",
   "execution_count": 19,
   "metadata": {},
   "outputs": [],
   "source": [
    "from keras.utils import to_categorical\n",
    "from sklearn.preprocessing import LabelEncoder"
   ]
  },
  {
   "cell_type": "code",
   "execution_count": 20,
   "metadata": {},
   "outputs": [],
   "source": [
    "le = LabelEncoder()\n",
    "\n",
    "y_train = le.fit_transform(y_train)\n",
    "y_test = le.fit_transform(y_test)"
   ]
  },
  {
   "cell_type": "code",
   "execution_count": 21,
   "metadata": {},
   "outputs": [],
   "source": [
    "num_class = 9\n",
    "y_train = to_categorical(y_train, num_class)\n",
    "y_test = to_categorical(y_test, num_class)"
   ]
  },
  {
   "cell_type": "code",
   "execution_count": 22,
   "metadata": {},
   "outputs": [],
   "source": [
    "X_train = np.array(X_train, dtype=np.float32)\n",
    "X_test = np.array(X_test, dtype=np.float32)"
   ]
  },
  {
   "cell_type": "code",
   "execution_count": 23,
   "metadata": {},
   "outputs": [
    {
     "name": "stdout",
     "output_type": "stream",
     "text": [
      "Epoch 1/50\n",
      "1417/1417 [==============================] - 24s 16ms/step - loss: 1.0996 - accuracy: 0.6024 - recall: 0.4171 - precision: 0.8594 - val_loss: 0.9562 - val_accuracy: 0.6741 - val_recall: 0.4673 - val_precision: 0.8852\n",
      "Epoch 2/50\n",
      "1417/1417 [==============================] - 23s 16ms/step - loss: 0.8719 - accuracy: 0.6838 - recall: 0.5461 - precision: 0.8848 - val_loss: 0.9101 - val_accuracy: 0.6715 - val_recall: 0.5533 - val_precision: 0.8346\n",
      "Epoch 3/50\n",
      "1417/1417 [==============================] - 23s 16ms/step - loss: 0.8360 - accuracy: 0.6902 - recall: 0.5661 - precision: 0.8847 - val_loss: 0.9076 - val_accuracy: 0.6713 - val_recall: 0.5023 - val_precision: 0.8921\n",
      "Epoch 4/50\n",
      "1417/1417 [==============================] - 21s 15ms/step - loss: 0.8177 - accuracy: 0.6957 - recall: 0.5709 - precision: 0.8913 - val_loss: 0.8897 - val_accuracy: 0.6921 - val_recall: 0.5266 - val_precision: 0.8834\n",
      "Epoch 5/50\n",
      "1417/1417 [==============================] - 21s 15ms/step - loss: 0.7979 - accuracy: 0.7031 - recall: 0.5748 - precision: 0.8938 - val_loss: 0.8828 - val_accuracy: 0.6730 - val_recall: 0.5088 - val_precision: 0.9106\n",
      "Epoch 6/50\n",
      "1417/1417 [==============================] - 22s 15ms/step - loss: 0.7760 - accuracy: 0.7101 - recall: 0.5806 - precision: 0.8954 - val_loss: 0.8687 - val_accuracy: 0.6822 - val_recall: 0.4938 - val_precision: 0.9209\n",
      "Epoch 7/50\n",
      "1417/1417 [==============================] - 21s 15ms/step - loss: 0.7580 - accuracy: 0.7179 - recall: 0.5857 - precision: 0.8986 - val_loss: 0.8614 - val_accuracy: 0.6820 - val_recall: 0.4987 - val_precision: 0.9132\n",
      "Epoch 8/50\n",
      "1417/1417 [==============================] - 21s 15ms/step - loss: 0.7416 - accuracy: 0.7255 - recall: 0.5958 - precision: 0.9001 - val_loss: 0.8423 - val_accuracy: 0.6850 - val_recall: 0.5195 - val_precision: 0.9151\n",
      "Epoch 9/50\n",
      "1417/1417 [==============================] - 21s 15ms/step - loss: 0.7267 - accuracy: 0.7292 - recall: 0.6058 - precision: 0.9007 - val_loss: 0.8406 - val_accuracy: 0.6879 - val_recall: 0.5400 - val_precision: 0.9039\n",
      "Epoch 10/50\n",
      "1417/1417 [==============================] - 21s 15ms/step - loss: 0.7174 - accuracy: 0.7341 - recall: 0.6120 - precision: 0.9006 - val_loss: 0.8328 - val_accuracy: 0.6927 - val_recall: 0.5435 - val_precision: 0.8901\n",
      "Epoch 11/50\n",
      "1417/1417 [==============================] - 21s 15ms/step - loss: 0.7054 - accuracy: 0.7405 - recall: 0.6201 - precision: 0.8991 - val_loss: 0.8307 - val_accuracy: 0.6912 - val_recall: 0.5374 - val_precision: 0.9085\n",
      "Epoch 12/50\n",
      "1417/1417 [==============================] - 21s 15ms/step - loss: 0.6938 - accuracy: 0.7428 - recall: 0.6273 - precision: 0.8973 - val_loss: 0.8295 - val_accuracy: 0.6946 - val_recall: 0.5612 - val_precision: 0.8886\n",
      "Epoch 13/50\n",
      "1417/1417 [==============================] - 21s 15ms/step - loss: 0.6873 - accuracy: 0.7496 - recall: 0.6328 - precision: 0.8961 - val_loss: 0.8146 - val_accuracy: 0.7121 - val_recall: 0.5715 - val_precision: 0.8753\n",
      "Epoch 14/50\n",
      "1417/1417 [==============================] - 21s 15ms/step - loss: 0.6778 - accuracy: 0.7499 - recall: 0.6371 - precision: 0.8936 - val_loss: 0.8009 - val_accuracy: 0.7030 - val_recall: 0.5869 - val_precision: 0.8718\n",
      "Epoch 15/50\n",
      "1417/1417 [==============================] - 21s 15ms/step - loss: 0.6695 - accuracy: 0.7546 - recall: 0.6438 - precision: 0.8920 - val_loss: 0.7955 - val_accuracy: 0.7054 - val_recall: 0.5820 - val_precision: 0.8773\n",
      "Epoch 16/50\n",
      "1417/1417 [==============================] - 21s 15ms/step - loss: 0.6620 - accuracy: 0.7548 - recall: 0.6508 - precision: 0.8897 - val_loss: 0.7994 - val_accuracy: 0.7066 - val_recall: 0.5783 - val_precision: 0.8842\n",
      "Epoch 17/50\n",
      "1417/1417 [==============================] - 21s 15ms/step - loss: 0.6537 - accuracy: 0.7592 - recall: 0.6563 - precision: 0.8905 - val_loss: 0.7870 - val_accuracy: 0.7196 - val_recall: 0.5769 - val_precision: 0.8927\n",
      "Epoch 18/50\n",
      "1417/1417 [==============================] - 21s 15ms/step - loss: 0.6459 - accuracy: 0.7605 - recall: 0.6573 - precision: 0.8906 - val_loss: 0.7749 - val_accuracy: 0.7150 - val_recall: 0.5981 - val_precision: 0.8781\n",
      "Epoch 19/50\n",
      "1417/1417 [==============================] - 21s 15ms/step - loss: 0.6394 - accuracy: 0.7631 - recall: 0.6627 - precision: 0.8896 - val_loss: 0.7783 - val_accuracy: 0.7300 - val_recall: 0.5941 - val_precision: 0.8812\n",
      "Epoch 20/50\n",
      "1417/1417 [==============================] - 21s 15ms/step - loss: 0.6340 - accuracy: 0.7634 - recall: 0.6680 - precision: 0.8914 - val_loss: 0.7959 - val_accuracy: 0.7173 - val_recall: 0.5851 - val_precision: 0.8836\n",
      "Epoch 21/50\n",
      "1417/1417 [==============================] - 21s 15ms/step - loss: 0.6256 - accuracy: 0.7660 - recall: 0.6698 - precision: 0.8912 - val_loss: 0.7773 - val_accuracy: 0.7203 - val_recall: 0.5919 - val_precision: 0.8945\n",
      "Epoch 22/50\n",
      "1417/1417 [==============================] - 21s 15ms/step - loss: 0.6237 - accuracy: 0.7667 - recall: 0.6725 - precision: 0.8884 - val_loss: 0.7822 - val_accuracy: 0.7187 - val_recall: 0.5944 - val_precision: 0.8932\n",
      "Epoch 23/50\n",
      "1417/1417 [==============================] - 21s 15ms/step - loss: 0.6176 - accuracy: 0.7675 - recall: 0.6737 - precision: 0.8911 - val_loss: 0.7652 - val_accuracy: 0.7277 - val_recall: 0.6033 - val_precision: 0.8895\n",
      "Epoch 24/50\n",
      "1417/1417 [==============================] - 21s 15ms/step - loss: 0.6121 - accuracy: 0.7682 - recall: 0.6772 - precision: 0.8934 - val_loss: 0.7708 - val_accuracy: 0.7321 - val_recall: 0.6158 - val_precision: 0.8660\n",
      "Epoch 25/50\n",
      "1417/1417 [==============================] - 21s 15ms/step - loss: 0.6085 - accuracy: 0.7716 - recall: 0.6814 - precision: 0.8905 - val_loss: 0.7655 - val_accuracy: 0.7306 - val_recall: 0.6039 - val_precision: 0.8870\n",
      "Epoch 26/50\n",
      "1417/1417 [==============================] - 22s 15ms/step - loss: 0.6023 - accuracy: 0.7742 - recall: 0.6837 - precision: 0.8924 - val_loss: 0.7805 - val_accuracy: 0.7279 - val_recall: 0.6079 - val_precision: 0.8721\n",
      "Epoch 27/50\n",
      "1417/1417 [==============================] - 22s 15ms/step - loss: 0.6009 - accuracy: 0.7730 - recall: 0.6838 - precision: 0.8932 - val_loss: 0.7643 - val_accuracy: 0.7221 - val_recall: 0.6037 - val_precision: 0.8820\n",
      "Epoch 28/50\n",
      "1417/1417 [==============================] - 21s 15ms/step - loss: 0.5966 - accuracy: 0.7736 - recall: 0.6860 - precision: 0.8924 - val_loss: 0.7436 - val_accuracy: 0.7326 - val_recall: 0.6103 - val_precision: 0.8869\n",
      "Epoch 29/50\n",
      "1417/1417 [==============================] - 21s 15ms/step - loss: 0.5947 - accuracy: 0.7748 - recall: 0.6879 - precision: 0.8923 - val_loss: 0.7679 - val_accuracy: 0.7258 - val_recall: 0.5996 - val_precision: 0.8800\n",
      "Epoch 30/50\n",
      "1417/1417 [==============================] - 21s 15ms/step - loss: 0.5932 - accuracy: 0.7743 - recall: 0.6849 - precision: 0.8961 - val_loss: 0.7549 - val_accuracy: 0.7308 - val_recall: 0.6151 - val_precision: 0.8789\n",
      "Epoch 31/50\n",
      "1417/1417 [==============================] - 21s 15ms/step - loss: 0.5866 - accuracy: 0.7759 - recall: 0.6874 - precision: 0.8969 - val_loss: 0.7570 - val_accuracy: 0.7352 - val_recall: 0.6152 - val_precision: 0.8829\n",
      "Epoch 32/50\n",
      "1417/1417 [==============================] - 21s 15ms/step - loss: 0.5836 - accuracy: 0.7766 - recall: 0.6921 - precision: 0.8944 - val_loss: 0.7357 - val_accuracy: 0.7317 - val_recall: 0.6193 - val_precision: 0.8881\n",
      "Epoch 33/50\n",
      "1417/1417 [==============================] - 21s 15ms/step - loss: 0.5813 - accuracy: 0.7773 - recall: 0.6920 - precision: 0.8955 - val_loss: 0.7622 - val_accuracy: 0.7267 - val_recall: 0.6054 - val_precision: 0.8833\n",
      "Epoch 34/50\n",
      "1417/1417 [==============================] - 21s 15ms/step - loss: 0.5797 - accuracy: 0.7786 - recall: 0.6903 - precision: 0.8962 - val_loss: 0.7367 - val_accuracy: 0.7469 - val_recall: 0.6093 - val_precision: 0.8904\n",
      "Epoch 35/50\n",
      "1417/1417 [==============================] - 21s 15ms/step - loss: 0.5802 - accuracy: 0.7774 - recall: 0.6910 - precision: 0.8975 - val_loss: 0.7529 - val_accuracy: 0.7229 - val_recall: 0.6207 - val_precision: 0.8622\n",
      "Epoch 36/50\n",
      "1417/1417 [==============================] - 21s 15ms/step - loss: 0.5780 - accuracy: 0.7794 - recall: 0.6933 - precision: 0.8961 - val_loss: 0.7530 - val_accuracy: 0.7281 - val_recall: 0.6152 - val_precision: 0.8797\n",
      "Epoch 37/50\n",
      "1417/1417 [==============================] - 21s 15ms/step - loss: 0.5724 - accuracy: 0.7805 - recall: 0.6963 - precision: 0.8975 - val_loss: 0.7397 - val_accuracy: 0.7357 - val_recall: 0.6147 - val_precision: 0.8906\n",
      "Epoch 38/50\n",
      "1417/1417 [==============================] - 21s 15ms/step - loss: 0.5736 - accuracy: 0.7780 - recall: 0.6924 - precision: 0.8963 - val_loss: 0.7428 - val_accuracy: 0.7327 - val_recall: 0.6192 - val_precision: 0.8830\n",
      "Epoch 39/50\n",
      "1417/1417 [==============================] - 21s 15ms/step - loss: 0.5704 - accuracy: 0.7805 - recall: 0.6948 - precision: 0.8972 - val_loss: 0.7546 - val_accuracy: 0.7238 - val_recall: 0.6124 - val_precision: 0.8756\n",
      "Epoch 40/50\n",
      "1417/1417 [==============================] - 21s 15ms/step - loss: 0.5662 - accuracy: 0.7812 - recall: 0.6982 - precision: 0.8991 - val_loss: 0.7451 - val_accuracy: 0.7310 - val_recall: 0.6102 - val_precision: 0.8887\n",
      "Epoch 41/50\n",
      "1417/1417 [==============================] - 21s 15ms/step - loss: 0.5666 - accuracy: 0.7798 - recall: 0.6959 - precision: 0.8997 - val_loss: 0.7360 - val_accuracy: 0.7271 - val_recall: 0.6231 - val_precision: 0.8841\n",
      "Epoch 42/50\n",
      "1417/1417 [==============================] - 21s 15ms/step - loss: 0.5653 - accuracy: 0.7832 - recall: 0.6985 - precision: 0.8986 - val_loss: 0.7510 - val_accuracy: 0.7252 - val_recall: 0.6565 - val_precision: 0.8119\n",
      "Epoch 43/50\n",
      "1417/1417 [==============================] - 21s 15ms/step - loss: 0.5643 - accuracy: 0.7822 - recall: 0.6963 - precision: 0.8992 - val_loss: 0.7438 - val_accuracy: 0.7306 - val_recall: 0.6158 - val_precision: 0.8859\n",
      "Epoch 44/50\n",
      "1417/1417 [==============================] - 21s 15ms/step - loss: 0.5610 - accuracy: 0.7827 - recall: 0.6979 - precision: 0.9010 - val_loss: 0.7537 - val_accuracy: 0.7419 - val_recall: 0.6212 - val_precision: 0.8741\n",
      "Epoch 45/50\n",
      "1417/1417 [==============================] - 21s 15ms/step - loss: 0.5599 - accuracy: 0.7836 - recall: 0.6983 - precision: 0.9004 - val_loss: 0.7346 - val_accuracy: 0.7298 - val_recall: 0.6188 - val_precision: 0.8858\n",
      "Epoch 46/50\n",
      "1417/1417 [==============================] - 21s 15ms/step - loss: 0.5588 - accuracy: 0.7838 - recall: 0.6986 - precision: 0.9001 - val_loss: 0.7320 - val_accuracy: 0.7345 - val_recall: 0.6236 - val_precision: 0.8867\n",
      "Epoch 47/50\n",
      "1417/1417 [==============================] - 21s 15ms/step - loss: 0.5565 - accuracy: 0.7839 - recall: 0.7010 - precision: 0.9001 - val_loss: 0.7342 - val_accuracy: 0.7303 - val_recall: 0.6181 - val_precision: 0.8884\n",
      "Epoch 48/50\n",
      "1417/1417 [==============================] - 21s 15ms/step - loss: 0.5555 - accuracy: 0.7850 - recall: 0.6990 - precision: 0.9002 - val_loss: 0.7448 - val_accuracy: 0.7446 - val_recall: 0.6304 - val_precision: 0.8699\n",
      "Epoch 49/50\n",
      "1417/1417 [==============================] - 21s 15ms/step - loss: 0.5537 - accuracy: 0.7863 - recall: 0.6999 - precision: 0.9051 - val_loss: 0.7343 - val_accuracy: 0.7363 - val_recall: 0.6237 - val_precision: 0.8863\n",
      "Epoch 50/50\n",
      "1417/1417 [==============================] - 21s 15ms/step - loss: 0.5520 - accuracy: 0.7839 - recall: 0.7012 - precision: 0.9035 - val_loss: 0.7292 - val_accuracy: 0.7385 - val_recall: 0.6167 - val_precision: 0.8931\n"
     ]
    }
   ],
   "source": [
    "#Define epochs and batch size\n",
    "epochs = 50\n",
    "batch_size = 32\n",
    "\n",
    "#Train the model\n",
    "history = model.fit(X_train, y_train, epochs=epochs, batch_size=batch_size, validation_data=(X_test, y_test))"
   ]
  },
  {
   "cell_type": "markdown",
   "metadata": {},
   "source": [
    "## Evaluate The Model"
   ]
  },
  {
   "cell_type": "code",
   "execution_count": 24,
   "metadata": {},
   "outputs": [
    {
     "name": "stdout",
     "output_type": "stream",
     "text": [
      "3730/3730 [==============================] - 11s 3ms/step - loss: 0.7292 - accuracy: 0.7385 - recall: 0.6167 - precision: 0.8931\n",
      "Test Loss: 0.7292100787162781\n",
      "Test Accuracy: 0.7385212182998657\n",
      "Test Recall: 0.6166816353797913\n",
      "Test Precision: 0.8931232690811157\n"
     ]
    }
   ],
   "source": [
    "#Evaluate the model on test data\n",
    "loss, accuracy, recall, precision = model.evaluate(X_test, y_test)\n",
    "print('Test Loss:', loss)\n",
    "print('Test Accuracy:', accuracy)\n",
    "print('Test Recall:', recall)\n",
    "print('Test Precision:', precision)"
   ]
  },
  {
   "cell_type": "code",
   "execution_count": 25,
   "metadata": {},
   "outputs": [
    {
     "name": "stdout",
     "output_type": "stream",
     "text": [
      "3730/3730 [==============================] - 11s 3ms/step\n"
     ]
    }
   ],
   "source": [
    "# make a predictions\n",
    "predictions = model.predict(X_test)"
   ]
  },
  {
   "cell_type": "code",
   "execution_count": 26,
   "metadata": {},
   "outputs": [],
   "source": [
    "# convert one-hot encode predictions to class labels\n",
    "predicted_classes = np.argmax(predictions, axis=1)\n",
    "y_test_categorical = np.argmax(y_test, axis=1)"
   ]
  },
  {
   "cell_type": "markdown",
   "metadata": {},
   "source": [
    "### Confusion Matrix"
   ]
  },
  {
   "cell_type": "code",
   "execution_count": 27,
   "metadata": {},
   "outputs": [],
   "source": [
    "# function to calculate recall from confusion matrix\n",
    "def calculate_recall(confusion_matrix):\n",
    "    num_class = len(confusion_matrix)\n",
    "    recalls = []\n",
    "\n",
    "    for i in range(num_class):\n",
    "        true_positive = confusion_matrix[i][i]\n",
    "        false_negative = sum(confusion_matrix[i]) - true_positive\n",
    "\n",
    "        recall = true_positive / (true_positive + false_negative)\n",
    "        recalls.append(recall)\n",
    "    \n",
    "    return recalls"
   ]
  },
  {
   "cell_type": "code",
   "execution_count": 28,
   "metadata": {},
   "outputs": [],
   "source": [
    "# function to display the recall score\n",
    "def display_recall(recalls):\n",
    "    print('Recall Scores for each class:')\n",
    "    print('Analysis:', recalls[0])\n",
    "    print('Backdoor:', recalls[1])\n",
    "    print('DoS:', recalls[2])\n",
    "    print('Exploits:', recalls[3])\n",
    "    print('Fuzzers:', recalls[4])\n",
    "    print('Generic:', recalls[5])\n",
    "    print('Reconnaissance:', recalls[6])\n",
    "    print('Shellcode:', recalls[7])\n",
    "    print('Worms:', recalls[8])"
   ]
  },
  {
   "cell_type": "code",
   "execution_count": 29,
   "metadata": {},
   "outputs": [],
   "source": [
    "from sklearn.metrics import confusion_matrix"
   ]
  },
  {
   "cell_type": "code",
   "execution_count": 30,
   "metadata": {},
   "outputs": [],
   "source": [
    "matrix = confusion_matrix(y_test_categorical, predicted_classes)\n",
    "matrix_df = pd.DataFrame(matrix, \n",
    "                         index= ['Analysis', 'Backdoor', 'DoS', 'Exploits', 'Fuzzers', 'Generic', 'Reconnaissance', 'Shellcode', 'Worms'], \n",
    "                         columns= ['Analysis', 'Backdoor', 'DoS', 'Exploits', 'Fuzzers', 'Generic', 'Reconnaissance', 'Shellcode', 'Worms'])"
   ]
  },
  {
   "cell_type": "code",
   "execution_count": 31,
   "metadata": {},
   "outputs": [
    {
     "data": {
      "image/png": "[encoded data removed]",
      "text/plain": [
       "<Figure size 2000x2000 with 2 Axes>"
      ]
     },
     "metadata": {},
     "output_type": "display_data"
    }
   ],
   "source": [
    "# Plotting Confusion Matrix\n",
    "plt.figure(figsize = (20, 20))\n",
    "sns.heatmap(matrix_df, fmt='.0f', annot=True)\n",
    "plt.title('Confusion Matrix (1D CNN)')\n",
    "plt.ylabel('Actual Values')\n",
    "plt.xlabel('Predicted Values')\n",
    "plt.show()"
   ]
  },
  {
   "cell_type": "code",
   "execution_count": 32,
   "metadata": {},
   "outputs": [
    {
     "name": "stdout",
     "output_type": "stream",
     "text": [
      "Recall Scores for each class:\n",
      "Analysis: 0.0\n",
      "Backdoor: 0.0\n",
      "DoS: 0.4781438590768227\n",
      "Exploits: 0.675043431378422\n",
      "Fuzzers: 0.7151341838979323\n",
      "Generic: 0.9791744793619841\n",
      "Reconnaissance: 0.7189436552578892\n",
      "Shellcode: 0.01412180052956752\n",
      "Worms: 0.0\n"
     ]
    }
   ],
   "source": [
    "recalls = calculate_recall(matrix)\n",
    "display_recall(recalls)"
   ]
  },
  {
   "cell_type": "markdown",
   "metadata": {},
   "source": [
    "## Save all model"
   ]
  },
  {
   "cell_type": "code",
   "execution_count": 33,
   "metadata": {},
   "outputs": [],
   "source": [
    "import pickle"
   ]
  },
  {
   "cell_type": "code",
   "execution_count": 34,
   "metadata": {},
   "outputs": [],
   "source": [
    "# save the 1D CNN trained model\n",
    "with open('/Data/Visual Studio Code/Data Science/Notebook/UNSW-NB15/CNN/Imbalanced/Saved/cnn1d.pkl', 'wb') as model_file:\n",
    "    pickle.dump(model, model_file)"
   ]
  },
  {
   "cell_type": "code",
   "execution_count": 38,
   "metadata": {},
   "outputs": [],
   "source": [
    "# load the 1D CNN trained model\n",
    "with open('/Data/Visual Studio Code/Data Science/Notebook/UNSW-NB15/CNN/Imbalanced/Saved/cnn1d.pkl', 'rb') as model_file:\n",
    "    model = pickle.load(model_file)"
   ]
  },
  {
   "cell_type": "markdown",
   "metadata": {},
   "source": [
    "## Save all predicted"
   ]
  },
  {
   "cell_type": "code",
   "execution_count": 35,
   "metadata": {},
   "outputs": [],
   "source": [
    "# save the decision tree trained model\n",
    "with open('/Data/Visual Studio Code/Data Science/Notebook/UNSW-NB15/CNN/Imbalanced/Saved/predicted_classes.pkl', 'wb') as model_file:\n",
    "    pickle.dump(predicted_classes, model_file)"
   ]
  },
  {
   "cell_type": "code",
   "execution_count": null,
   "metadata": {},
   "outputs": [],
   "source": [
    "# load the decision tree trained model\n",
    "with open('/Data/Visual Studio Code/Data Science/Notebook/UNSW-NB15/CNN/Imbalanced/Saved/predicted_classes.pkl', 'rb') as model_file:\n",
    "    predicted_classes = pickle.load(model_file)"
   ]
  }
 ],
 "metadata": {
  "kernelspec": {
   "display_name": "myenv",
   "language": "python",
   "name": "python3"
  },
  "language_info": {
   "codemirror_mode": {
    "name": "ipython",
    "version": 3
   },
   "file_extension": ".py",
   "mimetype": "text/x-python",
   "name": "python",
   "nbconvert_exporter": "python",
   "pygments_lexer": "ipython3",
   "version": "3.10.11"
  },
  "orig_nbformat": 4
 },
 "nbformat": 4,
 "nbformat_minor": 2
}
