{
 "cells": [
  {
   "cell_type": "markdown",
   "metadata": {},
   "source": [
    "# Data Preprocessing"
   ]
  },
  {
   "cell_type": "code",
   "execution_count": 1,
   "metadata": {},
   "outputs": [],
   "source": [
    "import tensorflow as tf"
   ]
  },
  {
   "cell_type": "code",
   "execution_count": 2,
   "metadata": {},
   "outputs": [
    {
     "name": "stdout",
     "output_type": "stream",
     "text": [
      "Num GPUs Available:  0\n"
     ]
    }
   ],
   "source": [
    "#Check GPU device available\n",
    "print('Num GPUs Available: ', len(tf.config.list_physical_devices('GPU')))"
   ]
  },
  {
   "cell_type": "code",
   "execution_count": 3,
   "metadata": {},
   "outputs": [
    {
     "data": {
      "text/plain": [
       "False"
      ]
     },
     "execution_count": 3,
     "metadata": {},
     "output_type": "execute_result"
    }
   ],
   "source": [
    "tf.test.is_built_with_cuda()"
   ]
  },
  {
   "cell_type": "code",
   "execution_count": 4,
   "metadata": {},
   "outputs": [],
   "source": [
    "import pandas as pd\n",
    "import matplotlib.pyplot as plt\n",
    "import seaborn as sns\n",
    "import numpy as np"
   ]
  },
  {
   "cell_type": "code",
   "execution_count": 5,
   "metadata": {},
   "outputs": [],
   "source": [
    "# Load dataset\n",
    "data_train = pd.read_csv('/Data/Visual Studio Code/Data-Science/Dataset/UNSW-NB15/UNSW_NB15_training-set.csv')\n",
    "data_test = pd.read_csv('/Data/Visual Studio Code/Data-Science/Dataset/UNSW-NB15/UNSW_NB15_testing-set.csv')"
   ]
  },
  {
   "cell_type": "code",
   "execution_count": 6,
   "metadata": {},
   "outputs": [],
   "source": [
    "# Handle missing value and duplicate if any\n",
    "data_train.dropna(inplace=True)\n",
    "data_train.drop_duplicates(inplace=True)\n",
    "\n",
    "data_test.dropna(inplace=True)\n",
    "data_test.drop_duplicates(inplace=True)"
   ]
  },
  {
   "cell_type": "code",
   "execution_count": 7,
   "metadata": {},
   "outputs": [],
   "source": [
    "#Split Attack and Normal from dataframe\n",
    "data_train_attack = data_train[data_train['label'] == 1]\n",
    "data_test_attack = data_test[data_test['label'] == 1]\n",
    "\n",
    "#Optional\n",
    "#data_train_normal = data_train[data_train['label'] == 0]\n",
    "#data_test_normal = data_test[data_test['label'] == 0]"
   ]
  },
  {
   "cell_type": "code",
   "execution_count": 8,
   "metadata": {},
   "outputs": [],
   "source": [
    "# Drop id and label from train and test data\n",
    "data_train_attack = data_train_attack.drop('id', axis=1)\n",
    "data_train_attack = data_train_attack.drop('label', axis=1)\n",
    "\n",
    "data_test_attack = data_test_attack.drop('id', axis=1)\n",
    "data_test_attack = data_test_attack.drop('label', axis=1)"
   ]
  },
  {
   "cell_type": "code",
   "execution_count": 9,
   "metadata": {},
   "outputs": [
    {
     "name": "stdout",
     "output_type": "stream",
     "text": [
      "5\n",
      "6\n"
     ]
    }
   ],
   "source": [
    "print(data_train_attack['state'].nunique())\n",
    "print(data_test_attack['state'].nunique())"
   ]
  },
  {
   "cell_type": "code",
   "execution_count": 10,
   "metadata": {},
   "outputs": [
    {
     "name": "stdout",
     "output_type": "stream",
     "text": [
      "['INT' 'FIN' 'CON' 'REQ' 'RST']\n",
      "['INT' 'FIN' 'ACC' 'CON' 'REQ' 'CLO']\n"
     ]
    }
   ],
   "source": [
    "print(data_train_attack['state'].unique())\n",
    "print(data_test_attack['state'].unique())"
   ]
  },
  {
   "cell_type": "code",
   "execution_count": 11,
   "metadata": {},
   "outputs": [],
   "source": [
    "#Drop ACC, CLO, and RST from data\n",
    "data_train_attack = data_train_attack[(data_train_attack['state'] != 'RST')]\n",
    "data_test_attack = data_test_attack[(data_test_attack['state'] != 'ACC') & (data_test_attack['state'] != 'CLO')]"
   ]
  },
  {
   "cell_type": "code",
   "execution_count": 12,
   "metadata": {},
   "outputs": [
    {
     "name": "stdout",
     "output_type": "stream",
     "text": [
      "['INT' 'FIN' 'CON' 'REQ']\n",
      "['INT' 'FIN' 'CON' 'REQ']\n"
     ]
    }
   ],
   "source": [
    "print(data_train_attack['state'].unique())\n",
    "print(data_test_attack['state'].unique())"
   ]
  },
  {
   "cell_type": "markdown",
   "metadata": {},
   "source": [
    "## Encode Train and Test Data"
   ]
  },
  {
   "cell_type": "code",
   "execution_count": 13,
   "metadata": {},
   "outputs": [
    {
     "data": {
      "text/plain": [
       "['proto', 'state', 'service']"
      ]
     },
     "execution_count": 13,
     "metadata": {},
     "output_type": "execute_result"
    }
   ],
   "source": [
    "#column to encode\n",
    "cols = ['proto','state','service']\n",
    "cols"
   ]
  },
  {
   "cell_type": "code",
   "execution_count": 14,
   "metadata": {},
   "outputs": [],
   "source": [
    "#One-hot Encoding\n",
    "# Encode train data\n",
    "data_train_attack = pd.get_dummies(data_train_attack, columns=cols)\n",
    "\n",
    "# Encode test data\n",
    "data_test_attack = pd.get_dummies(data_test_attack, columns=cols)"
   ]
  },
  {
   "cell_type": "code",
   "execution_count": 15,
   "metadata": {},
   "outputs": [],
   "source": [
    "train_attack_cat = data_train_attack.pop('attack_cat')\n",
    "test_attack_cat = data_test_attack.pop('attack_cat')"
   ]
  },
  {
   "cell_type": "markdown",
   "metadata": {},
   "source": [
    "## Normalization"
   ]
  },
  {
   "cell_type": "code",
   "execution_count": 16,
   "metadata": {},
   "outputs": [],
   "source": [
    "# Min-Max Normalization\n",
    "from sklearn.preprocessing import MinMaxScaler\n",
    "\n",
    "scaler = MinMaxScaler()\n",
    "cols_to_norm = ['dur', 'spkts', 'dpkts', 'sbytes', 'dbytes', 'rate', 'sttl', 'dttl', 'sload', \n",
    "                'dload', 'sloss', 'dloss', 'sinpkt', 'dinpkt', 'sjit', 'djit', 'swin', 'stcpb', 'dtcpb', 'dwin', 'tcprtt', 'synack', \n",
    "                'ackdat', 'smean', 'dmean', 'trans_depth', 'response_body_len', 'ct_srv_src', 'ct_state_ttl', 'ct_dst_ltm', \n",
    "                'ct_src_dport_ltm', 'ct_dst_sport_ltm', 'ct_dst_src_ltm', 'is_ftp_login', 'ct_ftp_cmd', 'ct_flw_http_mthd', 'ct_src_ltm', \n",
    "                'ct_srv_dst', 'is_sm_ips_ports']\n",
    "\n",
    "data_train_attack[cols_to_norm] = scaler.fit_transform(data_train_attack[cols_to_norm])\n",
    "data_test_attack[cols_to_norm] = scaler.fit_transform(data_test_attack[cols_to_norm])"
   ]
  },
  {
   "cell_type": "markdown",
   "metadata": {},
   "source": [
    "## Feature Selection"
   ]
  },
  {
   "cell_type": "code",
   "execution_count": 17,
   "metadata": {},
   "outputs": [
    {
     "data": {
      "text/plain": [
       "dur               float64\n",
       "spkts             float64\n",
       "dpkts             float64\n",
       "sbytes            float64\n",
       "dbytes            float64\n",
       "                   ...   \n",
       "service_radius       bool\n",
       "service_smtp         bool\n",
       "service_snmp         bool\n",
       "service_ssh          bool\n",
       "service_ssl          bool\n",
       "Length: 182, dtype: object"
      ]
     },
     "execution_count": 17,
     "metadata": {},
     "output_type": "execute_result"
    }
   ],
   "source": [
    "#Feature Selection\n",
    "feature = data_train_attack.drop(['dinpkt', 'ct_ftp_cmd', 'is_sm_ips_ports'], axis=1)\n",
    "feature.dtypes"
   ]
  },
  {
   "cell_type": "markdown",
   "metadata": {},
   "source": [
    "# Initialize Data"
   ]
  },
  {
   "cell_type": "code",
   "execution_count": 18,
   "metadata": {},
   "outputs": [
    {
     "data": {
      "text/plain": [
       "((119329, 182), (119329,), (45329, 182), (45329,))"
      ]
     },
     "execution_count": 18,
     "metadata": {},
     "output_type": "execute_result"
    }
   ],
   "source": [
    "#Splitting the dataset into dependent and independent feature\n",
    "X_train = feature\n",
    "y_train = train_attack_cat\n",
    "\n",
    "X_test = data_test_attack.drop(columns=['dinpkt', 'ct_ftp_cmd', 'is_sm_ips_ports'])\n",
    "y_test = test_attack_cat\n",
    "\n",
    "X_train.shape, y_train.shape, X_test.shape, y_test.shape"
   ]
  },
  {
   "cell_type": "markdown",
   "metadata": {},
   "source": [
    "# Model Architecture"
   ]
  },
  {
   "cell_type": "code",
   "execution_count": 19,
   "metadata": {},
   "outputs": [],
   "source": [
    "# import tensorflow as tf\n",
    "from keras.models import Sequential\n",
    "from keras.layers import Conv1D, MaxPooling1D, GlobalAveragePooling1D, Dense, Dropout\n",
    "from keras.metrics import Recall, Precision"
   ]
  },
  {
   "cell_type": "markdown",
   "metadata": {},
   "source": [
    "## 1D-CNN Model"
   ]
  },
  {
   "cell_type": "code",
   "execution_count": 20,
   "metadata": {},
   "outputs": [],
   "source": [
    "# Define the input shape\n",
    "input_shape = (182, 1)\n",
    "\n",
    "#Create the sequential model\n",
    "model = Sequential()\n",
    "model.add(Conv1D(64, kernel_size=3, activation='relu', input_shape=input_shape))\n",
    "model.add(MaxPooling1D(pool_size=2)) # reduces the spatial dimensions of the output volume\n",
    "model.add(Conv1D(128, kernel_size=3, activation='relu'))\n",
    "model.add(GlobalAveragePooling1D()) # computes the average of all values across the spatial dimensions, effectively flattening the data\n",
    "model.add(Dropout(0.5)) # helps prevent overfitting by randomly setting a fraction of input units to 0 during training\n",
    "model.add(Dense(256, activation='relu'))\n",
    "model.add(Dense(9, activation='softmax'))\n",
    "\n",
    "#Compile the model\n",
    "model.compile(optimizer='adam', loss='categorical_crossentropy', metrics=['accuracy', Recall(), Precision()])"
   ]
  },
  {
   "cell_type": "code",
   "execution_count": 21,
   "metadata": {},
   "outputs": [
    {
     "name": "stdout",
     "output_type": "stream",
     "text": [
      "Model: \"sequential\"\n",
      "_________________________________________________________________\n",
      " Layer (type)                Output Shape              Param #   \n",
      "=================================================================\n",
      " conv1d (Conv1D)             (None, 180, 64)           256       \n",
      "                                                                 \n",
      " max_pooling1d (MaxPooling1  (None, 90, 64)            0         \n",
      " D)                                                              \n",
      "                                                                 \n",
      " conv1d_1 (Conv1D)           (None, 88, 128)           24704     \n",
      "                                                                 \n",
      " global_average_pooling1d (  (None, 128)               0         \n",
      " GlobalAveragePooling1D)                                         \n",
      "                                                                 \n",
      " dropout (Dropout)           (None, 128)               0         \n",
      "                                                                 \n",
      " dense (Dense)               (None, 256)               33024     \n",
      "                                                                 \n",
      " dense_1 (Dense)             (None, 9)                 2313      \n",
      "                                                                 \n",
      "=================================================================\n",
      "Total params: 60297 (235.54 KB)\n",
      "Trainable params: 60297 (235.54 KB)\n",
      "Non-trainable params: 0 (0.00 Byte)\n",
      "_________________________________________________________________\n"
     ]
    }
   ],
   "source": [
    "#Print the model summary\n",
    "model.summary()"
   ]
  },
  {
   "cell_type": "markdown",
   "metadata": {},
   "source": [
    "## Train the model"
   ]
  },
  {
   "cell_type": "code",
   "execution_count": 22,
   "metadata": {},
   "outputs": [],
   "source": [
    "from keras.utils import to_categorical\n",
    "from sklearn.preprocessing import LabelEncoder"
   ]
  },
  {
   "cell_type": "code",
   "execution_count": 23,
   "metadata": {},
   "outputs": [],
   "source": [
    "le = LabelEncoder()\n",
    "\n",
    "y_train = le.fit_transform(y_train)\n",
    "y_test = le.fit_transform(y_test)"
   ]
  },
  {
   "cell_type": "code",
   "execution_count": 24,
   "metadata": {},
   "outputs": [],
   "source": [
    "num_class = 9\n",
    "y_train = to_categorical(y_train, num_class)\n",
    "y_test = to_categorical(y_test, num_class)"
   ]
  },
  {
   "cell_type": "code",
   "execution_count": 25,
   "metadata": {},
   "outputs": [],
   "source": [
    "X_train = np.array(X_train, dtype=np.float32)\n",
    "X_test = np.array(X_test, dtype=np.float32)"
   ]
  },
  {
   "cell_type": "code",
   "execution_count": 26,
   "metadata": {},
   "outputs": [
    {
     "name": "stdout",
     "output_type": "stream",
     "text": [
      "Epoch 1/10\n",
      "3730/3730 [==============================] - 71s 19ms/step - loss: 1.0910 - accuracy: 0.6015 - recall: 0.3912 - precision: 0.8370 - val_loss: 0.9123 - val_accuracy: 0.6935 - val_recall: 0.5723 - val_precision: 0.8474\n",
      "Epoch 2/10\n",
      "3730/3730 [==============================] - 77s 21ms/step - loss: 0.8855 - accuracy: 0.6738 - recall: 0.5286 - precision: 0.8533 - val_loss: 0.8807 - val_accuracy: 0.6888 - val_recall: 0.5841 - val_precision: 0.8429\n",
      "Epoch 3/10\n",
      "3730/3730 [==============================] - 46s 12ms/step - loss: 0.8338 - accuracy: 0.6981 - recall: 0.5381 - precision: 0.8687 - val_loss: 0.7705 - val_accuracy: 0.7291 - val_recall: 0.5999 - val_precision: 0.8925\n",
      "Epoch 4/10\n",
      "3730/3730 [==============================] - 48s 13ms/step - loss: 0.7926 - accuracy: 0.7132 - recall: 0.5589 - precision: 0.8754 - val_loss: 0.7444 - val_accuracy: 0.7399 - val_recall: 0.6365 - val_precision: 0.8892\n",
      "Epoch 5/10\n",
      "3730/3730 [==============================] - 40s 11ms/step - loss: 0.7625 - accuracy: 0.7233 - recall: 0.5891 - precision: 0.8677 - val_loss: 0.7296 - val_accuracy: 0.7512 - val_recall: 0.6561 - val_precision: 0.8729\n",
      "Epoch 6/10\n",
      "3730/3730 [==============================] - 32s 8ms/step - loss: 0.7428 - accuracy: 0.7313 - recall: 0.6021 - precision: 0.8677 - val_loss: 0.6959 - val_accuracy: 0.7482 - val_recall: 0.6626 - val_precision: 0.8741\n",
      "Epoch 7/10\n",
      "3730/3730 [==============================] - 32s 9ms/step - loss: 0.7271 - accuracy: 0.7373 - recall: 0.6121 - precision: 0.8669 - val_loss: 0.7183 - val_accuracy: 0.7491 - val_recall: 0.6540 - val_precision: 0.8795\n",
      "Epoch 8/10\n",
      "3730/3730 [==============================] - 32s 8ms/step - loss: 0.7134 - accuracy: 0.7427 - recall: 0.6186 - precision: 0.8716 - val_loss: 0.7035 - val_accuracy: 0.7512 - val_recall: 0.6631 - val_precision: 0.8737\n",
      "Epoch 9/10\n",
      "3730/3730 [==============================] - 33s 9ms/step - loss: 0.7014 - accuracy: 0.7475 - recall: 0.6268 - precision: 0.8718 - val_loss: 0.6869 - val_accuracy: 0.7543 - val_recall: 0.6713 - val_precision: 0.8762\n",
      "Epoch 10/10\n",
      "3730/3730 [==============================] - 31s 8ms/step - loss: 0.6914 - accuracy: 0.7517 - recall: 0.6302 - precision: 0.8744 - val_loss: 0.6894 - val_accuracy: 0.7549 - val_recall: 0.6774 - val_precision: 0.8760\n"
     ]
    }
   ],
   "source": [
    "#Define epochs and batch size\n",
    "epochs = 10\n",
    "batch_size = 32\n",
    "\n",
    "#Train the model\n",
    "history = model.fit(X_train, y_train, epochs=epochs, batch_size=batch_size, validation_data=(X_test, y_test))"
   ]
  },
  {
   "cell_type": "code",
   "execution_count": 27,
   "metadata": {},
   "outputs": [
    {
     "name": "stdout",
     "output_type": "stream",
     "text": [
      "Epoch 1/20\n",
      "3730/3730 [==============================] - 35s 9ms/step - loss: 0.6806 - accuracy: 0.7554 - recall: 0.6371 - precision: 0.8775 - val_loss: 0.7032 - val_accuracy: 0.7538 - val_recall: 0.6574 - val_precision: 0.8911\n",
      "Epoch 2/20\n",
      "3730/3730 [==============================] - 35s 9ms/step - loss: 0.6728 - accuracy: 0.7572 - recall: 0.6406 - precision: 0.8778 - val_loss: 0.7056 - val_accuracy: 0.7495 - val_recall: 0.6664 - val_precision: 0.8755\n",
      "Epoch 3/20\n",
      "3730/3730 [==============================] - 33s 9ms/step - loss: 0.6658 - accuracy: 0.7592 - recall: 0.6436 - precision: 0.8809 - val_loss: 0.6860 - val_accuracy: 0.7537 - val_recall: 0.6704 - val_precision: 0.8833\n",
      "Epoch 4/20\n",
      "3730/3730 [==============================] - 33s 9ms/step - loss: 0.6604 - accuracy: 0.7612 - recall: 0.6482 - precision: 0.8802 - val_loss: 0.6975 - val_accuracy: 0.7527 - val_recall: 0.6767 - val_precision: 0.8838\n",
      "Epoch 5/20\n",
      "3730/3730 [==============================] - 37s 10ms/step - loss: 0.6561 - accuracy: 0.7618 - recall: 0.6478 - precision: 0.8824 - val_loss: 0.7026 - val_accuracy: 0.7565 - val_recall: 0.6765 - val_precision: 0.8756\n",
      "Epoch 6/20\n",
      "3730/3730 [==============================] - 37s 10ms/step - loss: 0.6517 - accuracy: 0.7632 - recall: 0.6494 - precision: 0.8833 - val_loss: 0.7119 - val_accuracy: 0.7493 - val_recall: 0.6674 - val_precision: 0.8734\n",
      "Epoch 7/20\n",
      "3730/3730 [==============================] - 33s 9ms/step - loss: 0.6477 - accuracy: 0.7653 - recall: 0.6519 - precision: 0.8851 - val_loss: 0.7038 - val_accuracy: 0.7521 - val_recall: 0.6674 - val_precision: 0.8787\n",
      "Epoch 8/20\n",
      "3730/3730 [==============================] - 35s 9ms/step - loss: 0.6430 - accuracy: 0.7662 - recall: 0.6543 - precision: 0.8849 - val_loss: 0.6819 - val_accuracy: 0.7521 - val_recall: 0.6678 - val_precision: 0.8866\n",
      "Epoch 9/20\n",
      "3730/3730 [==============================] - 42s 11ms/step - loss: 0.6412 - accuracy: 0.7666 - recall: 0.6536 - precision: 0.8864 - val_loss: 0.6854 - val_accuracy: 0.7562 - val_recall: 0.6757 - val_precision: 0.8827\n",
      "Epoch 10/20\n",
      "3730/3730 [==============================] - 43s 11ms/step - loss: 0.6382 - accuracy: 0.7681 - recall: 0.6551 - precision: 0.8866 - val_loss: 0.7182 - val_accuracy: 0.7540 - val_recall: 0.6743 - val_precision: 0.8795\n",
      "Epoch 11/20\n",
      "3730/3730 [==============================] - 41s 11ms/step - loss: 0.6355 - accuracy: 0.7683 - recall: 0.6553 - precision: 0.8881 - val_loss: 0.7010 - val_accuracy: 0.7563 - val_recall: 0.6790 - val_precision: 0.8782\n",
      "Epoch 12/20\n",
      "3730/3730 [==============================] - 41s 11ms/step - loss: 0.6322 - accuracy: 0.7687 - recall: 0.6566 - precision: 0.8880 - val_loss: 0.7377 - val_accuracy: 0.7553 - val_recall: 0.6776 - val_precision: 0.8745\n",
      "Epoch 13/20\n",
      "3730/3730 [==============================] - 41s 11ms/step - loss: 0.6291 - accuracy: 0.7707 - recall: 0.6566 - precision: 0.8913 - val_loss: 0.7329 - val_accuracy: 0.7514 - val_recall: 0.6738 - val_precision: 0.8768\n",
      "Epoch 14/20\n",
      "3730/3730 [==============================] - 41s 11ms/step - loss: 0.6270 - accuracy: 0.7707 - recall: 0.6579 - precision: 0.8903 - val_loss: 0.7221 - val_accuracy: 0.7503 - val_recall: 0.6811 - val_precision: 0.8724\n",
      "Epoch 15/20\n",
      "3730/3730 [==============================] - 41s 11ms/step - loss: 0.6250 - accuracy: 0.7712 - recall: 0.6592 - precision: 0.8900 - val_loss: 0.7257 - val_accuracy: 0.7482 - val_recall: 0.6666 - val_precision: 0.8710\n",
      "Epoch 16/20\n",
      "3730/3730 [==============================] - 41s 11ms/step - loss: 0.6233 - accuracy: 0.7713 - recall: 0.6595 - precision: 0.8904 - val_loss: 0.7091 - val_accuracy: 0.7559 - val_recall: 0.6808 - val_precision: 0.8767\n",
      "Epoch 17/20\n",
      "3730/3730 [==============================] - 41s 11ms/step - loss: 0.6223 - accuracy: 0.7713 - recall: 0.6595 - precision: 0.8918 - val_loss: 0.7474 - val_accuracy: 0.7405 - val_recall: 0.6669 - val_precision: 0.8649\n",
      "Epoch 18/20\n",
      "3730/3730 [==============================] - 41s 11ms/step - loss: 0.6202 - accuracy: 0.7721 - recall: 0.6597 - precision: 0.8937 - val_loss: 0.7540 - val_accuracy: 0.7493 - val_recall: 0.6689 - val_precision: 0.8729\n",
      "Epoch 19/20\n",
      "3730/3730 [==============================] - 42s 11ms/step - loss: 0.6178 - accuracy: 0.7727 - recall: 0.6613 - precision: 0.8922 - val_loss: 0.7452 - val_accuracy: 0.7563 - val_recall: 0.6837 - val_precision: 0.8702\n",
      "Epoch 20/20\n",
      "3730/3730 [==============================] - 41s 11ms/step - loss: 0.6166 - accuracy: 0.7732 - recall: 0.6617 - precision: 0.8916 - val_loss: 0.7588 - val_accuracy: 0.7537 - val_recall: 0.6956 - val_precision: 0.8447\n"
     ]
    }
   ],
   "source": [
    "#Define epochs and batch size\n",
    "epochs = 20\n",
    "batch_size = 32\n",
    "\n",
    "#Train the model\n",
    "history = model.fit(X_train, y_train, epochs=epochs, batch_size=batch_size, validation_data=(X_test, y_test))"
   ]
  },
  {
   "cell_type": "code",
   "execution_count": 28,
   "metadata": {},
   "outputs": [
    {
     "name": "stdout",
     "output_type": "stream",
     "text": [
      "Epoch 1/30\n",
      "3730/3730 [==============================] - 39s 10ms/step - loss: 0.6147 - accuracy: 0.7739 - recall: 0.6616 - precision: 0.8930 - val_loss: 0.7326 - val_accuracy: 0.7504 - val_recall: 0.6634 - val_precision: 0.8852\n",
      "Epoch 2/30\n",
      "3730/3730 [==============================] - 39s 10ms/step - loss: 0.6132 - accuracy: 0.7735 - recall: 0.6629 - precision: 0.8944 - val_loss: 0.7567 - val_accuracy: 0.7425 - val_recall: 0.6605 - val_precision: 0.8810\n",
      "Epoch 3/30\n",
      "3730/3730 [==============================] - 39s 10ms/step - loss: 0.6129 - accuracy: 0.7741 - recall: 0.6614 - precision: 0.8929 - val_loss: 0.7174 - val_accuracy: 0.7466 - val_recall: 0.6674 - val_precision: 0.8883\n",
      "Epoch 4/30\n",
      "3730/3730 [==============================] - 39s 11ms/step - loss: 0.6093 - accuracy: 0.7751 - recall: 0.6638 - precision: 0.8953 - val_loss: 0.7536 - val_accuracy: 0.7467 - val_recall: 0.6642 - val_precision: 0.8710\n",
      "Epoch 5/30\n",
      "3730/3730 [==============================] - 38s 10ms/step - loss: 0.6108 - accuracy: 0.7741 - recall: 0.6638 - precision: 0.8924 - val_loss: 0.7628 - val_accuracy: 0.7540 - val_recall: 0.6784 - val_precision: 0.8748\n",
      "Epoch 6/30\n",
      "3730/3730 [==============================] - 39s 10ms/step - loss: 0.6098 - accuracy: 0.7746 - recall: 0.6637 - precision: 0.8947 - val_loss: 0.7753 - val_accuracy: 0.7438 - val_recall: 0.6642 - val_precision: 0.8722\n",
      "Epoch 7/30\n",
      "3730/3730 [==============================] - 39s 10ms/step - loss: 0.6071 - accuracy: 0.7758 - recall: 0.6646 - precision: 0.8957 - val_loss: 0.7586 - val_accuracy: 0.7409 - val_recall: 0.6534 - val_precision: 0.8819\n",
      "Epoch 8/30\n",
      "3730/3730 [==============================] - 38s 10ms/step - loss: 0.6054 - accuracy: 0.7758 - recall: 0.6658 - precision: 0.8954 - val_loss: 0.7368 - val_accuracy: 0.7418 - val_recall: 0.6622 - val_precision: 0.8651\n",
      "Epoch 9/30\n",
      "3730/3730 [==============================] - 39s 10ms/step - loss: 0.6047 - accuracy: 0.7765 - recall: 0.6641 - precision: 0.8976 - val_loss: 0.7667 - val_accuracy: 0.7432 - val_recall: 0.6648 - val_precision: 0.8769\n",
      "Epoch 10/30\n",
      "3730/3730 [==============================] - 39s 10ms/step - loss: 0.6033 - accuracy: 0.7766 - recall: 0.6642 - precision: 0.8976 - val_loss: 0.7610 - val_accuracy: 0.7437 - val_recall: 0.6676 - val_precision: 0.8663\n",
      "Epoch 11/30\n",
      "3730/3730 [==============================] - 39s 10ms/step - loss: 0.6013 - accuracy: 0.7772 - recall: 0.6665 - precision: 0.8980 - val_loss: 0.7693 - val_accuracy: 0.7368 - val_recall: 0.6559 - val_precision: 0.8746\n",
      "Epoch 12/30\n",
      "3730/3730 [==============================] - 38s 10ms/step - loss: 0.6007 - accuracy: 0.7790 - recall: 0.6671 - precision: 0.8985 - val_loss: 0.7786 - val_accuracy: 0.7409 - val_recall: 0.6636 - val_precision: 0.8595\n",
      "Epoch 13/30\n",
      "3730/3730 [==============================] - 39s 10ms/step - loss: 0.5987 - accuracy: 0.7790 - recall: 0.6677 - precision: 0.8997 - val_loss: 0.7727 - val_accuracy: 0.7401 - val_recall: 0.6567 - val_precision: 0.8720\n",
      "Epoch 14/30\n",
      "3730/3730 [==============================] - 40s 11ms/step - loss: 0.5990 - accuracy: 0.7788 - recall: 0.6663 - precision: 0.9000 - val_loss: 0.7898 - val_accuracy: 0.7508 - val_recall: 0.6688 - val_precision: 0.8790\n",
      "Epoch 15/30\n",
      "3730/3730 [==============================] - 40s 11ms/step - loss: 0.5981 - accuracy: 0.7793 - recall: 0.6669 - precision: 0.8998 - val_loss: 0.7627 - val_accuracy: 0.7416 - val_recall: 0.6613 - val_precision: 0.8775\n",
      "Epoch 16/30\n",
      "3730/3730 [==============================] - 45s 12ms/step - loss: 0.5959 - accuracy: 0.7793 - recall: 0.6665 - precision: 0.9017 - val_loss: 0.7727 - val_accuracy: 0.7410 - val_recall: 0.6650 - val_precision: 0.8600\n",
      "Epoch 17/30\n",
      "3730/3730 [==============================] - 42s 11ms/step - loss: 0.5947 - accuracy: 0.7791 - recall: 0.6672 - precision: 0.9019 - val_loss: 0.8344 - val_accuracy: 0.7304 - val_recall: 0.6568 - val_precision: 0.8297\n",
      "Epoch 18/30\n",
      "3730/3730 [==============================] - 42s 11ms/step - loss: 0.5929 - accuracy: 0.7809 - recall: 0.6694 - precision: 0.8998 - val_loss: 0.7913 - val_accuracy: 0.7308 - val_recall: 0.6539 - val_precision: 0.8721\n",
      "Epoch 19/30\n",
      "3730/3730 [==============================] - 41s 11ms/step - loss: 0.5928 - accuracy: 0.7800 - recall: 0.6677 - precision: 0.9027 - val_loss: 0.7738 - val_accuracy: 0.7401 - val_recall: 0.6616 - val_precision: 0.8701\n",
      "Epoch 20/30\n",
      "3730/3730 [==============================] - 41s 11ms/step - loss: 0.5919 - accuracy: 0.7799 - recall: 0.6690 - precision: 0.9007 - val_loss: 0.8002 - val_accuracy: 0.7419 - val_recall: 0.6589 - val_precision: 0.8727\n",
      "Epoch 21/30\n",
      "3730/3730 [==============================] - 41s 11ms/step - loss: 0.5897 - accuracy: 0.7810 - recall: 0.6699 - precision: 0.9016 - val_loss: 0.8008 - val_accuracy: 0.7405 - val_recall: 0.6608 - val_precision: 0.8638\n",
      "Epoch 22/30\n",
      "3730/3730 [==============================] - 41s 11ms/step - loss: 0.5890 - accuracy: 0.7812 - recall: 0.6710 - precision: 0.9012 - val_loss: 0.7881 - val_accuracy: 0.7389 - val_recall: 0.6619 - val_precision: 0.8687\n",
      "Epoch 23/30\n",
      "3730/3730 [==============================] - 41s 11ms/step - loss: 0.5891 - accuracy: 0.7811 - recall: 0.6700 - precision: 0.9027 - val_loss: 0.7756 - val_accuracy: 0.7397 - val_recall: 0.6489 - val_precision: 0.8945\n",
      "Epoch 24/30\n",
      "3730/3730 [==============================] - 41s 11ms/step - loss: 0.5885 - accuracy: 0.7813 - recall: 0.6710 - precision: 0.9012 - val_loss: 0.7841 - val_accuracy: 0.7373 - val_recall: 0.6569 - val_precision: 0.8650\n",
      "Epoch 25/30\n",
      "3730/3730 [==============================] - 41s 11ms/step - loss: 0.5881 - accuracy: 0.7813 - recall: 0.6682 - precision: 0.9028 - val_loss: 0.7916 - val_accuracy: 0.7412 - val_recall: 0.6564 - val_precision: 0.8828\n",
      "Epoch 26/30\n",
      "3730/3730 [==============================] - 41s 11ms/step - loss: 0.5862 - accuracy: 0.7812 - recall: 0.6693 - precision: 0.9040 - val_loss: 0.7979 - val_accuracy: 0.7412 - val_recall: 0.6677 - val_precision: 0.8442\n",
      "Epoch 27/30\n",
      "3730/3730 [==============================] - 41s 11ms/step - loss: 0.5865 - accuracy: 0.7820 - recall: 0.6701 - precision: 0.9034 - val_loss: 0.8135 - val_accuracy: 0.7384 - val_recall: 0.6665 - val_precision: 0.8566\n",
      "Epoch 28/30\n",
      "3730/3730 [==============================] - 42s 11ms/step - loss: 0.5848 - accuracy: 0.7809 - recall: 0.6682 - precision: 0.9051 - val_loss: 0.7903 - val_accuracy: 0.7405 - val_recall: 0.6663 - val_precision: 0.8589\n",
      "Epoch 29/30\n",
      "3730/3730 [==============================] - 41s 11ms/step - loss: 0.5847 - accuracy: 0.7829 - recall: 0.6699 - precision: 0.9053 - val_loss: 0.7855 - val_accuracy: 0.7421 - val_recall: 0.6712 - val_precision: 0.8594\n",
      "Epoch 30/30\n",
      "3730/3730 [==============================] - 41s 11ms/step - loss: 0.5827 - accuracy: 0.7825 - recall: 0.6705 - precision: 0.9042 - val_loss: 0.8090 - val_accuracy: 0.7422 - val_recall: 0.6663 - val_precision: 0.8631\n"
     ]
    }
   ],
   "source": [
    "#Define epochs and batch size\n",
    "epochs = 30\n",
    "batch_size = 32\n",
    "\n",
    "#Train the model\n",
    "history = model.fit(X_train, y_train, epochs=epochs, batch_size=batch_size, validation_data=(X_test, y_test))"
   ]
  },
  {
   "cell_type": "code",
   "execution_count": 29,
   "metadata": {},
   "outputs": [
    {
     "name": "stdout",
     "output_type": "stream",
     "text": [
      "Epoch 1/40\n",
      "3730/3730 [==============================] - 42s 11ms/step - loss: 0.5821 - accuracy: 0.7828 - recall: 0.6713 - precision: 0.9043 - val_loss: 0.7768 - val_accuracy: 0.7350 - val_recall: 0.6549 - val_precision: 0.8767\n",
      "Epoch 2/40\n",
      "3730/3730 [==============================] - 42s 11ms/step - loss: 0.5823 - accuracy: 0.7817 - recall: 0.6689 - precision: 0.9066 - val_loss: 0.7862 - val_accuracy: 0.7402 - val_recall: 0.6605 - val_precision: 0.8655\n",
      "Epoch 3/40\n",
      "3730/3730 [==============================] - 41s 11ms/step - loss: 0.5804 - accuracy: 0.7833 - recall: 0.6697 - precision: 0.9076 - val_loss: 0.7900 - val_accuracy: 0.7404 - val_recall: 0.6605 - val_precision: 0.8772\n",
      "Epoch 4/40\n",
      "3730/3730 [==============================] - 42s 11ms/step - loss: 0.5789 - accuracy: 0.7835 - recall: 0.6701 - precision: 0.9077 - val_loss: 0.8344 - val_accuracy: 0.7387 - val_recall: 0.6612 - val_precision: 0.8648\n",
      "Epoch 5/40\n",
      "3730/3730 [==============================] - 42s 11ms/step - loss: 0.5787 - accuracy: 0.7830 - recall: 0.6689 - precision: 0.9076 - val_loss: 0.8044 - val_accuracy: 0.7328 - val_recall: 0.6292 - val_precision: 0.8763\n",
      "Epoch 6/40\n",
      "3730/3730 [==============================] - 42s 11ms/step - loss: 0.5772 - accuracy: 0.7832 - recall: 0.6706 - precision: 0.9073 - val_loss: 0.8243 - val_accuracy: 0.7396 - val_recall: 0.6481 - val_precision: 0.8682\n",
      "Epoch 7/40\n",
      "3730/3730 [==============================] - 42s 11ms/step - loss: 0.5768 - accuracy: 0.7838 - recall: 0.6720 - precision: 0.9080 - val_loss: 0.7986 - val_accuracy: 0.7390 - val_recall: 0.6528 - val_precision: 0.8731\n",
      "Epoch 8/40\n",
      "3730/3730 [==============================] - 42s 11ms/step - loss: 0.5765 - accuracy: 0.7837 - recall: 0.6716 - precision: 0.9080 - val_loss: 0.8177 - val_accuracy: 0.7345 - val_recall: 0.6572 - val_precision: 0.8496\n",
      "Epoch 9/40\n",
      "3730/3730 [==============================] - 41s 11ms/step - loss: 0.5751 - accuracy: 0.7850 - recall: 0.6717 - precision: 0.9082 - val_loss: 0.8170 - val_accuracy: 0.7402 - val_recall: 0.6647 - val_precision: 0.8697\n",
      "Epoch 10/40\n",
      "3730/3730 [==============================] - 41s 11ms/step - loss: 0.5741 - accuracy: 0.7847 - recall: 0.6714 - precision: 0.9096 - val_loss: 0.7966 - val_accuracy: 0.7408 - val_recall: 0.6647 - val_precision: 0.8767\n",
      "Epoch 11/40\n",
      "3730/3730 [==============================] - 41s 11ms/step - loss: 0.5732 - accuracy: 0.7845 - recall: 0.6721 - precision: 0.9092 - val_loss: 0.8119 - val_accuracy: 0.7416 - val_recall: 0.6732 - val_precision: 0.8528\n",
      "Epoch 12/40\n",
      "3730/3730 [==============================] - 41s 11ms/step - loss: 0.5737 - accuracy: 0.7843 - recall: 0.6725 - precision: 0.9076 - val_loss: 0.8280 - val_accuracy: 0.7220 - val_recall: 0.6395 - val_precision: 0.8588\n",
      "Epoch 13/40\n",
      "3730/3730 [==============================] - 42s 11ms/step - loss: 0.5722 - accuracy: 0.7856 - recall: 0.6726 - precision: 0.9091 - val_loss: 0.8737 - val_accuracy: 0.7176 - val_recall: 0.6322 - val_precision: 0.8650\n",
      "Epoch 14/40\n",
      "3730/3730 [==============================] - 41s 11ms/step - loss: 0.5717 - accuracy: 0.7846 - recall: 0.6722 - precision: 0.9084 - val_loss: 0.8035 - val_accuracy: 0.7399 - val_recall: 0.6644 - val_precision: 0.8786\n",
      "Epoch 15/40\n",
      "3730/3730 [==============================] - 41s 11ms/step - loss: 0.5704 - accuracy: 0.7851 - recall: 0.6729 - precision: 0.9097 - val_loss: 0.8225 - val_accuracy: 0.7446 - val_recall: 0.6635 - val_precision: 0.8776\n",
      "Epoch 16/40\n",
      "3730/3730 [==============================] - 42s 11ms/step - loss: 0.5713 - accuracy: 0.7854 - recall: 0.6734 - precision: 0.9071 - val_loss: 0.8145 - val_accuracy: 0.7413 - val_recall: 0.6673 - val_precision: 0.8609\n",
      "Epoch 17/40\n",
      "3730/3730 [==============================] - 41s 11ms/step - loss: 0.5712 - accuracy: 0.7860 - recall: 0.6737 - precision: 0.9089 - val_loss: 0.8157 - val_accuracy: 0.7463 - val_recall: 0.6659 - val_precision: 0.8686\n",
      "Epoch 18/40\n",
      "3730/3730 [==============================] - 41s 11ms/step - loss: 0.5684 - accuracy: 0.7867 - recall: 0.6745 - precision: 0.9095 - val_loss: 0.8883 - val_accuracy: 0.7171 - val_recall: 0.6410 - val_precision: 0.8479\n",
      "Epoch 19/40\n",
      "3730/3730 [==============================] - 42s 11ms/step - loss: 0.5687 - accuracy: 0.7865 - recall: 0.6743 - precision: 0.9096 - val_loss: 0.8287 - val_accuracy: 0.7324 - val_recall: 0.6496 - val_precision: 0.8789\n",
      "Epoch 20/40\n",
      "3730/3730 [==============================] - 42s 11ms/step - loss: 0.5677 - accuracy: 0.7866 - recall: 0.6741 - precision: 0.9105 - val_loss: 0.7874 - val_accuracy: 0.7418 - val_recall: 0.6664 - val_precision: 0.8651\n",
      "Epoch 21/40\n",
      "3730/3730 [==============================] - 41s 11ms/step - loss: 0.5671 - accuracy: 0.7868 - recall: 0.6739 - precision: 0.9102 - val_loss: 0.8467 - val_accuracy: 0.7252 - val_recall: 0.6452 - val_precision: 0.8555\n",
      "Epoch 22/40\n",
      "3730/3730 [==============================] - 41s 11ms/step - loss: 0.5672 - accuracy: 0.7861 - recall: 0.6739 - precision: 0.9098 - val_loss: 0.8485 - val_accuracy: 0.7171 - val_recall: 0.6331 - val_precision: 0.8776\n",
      "Epoch 23/40\n",
      "3730/3730 [==============================] - 41s 11ms/step - loss: 0.5657 - accuracy: 0.7866 - recall: 0.6735 - precision: 0.9114 - val_loss: 0.8007 - val_accuracy: 0.7437 - val_recall: 0.6648 - val_precision: 0.8863\n",
      "Epoch 24/40\n",
      "3730/3730 [==============================] - 41s 11ms/step - loss: 0.5662 - accuracy: 0.7862 - recall: 0.6748 - precision: 0.9093 - val_loss: 0.8604 - val_accuracy: 0.7208 - val_recall: 0.6243 - val_precision: 0.8736\n",
      "Epoch 25/40\n",
      "3730/3730 [==============================] - 42s 11ms/step - loss: 0.5650 - accuracy: 0.7874 - recall: 0.6751 - precision: 0.9105 - val_loss: 0.8407 - val_accuracy: 0.7160 - val_recall: 0.6411 - val_precision: 0.8527\n",
      "Epoch 26/40\n",
      "3730/3730 [==============================] - 41s 11ms/step - loss: 0.5655 - accuracy: 0.7867 - recall: 0.6750 - precision: 0.9097 - val_loss: 0.8405 - val_accuracy: 0.7360 - val_recall: 0.6607 - val_precision: 0.8665\n",
      "Epoch 27/40\n",
      "3730/3730 [==============================] - 41s 11ms/step - loss: 0.5651 - accuracy: 0.7866 - recall: 0.6746 - precision: 0.9112 - val_loss: 0.9088 - val_accuracy: 0.6945 - val_recall: 0.6141 - val_precision: 0.8222\n",
      "Epoch 28/40\n",
      "3730/3730 [==============================] - 41s 11ms/step - loss: 0.5643 - accuracy: 0.7868 - recall: 0.6755 - precision: 0.9098 - val_loss: 0.8744 - val_accuracy: 0.7168 - val_recall: 0.6346 - val_precision: 0.8714\n",
      "Epoch 29/40\n",
      "3730/3730 [==============================] - 41s 11ms/step - loss: 0.5647 - accuracy: 0.7868 - recall: 0.6755 - precision: 0.9106 - val_loss: 0.7863 - val_accuracy: 0.7439 - val_recall: 0.6615 - val_precision: 0.8878\n",
      "Epoch 30/40\n",
      "3730/3730 [==============================] - 42s 11ms/step - loss: 0.5651 - accuracy: 0.7872 - recall: 0.6755 - precision: 0.9090 - val_loss: 0.8244 - val_accuracy: 0.7341 - val_recall: 0.6451 - val_precision: 0.8619\n",
      "Epoch 31/40\n",
      "3730/3730 [==============================] - 42s 11ms/step - loss: 0.5643 - accuracy: 0.7867 - recall: 0.6745 - precision: 0.9108 - val_loss: 0.8224 - val_accuracy: 0.7313 - val_recall: 0.6493 - val_precision: 0.8528\n",
      "Epoch 32/40\n",
      "3730/3730 [==============================] - 41s 11ms/step - loss: 0.5624 - accuracy: 0.7877 - recall: 0.6768 - precision: 0.9101 - val_loss: 0.8356 - val_accuracy: 0.7390 - val_recall: 0.6485 - val_precision: 0.8648\n",
      "Epoch 33/40\n",
      "3730/3730 [==============================] - 41s 11ms/step - loss: 0.5615 - accuracy: 0.7881 - recall: 0.6769 - precision: 0.9107 - val_loss: 0.8523 - val_accuracy: 0.7259 - val_recall: 0.6428 - val_precision: 0.8737\n",
      "Epoch 34/40\n",
      "3730/3730 [==============================] - 43s 12ms/step - loss: 0.5637 - accuracy: 0.7875 - recall: 0.6757 - precision: 0.9107 - val_loss: 0.8097 - val_accuracy: 0.7387 - val_recall: 0.6626 - val_precision: 0.8764\n",
      "Epoch 35/40\n",
      "3730/3730 [==============================] - 45s 12ms/step - loss: 0.5616 - accuracy: 0.7889 - recall: 0.6778 - precision: 0.9097 - val_loss: 0.8107 - val_accuracy: 0.7407 - val_recall: 0.6624 - val_precision: 0.8712\n",
      "Epoch 36/40\n",
      "3730/3730 [==============================] - 36s 10ms/step - loss: 0.5625 - accuracy: 0.7878 - recall: 0.6751 - precision: 0.9115 - val_loss: 0.8250 - val_accuracy: 0.7339 - val_recall: 0.6511 - val_precision: 0.8793\n",
      "Epoch 37/40\n",
      "3730/3730 [==============================] - 35s 9ms/step - loss: 0.5602 - accuracy: 0.7876 - recall: 0.6770 - precision: 0.9115 - val_loss: 0.8007 - val_accuracy: 0.7398 - val_recall: 0.6482 - val_precision: 0.8778\n",
      "Epoch 38/40\n",
      "3730/3730 [==============================] - 36s 10ms/step - loss: 0.5610 - accuracy: 0.7890 - recall: 0.6770 - precision: 0.9108 - val_loss: 0.8352 - val_accuracy: 0.7373 - val_recall: 0.6533 - val_precision: 0.8839\n",
      "Epoch 39/40\n",
      "3730/3730 [==============================] - 34s 9ms/step - loss: 0.5610 - accuracy: 0.7877 - recall: 0.6763 - precision: 0.9116 - val_loss: 0.7653 - val_accuracy: 0.7434 - val_recall: 0.6664 - val_precision: 0.8803\n",
      "Epoch 40/40\n",
      "3730/3730 [==============================] - 37s 10ms/step - loss: 0.5606 - accuracy: 0.7889 - recall: 0.6786 - precision: 0.9098 - val_loss: 0.8647 - val_accuracy: 0.7192 - val_recall: 0.6420 - val_precision: 0.8627\n"
     ]
    }
   ],
   "source": [
    "#Define epochs and batch size\n",
    "epochs = 40\n",
    "batch_size = 32\n",
    "\n",
    "#Train the model\n",
    "history = model.fit(X_train, y_train, epochs=epochs, batch_size=batch_size, validation_data=(X_test, y_test))"
   ]
  },
  {
   "cell_type": "code",
   "execution_count": 30,
   "metadata": {},
   "outputs": [
    {
     "name": "stdout",
     "output_type": "stream",
     "text": [
      "Epoch 1/50\n",
      "3730/3730 [==============================] - 35s 9ms/step - loss: 0.5593 - accuracy: 0.7880 - recall: 0.6771 - precision: 0.9109 - val_loss: 0.8196 - val_accuracy: 0.7465 - val_recall: 0.6577 - val_precision: 0.8904\n",
      "Epoch 2/50\n",
      "3730/3730 [==============================] - 35s 9ms/step - loss: 0.5598 - accuracy: 0.7883 - recall: 0.6776 - precision: 0.9109 - val_loss: 0.8051 - val_accuracy: 0.7431 - val_recall: 0.6635 - val_precision: 0.8816\n",
      "Epoch 3/50\n",
      "3730/3730 [==============================] - 34s 9ms/step - loss: 0.5584 - accuracy: 0.7893 - recall: 0.6770 - precision: 0.9135 - val_loss: 0.8719 - val_accuracy: 0.7140 - val_recall: 0.6464 - val_precision: 0.8598\n",
      "Epoch 4/50\n",
      "3730/3730 [==============================] - 35s 9ms/step - loss: 0.5591 - accuracy: 0.7891 - recall: 0.6784 - precision: 0.9121 - val_loss: 0.8133 - val_accuracy: 0.7426 - val_recall: 0.6612 - val_precision: 0.8896\n",
      "Epoch 5/50\n",
      "3730/3730 [==============================] - 34s 9ms/step - loss: 0.5584 - accuracy: 0.7885 - recall: 0.6773 - precision: 0.9119 - val_loss: 0.7744 - val_accuracy: 0.7499 - val_recall: 0.6693 - val_precision: 0.8800\n",
      "Epoch 6/50\n",
      "3730/3730 [==============================] - 34s 9ms/step - loss: 0.5578 - accuracy: 0.7888 - recall: 0.6780 - precision: 0.9111 - val_loss: 0.8674 - val_accuracy: 0.7174 - val_recall: 0.6388 - val_precision: 0.8791\n",
      "Epoch 7/50\n",
      "3730/3730 [==============================] - 34s 9ms/step - loss: 0.5583 - accuracy: 0.7884 - recall: 0.6773 - precision: 0.9124 - val_loss: 0.8378 - val_accuracy: 0.7171 - val_recall: 0.6467 - val_precision: 0.8605\n",
      "Epoch 8/50\n",
      "3730/3730 [==============================] - 34s 9ms/step - loss: 0.5572 - accuracy: 0.7889 - recall: 0.6772 - precision: 0.9120 - val_loss: 0.8347 - val_accuracy: 0.7241 - val_recall: 0.6445 - val_precision: 0.8761\n",
      "Epoch 9/50\n",
      "3730/3730 [==============================] - 34s 9ms/step - loss: 0.5610 - accuracy: 0.7878 - recall: 0.6784 - precision: 0.9093 - val_loss: 0.8955 - val_accuracy: 0.7102 - val_recall: 0.6320 - val_precision: 0.8519\n",
      "Epoch 10/50\n",
      "3730/3730 [==============================] - 34s 9ms/step - loss: 0.5586 - accuracy: 0.7887 - recall: 0.6794 - precision: 0.9108 - val_loss: 0.8290 - val_accuracy: 0.7353 - val_recall: 0.6490 - val_precision: 0.8564\n",
      "Epoch 11/50\n",
      "3730/3730 [==============================] - 34s 9ms/step - loss: 0.5595 - accuracy: 0.7876 - recall: 0.6767 - precision: 0.9115 - val_loss: 0.8048 - val_accuracy: 0.7271 - val_recall: 0.6442 - val_precision: 0.8802\n",
      "Epoch 12/50\n",
      "3730/3730 [==============================] - 35s 9ms/step - loss: 0.5584 - accuracy: 0.7881 - recall: 0.6772 - precision: 0.9119 - val_loss: 0.8456 - val_accuracy: 0.7365 - val_recall: 0.6669 - val_precision: 0.8627\n",
      "Epoch 13/50\n",
      "3730/3730 [==============================] - 34s 9ms/step - loss: 0.5578 - accuracy: 0.7891 - recall: 0.6787 - precision: 0.9106 - val_loss: 0.8839 - val_accuracy: 0.7168 - val_recall: 0.6429 - val_precision: 0.8649\n",
      "Epoch 14/50\n",
      "3730/3730 [==============================] - 34s 9ms/step - loss: 0.5570 - accuracy: 0.7890 - recall: 0.6794 - precision: 0.9097 - val_loss: 0.8408 - val_accuracy: 0.7409 - val_recall: 0.6629 - val_precision: 0.8688\n",
      "Epoch 15/50\n",
      "3730/3730 [==============================] - 34s 9ms/step - loss: 0.5575 - accuracy: 0.7886 - recall: 0.6771 - precision: 0.9128 - val_loss: 0.8249 - val_accuracy: 0.7402 - val_recall: 0.6614 - val_precision: 0.8731\n",
      "Epoch 16/50\n",
      "3730/3730 [==============================] - 33s 9ms/step - loss: 0.5568 - accuracy: 0.7895 - recall: 0.6796 - precision: 0.9107 - val_loss: 0.8629 - val_accuracy: 0.7216 - val_recall: 0.6417 - val_precision: 0.8541\n",
      "Epoch 17/50\n",
      "3730/3730 [==============================] - 34s 9ms/step - loss: 0.5572 - accuracy: 0.7893 - recall: 0.6783 - precision: 0.9122 - val_loss: 0.8673 - val_accuracy: 0.7177 - val_recall: 0.6359 - val_precision: 0.8723\n",
      "Epoch 18/50\n",
      "3730/3730 [==============================] - 34s 9ms/step - loss: 0.5555 - accuracy: 0.7896 - recall: 0.6785 - precision: 0.9123 - val_loss: 0.8781 - val_accuracy: 0.7252 - val_recall: 0.6479 - val_precision: 0.8652\n",
      "Epoch 19/50\n",
      "3730/3730 [==============================] - 33s 9ms/step - loss: 0.5565 - accuracy: 0.7891 - recall: 0.6787 - precision: 0.9115 - val_loss: 0.8540 - val_accuracy: 0.7230 - val_recall: 0.6438 - val_precision: 0.8811\n",
      "Epoch 20/50\n",
      "3730/3730 [==============================] - 33s 9ms/step - loss: 0.5554 - accuracy: 0.7896 - recall: 0.6798 - precision: 0.9126 - val_loss: 0.8451 - val_accuracy: 0.7301 - val_recall: 0.6434 - val_precision: 0.8825\n",
      "Epoch 21/50\n",
      "3730/3730 [==============================] - 33s 9ms/step - loss: 0.5563 - accuracy: 0.7890 - recall: 0.6779 - precision: 0.9130 - val_loss: 0.8314 - val_accuracy: 0.7345 - val_recall: 0.6477 - val_precision: 0.8772\n",
      "Epoch 22/50\n",
      "3730/3730 [==============================] - 33s 9ms/step - loss: 0.5567 - accuracy: 0.7892 - recall: 0.6794 - precision: 0.9112 - val_loss: 0.8339 - val_accuracy: 0.7485 - val_recall: 0.6684 - val_precision: 0.8830\n",
      "Epoch 23/50\n",
      "3730/3730 [==============================] - 34s 9ms/step - loss: 0.5554 - accuracy: 0.7899 - recall: 0.6797 - precision: 0.9121 - val_loss: 0.7978 - val_accuracy: 0.7339 - val_recall: 0.6457 - val_precision: 0.8940\n",
      "Epoch 24/50\n",
      "3730/3730 [==============================] - 33s 9ms/step - loss: 0.5556 - accuracy: 0.7891 - recall: 0.6790 - precision: 0.9118 - val_loss: 0.8249 - val_accuracy: 0.7259 - val_recall: 0.6406 - val_precision: 0.8905\n",
      "Epoch 25/50\n",
      "3730/3730 [==============================] - 33s 9ms/step - loss: 0.5536 - accuracy: 0.7904 - recall: 0.6802 - precision: 0.9130 - val_loss: 0.8072 - val_accuracy: 0.7367 - val_recall: 0.6474 - val_precision: 0.8884\n",
      "Epoch 26/50\n",
      "3730/3730 [==============================] - 33s 9ms/step - loss: 0.5541 - accuracy: 0.7899 - recall: 0.6801 - precision: 0.9125 - val_loss: 0.8366 - val_accuracy: 0.7439 - val_recall: 0.6656 - val_precision: 0.8751\n",
      "Epoch 27/50\n",
      "3730/3730 [==============================] - 33s 9ms/step - loss: 0.5551 - accuracy: 0.7904 - recall: 0.6809 - precision: 0.9120 - val_loss: 0.8410 - val_accuracy: 0.7397 - val_recall: 0.6630 - val_precision: 0.8634\n",
      "Epoch 28/50\n",
      "3730/3730 [==============================] - 32s 9ms/step - loss: 0.5557 - accuracy: 0.7892 - recall: 0.6789 - precision: 0.9109 - val_loss: 0.7776 - val_accuracy: 0.7420 - val_recall: 0.6669 - val_precision: 0.8746\n",
      "Epoch 29/50\n",
      "3730/3730 [==============================] - 32s 8ms/step - loss: 0.5542 - accuracy: 0.7899 - recall: 0.6791 - precision: 0.9138 - val_loss: 0.8363 - val_accuracy: 0.7423 - val_recall: 0.6749 - val_precision: 0.8589\n",
      "Epoch 30/50\n",
      "3730/3730 [==============================] - 32s 9ms/step - loss: 0.5538 - accuracy: 0.7900 - recall: 0.6790 - precision: 0.9136 - val_loss: 0.7789 - val_accuracy: 0.7396 - val_recall: 0.6599 - val_precision: 0.8878\n",
      "Epoch 31/50\n",
      "3730/3730 [==============================] - 32s 9ms/step - loss: 0.5539 - accuracy: 0.7903 - recall: 0.6808 - precision: 0.9124 - val_loss: 0.8007 - val_accuracy: 0.7391 - val_recall: 0.6582 - val_precision: 0.8951\n",
      "Epoch 32/50\n",
      "3730/3730 [==============================] - 32s 8ms/step - loss: 0.5535 - accuracy: 0.7898 - recall: 0.6794 - precision: 0.9139 - val_loss: 0.8281 - val_accuracy: 0.7368 - val_recall: 0.6547 - val_precision: 0.8682\n",
      "Epoch 33/50\n",
      "3730/3730 [==============================] - 34s 9ms/step - loss: 0.5549 - accuracy: 0.7894 - recall: 0.6791 - precision: 0.9121 - val_loss: 0.8390 - val_accuracy: 0.7392 - val_recall: 0.6505 - val_precision: 0.8837\n",
      "Epoch 34/50\n",
      "3730/3730 [==============================] - 33s 9ms/step - loss: 0.5530 - accuracy: 0.7901 - recall: 0.6804 - precision: 0.9124 - val_loss: 0.8487 - val_accuracy: 0.7239 - val_recall: 0.6337 - val_precision: 0.8912\n",
      "Epoch 35/50\n",
      "3730/3730 [==============================] - 33s 9ms/step - loss: 0.5517 - accuracy: 0.7909 - recall: 0.6808 - precision: 0.9121 - val_loss: 0.8233 - val_accuracy: 0.7417 - val_recall: 0.6619 - val_precision: 0.8729\n",
      "Epoch 36/50\n",
      "3730/3730 [==============================] - 33s 9ms/step - loss: 0.5527 - accuracy: 0.7908 - recall: 0.6804 - precision: 0.9117 - val_loss: 0.8446 - val_accuracy: 0.7328 - val_recall: 0.6572 - val_precision: 0.8641\n",
      "Epoch 37/50\n",
      "3730/3730 [==============================] - 33s 9ms/step - loss: 0.5522 - accuracy: 0.7903 - recall: 0.6817 - precision: 0.9122 - val_loss: 0.8546 - val_accuracy: 0.7140 - val_recall: 0.6409 - val_precision: 0.8627\n",
      "Epoch 38/50\n",
      "3730/3730 [==============================] - 33s 9ms/step - loss: 0.5529 - accuracy: 0.7908 - recall: 0.6797 - precision: 0.9139 - val_loss: 0.8577 - val_accuracy: 0.7195 - val_recall: 0.6378 - val_precision: 0.8807\n",
      "Epoch 39/50\n",
      "3730/3730 [==============================] - 33s 9ms/step - loss: 0.5520 - accuracy: 0.7902 - recall: 0.6800 - precision: 0.9129 - val_loss: 0.8065 - val_accuracy: 0.7442 - val_recall: 0.6662 - val_precision: 0.8851\n",
      "Epoch 40/50\n",
      "3730/3730 [==============================] - 33s 9ms/step - loss: 0.5520 - accuracy: 0.7907 - recall: 0.6811 - precision: 0.9127 - val_loss: 0.8165 - val_accuracy: 0.7435 - val_recall: 0.6718 - val_precision: 0.8788\n",
      "Epoch 41/50\n",
      "3730/3730 [==============================] - 34s 9ms/step - loss: 0.5501 - accuracy: 0.7915 - recall: 0.6811 - precision: 0.9132 - val_loss: 0.7944 - val_accuracy: 0.7463 - val_recall: 0.6711 - val_precision: 0.8872\n",
      "Epoch 42/50\n",
      "3730/3730 [==============================] - 34s 9ms/step - loss: 0.5523 - accuracy: 0.7907 - recall: 0.6801 - precision: 0.9133 - val_loss: 0.8673 - val_accuracy: 0.7170 - val_recall: 0.6421 - val_precision: 0.8769\n",
      "Epoch 43/50\n",
      "3730/3730 [==============================] - 34s 9ms/step - loss: 0.5506 - accuracy: 0.7913 - recall: 0.6814 - precision: 0.9124 - val_loss: 0.7669 - val_accuracy: 0.7296 - val_recall: 0.6465 - val_precision: 0.8928\n",
      "Epoch 44/50\n",
      "3730/3730 [==============================] - 33s 9ms/step - loss: 0.5518 - accuracy: 0.7904 - recall: 0.6807 - precision: 0.9119 - val_loss: 0.8635 - val_accuracy: 0.7247 - val_recall: 0.6516 - val_precision: 0.8715\n",
      "Epoch 45/50\n",
      "3730/3730 [==============================] - 33s 9ms/step - loss: 0.5527 - accuracy: 0.7909 - recall: 0.6808 - precision: 0.9131 - val_loss: 0.8471 - val_accuracy: 0.7319 - val_recall: 0.6369 - val_precision: 0.8892\n",
      "Epoch 46/50\n",
      "3730/3730 [==============================] - 33s 9ms/step - loss: 0.5522 - accuracy: 0.7906 - recall: 0.6798 - precision: 0.9136 - val_loss: 0.8761 - val_accuracy: 0.7246 - val_recall: 0.6446 - val_precision: 0.8813\n",
      "Epoch 47/50\n",
      "3730/3730 [==============================] - 33s 9ms/step - loss: 0.5529 - accuracy: 0.7899 - recall: 0.6804 - precision: 0.9130 - val_loss: 0.7859 - val_accuracy: 0.7442 - val_recall: 0.6600 - val_precision: 0.8945\n",
      "Epoch 48/50\n",
      "3730/3730 [==============================] - 33s 9ms/step - loss: 0.5504 - accuracy: 0.7911 - recall: 0.6796 - precision: 0.9147 - val_loss: 0.9416 - val_accuracy: 0.7129 - val_recall: 0.6391 - val_precision: 0.8656\n",
      "Epoch 49/50\n",
      "3730/3730 [==============================] - 33s 9ms/step - loss: 0.5510 - accuracy: 0.7909 - recall: 0.6817 - precision: 0.9136 - val_loss: 0.8653 - val_accuracy: 0.7179 - val_recall: 0.6393 - val_precision: 0.8907\n",
      "Epoch 50/50\n",
      "3730/3730 [==============================] - 33s 9ms/step - loss: 0.5504 - accuracy: 0.7917 - recall: 0.6816 - precision: 0.9129 - val_loss: 0.7994 - val_accuracy: 0.7460 - val_recall: 0.6565 - val_precision: 0.8821\n"
     ]
    }
   ],
   "source": [
    "#Define epochs and batch size\n",
    "epochs = 50\n",
    "batch_size = 32\n",
    "\n",
    "#Train the model\n",
    "history = model.fit(X_train, y_train, epochs=epochs, batch_size=batch_size, validation_data=(X_test, y_test))"
   ]
  },
  {
   "cell_type": "markdown",
   "metadata": {},
   "source": [
    "## Evaluate The Model"
   ]
  },
  {
   "cell_type": "code",
   "execution_count": 31,
   "metadata": {},
   "outputs": [
    {
     "name": "stdout",
     "output_type": "stream",
     "text": [
      "1417/1417 [==============================] - 5s 3ms/step - loss: 0.7994 - accuracy: 0.7460 - recall: 0.6565 - precision: 0.8821\n",
      "Test Loss: 0.7994279265403748\n",
      "Test Accuracy: 0.7460125088691711\n",
      "Test Recall: 0.6565113067626953\n",
      "Test Precision: 0.882061779499054\n"
     ]
    }
   ],
   "source": [
    "#Evaluate the model on test data\n",
    "loss, accuracy, recall, precision = model.evaluate(X_test, y_test)\n",
    "print('Test Loss:', loss)\n",
    "print('Test Accuracy:', accuracy)\n",
    "print('Test Recall:', recall)\n",
    "print('Test Precision:', precision)"
   ]
  },
  {
   "cell_type": "code",
   "execution_count": 32,
   "metadata": {},
   "outputs": [
    {
     "name": "stdout",
     "output_type": "stream",
     "text": [
      "1417/1417 [==============================] - 4s 3ms/step\n"
     ]
    }
   ],
   "source": [
    "# make a predictions\n",
    "predictions = model.predict(X_test)"
   ]
  },
  {
   "cell_type": "code",
   "execution_count": 33,
   "metadata": {},
   "outputs": [],
   "source": [
    "# convert one-hot encode predictions to class labels\n",
    "predicted_classes = np.argmax(predictions, axis=1)\n",
    "y_test_categorical = np.argmax(y_test, axis=1)"
   ]
  },
  {
   "cell_type": "markdown",
   "metadata": {},
   "source": [
    "### Confusion Matrix"
   ]
  },
  {
   "cell_type": "code",
   "execution_count": 34,
   "metadata": {},
   "outputs": [],
   "source": [
    "# function to calculate recall from confusion matrix\n",
    "def calculate_recall(confusion_matrix):\n",
    "    num_class = len(confusion_matrix)\n",
    "    recalls = []\n",
    "\n",
    "    for i in range(num_class):\n",
    "        true_positive = confusion_matrix[i][i]\n",
    "        false_negative = sum(confusion_matrix[i]) - true_positive\n",
    "\n",
    "        recall = true_positive / (true_positive + false_negative)\n",
    "        recalls.append(recall)\n",
    "    \n",
    "    return recalls"
   ]
  },
  {
   "cell_type": "code",
   "execution_count": 35,
   "metadata": {},
   "outputs": [],
   "source": [
    "# function to display the recall score\n",
    "def display_recall(recalls):\n",
    "    print('Recall Scores for each class:')\n",
    "    print('Analysis:', recalls[0])\n",
    "    print('Backdoor:', recalls[1])\n",
    "    print('DoS:', recalls[2])\n",
    "    print('Exploits:', recalls[3])\n",
    "    print('Fuzzers:', recalls[4])\n",
    "    print('Generic:', recalls[5])\n",
    "    print('Reconnaissance:', recalls[6])\n",
    "    print('Shellcode:', recalls[7])\n",
    "    print('Worms:', recalls[8])"
   ]
  },
  {
   "cell_type": "code",
   "execution_count": 36,
   "metadata": {},
   "outputs": [],
   "source": [
    "from sklearn.metrics import confusion_matrix"
   ]
  },
  {
   "cell_type": "code",
   "execution_count": 37,
   "metadata": {},
   "outputs": [],
   "source": [
    "matrix = confusion_matrix(y_test_categorical, predicted_classes)\n",
    "matrix_df = pd.DataFrame(matrix, \n",
    "                         index= ['Analysis', 'Backdoor', 'DoS', 'Exploits', 'Fuzzers', 'Generic', 'Reconnaissance', 'Shellcode', 'Worms'], \n",
    "                         columns= ['Analysis', 'Backdoor', 'DoS', 'Exploits', 'Fuzzers', 'Generic', 'Reconnaissance', 'Shellcode', 'Worms'])"
   ]
  },
  {
   "cell_type": "code",
   "execution_count": 38,
   "metadata": {},
   "outputs": [
    {
     "data": {
      "image/png": "[encoded data removed]",
      "text/plain": [
       "<Figure size 2000x2000 with 2 Axes>"
      ]
     },
     "metadata": {},
     "output_type": "display_data"
    }
   ],
   "source": [
    "# Plotting Confusion Matrix\n",
    "plt.figure(figsize = (20, 20))\n",
    "sns.heatmap(matrix_df, fmt='.0f', annot=True)\n",
    "plt.title('Confusion Matrix (1D CNN)')\n",
    "plt.ylabel('Actual Values')\n",
    "plt.xlabel('Predicted Values')\n",
    "plt.show()"
   ]
  },
  {
   "cell_type": "code",
   "execution_count": 39,
   "metadata": {},
   "outputs": [
    {
     "name": "stdout",
     "output_type": "stream",
     "text": [
      "Recall Scores for each class:\n",
      "Analysis: 0.0\n",
      "Backdoor: 0.0017152658662092624\n",
      "DoS: 0.016629982880899976\n",
      "Exploits: 0.9251639565178331\n",
      "Fuzzers: 0.6051806632568884\n",
      "Generic: 0.9631710031264904\n",
      "Reconnaissance: 0.39570815450643776\n",
      "Shellcode: 0.5767195767195767\n",
      "Worms: 0.09090909090909091\n"
     ]
    }
   ],
   "source": [
    "recalls = calculate_recall(matrix)\n",
    "display_recall(recalls)"
   ]
  },
  {
   "cell_type": "markdown",
   "metadata": {},
   "source": [
    "## Save and load the model"
   ]
  },
  {
   "cell_type": "code",
   "execution_count": 40,
   "metadata": {},
   "outputs": [],
   "source": [
    "from keras.models import load_model"
   ]
  },
  {
   "cell_type": "code",
   "execution_count": 41,
   "metadata": {},
   "outputs": [],
   "source": [
    "# save the 1D CNN trained model using keras\n",
    "model.save('/Data/Visual Studio Code/Data-Science/Notebook/UNSW-NB15/CNN/Imbalanced/Saved/cnn1d.keras')"
   ]
  },
  {
   "cell_type": "code",
   "execution_count": 42,
   "metadata": {},
   "outputs": [],
   "source": [
    "# load the 1D CNN trained model using keras\n",
    "model = load_model('/Data/Visual Studio Code/Data-Science/Notebook/UNSW-NB15/CNN/Imbalanced/Saved/cnn1d.keras')"
   ]
  },
  {
   "cell_type": "markdown",
   "metadata": {},
   "source": [
    "## Save and load the predicted"
   ]
  },
  {
   "cell_type": "code",
   "execution_count": 44,
   "metadata": {},
   "outputs": [],
   "source": [
    "import joblib"
   ]
  },
  {
   "cell_type": "code",
   "execution_count": 45,
   "metadata": {},
   "outputs": [
    {
     "data": {
      "text/plain": [
       "['D:/Data/Visual Studio Code/Data-Science/Notebook/UNSW-NB15/CNN/Imbalanced/Saved/predicted_classes.joblib']"
      ]
     },
     "execution_count": 45,
     "metadata": {},
     "output_type": "execute_result"
    }
   ],
   "source": [
    "# save the predicted\n",
    "joblib.dump(predicted_classes, 'D:/Data/Visual Studio Code/Data-Science/Notebook/UNSW-NB15/CNN/Imbalanced/Saved/predicted_classes.joblib', compress=('zlib', 3))"
   ]
  },
  {
   "cell_type": "code",
   "execution_count": 46,
   "metadata": {},
   "outputs": [],
   "source": [
    "# load the predicted\n",
    "predicted_classes = joblib.load('D:/Data/Visual Studio Code/Data-Science/Notebook/UNSW-NB15/CNN/Imbalanced/Saved/predicted_classes.joblib')"
   ]
  }
 ],
 "metadata": {
  "kernelspec": {
   "display_name": "myenv",
   "language": "python",
   "name": "python3"
  },
  "language_info": {
   "codemirror_mode": {
    "name": "ipython",
    "version": 3
   },
   "file_extension": ".py",
   "mimetype": "text/x-python",
   "name": "python",
   "nbconvert_exporter": "python",
   "pygments_lexer": "ipython3",
   "version": "3.10.11"
  },
  "orig_nbformat": 4
 },
 "nbformat": 4,
 "nbformat_minor": 2
}
