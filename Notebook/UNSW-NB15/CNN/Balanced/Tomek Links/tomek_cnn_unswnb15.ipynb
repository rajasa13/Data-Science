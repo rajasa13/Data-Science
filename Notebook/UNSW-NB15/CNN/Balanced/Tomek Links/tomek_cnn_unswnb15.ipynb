{
 "cells": [
  {
   "cell_type": "markdown",
   "metadata": {},
   "source": [
    "# Data Preprocessing"
   ]
  },
  {
   "cell_type": "code",
   "execution_count": 1,
   "metadata": {},
   "outputs": [],
   "source": [
    "import tensorflow as tf\n",
    "from keras.models import Sequential\n",
    "from keras.layers import Conv1D, MaxPooling1D, Flatten, Dense, Dropout, BatchNormalization\n",
    "from keras.metrics import Recall, Precision"
   ]
  },
  {
   "cell_type": "code",
   "execution_count": 2,
   "metadata": {},
   "outputs": [
    {
     "name": "stdout",
     "output_type": "stream",
     "text": [
      "Num GPUs Available:  1\n"
     ]
    }
   ],
   "source": [
    "#Check GPU device available\n",
    "print('Num GPUs Available: ', len(tf.config.list_physical_devices('GPU')))"
   ]
  },
  {
   "cell_type": "code",
   "execution_count": 3,
   "metadata": {},
   "outputs": [],
   "source": [
    "import pandas as pd\n",
    "import matplotlib.pyplot as plt\n",
    "import seaborn as sns\n",
    "import numpy as np"
   ]
  },
  {
   "cell_type": "code",
   "execution_count": 4,
   "metadata": {},
   "outputs": [],
   "source": [
    "# Load dataset\n",
    "data_train = pd.read_csv('/Data/Visual Studio Code/Data-Science/Dataset/UNSW-NB15/UNSW_NB15_training-set.csv')\n",
    "data_test = pd.read_csv('/Data/Visual Studio Code/Data-Science/Dataset/UNSW-NB15/UNSW_NB15_testing-set.csv')"
   ]
  },
  {
   "cell_type": "code",
   "execution_count": 5,
   "metadata": {},
   "outputs": [],
   "source": [
    "# Handle missing value and duplicate if any\n",
    "data_train.dropna(inplace=True)\n",
    "data_train.drop_duplicates(inplace=True)\n",
    "\n",
    "data_test.dropna(inplace=True)\n",
    "data_test.drop_duplicates(inplace=True)"
   ]
  },
  {
   "cell_type": "code",
   "execution_count": 6,
   "metadata": {},
   "outputs": [],
   "source": [
    "#Split Attack and Normal from dataframe\n",
    "data_train_attack = data_train[data_train['label'] == 1]\n",
    "data_test_attack = data_test[data_test['label'] == 1]\n",
    "\n",
    "#Optional\n",
    "#data_train_normal = data_train[data_train['label'] == 0]\n",
    "#data_test_normal = data_test[data_test['label'] == 0]"
   ]
  },
  {
   "cell_type": "code",
   "execution_count": 7,
   "metadata": {},
   "outputs": [],
   "source": [
    "# Drop id and label from train and test data\n",
    "data_train_attack = data_train_attack.drop('id', axis=1)\n",
    "data_train_attack = data_train_attack.drop('label', axis=1)\n",
    "\n",
    "data_test_attack = data_test_attack.drop('id', axis=1)\n",
    "data_test_attack = data_test_attack.drop('label', axis=1)"
   ]
  },
  {
   "cell_type": "code",
   "execution_count": 8,
   "metadata": {},
   "outputs": [
    {
     "name": "stdout",
     "output_type": "stream",
     "text": [
      "5\n",
      "6\n"
     ]
    }
   ],
   "source": [
    "print(data_train_attack['state'].nunique())\n",
    "print(data_test_attack['state'].nunique())"
   ]
  },
  {
   "cell_type": "code",
   "execution_count": 9,
   "metadata": {},
   "outputs": [
    {
     "name": "stdout",
     "output_type": "stream",
     "text": [
      "['INT' 'FIN' 'CON' 'REQ' 'RST']\n",
      "['INT' 'FIN' 'ACC' 'CON' 'REQ' 'CLO']\n"
     ]
    }
   ],
   "source": [
    "print(data_train_attack['state'].unique())\n",
    "print(data_test_attack['state'].unique())"
   ]
  },
  {
   "cell_type": "code",
   "execution_count": 10,
   "metadata": {},
   "outputs": [],
   "source": [
    "#Drop ACC, CLO, and RST from data\n",
    "data_train_attack = data_train_attack[(data_train_attack['state'] != 'RST')]\n",
    "data_test_attack = data_test_attack[(data_test_attack['state'] != 'ACC') & (data_test_attack['state'] != 'CLO')]"
   ]
  },
  {
   "cell_type": "code",
   "execution_count": 11,
   "metadata": {},
   "outputs": [
    {
     "name": "stdout",
     "output_type": "stream",
     "text": [
      "['INT' 'FIN' 'CON' 'REQ']\n",
      "['INT' 'FIN' 'CON' 'REQ']\n"
     ]
    }
   ],
   "source": [
    "print(data_train_attack['state'].unique())\n",
    "print(data_test_attack['state'].unique())"
   ]
  },
  {
   "cell_type": "markdown",
   "metadata": {},
   "source": [
    "## Encode Train and Test Data"
   ]
  },
  {
   "cell_type": "code",
   "execution_count": 12,
   "metadata": {},
   "outputs": [
    {
     "data": {
      "text/plain": [
       "['proto', 'state', 'service']"
      ]
     },
     "execution_count": 12,
     "metadata": {},
     "output_type": "execute_result"
    }
   ],
   "source": [
    "#column to encode\n",
    "cols = ['proto','state','service']\n",
    "cols"
   ]
  },
  {
   "cell_type": "code",
   "execution_count": 13,
   "metadata": {},
   "outputs": [],
   "source": [
    "#One-hot Encoding\n",
    "# Encode train data\n",
    "data_train_attack = pd.get_dummies(data_train_attack, columns=cols)\n",
    "\n",
    "# Encode test data\n",
    "data_test_attack = pd.get_dummies(data_test_attack, columns=cols)"
   ]
  },
  {
   "cell_type": "code",
   "execution_count": 14,
   "metadata": {},
   "outputs": [],
   "source": [
    "train_attack_cat = data_train_attack.pop('attack_cat')\n",
    "test_attack_cat = data_test_attack.pop('attack_cat')"
   ]
  },
  {
   "cell_type": "markdown",
   "metadata": {},
   "source": [
    "## Normalization"
   ]
  },
  {
   "cell_type": "code",
   "execution_count": 15,
   "metadata": {},
   "outputs": [],
   "source": [
    "# Min-Max Normalization\n",
    "from sklearn.preprocessing import MinMaxScaler\n",
    "\n",
    "scaler = MinMaxScaler()\n",
    "cols_to_norm = ['dur', 'spkts', 'dpkts', 'sbytes', 'dbytes', 'rate', 'sttl', 'dttl', 'sload', \n",
    "                'dload', 'sloss', 'dloss', 'sinpkt', 'dinpkt', 'sjit', 'djit', 'swin', 'stcpb', 'dtcpb', 'dwin', 'tcprtt', 'synack', \n",
    "                'ackdat', 'smean', 'dmean', 'trans_depth', 'response_body_len', 'ct_srv_src', 'ct_state_ttl', 'ct_dst_ltm', \n",
    "                'ct_src_dport_ltm', 'ct_dst_sport_ltm', 'ct_dst_src_ltm', 'is_ftp_login', 'ct_ftp_cmd', 'ct_flw_http_mthd', 'ct_src_ltm', \n",
    "                'ct_srv_dst', 'is_sm_ips_ports']\n",
    "\n",
    "data_train_attack[cols_to_norm] = scaler.fit_transform(data_train_attack[cols_to_norm])\n",
    "data_test_attack[cols_to_norm] = scaler.fit_transform(data_test_attack[cols_to_norm])"
   ]
  },
  {
   "cell_type": "markdown",
   "metadata": {},
   "source": [
    "## Feature Selection"
   ]
  },
  {
   "cell_type": "code",
   "execution_count": 16,
   "metadata": {},
   "outputs": [
    {
     "data": {
      "text/plain": [
       "dur               float64\n",
       "spkts             float64\n",
       "dpkts             float64\n",
       "sbytes            float64\n",
       "dbytes            float64\n",
       "                   ...   \n",
       "service_radius       bool\n",
       "service_smtp         bool\n",
       "service_snmp         bool\n",
       "service_ssh          bool\n",
       "service_ssl          bool\n",
       "Length: 182, dtype: object"
      ]
     },
     "execution_count": 16,
     "metadata": {},
     "output_type": "execute_result"
    }
   ],
   "source": [
    "#Feature Selection\n",
    "feature = data_train_attack.drop(['dinpkt', 'ct_ftp_cmd', 'is_sm_ips_ports'], axis=1)\n",
    "feature.dtypes"
   ]
  },
  {
   "cell_type": "markdown",
   "metadata": {},
   "source": [
    "# Balancing Data"
   ]
  },
  {
   "cell_type": "markdown",
   "metadata": {},
   "source": [
    "## Initialize Train Data and Test Data"
   ]
  },
  {
   "cell_type": "code",
   "execution_count": 17,
   "metadata": {},
   "outputs": [
    {
     "data": {
      "text/plain": [
       "((119329, 182), (119329,), (45329, 182), (45329,))"
      ]
     },
     "execution_count": 17,
     "metadata": {},
     "output_type": "execute_result"
    }
   ],
   "source": [
    "#Splitting the dataset into dependent and independent feature\n",
    "X_train = feature\n",
    "y_train = train_attack_cat\n",
    "\n",
    "X_test = data_test_attack.drop(columns=['dinpkt', 'ct_ftp_cmd', 'is_sm_ips_ports'])\n",
    "y_test = test_attack_cat\n",
    "\n",
    "X_train.shape, y_train.shape, X_test.shape, y_test.shape"
   ]
  },
  {
   "cell_type": "markdown",
   "metadata": {},
   "source": [
    "## Tomek Links"
   ]
  },
  {
   "cell_type": "code",
   "execution_count": 18,
   "metadata": {},
   "outputs": [
    {
     "data": {
      "text/plain": [
       "((113701, 182), (113701,))"
      ]
     },
     "execution_count": 18,
     "metadata": {},
     "output_type": "execute_result"
    }
   ],
   "source": [
    "from imblearn.under_sampling import TomekLinks\n",
    "\n",
    "tomek = TomekLinks()\n",
    "X_tomek, y_tomek = tomek.fit_resample(X_train, y_train)\n",
    "\n",
    "X_tomek.shape, y_tomek.shape"
   ]
  },
  {
   "cell_type": "code",
   "execution_count": 19,
   "metadata": {},
   "outputs": [
    {
     "data": {
      "text/plain": [
       "([0, 1, 2, 3, 4, 5, 6, 7, 8],\n",
       " [Text(0, 0, 'Backdoor'),\n",
       "  Text(1, 0, 'Analysis'),\n",
       "  Text(2, 0, 'Fuzzers'),\n",
       "  Text(3, 0, 'Shellcode'),\n",
       "  Text(4, 0, 'Reconnaissance'),\n",
       "  Text(5, 0, 'Exploits'),\n",
       "  Text(6, 0, 'DoS'),\n",
       "  Text(7, 0, 'Worms'),\n",
       "  Text(8, 0, 'Generic')])"
      ]
     },
     "execution_count": 19,
     "metadata": {},
     "output_type": "execute_result"
    },
    {
     "data": {
      "image/png": "[encoded data removed]",
      "text/plain": [
       "<Figure size 640x480 with 1 Axes>"
      ]
     },
     "metadata": {},
     "output_type": "display_data"
    }
   ],
   "source": [
    "#Create new dataframe from X_tomek and y_tomek to count every attack\n",
    "data_tomek = pd.concat([X_tomek, y_tomek], axis=1)\n",
    "\n",
    "sns.countplot(data=data_tomek, x=\"attack_cat\")\n",
    "plt.xticks(rotation=30)"
   ]
  },
  {
   "cell_type": "code",
   "execution_count": 20,
   "metadata": {},
   "outputs": [
    {
     "name": "stdout",
     "output_type": "stream",
     "text": [
      "attack_cat\n",
      "Generic           39810\n",
      "Exploits          31524\n",
      "Fuzzers           17131\n",
      "DoS               11409\n",
      "Reconnaissance     9324\n",
      "Analysis           1925\n",
      "Backdoor           1646\n",
      "Shellcode           802\n",
      "Worms               130\n",
      "Name: count, dtype: int64\n",
      "--------------------\n",
      "Shape: (113701, 183)\n",
      "--------------------\n",
      "Duplicates: 63491\n"
     ]
    }
   ],
   "source": [
    "#data_tomek.drop_duplicates(inplace=True)\n",
    "print(data_tomek.value_counts('attack_cat'))\n",
    "print(\"--------------------\")\n",
    "print(\"Shape: \" + str(data_tomek.shape))\n",
    "print(\"--------------------\")\n",
    "print(\"Duplicates: \" + str(data_tomek.duplicated().sum()))"
   ]
  },
  {
   "cell_type": "markdown",
   "metadata": {},
   "source": [
    "# Model Architecture"
   ]
  },
  {
   "cell_type": "code",
   "execution_count": 21,
   "metadata": {},
   "outputs": [
    {
     "name": "stderr",
     "output_type": "stream",
     "text": [
      "c:\\Users\\Acer\\miniconda3\\envs\\tf_gpu\\lib\\site-packages\\tensorflow_addons\\utils\\tfa_eol_msg.py:23: UserWarning: \n",
      "\n",
      "TensorFlow Addons (TFA) has ended development and introduction of new features.\n",
      "TFA has entered a minimal maintenance and release mode until a planned end of life in May 2024.\n",
      "Please modify downstream libraries to take dependencies from other repositories in our TensorFlow community (e.g. Keras, Keras-CV, and Keras-NLP). \n",
      "\n",
      "For more information see: https://github.com/tensorflow/addons/issues/2807 \n",
      "\n",
      "  warnings.warn(\n",
      "c:\\Users\\Acer\\miniconda3\\envs\\tf_gpu\\lib\\site-packages\\tensorflow_addons\\utils\\ensure_tf_install.py:53: UserWarning: Tensorflow Addons supports using Python ops for all Tensorflow versions above or equal to 2.12.0 and strictly below 2.15.0 (nightly versions are not supported). \n",
      " The versions of TensorFlow you are currently using is 2.10.0 and is not supported. \n",
      "Some things might work, some things might not.\n",
      "If you were to encounter a bug, do not file an issue.\n",
      "If you want to make sure you're using a tested and supported configuration, either change the TensorFlow version or the TensorFlow Addons's version. \n",
      "You can find the compatibility matrix in TensorFlow Addon's readme:\n",
      "https://github.com/tensorflow/addons\n",
      "  warnings.warn(\n"
     ]
    }
   ],
   "source": [
    "# from keras import backend as K\n",
    "import tensorflow_addons as tfa"
   ]
  },
  {
   "cell_type": "code",
   "execution_count": 22,
   "metadata": {},
   "outputs": [],
   "source": [
    "# def recall_m(y_true, y_pred):\n",
    "#     true_positives = K.sum(K.round(K.clip(y_true * y_pred, 0, 1)))\n",
    "#     possible_positives = K.sum(K.round(K.clip(y_true, 0, 1)))\n",
    "#     recall = true_positives / (possible_positives + K.epsilon())\n",
    "#     return recall\n",
    "\n",
    "# def precision_m(y_true, y_pred):\n",
    "#     true_positives = K.sum(K.round(K.clip(y_true * y_pred, 0, 1)))\n",
    "#     predicted_positives = K.sum(K.round(K.clip(y_pred, 0, 1)))\n",
    "#     precision = true_positives / (predicted_positives + K.epsilon())\n",
    "#     return precision\n",
    "\n",
    "# def f1_m(y_true, y_pred):\n",
    "#     precision = precision_m(y_true, y_pred)\n",
    "#     recall = recall_m(y_true, y_pred)\n",
    "#     return 2*((precision*recall)/(precision+recall+K.epsilon()))"
   ]
  },
  {
   "cell_type": "markdown",
   "metadata": {},
   "source": [
    "## 1D-CNN (1 layer) Model"
   ]
  },
  {
   "cell_type": "code",
   "execution_count": 23,
   "metadata": {},
   "outputs": [],
   "source": [
    "# Define the input shape\n",
    "input_shape = (182, 1)\n",
    "\n",
    "# Create the sequential model\n",
    "model = Sequential()\n",
    "\n",
    "# Convolutional layers\n",
    "model.add(Conv1D(filters=32, kernel_size=5, activation='sigmoid', input_shape=input_shape))\n",
    "\n",
    "# MaxPooling1D layer\n",
    "model.add(MaxPooling1D(pool_size=2, strides=1))\n",
    "\n",
    "# Flatten layer\n",
    "model.add(Flatten())\n",
    "\n",
    "# Batch Normalization layer\n",
    "model.add(BatchNormalization(axis=-1))\n",
    "\n",
    "# Dropout layer with dropout 0.5\n",
    "model.add(Dropout(0.5))\n",
    "\n",
    "# Two Fully-connected layers\n",
    "model.add(Dense(32, activation='relu'))\n",
    "model.add(Dense(16, activation='relu'))\n",
    "\n",
    "# Output\n",
    "model.add(Dense(units=9, activation='softmax'))\n",
    "\n",
    "# Compile the model\n",
    "model.compile(optimizer='adam', loss='categorical_crossentropy', metrics=['accuracy', Recall(), Precision(), tfa.metrics.F1Score(num_classes=9, \n",
    "                                                                                                                                 average='macro')])"
   ]
  },
  {
   "cell_type": "code",
   "execution_count": 24,
   "metadata": {},
   "outputs": [
    {
     "name": "stdout",
     "output_type": "stream",
     "text": [
      "Model: \"sequential\"\n",
      "_________________________________________________________________\n",
      " Layer (type)                Output Shape              Param #   \n",
      "=================================================================\n",
      " conv1d (Conv1D)             (None, 178, 32)           192       \n",
      "                                                                 \n",
      " max_pooling1d (MaxPooling1D  (None, 177, 32)          0         \n",
      " )                                                               \n",
      "                                                                 \n",
      " flatten (Flatten)           (None, 5664)              0         \n",
      "                                                                 \n",
      " batch_normalization (BatchN  (None, 5664)             22656     \n",
      " ormalization)                                                   \n",
      "                                                                 \n",
      " dropout (Dropout)           (None, 5664)              0         \n",
      "                                                                 \n",
      " dense (Dense)               (None, 32)                181280    \n",
      "                                                                 \n",
      " dense_1 (Dense)             (None, 16)                528       \n",
      "                                                                 \n",
      " dense_2 (Dense)             (None, 9)                 153       \n",
      "                                                                 \n",
      "=================================================================\n",
      "Total params: 204,809\n",
      "Trainable params: 193,481\n",
      "Non-trainable params: 11,328\n",
      "_________________________________________________________________\n"
     ]
    }
   ],
   "source": [
    "#Print the model summary\n",
    "model.summary()"
   ]
  },
  {
   "cell_type": "markdown",
   "metadata": {},
   "source": [
    "## Train the model"
   ]
  },
  {
   "cell_type": "code",
   "execution_count": 25,
   "metadata": {},
   "outputs": [],
   "source": [
    "from keras.utils import to_categorical\n",
    "from sklearn.preprocessing import LabelEncoder"
   ]
  },
  {
   "cell_type": "code",
   "execution_count": 26,
   "metadata": {},
   "outputs": [],
   "source": [
    "le = LabelEncoder()\n",
    "\n",
    "y_tomek = le.fit_transform(y_tomek)\n",
    "y_test = le.fit_transform(y_test)"
   ]
  },
  {
   "cell_type": "code",
   "execution_count": 27,
   "metadata": {},
   "outputs": [],
   "source": [
    "num_class = 9\n",
    "y_tomek = to_categorical(y_tomek, num_class)\n",
    "y_test = to_categorical(y_test, num_class)"
   ]
  },
  {
   "cell_type": "code",
   "execution_count": 28,
   "metadata": {},
   "outputs": [],
   "source": [
    "X_tomek = np.array(X_tomek, dtype=np.float32)\n",
    "X_test = np.array(X_test, dtype=np.float32)"
   ]
  },
  {
   "cell_type": "code",
   "execution_count": 29,
   "metadata": {},
   "outputs": [
    {
     "name": "stdout",
     "output_type": "stream",
     "text": [
      "Epoch 1/50\n",
      "3554/3554 [==============================] - 35s 9ms/step - loss: 0.6690 - accuracy: 0.7562 - recall: 0.6390 - precision: 0.8696 - f1_score: 0.3737 - val_loss: 0.7830 - val_accuracy: 0.7066 - val_recall: 0.6329 - val_precision: 0.8049 - val_f1_score: 0.3049\n",
      "Epoch 2/50\n",
      "3554/3554 [==============================] - 31s 9ms/step - loss: 0.6121 - accuracy: 0.7748 - recall: 0.6621 - precision: 0.8890 - f1_score: 0.3921 - val_loss: 0.7535 - val_accuracy: 0.7488 - val_recall: 0.7282 - val_precision: 0.7749 - val_f1_score: 0.3258\n",
      "Epoch 3/50\n",
      "3554/3554 [==============================] - 33s 9ms/step - loss: 0.5961 - accuracy: 0.7806 - recall: 0.6675 - precision: 0.8971 - f1_score: 0.4060 - val_loss: 0.6483 - val_accuracy: 0.7732 - val_recall: 0.6975 - val_precision: 0.8843 - val_f1_score: 0.3646\n",
      "Epoch 4/50\n",
      "3554/3554 [==============================] - 33s 9ms/step - loss: 0.5816 - accuracy: 0.7855 - recall: 0.6716 - precision: 0.9042 - f1_score: 0.4255 - val_loss: 0.6427 - val_accuracy: 0.7729 - val_recall: 0.7076 - val_precision: 0.8598 - val_f1_score: 0.3791\n",
      "Epoch 5/50\n",
      "3554/3554 [==============================] - 32s 9ms/step - loss: 0.5749 - accuracy: 0.7887 - recall: 0.6715 - precision: 0.9106 - f1_score: 0.4316 - val_loss: 0.6491 - val_accuracy: 0.7729 - val_recall: 0.6959 - val_precision: 0.8864 - val_f1_score: 0.4041\n",
      "Epoch 6/50\n",
      "3554/3554 [==============================] - 32s 9ms/step - loss: 0.5692 - accuracy: 0.7902 - recall: 0.6742 - precision: 0.9113 - f1_score: 0.4417 - val_loss: 0.6586 - val_accuracy: 0.7699 - val_recall: 0.6890 - val_precision: 0.8855 - val_f1_score: 0.3805\n",
      "Epoch 7/50\n",
      "3554/3554 [==============================] - 32s 9ms/step - loss: 0.5646 - accuracy: 0.7915 - recall: 0.6743 - precision: 0.9145 - f1_score: 0.4515 - val_loss: 0.6409 - val_accuracy: 0.7734 - val_recall: 0.6959 - val_precision: 0.8885 - val_f1_score: 0.4070\n",
      "Epoch 8/50\n",
      "3554/3554 [==============================] - 33s 9ms/step - loss: 0.5606 - accuracy: 0.7930 - recall: 0.6768 - precision: 0.9157 - f1_score: 0.4525 - val_loss: 0.6514 - val_accuracy: 0.7740 - val_recall: 0.6948 - val_precision: 0.8857 - val_f1_score: 0.4218\n",
      "Epoch 9/50\n",
      "3554/3554 [==============================] - 33s 9ms/step - loss: 0.5584 - accuracy: 0.7927 - recall: 0.6804 - precision: 0.9139 - f1_score: 0.4511 - val_loss: 0.6651 - val_accuracy: 0.7684 - val_recall: 0.6828 - val_precision: 0.8842 - val_f1_score: 0.4031\n",
      "Epoch 10/50\n",
      "3554/3554 [==============================] - 32s 9ms/step - loss: 0.5535 - accuracy: 0.7950 - recall: 0.6780 - precision: 0.9195 - f1_score: 0.4567 - val_loss: 0.6446 - val_accuracy: 0.7692 - val_recall: 0.6928 - val_precision: 0.8790 - val_f1_score: 0.4101\n",
      "Epoch 11/50\n",
      "3554/3554 [==============================] - 33s 9ms/step - loss: 0.5528 - accuracy: 0.7941 - recall: 0.6739 - precision: 0.9222 - f1_score: 0.4606 - val_loss: 0.6334 - val_accuracy: 0.7754 - val_recall: 0.6940 - val_precision: 0.8957 - val_f1_score: 0.4242\n",
      "Epoch 12/50\n",
      "3554/3554 [==============================] - 33s 9ms/step - loss: 0.5520 - accuracy: 0.7946 - recall: 0.6761 - precision: 0.9222 - f1_score: 0.4690 - val_loss: 0.6342 - val_accuracy: 0.7748 - val_recall: 0.6949 - val_precision: 0.8899 - val_f1_score: 0.4167\n",
      "Epoch 13/50\n",
      "3554/3554 [==============================] - 33s 9ms/step - loss: 0.5495 - accuracy: 0.7960 - recall: 0.6776 - precision: 0.9225 - f1_score: 0.4768 - val_loss: 0.6380 - val_accuracy: 0.7719 - val_recall: 0.6978 - val_precision: 0.8825 - val_f1_score: 0.3957\n",
      "Epoch 14/50\n",
      "3554/3554 [==============================] - 33s 9ms/step - loss: 0.5490 - accuracy: 0.7961 - recall: 0.6778 - precision: 0.9228 - f1_score: 0.4756 - val_loss: 0.6653 - val_accuracy: 0.7729 - val_recall: 0.7008 - val_precision: 0.8788 - val_f1_score: 0.4136\n",
      "Epoch 15/50\n",
      "3554/3554 [==============================] - 33s 9ms/step - loss: 0.5485 - accuracy: 0.7965 - recall: 0.6787 - precision: 0.9214 - f1_score: 0.4747 - val_loss: 0.6258 - val_accuracy: 0.7722 - val_recall: 0.6969 - val_precision: 0.8882 - val_f1_score: 0.4263\n",
      "Epoch 16/50\n",
      "3554/3554 [==============================] - 33s 9ms/step - loss: 0.5458 - accuracy: 0.7967 - recall: 0.6799 - precision: 0.9215 - f1_score: 0.4775 - val_loss: 0.6398 - val_accuracy: 0.7682 - val_recall: 0.6916 - val_precision: 0.8814 - val_f1_score: 0.4197\n",
      "Epoch 17/50\n",
      "3554/3554 [==============================] - 33s 9ms/step - loss: 0.5466 - accuracy: 0.7956 - recall: 0.6788 - precision: 0.9216 - f1_score: 0.4700 - val_loss: 0.6665 - val_accuracy: 0.7664 - val_recall: 0.6847 - val_precision: 0.8764 - val_f1_score: 0.4059\n",
      "Epoch 18/50\n",
      "3554/3554 [==============================] - 33s 9ms/step - loss: 0.5434 - accuracy: 0.7982 - recall: 0.6802 - precision: 0.9249 - f1_score: 0.4818 - val_loss: 0.6698 - val_accuracy: 0.7661 - val_recall: 0.6951 - val_precision: 0.8702 - val_f1_score: 0.4089\n",
      "Epoch 19/50\n",
      "3554/3554 [==============================] - 33s 9ms/step - loss: 0.5437 - accuracy: 0.7970 - recall: 0.6794 - precision: 0.9237 - f1_score: 0.4744 - val_loss: 0.6387 - val_accuracy: 0.7732 - val_recall: 0.6905 - val_precision: 0.8902 - val_f1_score: 0.4124\n",
      "Epoch 20/50\n",
      "3554/3554 [==============================] - 33s 9ms/step - loss: 0.5431 - accuracy: 0.7971 - recall: 0.6831 - precision: 0.9187 - f1_score: 0.4762 - val_loss: 0.6740 - val_accuracy: 0.7583 - val_recall: 0.6775 - val_precision: 0.8764 - val_f1_score: 0.4082\n",
      "Epoch 21/50\n",
      "3554/3554 [==============================] - 33s 9ms/step - loss: 0.5430 - accuracy: 0.7974 - recall: 0.6830 - precision: 0.9198 - f1_score: 0.4747 - val_loss: 0.7614 - val_accuracy: 0.7302 - val_recall: 0.6522 - val_precision: 0.8457 - val_f1_score: 0.3306\n",
      "Epoch 22/50\n",
      "3554/3554 [==============================] - 33s 9ms/step - loss: 0.5421 - accuracy: 0.7972 - recall: 0.6830 - precision: 0.9207 - f1_score: 0.4748 - val_loss: 0.6692 - val_accuracy: 0.7691 - val_recall: 0.6820 - val_precision: 0.8798 - val_f1_score: 0.4144\n",
      "Epoch 23/50\n",
      "3554/3554 [==============================] - 33s 9ms/step - loss: 0.5427 - accuracy: 0.7977 - recall: 0.6819 - precision: 0.9227 - f1_score: 0.4798 - val_loss: 0.6844 - val_accuracy: 0.7596 - val_recall: 0.6800 - val_precision: 0.8800 - val_f1_score: 0.4189\n",
      "Epoch 24/50\n",
      "3554/3554 [==============================] - 32s 9ms/step - loss: 0.5407 - accuracy: 0.7979 - recall: 0.6816 - precision: 0.9230 - f1_score: 0.4734 - val_loss: 0.6451 - val_accuracy: 0.7714 - val_recall: 0.6751 - val_precision: 0.8958 - val_f1_score: 0.4333\n",
      "Epoch 25/50\n",
      "3554/3554 [==============================] - 32s 9ms/step - loss: 0.5411 - accuracy: 0.7983 - recall: 0.6824 - precision: 0.9221 - f1_score: 0.4778 - val_loss: 0.6763 - val_accuracy: 0.7574 - val_recall: 0.6682 - val_precision: 0.8801 - val_f1_score: 0.4162\n",
      "Epoch 26/50\n",
      "3554/3554 [==============================] - 33s 9ms/step - loss: 0.5407 - accuracy: 0.7985 - recall: 0.6832 - precision: 0.9229 - f1_score: 0.4746 - val_loss: 0.6540 - val_accuracy: 0.7644 - val_recall: 0.6808 - val_precision: 0.8848 - val_f1_score: 0.4122\n",
      "Epoch 27/50\n",
      "3554/3554 [==============================] - 33s 9ms/step - loss: 0.5394 - accuracy: 0.7978 - recall: 0.6838 - precision: 0.9215 - f1_score: 0.4819 - val_loss: 0.7417 - val_accuracy: 0.7523 - val_recall: 0.6895 - val_precision: 0.8465 - val_f1_score: 0.3849\n",
      "Epoch 28/50\n",
      "3554/3554 [==============================] - 33s 9ms/step - loss: 0.5393 - accuracy: 0.7988 - recall: 0.6848 - precision: 0.9208 - f1_score: 0.4766 - val_loss: 0.6711 - val_accuracy: 0.7652 - val_recall: 0.6616 - val_precision: 0.8954 - val_f1_score: 0.4188\n",
      "Epoch 29/50\n",
      "3554/3554 [==============================] - 33s 9ms/step - loss: 0.5392 - accuracy: 0.7986 - recall: 0.6824 - precision: 0.9243 - f1_score: 0.4789 - val_loss: 0.6744 - val_accuracy: 0.7631 - val_recall: 0.6795 - val_precision: 0.8892 - val_f1_score: 0.4205\n",
      "Epoch 30/50\n",
      "3554/3554 [==============================] - 33s 9ms/step - loss: 0.5395 - accuracy: 0.7983 - recall: 0.6815 - precision: 0.9240 - f1_score: 0.4775 - val_loss: 0.7011 - val_accuracy: 0.7475 - val_recall: 0.6632 - val_precision: 0.8789 - val_f1_score: 0.3698\n",
      "Epoch 31/50\n",
      "3554/3554 [==============================] - 33s 9ms/step - loss: 0.5379 - accuracy: 0.7987 - recall: 0.6835 - precision: 0.9231 - f1_score: 0.4820 - val_loss: 0.7323 - val_accuracy: 0.7382 - val_recall: 0.6611 - val_precision: 0.8660 - val_f1_score: 0.3804\n",
      "Epoch 32/50\n",
      "3554/3554 [==============================] - 33s 9ms/step - loss: 0.5378 - accuracy: 0.7980 - recall: 0.6799 - precision: 0.9257 - f1_score: 0.4801 - val_loss: 0.6841 - val_accuracy: 0.7541 - val_recall: 0.6564 - val_precision: 0.8780 - val_f1_score: 0.3873\n",
      "Epoch 33/50\n",
      "3554/3554 [==============================] - 33s 9ms/step - loss: 0.5357 - accuracy: 0.7990 - recall: 0.6820 - precision: 0.9251 - f1_score: 0.4756 - val_loss: 0.6889 - val_accuracy: 0.7529 - val_recall: 0.6670 - val_precision: 0.8765 - val_f1_score: 0.4155\n",
      "Epoch 34/50\n",
      "3554/3554 [==============================] - 33s 9ms/step - loss: 0.5373 - accuracy: 0.7992 - recall: 0.6849 - precision: 0.9233 - f1_score: 0.4756 - val_loss: 0.6934 - val_accuracy: 0.7621 - val_recall: 0.6748 - val_precision: 0.8822 - val_f1_score: 0.3855\n",
      "Epoch 35/50\n",
      "3554/3554 [==============================] - 33s 9ms/step - loss: 0.5357 - accuracy: 0.7993 - recall: 0.6836 - precision: 0.9250 - f1_score: 0.4735 - val_loss: 0.6997 - val_accuracy: 0.7506 - val_recall: 0.6652 - val_precision: 0.8771 - val_f1_score: 0.4001\n",
      "Epoch 36/50\n",
      "3554/3554 [==============================] - 33s 9ms/step - loss: 0.5358 - accuracy: 0.7994 - recall: 0.6827 - precision: 0.9267 - f1_score: 0.4704 - val_loss: 0.6948 - val_accuracy: 0.7519 - val_recall: 0.6742 - val_precision: 0.8780 - val_f1_score: 0.3837\n",
      "Epoch 37/50\n",
      "3554/3554 [==============================] - 33s 9ms/step - loss: 0.5353 - accuracy: 0.7996 - recall: 0.6851 - precision: 0.9232 - f1_score: 0.4768 - val_loss: 0.6864 - val_accuracy: 0.7540 - val_recall: 0.6747 - val_precision: 0.8771 - val_f1_score: 0.3877\n",
      "Epoch 38/50\n",
      "3554/3554 [==============================] - 33s 9ms/step - loss: 0.5345 - accuracy: 0.7994 - recall: 0.6820 - precision: 0.9275 - f1_score: 0.4783 - val_loss: 0.6626 - val_accuracy: 0.7588 - val_recall: 0.6696 - val_precision: 0.8895 - val_f1_score: 0.3880\n",
      "Epoch 39/50\n",
      "3554/3554 [==============================] - 33s 9ms/step - loss: 0.5337 - accuracy: 0.8005 - recall: 0.6847 - precision: 0.9260 - f1_score: 0.4853 - val_loss: 0.6885 - val_accuracy: 0.7514 - val_recall: 0.6618 - val_precision: 0.8884 - val_f1_score: 0.3856\n",
      "Epoch 40/50\n",
      "3554/3554 [==============================] - 33s 9ms/step - loss: 0.5325 - accuracy: 0.8001 - recall: 0.6836 - precision: 0.9265 - f1_score: 0.4865 - val_loss: 0.7382 - val_accuracy: 0.7441 - val_recall: 0.6610 - val_precision: 0.8637 - val_f1_score: 0.3746\n",
      "Epoch 41/50\n",
      "3554/3554 [==============================] - 33s 9ms/step - loss: 0.5329 - accuracy: 0.8010 - recall: 0.6861 - precision: 0.9248 - f1_score: 0.4823 - val_loss: 0.6712 - val_accuracy: 0.7621 - val_recall: 0.6701 - val_precision: 0.8901 - val_f1_score: 0.4057\n",
      "Epoch 42/50\n",
      "3554/3554 [==============================] - 33s 9ms/step - loss: 0.5316 - accuracy: 0.8002 - recall: 0.6869 - precision: 0.9233 - f1_score: 0.4771 - val_loss: 0.7023 - val_accuracy: 0.7537 - val_recall: 0.6800 - val_precision: 0.8796 - val_f1_score: 0.3967\n",
      "Epoch 43/50\n",
      "3554/3554 [==============================] - 33s 9ms/step - loss: 0.5333 - accuracy: 0.8002 - recall: 0.6844 - precision: 0.9261 - f1_score: 0.4749 - val_loss: 0.6763 - val_accuracy: 0.7596 - val_recall: 0.6759 - val_precision: 0.8854 - val_f1_score: 0.4207\n",
      "Epoch 44/50\n",
      "3554/3554 [==============================] - 33s 9ms/step - loss: 0.5324 - accuracy: 0.8001 - recall: 0.6842 - precision: 0.9263 - f1_score: 0.4773 - val_loss: 0.7265 - val_accuracy: 0.7344 - val_recall: 0.6605 - val_precision: 0.8400 - val_f1_score: 0.3596\n",
      "Epoch 45/50\n",
      "3554/3554 [==============================] - 33s 9ms/step - loss: 0.5326 - accuracy: 0.8000 - recall: 0.6861 - precision: 0.9243 - f1_score: 0.4766 - val_loss: 0.6643 - val_accuracy: 0.7621 - val_recall: 0.6867 - val_precision: 0.8760 - val_f1_score: 0.3954\n",
      "Epoch 46/50\n",
      "3554/3554 [==============================] - 33s 9ms/step - loss: 0.5316 - accuracy: 0.8007 - recall: 0.6857 - precision: 0.9260 - f1_score: 0.4711 - val_loss: 0.6639 - val_accuracy: 0.7641 - val_recall: 0.6804 - val_precision: 0.8846 - val_f1_score: 0.3987\n",
      "Epoch 47/50\n",
      "3554/3554 [==============================] - 33s 9ms/step - loss: 0.5302 - accuracy: 0.8003 - recall: 0.6826 - precision: 0.9282 - f1_score: 0.4809 - val_loss: 0.7258 - val_accuracy: 0.7540 - val_recall: 0.6710 - val_precision: 0.8811 - val_f1_score: 0.3938\n",
      "Epoch 48/50\n",
      "3554/3554 [==============================] - 33s 9ms/step - loss: 0.5319 - accuracy: 0.8010 - recall: 0.6840 - precision: 0.9281 - f1_score: 0.4784 - val_loss: 0.6957 - val_accuracy: 0.7560 - val_recall: 0.6747 - val_precision: 0.8886 - val_f1_score: 0.3931\n",
      "Epoch 49/50\n",
      "3554/3554 [==============================] - 33s 9ms/step - loss: 0.5291 - accuracy: 0.8009 - recall: 0.6857 - precision: 0.9260 - f1_score: 0.4809 - val_loss: 0.7116 - val_accuracy: 0.7559 - val_recall: 0.6734 - val_precision: 0.8696 - val_f1_score: 0.4054\n",
      "Epoch 50/50\n",
      "3554/3554 [==============================] - 33s 9ms/step - loss: 0.5302 - accuracy: 0.8009 - recall: 0.6847 - precision: 0.9275 - f1_score: 0.4766 - val_loss: 0.7185 - val_accuracy: 0.7527 - val_recall: 0.6748 - val_precision: 0.8758 - val_f1_score: 0.3830\n"
     ]
    }
   ],
   "source": [
    "#Define epochs and batch size\n",
    "epochs = 50\n",
    "batch_size = 32\n",
    "\n",
    "#Train the model\n",
    "history = model.fit(X_tomek, y_tomek, epochs=epochs, batch_size=batch_size, validation_data=(X_test, y_test))"
   ]
  },
  {
   "cell_type": "markdown",
   "metadata": {},
   "source": [
    "# Evaluate The Model"
   ]
  },
  {
   "cell_type": "code",
   "execution_count": 30,
   "metadata": {},
   "outputs": [
    {
     "name": "stdout",
     "output_type": "stream",
     "text": [
      "1417/1417 [==============================] - 8s 6ms/step - loss: 0.7185 - accuracy: 0.7527 - recall: 0.6748 - precision: 0.8758 - f1_score: 0.3830\n",
      "Test Loss: 0.7185230255126953\n",
      "Test Accuracy: 0.7526969313621521\n",
      "Test Recall: 0.6747777462005615\n",
      "Test Precision: 0.8758411407470703\n",
      "Test F1-Score: 0.762273845569374\n"
     ]
    }
   ],
   "source": [
    "#Evaluate the model on test data\n",
    "loss, accuracy, recall, precision, f1_score = model.evaluate(X_test, y_test)\n",
    "f1_score = 2 * (precision * recall) / (precision + recall)\n",
    "\n",
    "print('Test Loss:', loss)\n",
    "print('Test Accuracy:', accuracy)\n",
    "print('Test Recall:', recall)\n",
    "print('Test Precision:', precision)\n",
    "print('Test F1-Score:', f1_score)"
   ]
  },
  {
   "cell_type": "code",
   "execution_count": 31,
   "metadata": {},
   "outputs": [
    {
     "name": "stdout",
     "output_type": "stream",
     "text": [
      "1417/1417 [==============================] - 2s 2ms/step\n"
     ]
    }
   ],
   "source": [
    "# make a predictions\n",
    "predictions = model.predict(X_test)"
   ]
  },
  {
   "cell_type": "code",
   "execution_count": 32,
   "metadata": {},
   "outputs": [],
   "source": [
    "# convert one-hot encode predictions to class labels\n",
    "predicted_classes = np.argmax(predictions, axis=1)\n",
    "y_test_categorical = np.argmax(y_test, axis=1)"
   ]
  },
  {
   "cell_type": "markdown",
   "metadata": {},
   "source": [
    "## Confusion Matrix"
   ]
  },
  {
   "cell_type": "code",
   "execution_count": 33,
   "metadata": {},
   "outputs": [],
   "source": [
    "# function to calculate recall from confusion matrix\n",
    "def calculate_recall(confusion_matrix):\n",
    "    num_class = len(confusion_matrix)\n",
    "    recalls = []\n",
    "\n",
    "    for i in range(num_class):\n",
    "        true_positive = confusion_matrix[i][i]\n",
    "        false_negative = sum(confusion_matrix[i]) - true_positive\n",
    "\n",
    "        recall = true_positive / (true_positive + false_negative)\n",
    "        recalls.append(recall)\n",
    "    \n",
    "    return recalls"
   ]
  },
  {
   "cell_type": "code",
   "execution_count": 34,
   "metadata": {},
   "outputs": [],
   "source": [
    "# function to display the recall score\n",
    "def display_recall(recalls):\n",
    "    print('Recall Scores for each class:')\n",
    "    print('Analysis:', recalls[0])\n",
    "    print('Backdoor:', recalls[1])\n",
    "    print('DoS:', recalls[2])\n",
    "    print('Exploits:', recalls[3])\n",
    "    print('Fuzzers:', recalls[4])\n",
    "    print('Generic:', recalls[5])\n",
    "    print('Reconnaissance:', recalls[6])\n",
    "    print('Shellcode:', recalls[7])\n",
    "    print('Worms:', recalls[8])"
   ]
  },
  {
   "cell_type": "code",
   "execution_count": 35,
   "metadata": {},
   "outputs": [],
   "source": [
    "from sklearn.metrics import confusion_matrix"
   ]
  },
  {
   "cell_type": "code",
   "execution_count": 36,
   "metadata": {},
   "outputs": [],
   "source": [
    "matrix = confusion_matrix(y_test_categorical, predicted_classes)\n",
    "matrix_df = pd.DataFrame(matrix, \n",
    "                         index= ['Analysis', 'Backdoor', 'DoS', 'Exploits', 'Fuzzers', 'Generic', 'Reconnaissance', 'Shellcode', 'Worms'], \n",
    "                         columns= ['Analysis', 'Backdoor', 'DoS', 'Exploits', 'Fuzzers', 'Generic', 'Reconnaissance', 'Shellcode', 'Worms'])"
   ]
  },
  {
   "cell_type": "code",
   "execution_count": 37,
   "metadata": {},
   "outputs": [
    {
     "data": {
      "image/png": "[encoded data removed]",
      "text/plain": [
       "<Figure size 2000x2000 with 2 Axes>"
      ]
     },
     "metadata": {},
     "output_type": "display_data"
    }
   ],
   "source": [
    "# Plotting Confusion Matrix\n",
    "plt.figure(figsize = (20, 20))\n",
    "sns.heatmap(matrix_df, fmt='.0f', annot=True)\n",
    "plt.title('Confusion Matrix (1D CNN)')\n",
    "plt.ylabel('Actual Values')\n",
    "plt.xlabel('Predicted Values')\n",
    "plt.show()"
   ]
  },
  {
   "cell_type": "code",
   "execution_count": 38,
   "metadata": {},
   "outputs": [
    {
     "name": "stdout",
     "output_type": "stream",
     "text": [
      "Recall Scores for each class:\n",
      "Analysis: 0.005908419497784343\n",
      "Backdoor: 0.0\n",
      "DoS: 0.09708975299584251\n",
      "Exploits: 0.9213008714401222\n",
      "Fuzzers: 0.6292690975086619\n",
      "Generic: 0.9624821154151874\n",
      "Reconnaissance: 0.3765379113018598\n",
      "Shellcode: 0.43915343915343913\n",
      "Worms: 0.09090909090909091\n"
     ]
    }
   ],
   "source": [
    "recalls = calculate_recall(matrix)\n",
    "display_recall(recalls)"
   ]
  },
  {
   "cell_type": "markdown",
   "metadata": {},
   "source": [
    "## Save and load the model"
   ]
  },
  {
   "cell_type": "code",
   "execution_count": 39,
   "metadata": {},
   "outputs": [],
   "source": [
    "from keras.models import load_model"
   ]
  },
  {
   "cell_type": "code",
   "execution_count": 40,
   "metadata": {},
   "outputs": [],
   "source": [
    "# save the 1D CNN trained model using keras\n",
    "model.save('/Data/Visual Studio Code/Data-Science/Notebook/UNSW-NB15/CNN/Balanced/Tomek Links/Saved/cnn1d.keras')"
   ]
  },
  {
   "cell_type": "code",
   "execution_count": 41,
   "metadata": {},
   "outputs": [],
   "source": [
    "# load the 1D CNN trained model using keras\n",
    "model = load_model('/Data/Visual Studio Code/Data-Science/Notebook/UNSW-NB15/CNN/Balanced/Tomek Links/Saved/cnn1d.keras')"
   ]
  },
  {
   "cell_type": "markdown",
   "metadata": {},
   "source": [
    "## Save and load the predicted"
   ]
  },
  {
   "cell_type": "code",
   "execution_count": 42,
   "metadata": {},
   "outputs": [],
   "source": [
    "import joblib"
   ]
  },
  {
   "cell_type": "code",
   "execution_count": 43,
   "metadata": {},
   "outputs": [
    {
     "data": {
      "text/plain": [
       "['/Data/Visual Studio Code/Data-Science/Notebook/UNSW-NB15/CNN/Balanced/Tomek Links/Saved/predicted_classes.joblib']"
      ]
     },
     "execution_count": 43,
     "metadata": {},
     "output_type": "execute_result"
    }
   ],
   "source": [
    "# save predicted\n",
    "joblib.dump(predicted_classes, '/Data/Visual Studio Code/Data-Science/Notebook/UNSW-NB15/CNN/Balanced/Tomek Links/Saved/predicted_classes.joblib', compress=('zlib', 3))"
   ]
  },
  {
   "cell_type": "code",
   "execution_count": 44,
   "metadata": {},
   "outputs": [],
   "source": [
    "# load the predicted\n",
    "predicted_classes = joblib.load('/Data/Visual Studio Code/Data-Science/Notebook/UNSW-NB15/CNN/Balanced/Tomek Links/Saved/predicted_classes.joblib')"
   ]
  }
 ],
 "metadata": {
  "kernelspec": {
   "display_name": "myenv",
   "language": "python",
   "name": "python3"
  },
  "language_info": {
   "codemirror_mode": {
    "name": "ipython",
    "version": 3
   },
   "file_extension": ".py",
   "mimetype": "text/x-python",
   "name": "python",
   "nbconvert_exporter": "python",
   "pygments_lexer": "ipython3",
   "version": "3.10.13"
  },
  "orig_nbformat": 4
 },
 "nbformat": 4,
 "nbformat_minor": 2
}
