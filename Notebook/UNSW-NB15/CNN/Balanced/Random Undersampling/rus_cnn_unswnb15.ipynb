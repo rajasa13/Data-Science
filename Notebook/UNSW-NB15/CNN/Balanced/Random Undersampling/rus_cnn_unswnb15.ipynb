{
 "cells": [
  {
   "cell_type": "markdown",
   "metadata": {},
   "source": [
    "# Data Preprocessing"
   ]
  },
  {
   "cell_type": "code",
   "execution_count": 1,
   "metadata": {},
   "outputs": [],
   "source": [
    "import tensorflow as tf\n",
    "from keras.models import Sequential\n",
    "from keras.layers import Conv1D, MaxPooling1D, Flatten, Dense, Dropout, BatchNormalization\n",
    "from keras.metrics import Recall, Precision"
   ]
  },
  {
   "cell_type": "code",
   "execution_count": 2,
   "metadata": {},
   "outputs": [
    {
     "name": "stdout",
     "output_type": "stream",
     "text": [
      "Num GPUs Available:  1\n"
     ]
    }
   ],
   "source": [
    "#Check GPU device available\n",
    "print('Num GPUs Available: ', len(tf.config.list_physical_devices('GPU')))"
   ]
  },
  {
   "cell_type": "code",
   "execution_count": 3,
   "metadata": {},
   "outputs": [],
   "source": [
    "import pandas as pd\n",
    "import matplotlib.pyplot as plt\n",
    "import seaborn as sns\n",
    "import numpy as np"
   ]
  },
  {
   "cell_type": "code",
   "execution_count": 4,
   "metadata": {},
   "outputs": [],
   "source": [
    "# Load dataset\n",
    "data_train = pd.read_csv('/Data/Visual Studio Code/Data-Science/Dataset/UNSW-NB15/UNSW_NB15_training-set.csv')\n",
    "data_test = pd.read_csv('/Data/Visual Studio Code/Data-Science/Dataset/UNSW-NB15/UNSW_NB15_testing-set.csv')"
   ]
  },
  {
   "cell_type": "code",
   "execution_count": 5,
   "metadata": {},
   "outputs": [],
   "source": [
    "# Handle missing value and duplicate if any\n",
    "data_train.dropna(inplace=True)\n",
    "data_train.drop_duplicates(inplace=True)\n",
    "\n",
    "data_test.dropna(inplace=True)\n",
    "data_test.drop_duplicates(inplace=True)"
   ]
  },
  {
   "cell_type": "code",
   "execution_count": 6,
   "metadata": {},
   "outputs": [],
   "source": [
    "#Split Attack and Normal from dataframe\n",
    "data_train_attack = data_train[data_train['label'] == 1]\n",
    "data_test_attack = data_test[data_test['label'] == 1]\n",
    "\n",
    "#Optional\n",
    "#data_train_normal = data_train[data_train['label'] == 0]\n",
    "#data_test_normal = data_test[data_test['label'] == 0]"
   ]
  },
  {
   "cell_type": "code",
   "execution_count": 7,
   "metadata": {},
   "outputs": [],
   "source": [
    "# Drop id and label from train and test data\n",
    "data_train_attack = data_train_attack.drop('id', axis=1)\n",
    "data_train_attack = data_train_attack.drop('label', axis=1)\n",
    "\n",
    "data_test_attack = data_test_attack.drop('id', axis=1)\n",
    "data_test_attack = data_test_attack.drop('label', axis=1)"
   ]
  },
  {
   "cell_type": "code",
   "execution_count": 8,
   "metadata": {},
   "outputs": [
    {
     "name": "stdout",
     "output_type": "stream",
     "text": [
      "5\n",
      "6\n"
     ]
    }
   ],
   "source": [
    "print(data_train_attack['state'].nunique())\n",
    "print(data_test_attack['state'].nunique())"
   ]
  },
  {
   "cell_type": "code",
   "execution_count": 9,
   "metadata": {},
   "outputs": [
    {
     "name": "stdout",
     "output_type": "stream",
     "text": [
      "['INT' 'FIN' 'CON' 'REQ' 'RST']\n",
      "['INT' 'FIN' 'ACC' 'CON' 'REQ' 'CLO']\n"
     ]
    }
   ],
   "source": [
    "print(data_train_attack['state'].unique())\n",
    "print(data_test_attack['state'].unique())"
   ]
  },
  {
   "cell_type": "code",
   "execution_count": 10,
   "metadata": {},
   "outputs": [],
   "source": [
    "#Drop ACC, CLO, and RST from data\n",
    "data_train_attack = data_train_attack[(data_train_attack['state'] != 'RST')]\n",
    "data_test_attack = data_test_attack[(data_test_attack['state'] != 'ACC') & (data_test_attack['state'] != 'CLO')]"
   ]
  },
  {
   "cell_type": "code",
   "execution_count": 11,
   "metadata": {},
   "outputs": [
    {
     "name": "stdout",
     "output_type": "stream",
     "text": [
      "['INT' 'FIN' 'CON' 'REQ']\n",
      "['INT' 'FIN' 'CON' 'REQ']\n"
     ]
    }
   ],
   "source": [
    "print(data_train_attack['state'].unique())\n",
    "print(data_test_attack['state'].unique())"
   ]
  },
  {
   "cell_type": "markdown",
   "metadata": {},
   "source": [
    "## Encode Train and Test Data"
   ]
  },
  {
   "cell_type": "code",
   "execution_count": 12,
   "metadata": {},
   "outputs": [
    {
     "data": {
      "text/plain": [
       "['proto', 'state', 'service']"
      ]
     },
     "execution_count": 12,
     "metadata": {},
     "output_type": "execute_result"
    }
   ],
   "source": [
    "#column to encode\n",
    "cols = ['proto','state','service']\n",
    "cols"
   ]
  },
  {
   "cell_type": "code",
   "execution_count": 13,
   "metadata": {},
   "outputs": [],
   "source": [
    "#One-hot Encoding\n",
    "# Encode train data\n",
    "data_train_attack = pd.get_dummies(data_train_attack, columns=cols)\n",
    "\n",
    "# Encode test data\n",
    "data_test_attack = pd.get_dummies(data_test_attack, columns=cols)"
   ]
  },
  {
   "cell_type": "code",
   "execution_count": 14,
   "metadata": {},
   "outputs": [],
   "source": [
    "train_attack_cat = data_train_attack.pop('attack_cat')\n",
    "test_attack_cat = data_test_attack.pop('attack_cat')"
   ]
  },
  {
   "cell_type": "markdown",
   "metadata": {},
   "source": [
    "## Normalization"
   ]
  },
  {
   "cell_type": "code",
   "execution_count": 15,
   "metadata": {},
   "outputs": [],
   "source": [
    "# Min-Max Normalization\n",
    "from sklearn.preprocessing import MinMaxScaler\n",
    "\n",
    "scaler = MinMaxScaler()\n",
    "cols_to_norm = ['dur', 'spkts', 'dpkts', 'sbytes', 'dbytes', 'rate', 'sttl', 'dttl', 'sload', \n",
    "                'dload', 'sloss', 'dloss', 'sinpkt', 'dinpkt', 'sjit', 'djit', 'swin', 'stcpb', 'dtcpb', 'dwin', 'tcprtt', 'synack', \n",
    "                'ackdat', 'smean', 'dmean', 'trans_depth', 'response_body_len', 'ct_srv_src', 'ct_state_ttl', 'ct_dst_ltm', \n",
    "                'ct_src_dport_ltm', 'ct_dst_sport_ltm', 'ct_dst_src_ltm', 'is_ftp_login', 'ct_ftp_cmd', 'ct_flw_http_mthd', 'ct_src_ltm', \n",
    "                'ct_srv_dst', 'is_sm_ips_ports']\n",
    "\n",
    "data_train_attack[cols_to_norm] = scaler.fit_transform(data_train_attack[cols_to_norm])\n",
    "data_test_attack[cols_to_norm] = scaler.fit_transform(data_test_attack[cols_to_norm])"
   ]
  },
  {
   "cell_type": "markdown",
   "metadata": {},
   "source": [
    "## Feature Selection"
   ]
  },
  {
   "cell_type": "code",
   "execution_count": 16,
   "metadata": {},
   "outputs": [
    {
     "data": {
      "text/plain": [
       "dur               float64\n",
       "spkts             float64\n",
       "dpkts             float64\n",
       "sbytes            float64\n",
       "dbytes            float64\n",
       "                   ...   \n",
       "service_radius       bool\n",
       "service_smtp         bool\n",
       "service_snmp         bool\n",
       "service_ssh          bool\n",
       "service_ssl          bool\n",
       "Length: 182, dtype: object"
      ]
     },
     "execution_count": 16,
     "metadata": {},
     "output_type": "execute_result"
    }
   ],
   "source": [
    "#Feature Selection\n",
    "feature = data_train_attack.drop(['dinpkt', 'ct_ftp_cmd', 'is_sm_ips_ports'], axis=1)\n",
    "feature.dtypes"
   ]
  },
  {
   "cell_type": "markdown",
   "metadata": {},
   "source": [
    "# Balancing Data"
   ]
  },
  {
   "cell_type": "markdown",
   "metadata": {},
   "source": [
    "## Initialize Train Data and Test Data"
   ]
  },
  {
   "cell_type": "code",
   "execution_count": 17,
   "metadata": {},
   "outputs": [
    {
     "data": {
      "text/plain": [
       "((119329, 182), (119329,), (45329, 182), (45329,))"
      ]
     },
     "execution_count": 17,
     "metadata": {},
     "output_type": "execute_result"
    }
   ],
   "source": [
    "#Splitting the dataset into dependent and independent feature\n",
    "X_train = feature\n",
    "y_train = train_attack_cat\n",
    "\n",
    "X_test = data_test_attack.drop(columns=['dinpkt', 'ct_ftp_cmd', 'is_sm_ips_ports'])\n",
    "y_test = test_attack_cat\n",
    "\n",
    "X_train.shape, y_train.shape, X_test.shape, y_test.shape"
   ]
  },
  {
   "cell_type": "markdown",
   "metadata": {},
   "source": [
    "## Random Undersampling"
   ]
  },
  {
   "cell_type": "code",
   "execution_count": 18,
   "metadata": {},
   "outputs": [
    {
     "data": {
      "text/plain": [
       "((1170, 182), (1170,))"
      ]
     },
     "execution_count": 18,
     "metadata": {},
     "output_type": "execute_result"
    }
   ],
   "source": [
    "from imblearn.under_sampling import RandomUnderSampler\n",
    "\n",
    "rus = RandomUnderSampler()\n",
    "X_rus, y_rus = rus.fit_resample(X_train, y_train)\n",
    "\n",
    "X_rus.shape, y_rus.shape"
   ]
  },
  {
   "cell_type": "code",
   "execution_count": 19,
   "metadata": {},
   "outputs": [
    {
     "data": {
      "text/plain": [
       "([0, 1, 2, 3, 4, 5, 6, 7, 8],\n",
       " [Text(0, 0, 'Analysis'),\n",
       "  Text(1, 0, 'Backdoor'),\n",
       "  Text(2, 0, 'DoS'),\n",
       "  Text(3, 0, 'Exploits'),\n",
       "  Text(4, 0, 'Fuzzers'),\n",
       "  Text(5, 0, 'Generic'),\n",
       "  Text(6, 0, 'Reconnaissance'),\n",
       "  Text(7, 0, 'Shellcode'),\n",
       "  Text(8, 0, 'Worms')])"
      ]
     },
     "execution_count": 19,
     "metadata": {},
     "output_type": "execute_result"
    },
    {
     "data": {
      "image/png": "[encoded data removed]",
      "text/plain": [
       "<Figure size 640x480 with 1 Axes>"
      ]
     },
     "metadata": {},
     "output_type": "display_data"
    }
   ],
   "source": [
    "#Create new dataframe from X_rus and y_rus to count every attack\n",
    "data_rus = pd.concat([X_rus, y_rus], axis=1)\n",
    "\n",
    "sns.countplot(data=data_rus, x=\"attack_cat\")\n",
    "plt.xticks(rotation=30)"
   ]
  },
  {
   "cell_type": "code",
   "execution_count": 20,
   "metadata": {},
   "outputs": [
    {
     "name": "stdout",
     "output_type": "stream",
     "text": [
      "attack_cat\n",
      "Analysis          130\n",
      "Backdoor          130\n",
      "DoS               130\n",
      "Exploits          130\n",
      "Fuzzers           130\n",
      "Generic           130\n",
      "Reconnaissance    130\n",
      "Shellcode         130\n",
      "Worms             130\n",
      "Name: count, dtype: int64\n",
      "--------------------\n",
      "Shape: (1170, 183)\n",
      "--------------------\n",
      "Duplicates: 27\n"
     ]
    }
   ],
   "source": [
    "#data_rus.drop_duplicates(inplace=True)\n",
    "print(data_rus.value_counts('attack_cat'))\n",
    "print(\"--------------------\")\n",
    "print(\"Shape: \" + str(data_rus.shape))\n",
    "print(\"--------------------\")\n",
    "print(\"Duplicates: \" + str(data_rus.duplicated().sum()))"
   ]
  },
  {
   "cell_type": "markdown",
   "metadata": {},
   "source": [
    "# Model Architecture"
   ]
  },
  {
   "cell_type": "code",
   "execution_count": 21,
   "metadata": {},
   "outputs": [
    {
     "name": "stderr",
     "output_type": "stream",
     "text": [
      "c:\\Users\\Acer\\miniconda3\\envs\\tf_gpu\\lib\\site-packages\\tensorflow_addons\\utils\\tfa_eol_msg.py:23: UserWarning: \n",
      "\n",
      "TensorFlow Addons (TFA) has ended development and introduction of new features.\n",
      "TFA has entered a minimal maintenance and release mode until a planned end of life in May 2024.\n",
      "Please modify downstream libraries to take dependencies from other repositories in our TensorFlow community (e.g. Keras, Keras-CV, and Keras-NLP). \n",
      "\n",
      "For more information see: https://github.com/tensorflow/addons/issues/2807 \n",
      "\n",
      "  warnings.warn(\n",
      "c:\\Users\\Acer\\miniconda3\\envs\\tf_gpu\\lib\\site-packages\\tensorflow_addons\\utils\\ensure_tf_install.py:53: UserWarning: Tensorflow Addons supports using Python ops for all Tensorflow versions above or equal to 2.12.0 and strictly below 2.15.0 (nightly versions are not supported). \n",
      " The versions of TensorFlow you are currently using is 2.10.0 and is not supported. \n",
      "Some things might work, some things might not.\n",
      "If you were to encounter a bug, do not file an issue.\n",
      "If you want to make sure you're using a tested and supported configuration, either change the TensorFlow version or the TensorFlow Addons's version. \n",
      "You can find the compatibility matrix in TensorFlow Addon's readme:\n",
      "https://github.com/tensorflow/addons\n",
      "  warnings.warn(\n"
     ]
    }
   ],
   "source": [
    "# from keras import backend as K\n",
    "import tensorflow_addons as tfa"
   ]
  },
  {
   "cell_type": "code",
   "execution_count": 22,
   "metadata": {},
   "outputs": [],
   "source": [
    "# def recall_m(y_true, y_pred):\n",
    "#     true_positives = K.sum(K.round(K.clip(y_true * y_pred, 0, 1)))\n",
    "#     possible_positives = K.sum(K.round(K.clip(y_true, 0, 1)))\n",
    "#     recall = true_positives / (possible_positives + K.epsilon())\n",
    "#     return recall\n",
    "\n",
    "# def precision_m(y_true, y_pred):\n",
    "#     true_positives = K.sum(K.round(K.clip(y_true * y_pred, 0, 1)))\n",
    "#     predicted_positives = K.sum(K.round(K.clip(y_pred, 0, 1)))\n",
    "#     precision = true_positives / (predicted_positives + K.epsilon())\n",
    "#     return precision\n",
    "\n",
    "# def f1_m(y_true, y_pred):\n",
    "#     precision = precision_m(y_true, y_pred)\n",
    "#     recall = recall_m(y_true, y_pred)\n",
    "#     return 2*((precision*recall)/(precision+recall+K.epsilon()))"
   ]
  },
  {
   "cell_type": "markdown",
   "metadata": {},
   "source": [
    "## 1D-CNN (1 layer) Model"
   ]
  },
  {
   "cell_type": "code",
   "execution_count": 23,
   "metadata": {},
   "outputs": [],
   "source": [
    "# Define the input shape\n",
    "input_shape = (182, 1)\n",
    "\n",
    "# Create the sequential model\n",
    "model = Sequential()\n",
    "\n",
    "# Convolutional layers\n",
    "model.add(Conv1D(filters=32, kernel_size=5, activation='sigmoid', input_shape=input_shape))\n",
    "\n",
    "# MaxPooling1D layer\n",
    "model.add(MaxPooling1D(pool_size=2, strides=1))\n",
    "\n",
    "# Flatten layer\n",
    "model.add(Flatten())\n",
    "\n",
    "# Batch Normalization layer\n",
    "model.add(BatchNormalization(axis=-1))\n",
    "\n",
    "# Dropout layer with dropout 0.5\n",
    "model.add(Dropout(0.5))\n",
    "\n",
    "# Two Fully-connected layers\n",
    "model.add(Dense(32, activation='relu'))\n",
    "model.add(Dense(16, activation='relu'))\n",
    "\n",
    "# Output\n",
    "model.add(Dense(units=9, activation='softmax'))\n",
    "\n",
    "# Compile the model\n",
    "model.compile(optimizer='adam', loss='categorical_crossentropy', metrics=['accuracy', Recall(), Precision(), tfa.metrics.F1Score(num_classes=9, \n",
    "                                                                                                                                 average='macro')])"
   ]
  },
  {
   "cell_type": "code",
   "execution_count": 24,
   "metadata": {},
   "outputs": [
    {
     "name": "stdout",
     "output_type": "stream",
     "text": [
      "Model: \"sequential\"\n",
      "_________________________________________________________________\n",
      " Layer (type)                Output Shape              Param #   \n",
      "=================================================================\n",
      " conv1d (Conv1D)             (None, 178, 32)           192       \n",
      "                                                                 \n",
      " max_pooling1d (MaxPooling1D  (None, 177, 32)          0         \n",
      " )                                                               \n",
      "                                                                 \n",
      " flatten (Flatten)           (None, 5664)              0         \n",
      "                                                                 \n",
      " batch_normalization (BatchN  (None, 5664)             22656     \n",
      " ormalization)                                                   \n",
      "                                                                 \n",
      " dropout (Dropout)           (None, 5664)              0         \n",
      "                                                                 \n",
      " dense (Dense)               (None, 32)                181280    \n",
      "                                                                 \n",
      " dense_1 (Dense)             (None, 16)                528       \n",
      "                                                                 \n",
      " dense_2 (Dense)             (None, 9)                 153       \n",
      "                                                                 \n",
      "=================================================================\n",
      "Total params: 204,809\n",
      "Trainable params: 193,481\n",
      "Non-trainable params: 11,328\n",
      "_________________________________________________________________\n"
     ]
    }
   ],
   "source": [
    "#Print the model summary\n",
    "model.summary()"
   ]
  },
  {
   "cell_type": "markdown",
   "metadata": {},
   "source": [
    "## Train the model"
   ]
  },
  {
   "cell_type": "code",
   "execution_count": 25,
   "metadata": {},
   "outputs": [],
   "source": [
    "from keras.utils import to_categorical\n",
    "from sklearn.preprocessing import LabelEncoder"
   ]
  },
  {
   "cell_type": "code",
   "execution_count": 26,
   "metadata": {},
   "outputs": [],
   "source": [
    "le = LabelEncoder()\n",
    "\n",
    "y_rus = le.fit_transform(y_rus)\n",
    "y_test = le.fit_transform(y_test)"
   ]
  },
  {
   "cell_type": "code",
   "execution_count": 27,
   "metadata": {},
   "outputs": [],
   "source": [
    "num_class = 9\n",
    "y_rus = to_categorical(y_rus, num_class)\n",
    "y_test = to_categorical(y_test, num_class)"
   ]
  },
  {
   "cell_type": "code",
   "execution_count": 28,
   "metadata": {},
   "outputs": [],
   "source": [
    "X_rus = np.array(X_rus, dtype=np.float32)\n",
    "X_test = np.array(X_test, dtype=np.float32)"
   ]
  },
  {
   "cell_type": "code",
   "execution_count": 29,
   "metadata": {},
   "outputs": [
    {
     "name": "stdout",
     "output_type": "stream",
     "text": [
      "Epoch 1/50\n",
      "37/37 [==============================] - 10s 180ms/step - loss: 1.8166 - accuracy: 0.3735 - recall: 0.1017 - precision: 0.8881 - f1_score: 0.3496 - val_loss: 3.4981 - val_accuracy: 0.0771 - val_recall: 0.0771 - val_precision: 0.0771 - val_f1_score: 0.0159\n",
      "Epoch 2/50\n",
      "37/37 [==============================] - 6s 156ms/step - loss: 1.5090 - accuracy: 0.4598 - recall: 0.2026 - precision: 0.8089 - f1_score: 0.3936 - val_loss: 2.8718 - val_accuracy: 0.2456 - val_recall: 0.0000e+00 - val_precision: 0.0000e+00 - val_f1_score: 0.0438\n",
      "Epoch 3/50\n",
      "37/37 [==============================] - 6s 165ms/step - loss: 1.3585 - accuracy: 0.4932 - recall: 0.2530 - precision: 0.7769 - f1_score: 0.4538 - val_loss: 2.8076 - val_accuracy: 0.2456 - val_recall: 0.0437 - val_precision: 0.8398 - val_f1_score: 0.0438\n",
      "Epoch 4/50\n",
      "37/37 [==============================] - 6s 165ms/step - loss: 1.2906 - accuracy: 0.5128 - recall: 0.2991 - precision: 0.7543 - f1_score: 0.5031 - val_loss: 2.6986 - val_accuracy: 0.2456 - val_recall: 0.0478 - val_precision: 0.1010 - val_f1_score: 0.0438\n",
      "Epoch 5/50\n",
      "37/37 [==============================] - 6s 166ms/step - loss: 1.2262 - accuracy: 0.5282 - recall: 0.3222 - precision: 0.7854 - f1_score: 0.5147 - val_loss: 2.7063 - val_accuracy: 0.2456 - val_recall: 3.3091e-04 - val_precision: 0.8824 - val_f1_score: 0.0438\n",
      "Epoch 6/50\n",
      "37/37 [==============================] - 6s 169ms/step - loss: 1.1793 - accuracy: 0.5581 - recall: 0.3462 - precision: 0.7700 - f1_score: 0.5378 - val_loss: 2.4409 - val_accuracy: 0.2255 - val_recall: 0.0000e+00 - val_precision: 0.0000e+00 - val_f1_score: 0.0579\n",
      "Epoch 7/50\n",
      "37/37 [==============================] - 6s 176ms/step - loss: 1.1519 - accuracy: 0.5632 - recall: 0.3632 - precision: 0.7522 - f1_score: 0.5475 - val_loss: 2.5960 - val_accuracy: 0.2411 - val_recall: 0.0148 - val_precision: 0.9753 - val_f1_score: 0.0769\n",
      "Epoch 8/50\n",
      "37/37 [==============================] - 7s 191ms/step - loss: 1.1373 - accuracy: 0.5564 - recall: 0.3598 - precision: 0.7518 - f1_score: 0.5477 - val_loss: 2.5274 - val_accuracy: 0.1974 - val_recall: 0.0141 - val_precision: 0.9771 - val_f1_score: 0.0835\n",
      "Epoch 9/50\n",
      "37/37 [==============================] - 7s 190ms/step - loss: 1.0875 - accuracy: 0.5726 - recall: 0.3872 - precision: 0.7575 - f1_score: 0.5572 - val_loss: 2.1135 - val_accuracy: 0.1999 - val_recall: 0.0239 - val_precision: 0.9618 - val_f1_score: 0.1004\n",
      "Epoch 10/50\n",
      "37/37 [==============================] - 7s 189ms/step - loss: 1.0963 - accuracy: 0.5641 - recall: 0.4068 - precision: 0.7484 - f1_score: 0.5540 - val_loss: 2.1211 - val_accuracy: 0.2031 - val_recall: 0.0299 - val_precision: 0.9624 - val_f1_score: 0.1214\n",
      "Epoch 11/50\n",
      "37/37 [==============================] - 7s 187ms/step - loss: 1.0689 - accuracy: 0.5692 - recall: 0.4009 - precision: 0.7480 - f1_score: 0.5606 - val_loss: 1.7784 - val_accuracy: 0.4555 - val_recall: 0.1055 - val_precision: 0.9686 - val_f1_score: 0.2381\n",
      "Epoch 12/50\n",
      "37/37 [==============================] - 7s 186ms/step - loss: 1.0406 - accuracy: 0.5889 - recall: 0.4205 - precision: 0.7387 - f1_score: 0.5705 - val_loss: 1.7460 - val_accuracy: 0.4018 - val_recall: 0.1426 - val_precision: 0.9085 - val_f1_score: 0.2158\n",
      "Epoch 13/50\n",
      "37/37 [==============================] - 7s 185ms/step - loss: 1.0203 - accuracy: 0.5752 - recall: 0.4282 - precision: 0.7523 - f1_score: 0.5665 - val_loss: 1.4377 - val_accuracy: 0.4890 - val_recall: 0.3197 - val_precision: 0.9163 - val_f1_score: 0.2450\n",
      "Epoch 14/50\n",
      "37/37 [==============================] - 7s 183ms/step - loss: 1.0008 - accuracy: 0.6060 - recall: 0.4342 - precision: 0.7925 - f1_score: 0.5973 - val_loss: 1.2453 - val_accuracy: 0.5884 - val_recall: 0.4195 - val_precision: 0.8359 - val_f1_score: 0.2944\n",
      "Epoch 15/50\n",
      "37/37 [==============================] - 7s 185ms/step - loss: 0.9889 - accuracy: 0.6060 - recall: 0.4453 - precision: 0.7684 - f1_score: 0.5930 - val_loss: 1.1858 - val_accuracy: 0.6092 - val_recall: 0.4734 - val_precision: 0.7941 - val_f1_score: 0.2873\n",
      "Epoch 16/50\n",
      "37/37 [==============================] - 7s 184ms/step - loss: 0.9932 - accuracy: 0.5949 - recall: 0.4479 - precision: 0.7496 - f1_score: 0.5810 - val_loss: 1.1946 - val_accuracy: 0.6398 - val_recall: 0.5180 - val_precision: 0.7843 - val_f1_score: 0.3139\n",
      "Epoch 17/50\n",
      "37/37 [==============================] - 6s 178ms/step - loss: 0.9687 - accuracy: 0.6060 - recall: 0.4521 - precision: 0.7482 - f1_score: 0.6001 - val_loss: 1.1696 - val_accuracy: 0.6522 - val_recall: 0.5764 - val_precision: 0.7723 - val_f1_score: 0.3171\n",
      "Epoch 18/50\n",
      "37/37 [==============================] - 6s 160ms/step - loss: 0.9882 - accuracy: 0.6248 - recall: 0.4692 - precision: 0.7480 - f1_score: 0.6076 - val_loss: 1.2281 - val_accuracy: 0.6344 - val_recall: 0.5818 - val_precision: 0.7546 - val_f1_score: 0.3133\n",
      "Epoch 19/50\n",
      "37/37 [==============================] - 6s 159ms/step - loss: 0.9694 - accuracy: 0.6188 - recall: 0.4821 - precision: 0.7411 - f1_score: 0.6022 - val_loss: 1.2768 - val_accuracy: 0.6207 - val_recall: 0.5410 - val_precision: 0.7694 - val_f1_score: 0.3338\n",
      "Epoch 20/50\n",
      "37/37 [==============================] - 6s 161ms/step - loss: 0.9351 - accuracy: 0.6239 - recall: 0.4812 - precision: 0.7744 - f1_score: 0.6168 - val_loss: 1.3251 - val_accuracy: 0.6155 - val_recall: 0.5554 - val_precision: 0.7396 - val_f1_score: 0.3166\n",
      "Epoch 21/50\n",
      "37/37 [==============================] - 6s 162ms/step - loss: 0.9488 - accuracy: 0.6188 - recall: 0.4855 - precision: 0.7573 - f1_score: 0.6065 - val_loss: 1.2155 - val_accuracy: 0.6493 - val_recall: 0.6162 - val_precision: 0.7466 - val_f1_score: 0.3212\n",
      "Epoch 22/50\n",
      "37/37 [==============================] - 6s 161ms/step - loss: 0.9213 - accuracy: 0.6333 - recall: 0.4966 - precision: 0.7458 - f1_score: 0.6213 - val_loss: 1.2015 - val_accuracy: 0.6591 - val_recall: 0.6016 - val_precision: 0.7867 - val_f1_score: 0.3492\n",
      "Epoch 23/50\n",
      "37/37 [==============================] - 6s 165ms/step - loss: 0.9318 - accuracy: 0.6188 - recall: 0.4906 - precision: 0.7474 - f1_score: 0.6033 - val_loss: 1.2534 - val_accuracy: 0.6508 - val_recall: 0.6117 - val_precision: 0.7430 - val_f1_score: 0.3444\n",
      "Epoch 24/50\n",
      "37/37 [==============================] - 6s 166ms/step - loss: 0.9137 - accuracy: 0.6359 - recall: 0.4974 - precision: 0.7668 - f1_score: 0.6239 - val_loss: 1.4434 - val_accuracy: 0.6018 - val_recall: 0.5417 - val_precision: 0.7176 - val_f1_score: 0.3353\n",
      "Epoch 25/50\n",
      "37/37 [==============================] - 6s 164ms/step - loss: 0.9233 - accuracy: 0.6197 - recall: 0.5077 - precision: 0.7557 - f1_score: 0.6094 - val_loss: 1.4057 - val_accuracy: 0.6241 - val_recall: 0.5902 - val_precision: 0.7152 - val_f1_score: 0.3120\n",
      "Epoch 26/50\n",
      "37/37 [==============================] - 6s 166ms/step - loss: 0.9083 - accuracy: 0.6393 - recall: 0.5060 - precision: 0.7739 - f1_score: 0.6301 - val_loss: 1.5970 - val_accuracy: 0.5962 - val_recall: 0.5729 - val_precision: 0.6363 - val_f1_score: 0.3019\n",
      "Epoch 27/50\n",
      "37/37 [==============================] - 6s 165ms/step - loss: 0.8911 - accuracy: 0.6487 - recall: 0.5162 - precision: 0.7704 - f1_score: 0.6385 - val_loss: 1.3368 - val_accuracy: 0.6471 - val_recall: 0.6082 - val_precision: 0.7484 - val_f1_score: 0.3317\n",
      "Epoch 28/50\n",
      "37/37 [==============================] - 6s 166ms/step - loss: 0.8961 - accuracy: 0.6342 - recall: 0.4974 - precision: 0.7844 - f1_score: 0.6224 - val_loss: 1.3939 - val_accuracy: 0.6185 - val_recall: 0.5904 - val_precision: 0.7059 - val_f1_score: 0.3200\n",
      "Epoch 29/50\n",
      "37/37 [==============================] - 6s 165ms/step - loss: 0.9140 - accuracy: 0.6308 - recall: 0.5103 - precision: 0.7547 - f1_score: 0.6216 - val_loss: 1.5064 - val_accuracy: 0.6121 - val_recall: 0.5690 - val_precision: 0.7089 - val_f1_score: 0.3212\n",
      "Epoch 30/50\n",
      "37/37 [==============================] - 6s 165ms/step - loss: 0.8905 - accuracy: 0.6350 - recall: 0.5077 - precision: 0.7529 - f1_score: 0.6246 - val_loss: 1.3855 - val_accuracy: 0.6327 - val_recall: 0.5920 - val_precision: 0.7286 - val_f1_score: 0.3406\n",
      "Epoch 31/50\n",
      "37/37 [==============================] - 6s 167ms/step - loss: 0.8885 - accuracy: 0.6444 - recall: 0.5308 - precision: 0.7705 - f1_score: 0.6352 - val_loss: 1.4053 - val_accuracy: 0.6354 - val_recall: 0.6086 - val_precision: 0.7384 - val_f1_score: 0.3221\n",
      "Epoch 32/50\n",
      "37/37 [==============================] - 6s 168ms/step - loss: 0.8891 - accuracy: 0.6376 - recall: 0.5179 - precision: 0.7613 - f1_score: 0.6245 - val_loss: 1.4200 - val_accuracy: 0.6263 - val_recall: 0.5769 - val_precision: 0.7289 - val_f1_score: 0.3336\n",
      "Epoch 33/50\n",
      "37/37 [==============================] - 6s 166ms/step - loss: 0.8946 - accuracy: 0.6274 - recall: 0.5120 - precision: 0.7729 - f1_score: 0.6168 - val_loss: 1.4356 - val_accuracy: 0.6354 - val_recall: 0.5823 - val_precision: 0.7379 - val_f1_score: 0.3538\n",
      "Epoch 34/50\n",
      "37/37 [==============================] - 6s 167ms/step - loss: 0.8879 - accuracy: 0.6393 - recall: 0.5222 - precision: 0.7783 - f1_score: 0.6281 - val_loss: 1.5723 - val_accuracy: 0.5845 - val_recall: 0.5330 - val_precision: 0.6862 - val_f1_score: 0.3280\n",
      "Epoch 35/50\n",
      "37/37 [==============================] - 6s 166ms/step - loss: 0.8608 - accuracy: 0.6350 - recall: 0.5034 - precision: 0.7760 - f1_score: 0.6247 - val_loss: 1.5982 - val_accuracy: 0.5937 - val_recall: 0.5646 - val_precision: 0.6758 - val_f1_score: 0.3070\n",
      "Epoch 36/50\n",
      "37/37 [==============================] - 6s 167ms/step - loss: 0.8622 - accuracy: 0.6556 - recall: 0.5393 - precision: 0.7639 - f1_score: 0.6447 - val_loss: 1.5229 - val_accuracy: 0.6035 - val_recall: 0.5817 - val_precision: 0.6843 - val_f1_score: 0.3117\n",
      "Epoch 37/50\n",
      "37/37 [==============================] - 6s 166ms/step - loss: 0.9051 - accuracy: 0.6205 - recall: 0.5068 - precision: 0.7506 - f1_score: 0.6108 - val_loss: 1.6482 - val_accuracy: 0.5919 - val_recall: 0.5728 - val_precision: 0.6732 - val_f1_score: 0.2934\n",
      "Epoch 38/50\n",
      "37/37 [==============================] - 6s 165ms/step - loss: 0.8656 - accuracy: 0.6470 - recall: 0.5248 - precision: 0.7714 - f1_score: 0.6375 - val_loss: 1.4669 - val_accuracy: 0.6233 - val_recall: 0.5909 - val_precision: 0.7162 - val_f1_score: 0.3248\n",
      "Epoch 39/50\n",
      "37/37 [==============================] - 6s 166ms/step - loss: 0.8453 - accuracy: 0.6385 - recall: 0.5308 - precision: 0.7901 - f1_score: 0.6301 - val_loss: 1.4306 - val_accuracy: 0.6428 - val_recall: 0.6025 - val_precision: 0.7478 - val_f1_score: 0.3420\n",
      "Epoch 40/50\n",
      "37/37 [==============================] - 6s 166ms/step - loss: 0.8570 - accuracy: 0.6667 - recall: 0.5581 - precision: 0.7820 - f1_score: 0.6564 - val_loss: 1.5058 - val_accuracy: 0.6111 - val_recall: 0.5674 - val_precision: 0.7297 - val_f1_score: 0.3258\n",
      "Epoch 41/50\n",
      "37/37 [==============================] - 6s 168ms/step - loss: 0.8491 - accuracy: 0.6556 - recall: 0.5205 - precision: 0.7868 - f1_score: 0.6440 - val_loss: 1.5482 - val_accuracy: 0.6057 - val_recall: 0.5610 - val_precision: 0.7034 - val_f1_score: 0.3293\n",
      "Epoch 42/50\n",
      "37/37 [==============================] - 6s 166ms/step - loss: 0.8282 - accuracy: 0.6632 - recall: 0.5462 - precision: 0.7764 - f1_score: 0.6525 - val_loss: 1.4514 - val_accuracy: 0.6500 - val_recall: 0.6063 - val_precision: 0.7372 - val_f1_score: 0.3518\n",
      "Epoch 43/50\n",
      "37/37 [==============================] - 6s 165ms/step - loss: 0.8577 - accuracy: 0.6538 - recall: 0.5410 - precision: 0.7682 - f1_score: 0.6470 - val_loss: 1.5536 - val_accuracy: 0.6310 - val_recall: 0.5932 - val_precision: 0.7002 - val_f1_score: 0.3471\n",
      "Epoch 44/50\n",
      "37/37 [==============================] - 6s 165ms/step - loss: 0.8403 - accuracy: 0.6556 - recall: 0.5521 - precision: 0.7907 - f1_score: 0.6413 - val_loss: 1.6048 - val_accuracy: 0.6018 - val_recall: 0.5593 - val_precision: 0.6798 - val_f1_score: 0.3408\n",
      "Epoch 45/50\n",
      "37/37 [==============================] - 6s 161ms/step - loss: 0.8360 - accuracy: 0.6615 - recall: 0.5376 - precision: 0.7912 - f1_score: 0.6546 - val_loss: 1.5840 - val_accuracy: 0.6241 - val_recall: 0.5945 - val_precision: 0.7045 - val_f1_score: 0.3424\n",
      "Epoch 46/50\n",
      "37/37 [==============================] - 6s 163ms/step - loss: 0.8398 - accuracy: 0.6444 - recall: 0.5462 - precision: 0.7812 - f1_score: 0.6323 - val_loss: 1.5633 - val_accuracy: 0.6005 - val_recall: 0.5655 - val_precision: 0.6996 - val_f1_score: 0.3188\n",
      "Epoch 47/50\n",
      "37/37 [==============================] - 6s 166ms/step - loss: 0.8273 - accuracy: 0.6504 - recall: 0.5385 - precision: 0.7865 - f1_score: 0.6437 - val_loss: 1.5611 - val_accuracy: 0.5908 - val_recall: 0.5567 - val_precision: 0.6789 - val_f1_score: 0.3037\n",
      "Epoch 48/50\n",
      "37/37 [==============================] - 6s 165ms/step - loss: 0.8418 - accuracy: 0.6573 - recall: 0.5521 - precision: 0.7709 - f1_score: 0.6455 - val_loss: 1.4697 - val_accuracy: 0.6293 - val_recall: 0.5935 - val_precision: 0.7194 - val_f1_score: 0.3357\n",
      "Epoch 49/50\n",
      "37/37 [==============================] - 6s 166ms/step - loss: 0.8352 - accuracy: 0.6496 - recall: 0.5393 - precision: 0.8028 - f1_score: 0.6397 - val_loss: 1.4696 - val_accuracy: 0.6354 - val_recall: 0.6078 - val_precision: 0.7330 - val_f1_score: 0.3289\n",
      "Epoch 50/50\n",
      "37/37 [==============================] - 6s 165ms/step - loss: 0.8420 - accuracy: 0.6590 - recall: 0.5325 - precision: 0.7977 - f1_score: 0.6524 - val_loss: 1.5746 - val_accuracy: 0.6187 - val_recall: 0.5782 - val_precision: 0.7123 - val_f1_score: 0.3378\n"
     ]
    }
   ],
   "source": [
    "#Define epochs and batch size\n",
    "epochs = 50\n",
    "batch_size = 32\n",
    "\n",
    "#Train the model\n",
    "history = model.fit(X_rus, y_rus, epochs=epochs, batch_size=batch_size, validation_data=(X_test, y_test))"
   ]
  },
  {
   "cell_type": "markdown",
   "metadata": {},
   "source": [
    "# Evaluate The Model"
   ]
  },
  {
   "cell_type": "code",
   "execution_count": 30,
   "metadata": {},
   "outputs": [
    {
     "name": "stdout",
     "output_type": "stream",
     "text": [
      "1417/1417 [==============================] - 8s 6ms/step - loss: 1.5746 - accuracy: 0.6187 - recall: 0.5782 - precision: 0.7123 - f1_score: 0.3378\n",
      "Test Loss: 1.5745596885681152\n",
      "Test Accuracy: 0.6186988353729248\n",
      "Test Recall: 0.5781729221343994\n",
      "Test Precision: 0.7122513055801392\n",
      "Test F1-Score: 0.6382465700766546\n"
     ]
    }
   ],
   "source": [
    "#Evaluate the model on test data\n",
    "loss, accuracy, recall, precision, f1_score = model.evaluate(X_test, y_test)\n",
    "f1_score = 2 * (precision * recall) / (precision + recall)\n",
    "\n",
    "print('Test Loss:', loss)\n",
    "print('Test Accuracy:', accuracy)\n",
    "print('Test Recall:', recall)\n",
    "print('Test Precision:', precision)\n",
    "print('Test F1-Score:', f1_score)"
   ]
  },
  {
   "cell_type": "code",
   "execution_count": 31,
   "metadata": {},
   "outputs": [
    {
     "name": "stdout",
     "output_type": "stream",
     "text": [
      "1417/1417 [==============================] - 2s 2ms/step\n"
     ]
    }
   ],
   "source": [
    "# make a predictions\n",
    "predictions = model.predict(X_test)"
   ]
  },
  {
   "cell_type": "code",
   "execution_count": 32,
   "metadata": {},
   "outputs": [],
   "source": [
    "# convert one-hot encode predictions to class labels\n",
    "predicted_classes = np.argmax(predictions, axis=1)\n",
    "y_test_categorical = np.argmax(y_test, axis=1)"
   ]
  },
  {
   "cell_type": "markdown",
   "metadata": {},
   "source": [
    "## Confusion Matrix"
   ]
  },
  {
   "cell_type": "code",
   "execution_count": 33,
   "metadata": {},
   "outputs": [],
   "source": [
    "# function to calculate recall from confusion matrix\n",
    "def calculate_recall(confusion_matrix):\n",
    "    num_class = len(confusion_matrix)\n",
    "    recalls = []\n",
    "\n",
    "    for i in range(num_class):\n",
    "        true_positive = confusion_matrix[i][i]\n",
    "        false_negative = sum(confusion_matrix[i]) - true_positive\n",
    "\n",
    "        recall = true_positive / (true_positive + false_negative)\n",
    "        recalls.append(recall)\n",
    "    \n",
    "    return recalls"
   ]
  },
  {
   "cell_type": "code",
   "execution_count": 34,
   "metadata": {},
   "outputs": [],
   "source": [
    "# function to display the recall score\n",
    "def display_recall(recalls):\n",
    "    print('Recall Scores for each class:')\n",
    "    print('Analysis:', recalls[0])\n",
    "    print('Backdoor:', recalls[1])\n",
    "    print('DoS:', recalls[2])\n",
    "    print('Exploits:', recalls[3])\n",
    "    print('Fuzzers:', recalls[4])\n",
    "    print('Generic:', recalls[5])\n",
    "    print('Reconnaissance:', recalls[6])\n",
    "    print('Shellcode:', recalls[7])\n",
    "    print('Worms:', recalls[8])"
   ]
  },
  {
   "cell_type": "code",
   "execution_count": 35,
   "metadata": {},
   "outputs": [],
   "source": [
    "from sklearn.metrics import confusion_matrix"
   ]
  },
  {
   "cell_type": "code",
   "execution_count": 36,
   "metadata": {},
   "outputs": [],
   "source": [
    "matrix = confusion_matrix(y_test_categorical, predicted_classes)\n",
    "matrix_df = pd.DataFrame(matrix, \n",
    "                         index= ['Analysis', 'Backdoor', 'DoS', 'Exploits', 'Fuzzers', 'Generic', 'Reconnaissance', 'Shellcode', 'Worms'], \n",
    "                         columns= ['Analysis', 'Backdoor', 'DoS', 'Exploits', 'Fuzzers', 'Generic', 'Reconnaissance', 'Shellcode', 'Worms'])"
   ]
  },
  {
   "cell_type": "code",
   "execution_count": 37,
   "metadata": {},
   "outputs": [
    {
     "data": {
      "image/png": "[encoded data removed]",
      "text/plain": [
       "<Figure size 2000x2000 with 2 Axes>"
      ]
     },
     "metadata": {},
     "output_type": "display_data"
    }
   ],
   "source": [
    "# Plotting Confusion Matrix\n",
    "plt.figure(figsize = (20, 20))\n",
    "sns.heatmap(matrix_df, fmt='.0f', annot=True)\n",
    "plt.title('Confusion Matrix (1D CNN)')\n",
    "plt.ylabel('Actual Values')\n",
    "plt.xlabel('Predicted Values')\n",
    "plt.show()"
   ]
  },
  {
   "cell_type": "code",
   "execution_count": 38,
   "metadata": {},
   "outputs": [
    {
     "name": "stdout",
     "output_type": "stream",
     "text": [
      "Recall Scores for each class:\n",
      "Analysis: 0.2791728212703102\n",
      "Backdoor: 0.4305317324185249\n",
      "DoS: 0.16703350452433358\n",
      "Exploits: 0.4694097565358009\n",
      "Fuzzers: 0.6779409338393004\n",
      "Generic: 0.8860685708229559\n",
      "Reconnaissance: 0.1688125894134478\n",
      "Shellcode: 0.6375661375661376\n",
      "Worms: 0.8181818181818182\n"
     ]
    }
   ],
   "source": [
    "recalls = calculate_recall(matrix)\n",
    "display_recall(recalls)"
   ]
  },
  {
   "cell_type": "markdown",
   "metadata": {},
   "source": [
    "## Save and load the model"
   ]
  },
  {
   "cell_type": "code",
   "execution_count": 39,
   "metadata": {},
   "outputs": [],
   "source": [
    "from keras.models import load_model"
   ]
  },
  {
   "cell_type": "code",
   "execution_count": 40,
   "metadata": {},
   "outputs": [],
   "source": [
    "# save the 1D CNN trained model using keras\n",
    "model.save('/Data/Visual Studio Code/Data-Science/Notebook/UNSW-NB15/CNN/Balanced/Random Undersampling/Saved/cnn1d.keras')"
   ]
  },
  {
   "cell_type": "code",
   "execution_count": 41,
   "metadata": {},
   "outputs": [],
   "source": [
    "# load the 1D CNN trained model using keras\n",
    "model = load_model('/Data/Visual Studio Code/Data-Science/Notebook/UNSW-NB15/CNN/Balanced/Random Undersampling/Saved/cnn1d.keras')"
   ]
  },
  {
   "cell_type": "markdown",
   "metadata": {},
   "source": [
    "## Save and load the predicted"
   ]
  },
  {
   "cell_type": "code",
   "execution_count": 42,
   "metadata": {},
   "outputs": [],
   "source": [
    "import joblib"
   ]
  },
  {
   "cell_type": "code",
   "execution_count": 43,
   "metadata": {},
   "outputs": [
    {
     "data": {
      "text/plain": [
       "['/Data/Visual Studio Code/Data-Science/Notebook/UNSW-NB15/CNN/Balanced/Random Undersampling/Saved/predicted_classes.joblib']"
      ]
     },
     "execution_count": 43,
     "metadata": {},
     "output_type": "execute_result"
    }
   ],
   "source": [
    "# save predicted\n",
    "joblib.dump(predicted_classes, '/Data/Visual Studio Code/Data-Science/Notebook/UNSW-NB15/CNN/Balanced/Random Undersampling/Saved/predicted_classes.joblib', compress=('zlib', 3))"
   ]
  },
  {
   "cell_type": "code",
   "execution_count": 44,
   "metadata": {},
   "outputs": [],
   "source": [
    "# load the predicted\n",
    "predicted_classes = joblib.load('/Data/Visual Studio Code/Data-Science/Notebook/UNSW-NB15/CNN/Balanced/Random Undersampling/Saved/predicted_classes.joblib')"
   ]
  }
 ],
 "metadata": {
  "kernelspec": {
   "display_name": "myenv",
   "language": "python",
   "name": "python3"
  },
  "language_info": {
   "codemirror_mode": {
    "name": "ipython",
    "version": 3
   },
   "file_extension": ".py",
   "mimetype": "text/x-python",
   "name": "python",
   "nbconvert_exporter": "python",
   "pygments_lexer": "ipython3",
   "version": "3.10.13"
  },
  "orig_nbformat": 4
 },
 "nbformat": 4,
 "nbformat_minor": 2
}
