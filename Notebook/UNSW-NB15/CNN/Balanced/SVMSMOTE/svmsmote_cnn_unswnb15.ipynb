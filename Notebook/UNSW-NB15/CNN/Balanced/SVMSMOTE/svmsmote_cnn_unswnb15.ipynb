{
 "cells": [
  {
   "cell_type": "markdown",
   "metadata": {},
   "source": [
    "# Data Preprocessing"
   ]
  },
  {
   "cell_type": "code",
   "execution_count": 1,
   "metadata": {},
   "outputs": [],
   "source": [
    "import tensorflow as tf\n",
    "from keras.models import Sequential\n",
    "from keras.layers import Conv1D, MaxPooling1D, Flatten, Dense, Dropout, BatchNormalization\n",
    "from keras.metrics import Recall, Precision"
   ]
  },
  {
   "cell_type": "code",
   "execution_count": 2,
   "metadata": {},
   "outputs": [
    {
     "name": "stdout",
     "output_type": "stream",
     "text": [
      "Num GPUs Available:  1\n"
     ]
    }
   ],
   "source": [
    "#Check GPU device available\n",
    "print('Num GPUs Available: ', len(tf.config.list_physical_devices('GPU')))"
   ]
  },
  {
   "cell_type": "code",
   "execution_count": 3,
   "metadata": {},
   "outputs": [],
   "source": [
    "import pandas as pd\n",
    "import matplotlib.pyplot as plt\n",
    "import seaborn as sns\n",
    "import numpy as np"
   ]
  },
  {
   "cell_type": "code",
   "execution_count": 4,
   "metadata": {},
   "outputs": [],
   "source": [
    "# Load dataset\n",
    "data_train = pd.read_csv('/Data/Visual Studio Code/Data-Science/Dataset/UNSW-NB15/UNSW_NB15_training-set.csv')\n",
    "data_test = pd.read_csv('/Data/Visual Studio Code/Data-Science/Dataset/UNSW-NB15/UNSW_NB15_testing-set.csv')"
   ]
  },
  {
   "cell_type": "code",
   "execution_count": 5,
   "metadata": {},
   "outputs": [],
   "source": [
    "# Handle missing value and duplicate if any\n",
    "data_train.dropna(inplace=True)\n",
    "data_train.drop_duplicates(inplace=True)\n",
    "\n",
    "data_test.dropna(inplace=True)\n",
    "data_test.drop_duplicates(inplace=True)"
   ]
  },
  {
   "cell_type": "code",
   "execution_count": 6,
   "metadata": {},
   "outputs": [],
   "source": [
    "#Split Attack and Normal from dataframe\n",
    "data_train_attack = data_train[data_train['label'] == 1]\n",
    "data_test_attack = data_test[data_test['label'] == 1]\n",
    "\n",
    "#Optional\n",
    "#data_train_normal = data_train[data_train['label'] == 0]\n",
    "#data_test_normal = data_test[data_test['label'] == 0]"
   ]
  },
  {
   "cell_type": "code",
   "execution_count": 7,
   "metadata": {},
   "outputs": [],
   "source": [
    "# Drop id and label from train and test data\n",
    "data_train_attack = data_train_attack.drop('id', axis=1)\n",
    "data_train_attack = data_train_attack.drop('label', axis=1)\n",
    "\n",
    "data_test_attack = data_test_attack.drop('id', axis=1)\n",
    "data_test_attack = data_test_attack.drop('label', axis=1)"
   ]
  },
  {
   "cell_type": "code",
   "execution_count": 8,
   "metadata": {},
   "outputs": [
    {
     "name": "stdout",
     "output_type": "stream",
     "text": [
      "5\n",
      "6\n"
     ]
    }
   ],
   "source": [
    "print(data_train_attack['state'].nunique())\n",
    "print(data_test_attack['state'].nunique())"
   ]
  },
  {
   "cell_type": "code",
   "execution_count": 9,
   "metadata": {},
   "outputs": [
    {
     "name": "stdout",
     "output_type": "stream",
     "text": [
      "['INT' 'FIN' 'CON' 'REQ' 'RST']\n",
      "['INT' 'FIN' 'ACC' 'CON' 'REQ' 'CLO']\n"
     ]
    }
   ],
   "source": [
    "print(data_train_attack['state'].unique())\n",
    "print(data_test_attack['state'].unique())"
   ]
  },
  {
   "cell_type": "code",
   "execution_count": 10,
   "metadata": {},
   "outputs": [],
   "source": [
    "#Drop ACC, CLO, and RST from data\n",
    "data_train_attack = data_train_attack[(data_train_attack['state'] != 'RST')]\n",
    "data_test_attack = data_test_attack[(data_test_attack['state'] != 'ACC') & (data_test_attack['state'] != 'CLO')]"
   ]
  },
  {
   "cell_type": "code",
   "execution_count": 11,
   "metadata": {},
   "outputs": [
    {
     "name": "stdout",
     "output_type": "stream",
     "text": [
      "['INT' 'FIN' 'CON' 'REQ']\n",
      "['INT' 'FIN' 'CON' 'REQ']\n"
     ]
    }
   ],
   "source": [
    "print(data_train_attack['state'].unique())\n",
    "print(data_test_attack['state'].unique())"
   ]
  },
  {
   "cell_type": "markdown",
   "metadata": {},
   "source": [
    "## Encode Train and Test Data"
   ]
  },
  {
   "cell_type": "code",
   "execution_count": 12,
   "metadata": {},
   "outputs": [
    {
     "data": {
      "text/plain": [
       "['proto', 'state', 'service']"
      ]
     },
     "execution_count": 12,
     "metadata": {},
     "output_type": "execute_result"
    }
   ],
   "source": [
    "#column to encode\n",
    "cols = ['proto','state','service']\n",
    "cols"
   ]
  },
  {
   "cell_type": "code",
   "execution_count": 13,
   "metadata": {},
   "outputs": [],
   "source": [
    "#One-hot Encoding\n",
    "# Encode train data\n",
    "data_train_attack = pd.get_dummies(data_train_attack, columns=cols)\n",
    "\n",
    "# Encode test data\n",
    "data_test_attack = pd.get_dummies(data_test_attack, columns=cols)"
   ]
  },
  {
   "cell_type": "code",
   "execution_count": 14,
   "metadata": {},
   "outputs": [],
   "source": [
    "train_attack_cat = data_train_attack.pop('attack_cat')\n",
    "test_attack_cat = data_test_attack.pop('attack_cat')"
   ]
  },
  {
   "cell_type": "markdown",
   "metadata": {},
   "source": [
    "## Normalization"
   ]
  },
  {
   "cell_type": "code",
   "execution_count": 15,
   "metadata": {},
   "outputs": [],
   "source": [
    "# Min-Max Normalization\n",
    "from sklearn.preprocessing import MinMaxScaler\n",
    "\n",
    "scaler = MinMaxScaler()\n",
    "cols_to_norm = ['dur', 'spkts', 'dpkts', 'sbytes', 'dbytes', 'rate', 'sttl', 'dttl', 'sload', \n",
    "                'dload', 'sloss', 'dloss', 'sinpkt', 'dinpkt', 'sjit', 'djit', 'swin', 'stcpb', 'dtcpb', 'dwin', 'tcprtt', 'synack', \n",
    "                'ackdat', 'smean', 'dmean', 'trans_depth', 'response_body_len', 'ct_srv_src', 'ct_state_ttl', 'ct_dst_ltm', \n",
    "                'ct_src_dport_ltm', 'ct_dst_sport_ltm', 'ct_dst_src_ltm', 'is_ftp_login', 'ct_ftp_cmd', 'ct_flw_http_mthd', 'ct_src_ltm', \n",
    "                'ct_srv_dst', 'is_sm_ips_ports']\n",
    "\n",
    "data_train_attack[cols_to_norm] = scaler.fit_transform(data_train_attack[cols_to_norm])\n",
    "data_test_attack[cols_to_norm] = scaler.fit_transform(data_test_attack[cols_to_norm])"
   ]
  },
  {
   "cell_type": "markdown",
   "metadata": {},
   "source": [
    "## Feature Selection"
   ]
  },
  {
   "cell_type": "code",
   "execution_count": 16,
   "metadata": {},
   "outputs": [
    {
     "data": {
      "text/plain": [
       "dur               float64\n",
       "spkts             float64\n",
       "dpkts             float64\n",
       "sbytes            float64\n",
       "dbytes            float64\n",
       "                   ...   \n",
       "service_radius       bool\n",
       "service_smtp         bool\n",
       "service_snmp         bool\n",
       "service_ssh          bool\n",
       "service_ssl          bool\n",
       "Length: 182, dtype: object"
      ]
     },
     "execution_count": 16,
     "metadata": {},
     "output_type": "execute_result"
    }
   ],
   "source": [
    "#Feature Selection\n",
    "feature = data_train_attack.drop(['dinpkt', 'ct_ftp_cmd', 'is_sm_ips_ports'], axis=1)\n",
    "feature.dtypes"
   ]
  },
  {
   "cell_type": "markdown",
   "metadata": {},
   "source": [
    "# Balancing Data"
   ]
  },
  {
   "cell_type": "markdown",
   "metadata": {},
   "source": [
    "## Initialize Train Data and Test Data"
   ]
  },
  {
   "cell_type": "code",
   "execution_count": 17,
   "metadata": {},
   "outputs": [
    {
     "data": {
      "text/plain": [
       "((119329, 182), (119329,), (45329, 182), (45329,))"
      ]
     },
     "execution_count": 17,
     "metadata": {},
     "output_type": "execute_result"
    }
   ],
   "source": [
    "#Splitting the dataset into dependent and independent feature\n",
    "X_train = feature\n",
    "y_train = train_attack_cat\n",
    "\n",
    "X_test = data_test_attack.drop(columns=['dinpkt', 'ct_ftp_cmd', 'is_sm_ips_ports'])\n",
    "y_test = test_attack_cat\n",
    "\n",
    "X_train.shape, y_train.shape, X_test.shape, y_test.shape"
   ]
  },
  {
   "cell_type": "markdown",
   "metadata": {},
   "source": [
    "## SVMSMOTE"
   ]
  },
  {
   "cell_type": "code",
   "execution_count": 18,
   "metadata": {},
   "outputs": [
    {
     "data": {
      "text/plain": [
       "((359991, 182), (359991,))"
      ]
     },
     "execution_count": 18,
     "metadata": {},
     "output_type": "execute_result"
    }
   ],
   "source": [
    "from imblearn.over_sampling import SVMSMOTE\n",
    "\n",
    "svmsmote = SVMSMOTE()\n",
    "X_svmsmote, y_svmsmote = svmsmote.fit_resample(X_train, y_train)\n",
    "\n",
    "X_svmsmote.shape, y_svmsmote.shape"
   ]
  },
  {
   "cell_type": "code",
   "execution_count": 19,
   "metadata": {},
   "outputs": [
    {
     "data": {
      "text/plain": [
       "([0, 1, 2, 3, 4, 5, 6, 7, 8],\n",
       " [Text(0, 0, 'Backdoor'),\n",
       "  Text(1, 0, 'Analysis'),\n",
       "  Text(2, 0, 'Fuzzers'),\n",
       "  Text(3, 0, 'Shellcode'),\n",
       "  Text(4, 0, 'Reconnaissance'),\n",
       "  Text(5, 0, 'Exploits'),\n",
       "  Text(6, 0, 'DoS'),\n",
       "  Text(7, 0, 'Worms'),\n",
       "  Text(8, 0, 'Generic')])"
      ]
     },
     "execution_count": 19,
     "metadata": {},
     "output_type": "execute_result"
    },
    {
     "data": {
      "image/png": "[encoded data removed]",
      "text/plain": [
       "<Figure size 640x480 with 1 Axes>"
      ]
     },
     "metadata": {},
     "output_type": "display_data"
    }
   ],
   "source": [
    "#Create new dataframe from X_svmsmote and y_svmsmote to count every attack\n",
    "data_svmsmote = pd.concat([X_svmsmote, y_svmsmote], axis=1)\n",
    "\n",
    "sns.countplot(data=data_svmsmote, x=\"attack_cat\")\n",
    "plt.xticks(rotation=30)"
   ]
  },
  {
   "cell_type": "code",
   "execution_count": 20,
   "metadata": {},
   "outputs": [
    {
     "name": "stdout",
     "output_type": "stream",
     "text": [
      "attack_cat\n",
      "Analysis          39999\n",
      "Backdoor          39999\n",
      "DoS               39999\n",
      "Exploits          39999\n",
      "Fuzzers           39999\n",
      "Generic           39999\n",
      "Reconnaissance    39999\n",
      "Shellcode         39999\n",
      "Worms             39999\n",
      "Name: count, dtype: int64\n",
      "--------------------\n",
      "Shape: (359991, 183)\n",
      "--------------------\n",
      "Duplicates: 107234\n"
     ]
    }
   ],
   "source": [
    "#data_svmsmote.drop_duplicates(inplace=True)\n",
    "print(data_svmsmote.value_counts('attack_cat'))\n",
    "print(\"--------------------\")\n",
    "print(\"Shape: \" + str(data_svmsmote.shape))\n",
    "print(\"--------------------\")\n",
    "print(\"Duplicates: \" + str(data_svmsmote.duplicated().sum()))"
   ]
  },
  {
   "cell_type": "markdown",
   "metadata": {},
   "source": [
    "# Model Architecture"
   ]
  },
  {
   "cell_type": "code",
   "execution_count": 21,
   "metadata": {},
   "outputs": [
    {
     "name": "stderr",
     "output_type": "stream",
     "text": [
      "c:\\Users\\Acer\\miniconda3\\envs\\tf_gpu\\lib\\site-packages\\tensorflow_addons\\utils\\tfa_eol_msg.py:23: UserWarning: \n",
      "\n",
      "TensorFlow Addons (TFA) has ended development and introduction of new features.\n",
      "TFA has entered a minimal maintenance and release mode until a planned end of life in May 2024.\n",
      "Please modify downstream libraries to take dependencies from other repositories in our TensorFlow community (e.g. Keras, Keras-CV, and Keras-NLP). \n",
      "\n",
      "For more information see: https://github.com/tensorflow/addons/issues/2807 \n",
      "\n",
      "  warnings.warn(\n",
      "c:\\Users\\Acer\\miniconda3\\envs\\tf_gpu\\lib\\site-packages\\tensorflow_addons\\utils\\ensure_tf_install.py:53: UserWarning: Tensorflow Addons supports using Python ops for all Tensorflow versions above or equal to 2.12.0 and strictly below 2.15.0 (nightly versions are not supported). \n",
      " The versions of TensorFlow you are currently using is 2.10.0 and is not supported. \n",
      "Some things might work, some things might not.\n",
      "If you were to encounter a bug, do not file an issue.\n",
      "If you want to make sure you're using a tested and supported configuration, either change the TensorFlow version or the TensorFlow Addons's version. \n",
      "You can find the compatibility matrix in TensorFlow Addon's readme:\n",
      "https://github.com/tensorflow/addons\n",
      "  warnings.warn(\n"
     ]
    }
   ],
   "source": [
    "# from keras import backend as K\n",
    "import tensorflow_addons as tfa"
   ]
  },
  {
   "cell_type": "code",
   "execution_count": 22,
   "metadata": {},
   "outputs": [],
   "source": [
    "# def recall_m(y_true, y_pred):\n",
    "#     true_positives = K.sum(K.round(K.clip(y_true * y_pred, 0, 1)))\n",
    "#     possible_positives = K.sum(K.round(K.clip(y_true, 0, 1)))\n",
    "#     recall = true_positives / (possible_positives + K.epsilon())\n",
    "#     return recall\n",
    "\n",
    "# def precision_m(y_true, y_pred):\n",
    "#     true_positives = K.sum(K.round(K.clip(y_true * y_pred, 0, 1)))\n",
    "#     predicted_positives = K.sum(K.round(K.clip(y_pred, 0, 1)))\n",
    "#     precision = true_positives / (predicted_positives + K.epsilon())\n",
    "#     return precision\n",
    "\n",
    "# def f1_m(y_true, y_pred):\n",
    "#     precision = precision_m(y_true, y_pred)\n",
    "#     recall = recall_m(y_true, y_pred)\n",
    "#     return 2*((precision*recall)/(precision+recall+K.epsilon()))"
   ]
  },
  {
   "cell_type": "markdown",
   "metadata": {},
   "source": [
    "## 1D-CNN (1 layer) Model"
   ]
  },
  {
   "cell_type": "code",
   "execution_count": 23,
   "metadata": {},
   "outputs": [],
   "source": [
    "# Define the input shape\n",
    "input_shape = (182, 1)\n",
    "\n",
    "# Create the sequential model\n",
    "model = Sequential()\n",
    "\n",
    "# Convolutional layers\n",
    "model.add(Conv1D(filters=32, kernel_size=5, activation='sigmoid', input_shape=input_shape))\n",
    "\n",
    "# MaxPooling1D layer\n",
    "model.add(MaxPooling1D(pool_size=2, strides=1))\n",
    "\n",
    "# Flatten layer\n",
    "model.add(Flatten())\n",
    "\n",
    "# Batch Normalization layer\n",
    "model.add(BatchNormalization(axis=-1))\n",
    "\n",
    "# Dropout layer with dropout 0.5\n",
    "model.add(Dropout(0.5))\n",
    "\n",
    "# Two Fully-connected layers\n",
    "model.add(Dense(32, activation='relu'))\n",
    "model.add(Dense(16, activation='relu'))\n",
    "\n",
    "# Output\n",
    "model.add(Dense(units=9, activation='softmax'))\n",
    "\n",
    "# Compile the model\n",
    "model.compile(optimizer='adam', loss='categorical_crossentropy', metrics=['accuracy', Recall(), Precision(), tfa.metrics.F1Score(num_classes=9, \n",
    "                                                                                                                                 average='macro')])"
   ]
  },
  {
   "cell_type": "code",
   "execution_count": 24,
   "metadata": {},
   "outputs": [
    {
     "name": "stdout",
     "output_type": "stream",
     "text": [
      "Model: \"sequential\"\n",
      "_________________________________________________________________\n",
      " Layer (type)                Output Shape              Param #   \n",
      "=================================================================\n",
      " conv1d (Conv1D)             (None, 178, 32)           192       \n",
      "                                                                 \n",
      " max_pooling1d (MaxPooling1D  (None, 177, 32)          0         \n",
      " )                                                               \n",
      "                                                                 \n",
      " flatten (Flatten)           (None, 5664)              0         \n",
      "                                                                 \n",
      " batch_normalization (BatchN  (None, 5664)             22656     \n",
      " ormalization)                                                   \n",
      "                                                                 \n",
      " dropout (Dropout)           (None, 5664)              0         \n",
      "                                                                 \n",
      " dense (Dense)               (None, 32)                181280    \n",
      "                                                                 \n",
      " dense_1 (Dense)             (None, 16)                528       \n",
      "                                                                 \n",
      " dense_2 (Dense)             (None, 9)                 153       \n",
      "                                                                 \n",
      "=================================================================\n",
      "Total params: 204,809\n",
      "Trainable params: 193,481\n",
      "Non-trainable params: 11,328\n",
      "_________________________________________________________________\n"
     ]
    }
   ],
   "source": [
    "#Print the model summary\n",
    "model.summary()"
   ]
  },
  {
   "cell_type": "markdown",
   "metadata": {},
   "source": [
    "## Train the model"
   ]
  },
  {
   "cell_type": "code",
   "execution_count": 25,
   "metadata": {},
   "outputs": [],
   "source": [
    "from keras.utils import to_categorical\n",
    "from sklearn.preprocessing import LabelEncoder"
   ]
  },
  {
   "cell_type": "code",
   "execution_count": 26,
   "metadata": {},
   "outputs": [],
   "source": [
    "le = LabelEncoder()\n",
    "\n",
    "y_svmsmote = le.fit_transform(y_svmsmote)\n",
    "y_test = le.fit_transform(y_test)"
   ]
  },
  {
   "cell_type": "code",
   "execution_count": 27,
   "metadata": {},
   "outputs": [],
   "source": [
    "num_class = 9\n",
    "y_svmsmote = to_categorical(y_svmsmote, num_class)\n",
    "y_test = to_categorical(y_test, num_class)"
   ]
  },
  {
   "cell_type": "code",
   "execution_count": 28,
   "metadata": {},
   "outputs": [],
   "source": [
    "X_svmsmote = np.array(X_svmsmote, dtype=np.float32)\n",
    "X_test = np.array(X_test, dtype=np.float32)"
   ]
  },
  {
   "cell_type": "code",
   "execution_count": 29,
   "metadata": {},
   "outputs": [
    {
     "name": "stdout",
     "output_type": "stream",
     "text": [
      "Epoch 1/50\n",
      "11250/11250 [==============================] - 100s 9ms/step - loss: 0.8354 - accuracy: 0.6798 - recall: 0.5637 - precision: 0.8413 - f1_score: 0.6799 - val_loss: 0.8798 - val_accuracy: 0.6631 - val_recall: 0.6058 - val_precision: 0.7853 - val_f1_score: 0.3647\n",
      "Epoch 2/50\n",
      "11250/11250 [==============================] - 97s 9ms/step - loss: 0.7398 - accuracy: 0.7177 - recall: 0.6243 - precision: 0.8575 - f1_score: 0.7191 - val_loss: 0.9220 - val_accuracy: 0.6960 - val_recall: 0.6509 - val_precision: 0.7978 - val_f1_score: 0.4145\n",
      "Epoch 3/50\n",
      "11250/11250 [==============================] - 99s 9ms/step - loss: 0.7114 - accuracy: 0.7288 - recall: 0.6418 - precision: 0.8665 - f1_score: 0.7309 - val_loss: 0.9090 - val_accuracy: 0.6724 - val_recall: 0.6194 - val_precision: 0.7712 - val_f1_score: 0.3738\n",
      "Epoch 4/50\n",
      "11250/11250 [==============================] - 99s 9ms/step - loss: 0.6949 - accuracy: 0.7361 - recall: 0.6515 - precision: 0.8733 - f1_score: 0.7387 - val_loss: 0.9097 - val_accuracy: 0.6810 - val_recall: 0.6317 - val_precision: 0.7816 - val_f1_score: 0.3882\n",
      "Epoch 5/50\n",
      "11250/11250 [==============================] - 104s 9ms/step - loss: 0.6820 - accuracy: 0.7412 - recall: 0.6591 - precision: 0.8764 - f1_score: 0.7437 - val_loss: 0.9586 - val_accuracy: 0.6617 - val_recall: 0.6283 - val_precision: 0.7758 - val_f1_score: 0.3678\n",
      "Epoch 6/50\n",
      "11250/11250 [==============================] - 103s 9ms/step - loss: 0.6732 - accuracy: 0.7441 - recall: 0.6633 - precision: 0.8792 - f1_score: 0.7466 - val_loss: 0.8606 - val_accuracy: 0.7109 - val_recall: 0.6562 - val_precision: 0.8248 - val_f1_score: 0.4205\n",
      "Epoch 7/50\n",
      "11250/11250 [==============================] - 106s 9ms/step - loss: 0.6662 - accuracy: 0.7473 - recall: 0.6673 - precision: 0.8827 - f1_score: 0.7499 - val_loss: 0.9343 - val_accuracy: 0.6818 - val_recall: 0.6265 - val_precision: 0.7895 - val_f1_score: 0.3626\n",
      "Epoch 8/50\n",
      "11250/11250 [==============================] - 107s 10ms/step - loss: 0.6600 - accuracy: 0.7495 - recall: 0.6698 - precision: 0.8842 - f1_score: 0.7521 - val_loss: 0.9151 - val_accuracy: 0.6852 - val_recall: 0.6427 - val_precision: 0.7869 - val_f1_score: 0.3855\n",
      "Epoch 9/50\n",
      "11250/11250 [==============================] - 117s 10ms/step - loss: 0.6551 - accuracy: 0.7517 - recall: 0.6730 - precision: 0.8858 - f1_score: 0.7544 - val_loss: 0.9819 - val_accuracy: 0.6623 - val_recall: 0.6113 - val_precision: 0.7470 - val_f1_score: 0.3556\n",
      "Epoch 10/50\n",
      "11250/11250 [==============================] - 116s 10ms/step - loss: 0.6535 - accuracy: 0.7522 - recall: 0.6736 - precision: 0.8865 - f1_score: 0.7550 - val_loss: 1.0315 - val_accuracy: 0.6614 - val_recall: 0.6167 - val_precision: 0.7581 - val_f1_score: 0.3472\n",
      "Epoch 11/50\n",
      "11250/11250 [==============================] - 92s 8ms/step - loss: 0.6493 - accuracy: 0.7541 - recall: 0.6759 - precision: 0.8879 - f1_score: 0.7567 - val_loss: 0.9600 - val_accuracy: 0.6907 - val_recall: 0.6429 - val_precision: 0.7838 - val_f1_score: 0.3951\n",
      "Epoch 12/50\n",
      "11250/11250 [==============================] - 92s 8ms/step - loss: 0.6468 - accuracy: 0.7551 - recall: 0.6773 - precision: 0.8893 - f1_score: 0.7578 - val_loss: 1.1011 - val_accuracy: 0.6681 - val_recall: 0.6230 - val_precision: 0.7518 - val_f1_score: 0.3583\n",
      "Epoch 13/50\n",
      "11250/11250 [==============================] - 93s 8ms/step - loss: 0.6453 - accuracy: 0.7555 - recall: 0.6774 - precision: 0.8893 - f1_score: 0.7583 - val_loss: 1.0470 - val_accuracy: 0.6603 - val_recall: 0.6136 - val_precision: 0.7508 - val_f1_score: 0.3527\n",
      "Epoch 14/50\n",
      "11250/11250 [==============================] - 93s 8ms/step - loss: 0.6438 - accuracy: 0.7558 - recall: 0.6786 - precision: 0.8906 - f1_score: 0.7586 - val_loss: 0.9924 - val_accuracy: 0.6666 - val_recall: 0.6255 - val_precision: 0.7640 - val_f1_score: 0.3666\n",
      "Epoch 15/50\n",
      "11250/11250 [==============================] - 93s 8ms/step - loss: 0.6411 - accuracy: 0.7571 - recall: 0.6800 - precision: 0.8915 - f1_score: 0.7601 - val_loss: 1.0967 - val_accuracy: 0.6581 - val_recall: 0.6126 - val_precision: 0.7360 - val_f1_score: 0.3572\n",
      "Epoch 16/50\n",
      "11250/11250 [==============================] - 93s 8ms/step - loss: 0.6397 - accuracy: 0.7574 - recall: 0.6810 - precision: 0.8912 - f1_score: 0.7601 - val_loss: 1.0952 - val_accuracy: 0.6427 - val_recall: 0.6210 - val_precision: 0.7264 - val_f1_score: 0.3439\n",
      "Epoch 17/50\n",
      "11250/11250 [==============================] - 92s 8ms/step - loss: 0.6392 - accuracy: 0.7586 - recall: 0.6814 - precision: 0.8922 - f1_score: 0.7615 - val_loss: 1.0065 - val_accuracy: 0.6823 - val_recall: 0.6286 - val_precision: 0.7713 - val_f1_score: 0.3634\n",
      "Epoch 18/50\n",
      "11250/11250 [==============================] - 92s 8ms/step - loss: 0.6383 - accuracy: 0.7587 - recall: 0.6815 - precision: 0.8928 - f1_score: 0.7617 - val_loss: 1.0139 - val_accuracy: 0.6543 - val_recall: 0.6181 - val_precision: 0.7519 - val_f1_score: 0.3534\n",
      "Epoch 19/50\n",
      "11250/11250 [==============================] - 91s 8ms/step - loss: 0.6360 - accuracy: 0.7591 - recall: 0.6824 - precision: 0.8930 - f1_score: 0.7621 - val_loss: 0.9973 - val_accuracy: 0.6811 - val_recall: 0.6278 - val_precision: 0.7647 - val_f1_score: 0.3569\n",
      "Epoch 20/50\n",
      "11250/11250 [==============================] - 92s 8ms/step - loss: 0.6347 - accuracy: 0.7598 - recall: 0.6830 - precision: 0.8937 - f1_score: 0.7629 - val_loss: 1.0128 - val_accuracy: 0.6710 - val_recall: 0.6282 - val_precision: 0.7704 - val_f1_score: 0.3559\n",
      "Epoch 21/50\n",
      "11250/11250 [==============================] - 92s 8ms/step - loss: 0.6336 - accuracy: 0.7597 - recall: 0.6839 - precision: 0.8941 - f1_score: 0.7627 - val_loss: 1.0294 - val_accuracy: 0.6734 - val_recall: 0.6292 - val_precision: 0.7703 - val_f1_score: 0.3565\n",
      "Epoch 22/50\n",
      "11250/11250 [==============================] - 91s 8ms/step - loss: 0.6333 - accuracy: 0.7610 - recall: 0.6839 - precision: 0.8945 - f1_score: 0.7639 - val_loss: 1.0486 - val_accuracy: 0.6565 - val_recall: 0.6140 - val_precision: 0.7464 - val_f1_score: 0.3501\n",
      "Epoch 23/50\n",
      "11250/11250 [==============================] - 92s 8ms/step - loss: 0.6329 - accuracy: 0.7599 - recall: 0.6843 - precision: 0.8943 - f1_score: 0.7629 - val_loss: 1.0171 - val_accuracy: 0.6778 - val_recall: 0.6322 - val_precision: 0.7719 - val_f1_score: 0.3600\n",
      "Epoch 24/50\n",
      "11250/11250 [==============================] - 92s 8ms/step - loss: 0.6314 - accuracy: 0.7610 - recall: 0.6858 - precision: 0.8955 - f1_score: 0.7641 - val_loss: 0.9945 - val_accuracy: 0.6681 - val_recall: 0.6363 - val_precision: 0.7753 - val_f1_score: 0.3850\n",
      "Epoch 25/50\n",
      "11250/11250 [==============================] - 92s 8ms/step - loss: 0.6306 - accuracy: 0.7612 - recall: 0.6851 - precision: 0.8951 - f1_score: 0.7643 - val_loss: 1.1047 - val_accuracy: 0.6686 - val_recall: 0.6269 - val_precision: 0.7710 - val_f1_score: 0.3538\n",
      "Epoch 26/50\n",
      "11250/11250 [==============================] - 92s 8ms/step - loss: 0.6295 - accuracy: 0.7620 - recall: 0.6864 - precision: 0.8951 - f1_score: 0.7651 - val_loss: 1.0015 - val_accuracy: 0.6588 - val_recall: 0.6238 - val_precision: 0.7540 - val_f1_score: 0.3510\n",
      "Epoch 27/50\n",
      "11250/11250 [==============================] - 92s 8ms/step - loss: 0.6279 - accuracy: 0.7623 - recall: 0.6867 - precision: 0.8955 - f1_score: 0.7654 - val_loss: 1.0053 - val_accuracy: 0.6725 - val_recall: 0.6210 - val_precision: 0.7524 - val_f1_score: 0.3546\n",
      "Epoch 28/50\n",
      "11250/11250 [==============================] - 92s 8ms/step - loss: 0.6285 - accuracy: 0.7625 - recall: 0.6870 - precision: 0.8963 - f1_score: 0.7656 - val_loss: 0.9863 - val_accuracy: 0.6865 - val_recall: 0.6399 - val_precision: 0.7751 - val_f1_score: 0.3761\n",
      "Epoch 29/50\n",
      "11250/11250 [==============================] - 93s 8ms/step - loss: 0.6273 - accuracy: 0.7624 - recall: 0.6872 - precision: 0.8959 - f1_score: 0.7654 - val_loss: 1.0407 - val_accuracy: 0.6439 - val_recall: 0.6137 - val_precision: 0.7394 - val_f1_score: 0.3477\n",
      "Epoch 30/50\n",
      "11250/11250 [==============================] - 92s 8ms/step - loss: 0.6264 - accuracy: 0.7626 - recall: 0.6883 - precision: 0.8963 - f1_score: 0.7657 - val_loss: 0.9642 - val_accuracy: 0.6621 - val_recall: 0.6190 - val_precision: 0.7491 - val_f1_score: 0.3548\n",
      "Epoch 31/50\n",
      "11250/11250 [==============================] - 92s 8ms/step - loss: 0.6256 - accuracy: 0.7635 - recall: 0.6885 - precision: 0.8964 - f1_score: 0.7665 - val_loss: 0.9974 - val_accuracy: 0.6709 - val_recall: 0.6216 - val_precision: 0.7556 - val_f1_score: 0.3615\n",
      "Epoch 32/50\n",
      "11250/11250 [==============================] - 93s 8ms/step - loss: 0.6240 - accuracy: 0.7642 - recall: 0.6890 - precision: 0.8974 - f1_score: 0.7672 - val_loss: 1.0339 - val_accuracy: 0.6623 - val_recall: 0.6228 - val_precision: 0.7573 - val_f1_score: 0.3532\n",
      "Epoch 33/50\n",
      "11250/11250 [==============================] - 91s 8ms/step - loss: 0.6228 - accuracy: 0.7646 - recall: 0.6899 - precision: 0.8980 - f1_score: 0.7675 - val_loss: 0.9666 - val_accuracy: 0.6752 - val_recall: 0.6294 - val_precision: 0.7874 - val_f1_score: 0.3584\n",
      "Epoch 34/50\n",
      "11250/11250 [==============================] - 92s 8ms/step - loss: 0.6243 - accuracy: 0.7638 - recall: 0.6892 - precision: 0.8971 - f1_score: 0.7666 - val_loss: 1.0833 - val_accuracy: 0.6700 - val_recall: 0.6294 - val_precision: 0.7560 - val_f1_score: 0.3743\n",
      "Epoch 35/50\n",
      "11250/11250 [==============================] - 92s 8ms/step - loss: 0.6234 - accuracy: 0.7640 - recall: 0.6900 - precision: 0.8977 - f1_score: 0.7670 - val_loss: 0.9125 - val_accuracy: 0.6734 - val_recall: 0.6278 - val_precision: 0.7706 - val_f1_score: 0.3702\n",
      "Epoch 36/50\n",
      "11250/11250 [==============================] - 92s 8ms/step - loss: 0.6220 - accuracy: 0.7644 - recall: 0.6907 - precision: 0.8982 - f1_score: 0.7673 - val_loss: 1.0348 - val_accuracy: 0.6695 - val_recall: 0.6269 - val_precision: 0.7696 - val_f1_score: 0.3571\n",
      "Epoch 37/50\n",
      "11250/11250 [==============================] - 93s 8ms/step - loss: 0.6208 - accuracy: 0.7645 - recall: 0.6906 - precision: 0.8979 - f1_score: 0.7674 - val_loss: 1.0450 - val_accuracy: 0.6733 - val_recall: 0.6229 - val_precision: 0.7903 - val_f1_score: 0.3581\n",
      "Epoch 38/50\n",
      "11250/11250 [==============================] - 93s 8ms/step - loss: 0.6216 - accuracy: 0.7645 - recall: 0.6899 - precision: 0.8983 - f1_score: 0.7675 - val_loss: 1.0590 - val_accuracy: 0.6446 - val_recall: 0.6154 - val_precision: 0.7393 - val_f1_score: 0.3375\n",
      "Epoch 39/50\n",
      "11250/11250 [==============================] - 92s 8ms/step - loss: 0.6206 - accuracy: 0.7648 - recall: 0.6904 - precision: 0.8983 - f1_score: 0.7678 - val_loss: 1.0319 - val_accuracy: 0.6730 - val_recall: 0.6298 - val_precision: 0.7744 - val_f1_score: 0.3601\n",
      "Epoch 40/50\n",
      "11250/11250 [==============================] - 91s 8ms/step - loss: 0.6183 - accuracy: 0.7661 - recall: 0.6920 - precision: 0.8991 - f1_score: 0.7688 - val_loss: 1.0303 - val_accuracy: 0.6711 - val_recall: 0.6256 - val_precision: 0.7593 - val_f1_score: 0.3579\n",
      "Epoch 41/50\n",
      "11250/11250 [==============================] - 92s 8ms/step - loss: 0.6185 - accuracy: 0.7669 - recall: 0.6923 - precision: 0.8994 - f1_score: 0.7698 - val_loss: 1.0495 - val_accuracy: 0.6600 - val_recall: 0.6204 - val_precision: 0.7535 - val_f1_score: 0.3470\n",
      "Epoch 42/50\n",
      "11250/11250 [==============================] - 92s 8ms/step - loss: 0.6175 - accuracy: 0.7665 - recall: 0.6920 - precision: 0.8993 - f1_score: 0.7693 - val_loss: 1.0666 - val_accuracy: 0.6732 - val_recall: 0.6269 - val_precision: 0.7599 - val_f1_score: 0.3531\n",
      "Epoch 43/50\n",
      "11250/11250 [==============================] - 91s 8ms/step - loss: 0.6179 - accuracy: 0.7660 - recall: 0.6923 - precision: 0.8993 - f1_score: 0.7686 - val_loss: 1.0924 - val_accuracy: 0.6554 - val_recall: 0.6171 - val_precision: 0.7522 - val_f1_score: 0.3467\n",
      "Epoch 44/50\n",
      "11250/11250 [==============================] - 92s 8ms/step - loss: 0.6166 - accuracy: 0.7670 - recall: 0.6929 - precision: 0.8997 - f1_score: 0.7697 - val_loss: 0.9895 - val_accuracy: 0.6742 - val_recall: 0.6330 - val_precision: 0.7731 - val_f1_score: 0.3795\n",
      "Epoch 45/50\n",
      "11250/11250 [==============================] - 93s 8ms/step - loss: 0.6175 - accuracy: 0.7667 - recall: 0.6923 - precision: 0.8995 - f1_score: 0.7692 - val_loss: 1.0757 - val_accuracy: 0.6766 - val_recall: 0.6427 - val_precision: 0.7739 - val_f1_score: 0.3634\n",
      "Epoch 46/50\n",
      "11250/11250 [==============================] - 92s 8ms/step - loss: 0.6161 - accuracy: 0.7669 - recall: 0.6935 - precision: 0.8998 - f1_score: 0.7695 - val_loss: 0.9806 - val_accuracy: 0.6652 - val_recall: 0.6257 - val_precision: 0.7542 - val_f1_score: 0.3585\n",
      "Epoch 47/50\n",
      "11250/11250 [==============================] - 93s 8ms/step - loss: 0.6153 - accuracy: 0.7671 - recall: 0.6937 - precision: 0.8999 - f1_score: 0.7698 - val_loss: 1.0104 - val_accuracy: 0.6634 - val_recall: 0.6234 - val_precision: 0.7566 - val_f1_score: 0.3375\n",
      "Epoch 48/50\n",
      "11250/11250 [==============================] - 93s 8ms/step - loss: 0.6146 - accuracy: 0.7673 - recall: 0.6939 - precision: 0.8999 - f1_score: 0.7698 - val_loss: 1.0594 - val_accuracy: 0.6866 - val_recall: 0.6350 - val_precision: 0.7895 - val_f1_score: 0.3687\n",
      "Epoch 49/50\n",
      "11250/11250 [==============================] - 93s 8ms/step - loss: 0.6148 - accuracy: 0.7681 - recall: 0.6945 - precision: 0.9005 - f1_score: 0.7705 - val_loss: 1.0076 - val_accuracy: 0.6672 - val_recall: 0.6249 - val_precision: 0.7607 - val_f1_score: 0.3628\n",
      "Epoch 50/50\n",
      "11250/11250 [==============================] - 93s 8ms/step - loss: 0.6135 - accuracy: 0.7678 - recall: 0.6942 - precision: 0.9001 - f1_score: 0.7703 - val_loss: 0.9969 - val_accuracy: 0.6651 - val_recall: 0.6233 - val_precision: 0.7551 - val_f1_score: 0.3394\n"
     ]
    }
   ],
   "source": [
    "#Define epochs and batch size\n",
    "epochs = 50\n",
    "batch_size = 32\n",
    "\n",
    "#Train the model\n",
    "history = model.fit(X_svmsmote, y_svmsmote, epochs=epochs, batch_size=batch_size, validation_data=(X_test, y_test))"
   ]
  },
  {
   "cell_type": "markdown",
   "metadata": {},
   "source": [
    "# Evaluate The Model"
   ]
  },
  {
   "cell_type": "code",
   "execution_count": 30,
   "metadata": {},
   "outputs": [
    {
     "name": "stdout",
     "output_type": "stream",
     "text": [
      "1417/1417 [==============================] - 8s 6ms/step - loss: 0.9969 - accuracy: 0.6651 - recall: 0.6233 - precision: 0.7551 - f1_score: 0.3394\n",
      "Test Loss: 0.9969323873519897\n",
      "Test Accuracy: 0.6650930047035217\n",
      "Test Recall: 0.6232654452323914\n",
      "Test Precision: 0.7550982236862183\n",
      "Test F1-Score: 0.6828773003705287\n"
     ]
    }
   ],
   "source": [
    "#Evaluate the model on test data\n",
    "loss, accuracy, recall, precision, f1_score = model.evaluate(X_test, y_test)\n",
    "f1_score = 2 * (precision * recall) / (precision + recall)\n",
    "\n",
    "print('Test Loss:', loss)\n",
    "print('Test Accuracy:', accuracy)\n",
    "print('Test Recall:', recall)\n",
    "print('Test Precision:', precision)\n",
    "print('Test F1-Score:', f1_score)"
   ]
  },
  {
   "cell_type": "code",
   "execution_count": 31,
   "metadata": {},
   "outputs": [
    {
     "name": "stdout",
     "output_type": "stream",
     "text": [
      "1417/1417 [==============================] - 3s 2ms/step\n"
     ]
    }
   ],
   "source": [
    "# make a predictions\n",
    "predictions = model.predict(X_test)"
   ]
  },
  {
   "cell_type": "code",
   "execution_count": 32,
   "metadata": {},
   "outputs": [],
   "source": [
    "# convert one-hot encode predictions to class labels\n",
    "predicted_classes = np.argmax(predictions, axis=1)\n",
    "y_test_categorical = np.argmax(y_test, axis=1)"
   ]
  },
  {
   "cell_type": "markdown",
   "metadata": {},
   "source": [
    "## Confusion Matrix"
   ]
  },
  {
   "cell_type": "code",
   "execution_count": 33,
   "metadata": {},
   "outputs": [],
   "source": [
    "# function to calculate recall from confusion matrix\n",
    "def calculate_recall(confusion_matrix):\n",
    "    num_class = len(confusion_matrix)\n",
    "    recalls = []\n",
    "\n",
    "    for i in range(num_class):\n",
    "        true_positive = confusion_matrix[i][i]\n",
    "        false_negative = sum(confusion_matrix[i]) - true_positive\n",
    "\n",
    "        recall = true_positive / (true_positive + false_negative)\n",
    "        recalls.append(recall)\n",
    "    \n",
    "    return recalls"
   ]
  },
  {
   "cell_type": "code",
   "execution_count": 34,
   "metadata": {},
   "outputs": [],
   "source": [
    "# function to display the recall score\n",
    "def display_recall(recalls):\n",
    "    print('Recall Scores for each class:')\n",
    "    print('Analysis:', recalls[0])\n",
    "    print('Backdoor:', recalls[1])\n",
    "    print('DoS:', recalls[2])\n",
    "    print('Exploits:', recalls[3])\n",
    "    print('Fuzzers:', recalls[4])\n",
    "    print('Generic:', recalls[5])\n",
    "    print('Reconnaissance:', recalls[6])\n",
    "    print('Shellcode:', recalls[7])\n",
    "    print('Worms:', recalls[8])"
   ]
  },
  {
   "cell_type": "code",
   "execution_count": 35,
   "metadata": {},
   "outputs": [],
   "source": [
    "from sklearn.metrics import confusion_matrix"
   ]
  },
  {
   "cell_type": "code",
   "execution_count": 36,
   "metadata": {},
   "outputs": [],
   "source": [
    "matrix = confusion_matrix(y_test_categorical, predicted_classes)\n",
    "matrix_df = pd.DataFrame(matrix, \n",
    "                         index= ['Analysis', 'Backdoor', 'DoS', 'Exploits', 'Fuzzers', 'Generic', 'Reconnaissance', 'Shellcode', 'Worms'], \n",
    "                         columns= ['Analysis', 'Backdoor', 'DoS', 'Exploits', 'Fuzzers', 'Generic', 'Reconnaissance', 'Shellcode', 'Worms'])"
   ]
  },
  {
   "cell_type": "code",
   "execution_count": 37,
   "metadata": {},
   "outputs": [
    {
     "data": {
      "image/png": "[encoded data removed]",
      "text/plain": [
       "<Figure size 2000x2000 with 2 Axes>"
      ]
     },
     "metadata": {},
     "output_type": "display_data"
    }
   ],
   "source": [
    "# Plotting Confusion Matrix\n",
    "plt.figure(figsize = (20, 20))\n",
    "sns.heatmap(matrix_df, fmt='.0f', annot=True)\n",
    "plt.title('Confusion Matrix (1D CNN)')\n",
    "plt.ylabel('Actual Values')\n",
    "plt.xlabel('Predicted Values')\n",
    "plt.show()"
   ]
  },
  {
   "cell_type": "code",
   "execution_count": 38,
   "metadata": {},
   "outputs": [
    {
     "name": "stdout",
     "output_type": "stream",
     "text": [
      "Recall Scores for each class:\n",
      "Analysis: 0.31314623338257014\n",
      "Backdoor: 0.10634648370497427\n",
      "DoS: 0.17168011738811445\n",
      "Exploits: 0.636061450004492\n",
      "Fuzzers: 0.5294505857119287\n",
      "Generic: 0.9621641672407397\n",
      "Reconnaissance: 0.10529327610872675\n",
      "Shellcode: 0.8624338624338624\n",
      "Worms: 0.7272727272727273\n"
     ]
    }
   ],
   "source": [
    "recalls = calculate_recall(matrix)\n",
    "display_recall(recalls)"
   ]
  },
  {
   "cell_type": "markdown",
   "metadata": {},
   "source": [
    "## Save and load the model"
   ]
  },
  {
   "cell_type": "code",
   "execution_count": 39,
   "metadata": {},
   "outputs": [],
   "source": [
    "from keras.models import load_model"
   ]
  },
  {
   "cell_type": "code",
   "execution_count": 40,
   "metadata": {},
   "outputs": [],
   "source": [
    "# save the 1D CNN trained model using keras\n",
    "model.save('/Data/Visual Studio Code/Data-Science/Notebook/UNSW-NB15/CNN/Balanced/SVMSMOTE/Saved/cnn1d.keras')"
   ]
  },
  {
   "cell_type": "code",
   "execution_count": 41,
   "metadata": {},
   "outputs": [],
   "source": [
    "# load the 1D CNN trained model using keras\n",
    "model = load_model('/Data/Visual Studio Code/Data-Science/Notebook/UNSW-NB15/CNN/Balanced/SVMSMOTE/Saved/cnn1d.keras')"
   ]
  },
  {
   "cell_type": "markdown",
   "metadata": {},
   "source": [
    "## Save and load the predicted"
   ]
  },
  {
   "cell_type": "code",
   "execution_count": 42,
   "metadata": {},
   "outputs": [],
   "source": [
    "import joblib"
   ]
  },
  {
   "cell_type": "code",
   "execution_count": 43,
   "metadata": {},
   "outputs": [
    {
     "data": {
      "text/plain": [
       "['/Data/Visual Studio Code/Data-Science/Notebook/UNSW-NB15/CNN/Balanced/SVMSMOTE/Saved/predicted_classes.joblib']"
      ]
     },
     "execution_count": 43,
     "metadata": {},
     "output_type": "execute_result"
    }
   ],
   "source": [
    "# save predicted\n",
    "joblib.dump(predicted_classes, '/Data/Visual Studio Code/Data-Science/Notebook/UNSW-NB15/CNN/Balanced/SVMSMOTE/Saved/predicted_classes.joblib', compress=('zlib', 3))"
   ]
  },
  {
   "cell_type": "code",
   "execution_count": 44,
   "metadata": {},
   "outputs": [],
   "source": [
    "# load the predicted\n",
    "predicted_classes = joblib.load('/Data/Visual Studio Code/Data-Science/Notebook/UNSW-NB15/CNN/Balanced/SVMSMOTE/Saved/predicted_classes.joblib')"
   ]
  },
  {
   "cell_type": "markdown",
   "metadata": {},
   "source": [
    "## Save and load X_svmsmote, y_svmsmote"
   ]
  },
  {
   "cell_type": "code",
   "execution_count": 45,
   "metadata": {},
   "outputs": [
    {
     "data": {
      "text/plain": [
       "['/Data/Visual Studio Code/Data-Science/Notebook/UNSW-NB15/CNN/Balanced/SVMSMOTE/Saved/y_svmsmote.joblib']"
      ]
     },
     "execution_count": 45,
     "metadata": {},
     "output_type": "execute_result"
    }
   ],
   "source": [
    "# save X_svmsmote and y_svmsmote\n",
    "joblib.dump(X_svmsmote, '/Data/Visual Studio Code/Data-Science/Notebook/UNSW-NB15/CNN/Balanced/SVMSMOTE/Saved/X_svmsmote.joblib', compress=('zlib', 3))\n",
    "joblib.dump(y_svmsmote, '/Data/Visual Studio Code/Data-Science/Notebook/UNSW-NB15/CNN/Balanced/SVMSMOTE/Saved/y_svmsmote.joblib', compress=('zlib', 3))"
   ]
  },
  {
   "cell_type": "code",
   "execution_count": null,
   "metadata": {},
   "outputs": [],
   "source": [
    "# load the predicted\n",
    "X_svmsmote = joblib.load('/Data/Visual Studio Code/Data-Science/Notebook/UNSW-NB15/CNN/Balanced/SVMSMOTE/Saved/X_svmsmote.joblib')\n",
    "y_svmsmote = joblib.load('/Data/Visual Studio Code/Data-Science/Notebook/UNSW-NB15/CNN/Balanced/SVMSMOTE/Saved/y_svmsmote.joblib')"
   ]
  }
 ],
 "metadata": {
  "kernelspec": {
   "display_name": "myenv",
   "language": "python",
   "name": "python3"
  },
  "language_info": {
   "codemirror_mode": {
    "name": "ipython",
    "version": 3
   },
   "file_extension": ".py",
   "mimetype": "text/x-python",
   "name": "python",
   "nbconvert_exporter": "python",
   "pygments_lexer": "ipython3",
   "version": "3.10.13"
  },
  "orig_nbformat": 4
 },
 "nbformat": 4,
 "nbformat_minor": 2
}
