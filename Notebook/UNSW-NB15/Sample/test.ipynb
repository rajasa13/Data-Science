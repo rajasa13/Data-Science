{
 "cells": [
  {
   "cell_type": "code",
   "execution_count": 1,
   "metadata": {},
   "outputs": [],
   "source": [
    "import pandas as pd\n",
    "import numpy as np"
   ]
  },
  {
   "cell_type": "code",
   "execution_count": 2,
   "metadata": {},
   "outputs": [],
   "source": [
    "data_test = pd.read_csv('/Data/Visual Studio Code/Data Science/Dataset/UNSW-NB15/UNSW_NB15_testing-set.csv')"
   ]
  },
  {
   "cell_type": "code",
   "execution_count": 3,
   "metadata": {},
   "outputs": [],
   "source": [
    "data_test_attack = data_test[data_test['label'] == 1]"
   ]
  },
  {
   "cell_type": "code",
   "execution_count": 4,
   "metadata": {},
   "outputs": [],
   "source": [
    "data_test_attack = data_test_attack.drop('id', axis=1)\n",
    "data_test_attack = data_test_attack.drop('label', axis=1)"
   ]
  },
  {
   "cell_type": "code",
   "execution_count": 5,
   "metadata": {},
   "outputs": [],
   "source": [
    "data_test_attack = data_test_attack[(data_test_attack['state'] != 'RST')]"
   ]
  },
  {
   "cell_type": "code",
   "execution_count": 6,
   "metadata": {},
   "outputs": [
    {
     "data": {
      "text/plain": [
       "['proto', 'state', 'service']"
      ]
     },
     "execution_count": 6,
     "metadata": {},
     "output_type": "execute_result"
    }
   ],
   "source": [
    "#column to encode\n",
    "cols = ['proto','state','service']\n",
    "cols"
   ]
  },
  {
   "cell_type": "code",
   "execution_count": 7,
   "metadata": {},
   "outputs": [],
   "source": [
    "# Encode test data\n",
    "data_test_attack = pd.get_dummies(data_test_attack, columns=cols)"
   ]
  },
  {
   "cell_type": "code",
   "execution_count": 8,
   "metadata": {},
   "outputs": [
    {
     "data": {
      "text/plain": [
       "attack_cat\n",
       "Analysis           2000\n",
       "Backdoor           1746\n",
       "DoS               12262\n",
       "Exploits          33386\n",
       "Fuzzers           18184\n",
       "Generic           39999\n",
       "Reconnaissance    10489\n",
       "Shellcode          1133\n",
       "Worms               130\n",
       "Name: count, dtype: int64"
      ]
     },
     "execution_count": 8,
     "metadata": {},
     "output_type": "execute_result"
    }
   ],
   "source": [
    "data_test_attack['attack_cat'].value_counts().sort_index(ascending=True)"
   ]
  },
  {
   "cell_type": "code",
   "execution_count": 9,
   "metadata": {},
   "outputs": [],
   "source": [
    "# Filter rows with 'Analysis' in the 'attack_cat' column\n",
    "analysis_data = data_test_attack[data_test_attack['attack_cat'] == 'Analysis']\n",
    "\n",
    "# Filter rows with 'Backdoor' in the 'attack_cat' column\n",
    "backdoor_data = data_test_attack[data_test_attack['attack_cat'] == 'Backdoor']\n",
    "\n",
    "# Filter rows with 'DoS' in the 'attack_cat' column\n",
    "dos_data = data_test_attack[data_test_attack['attack_cat'] == 'DoS']\n",
    "\n",
    "# Filter rows with 'Exploits' in the 'attack_cat' column\n",
    "exploits_data = data_test_attack[data_test_attack['attack_cat'] == 'Exploits']\n",
    "\n",
    "# Filter rows with 'Fuzzers' in the 'attack_cat' column\n",
    "fuzzers_data = data_test_attack[data_test_attack['attack_cat'] == 'Fuzzers']\n",
    "\n",
    "# Filter rows with 'Generic' in the 'attack_cat' column\n",
    "generic_data = data_test_attack[data_test_attack['attack_cat'] == 'Generic']\n",
    "\n",
    "# Filter rows with 'Reconnaissance' in the 'attack_cat' column\n",
    "reconnaissance_data = data_test_attack[data_test_attack['attack_cat'] == 'Reconnaissance']\n",
    "\n",
    "# Filter rows with 'Shellcode' in the 'attack_cat' column\n",
    "shellcode_data = data_test_attack[data_test_attack['attack_cat'] == 'Shellcode']\n",
    "\n",
    "# Filter rows with 'Worms' in the 'attack_cat' column\n",
    "worms_data = data_test_attack[data_test_attack['attack_cat'] == 'Worms']"
   ]
  },
  {
   "cell_type": "code",
   "execution_count": 10,
   "metadata": {},
   "outputs": [],
   "source": [
    "# Randomly pick one sample from 'Analysis'\n",
    "analysis_sample = analysis_data.sample(n=1, random_state=np.random.seed())\n",
    "\n",
    "# Randomly pick one sample from 'Backdoor'\n",
    "backdoor_sample = backdoor_data.sample(n=1, random_state=np.random.seed())\n",
    "\n",
    "# Randomly pick one sample from 'DoS'\n",
    "dos_sample = dos_data.sample(n=1, random_state=np.random.seed())\n",
    "\n",
    "# Randomly pick one sample from 'Exploits'\n",
    "exploits_sample = exploits_data.sample(n=1, random_state=np.random.seed())\n",
    "\n",
    "# Randomly pick one sample from 'Fuzzers'\n",
    "fuzzers_sample = fuzzers_data.sample(n=1, random_state=np.random.seed())\n",
    "\n",
    "# Randomly pick one sample from 'Generic'\n",
    "generic_sample = generic_data.sample(n=1, random_state=np.random.seed())\n",
    "\n",
    "# Randomly pick one sample from 'Reconnaissance'\n",
    "reconnaissance_sample = reconnaissance_data.sample(n=1, random_state=np.random.seed())\n",
    "\n",
    "# Randomly pick one sample from 'Shellcode'\n",
    "shellcode_sample = shellcode_data.sample(n=1, random_state=np.random.seed())\n",
    "\n",
    "# Randomly pick one sample from 'Worms'\n",
    "worms_sample = worms_data.sample(n=1, random_state=np.random.seed())"
   ]
  },
  {
   "cell_type": "code",
   "execution_count": null,
   "metadata": {},
   "outputs": [],
   "source": [
    "analysis_sample.to_csv('D:/Data/Visual Studio Code/Data Science/Notebook/UNSW-NB15/Sample', index=False)\n",
    "backdoor_sample.to_csv('D:/Data/Visual Studio Code/Data Science/Notebook/UNSW-NB15/Sample', index=False)\n",
    "dos_sample.to_csv('D:/Data/Visual Studio Code/Data Science/Notebook/UNSW-NB15/Sample', index=False)\n",
    "exploits_sample.to_csv('D:/Data/Visual Studio Code/Data Science/Notebook/UNSW-NB15/Sample', index=False)\n",
    "fuzzers_sample.to_csv('D:/Data/Visual Studio Code/Data Science/Notebook/UNSW-NB15/Sample', index=False)\n",
    "generic_sample.to_csv('D:/Data/Visual Studio Code/Data Science/Notebook/UNSW-NB15/Sample', index=False)\n",
    "reconnaissance_sample.to_csv('D:/Data/Visual Studio Code/Data Science/Notebook/UNSW-NB15/Sample', index=False)\n",
    "shellcode_sample.to_csv('D:/Data/Visual Studio Code/Data Science/Notebook/UNSW-NB15/Sample', index=False)\n",
    "worms_sample.to_csv('D:/Data/Visual Studio Code/Data Science/Notebook/UNSW-NB15/Sample', index=False)"
   ]
  },
  {
   "cell_type": "code",
   "execution_count": null,
   "metadata": {},
   "outputs": [],
   "source": [
    "test_attack_cat = data_test_attack.pop('attack_cat')"
   ]
  },
  {
   "cell_type": "code",
   "execution_count": null,
   "metadata": {},
   "outputs": [],
   "source": [
    "# Min-Max Normalization\n",
    "from sklearn.preprocessing import MinMaxScaler\n",
    "\n",
    "scaler = MinMaxScaler()\n",
    "cols_to_norm = ['dur', 'spkts', 'dpkts', 'sbytes', 'dbytes', 'rate', 'sttl', 'dttl', 'sload', \n",
    "                'dload', 'sloss', 'dloss', 'sinpkt', 'dinpkt', 'sjit', 'djit', 'swin', 'stcpb', 'dtcpb', 'dwin', 'tcprtt', 'synack', \n",
    "                'ackdat', 'smean', 'dmean', 'trans_depth', 'response_body_len', 'ct_srv_src', 'ct_state_ttl', 'ct_dst_ltm', \n",
    "                'ct_src_dport_ltm', 'ct_dst_sport_ltm', 'ct_dst_src_ltm', 'is_ftp_login', 'ct_ftp_cmd', 'ct_flw_http_mthd', 'ct_src_ltm', \n",
    "                'ct_srv_dst', 'is_sm_ips_ports']\n",
    "\n",
    "data_test_attack[cols_to_norm] = scaler.fit_transform(data_test_attack[cols_to_norm])"
   ]
  },
  {
   "cell_type": "code",
   "execution_count": null,
   "metadata": {},
   "outputs": [],
   "source": [
    "X_test = data_test_attack.drop(columns=['dinpkt', 'ct_ftp_cmd', 'ct_src_dport_ltm', 'is_sm_ips_ports'])\n",
    "y_test = test_attack_cat"
   ]
  },
  {
   "cell_type": "code",
   "execution_count": null,
   "metadata": {},
   "outputs": [],
   "source": [
    "from keras.utils import to_categorical"
   ]
  },
  {
   "cell_type": "code",
   "execution_count": null,
   "metadata": {},
   "outputs": [],
   "source": [
    "attack_cat_mapping = {\n",
    "    \"Analysis\": 0,\n",
    "    \"Backdoor\": 1,\n",
    "    \"DoS\": 2,\n",
    "    \"Exploits\": 3,\n",
    "    \"Fuzzers\": 4,\n",
    "    \"Generic\": 5,\n",
    "    \"Reconnaissance\": 6,\n",
    "    \"Shellcode\": 7,\n",
    "    \"Worms\": 8\n",
    "}\n",
    "\n",
    "num_class = 9\n",
    "# Replace values in the 'attack_cat' column with their encoded counterparts\n",
    "y_test = test_attack_cat['attack_cat'].map(attack_cat_mapping)\n",
    "y_test = to_categorical(y_test, num_class)\n",
    "X_test = np.array(X_test, dtype=np.float32)"
   ]
  },
  {
   "cell_type": "code",
   "execution_count": null,
   "metadata": {},
   "outputs": [],
   "source": [
    "# make a predictions\n",
    "predictions = model.predict(X_test)"
   ]
  }
 ],
 "metadata": {
  "kernelspec": {
   "display_name": "tf_gpu",
   "language": "python",
   "name": "python3"
  },
  "language_info": {
   "codemirror_mode": {
    "name": "ipython",
    "version": 3
   },
   "file_extension": ".py",
   "mimetype": "text/x-python",
   "name": "python",
   "nbconvert_exporter": "python",
   "pygments_lexer": "ipython3",
   "version": "3.10.13"
  }
 },
 "nbformat": 4,
 "nbformat_minor": 2
}
