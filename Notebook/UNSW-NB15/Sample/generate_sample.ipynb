{
 "cells": [
  {
   "cell_type": "code",
   "execution_count": 17,
   "metadata": {},
   "outputs": [],
   "source": [
    "import pandas as pd\n",
    "import numpy as np\n",
    "from sklearn.preprocessing import MinMaxScaler"
   ]
  },
  {
   "cell_type": "code",
   "execution_count": 18,
   "metadata": {},
   "outputs": [],
   "source": [
    "data_test = pd.read_csv('/Data/Visual Studio Code/Data-Science/Dataset/UNSW-NB15/UNSW_NB15_testing-set.csv')"
   ]
  },
  {
   "cell_type": "code",
   "execution_count": 19,
   "metadata": {},
   "outputs": [],
   "source": [
    "data_test_attack = data_test[data_test['label'] == 1]"
   ]
  },
  {
   "cell_type": "code",
   "execution_count": 20,
   "metadata": {},
   "outputs": [],
   "source": [
    "data_test_attack = data_test_attack.drop('id', axis=1)\n",
    "data_test_attack = data_test_attack.drop('label', axis=1)"
   ]
  },
  {
   "cell_type": "code",
   "execution_count": 21,
   "metadata": {},
   "outputs": [],
   "source": [
    "data_test_attack = data_test_attack[(data_test_attack['state'] != 'ACC') & (data_test_attack['state'] != 'CLO')]"
   ]
  },
  {
   "cell_type": "code",
   "execution_count": 22,
   "metadata": {},
   "outputs": [
    {
     "data": {
      "text/plain": [
       "['proto', 'state', 'service']"
      ]
     },
     "execution_count": 22,
     "metadata": {},
     "output_type": "execute_result"
    }
   ],
   "source": [
    "#column to encode\n",
    "cols = ['proto','state','service']\n",
    "cols"
   ]
  },
  {
   "cell_type": "code",
   "execution_count": 23,
   "metadata": {},
   "outputs": [],
   "source": [
    "# Encode test data\n",
    "data_test_attack = pd.get_dummies(data_test_attack, columns=cols)"
   ]
  },
  {
   "cell_type": "code",
   "execution_count": 24,
   "metadata": {},
   "outputs": [],
   "source": [
    "# Min-Max Normalization\n",
    "scaler = MinMaxScaler()\n",
    "cols_to_norm = ['dur', 'spkts', 'dpkts', 'sbytes', 'dbytes', 'rate', 'sttl', 'dttl', 'sload', \n",
    "                'dload', 'sloss', 'dloss', 'sinpkt', 'dinpkt', 'sjit', 'djit', 'swin', 'stcpb', 'dtcpb', 'dwin', 'tcprtt', 'synack', \n",
    "                'ackdat', 'smean', 'dmean', 'trans_depth', 'response_body_len', 'ct_srv_src', 'ct_state_ttl', 'ct_dst_ltm', \n",
    "                'ct_src_dport_ltm', 'ct_dst_sport_ltm', 'ct_dst_src_ltm', 'is_ftp_login', 'ct_ftp_cmd', 'ct_flw_http_mthd', 'ct_src_ltm', \n",
    "                'ct_srv_dst', 'is_sm_ips_ports']\n",
    "\n",
    "data_test_attack[cols_to_norm] = scaler.fit_transform(data_test_attack[cols_to_norm])"
   ]
  },
  {
   "cell_type": "code",
   "execution_count": 25,
   "metadata": {},
   "outputs": [
    {
     "data": {
      "text/plain": [
       "attack_cat\n",
       "Analysis            677\n",
       "Backdoor            583\n",
       "DoS                4089\n",
       "Exploits          11131\n",
       "Fuzzers            6061\n",
       "Generic           18871\n",
       "Reconnaissance     3495\n",
       "Shellcode           378\n",
       "Worms                44\n",
       "Name: count, dtype: int64"
      ]
     },
     "execution_count": 25,
     "metadata": {},
     "output_type": "execute_result"
    }
   ],
   "source": [
    "data_test_attack['attack_cat'].value_counts().sort_index(ascending=True)"
   ]
  },
  {
   "cell_type": "code",
   "execution_count": 26,
   "metadata": {},
   "outputs": [],
   "source": [
    "# Filter rows with 'Analysis' in the 'attack_cat' column\n",
    "analysis_data = data_test_attack[data_test_attack['attack_cat'] == 'Analysis']\n",
    "\n",
    "# Filter rows with 'Backdoor' in the 'attack_cat' column\n",
    "backdoor_data = data_test_attack[data_test_attack['attack_cat'] == 'Backdoor']\n",
    "\n",
    "# Filter rows with 'DoS' in the 'attack_cat' column\n",
    "dos_data = data_test_attack[data_test_attack['attack_cat'] == 'DoS']\n",
    "\n",
    "# Filter rows with 'Exploits' in the 'attack_cat' column\n",
    "exploits_data = data_test_attack[data_test_attack['attack_cat'] == 'Exploits']\n",
    "\n",
    "# Filter rows with 'Fuzzers' in the 'attack_cat' column\n",
    "fuzzers_data = data_test_attack[data_test_attack['attack_cat'] == 'Fuzzers']\n",
    "\n",
    "# Filter rows with 'Generic' in the 'attack_cat' column\n",
    "generic_data = data_test_attack[data_test_attack['attack_cat'] == 'Generic']\n",
    "\n",
    "# Filter rows with 'Reconnaissance' in the 'attack_cat' column\n",
    "reconnaissance_data = data_test_attack[data_test_attack['attack_cat'] == 'Reconnaissance']\n",
    "\n",
    "# Filter rows with 'Shellcode' in the 'attack_cat' column\n",
    "shellcode_data = data_test_attack[data_test_attack['attack_cat'] == 'Shellcode']\n",
    "\n",
    "# Filter rows with 'Worms' in the 'attack_cat' column\n",
    "worms_data = data_test_attack[data_test_attack['attack_cat'] == 'Worms']"
   ]
  },
  {
   "cell_type": "code",
   "execution_count": 27,
   "metadata": {},
   "outputs": [],
   "source": [
    "analysis_data = analysis_data.reset_index(drop=True)\n",
    "backdoor_data = backdoor_data.reset_index(drop=True)\n",
    "dos_data = dos_data.reset_index(drop=True)\n",
    "exploits_data = exploits_data.reset_index(drop=True)\n",
    "fuzzers_data = fuzzers_data.reset_index(drop=True)\n",
    "generic_data = generic_data.reset_index(drop=True)\n",
    "reconnaissance_data = reconnaissance_data.reset_index(drop=True)\n",
    "shellcode_data = shellcode_data.reset_index(drop=True)\n",
    "worms_data = worms_data.reset_index(drop=True)"
   ]
  },
  {
   "cell_type": "code",
   "execution_count": 28,
   "metadata": {},
   "outputs": [],
   "source": [
    "# Randomly pick one sample from 'Analysis'\n",
    "analysis_sample = analysis_data.sample(n=1, random_state=np.random.seed())\n",
    "\n",
    "# Randomly pick one sample from 'Backdoor'\n",
    "backdoor_sample = backdoor_data.sample(n=1, random_state=np.random.seed())\n",
    "\n",
    "# Randomly pick one sample from 'DoS'\n",
    "dos_sample = dos_data.sample(n=1, random_state=np.random.seed())\n",
    "\n",
    "# Randomly pick one sample from 'Exploits'\n",
    "exploits_sample = exploits_data.sample(n=1, random_state=np.random.seed())\n",
    "\n",
    "# Randomly pick one sample from 'Fuzzers'\n",
    "fuzzers_sample = fuzzers_data.sample(n=1, random_state=np.random.seed())\n",
    "\n",
    "# Randomly pick one sample from 'Generic'\n",
    "generic_sample = generic_data.sample(n=1, random_state=np.random.seed())\n",
    "\n",
    "# Randomly pick one sample from 'Reconnaissance'\n",
    "reconnaissance_sample = reconnaissance_data.sample(n=1, random_state=np.random.seed())\n",
    "\n",
    "# Randomly pick one sample from 'Shellcode'\n",
    "shellcode_sample = shellcode_data.sample(n=1, random_state=np.random.seed())\n",
    "\n",
    "# Randomly pick one sample from 'Worms'\n",
    "worms_sample = worms_data.sample(n=1, random_state=np.random.seed())"
   ]
  },
  {
   "cell_type": "code",
   "execution_count": 29,
   "metadata": {},
   "outputs": [
    {
     "name": "stdout",
     "output_type": "stream",
     "text": [
      "Index([405], dtype='int64')\n",
      "Index([539], dtype='int64')\n",
      "Index([3907], dtype='int64')\n",
      "Index([2713], dtype='int64')\n",
      "Index([3377], dtype='int64')\n",
      "Index([14052], dtype='int64')\n",
      "Index([897], dtype='int64')\n",
      "Index([365], dtype='int64')\n",
      "Index([18], dtype='int64')\n"
     ]
    }
   ],
   "source": [
    "print(analysis_sample.index)\n",
    "print(backdoor_sample.index)\n",
    "print(dos_sample.index)\n",
    "print(exploits_sample.index)\n",
    "print(fuzzers_sample.index)\n",
    "print(generic_sample.index)\n",
    "print(reconnaissance_sample.index)\n",
    "print(shellcode_sample.index)\n",
    "print(worms_sample.index)"
   ]
  },
  {
   "cell_type": "code",
   "execution_count": 30,
   "metadata": {},
   "outputs": [],
   "source": [
    "# Save all sample\n",
    "analysis_sample.to_csv('D:/Data/Visual Studio Code/Data-Science/Notebook/UNSW-NB15/Sample/analysis_sample.csv', index=False)\n",
    "backdoor_sample.to_csv('D:/Data/Visual Studio Code/Data-Science/Notebook/UNSW-NB15/Sample/backdoor_sample.csv', index=False)\n",
    "dos_sample.to_csv('D:/Data/Visual Studio Code/Data-Science/Notebook/UNSW-NB15/Sample/dos_sample.csv', index=False)\n",
    "exploits_sample.to_csv('D:/Data/Visual Studio Code/Data-Science/Notebook/UNSW-NB15/Sample/exploits_sample.csv', index=False)\n",
    "fuzzers_sample.to_csv('D:/Data/Visual Studio Code/Data-Science/Notebook/UNSW-NB15/Sample/fuzzers_sample.csv', index=False)\n",
    "generic_sample.to_csv('D:/Data/Visual Studio Code/Data-Science/Notebook/UNSW-NB15/Sample/generic_sample.csv', index=False)\n",
    "reconnaissance_sample.to_csv('D:/Data/Visual Studio Code/Data-Science/Notebook/UNSW-NB15/Sample/reconnaissance_sample.csv', index=False)\n",
    "shellcode_sample.to_csv('D:/Data/Visual Studio Code/Data-Science/Notebook/UNSW-NB15/Sample/shellcode_sample.csv', index=False)\n",
    "worms_sample.to_csv('D:/Data/Visual Studio Code/Data-Science/Notebook/UNSW-NB15/Sample/worms_sample.csv', index=False)"
   ]
  }
 ],
 "metadata": {
  "kernelspec": {
   "display_name": "tf_gpu",
   "language": "python",
   "name": "python3"
  },
  "language_info": {
   "codemirror_mode": {
    "name": "ipython",
    "version": 3
   },
   "file_extension": ".py",
   "mimetype": "text/x-python",
   "name": "python",
   "nbconvert_exporter": "python",
   "pygments_lexer": "ipython3",
   "version": "3.10.11"
  }
 },
 "nbformat": 4,
 "nbformat_minor": 2
}
